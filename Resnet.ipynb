{
 "cells": [
  {
   "cell_type": "code",
   "execution_count": 1,
   "id": "6b605089",
   "metadata": {},
   "outputs": [],
   "source": [
    "import tensorflow as tf"
   ]
  },
  {
   "cell_type": "code",
   "execution_count": 2,
   "id": "c6cc1a38",
   "metadata": {},
   "outputs": [],
   "source": [
    "from tensorflow import keras as keras\n",
    "from keras import layers as layers"
   ]
  },
  {
   "cell_type": "code",
   "execution_count": 3,
   "id": "6c004aea",
   "metadata": {},
   "outputs": [],
   "source": [
    "import os, timeit\n",
    "from skimage.filters import threshold_otsu\n",
    "import numpy as np\n",
    "from math import inf as inf"
   ]
  },
  {
   "cell_type": "code",
   "execution_count": 4,
   "id": "10614a92",
   "metadata": {},
   "outputs": [],
   "source": [
    "import pandas as pd"
   ]
  },
  {
   "cell_type": "code",
   "execution_count": 5,
   "id": "6c9300cb",
   "metadata": {},
   "outputs": [],
   "source": [
    "from spectral.io import envi as envi\n",
    "from spectral import imshow"
   ]
  },
  {
   "cell_type": "code",
   "execution_count": 6,
   "id": "ee790ffe",
   "metadata": {},
   "outputs": [],
   "source": [
    "from sklearn.decomposition import IncrementalPCA"
   ]
  },
  {
   "cell_type": "code",
   "execution_count": 7,
   "id": "bf3717a6",
   "metadata": {},
   "outputs": [],
   "source": [
    "import sys"
   ]
  },
  {
   "cell_type": "code",
   "execution_count": 8,
   "id": "5a3c2830",
   "metadata": {},
   "outputs": [],
   "source": [
    "from tensorflow.keras.utils import set_random_seed\n",
    "set_random_seed(42)"
   ]
  },
  {
   "cell_type": "code",
   "execution_count": 9,
   "id": "3dd26930",
   "metadata": {},
   "outputs": [
    {
     "name": "stdout",
     "output_type": "stream",
     "text": [
      "Num GPUs Available:  0\n"
     ]
    }
   ],
   "source": [
    "print(\"Num GPUs Available: \", len(tf.config.list_physical_devices('GPU')))"
   ]
  },
  {
   "cell_type": "code",
   "execution_count": 10,
   "id": "0f72da7a",
   "metadata": {},
   "outputs": [],
   "source": [
    "from sys import platform\n",
    "DATA_DIRECTORY = \"\"\n",
    "SLASH = \"\"\n",
    "if platform == \"linux\" or platform == \"linux2\":\n",
    "    DATA_DIRECTORY = \"/home/tyagi/Desktop/wheat/data/BULK/\"\n",
    "    SLASH = \"/\"\n",
    "elif platform == \"win32\":\n",
    "    DATA_DIRECTORY = \"D:\\mvl\\wheat\\data\\BULK\\\\\"\n",
    "    SLASH=\"\\\\\""
   ]
  },
  {
   "cell_type": "code",
   "execution_count": 11,
   "id": "5979451f",
   "metadata": {},
   "outputs": [],
   "source": [
    "#Constants\n",
    "BAND_NUMBER = 60\n",
    "FILLED_AREA_RATIO = 0.9\n",
    "TOTAL_IMAGE_COUNT = 8\n",
    "IMAGE_COUNT = int(TOTAL_IMAGE_COUNT/4)\n",
    "NUM_VARIETIES = 4\n",
    "\n",
    "IMAGE_WIDTH = 30\n",
    "IMAGE_HEIGHT = 30"
   ]
  },
  {
   "cell_type": "code",
   "execution_count": 12,
   "id": "066f0249",
   "metadata": {},
   "outputs": [],
   "source": [
    "ACTIVATION_TYPE =  \"relu\"\n",
    "BATCH_SIZE = 2*NUM_VARIETIES\n",
    "LEARNING_RATE_BASE = 0.0001"
   ]
  },
  {
   "cell_type": "code",
   "execution_count": 13,
   "id": "6f32e132",
   "metadata": {},
   "outputs": [],
   "source": [
    "from enum import Enum\n",
    "\n",
    "class filter_method(Enum):\n",
    "    none = 0\n",
    "    snv = 1\n",
    "    msc = 2\n",
    "    savgol = 3\n",
    "    \n",
    "FILTER = filter_method(1).name\n",
    "\n",
    "# to be set if filter chosen is savgol\n",
    "WINDOW = 7\n",
    "ORDER = 2\n",
    "DERIVATIVE = \"none\""
   ]
  },
  {
   "cell_type": "code",
   "execution_count": 14,
   "id": "2e3a1d3a",
   "metadata": {},
   "outputs": [],
   "source": [
    "from enum import Enum\n",
    " \n",
    "class feature_extraction_method(Enum):\n",
    "    none = 0\n",
    "    pca_loading = 1\n",
    "    lda = 2\n",
    "    ipca = 3\n",
    "\n",
    "FEATURE_EXTRACTION = feature_extraction_method(0).name\n",
    "\n",
    "NUM_OF_BANDS = 3\n",
    "if FEATURE_EXTRACTION == \"pca_loading\" or FEATURE_EXTRACTION == \"ipca\":\n",
    "    NUM_OF_BANDS = 8\n",
    "elif FEATURE_EXTRACTION == \"lda\":\n",
    "    NUM_OF_BANDS = 3\n",
    "    assert NUM_OF_BANDS <= min(NUM_VARIETIES-1,168),\"NUM_OF_BANDS is greater.\"\n",
    "\n",
    "\n",
    "REMOVE_NOISY_BANDS = False\n",
    "FIRST_BAND = 15\n",
    "LAST_BAND = 161"
   ]
  },
  {
   "cell_type": "code",
   "execution_count": 15,
   "id": "e61072a5",
   "metadata": {},
   "outputs": [],
   "source": [
    "def start_timer():\n",
    "    print(\"Testing started\")\n",
    "    return timeit.default_timer()\n",
    "\n",
    "def end_timer():\n",
    "    return timeit.default_timer()\n",
    "\n",
    "def show_time(tic,toc): \n",
    "    test_time = toc - tic\n",
    "    print('Testing time (s) = ' + str(test_time) + '\\n')"
   ]
  },
  {
   "cell_type": "code",
   "execution_count": 16,
   "id": "e16e403c",
   "metadata": {},
   "outputs": [],
   "source": [
    "# List for All varieties\n",
    "VARIETIES = []\n",
    "VARIETIES_CODE = {}\n",
    "\n",
    "for name in os.listdir(DATA_DIRECTORY):\n",
    "    if (name.endswith(\".hdr\") or name.endswith(\".bil\")):\n",
    "        continue\n",
    "    VARIETIES_CODE[name] = len(VARIETIES)\n",
    "    VARIETIES.append(name)\n",
    "    if len(VARIETIES)==NUM_VARIETIES:\n",
    "        break"
   ]
  },
  {
   "cell_type": "code",
   "execution_count": 17,
   "id": "72409e2c",
   "metadata": {},
   "outputs": [],
   "source": [
    "def dataset_file_name(variety):\n",
    "    name = \"./dataset/V\"+str(variety).zfill(3)+\"_IC_\"+str(TOTAL_IMAGE_COUNT).zfill(5)+\"_FilledArea_\"+str(FILLED_AREA_RATIO)+\"_NumOfBands_\"+str(NUM_OF_BANDS)+\"_FB_\"+str(FIRST_BAND)+\"_LB_\"+str(LAST_BAND)+\"_BandNo_\"+str(BAND_NUMBER)+\"_ImageHeight_\"+str(IMAGE_HEIGHT)+\"_ImageWidth_\"+str(IMAGE_WIDTH)+\"_FILTER_\"+str(FILTER)+\"_FeatureExtraction_\"+str(FEATURE_EXTRACTION)\n",
    "    if REMOVE_NOISY_BANDS:\n",
    "        name+=\"_REMOVE_NOISY_BANDS_\"+str(REMOVE_NOISY_BANDS)\n",
    "    if FILTER == \"savgol\":\n",
    "        name+=\"_WINDOW_\"+str(WINDOW)+\"_ORDER_\"+str(ORDER)\n",
    "    return name"
   ]
  },
  {
   "cell_type": "code",
   "execution_count": 18,
   "id": "e74afa6d",
   "metadata": {},
   "outputs": [
    {
     "name": "stdout",
     "output_type": "stream",
     "text": [
      "idx:  0\n",
      "idx:  1\n",
      "idx:  2\n",
      "idx:  3\n"
     ]
    }
   ],
   "source": [
    "train_dataset = []\n",
    "train_dataset_label = []\n",
    "test_dataset=[]\n",
    "test_dataset_label = []\n",
    "\n",
    "for idx, v in enumerate(VARIETIES):\n",
    "    print(\"idx: \",idx)\n",
    "    if idx >= NUM_VARIETIES:\n",
    "        break\n",
    "    train_dataset= train_dataset + np.load(dataset_file_name(v)+\"_train_dataset.npy\").tolist()\n",
    "    train_dataset_label = train_dataset_label + np.load(dataset_file_name(v)+\"_train_dataset_label.npy\").tolist()\n",
    "    test_dataset = test_dataset + np.load(dataset_file_name(v)+\"_test_dataset.npy\").tolist()\n",
    "    test_dataset_label = test_dataset_label + np.load(dataset_file_name(v)+\"_test_dataset_label.npy\").tolist()\n",
    "    \n",
    "train_dataset = np.array(train_dataset)\n",
    "train_dataset_label = np.array(train_dataset_label)\n",
    "test_dataset = np.array(test_dataset)\n",
    "test_dataset_label = np.array(test_dataset_label)"
   ]
  },
  {
   "cell_type": "code",
   "execution_count": 19,
   "id": "8e6c0621",
   "metadata": {
    "scrolled": true
   },
   "outputs": [],
   "source": [
    "import matplotlib.pyplot as plt\n",
    "import numpy as np\n",
    "import keras\n",
    "import keras.backend as K\n",
    "import tensorflow as tf\n",
    "from keras.layers import Input, Conv2D, MaxPooling2D, Activation, BatchNormalization, Add, Conv2DTranspose, Flatten, Dense, Conv1D, AveragePooling2D, LeakyReLU, PReLU, GlobalAveragePooling2D\n",
    "from keras.layers.core import Dropout\n",
    "from keras.layers import concatenate\n",
    "from keras.models import Model\n",
    "\n",
    "import os, pdb, timeit\n",
    "import numpy as np\n",
    "from keras.callbacks import TensorBoard\n",
    "from keras.optimizers import Adam\n",
    "\n",
    "from sklearn.metrics import confusion_matrix, precision_recall_fscore_support\n",
    "import matplotlib.cm as cm"
   ]
  },
  {
   "cell_type": "code",
   "execution_count": 20,
   "id": "3f98cd49",
   "metadata": {},
   "outputs": [],
   "source": [
    "def normalizeDataWholeSeed(data,normalization_type='max'):\n",
    "    \n",
    "    if normalization_type == 'max':\n",
    "        for idx in range(data.shape[0]):\n",
    "            data[idx,:,:,:] = data[idx,:,:,:]/np.max(abs(data[idx,:,:,:]))\n",
    "            \n",
    "    elif normalization_type == 'l2norm':\n",
    "        from numpy import linalg as LA\n",
    "        for idx in range(data.shape[0]):\n",
    "            data[idx,:,:,:] = data[idx,:,:,:]/LA.norm(data[idx,:,:,:]) # L2-norm by default        \n",
    "        \n",
    "    return data"
   ]
  },
  {
   "cell_type": "code",
   "execution_count": 21,
   "id": "4ce22266",
   "metadata": {},
   "outputs": [],
   "source": [
    "def make_hyperparam_string(USE_DATA_AUG, learning_rate_base, batch_size, kernel_size, dropout_rate, num_training,\n",
    "                           num_nodes_fc, activation_type):\n",
    "    hparam = \"\"\n",
    "\n",
    "    # Hyper-parameters\n",
    "    if USE_DATA_AUG:\n",
    "        hparam += \"AUG_\"\n",
    "\n",
    "    hparam += str(num_nodes_fc) + \"nodes_\" + str(learning_rate_base) + \"lr_\" + str(batch_size) + \"batch_\" + str(\n",
    "        kernel_size) + \"kernel_\" + str(dropout_rate) + \"drop_\" + str(\n",
    "        num_training) + \"train_\" + activation_type\n",
    "\n",
    "    return hparam"
   ]
  },
  {
   "cell_type": "code",
   "execution_count": 22,
   "id": "1fd4a22a",
   "metadata": {},
   "outputs": [],
   "source": [
    "def plot_confusion_matrix(cm, classes,\n",
    "                          normalize=False,\n",
    "                          title='Confusion matrix',\n",
    "                          cmap=plt.cm.Blues):\n",
    "\n",
    "    import itertools\n",
    "    if normalize:\n",
    "        cm = cm.astype('float') / cm.sum(axis=1)[:, np.newaxis]\n",
    "        print(\"Normalized confusion matrix\")\n",
    "    else:\n",
    "        print('Confusion matrix, without normalization')\n",
    "\n",
    "    print(cm)\n",
    "    plt.imshow(cm, interpolation='nearest', cmap=cmap)\n",
    "    plt.title(title)\n",
    "    plt.colorbar()\n",
    "    tick_marks = np.arange(len(classes))\n",
    "    plt.xticks(tick_marks, classes, rotation=45)\n",
    "    plt.yticks(tick_marks, classes)\n",
    "\n",
    "    fmt = '.2f' if normalize else 'd'\n",
    "    thresh = cm.max() / 2.\n",
    "    for i, j in itertools.product(range(cm.shape[0]), range(cm.shape[1])):\n",
    "        plt.text(j, i, format(cm[i, j], fmt),\n",
    "                 horizontalalignment=\"center\",\n",
    "                 color=\"white\" if cm[i, j] > thresh else \"black\")\n",
    "\n",
    "    plt.tight_layout()\n",
    "    plt.ylabel('True label')\n",
    "    plt.clim(0,sum(cm[0,:]))\n",
    "    plt.xlabel('Predicted label')"
   ]
  },
  {
   "cell_type": "code",
   "execution_count": 23,
   "id": "d67d07a2",
   "metadata": {},
   "outputs": [],
   "source": [
    "def top_K_classification_accuracy(y_predicted, y_true, K=1):\n",
    "\n",
    "    num_samples = y_predicted.shape[0]\n",
    "    num_classes = y_predicted.shape[1]\n",
    "\n",
    "    if K > num_classes:\n",
    "        sys.exit(1)\n",
    "\n",
    "    temp = np.zeros((num_samples,))\n",
    "\n",
    "    for idx in range(num_samples):\n",
    "        curr_predicted = np.argsort(y_predicted[idx,:])\n",
    "        curr_predicted = curr_predicted[::-1] # descending\n",
    "\n",
    "        if y_true[idx] in curr_predicted[:K]:\n",
    "            temp[idx] = 1\n",
    "\n",
    "    return 100.0 * np.sum(temp)/num_samples"
   ]
  },
  {
   "cell_type": "code",
   "execution_count": 24,
   "id": "351725d5",
   "metadata": {},
   "outputs": [],
   "source": [
    "def conv2D_ResNet(x, kernel_size, activation_type, dropout_rate, num_filters_first_conv1D):\n",
    "\n",
    "    x_orig = x\n",
    "\n",
    "    # Batch norm\n",
    "    x = BatchNormalization()(x)\n",
    "\n",
    "    # 1x1 Conv2D\n",
    "    x = Conv2D(num_filters_first_conv1D, kernel_size=1, activation=None, use_bias=False, padding='same',\n",
    "               kernel_initializer='truncated_normal')(x)\n",
    "\n",
    "    # Activation\n",
    "    if activation_type == 'LeakyReLU':\n",
    "        x = LeakyReLU()(x)\n",
    "    elif activation_type == 'PReLU':\n",
    "        x = PReLU()(x)\n",
    "    else:\n",
    "        x = Activation(activation_type)(x)\n",
    "\n",
    "    x = BatchNormalization()(x)\n",
    "\n",
    "    # 3x3 Conv2D\n",
    "    x = Conv2D(num_filters_first_conv1D, kernel_size, activation=None, use_bias=True, padding='same',\n",
    "               kernel_initializer='truncated_normal')(x)\n",
    "\n",
    "    # Activation\n",
    "    if activation_type == 'LeakyReLU':\n",
    "        x = LeakyReLU()(x)\n",
    "    elif activation_type == 'PReLU':\n",
    "        x = PReLU()(x)\n",
    "    else:\n",
    "        x = Activation(activation_type)(x)\n",
    "\n",
    "    x = BatchNormalization()(x)\n",
    "\n",
    "    # 1x1 Conv2D\n",
    "    x = Conv2D(num_filters_first_conv1D*4, kernel_size=1, activation=None, use_bias=False, padding='same',\n",
    "               kernel_initializer='truncated_normal')(x)\n",
    "\n",
    "    # Skip connection\n",
    "    if int(x.shape[3]) != int(x_orig.shape[3]):\n",
    "        x_orig = Conv2D(int(x.shape[3]), kernel_size=1, activation=None, use_bias=False, padding='same',\n",
    "               kernel_initializer='truncated_normal')(x_orig)\n",
    "\n",
    "    # Activation\n",
    "    if activation_type == 'LeakyReLU':\n",
    "        x = LeakyReLU()(x)\n",
    "    elif activation_type == 'PReLU':\n",
    "        x = PReLU()(x)\n",
    "    else:\n",
    "        x = Activation(activation_type)(x)\n",
    "\n",
    "    x = Add()([x, x_orig])\n",
    "\n",
    "    # Dropout\n",
    "    return Dropout(dropout_rate)(x)"
   ]
  },
  {
   "cell_type": "code",
   "execution_count": 25,
   "id": "0731a5cb",
   "metadata": {},
   "outputs": [],
   "source": [
    "def createBlock_ResNet2D(x, num_layers, kernel_size, activation_type, dropout_rate, num_filters_first_conv1D):\n",
    "\n",
    "    for idx_layer in range(num_layers):\n",
    "\n",
    "        x = conv2D_ResNet(x, kernel_size, activation_type, dropout_rate, num_filters_first_conv1D)\n",
    "\n",
    "    return x"
   ]
  },
  {
   "cell_type": "code",
   "execution_count": 26,
   "id": "45bd16db",
   "metadata": {},
   "outputs": [],
   "source": [
    "# growth_rate: number of filters for each normal convolution ('k' in the paper)\n",
    "def ResNet2D_classifier(data_num_rows, data_num_cols, num_classes, kernel_size=3, num_layers_each_block=[6, 12, 24, 16],\n",
    "                        num_chan_per_block = [64,128,256,512], activation_type='swish', dropout_rate=0.0, num_input_chans=1, num_nodes_fc=64):\n",
    "\n",
    "    input_data = Input(shape=(data_num_rows, data_num_cols, num_input_chans))\n",
    "\n",
    "    # Input layer: Conv2D -> activation\n",
    "    x = Conv2D(num_chan_per_block[0], kernel_size, activation=None, use_bias=True, padding='same',\n",
    "               kernel_initializer='truncated_normal')(input_data)\n",
    "\n",
    "    # Activation\n",
    "    if activation_type == 'LeakyReLU':\n",
    "        x = LeakyReLU()(x)\n",
    "    elif activation_type == 'PReLU':\n",
    "        x = PReLU()(x)\n",
    "    else:\n",
    "        x = Activation(activation_type)(x)\n",
    "\n",
    "    #  Blocks & Downsampling Layers\n",
    "    for idx_block in range(len(num_layers_each_block)):\n",
    "        x = createBlock_ResNet2D(x, num_layers_each_block[idx_block], kernel_size, activation_type, dropout_rate,\n",
    "                                 num_chan_per_block[idx_block])\n",
    "\n",
    "        x = BatchNormalization()(x)\n",
    "\n",
    "        if idx_block != len(num_layers_each_block)-1:\n",
    "            x = Conv2D(num_chan_per_block[idx_block]*2, kernel_size, strides = 2, activation=None, use_bias=True, padding='valid',\n",
    "                   kernel_initializer='truncated_normal')(x)\n",
    "        else:\n",
    "            x = GlobalAveragePooling2D()(x)\n",
    "\n",
    "        x = Dropout(dropout_rate)(x)\n",
    "\n",
    "    # Output layer\n",
    "    x = BatchNormalization()(x)\n",
    "    x = Dense(units=num_nodes_fc, activation=None, kernel_initializer='truncated_normal')(x)\n",
    "\n",
    "    # Activation\n",
    "    if activation_type == 'LeakyReLU':\n",
    "        x = LeakyReLU()(x)\n",
    "    elif activation_type == 'PReLU':\n",
    "        x = PReLU()(x)\n",
    "    else:\n",
    "        x = Activation(activation_type)(x)\n",
    "\n",
    "    x = BatchNormalization()(x)\n",
    "    output_data = Dense(units=num_classes, activation='softmax', kernel_initializer='truncated_normal')(x)\n",
    "\n",
    "    return Model(inputs=input_data, outputs=output_data)"
   ]
  },
  {
   "cell_type": "code",
   "execution_count": 27,
   "id": "cebae4db",
   "metadata": {},
   "outputs": [],
   "source": [
    "from sklearn.metrics import accuracy_score, confusion_matrix, classification_report"
   ]
  },
  {
   "cell_type": "code",
   "execution_count": 28,
   "id": "0ca90232",
   "metadata": {},
   "outputs": [],
   "source": [
    "import seaborn as sn\n",
    "import pandas as pd"
   ]
  },
  {
   "cell_type": "code",
   "execution_count": 29,
   "id": "90a3c3d9",
   "metadata": {},
   "outputs": [],
   "source": [
    "def evaluate(model,dataset,dataset_label,normalization_type):\n",
    "    print(\"--------------Make Predictions--------------\")    \n",
    "    x = np.array(dataset)\n",
    "    labels = np.array(dataset_label)\n",
    "    \n",
    "    # Normalize the data\n",
    "    x = normalizeDataWholeSeed(x,normalization_type=normalization_type)\n",
    "    \n",
    "    num = x.shape[0]\n",
    "\n",
    "    print(\"Testing started\")\n",
    "    tic = timeit.default_timer()\n",
    "    labels_predicted = model.predict(x)\n",
    "    toc = timeit.default_timer()\n",
    "    test_time = toc - tic\n",
    "    print('Testing time (s) = ' + str(test_time) + '\\n')\n",
    "    \n",
    "    print(\"--------\")\n",
    "    # Classification accuracy\n",
    "    labels_integer_format = labels\n",
    "    labels_predicted_integer_format = np.argmax(labels_predicted, axis=1)\n",
    "    \n",
    "    # Calculate accuracy\n",
    "    accuracy = accuracy_score(labels_integer_format, labels_predicted_integer_format)\n",
    "    print(\"Accuracy:\", accuracy)\n",
    "    \n",
    "    # Confusion matrices\n",
    "    confusion_matrix_results = confusion_matrix(labels_integer_format, labels_predicted_integer_format)\n",
    "    print(\"Confusion matrix = \")\n",
    "    print(confusion_matrix_results)\n",
    "    print(\"------------------------------------------------\")\n",
    "    \n",
    "    df_cm = pd.DataFrame(confusion_matrix_results,index =[i for i in VARIETIES],columns=[i for i in VARIETIES])\n",
    "    sn.heatmap(df_cm, annot=True, annot_kws={\"size\": 16},fmt='.0f') # font size\n",
    "\n",
    "    plt.show()\n",
    "\n",
    "    # Calculate precision, recall, and F1-score for each class\n",
    "    print(\"Classification Report:\")\n",
    "    print(classification_report(labels_integer_format, labels_predicted_integer_format))"
   ]
  },
  {
   "cell_type": "code",
   "execution_count": 30,
   "id": "5e4c541b",
   "metadata": {},
   "outputs": [],
   "source": [
    "def predict(model,normalization_type):\n",
    "    evaluate(model,test_dataset,test_dataset_label,normalization_type)"
   ]
  },
  {
   "cell_type": "code",
   "execution_count": 31,
   "id": "6797662b",
   "metadata": {},
   "outputs": [],
   "source": [
    "def createAndTrainResNetB(params):\n",
    "                                        \n",
    "    ############ Extract params ############\n",
    "    USE_DATA_AUG = params['USE_DATA_AUG']\n",
    "    learning_rate_base = params['learning_rate_base']\n",
    "    kernel_size = params['kernel_size']\n",
    "    batch_size = params['batch_size']\n",
    "    dropout_rate = params['dropout_rate']\n",
    "    activation_type = params['activation_type']\n",
    "    num_nodes_fc = params['num_nodes_fc']\n",
    "    wheat_types = params['wheat_types']\n",
    "    normalization_type = params['normalization_type']\n",
    "    num_layers_each_block = params['num_layers_each_block']\n",
    "    num_chan_per_block = params['num_chan_per_block']\n",
    "    N_classes = len(wheat_types)\n",
    "    \n",
    "    \n",
    "    ############ Load data ############\n",
    "    print(\"--------------Load Data--------------\")\n",
    "\n",
    "    # Load training data and their corresponding labels\n",
    "    x_training = np.array(train_dataset)\n",
    "    labels_training = np.array(train_dataset_label)\n",
    "    \n",
    "    # Normalize the data\n",
    "    x_training = normalizeDataWholeSeed(x_training,normalization_type=normalization_type)\n",
    "    \n",
    "    # Extract some information\n",
    "    num_training = x_training.shape[0]\n",
    "    N_spatial = x_training.shape[1:3]\n",
    "    N_bands = x_training.shape[3]\n",
    "    num_batch_per_epoch = int(num_training/batch_size)\n",
    "    \n",
    "    print('#training = %d' %(num_training))\n",
    "    print('#batches per epoch = %d' %(num_batch_per_epoch))\n",
    "    \n",
    "    print(\"--------------Done--------------\")\n",
    "\n",
    "    ############ Create a model ############\n",
    "    print(\"--------------Create a model--------------\")\n",
    "    \n",
    "    # Generate a model\n",
    "    model = ResNet2D_classifier(data_num_rows=N_spatial[0], data_num_cols=N_spatial[1], num_classes=N_classes,\n",
    "                                kernel_size=kernel_size, num_layers_each_block=num_layers_each_block,\n",
    "                                num_chan_per_block=num_chan_per_block, activation_type=activation_type,\n",
    "                                dropout_rate=dropout_rate, num_input_chans=N_bands, num_nodes_fc=num_nodes_fc)\n",
    "\n",
    "    # Compile the model\n",
    "    adam_opt = Adam(learning_rate=learning_rate_base, beta_1=0.9, beta_2=0.999, epsilon=1e-08, decay=0.01)\n",
    "    model.compile(loss='sparse_categorical_crossentropy', optimizer=adam_opt, metrics=['acc'])\n",
    "\n",
    "    return model"
   ]
  },
  {
   "cell_type": "code",
   "execution_count": 32,
   "id": "0f8da36f",
   "metadata": {
    "scrolled": true
   },
   "outputs": [],
   "source": [
    "# Parameters (mostly determined using validation datasets)\n",
    "params = dict()\n",
    "params['normalization_type'] = 'max'                    # Data normalization type\n",
    "params['wheat_types'] = VARIETIES                       \n",
    "params['kernel_size'] = 3                               # Kernel size\n",
    "params['dropout_rate'] = 0.2                            # Dropout rate\n",
    "params['num_nodes_fc'] = 512                           # Number of  nodes in the fully-connected layers\n",
    "params['num_layers_each_block'] = [4,4,6,4]         # Number of layers per block\n",
    "params['num_chan_per_block'] =[32,32,64,64]     # Number of filters in the conv layers\n",
    "params['results_base_directory'] = './results/'  # Directory of saving results\n",
    "params['activation_type'] = ACTIVATION_TYPE\n",
    "params['batch_size'] = BATCH_SIZE                    # Batch size\n",
    "params['USE_DATA_AUG'] = False              # Use data augmentation (In the paper, we set it to True)\n",
    "params['learning_rate_base'] = LEARNING_RATE_BASE      # Initial learning rate (In the paper, we set it to 0.005)\n",
    "\n",
    "# Add 'swish' activation\n",
    "if params['activation_type'] == 'swish':\n",
    "\n",
    "    from tensorflow.keras.utils import get_custom_objects\n",
    "    import keras.backend as K\n",
    "\n",
    "    # Taken from https://github.com/dataplayer12/swish-activation/blob/master/MNIST/activations.ipynb\n",
    "    def swish(x):\n",
    "        beta = tf.Variable(initial_value=1.0,trainable=True)\n",
    "        return x*tf.nn.sigmoid(beta*x)\n",
    "\n",
    "    get_custom_objects().update({'swish': swish})\n"
   ]
  },
  {
   "cell_type": "code",
   "execution_count": 33,
   "id": "fb608fce",
   "metadata": {},
   "outputs": [],
   "source": [
    "def plot_graph(df,title,xlabel,ylabel,values=['loss'],legends=[]):\n",
    "    \n",
    "    for value in values:\n",
    "        epoch_count = range(1, len(df.index) + 1)\n",
    "        plt.plot(epoch_count, df[value].tolist())\n",
    "    plt.title(title)\n",
    "    plt.ylabel(ylabel)\n",
    "    plt.xlabel(xlabel)\n",
    "    if legends==[]:\n",
    "        legends = values\n",
    "    plt.legend(legends, loc='upper left')\n",
    "    plt.show()"
   ]
  },
  {
   "cell_type": "code",
   "execution_count": 34,
   "id": "54ac47e8",
   "metadata": {},
   "outputs": [
    {
     "name": "stdout",
     "output_type": "stream",
     "text": [
      "--------------Load Data--------------\n",
      "#training = 16\n",
      "#batches per epoch = 2\n",
      "--------------Done--------------\n",
      "--------------Create a model--------------\n"
     ]
    }
   ],
   "source": [
    "model = createAndTrainResNetB(params)"
   ]
  },
  {
   "cell_type": "code",
   "execution_count": 35,
   "id": "b43cde60",
   "metadata": {},
   "outputs": [],
   "source": [
    "x_training = np.array(train_dataset)\n",
    "labels_training = np.array(train_dataset_label)\n",
    "\n",
    "# Normalize the data\n",
    "x_training = normalizeDataWholeSeed(x_training,normalization_type='max')\n",
    "    \n",
    "# Extract some information\n",
    "num_training = x_training.shape[0]\n",
    "N_spatial = x_training.shape[1:3]\n",
    "N_bands = x_training.shape[3]\n",
    "batch_size = BATCH_SIZE\n",
    "num_batch_per_epoch = int(num_training/batch_size)"
   ]
  },
  {
   "cell_type": "code",
   "execution_count": 36,
   "id": "80ce95ef",
   "metadata": {},
   "outputs": [],
   "source": [
    "import pandas as pd\n",
    "import os\n",
    "\n",
    "def save_to_csv(file_path, data_frame, header=False):\n",
    "    file_exists = os.path.exists(file_path)\n",
    "\n",
    "    if not file_exists or not header:\n",
    "        data_frame.to_csv(file_path, index=False, mode='w')\n",
    "    else:\n",
    "        data_frame.to_csv(file_path, index=False, mode='a', header=False)"
   ]
  },
  {
   "cell_type": "code",
   "execution_count": 37,
   "id": "08349c2d",
   "metadata": {},
   "outputs": [
    {
     "data": {
      "text/plain": [
       "['DBW 187', 'DBW222', 'HD 3086', 'PBW 291']"
      ]
     },
     "execution_count": 37,
     "metadata": {},
     "output_type": "execute_result"
    }
   ],
   "source": [
    "VARIETIES"
   ]
  },
  {
   "cell_type": "code",
   "execution_count": 38,
   "id": "c9dcaed0",
   "metadata": {},
   "outputs": [],
   "source": [
    "model = None"
   ]
  },
  {
   "cell_type": "code",
   "execution_count": 39,
   "id": "f93d40af",
   "metadata": {},
   "outputs": [],
   "source": [
    "start_epoch = 1"
   ]
  },
  {
   "cell_type": "code",
   "execution_count": 40,
   "id": "ead0a03f",
   "metadata": {},
   "outputs": [
    {
     "name": "stdout",
     "output_type": "stream",
     "text": [
      "--------------Load Data--------------\n",
      "#training = 16\n",
      "#batches per epoch = 2\n",
      "--------------Done--------------\n",
      "--------------Create a model--------------\n"
     ]
    }
   ],
   "source": [
    "model_name = \"RN_\"+\"_IC_\"+str(TOTAL_IMAGE_COUNT).zfill(5)+\"_FilledArea_\"+str(FILLED_AREA_RATIO)+\"_BandNo_\"+str(BAND_NUMBER)+\"_ImageHeight_\"+str(IMAGE_HEIGHT)+\"_ImageWidth_\"+str(IMAGE_WIDTH)+\"_FILTER_\"+str(FILTER)+\"_FeatureExtraction_\"+str(FEATURE_EXTRACTION)\n",
    "if REMOVE_NOISY_BANDS:\n",
    "    model_name+=\"_REMOVE_NOISY_BANDS_\"+str(REMOVE_NOISY_BANDS)+\"_NumOfBands_\"+str(NUM_OF_BANDS)+\"_FB_\"+str(FIRST_BAND)+\"_LB_\"+str(LAST_BAND)\n",
    "if FILTER == \"savgol\":\n",
    "    model_name+=\"_WINDOW_\"+str(WINDOW)+\"_ORDER_\"+str(ORDER)\n",
    "\n",
    "if start_epoch != 1:\n",
    "    model = tf.keras.models.load_model('./RNmodels/'+str(start_epoch-1)+model_name)\n",
    "else:\n",
    "    model = createAndTrainResNetB(params)"
   ]
  },
  {
   "cell_type": "code",
   "execution_count": 41,
   "id": "627a2596",
   "metadata": {},
   "outputs": [],
   "source": [
    "last_epoch = 6"
   ]
  },
  {
   "cell_type": "code",
   "execution_count": 42,
   "id": "74535028",
   "metadata": {},
   "outputs": [
    {
     "name": "stdout",
     "output_type": "stream",
     "text": [
      "Model: \"model_1\"\n",
      "__________________________________________________________________________________________________\n",
      " Layer (type)                   Output Shape         Param #     Connected to                     \n",
      "==================================================================================================\n",
      " input_2 (InputLayer)           [(None, 30, 30, 168  0           []                               \n",
      "                                )]                                                                \n",
      "                                                                                                  \n",
      " conv2d_62 (Conv2D)             (None, 30, 30, 32)   48416       ['input_2[0][0]']                \n",
      "                                                                                                  \n",
      " activation_56 (Activation)     (None, 30, 30, 32)   0           ['conv2d_62[0][0]']              \n",
      "                                                                                                  \n",
      " batch_normalization_60 (BatchN  (None, 30, 30, 32)  128         ['activation_56[0][0]']          \n",
      " ormalization)                                                                                    \n",
      "                                                                                                  \n",
      " conv2d_63 (Conv2D)             (None, 30, 30, 32)   1024        ['batch_normalization_60[0][0]'] \n",
      "                                                                                                  \n",
      " activation_57 (Activation)     (None, 30, 30, 32)   0           ['conv2d_63[0][0]']              \n",
      "                                                                                                  \n",
      " batch_normalization_61 (BatchN  (None, 30, 30, 32)  128         ['activation_57[0][0]']          \n",
      " ormalization)                                                                                    \n",
      "                                                                                                  \n",
      " conv2d_64 (Conv2D)             (None, 30, 30, 32)   9248        ['batch_normalization_61[0][0]'] \n",
      "                                                                                                  \n",
      " activation_58 (Activation)     (None, 30, 30, 32)   0           ['conv2d_64[0][0]']              \n",
      "                                                                                                  \n",
      " batch_normalization_62 (BatchN  (None, 30, 30, 32)  128         ['activation_58[0][0]']          \n",
      " ormalization)                                                                                    \n",
      "                                                                                                  \n",
      " conv2d_65 (Conv2D)             (None, 30, 30, 128)  4096        ['batch_normalization_62[0][0]'] \n",
      "                                                                                                  \n",
      " activation_59 (Activation)     (None, 30, 30, 128)  0           ['conv2d_65[0][0]']              \n",
      "                                                                                                  \n",
      " conv2d_66 (Conv2D)             (None, 30, 30, 128)  4096        ['activation_56[0][0]']          \n",
      "                                                                                                  \n",
      " add_18 (Add)                   (None, 30, 30, 128)  0           ['activation_59[0][0]',          \n",
      "                                                                  'conv2d_66[0][0]']              \n",
      "                                                                                                  \n",
      " dropout_22 (Dropout)           (None, 30, 30, 128)  0           ['add_18[0][0]']                 \n",
      "                                                                                                  \n",
      " batch_normalization_63 (BatchN  (None, 30, 30, 128)  512        ['dropout_22[0][0]']             \n",
      " ormalization)                                                                                    \n",
      "                                                                                                  \n",
      " conv2d_67 (Conv2D)             (None, 30, 30, 32)   4096        ['batch_normalization_63[0][0]'] \n",
      "                                                                                                  \n",
      " activation_60 (Activation)     (None, 30, 30, 32)   0           ['conv2d_67[0][0]']              \n",
      "                                                                                                  \n",
      " batch_normalization_64 (BatchN  (None, 30, 30, 32)  128         ['activation_60[0][0]']          \n",
      " ormalization)                                                                                    \n",
      "                                                                                                  \n",
      " conv2d_68 (Conv2D)             (None, 30, 30, 32)   9248        ['batch_normalization_64[0][0]'] \n",
      "                                                                                                  \n",
      " activation_61 (Activation)     (None, 30, 30, 32)   0           ['conv2d_68[0][0]']              \n",
      "                                                                                                  \n",
      " batch_normalization_65 (BatchN  (None, 30, 30, 32)  128         ['activation_61[0][0]']          \n",
      " ormalization)                                                                                    \n",
      "                                                                                                  \n",
      " conv2d_69 (Conv2D)             (None, 30, 30, 128)  4096        ['batch_normalization_65[0][0]'] \n",
      "                                                                                                  \n",
      " activation_62 (Activation)     (None, 30, 30, 128)  0           ['conv2d_69[0][0]']              \n",
      "                                                                                                  \n",
      " add_19 (Add)                   (None, 30, 30, 128)  0           ['activation_62[0][0]',          \n",
      "                                                                  'dropout_22[0][0]']             \n",
      "                                                                                                  \n",
      " dropout_23 (Dropout)           (None, 30, 30, 128)  0           ['add_19[0][0]']                 \n",
      "                                                                                                  \n",
      " batch_normalization_66 (BatchN  (None, 30, 30, 128)  512        ['dropout_23[0][0]']             \n",
      " ormalization)                                                                                    \n",
      "                                                                                                  \n",
      " conv2d_70 (Conv2D)             (None, 30, 30, 32)   4096        ['batch_normalization_66[0][0]'] \n",
      "                                                                                                  \n",
      " activation_63 (Activation)     (None, 30, 30, 32)   0           ['conv2d_70[0][0]']              \n",
      "                                                                                                  \n",
      " batch_normalization_67 (BatchN  (None, 30, 30, 32)  128         ['activation_63[0][0]']          \n",
      " ormalization)                                                                                    \n",
      "                                                                                                  \n",
      " conv2d_71 (Conv2D)             (None, 30, 30, 32)   9248        ['batch_normalization_67[0][0]'] \n",
      "                                                                                                  \n",
      " activation_64 (Activation)     (None, 30, 30, 32)   0           ['conv2d_71[0][0]']              \n",
      "                                                                                                  \n",
      " batch_normalization_68 (BatchN  (None, 30, 30, 32)  128         ['activation_64[0][0]']          \n",
      " ormalization)                                                                                    \n",
      "                                                                                                  \n",
      " conv2d_72 (Conv2D)             (None, 30, 30, 128)  4096        ['batch_normalization_68[0][0]'] \n",
      "                                                                                                  \n"
     ]
    },
    {
     "name": "stdout",
     "output_type": "stream",
     "text": [
      " activation_65 (Activation)     (None, 30, 30, 128)  0           ['conv2d_72[0][0]']              \n",
      "                                                                                                  \n",
      " add_20 (Add)                   (None, 30, 30, 128)  0           ['activation_65[0][0]',          \n",
      "                                                                  'dropout_23[0][0]']             \n",
      "                                                                                                  \n",
      " dropout_24 (Dropout)           (None, 30, 30, 128)  0           ['add_20[0][0]']                 \n",
      "                                                                                                  \n",
      " batch_normalization_69 (BatchN  (None, 30, 30, 128)  512        ['dropout_24[0][0]']             \n",
      " ormalization)                                                                                    \n",
      "                                                                                                  \n",
      " conv2d_73 (Conv2D)             (None, 30, 30, 32)   4096        ['batch_normalization_69[0][0]'] \n",
      "                                                                                                  \n",
      " activation_66 (Activation)     (None, 30, 30, 32)   0           ['conv2d_73[0][0]']              \n",
      "                                                                                                  \n",
      " batch_normalization_70 (BatchN  (None, 30, 30, 32)  128         ['activation_66[0][0]']          \n",
      " ormalization)                                                                                    \n",
      "                                                                                                  \n",
      " conv2d_74 (Conv2D)             (None, 30, 30, 32)   9248        ['batch_normalization_70[0][0]'] \n",
      "                                                                                                  \n",
      " activation_67 (Activation)     (None, 30, 30, 32)   0           ['conv2d_74[0][0]']              \n",
      "                                                                                                  \n",
      " batch_normalization_71 (BatchN  (None, 30, 30, 32)  128         ['activation_67[0][0]']          \n",
      " ormalization)                                                                                    \n",
      "                                                                                                  \n",
      " conv2d_75 (Conv2D)             (None, 30, 30, 128)  4096        ['batch_normalization_71[0][0]'] \n",
      "                                                                                                  \n",
      " activation_68 (Activation)     (None, 30, 30, 128)  0           ['conv2d_75[0][0]']              \n",
      "                                                                                                  \n",
      " add_21 (Add)                   (None, 30, 30, 128)  0           ['activation_68[0][0]',          \n",
      "                                                                  'dropout_24[0][0]']             \n",
      "                                                                                                  \n",
      " dropout_25 (Dropout)           (None, 30, 30, 128)  0           ['add_21[0][0]']                 \n",
      "                                                                                                  \n",
      " batch_normalization_72 (BatchN  (None, 30, 30, 128)  512        ['dropout_25[0][0]']             \n",
      " ormalization)                                                                                    \n",
      "                                                                                                  \n",
      " conv2d_76 (Conv2D)             (None, 14, 14, 64)   73792       ['batch_normalization_72[0][0]'] \n",
      "                                                                                                  \n",
      " dropout_26 (Dropout)           (None, 14, 14, 64)   0           ['conv2d_76[0][0]']              \n",
      "                                                                                                  \n",
      " batch_normalization_73 (BatchN  (None, 14, 14, 64)  256         ['dropout_26[0][0]']             \n",
      " ormalization)                                                                                    \n",
      "                                                                                                  \n",
      " conv2d_77 (Conv2D)             (None, 14, 14, 32)   2048        ['batch_normalization_73[0][0]'] \n",
      "                                                                                                  \n",
      " activation_69 (Activation)     (None, 14, 14, 32)   0           ['conv2d_77[0][0]']              \n",
      "                                                                                                  \n",
      " batch_normalization_74 (BatchN  (None, 14, 14, 32)  128         ['activation_69[0][0]']          \n",
      " ormalization)                                                                                    \n",
      "                                                                                                  \n",
      " conv2d_78 (Conv2D)             (None, 14, 14, 32)   9248        ['batch_normalization_74[0][0]'] \n",
      "                                                                                                  \n",
      " activation_70 (Activation)     (None, 14, 14, 32)   0           ['conv2d_78[0][0]']              \n",
      "                                                                                                  \n",
      " batch_normalization_75 (BatchN  (None, 14, 14, 32)  128         ['activation_70[0][0]']          \n",
      " ormalization)                                                                                    \n",
      "                                                                                                  \n",
      " conv2d_79 (Conv2D)             (None, 14, 14, 128)  4096        ['batch_normalization_75[0][0]'] \n",
      "                                                                                                  \n",
      " activation_71 (Activation)     (None, 14, 14, 128)  0           ['conv2d_79[0][0]']              \n",
      "                                                                                                  \n",
      " conv2d_80 (Conv2D)             (None, 14, 14, 128)  8192        ['dropout_26[0][0]']             \n",
      "                                                                                                  \n",
      " add_22 (Add)                   (None, 14, 14, 128)  0           ['activation_71[0][0]',          \n",
      "                                                                  'conv2d_80[0][0]']              \n",
      "                                                                                                  \n",
      " dropout_27 (Dropout)           (None, 14, 14, 128)  0           ['add_22[0][0]']                 \n",
      "                                                                                                  \n",
      " batch_normalization_76 (BatchN  (None, 14, 14, 128)  512        ['dropout_27[0][0]']             \n",
      " ormalization)                                                                                    \n",
      "                                                                                                  \n",
      " conv2d_81 (Conv2D)             (None, 14, 14, 32)   4096        ['batch_normalization_76[0][0]'] \n",
      "                                                                                                  \n",
      " activation_72 (Activation)     (None, 14, 14, 32)   0           ['conv2d_81[0][0]']              \n",
      "                                                                                                  \n",
      " batch_normalization_77 (BatchN  (None, 14, 14, 32)  128         ['activation_72[0][0]']          \n",
      " ormalization)                                                                                    \n",
      "                                                                                                  \n",
      " conv2d_82 (Conv2D)             (None, 14, 14, 32)   9248        ['batch_normalization_77[0][0]'] \n",
      "                                                                                                  \n",
      " activation_73 (Activation)     (None, 14, 14, 32)   0           ['conv2d_82[0][0]']              \n",
      "                                                                                                  \n",
      " batch_normalization_78 (BatchN  (None, 14, 14, 32)  128         ['activation_73[0][0]']          \n"
     ]
    },
    {
     "name": "stdout",
     "output_type": "stream",
     "text": [
      " ormalization)                                                                                    \n",
      "                                                                                                  \n",
      " conv2d_83 (Conv2D)             (None, 14, 14, 128)  4096        ['batch_normalization_78[0][0]'] \n",
      "                                                                                                  \n",
      " activation_74 (Activation)     (None, 14, 14, 128)  0           ['conv2d_83[0][0]']              \n",
      "                                                                                                  \n",
      " add_23 (Add)                   (None, 14, 14, 128)  0           ['activation_74[0][0]',          \n",
      "                                                                  'dropout_27[0][0]']             \n",
      "                                                                                                  \n",
      " dropout_28 (Dropout)           (None, 14, 14, 128)  0           ['add_23[0][0]']                 \n",
      "                                                                                                  \n",
      " batch_normalization_79 (BatchN  (None, 14, 14, 128)  512        ['dropout_28[0][0]']             \n",
      " ormalization)                                                                                    \n",
      "                                                                                                  \n",
      " conv2d_84 (Conv2D)             (None, 14, 14, 32)   4096        ['batch_normalization_79[0][0]'] \n",
      "                                                                                                  \n",
      " activation_75 (Activation)     (None, 14, 14, 32)   0           ['conv2d_84[0][0]']              \n",
      "                                                                                                  \n",
      " batch_normalization_80 (BatchN  (None, 14, 14, 32)  128         ['activation_75[0][0]']          \n",
      " ormalization)                                                                                    \n",
      "                                                                                                  \n",
      " conv2d_85 (Conv2D)             (None, 14, 14, 32)   9248        ['batch_normalization_80[0][0]'] \n",
      "                                                                                                  \n",
      " activation_76 (Activation)     (None, 14, 14, 32)   0           ['conv2d_85[0][0]']              \n",
      "                                                                                                  \n",
      " batch_normalization_81 (BatchN  (None, 14, 14, 32)  128         ['activation_76[0][0]']          \n",
      " ormalization)                                                                                    \n",
      "                                                                                                  \n",
      " conv2d_86 (Conv2D)             (None, 14, 14, 128)  4096        ['batch_normalization_81[0][0]'] \n",
      "                                                                                                  \n",
      " activation_77 (Activation)     (None, 14, 14, 128)  0           ['conv2d_86[0][0]']              \n",
      "                                                                                                  \n",
      " add_24 (Add)                   (None, 14, 14, 128)  0           ['activation_77[0][0]',          \n",
      "                                                                  'dropout_28[0][0]']             \n",
      "                                                                                                  \n",
      " dropout_29 (Dropout)           (None, 14, 14, 128)  0           ['add_24[0][0]']                 \n",
      "                                                                                                  \n",
      " batch_normalization_82 (BatchN  (None, 14, 14, 128)  512        ['dropout_29[0][0]']             \n",
      " ormalization)                                                                                    \n",
      "                                                                                                  \n",
      " conv2d_87 (Conv2D)             (None, 14, 14, 32)   4096        ['batch_normalization_82[0][0]'] \n",
      "                                                                                                  \n",
      " activation_78 (Activation)     (None, 14, 14, 32)   0           ['conv2d_87[0][0]']              \n",
      "                                                                                                  \n",
      " batch_normalization_83 (BatchN  (None, 14, 14, 32)  128         ['activation_78[0][0]']          \n",
      " ormalization)                                                                                    \n",
      "                                                                                                  \n",
      " conv2d_88 (Conv2D)             (None, 14, 14, 32)   9248        ['batch_normalization_83[0][0]'] \n",
      "                                                                                                  \n",
      " activation_79 (Activation)     (None, 14, 14, 32)   0           ['conv2d_88[0][0]']              \n",
      "                                                                                                  \n",
      " batch_normalization_84 (BatchN  (None, 14, 14, 32)  128         ['activation_79[0][0]']          \n",
      " ormalization)                                                                                    \n",
      "                                                                                                  \n",
      " conv2d_89 (Conv2D)             (None, 14, 14, 128)  4096        ['batch_normalization_84[0][0]'] \n",
      "                                                                                                  \n",
      " activation_80 (Activation)     (None, 14, 14, 128)  0           ['conv2d_89[0][0]']              \n",
      "                                                                                                  \n",
      " add_25 (Add)                   (None, 14, 14, 128)  0           ['activation_80[0][0]',          \n",
      "                                                                  'dropout_29[0][0]']             \n",
      "                                                                                                  \n",
      " dropout_30 (Dropout)           (None, 14, 14, 128)  0           ['add_25[0][0]']                 \n",
      "                                                                                                  \n",
      " batch_normalization_85 (BatchN  (None, 14, 14, 128)  512        ['dropout_30[0][0]']             \n",
      " ormalization)                                                                                    \n",
      "                                                                                                  \n",
      " conv2d_90 (Conv2D)             (None, 6, 6, 64)     73792       ['batch_normalization_85[0][0]'] \n",
      "                                                                                                  \n",
      " dropout_31 (Dropout)           (None, 6, 6, 64)     0           ['conv2d_90[0][0]']              \n",
      "                                                                                                  \n",
      " batch_normalization_86 (BatchN  (None, 6, 6, 64)    256         ['dropout_31[0][0]']             \n",
      " ormalization)                                                                                    \n",
      "                                                                                                  \n",
      " conv2d_91 (Conv2D)             (None, 6, 6, 64)     4096        ['batch_normalization_86[0][0]'] \n",
      "                                                                                                  \n",
      " activation_81 (Activation)     (None, 6, 6, 64)     0           ['conv2d_91[0][0]']              \n",
      "                                                                                                  \n",
      " batch_normalization_87 (BatchN  (None, 6, 6, 64)    256         ['activation_81[0][0]']          \n",
      " ormalization)                                                                                    \n",
      "                                                                                                  \n",
      " conv2d_92 (Conv2D)             (None, 6, 6, 64)     36928       ['batch_normalization_87[0][0]'] \n",
      "                                                                                                  \n",
      " activation_82 (Activation)     (None, 6, 6, 64)     0           ['conv2d_92[0][0]']              \n"
     ]
    },
    {
     "name": "stdout",
     "output_type": "stream",
     "text": [
      "                                                                                                  \n",
      " batch_normalization_88 (BatchN  (None, 6, 6, 64)    256         ['activation_82[0][0]']          \n",
      " ormalization)                                                                                    \n",
      "                                                                                                  \n",
      " conv2d_93 (Conv2D)             (None, 6, 6, 256)    16384       ['batch_normalization_88[0][0]'] \n",
      "                                                                                                  \n",
      " activation_83 (Activation)     (None, 6, 6, 256)    0           ['conv2d_93[0][0]']              \n",
      "                                                                                                  \n",
      " conv2d_94 (Conv2D)             (None, 6, 6, 256)    16384       ['dropout_31[0][0]']             \n",
      "                                                                                                  \n",
      " add_26 (Add)                   (None, 6, 6, 256)    0           ['activation_83[0][0]',          \n",
      "                                                                  'conv2d_94[0][0]']              \n",
      "                                                                                                  \n",
      " dropout_32 (Dropout)           (None, 6, 6, 256)    0           ['add_26[0][0]']                 \n",
      "                                                                                                  \n",
      " batch_normalization_89 (BatchN  (None, 6, 6, 256)   1024        ['dropout_32[0][0]']             \n",
      " ormalization)                                                                                    \n",
      "                                                                                                  \n",
      " conv2d_95 (Conv2D)             (None, 6, 6, 64)     16384       ['batch_normalization_89[0][0]'] \n",
      "                                                                                                  \n",
      " activation_84 (Activation)     (None, 6, 6, 64)     0           ['conv2d_95[0][0]']              \n",
      "                                                                                                  \n",
      " batch_normalization_90 (BatchN  (None, 6, 6, 64)    256         ['activation_84[0][0]']          \n",
      " ormalization)                                                                                    \n",
      "                                                                                                  \n",
      " conv2d_96 (Conv2D)             (None, 6, 6, 64)     36928       ['batch_normalization_90[0][0]'] \n",
      "                                                                                                  \n",
      " activation_85 (Activation)     (None, 6, 6, 64)     0           ['conv2d_96[0][0]']              \n",
      "                                                                                                  \n",
      " batch_normalization_91 (BatchN  (None, 6, 6, 64)    256         ['activation_85[0][0]']          \n",
      " ormalization)                                                                                    \n",
      "                                                                                                  \n",
      " conv2d_97 (Conv2D)             (None, 6, 6, 256)    16384       ['batch_normalization_91[0][0]'] \n",
      "                                                                                                  \n",
      " activation_86 (Activation)     (None, 6, 6, 256)    0           ['conv2d_97[0][0]']              \n",
      "                                                                                                  \n",
      " add_27 (Add)                   (None, 6, 6, 256)    0           ['activation_86[0][0]',          \n",
      "                                                                  'dropout_32[0][0]']             \n",
      "                                                                                                  \n",
      " dropout_33 (Dropout)           (None, 6, 6, 256)    0           ['add_27[0][0]']                 \n",
      "                                                                                                  \n",
      " batch_normalization_92 (BatchN  (None, 6, 6, 256)   1024        ['dropout_33[0][0]']             \n",
      " ormalization)                                                                                    \n",
      "                                                                                                  \n",
      " conv2d_98 (Conv2D)             (None, 6, 6, 64)     16384       ['batch_normalization_92[0][0]'] \n",
      "                                                                                                  \n",
      " activation_87 (Activation)     (None, 6, 6, 64)     0           ['conv2d_98[0][0]']              \n",
      "                                                                                                  \n",
      " batch_normalization_93 (BatchN  (None, 6, 6, 64)    256         ['activation_87[0][0]']          \n",
      " ormalization)                                                                                    \n",
      "                                                                                                  \n",
      " conv2d_99 (Conv2D)             (None, 6, 6, 64)     36928       ['batch_normalization_93[0][0]'] \n",
      "                                                                                                  \n",
      " activation_88 (Activation)     (None, 6, 6, 64)     0           ['conv2d_99[0][0]']              \n",
      "                                                                                                  \n",
      " batch_normalization_94 (BatchN  (None, 6, 6, 64)    256         ['activation_88[0][0]']          \n",
      " ormalization)                                                                                    \n",
      "                                                                                                  \n",
      " conv2d_100 (Conv2D)            (None, 6, 6, 256)    16384       ['batch_normalization_94[0][0]'] \n",
      "                                                                                                  \n",
      " activation_89 (Activation)     (None, 6, 6, 256)    0           ['conv2d_100[0][0]']             \n",
      "                                                                                                  \n",
      " add_28 (Add)                   (None, 6, 6, 256)    0           ['activation_89[0][0]',          \n",
      "                                                                  'dropout_33[0][0]']             \n",
      "                                                                                                  \n",
      " dropout_34 (Dropout)           (None, 6, 6, 256)    0           ['add_28[0][0]']                 \n",
      "                                                                                                  \n",
      " batch_normalization_95 (BatchN  (None, 6, 6, 256)   1024        ['dropout_34[0][0]']             \n",
      " ormalization)                                                                                    \n",
      "                                                                                                  \n",
      " conv2d_101 (Conv2D)            (None, 6, 6, 64)     16384       ['batch_normalization_95[0][0]'] \n",
      "                                                                                                  \n",
      " activation_90 (Activation)     (None, 6, 6, 64)     0           ['conv2d_101[0][0]']             \n",
      "                                                                                                  \n",
      " batch_normalization_96 (BatchN  (None, 6, 6, 64)    256         ['activation_90[0][0]']          \n",
      " ormalization)                                                                                    \n",
      "                                                                                                  \n",
      " conv2d_102 (Conv2D)            (None, 6, 6, 64)     36928       ['batch_normalization_96[0][0]'] \n",
      "                                                                                                  \n",
      " activation_91 (Activation)     (None, 6, 6, 64)     0           ['conv2d_102[0][0]']             \n",
      "                                                                                                  \n",
      " batch_normalization_97 (BatchN  (None, 6, 6, 64)    256         ['activation_91[0][0]']          \n",
      " ormalization)                                                                                    \n"
     ]
    },
    {
     "name": "stdout",
     "output_type": "stream",
     "text": [
      "                                                                                                  \n",
      " conv2d_103 (Conv2D)            (None, 6, 6, 256)    16384       ['batch_normalization_97[0][0]'] \n",
      "                                                                                                  \n",
      " activation_92 (Activation)     (None, 6, 6, 256)    0           ['conv2d_103[0][0]']             \n",
      "                                                                                                  \n",
      " add_29 (Add)                   (None, 6, 6, 256)    0           ['activation_92[0][0]',          \n",
      "                                                                  'dropout_34[0][0]']             \n",
      "                                                                                                  \n",
      " dropout_35 (Dropout)           (None, 6, 6, 256)    0           ['add_29[0][0]']                 \n",
      "                                                                                                  \n",
      " batch_normalization_98 (BatchN  (None, 6, 6, 256)   1024        ['dropout_35[0][0]']             \n",
      " ormalization)                                                                                    \n",
      "                                                                                                  \n",
      " conv2d_104 (Conv2D)            (None, 6, 6, 64)     16384       ['batch_normalization_98[0][0]'] \n",
      "                                                                                                  \n",
      " activation_93 (Activation)     (None, 6, 6, 64)     0           ['conv2d_104[0][0]']             \n",
      "                                                                                                  \n",
      " batch_normalization_99 (BatchN  (None, 6, 6, 64)    256         ['activation_93[0][0]']          \n",
      " ormalization)                                                                                    \n",
      "                                                                                                  \n",
      " conv2d_105 (Conv2D)            (None, 6, 6, 64)     36928       ['batch_normalization_99[0][0]'] \n",
      "                                                                                                  \n",
      " activation_94 (Activation)     (None, 6, 6, 64)     0           ['conv2d_105[0][0]']             \n",
      "                                                                                                  \n",
      " batch_normalization_100 (Batch  (None, 6, 6, 64)    256         ['activation_94[0][0]']          \n",
      " Normalization)                                                                                   \n",
      "                                                                                                  \n",
      " conv2d_106 (Conv2D)            (None, 6, 6, 256)    16384       ['batch_normalization_100[0][0]']\n",
      "                                                                                                  \n",
      " activation_95 (Activation)     (None, 6, 6, 256)    0           ['conv2d_106[0][0]']             \n",
      "                                                                                                  \n",
      " add_30 (Add)                   (None, 6, 6, 256)    0           ['activation_95[0][0]',          \n",
      "                                                                  'dropout_35[0][0]']             \n",
      "                                                                                                  \n",
      " dropout_36 (Dropout)           (None, 6, 6, 256)    0           ['add_30[0][0]']                 \n",
      "                                                                                                  \n",
      " batch_normalization_101 (Batch  (None, 6, 6, 256)   1024        ['dropout_36[0][0]']             \n",
      " Normalization)                                                                                   \n",
      "                                                                                                  \n",
      " conv2d_107 (Conv2D)            (None, 6, 6, 64)     16384       ['batch_normalization_101[0][0]']\n",
      "                                                                                                  \n",
      " activation_96 (Activation)     (None, 6, 6, 64)     0           ['conv2d_107[0][0]']             \n",
      "                                                                                                  \n",
      " batch_normalization_102 (Batch  (None, 6, 6, 64)    256         ['activation_96[0][0]']          \n",
      " Normalization)                                                                                   \n",
      "                                                                                                  \n",
      " conv2d_108 (Conv2D)            (None, 6, 6, 64)     36928       ['batch_normalization_102[0][0]']\n",
      "                                                                                                  \n",
      " activation_97 (Activation)     (None, 6, 6, 64)     0           ['conv2d_108[0][0]']             \n",
      "                                                                                                  \n",
      " batch_normalization_103 (Batch  (None, 6, 6, 64)    256         ['activation_97[0][0]']          \n",
      " Normalization)                                                                                   \n",
      "                                                                                                  \n",
      " conv2d_109 (Conv2D)            (None, 6, 6, 256)    16384       ['batch_normalization_103[0][0]']\n",
      "                                                                                                  \n",
      " activation_98 (Activation)     (None, 6, 6, 256)    0           ['conv2d_109[0][0]']             \n",
      "                                                                                                  \n",
      " add_31 (Add)                   (None, 6, 6, 256)    0           ['activation_98[0][0]',          \n",
      "                                                                  'dropout_36[0][0]']             \n",
      "                                                                                                  \n",
      " dropout_37 (Dropout)           (None, 6, 6, 256)    0           ['add_31[0][0]']                 \n",
      "                                                                                                  \n",
      " batch_normalization_104 (Batch  (None, 6, 6, 256)   1024        ['dropout_37[0][0]']             \n",
      " Normalization)                                                                                   \n",
      "                                                                                                  \n",
      " conv2d_110 (Conv2D)            (None, 2, 2, 128)    295040      ['batch_normalization_104[0][0]']\n",
      "                                                                                                  \n",
      " dropout_38 (Dropout)           (None, 2, 2, 128)    0           ['conv2d_110[0][0]']             \n",
      "                                                                                                  \n",
      " batch_normalization_105 (Batch  (None, 2, 2, 128)   512         ['dropout_38[0][0]']             \n",
      " Normalization)                                                                                   \n",
      "                                                                                                  \n",
      " conv2d_111 (Conv2D)            (None, 2, 2, 64)     8192        ['batch_normalization_105[0][0]']\n",
      "                                                                                                  \n",
      " activation_99 (Activation)     (None, 2, 2, 64)     0           ['conv2d_111[0][0]']             \n",
      "                                                                                                  \n",
      " batch_normalization_106 (Batch  (None, 2, 2, 64)    256         ['activation_99[0][0]']          \n",
      " Normalization)                                                                                   \n",
      "                                                                                                  \n",
      " conv2d_112 (Conv2D)            (None, 2, 2, 64)     36928       ['batch_normalization_106[0][0]']\n",
      "                                                                                                  \n",
      " activation_100 (Activation)    (None, 2, 2, 64)     0           ['conv2d_112[0][0]']             \n",
      "                                                                                                  \n"
     ]
    },
    {
     "name": "stdout",
     "output_type": "stream",
     "text": [
      " batch_normalization_107 (Batch  (None, 2, 2, 64)    256         ['activation_100[0][0]']         \n",
      " Normalization)                                                                                   \n",
      "                                                                                                  \n",
      " conv2d_113 (Conv2D)            (None, 2, 2, 256)    16384       ['batch_normalization_107[0][0]']\n",
      "                                                                                                  \n",
      " activation_101 (Activation)    (None, 2, 2, 256)    0           ['conv2d_113[0][0]']             \n",
      "                                                                                                  \n",
      " conv2d_114 (Conv2D)            (None, 2, 2, 256)    32768       ['dropout_38[0][0]']             \n",
      "                                                                                                  \n",
      " add_32 (Add)                   (None, 2, 2, 256)    0           ['activation_101[0][0]',         \n",
      "                                                                  'conv2d_114[0][0]']             \n",
      "                                                                                                  \n",
      " dropout_39 (Dropout)           (None, 2, 2, 256)    0           ['add_32[0][0]']                 \n",
      "                                                                                                  \n",
      " batch_normalization_108 (Batch  (None, 2, 2, 256)   1024        ['dropout_39[0][0]']             \n",
      " Normalization)                                                                                   \n",
      "                                                                                                  \n",
      " conv2d_115 (Conv2D)            (None, 2, 2, 64)     16384       ['batch_normalization_108[0][0]']\n",
      "                                                                                                  \n",
      " activation_102 (Activation)    (None, 2, 2, 64)     0           ['conv2d_115[0][0]']             \n",
      "                                                                                                  \n",
      " batch_normalization_109 (Batch  (None, 2, 2, 64)    256         ['activation_102[0][0]']         \n",
      " Normalization)                                                                                   \n",
      "                                                                                                  \n",
      " conv2d_116 (Conv2D)            (None, 2, 2, 64)     36928       ['batch_normalization_109[0][0]']\n",
      "                                                                                                  \n",
      " activation_103 (Activation)    (None, 2, 2, 64)     0           ['conv2d_116[0][0]']             \n",
      "                                                                                                  \n",
      " batch_normalization_110 (Batch  (None, 2, 2, 64)    256         ['activation_103[0][0]']         \n",
      " Normalization)                                                                                   \n",
      "                                                                                                  \n",
      " conv2d_117 (Conv2D)            (None, 2, 2, 256)    16384       ['batch_normalization_110[0][0]']\n",
      "                                                                                                  \n",
      " activation_104 (Activation)    (None, 2, 2, 256)    0           ['conv2d_117[0][0]']             \n",
      "                                                                                                  \n",
      " add_33 (Add)                   (None, 2, 2, 256)    0           ['activation_104[0][0]',         \n",
      "                                                                  'dropout_39[0][0]']             \n",
      "                                                                                                  \n",
      " dropout_40 (Dropout)           (None, 2, 2, 256)    0           ['add_33[0][0]']                 \n",
      "                                                                                                  \n",
      " batch_normalization_111 (Batch  (None, 2, 2, 256)   1024        ['dropout_40[0][0]']             \n",
      " Normalization)                                                                                   \n",
      "                                                                                                  \n",
      " conv2d_118 (Conv2D)            (None, 2, 2, 64)     16384       ['batch_normalization_111[0][0]']\n",
      "                                                                                                  \n",
      " activation_105 (Activation)    (None, 2, 2, 64)     0           ['conv2d_118[0][0]']             \n",
      "                                                                                                  \n",
      " batch_normalization_112 (Batch  (None, 2, 2, 64)    256         ['activation_105[0][0]']         \n",
      " Normalization)                                                                                   \n",
      "                                                                                                  \n",
      " conv2d_119 (Conv2D)            (None, 2, 2, 64)     36928       ['batch_normalization_112[0][0]']\n",
      "                                                                                                  \n",
      " activation_106 (Activation)    (None, 2, 2, 64)     0           ['conv2d_119[0][0]']             \n",
      "                                                                                                  \n",
      " batch_normalization_113 (Batch  (None, 2, 2, 64)    256         ['activation_106[0][0]']         \n",
      " Normalization)                                                                                   \n",
      "                                                                                                  \n",
      " conv2d_120 (Conv2D)            (None, 2, 2, 256)    16384       ['batch_normalization_113[0][0]']\n",
      "                                                                                                  \n",
      " activation_107 (Activation)    (None, 2, 2, 256)    0           ['conv2d_120[0][0]']             \n",
      "                                                                                                  \n",
      " add_34 (Add)                   (None, 2, 2, 256)    0           ['activation_107[0][0]',         \n",
      "                                                                  'dropout_40[0][0]']             \n",
      "                                                                                                  \n",
      " dropout_41 (Dropout)           (None, 2, 2, 256)    0           ['add_34[0][0]']                 \n",
      "                                                                                                  \n",
      " batch_normalization_114 (Batch  (None, 2, 2, 256)   1024        ['dropout_41[0][0]']             \n",
      " Normalization)                                                                                   \n",
      "                                                                                                  \n",
      " conv2d_121 (Conv2D)            (None, 2, 2, 64)     16384       ['batch_normalization_114[0][0]']\n",
      "                                                                                                  \n",
      " activation_108 (Activation)    (None, 2, 2, 64)     0           ['conv2d_121[0][0]']             \n",
      "                                                                                                  \n",
      " batch_normalization_115 (Batch  (None, 2, 2, 64)    256         ['activation_108[0][0]']         \n",
      " Normalization)                                                                                   \n",
      "                                                                                                  \n",
      " conv2d_122 (Conv2D)            (None, 2, 2, 64)     36928       ['batch_normalization_115[0][0]']\n",
      "                                                                                                  \n",
      " activation_109 (Activation)    (None, 2, 2, 64)     0           ['conv2d_122[0][0]']             \n",
      "                                                                                                  \n",
      " batch_normalization_116 (Batch  (None, 2, 2, 64)    256         ['activation_109[0][0]']         \n",
      " Normalization)                                                                                   \n",
      "                                                                                                  \n"
     ]
    },
    {
     "name": "stdout",
     "output_type": "stream",
     "text": [
      " conv2d_123 (Conv2D)            (None, 2, 2, 256)    16384       ['batch_normalization_116[0][0]']\n",
      "                                                                                                  \n",
      " activation_110 (Activation)    (None, 2, 2, 256)    0           ['conv2d_123[0][0]']             \n",
      "                                                                                                  \n",
      " add_35 (Add)                   (None, 2, 2, 256)    0           ['activation_110[0][0]',         \n",
      "                                                                  'dropout_41[0][0]']             \n",
      "                                                                                                  \n",
      " dropout_42 (Dropout)           (None, 2, 2, 256)    0           ['add_35[0][0]']                 \n",
      "                                                                                                  \n",
      " batch_normalization_117 (Batch  (None, 2, 2, 256)   1024        ['dropout_42[0][0]']             \n",
      " Normalization)                                                                                   \n",
      "                                                                                                  \n",
      " global_average_pooling2d_1 (Gl  (None, 256)         0           ['batch_normalization_117[0][0]']\n",
      " obalAveragePooling2D)                                                                            \n",
      "                                                                                                  \n",
      " dropout_43 (Dropout)           (None, 256)          0           ['global_average_pooling2d_1[0][0\n",
      "                                                                 ]']                              \n",
      "                                                                                                  \n",
      " batch_normalization_118 (Batch  (None, 256)         1024        ['dropout_43[0][0]']             \n",
      " Normalization)                                                                                   \n",
      "                                                                                                  \n",
      " dense_2 (Dense)                (None, 512)          131584      ['batch_normalization_118[0][0]']\n",
      "                                                                                                  \n",
      " activation_111 (Activation)    (None, 512)          0           ['dense_2[0][0]']                \n",
      "                                                                                                  \n",
      " batch_normalization_119 (Batch  (None, 512)         2048        ['activation_111[0][0]']         \n",
      " Normalization)                                                                                   \n",
      "                                                                                                  \n",
      " dense_3 (Dense)                (None, 4)            2052        ['batch_normalization_119[0][0]']\n",
      "                                                                                                  \n",
      "==================================================================================================\n",
      "Total params: 1,522,724\n",
      "Trainable params: 1,509,860\n",
      "Non-trainable params: 12,864\n",
      "__________________________________________________________________________________________________\n"
     ]
    }
   ],
   "source": [
    "model.summary()"
   ]
  },
  {
   "cell_type": "code",
   "execution_count": 43,
   "id": "3324c7fa",
   "metadata": {},
   "outputs": [
    {
     "name": "stdout",
     "output_type": "stream",
     "text": [
      "Testing started\n",
      "\n",
      "Epoch:  1\n",
      "2/2 - 10s - loss: 1.3472 - acc: 0.4167 - val_loss: 1.3883 - val_acc: 0.0000e+00 - 10s/epoch - 5s/step\n"
     ]
    },
    {
     "name": "stderr",
     "output_type": "stream",
     "text": [
      "WARNING:absl:Found untraced functions such as _jit_compiled_convolution_op, _jit_compiled_convolution_op, _jit_compiled_convolution_op, _jit_compiled_convolution_op, _jit_compiled_convolution_op while saving (showing 5 of 62). These functions will not be directly callable after loading.\n"
     ]
    },
    {
     "name": "stdout",
     "output_type": "stream",
     "text": [
      "INFO:tensorflow:Assets written to: ./RNmodels/1RN__IC_00008_FilledArea_0.9_BandNo_60_ImageHeight_30_ImageWidth_30_FILTER_snv_FeatureExtraction_none\\assets\n"
     ]
    },
    {
     "name": "stderr",
     "output_type": "stream",
     "text": [
      "INFO:tensorflow:Assets written to: ./RNmodels/1RN__IC_00008_FilledArea_0.9_BandNo_60_ImageHeight_30_ImageWidth_30_FILTER_snv_FeatureExtraction_none\\assets\n"
     ]
    },
    {
     "name": "stdout",
     "output_type": "stream",
     "text": [
      "Model saved on epoch:  1\n",
      "added to csv\n",
      "\n",
      "Epoch:  2\n",
      "2/2 - 1s - loss: 1.8311 - acc: 0.1667 - val_loss: 1.3916 - val_acc: 0.0000e+00 - 643ms/epoch - 322ms/step\n"
     ]
    },
    {
     "name": "stderr",
     "output_type": "stream",
     "text": [
      "WARNING:absl:Found untraced functions such as _jit_compiled_convolution_op, _jit_compiled_convolution_op, _jit_compiled_convolution_op, _jit_compiled_convolution_op, _jit_compiled_convolution_op while saving (showing 5 of 62). These functions will not be directly callable after loading.\n"
     ]
    },
    {
     "name": "stdout",
     "output_type": "stream",
     "text": [
      "INFO:tensorflow:Assets written to: ./RNmodels/2RN__IC_00008_FilledArea_0.9_BandNo_60_ImageHeight_30_ImageWidth_30_FILTER_snv_FeatureExtraction_none\\assets\n"
     ]
    },
    {
     "name": "stderr",
     "output_type": "stream",
     "text": [
      "INFO:tensorflow:Assets written to: ./RNmodels/2RN__IC_00008_FilledArea_0.9_BandNo_60_ImageHeight_30_ImageWidth_30_FILTER_snv_FeatureExtraction_none\\assets\n"
     ]
    },
    {
     "name": "stdout",
     "output_type": "stream",
     "text": [
      "Model saved on epoch:  2\n",
      "added to csv\n",
      "\n",
      "Epoch:  3\n",
      "2/2 - 1s - loss: 1.5777 - acc: 0.3333 - val_loss: 1.3951 - val_acc: 0.0000e+00 - 803ms/epoch - 401ms/step\n"
     ]
    },
    {
     "name": "stderr",
     "output_type": "stream",
     "text": [
      "WARNING:absl:Found untraced functions such as _jit_compiled_convolution_op, _jit_compiled_convolution_op, _jit_compiled_convolution_op, _jit_compiled_convolution_op, _jit_compiled_convolution_op while saving (showing 5 of 62). These functions will not be directly callable after loading.\n"
     ]
    },
    {
     "name": "stdout",
     "output_type": "stream",
     "text": [
      "INFO:tensorflow:Assets written to: ./RNmodels/3RN__IC_00008_FilledArea_0.9_BandNo_60_ImageHeight_30_ImageWidth_30_FILTER_snv_FeatureExtraction_none\\assets\n"
     ]
    },
    {
     "name": "stderr",
     "output_type": "stream",
     "text": [
      "INFO:tensorflow:Assets written to: ./RNmodels/3RN__IC_00008_FilledArea_0.9_BandNo_60_ImageHeight_30_ImageWidth_30_FILTER_snv_FeatureExtraction_none\\assets\n"
     ]
    },
    {
     "name": "stdout",
     "output_type": "stream",
     "text": [
      "Model saved on epoch:  3\n",
      "added to csv\n",
      "\n",
      "Epoch:  4\n",
      "2/2 - 1s - loss: 1.5954 - acc: 0.3333 - val_loss: 1.3997 - val_acc: 0.0000e+00 - 844ms/epoch - 422ms/step\n"
     ]
    },
    {
     "name": "stderr",
     "output_type": "stream",
     "text": [
      "WARNING:absl:Found untraced functions such as _jit_compiled_convolution_op, _jit_compiled_convolution_op, _jit_compiled_convolution_op, _jit_compiled_convolution_op, _jit_compiled_convolution_op while saving (showing 5 of 62). These functions will not be directly callable after loading.\n"
     ]
    },
    {
     "name": "stdout",
     "output_type": "stream",
     "text": [
      "INFO:tensorflow:Assets written to: ./RNmodels/4RN__IC_00008_FilledArea_0.9_BandNo_60_ImageHeight_30_ImageWidth_30_FILTER_snv_FeatureExtraction_none\\assets\n"
     ]
    },
    {
     "name": "stderr",
     "output_type": "stream",
     "text": [
      "INFO:tensorflow:Assets written to: ./RNmodels/4RN__IC_00008_FilledArea_0.9_BandNo_60_ImageHeight_30_ImageWidth_30_FILTER_snv_FeatureExtraction_none\\assets\n"
     ]
    },
    {
     "name": "stdout",
     "output_type": "stream",
     "text": [
      "Model saved on epoch:  4\n",
      "added to csv\n",
      "\n",
      "Epoch:  5\n",
      "2/2 - 1s - loss: 1.3376 - acc: 0.4167 - val_loss: 1.3991 - val_acc: 0.0000e+00 - 924ms/epoch - 462ms/step\n"
     ]
    },
    {
     "name": "stderr",
     "output_type": "stream",
     "text": [
      "WARNING:absl:Found untraced functions such as _jit_compiled_convolution_op, _jit_compiled_convolution_op, _jit_compiled_convolution_op, _jit_compiled_convolution_op, _jit_compiled_convolution_op while saving (showing 5 of 62). These functions will not be directly callable after loading.\n"
     ]
    },
    {
     "name": "stdout",
     "output_type": "stream",
     "text": [
      "INFO:tensorflow:Assets written to: ./RNmodels/5RN__IC_00008_FilledArea_0.9_BandNo_60_ImageHeight_30_ImageWidth_30_FILTER_snv_FeatureExtraction_none\\assets\n"
     ]
    },
    {
     "name": "stderr",
     "output_type": "stream",
     "text": [
      "INFO:tensorflow:Assets written to: ./RNmodels/5RN__IC_00008_FilledArea_0.9_BandNo_60_ImageHeight_30_ImageWidth_30_FILTER_snv_FeatureExtraction_none\\assets\n"
     ]
    },
    {
     "name": "stdout",
     "output_type": "stream",
     "text": [
      "Model saved on epoch:  5\n",
      "added to csv\n",
      "\n",
      "Epoch:  6\n",
      "2/2 - 1s - loss: 1.4442 - acc: 0.5000 - val_loss: 1.4013 - val_acc: 0.0000e+00 - 831ms/epoch - 416ms/step\n"
     ]
    },
    {
     "name": "stderr",
     "output_type": "stream",
     "text": [
      "WARNING:absl:Found untraced functions such as _jit_compiled_convolution_op, _jit_compiled_convolution_op, _jit_compiled_convolution_op, _jit_compiled_convolution_op, _jit_compiled_convolution_op while saving (showing 5 of 62). These functions will not be directly callable after loading.\n"
     ]
    },
    {
     "name": "stdout",
     "output_type": "stream",
     "text": [
      "INFO:tensorflow:Assets written to: ./RNmodels/6RN__IC_00008_FilledArea_0.9_BandNo_60_ImageHeight_30_ImageWidth_30_FILTER_snv_FeatureExtraction_none\\assets\n"
     ]
    },
    {
     "name": "stderr",
     "output_type": "stream",
     "text": [
      "INFO:tensorflow:Assets written to: ./RNmodels/6RN__IC_00008_FilledArea_0.9_BandNo_60_ImageHeight_30_ImageWidth_30_FILTER_snv_FeatureExtraction_none\\assets\n"
     ]
    },
    {
     "name": "stdout",
     "output_type": "stream",
     "text": [
      "Model saved on epoch:  6\n",
      "added to csv\n",
      "Testing time (s) = 182.59165480000047\n",
      "\n"
     ]
    }
   ],
   "source": [
    "tic = start_timer()\n",
    "while start_epoch<=last_epoch:\n",
    "    print(\"\\nEpoch: \",start_epoch)\n",
    "    history = model.fit(x_training, labels_training, batch_size=batch_size, epochs = 1, validation_split=0.2, verbose=2)\n",
    "    model.save('./RNmodels/'+str(start_epoch)+model_name)\n",
    "    print(\"Model saved on epoch: \",start_epoch)\n",
    "    \n",
    "    history_dataframe = pd.DataFrame.from_dict(history.history)\n",
    "    save_to_csv('../csvs/'+model_name+'.csv', history_dataframe, header=True)\n",
    "    print(\"added to csv\")\n",
    "    start_epoch+=1\n",
    "    \n",
    "toc = end_timer()\n",
    "show_time(tic,toc)\n"
   ]
  },
  {
   "cell_type": "code",
   "execution_count": 44,
   "id": "78d4ef3b",
   "metadata": {},
   "outputs": [
    {
     "name": "stdout",
     "output_type": "stream",
     "text": [
      "--------------Make Predictions--------------\n",
      "Testing started\n",
      "1/1 [==============================] - 1s 1s/step\n",
      "Testing time (s) = 1.4715464999990218\n",
      "\n",
      "--------\n",
      "Accuracy: 0.25\n",
      "Confusion matrix = \n",
      "[[4 0 0 0]\n",
      " [4 0 0 0]\n",
      " [4 0 0 0]\n",
      " [4 0 0 0]]\n",
      "------------------------------------------------\n"
     ]
    },
    {
     "data": {
      "image/png": "[encoded data removed]",
      "text/plain": [
       "<Figure size 640x480 with 2 Axes>"
      ]
     },
     "metadata": {},
     "output_type": "display_data"
    },
    {
     "name": "stdout",
     "output_type": "stream",
     "text": [
      "Classification Report:\n",
      "              precision    recall  f1-score   support\n",
      "\n",
      "           0       0.25      1.00      0.40         4\n",
      "           1       0.00      0.00      0.00         4\n",
      "           2       0.00      0.00      0.00         4\n",
      "           3       0.00      0.00      0.00         4\n",
      "\n",
      "    accuracy                           0.25        16\n",
      "   macro avg       0.06      0.25      0.10        16\n",
      "weighted avg       0.06      0.25      0.10        16\n",
      "\n"
     ]
    },
    {
     "name": "stderr",
     "output_type": "stream",
     "text": [
      "C:\\Users\\Admin\\AppData\\Local\\Programs\\Python\\Python310\\lib\\site-packages\\sklearn\\metrics\\_classification.py:1334: UndefinedMetricWarning: Precision and F-score are ill-defined and being set to 0.0 in labels with no predicted samples. Use `zero_division` parameter to control this behavior.\n",
      "  _warn_prf(average, modifier, msg_start, len(result))\n",
      "C:\\Users\\Admin\\AppData\\Local\\Programs\\Python\\Python310\\lib\\site-packages\\sklearn\\metrics\\_classification.py:1334: UndefinedMetricWarning: Precision and F-score are ill-defined and being set to 0.0 in labels with no predicted samples. Use `zero_division` parameter to control this behavior.\n",
      "  _warn_prf(average, modifier, msg_start, len(result))\n",
      "C:\\Users\\Admin\\AppData\\Local\\Programs\\Python\\Python310\\lib\\site-packages\\sklearn\\metrics\\_classification.py:1334: UndefinedMetricWarning: Precision and F-score are ill-defined and being set to 0.0 in labels with no predicted samples. Use `zero_division` parameter to control this behavior.\n",
      "  _warn_prf(average, modifier, msg_start, len(result))\n"
     ]
    }
   ],
   "source": [
    "predict(model,params[\"normalization_type\"])"
   ]
  },
  {
   "cell_type": "code",
   "execution_count": null,
   "id": "06167d25",
   "metadata": {},
   "outputs": [],
   "source": []
  }
 ],
 "metadata": {
  "kernelspec": {
   "display_name": "Python 3 (ipykernel)",
   "language": "python",
   "name": "python3"
  },
  "language_info": {
   "codemirror_mode": {
    "name": "ipython",
    "version": 3
   },
   "file_extension": ".py",
   "mimetype": "text/x-python",
   "name": "python",
   "nbconvert_exporter": "python",
   "pygments_lexer": "ipython3",
   "version": "3.10.7"
  }
 },
 "nbformat": 4,
 "nbformat_minor": 5
}
