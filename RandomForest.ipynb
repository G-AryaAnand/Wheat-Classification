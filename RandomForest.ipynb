{
 "cells": [
  {
   "cell_type": "code",
   "execution_count": 1,
   "id": "f93eb968",
   "metadata": {},
   "outputs": [
    {
     "name": "stderr",
     "output_type": "stream",
     "text": [
      "2023-08-02 23:48:08.104357: I tensorflow/core/platform/cpu_feature_guard.cc:182] This TensorFlow binary is optimized to use available CPU instructions in performance-critical operations.\n",
      "To enable the following instructions: AVX2 AVX512F FMA, in other operations, rebuild TensorFlow with the appropriate compiler flags.\n",
      "2023-08-02 23:48:19.464798: W tensorflow/compiler/tf2tensorrt/utils/py_utils.cc:38] TF-TRT Warning: Could not find TensorRT\n"
     ]
    }
   ],
   "source": [
    "import tensorflow as tf"
   ]
  },
  {
   "cell_type": "code",
   "execution_count": 2,
   "id": "6c004aea",
   "metadata": {},
   "outputs": [],
   "source": [
    "import os,timeit\n",
    "import numpy as np"
   ]
  },
  {
   "cell_type": "code",
   "execution_count": 3,
   "id": "9824e5df",
   "metadata": {},
   "outputs": [],
   "source": [
    "from numpy import random"
   ]
  },
  {
   "cell_type": "code",
   "execution_count": 4,
   "id": "3dd26930",
   "metadata": {},
   "outputs": [
    {
     "name": "stdout",
     "output_type": "stream",
     "text": [
      "Num GPUs Available:  1\n"
     ]
    }
   ],
   "source": [
    "print(\"Num GPUs Available: \", len(tf.config.list_physical_devices('GPU')))"
   ]
  },
  {
   "cell_type": "code",
   "execution_count": 5,
   "id": "0f72da7a",
   "metadata": {},
   "outputs": [],
   "source": [
    "from sys import platform\n",
    "DATA_DIRECTORY = \"\"\n",
    "SLASH = \"\"\n",
    "if platform == \"linux\" or platform == \"linux2\":\n",
    "    DATA_DIRECTORY = \"/home/tyagi/Desktop/wheat/data/BULK/\"\n",
    "    SLASH = \"/\"\n",
    "elif platform == \"win32\":\n",
    "    DATA_DIRECTORY = \"D:\\mvl\\wheat\\data\\BULK\\\\\"\n",
    "    SLASH=\"\\\\\""
   ]
  },
  {
   "cell_type": "code",
   "execution_count": 6,
   "id": "5979451f",
   "metadata": {},
   "outputs": [],
   "source": [
    "#Constants\n",
    "BAND_NUMBER = 60\n",
    "FILLED_AREA_RATIO = 0.90\n",
    "TOTAL_IMAGE_COUNT = 2400\n",
    "IMAGE_COUNT = int(TOTAL_IMAGE_COUNT/4)\n",
    "NUM_VARIETIES = 4\n",
    "NUM_OF_BANDS = 15\n",
    "\n",
    "REMOVE_NOISY_BANDS = False\n",
    "FIRST_BAND = 15\n",
    "LAST_BAND = 161\n",
    "\n",
    "IMAGE_WIDTH = 30\n",
    "IMAGE_HEIGHT = 30"
   ]
  },
  {
   "cell_type": "code",
   "execution_count": 7,
   "id": "06331561-95ec-46b3-b3b1-0754d38c5c40",
   "metadata": {},
   "outputs": [],
   "source": [
    "from enum import Enum\n",
    "\n",
    "class filter_method(Enum):\n",
    "    none = 0\n",
    "    snv = 1\n",
    "    msc = 2\n",
    "    savgol = 3\n",
    "    \n",
    "FILTER = filter_method(1).name\n",
    "\n",
    "# to be set if filter chosen is savgol\n",
    "WINDOW = 7\n",
    "ORDER = 2\n",
    "DERIVATIVE = \"none\""
   ]
  },
  {
   "cell_type": "code",
   "execution_count": 8,
   "id": "737284cd-da62-4bf5-9eb4-0a649f0834f4",
   "metadata": {},
   "outputs": [],
   "source": [
    "from enum import Enum\n",
    " \n",
    "class feature_extraction_method(Enum):\n",
    "    none = 0\n",
    "    pca_loading = 1\n",
    "    lda = 2\n",
    "    ipca = 3\n",
    "\n",
    "FEATURE_EXTRACTION = feature_extraction_method(0).name\n",
    "\n",
    "NUM_OF_BANDS = 3\n",
    "if FEATURE_EXTRACTION == \"pca_loading\" or FEATURE_EXTRACTION == \"ipca\":\n",
    "    NUM_OF_BANDS = 8\n",
    "elif FEATURE_EXTRACTION == \"lda\":\n",
    "    NUM_OF_BANDS = 3\n",
    "    assert NUM_OF_BANDS <= min(NUM_VARIETIES-1,168),\"NUM_OF_BANDS is greater.\""
   ]
  },
  {
   "cell_type": "code",
   "execution_count": 9,
   "id": "8db0be23",
   "metadata": {},
   "outputs": [],
   "source": [
    "# List for All varieties\n",
    "VARIETIES = []\n",
    "VARIETIES_CODE = {}\n",
    "\n",
    "for name in os.listdir(DATA_DIRECTORY):\n",
    "    if (name.endswith(\".hdr\") or name.endswith(\".bil\")):\n",
    "        continue\n",
    "    VARIETIES_CODE[name] = len(VARIETIES)\n",
    "    VARIETIES.append(name)\n",
    "    if len(VARIETIES)==NUM_VARIETIES:\n",
    "        break"
   ]
  },
  {
   "cell_type": "code",
   "execution_count": 10,
   "id": "e61072a5",
   "metadata": {},
   "outputs": [],
   "source": [
    "def start_timer():\n",
    "    print(\"Testing started\")\n",
    "    return timeit.default_timer()\n",
    "\n",
    "def end_timer():\n",
    "    return timeit.default_timer()\n",
    "\n",
    "def show_time(tic,toc): \n",
    "    test_time = toc - tic\n",
    "    print('Testing time (s) = ' + str(test_time) + '\\n')"
   ]
  },
  {
   "cell_type": "code",
   "execution_count": 11,
   "id": "72409e2c",
   "metadata": {},
   "outputs": [],
   "source": [
    "def dataset_file_name(variety):\n",
    "    name = \"./dataset/V\"+str(variety).zfill(3)+\"_IC_\"+str(TOTAL_IMAGE_COUNT).zfill(5)+\"_FilledArea_\"+str(FILLED_AREA_RATIO)+\"_NumOfBands_\"+str(NUM_OF_BANDS)+\"_FB_\"+str(FIRST_BAND)+\"_LB_\"+str(LAST_BAND)+\"_BandNo_\"+str(BAND_NUMBER)+\"_ImageHeight_\"+str(IMAGE_HEIGHT)+\"_ImageWidth_\"+str(IMAGE_WIDTH)+\"_FILTER_\"+str(FILTER)+\"_FeatureExtraction_\"+str(FEATURE_EXTRACTION)\n",
    "    if REMOVE_NOISY_BANDS:\n",
    "        name+=\"_REMOVE_NOISY_BANDS_\"+str(REMOVE_NOISY_BANDS)\n",
    "    if FILTER == \"savgol\":\n",
    "        name+=\"_WINDOW_\"+str(WINDOW)+\"_ORDER_\"+str(ORDER)\n",
    "    return name"
   ]
  },
  {
   "cell_type": "code",
   "execution_count": 12,
   "id": "cb9af0fc",
   "metadata": {},
   "outputs": [
    {
     "name": "stdout",
     "output_type": "stream",
     "text": [
      "idx:  0\n",
      "idx:  1\n",
      "idx:  2\n",
      "idx:  3\n"
     ]
    }
   ],
   "source": [
    "train_dataset = []\n",
    "train_dataset_label = []\n",
    "test_dataset=[]\n",
    "test_dataset_label = []\n",
    "\n",
    "for idx, v in enumerate(VARIETIES):\n",
    "    print(\"idx: \",idx)\n",
    "    if idx >= NUM_VARIETIES:\n",
    "        break\n",
    "    train_dataset= train_dataset + np.load(dataset_file_name(v)+\"_train_dataset.npy\").tolist()\n",
    "    train_dataset_label = train_dataset_label + np.load(dataset_file_name(v)+\"_train_dataset_label.npy\").tolist()\n",
    "    test_dataset = test_dataset + np.load(dataset_file_name(v)+\"_test_dataset.npy\").tolist()\n",
    "    test_dataset_label = test_dataset_label + np.load(dataset_file_name(v)+\"_test_dataset_label.npy\").tolist()\n",
    "    \n",
    "train_dataset = np.array(train_dataset)\n",
    "train_dataset_label = np.array(train_dataset_label)\n",
    "test_dataset = np.array(test_dataset)\n",
    "test_dataset_label = np.array(test_dataset_label)"
   ]
  },
  {
   "cell_type": "code",
   "execution_count": 13,
   "id": "7f4701f9",
   "metadata": {},
   "outputs": [],
   "source": [
    "from sklearn.ensemble import RandomForestClassifier\n",
    "from sklearn.metrics import accuracy_score, confusion_matrix, classification_report"
   ]
  },
  {
   "cell_type": "code",
   "execution_count": 15,
   "id": "73fb5fb1",
   "metadata": {},
   "outputs": [],
   "source": [
    "nsamples, nx, ny,nb = train_dataset.shape\n",
    "nsamplestest, nx, ny,nb = test_dataset.shape\n",
    "d2_train_dataset = train_dataset.reshape((nsamples,nx*ny*nb))\n",
    "d2_test_dataset = test_dataset.reshape((nsamplestest,nx*ny*nb))"
   ]
  },
  {
   "cell_type": "code",
   "execution_count": 16,
   "id": "73c47034",
   "metadata": {},
   "outputs": [],
   "source": [
    "# creating a RF classifier\n",
    "clf = RandomForestClassifier(n_estimators = 100)"
   ]
  },
  {
   "cell_type": "code",
   "execution_count": 17,
   "id": "4443f7ab",
   "metadata": {},
   "outputs": [
    {
     "name": "stdout",
     "output_type": "stream",
     "text": [
      "Testing started\n",
      "Testing time (s) = 382.864720475\n",
      "\n"
     ]
    }
   ],
   "source": [
    "# Training the model on the training dataset\n",
    "# fit function is used to train the model using the training sets as parameters\n",
    "tic = start_timer()\n",
    "clf.fit(d2_train_dataset, train_dataset_label)\n",
    "toc = end_timer()\n",
    "show_time(tic,toc)"
   ]
  },
  {
   "cell_type": "code",
   "execution_count": 18,
   "id": "a03e37c7",
   "metadata": {},
   "outputs": [
    {
     "name": "stdout",
     "output_type": "stream",
     "text": [
      "ACCURACY OF THE MODEL:  0.6541666666666667\n"
     ]
    }
   ],
   "source": [
    "# performing predictions on the test dataset\n",
    "y_pred = clf.predict(d2_test_dataset)\n",
    "\n",
    "print(\"ACCURACY OF THE MODEL: \", accuracy_score(test_dataset_label, y_pred))"
   ]
  },
  {
   "cell_type": "code",
   "execution_count": 19,
   "id": "d4f4cbe9",
   "metadata": {},
   "outputs": [
    {
     "name": "stdout",
     "output_type": "stream",
     "text": [
      "[[286  99  38  57]\n",
      " [105 240  55  80]\n",
      " [ 22  18 414  26]\n",
      " [ 55  72  37 316]]\n"
     ]
    }
   ],
   "source": [
    "print(confusion_matrix(test_dataset_label, y_pred))"
   ]
  },
  {
   "cell_type": "code",
   "execution_count": null,
   "id": "6b0643dc-3618-40a9-b2a9-aeff31a6d91f",
   "metadata": {},
   "outputs": [],
   "source": []
  },
  {
   "cell_type": "code",
   "execution_count": 20,
   "id": "e5c1adb0-4b66-44fa-871c-394524a1a911",
   "metadata": {},
   "outputs": [],
   "source": [
    "# creating a RF classifier\n",
    "clf2 = RandomForestClassifier(n_estimators = 200)"
   ]
  },
  {
   "cell_type": "code",
   "execution_count": 21,
   "id": "4c7e7261-f63b-4731-90ed-7929cdf6f1cc",
   "metadata": {},
   "outputs": [
    {
     "name": "stdout",
     "output_type": "stream",
     "text": [
      "Testing started\n",
      "Testing time (s) = 769.3837535999992\n",
      "\n"
     ]
    }
   ],
   "source": [
    "# Training the model on the training dataset\n",
    "# fit function is used to train the model using the training sets as parameters\n",
    "tic = start_timer()\n",
    "clf2.fit(d2_train_dataset, train_dataset_label)\n",
    "toc = end_timer()\n",
    "show_time(tic,toc)"
   ]
  },
  {
   "cell_type": "code",
   "execution_count": 22,
   "id": "45fe3071-c57f-46c5-8a7a-1e2361dec3b7",
   "metadata": {},
   "outputs": [
    {
     "name": "stdout",
     "output_type": "stream",
     "text": [
      "ACCURACY OF THE MODEL:  0.6911458333333333\n"
     ]
    }
   ],
   "source": [
    "# performing predictions on the test dataset\n",
    "y_pred = clf2.predict(d2_test_dataset)\n",
    "\n",
    "print(\"ACCURACY OF THE MODEL: \", accuracy_score(test_dataset_label, y_pred))"
   ]
  },
  {
   "cell_type": "code",
   "execution_count": 23,
   "id": "271c9866-822b-4cd0-b403-340c7c083b3f",
   "metadata": {},
   "outputs": [
    {
     "name": "stdout",
     "output_type": "stream",
     "text": [
      "[[304  74  39  63]\n",
      " [ 87 261  53  79]\n",
      " [ 17  21 423  19]\n",
      " [ 48  65  28 339]]\n"
     ]
    }
   ],
   "source": [
    "print(confusion_matrix(test_dataset_label, y_pred))"
   ]
  },
  {
   "cell_type": "code",
   "execution_count": null,
   "id": "29f43e24-ec1b-45ae-bdfd-f578012aacbf",
   "metadata": {},
   "outputs": [],
   "source": []
  },
  {
   "cell_type": "code",
   "execution_count": 24,
   "id": "4565a1f0-7d2b-411b-be5c-3f0818d7dc3a",
   "metadata": {},
   "outputs": [],
   "source": [
    "# creating a RF classifier\n",
    "clf3 = RandomForestClassifier(n_estimators = 400)"
   ]
  },
  {
   "cell_type": "code",
   "execution_count": 25,
   "id": "400db5e4-f480-4438-af75-734fa0d84d70",
   "metadata": {},
   "outputs": [
    {
     "name": "stdout",
     "output_type": "stream",
     "text": [
      "Testing started\n",
      "Testing time (s) = 1550.4307582929996\n",
      "\n"
     ]
    }
   ],
   "source": [
    "# Training the model on the training dataset\n",
    "# fit function is used to train the model using the training sets as parameters\n",
    "tic = start_timer()\n",
    "clf3.fit(d2_train_dataset, train_dataset_label)\n",
    "toc = end_timer()\n",
    "show_time(tic,toc)"
   ]
  },
  {
   "cell_type": "code",
   "execution_count": 26,
   "id": "607c94fc-fd87-456d-8eaa-757671266927",
   "metadata": {},
   "outputs": [
    {
     "name": "stdout",
     "output_type": "stream",
     "text": [
      "ACCURACY OF THE MODEL:  0.7286458333333333\n"
     ]
    }
   ],
   "source": [
    "# performing predictions on the test dataset\n",
    "y_pred = clf3.predict(d2_test_dataset)\n",
    "\n",
    "print(\"ACCURACY OF THE MODEL: \", accuracy_score(test_dataset_label, y_pred))"
   ]
  },
  {
   "cell_type": "code",
   "execution_count": 27,
   "id": "b447127e-b4a9-4311-b829-baaa58364d04",
   "metadata": {},
   "outputs": [
    {
     "name": "stdout",
     "output_type": "stream",
     "text": [
      "[[317  71  33  59]\n",
      " [ 75 289  44  72]\n",
      " [ 17  12 424  27]\n",
      " [ 29  65  17 369]]\n"
     ]
    }
   ],
   "source": [
    "print(confusion_matrix(test_dataset_label, y_pred))"
   ]
  },
  {
   "cell_type": "code",
   "execution_count": 28,
   "id": "02675874-3ca4-4e67-b16e-cb10fe21c002",
   "metadata": {},
   "outputs": [
    {
     "name": "stdout",
     "output_type": "stream",
     "text": [
      "Testing started\n",
      "Testing time (s) = 1911.6362738890002\n",
      "\n",
      "ACCURACY OF THE MODEL:  0.7229166666666667\n",
      "[[324  70  37  49]\n",
      " [ 82 268  55  75]\n",
      " [ 16  11 428  25]\n",
      " [ 34  57  21 368]]\n",
      "Testing started\n",
      "Testing time (s) = 2268.924234922999\n",
      "\n",
      "ACCURACY OF THE MODEL:  0.7276041666666667\n",
      "[[333  58  40  49]\n",
      " [ 82 269  57  72]\n",
      " [ 15  13 430  22]\n",
      " [ 32  66  17 365]]\n",
      "Testing started\n",
      "Testing time (s) = 2648.54316913\n",
      "\n",
      "ACCURACY OF THE MODEL:  0.725\n",
      "[[327  65  39  49]\n",
      " [ 78 278  52  72]\n",
      " [ 16   9 428  27]\n",
      " [ 42  57  22 359]]\n",
      "Testing started\n",
      "Testing time (s) = 3032.4836687530005\n",
      "\n",
      "ACCURACY OF THE MODEL:  0.7244791666666667\n",
      "[[327  55  39  59]\n",
      " [ 84 267  58  71]\n",
      " [ 16   9 430  25]\n",
      " [ 30  67  16 367]]\n",
      "Testing started\n",
      "Testing time (s) = 3427.0532836310012\n",
      "\n",
      "ACCURACY OF THE MODEL:  0.7359375\n",
      "[[330  68  37  45]\n",
      " [ 71 282  54  73]\n",
      " [ 18   9 425  28]\n",
      " [ 26  61  17 376]]\n"
     ]
    }
   ],
   "source": [
    "for x in range(5,10):\n",
    "    clf3 = RandomForestClassifier(n_estimators = x*100)\n",
    "    tic = start_timer()\n",
    "    clf3.fit(d2_train_dataset, train_dataset_label)\n",
    "    toc = end_timer()\n",
    "    show_time(tic,toc)\n",
    "    \n",
    "    y_pred = clf3.predict(d2_test_dataset)\n",
    "    \n",
    "    print(\"ACCURACY OF THE MODEL: \", accuracy_score(test_dataset_label, y_pred))\n",
    "    print(confusion_matrix(test_dataset_label, y_pred))"
   ]
  },
  {
   "cell_type": "code",
   "execution_count": 29,
   "id": "9f001499-2cd7-413d-9875-6be192b91eef",
   "metadata": {},
   "outputs": [
    {
     "name": "stdout",
     "output_type": "stream",
     "text": [
      "Testing started\n",
      "Testing time (s) = 3918.6789783580025\n",
      "\n",
      "Estimators:  1000   ACCURACY OF THE MODEL:  0.7265625\n",
      "[[327  55  40  58]\n",
      " [ 83 274  52  71]\n",
      " [ 18  10 426  26]\n",
      " [ 30  63  19 368]]\n",
      "Testing started\n",
      "Testing time (s) = 4159.905602744002\n",
      "\n",
      "Estimators:  1100   ACCURACY OF THE MODEL:  0.7338541666666667\n",
      "[[332  61  38  49]\n",
      " [ 79 280  54  67]\n",
      " [ 13  12 429  26]\n",
      " [ 35  57  20 368]]\n",
      "Testing started\n",
      "Testing time (s) = 4541.535053742999\n",
      "\n",
      "Estimators:  1200   ACCURACY OF THE MODEL:  0.7255208333333333\n",
      "[[327  59  39  55]\n",
      " [ 78 270  56  76]\n",
      " [ 14  11 431  24]\n",
      " [ 32  60  23 365]]\n",
      "Testing started\n",
      "Testing time (s) = 4923.764090279998\n",
      "\n",
      "Estimators:  1300   ACCURACY OF THE MODEL:  0.7364583333333333\n",
      "[[336  56  37  51]\n",
      " [ 82 273  53  72]\n",
      " [ 14  10 434  22]\n",
      " [ 23  64  22 371]]\n",
      "Testing started\n",
      "Testing time (s) = 5294.585970604006\n",
      "\n",
      "Estimators:  1400   ACCURACY OF THE MODEL:  0.7296875\n",
      "[[338  55  33  54]\n",
      " [ 86 265  55  74]\n",
      " [ 15   9 429  27]\n",
      " [ 32  57  22 369]]\n"
     ]
    }
   ],
   "source": [
    "for x in range(10,15):\n",
    "    clf3 = RandomForestClassifier(n_estimators = x*100)\n",
    "    tic = start_timer()\n",
    "    clf3.fit(d2_train_dataset, train_dataset_label)\n",
    "    toc = end_timer()\n",
    "    show_time(tic,toc)\n",
    "    \n",
    "    y_pred = clf3.predict(d2_test_dataset)\n",
    "    \n",
    "    print(\"Estimators: \",x*100,\"  ACCURACY OF THE MODEL: \", accuracy_score(test_dataset_label, y_pred))\n",
    "    print(confusion_matrix(test_dataset_label, y_pred))"
   ]
  },
  {
   "cell_type": "code",
   "execution_count": null,
   "id": "5f898b18-bc5d-4071-b863-0fa452e8a7bd",
   "metadata": {},
   "outputs": [],
   "source": []
  }
 ],
 "metadata": {
  "kernelspec": {
   "display_name": "Python 3 (ipykernel)",
   "language": "python",
   "name": "python3"
  },
  "language_info": {
   "codemirror_mode": {
    "name": "ipython",
    "version": 3
   },
   "file_extension": ".py",
   "mimetype": "text/x-python",
   "name": "python",
   "nbconvert_exporter": "python",
   "pygments_lexer": "ipython3",
   "version": "3.9.12"
  }
 },
 "nbformat": 4,
 "nbformat_minor": 5
}
