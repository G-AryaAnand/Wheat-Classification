{
 "cells": [
  {
   "cell_type": "code",
   "execution_count": 1,
   "id": "f93eb968",
   "metadata": {},
   "outputs": [],
   "source": [
    "import tensorflow as tf"
   ]
  },
  {
   "cell_type": "code",
   "execution_count": 2,
   "id": "6c004aea",
   "metadata": {},
   "outputs": [],
   "source": [
    "import os,timeit\n",
    "import numpy as np"
   ]
  },
  {
   "cell_type": "code",
   "execution_count": 11,
   "id": "e284cdaa",
   "metadata": {},
   "outputs": [],
   "source": [
    "from numpy import random"
   ]
  },
  {
   "cell_type": "code",
   "execution_count": 3,
   "id": "3dd26930",
   "metadata": {},
   "outputs": [
    {
     "name": "stdout",
     "output_type": "stream",
     "text": [
      "Num GPUs Available:  0\n"
     ]
    }
   ],
   "source": [
    "print(\"Num GPUs Available: \", len(tf.config.list_physical_devices('GPU')))"
   ]
  },
  {
   "cell_type": "code",
   "execution_count": 4,
   "id": "0f72da7a",
   "metadata": {},
   "outputs": [],
   "source": [
    "from sys import platform\n",
    "DATA_DIRECTORY = \"\"\n",
    "SLASH = \"\"\n",
    "if platform == \"linux\" or platform == \"linux2\":\n",
    "    DATA_DIRECTORY = \"/home/nitintyagi/wheat data/BULK/\"\n",
    "    SLASH = \"/\"\n",
    "elif platform == \"win32\":\n",
    "    DATA_DIRECTORY = \"D:\\mvl\\wheat\\data\\BULK\\\\\"\n",
    "    SLASH=\"\\\\\""
   ]
  },
  {
   "cell_type": "code",
   "execution_count": 7,
   "id": "08f2f655",
   "metadata": {},
   "outputs": [],
   "source": [
    "MAX_VARIETIES = len(os.listdir(DATA_DIRECTORY)) - 8"
   ]
  },
  {
   "cell_type": "code",
   "execution_count": 9,
   "id": "5979451f",
   "metadata": {},
   "outputs": [],
   "source": [
    "#Constants\n",
    "BAND_NUMBER = 60\n",
    "FILLED_AREA_RATIO = 0.50\n",
    "TOTAL_IMAGE_COUNT = 8\n",
    "IMAGE_COUNT = int(TOTAL_IMAGE_COUNT/4)\n",
    "NUM_VARIETIES = 4\n",
    "NUM_OF_BANDS = 15\n",
    "FIRST_BAND = 21\n",
    "LAST_BAND = 149\n",
    "\n",
    "IMAGE_WIDTH = 30\n",
    "IMAGE_HEIGHT = 30"
   ]
  },
  {
   "cell_type": "code",
   "execution_count": 13,
   "id": "770ab6f7",
   "metadata": {},
   "outputs": [
    {
     "name": "stdout",
     "output_type": "stream",
     "text": [
      "[ 3  8 13 14]\n"
     ]
    }
   ],
   "source": [
    "CHOSEN_VARIETIES = random.randint(MAX_VARIETIES, size=(NUM_VARIETIES))\n",
    "CHOSEN_VARIETIES.sort()\n",
    "print(CHOSEN_VARIETIES)"
   ]
  },
  {
   "cell_type": "code",
   "execution_count": 17,
   "id": "362dafa3",
   "metadata": {},
   "outputs": [
    {
     "name": "stdout",
     "output_type": "stream",
     "text": [
      "[1 2]\n"
     ]
    }
   ],
   "source": [
    "CHOSEN_VARIETIES = random.randint(4, size=(2))\n",
    "CHOSEN_VARIETIES.sort()\n",
    "print(CHOSEN_VARIETIES)"
   ]
  },
  {
   "cell_type": "code",
   "execution_count": 18,
   "id": "e61072a5",
   "metadata": {},
   "outputs": [],
   "source": [
    "def start_timer():\n",
    "    print(\"Testing started\")\n",
    "    return timeit.default_timer()\n",
    "\n",
    "def end_timer():\n",
    "    return timeit.default_timer()\n",
    "\n",
    "def show_time(tic,toc): \n",
    "    test_time = toc - tic\n",
    "    print('Testing time (s) = ' + str(test_time) + '\\n')"
   ]
  },
  {
   "cell_type": "code",
   "execution_count": 19,
   "id": "72409e2c",
   "metadata": {},
   "outputs": [],
   "source": [
    "def dataset_file_name():\n",
    "    return \"./dataset/V\"+str(NUM_VARIETIES).zfill(3)+\"_IC_\"+str(TOTAL_IMAGE_COUNT).zfill(5)+\"_FilledArea_\"+str(FILLED_AREA_RATIO)+\"_NumOfBands_\"+str(NUM_OF_BANDS)+\"_FB_\"+str(FIRST_BAND)+\"_LB_\"+str(LAST_BAND)+\"_BandNo_\"+str(BAND_NUMBER)+\"_ImageHeight_\"+str(IMAGE_HEIGHT)+\"_ImageWidth_\"+str(IMAGE_WIDTH)"
   ]
  },
  {
   "cell_type": "code",
   "execution_count": 20,
   "id": "cb9af0fc",
   "metadata": {},
   "outputs": [],
   "source": [
    "DATASET_FILE_NAME = dataset_file_name()\n",
    "\n",
    "x_train_dataset = np.load(DATASET_FILE_NAME+\"_train_dataset.npy\")\n",
    "y_train_dataset_label = np.load(DATASET_FILE_NAME+\"_train_dataset_label.npy\")\n",
    "x_test_dataset = np.load(DATASET_FILE_NAME+\"_test_dataset.npy\")\n",
    "y_test_dataset_label = np.load(DATASET_FILE_NAME+\"_test_dataset_label.npy\")"
   ]
  },
  {
   "cell_type": "code",
   "execution_count": 23,
   "id": "06c82d9f",
   "metadata": {},
   "outputs": [],
   "source": [
    "#filter dataset\n",
    "def filter_dataset(input,input_label,filter):\n",
    "    out = []\n",
    "    out_label = []\n",
    "    for index,label in enumerate(input_label):\n",
    "        if label in filter:\n",
    "            out_label.append(input_label[index])\n",
    "            out.append(input[index])\n",
    "            \n",
    "    return np.array(out),np.array(out_label)"
   ]
  },
  {
   "cell_type": "code",
   "execution_count": 24,
   "id": "f80ddafb",
   "metadata": {},
   "outputs": [],
   "source": [
    "train_dataset, train_dataset_label = filter_dataset(x_train_dataset,y_train_dataset_label,CHOSEN_VARIETIES)\n",
    "test_dataset, test_dataset_label = filter_dataset(x_test_dataset,y_test_dataset_label,CHOSEN_VARIETIES)"
   ]
  },
  {
   "cell_type": "code",
   "execution_count": 26,
   "id": "7500f7f8",
   "metadata": {},
   "outputs": [
    {
     "data": {
      "text/plain": [
       "array([1, 1, 1, 1, 2, 2, 2, 2])"
      ]
     },
     "execution_count": 26,
     "metadata": {},
     "output_type": "execute_result"
    }
   ],
   "source": [
    "test_dataset_label"
   ]
  },
  {
   "cell_type": "code",
   "execution_count": null,
   "id": "7f4701f9",
   "metadata": {},
   "outputs": [],
   "source": [
    "from sklearn.ensemble import RandomForestClassifier\n",
    "from sklearn.metrics import accuracy_score, confusion_matrix, classification_report"
   ]
  },
  {
   "cell_type": "code",
   "execution_count": null,
   "id": "73fb5fb1",
   "metadata": {},
   "outputs": [],
   "source": [
    "nsamples, nx, ny,nb = train_dataset.shape\n",
    "d2_train_dataset = train_dataset.reshape((nsamples,nx*ny*nb))\n",
    "d2_test_dataset = test_dataset.reshape((nsamples,nx*ny*nb))"
   ]
  },
  {
   "cell_type": "code",
   "execution_count": null,
   "id": "73c47034",
   "metadata": {},
   "outputs": [],
   "source": [
    "# creating a RF classifier\n",
    "clf = RandomForestClassifier(n_estimators = 100)"
   ]
  },
  {
   "cell_type": "code",
   "execution_count": null,
   "id": "4443f7ab",
   "metadata": {},
   "outputs": [],
   "source": [
    "# Training the model on the training dataset\n",
    "# fit function is used to train the model using the training sets as parameters\n",
    "tic = start_timer()\n",
    "clf.fit(d2_train_dataset, train_dataset_label)\n",
    "toc = end_timer()\n",
    "show_time(tic,toc)"
   ]
  },
  {
   "cell_type": "code",
   "execution_count": null,
   "id": "a03e37c7",
   "metadata": {},
   "outputs": [],
   "source": [
    "# performing predictions on the test dataset\n",
    "y_pred = clf.predict(d2_test_dataset)\n",
    "\n",
    "print(\"ACCURACY OF THE MODEL: \", accuracy_score(test_dataset_label, y_pred))"
   ]
  },
  {
   "cell_type": "code",
   "execution_count": null,
   "id": "d4f4cbe9",
   "metadata": {},
   "outputs": [],
   "source": [
    "print(confusion_matrix(test_dataset_label, y_pred))"
   ]
  },
  {
   "cell_type": "code",
   "execution_count": null,
   "id": "54a67087",
   "metadata": {},
   "outputs": [],
   "source": []
  }
 ],
 "metadata": {
  "kernelspec": {
   "display_name": "Python 3 (ipykernel)",
   "language": "python",
   "name": "python3"
  },
  "language_info": {
   "codemirror_mode": {
    "name": "ipython",
    "version": 3
   },
   "file_extension": ".py",
   "mimetype": "text/x-python",
   "name": "python",
   "nbconvert_exporter": "python",
   "pygments_lexer": "ipython3",
   "version": "3.10.7"
  }
 },
 "nbformat": 4,
 "nbformat_minor": 5
}
