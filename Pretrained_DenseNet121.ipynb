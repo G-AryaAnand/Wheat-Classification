{
 "cells": [
  {
   "cell_type": "code",
   "execution_count": 20,
   "id": "ab567ac7",
   "metadata": {},
   "outputs": [],
   "source": [
    "import tensorflow as tf\n",
    "from tensorflow import keras as keras\n",
    "from keras.layers import Flatten, Dense\n",
    "from keras.layers import Input\n",
    "import numpy as np"
   ]
  },
  {
   "cell_type": "code",
   "execution_count": 33,
   "id": "ab9d38fa",
   "metadata": {},
   "outputs": [],
   "source": [
    "#Constants\n",
    "BAND_NUMBER = 60\n",
    "FILLED_AREA_RATIO = 0.90\n",
    "TOTAL_IMAGE_COUNT = 8\n",
    "IMAGE_COUNT = int(TOTAL_IMAGE_COUNT/4)\n",
    "NUM_VARIETIES = 4\n",
    "NUM_OF_BANDS = 3\n",
    "FIRST_BAND = 21\n",
    "LAST_BAND = 149\n",
    "\n",
    "IMAGE_WIDTH = 50\n",
    "IMAGE_HEIGHT = 50\n",
    "\n",
    "BATCH_SIZE = 2*NUM_VARIETIES\n",
    "LEARNING_RATE_BASE = 0.0001\n",
    "NUM_EPOCHS = 40"
   ]
  },
  {
   "cell_type": "code",
   "execution_count": 22,
   "id": "31673cc9",
   "metadata": {},
   "outputs": [],
   "source": [
    "def dataset_file_name():\n",
    "    return \"./dataset/V\"+str(NUM_VARIETIES).zfill(3)+\"_IC_\"+str(TOTAL_IMAGE_COUNT).zfill(5)+\"_FilledArea_\"+str(FILLED_AREA_RATIO)+\"_NumOfBands_\"+str(NUM_OF_BANDS)+\"_FB_\"+str(FIRST_BAND)+\"_LB_\"+str(LAST_BAND)+\"_BandNo_\"+str(BAND_NUMBER)+\"_ImageHeight_\"+str(IMAGE_HEIGHT)+\"_ImageWidth_\"+str(IMAGE_WIDTH)"
   ]
  },
  {
   "cell_type": "code",
   "execution_count": 23,
   "id": "b2f4f367",
   "metadata": {},
   "outputs": [],
   "source": [
    "DATASET_FILE_NAME = dataset_file_name()\n",
    "train_dataset = np.load(DATASET_FILE_NAME+\"_train_dataset.npy\")\n",
    "train_dataset_label = np.load(DATASET_FILE_NAME+\"_train_dataset_label.npy\")\n",
    "test_dataset = np.load(DATASET_FILE_NAME+\"_test_dataset.npy\")\n",
    "test_dataset_label = np.load(DATASET_FILE_NAME+\"_test_dataset_label.npy\")"
   ]
  },
  {
   "cell_type": "code",
   "execution_count": 24,
   "id": "c0ca6b54",
   "metadata": {},
   "outputs": [],
   "source": [
    "model = keras.models.Sequential()\n",
    "inp = Input(shape=(IMAGE_HEIGHT, IMAGE_WIDTH, NUM_OF_BANDS))"
   ]
  },
  {
   "cell_type": "code",
   "execution_count": 25,
   "id": "da617d0b",
   "metadata": {},
   "outputs": [],
   "source": [
    "denseNet = tf.keras.applications.DenseNet121(\n",
    "    include_top=False,\n",
    "    weights=\"imagenet\",\n",
    "    input_tensor=inp,\n",
    "    input_shape=None,\n",
    "    pooling=None,\n",
    "    classes=NUM_VARIETIES,\n",
    "    classifier_activation=\"softmax\",\n",
    ")"
   ]
  },
  {
   "cell_type": "code",
   "execution_count": 26,
   "id": "a76d8cab",
   "metadata": {},
   "outputs": [],
   "source": [
    "model.add(denseNet)\n",
    "model.add(Flatten())\n",
    "model.add(Dense(10))"
   ]
  },
  {
   "cell_type": "code",
   "execution_count": 27,
   "id": "d5bb68b2",
   "metadata": {},
   "outputs": [
    {
     "name": "stdout",
     "output_type": "stream",
     "text": [
      "Model: \"sequential_4\"\n",
      "_________________________________________________________________\n",
      " Layer (type)                Output Shape              Param #   \n",
      "=================================================================\n",
      " densenet121 (Functional)    (None, 1, 1, 1024)        7037504   \n",
      "                                                                 \n",
      " flatten_1 (Flatten)         (None, 1024)              0         \n",
      "                                                                 \n",
      " dense_1 (Dense)             (None, 10)                10250     \n",
      "                                                                 \n",
      "=================================================================\n",
      "Total params: 7,047,754\n",
      "Trainable params: 6,964,106\n",
      "Non-trainable params: 83,648\n",
      "_________________________________________________________________\n"
     ]
    }
   ],
   "source": [
    "model.summary()"
   ]
  },
  {
   "cell_type": "code",
   "execution_count": 28,
   "id": "03dbda73",
   "metadata": {},
   "outputs": [],
   "source": [
    "import timeit\n",
    "def start_timer():\n",
    "    print(\"Testing started\")\n",
    "    return timeit.default_timer()\n",
    "\n",
    "def end_timer():\n",
    "    return timeit.default_timer()\n",
    "\n",
    "def show_time(tic,toc): \n",
    "    test_time = toc - tic\n",
    "    print('Testing time (s) = ' + str(test_time) + '\\n')"
   ]
  },
  {
   "cell_type": "code",
   "execution_count": 29,
   "id": "d7d6895a",
   "metadata": {},
   "outputs": [],
   "source": [
    "from keras.optimizers import Adam\n",
    "adam_opt = Adam(learning_rate=LEARNING_RATE_BASE, beta_1=0.9, beta_2=0.999, epsilon=1e-08, decay=0.01)\n",
    "model.compile(loss='sparse_categorical_crossentropy', optimizer=adam_opt, metrics=['accuracy'])"
   ]
  },
  {
   "cell_type": "code",
   "execution_count": null,
   "id": "be948c2b",
   "metadata": {},
   "outputs": [
    {
     "name": "stdout",
     "output_type": "stream",
     "text": [
      "Testing started\n",
      "Epoch 1/40\n",
      "2/2 - 8s - loss: 3.3933 - accuracy: 0.5000 - val_loss: 6.4697 - val_accuracy: 0.0000e+00 - 8s/epoch - 4s/step\n",
      "Epoch 2/40\n",
      "2/2 - 1s - loss: 1.6359 - accuracy: 0.8333 - val_loss: 4.3363 - val_accuracy: 0.0000e+00 - 536ms/epoch - 268ms/step\n",
      "Epoch 3/40\n",
      "2/2 - 1s - loss: 3.5021 - accuracy: 0.5000 - val_loss: 3.9876 - val_accuracy: 0.2500 - 568ms/epoch - 284ms/step\n",
      "Epoch 4/40\n",
      "2/2 - 1s - loss: 3.2073 - accuracy: 0.4167 - val_loss: 1.6054 - val_accuracy: 0.2500 - 537ms/epoch - 268ms/step\n",
      "Epoch 5/40\n",
      "2/2 - 1s - loss: 3.1014 - accuracy: 0.6667 - val_loss: 1.5978 - val_accuracy: 0.2500 - 551ms/epoch - 275ms/step\n",
      "Epoch 6/40\n",
      "2/2 - 1s - loss: 2.0951 - accuracy: 0.6667 - val_loss: 1.5918 - val_accuracy: 0.2500 - 554ms/epoch - 277ms/step\n",
      "Epoch 7/40\n",
      "2/2 - 1s - loss: 3.4245 - accuracy: 0.5000 - val_loss: 1.5989 - val_accuracy: 0.2500 - 531ms/epoch - 266ms/step\n",
      "Epoch 8/40\n",
      "2/2 - 1s - loss: 2.1739 - accuracy: 0.5833 - val_loss: 1.6074 - val_accuracy: 0.2500 - 573ms/epoch - 287ms/step\n",
      "Epoch 9/40\n",
      "2/2 - 1s - loss: 2.4910 - accuracy: 0.3333 - val_loss: 1.6204 - val_accuracy: 0.2500 - 511ms/epoch - 256ms/step\n",
      "Epoch 10/40\n",
      "2/2 - 1s - loss: 1.8870 - accuracy: 0.6667 - val_loss: 1.6251 - val_accuracy: 0.2500 - 581ms/epoch - 291ms/step\n",
      "Epoch 11/40\n",
      "2/2 - 1s - loss: 2.1739 - accuracy: 0.4167 - val_loss: 1.6222 - val_accuracy: 0.2500 - 569ms/epoch - 284ms/step\n",
      "Epoch 12/40\n",
      "2/2 - 1s - loss: 2.0085 - accuracy: 0.6667 - val_loss: 1.6203 - val_accuracy: 0.2500 - 514ms/epoch - 257ms/step\n",
      "Epoch 13/40\n",
      "2/2 - 1s - loss: 1.8955 - accuracy: 0.6667 - val_loss: 1.6325 - val_accuracy: 0.5000 - 519ms/epoch - 259ms/step\n",
      "Epoch 14/40\n",
      "2/2 - 1s - loss: 3.3631 - accuracy: 0.6667 - val_loss: 1.6407 - val_accuracy: 0.5000 - 657ms/epoch - 329ms/step\n",
      "Epoch 15/40\n"
     ]
    }
   ],
   "source": [
    "tic = start_timer()\n",
    "model.fit(x=train_dataset,y=train_dataset_label,batch_size=BATCH_SIZE, epochs=NUM_EPOCHS, initial_epoch = 0, validation_split=0.2, verbose=2,shuffle=True)\n",
    "toc = end_timer()\n",
    "show_time(tic,toc)"
   ]
  },
  {
   "cell_type": "code",
   "execution_count": 31,
   "id": "3a1b9c97",
   "metadata": {},
   "outputs": [
    {
     "name": "stdout",
     "output_type": "stream",
     "text": [
      "---Train Accuracy---\n",
      "1/1 [==============================] - 2s 2s/step - loss: 8.0915 - accuracy: 0.1875\n",
      "---Test Accuracy---\n",
      "1/1 [==============================] - 0s 115ms/step - loss: 10.3611 - accuracy: 0.1250\n"
     ]
    },
    {
     "data": {
      "text/plain": [
       "[10.361146926879883, 0.125]"
      ]
     },
     "execution_count": 31,
     "metadata": {},
     "output_type": "execute_result"
    }
   ],
   "source": [
    "print(\"---Train Accuracy---\")\n",
    "model.evaluate(train_dataset,train_dataset_label)\n",
    "print(\"---Test Accuracy---\")\n",
    "model.evaluate(test_dataset,test_dataset_label)"
   ]
  },
  {
   "cell_type": "code",
   "execution_count": null,
   "id": "2d5cc0d2",
   "metadata": {},
   "outputs": [],
   "source": []
  },
  {
   "cell_type": "code",
   "execution_count": null,
   "id": "9ea0c81f",
   "metadata": {},
   "outputs": [],
   "source": []
  }
 ],
 "metadata": {
  "kernelspec": {
   "display_name": "Python 3 (ipykernel)",
   "language": "python",
   "name": "python3"
  },
  "language_info": {
   "codemirror_mode": {
    "name": "ipython",
    "version": 3
   },
   "file_extension": ".py",
   "mimetype": "text/x-python",
   "name": "python",
   "nbconvert_exporter": "python",
   "pygments_lexer": "ipython3",
   "version": "3.9.13"
  }
 },
 "nbformat": 4,
 "nbformat_minor": 5
}
