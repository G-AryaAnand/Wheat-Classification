{
 "cells": [
  {
   "cell_type": "code",
   "execution_count": 1,
   "id": "eb661222",
   "metadata": {},
   "outputs": [],
   "source": [
    "# !pip install opencv-python scikit-learn scikit-image matplotlib spectral keras_tuner vis\n",
    "# !pip install tensorflow numpy pandas\n",
    "# !pip install spectral"
   ]
  },
  {
   "cell_type": "code",
   "execution_count": 2,
   "id": "6b605089",
   "metadata": {},
   "outputs": [
    {
     "name": "stderr",
     "output_type": "stream",
     "text": [
      "2023-01-09 19:26:31.836630: I tensorflow/core/platform/cpu_feature_guard.cc:193] This TensorFlow binary is optimized with oneAPI Deep Neural Network Library (oneDNN) to use the following CPU instructions in performance-critical operations:  SSE4.1 SSE4.2 AVX AVX2 AVX512F FMA\n",
      "To enable them in other operations, rebuild TensorFlow with the appropriate compiler flags.\n"
     ]
    }
   ],
   "source": [
    "import tensorflow as tf"
   ]
  },
  {
   "cell_type": "code",
   "execution_count": 3,
   "id": "c6cc1a38",
   "metadata": {},
   "outputs": [],
   "source": [
    "from tensorflow import keras as keras\n",
    "from keras import layers as layers"
   ]
  },
  {
   "cell_type": "code",
   "execution_count": 4,
   "id": "6c004aea",
   "metadata": {},
   "outputs": [],
   "source": [
    "import os, timeit\n",
    "from skimage.filters import threshold_otsu\n",
    "import numpy as np\n",
    "from math import inf as inf"
   ]
  },
  {
   "cell_type": "code",
   "execution_count": 5,
   "id": "6c9300cb",
   "metadata": {},
   "outputs": [],
   "source": [
    "from spectral.io import envi as envi\n",
    "from spectral import imshow"
   ]
  },
  {
   "cell_type": "code",
   "execution_count": 6,
   "id": "ee790ffe",
   "metadata": {},
   "outputs": [],
   "source": [
    "from sklearn.decomposition import IncrementalPCA"
   ]
  },
  {
   "cell_type": "code",
   "execution_count": 7,
   "id": "bf3717a6",
   "metadata": {},
   "outputs": [],
   "source": [
    "import sys"
   ]
  },
  {
   "cell_type": "code",
   "execution_count": 8,
   "id": "3dd26930",
   "metadata": {},
   "outputs": [
    {
     "name": "stdout",
     "output_type": "stream",
     "text": [
      "Num GPUs Available:  0\n"
     ]
    },
    {
     "name": "stderr",
     "output_type": "stream",
     "text": [
      "2023-01-09 19:26:36.916837: E tensorflow/stream_executor/cuda/cuda_driver.cc:265] failed call to cuInit: CUDA_ERROR_NO_DEVICE: no CUDA-capable device is detected\n",
      "2023-01-09 19:26:36.916873: I tensorflow/stream_executor/cuda/cuda_diagnostics.cc:156] kernel driver does not appear to be running on this host (root1-HP-Z8-G4-Workstation): /proc/driver/nvidia/version does not exist\n"
     ]
    }
   ],
   "source": [
    "print(\"Num GPUs Available: \", len(tf.config.list_physical_devices('GPU')))"
   ]
  },
  {
   "cell_type": "code",
   "execution_count": 9,
   "id": "0f72da7a",
   "metadata": {},
   "outputs": [],
   "source": [
    "from sys import platform\n",
    "DATA_DIRECTORY = \"\"\n",
    "SLASH = \"\"\n",
    "if platform == \"linux\" or platform == \"linux2\":\n",
    "    DATA_DIRECTORY = \"/home/nitintyagi/wheat data/BULK/\"\n",
    "    SLASH = \"/\"\n",
    "elif platform == \"win32\":\n",
    "    DATA_DIRECTORY = \"D:\\mvl\\wheat\\data\\BULK\\\\\"\n",
    "    SLASH=\"\\\\\""
   ]
  },
  {
   "cell_type": "code",
   "execution_count": 10,
   "id": "5979451f",
   "metadata": {},
   "outputs": [],
   "source": [
    "#Constants\n",
    "BAND_NUMBER = 60\n",
    "FILLED_AREA_RATIO = 0.9\n",
    "TOTAL_IMAGE_COUNT = 2400\n",
    "IMAGE_COUNT = int(TOTAL_IMAGE_COUNT/4)\n",
    "NUM_VARIETIES = 4\n",
    "\n",
    "IMAGE_WIDTH = 30\n",
    "IMAGE_HEIGHT = 30"
   ]
  },
  {
   "cell_type": "code",
   "execution_count": 11,
   "id": "066f0249",
   "metadata": {},
   "outputs": [],
   "source": [
    "ACTIVATION_TYPE =  \"relu\"\n",
    "BATCH_SIZE = 2*NUM_VARIETIES\n",
    "\n",
    "LEARNING_RATE_BASE = 0.0001"
   ]
  },
  {
   "cell_type": "code",
   "execution_count": 12,
   "id": "6f32e132",
   "metadata": {},
   "outputs": [],
   "source": [
    "from enum import Enum\n",
    "class filter_method(Enum):\n",
    "    none = 0\n",
    "    snv = 1\n",
    "    msc = 2\n",
    "    \n",
    "FILTER = filter_method(2).name"
   ]
  },
  {
   "cell_type": "code",
   "execution_count": 13,
   "id": "2e3a1d3a",
   "metadata": {},
   "outputs": [],
   "source": [
    "from enum import Enum\n",
    " \n",
    "class feature_extraction_method(Enum):\n",
    "    none = 0\n",
    "    pca_loading = 1\n",
    "    lda = 2\n",
    "    ipca = 3\n",
    "\n",
    "FEATURE_EXTRACTION = feature_extraction_method(0).name\n",
    "\n",
    "NUM_OF_BANDS = 3\n",
    "if FEATURE_EXTRACTION == \"pca_loading\" or FEATURE_EXTRACTION == \"ipca\":\n",
    "    NUM_OF_BANDS = 8\n",
    "elif FEATURE_EXTRACTION == \"lda\":\n",
    "    NUM_OF_BANDS = 3\n",
    "    assert NUM_OF_BANDS <= min(NUM_VARIETIES-1,168),\"NUM_OF_BANDS is greater.\"\n",
    "\n",
    "\n",
    "REMOVE_NOISY_BANDS = True\n",
    "FIRST_BAND = 15\n",
    "LAST_BAND = 161"
   ]
  },
  {
   "cell_type": "code",
   "execution_count": 14,
   "id": "e61072a5",
   "metadata": {},
   "outputs": [],
   "source": [
    "def start_timer():\n",
    "    print(\"Testing started\")\n",
    "    return timeit.default_timer()\n",
    "\n",
    "def end_timer():\n",
    "    return timeit.default_timer()\n",
    "\n",
    "def show_time(tic,toc): \n",
    "    test_time = toc - tic\n",
    "    print('Testing time (s) = ' + str(test_time) + '\\n')"
   ]
  },
  {
   "cell_type": "code",
   "execution_count": 15,
   "id": "e16e403c",
   "metadata": {},
   "outputs": [],
   "source": [
    "# List for All varieties\n",
    "VARIETIES = []\n",
    "VARIETIES_CODE = {}\n",
    "\n",
    "for name in os.listdir(DATA_DIRECTORY):\n",
    "    if (name.endswith(\".hdr\") or name.endswith(\".bil\")):\n",
    "        continue\n",
    "    VARIETIES_CODE[name] = len(VARIETIES)\n",
    "    VARIETIES.append(name)\n",
    "    if len(VARIETIES)==NUM_VARIETIES:\n",
    "        break"
   ]
  },
  {
   "cell_type": "code",
   "execution_count": 16,
   "id": "72409e2c",
   "metadata": {},
   "outputs": [],
   "source": [
    "def dataset_file_name(variety):\n",
    "    name = \"./dataset/V\"+str(variety).zfill(3)+\"_IC_\"+str(TOTAL_IMAGE_COUNT).zfill(5)+\"_FilledArea_\"+str(FILLED_AREA_RATIO)+\"_NumOfBands_\"+str(NUM_OF_BANDS)+\"_FB_\"+str(FIRST_BAND)+\"_LB_\"+str(LAST_BAND)+\"_BandNo_\"+str(BAND_NUMBER)+\"_ImageHeight_\"+str(IMAGE_HEIGHT)+\"_ImageWidth_\"+str(IMAGE_WIDTH)+\"_FILTER_\"+str(FILTER)+\"_FeatureExtraction_\"+str(FEATURE_EXTRACTION)\n",
    "    if REMOVE_NOISY_BANDS:\n",
    "        name+=\"_REMOVE_NOISY_BANDS_\"+str(REMOVE_NOISY_BANDS)\n",
    "    return name"
   ]
  },
  {
   "cell_type": "code",
   "execution_count": 17,
   "id": "e74afa6d",
   "metadata": {},
   "outputs": [
    {
     "name": "stdout",
     "output_type": "stream",
     "text": [
      "idx:  0\n",
      "idx:  1\n",
      "idx:  2\n",
      "idx:  3\n"
     ]
    }
   ],
   "source": [
    "train_dataset = []\n",
    "train_dataset_label = []\n",
    "test_dataset=[]\n",
    "test_dataset_label = []\n",
    "\n",
    "for idx, v in enumerate(VARIETIES):\n",
    "    print(\"idx: \",idx)\n",
    "    if idx >= NUM_VARIETIES:\n",
    "        break\n",
    "    train_dataset= train_dataset + np.load(dataset_file_name(v)+\"_train_dataset.npy\").tolist()\n",
    "    train_dataset_label = train_dataset_label + np.load(dataset_file_name(v)+\"_train_dataset_label.npy\").tolist()\n",
    "    test_dataset = test_dataset + np.load(dataset_file_name(v)+\"_test_dataset.npy\").tolist()\n",
    "    test_dataset_label = test_dataset_label + np.load(dataset_file_name(v)+\"_test_dataset_label.npy\").tolist()\n",
    "\n",
    "train_dataset = np.array(train_dataset)\n",
    "train_dataset_label = np.array(train_dataset_label)\n",
    "test_dataset = np.array(test_dataset)\n",
    "test_dataset_label = np.array(test_dataset_label)"
   ]
  },
  {
   "cell_type": "code",
   "execution_count": 18,
   "id": "c752599c",
   "metadata": {},
   "outputs": [],
   "source": [
    "import tensorflow as tf\n",
    "import matplotlib.pyplot as plt\n",
    "from tensorflow.keras import datasets, layers, models, losses, Model\n",
    "from keras.layers import Input, Conv2D, MaxPool2D, MaxPooling2D, Activation, Flatten, Dense, AveragePooling2D, GlobalAveragePooling2D\n",
    "from keras.layers.core import Dropout\n",
    "from keras.optimizers import Adam"
   ]
  },
  {
   "cell_type": "code",
   "execution_count": 19,
   "id": "d48cd5d7",
   "metadata": {},
   "outputs": [],
   "source": [
    "def normalizeDataWholeSeed(data,normalization_type='max'):\n",
    "    \n",
    "    if normalization_type == 'max':\n",
    "        for idx in range(data.shape[0]):\n",
    "            data[idx,:,:,:] = data[idx,:,:,:]/np.max(abs(data[idx,:,:,:]))\n",
    "            \n",
    "    elif normalization_type == 'l2norm':\n",
    "        from numpy import linalg as LA\n",
    "        for idx in range(data.shape[0]):\n",
    "            data[idx,:,:,:] = data[idx,:,:,:]/LA.norm(data[idx,:,:,:])       \n",
    "        \n",
    "    return data"
   ]
  },
  {
   "cell_type": "code",
   "execution_count": 20,
   "id": "aca8be82",
   "metadata": {},
   "outputs": [],
   "source": [
    "def inception(x,filters_1x1,filters_3x3_reduce,filters_3x3,filters_5x5_reduce,filters_5x5,filters_pool,activation_type='relu'):\n",
    "    path1 = Conv2D(filters_1x1,        (1, 1), padding='same', activation=activation_type)(x)\n",
    "    \n",
    "    path2 = Conv2D(filters_3x3_reduce, (1, 1), padding='same', activation=activation_type)(x)\n",
    "    path2 = Conv2D(filters_3x3,        (1, 1), padding='same', activation=activation_type)(path2)\n",
    "    \n",
    "    path3 = Conv2D(filters_5x5_reduce, (1, 1), padding='same', activation=activation_type)(x)\n",
    "    path3 = Conv2D(filters_5x5,        (1, 1), padding='same', activation=activation_type)(path3)\n",
    "    \n",
    "    path4 = MaxPool2D((3, 3),  strides=(1, 1), padding='same')(x)\n",
    "    path4 = Conv2D(filters_pool,       (1, 1), padding='same', activation=activation_type)(path4)\n",
    "    \n",
    "    return tf.concat([path1, path2, path3, path4], axis=3)"
   ]
  },
  {
   "cell_type": "code",
   "execution_count": 21,
   "id": "686f6ade",
   "metadata": {},
   "outputs": [],
   "source": [
    "def auxiliary_classifier(x,num_classes,activation_type='relu'):\n",
    "    aux = AveragePooling2D((5, 5), strides=3)(x)\n",
    "    aux = Conv2D(128, 1, padding='same', activation=activation_type)(aux)\n",
    "    aux = Flatten()(aux)\n",
    "    aux = Dense(1024, activation=activation_type)(aux)\n",
    "    aux = Dropout(0.7)(aux)\n",
    "    aux = Dense(num_classes, activation='softmax')(aux)\n",
    "    return aux"
   ]
  },
  {
   "cell_type": "code",
   "execution_count": 22,
   "id": "43d8a8cf",
   "metadata": {},
   "outputs": [],
   "source": [
    "def GoogleNetModel(data_num_rows, data_num_cols, num_input_chans=1, num_classes=NUM_VARIETIES, activation_type='relu', dropout_rate=0.0):\n",
    "\n",
    "    inp = Input(shape=(data_num_rows, data_num_cols, num_input_chans))\n",
    "    input_tensor = layers.experimental.preprocessing.Resizing(224, 224, interpolation=\"bilinear\", input_shape=train_dataset.shape[1:])(inp)\n",
    "    x = Conv2D(64,  7, strides=2, padding='same', activation=activation_type)(input_tensor)\n",
    "    x = MaxPooling2D(3, strides=2)(x)\n",
    "    x = Conv2D(64,  1, strides=1, padding='same', activation=activation_type)(x)\n",
    "    x = Conv2D(192, 3, strides=1, padding='same', activation=activation_type)(x)\n",
    "    x = MaxPooling2D(3, strides=2)(x)\n",
    "    x = inception(x, filters_1x1=64 , filters_3x3_reduce=96 , filters_3x3=128, filters_5x5_reduce=16, filters_5x5=32, filters_pool=32)\n",
    "    x = inception(x, filters_1x1=128, filters_3x3_reduce=128, filters_3x3=192, filters_5x5_reduce=32, filters_5x5=96, filters_pool=64)\n",
    "    x = MaxPooling2D(3, strides=2)(x)\n",
    "    x = inception(x, filters_1x1=192, filters_3x3_reduce=96 , filters_3x3=208, filters_5x5_reduce=16, filters_5x5=48, filters_pool=64)\n",
    "    \n",
    "    aux1 = auxiliary_classifier(x,num_classes)\n",
    "    \n",
    "    x = inception(x, filters_1x1=160, filters_3x3_reduce=112, filters_3x3=224, filters_5x5_reduce=24, filters_5x5=64, filters_pool=64)\n",
    "    x = inception(x, filters_1x1=128, filters_3x3_reduce=128, filters_3x3=256, filters_5x5_reduce=24, filters_5x5=64, filters_pool=64)\n",
    "    x = inception(x, filters_1x1=112, filters_3x3_reduce=144, filters_3x3=288, filters_5x5_reduce=32, filters_5x5=64, filters_pool=64)\n",
    "    \n",
    "    aux2 = auxiliary_classifier(x,num_classes)\n",
    "    \n",
    "    x = inception(x, filters_1x1=256, filters_3x3_reduce=160, filters_3x3=320, filters_5x5_reduce=32, filters_5x5=128, filters_pool=128)\n",
    "    x = MaxPooling2D(3, strides=2)(x)\n",
    "    x = inception(x, filters_1x1=256, filters_3x3_reduce=160, filters_3x3=320, filters_5x5_reduce=32, filters_5x5=128, filters_pool=128)\n",
    "    x = inception(x, filters_1x1=384, filters_3x3_reduce=192, filters_3x3=384, filters_5x5_reduce=48, filters_5x5=128, filters_pool=128)\n",
    "    x = GlobalAveragePooling2D()(x)\n",
    "    x = Dropout(dropout_rate)(x)\n",
    "    out = Dense(num_classes, activation='softmax')(x)\n",
    "    \n",
    "    return Model(inputs = inp, outputs = [out, aux1, aux2])"
   ]
  },
  {
   "cell_type": "code",
   "execution_count": 23,
   "id": "e3528776",
   "metadata": {},
   "outputs": [],
   "source": [
    "def getGoogleNetModel():\n",
    "    learning_rate_base = LEARNING_RATE_BASE\n",
    "    activation_type = ACTIVATION_TYPE\n",
    "    wheat_types =  VARIETIES\n",
    "    num_classes = len(wheat_types)\n",
    "    dropout_rate = 0.4\n",
    "    print(\"--------------Load Data--------------\")\n",
    "\n",
    "    x_training = np.array(train_dataset)\n",
    "    labels_training = np.array(train_dataset_label)\n",
    "    \n",
    "    # Normalize the data\n",
    "    x_training = normalizeDataWholeSeed(x_training)\n",
    "    \n",
    "    # Extract some information\n",
    "    num_train = x_training.shape[0]\n",
    "    N_spatial = x_training.shape[1:3]\n",
    "    N_channel = x_training.shape[3]\n",
    "    \n",
    "    print(\"--------------Done--------------\")\n",
    "    \n",
    "    ############ Create a model ############\n",
    "    print(\"--------------Create a model--------------\")\n",
    "    \n",
    "    # Generate a model\n",
    "    model = GoogleNetModel(data_num_rows = N_spatial[0], \n",
    "                           data_num_cols = N_spatial[1],\n",
    "                           num_input_chans = N_channel, \n",
    "                           num_classes = num_classes,\n",
    "                           activation_type = activation_type,\n",
    "                           dropout_rate = dropout_rate)\n",
    "\n",
    "    # Compile the model\n",
    "    adam_opt = Adam(learning_rate=LEARNING_RATE_BASE, beta_1=0.9, beta_2=0.999, epsilon=1e-08, decay=0.01)\n",
    "    model.compile(optimizer=adam_opt, loss=[losses.sparse_categorical_crossentropy,losses.sparse_categorical_crossentropy,losses.sparse_categorical_crossentropy],loss_weights=[1, 0.3, 0.3],metrics=['accuracy'])\n",
    "    print(\"---------Completed---------\")\n",
    "    return model"
   ]
  },
  {
   "cell_type": "code",
   "execution_count": 24,
   "id": "9df49795",
   "metadata": {},
   "outputs": [
    {
     "name": "stdout",
     "output_type": "stream",
     "text": [
      "--------------Load Data--------------\n",
      "--------------Done--------------\n",
      "--------------Create a model--------------\n"
     ]
    },
    {
     "name": "stderr",
     "output_type": "stream",
     "text": [
      "2023-01-09 19:32:26.717493: I tensorflow/core/platform/cpu_feature_guard.cc:193] This TensorFlow binary is optimized with oneAPI Deep Neural Network Library (oneDNN) to use the following CPU instructions in performance-critical operations:  SSE4.1 SSE4.2 AVX AVX2 AVX512F FMA\n",
      "To enable them in other operations, rebuild TensorFlow with the appropriate compiler flags.\n"
     ]
    },
    {
     "name": "stdout",
     "output_type": "stream",
     "text": [
      "---------Completed---------\n"
     ]
    }
   ],
   "source": [
    "model = getGoogleNetModel()"
   ]
  },
  {
   "cell_type": "code",
   "execution_count": 25,
   "id": "5df8cc77",
   "metadata": {},
   "outputs": [],
   "source": [
    "x_train = []\n",
    "y_train = []\n",
    "x_val = []\n",
    "y_val = []\n",
    "\n",
    "for i in range(len(train_dataset)):\n",
    "    if i%5==0:\n",
    "        x_val.append(train_dataset[i])\n",
    "        y_val.append(train_dataset_label[i])\n",
    "    else:\n",
    "        x_train.append(train_dataset[i])\n",
    "        y_train.append(train_dataset_label[i])\n",
    "        \n",
    "x_train = np.array(x_train)\n",
    "y_train = np.array(y_train)\n",
    "y_train = [y_train,y_train,y_train]\n",
    "\n",
    "x_val = np.array(x_val)\n",
    "y_val = np.array(y_val)\n",
    "y_val = [y_val,y_val,y_val]"
   ]
  },
  {
   "cell_type": "code",
   "execution_count": 26,
   "id": "8aa727e4",
   "metadata": {},
   "outputs": [
    {
     "name": "stdout",
     "output_type": "stream",
     "text": [
      "From epochs:  1  to  20\n",
      "Testing started\n",
      "Epoch 1/20\n",
      "768/768 - 1273s - loss: 2.1810 - dense_4_loss: 1.3620 - dense_1_loss: 1.3639 - dense_3_loss: 1.3662 - dense_4_accuracy: 0.2941 - dense_1_accuracy: 0.3008 - dense_3_accuracy: 0.2915 - val_loss: 2.0101 - val_dense_4_loss: 1.2458 - val_dense_1_loss: 1.2821 - val_dense_3_loss: 1.2657 - val_dense_4_accuracy: 0.4212 - val_dense_1_accuracy: 0.3802 - val_dense_3_accuracy: 0.3945 - 1273s/epoch - 2s/step\n",
      "Epoch 2/20\n",
      "768/768 - 1265s - loss: 2.0008 - dense_4_loss: 1.2336 - dense_1_loss: 1.2918 - dense_3_loss: 1.2657 - dense_4_accuracy: 0.4089 - dense_1_accuracy: 0.3726 - dense_3_accuracy: 0.3854 - val_loss: 1.8917 - val_dense_4_loss: 1.1602 - val_dense_1_loss: 1.2382 - val_dense_3_loss: 1.1999 - val_dense_4_accuracy: 0.4661 - val_dense_1_accuracy: 0.4271 - val_dense_3_accuracy: 0.4440 - 1265s/epoch - 2s/step\n",
      "Epoch 3/20\n",
      "768/768 - 1259s - loss: 1.9035 - dense_4_loss: 1.1640 - dense_1_loss: 1.2585 - dense_3_loss: 1.2065 - dense_4_accuracy: 0.4484 - dense_1_accuracy: 0.3911 - dense_3_accuracy: 0.4318 - val_loss: 1.8167 - val_dense_4_loss: 1.1053 - val_dense_1_loss: 1.2147 - val_dense_3_loss: 1.1568 - val_dense_4_accuracy: 0.4863 - val_dense_1_accuracy: 0.4290 - val_dense_3_accuracy: 0.4564 - 1259s/epoch - 2s/step\n",
      "Epoch 4/20\n",
      "768/768 - 1258s - loss: 1.8279 - dense_4_loss: 1.1084 - dense_1_loss: 1.2337 - dense_3_loss: 1.1645 - dense_4_accuracy: 0.4725 - dense_1_accuracy: 0.4256 - dense_3_accuracy: 0.4507 - val_loss: 1.7624 - val_dense_4_loss: 1.0651 - val_dense_1_loss: 1.1984 - val_dense_3_loss: 1.1262 - val_dense_4_accuracy: 0.4954 - val_dense_1_accuracy: 0.4486 - val_dense_3_accuracy: 0.4681 - 1258s/epoch - 2s/step\n",
      "Epoch 5/20\n",
      "768/768 - 1260s - loss: 1.7687 - dense_4_loss: 1.0633 - dense_1_loss: 1.2167 - dense_3_loss: 1.1347 - dense_4_accuracy: 0.5028 - dense_1_accuracy: 0.4266 - dense_3_accuracy: 0.4639 - val_loss: 1.7056 - val_dense_4_loss: 1.0225 - val_dense_1_loss: 1.1834 - val_dense_3_loss: 1.0935 - val_dense_4_accuracy: 0.5260 - val_dense_1_accuracy: 0.4577 - val_dense_3_accuracy: 0.4824 - 1260s/epoch - 2s/step\n",
      "Epoch 6/20\n",
      "768/768 - 1263s - loss: 1.7263 - dense_4_loss: 1.0331 - dense_1_loss: 1.2049 - dense_3_loss: 1.1060 - dense_4_accuracy: 0.5179 - dense_1_accuracy: 0.4398 - dense_3_accuracy: 0.4784 - val_loss: 1.6671 - val_dense_4_loss: 0.9937 - val_dense_1_loss: 1.1729 - val_dense_3_loss: 1.0718 - val_dense_4_accuracy: 0.5436 - val_dense_1_accuracy: 0.4707 - val_dense_3_accuracy: 0.5052 - 1263s/epoch - 2s/step\n",
      "Epoch 7/20\n",
      "768/768 - 1264s - loss: 1.6762 - dense_4_loss: 0.9940 - dense_1_loss: 1.1931 - dense_3_loss: 1.0811 - dense_4_accuracy: 0.5409 - dense_1_accuracy: 0.4476 - dense_3_accuracy: 0.5039 - val_loss: 1.6697 - val_dense_4_loss: 1.0006 - val_dense_1_loss: 1.1641 - val_dense_3_loss: 1.0663 - val_dense_4_accuracy: 0.5293 - val_dense_1_accuracy: 0.4694 - val_dense_3_accuracy: 0.5013 - 1264s/epoch - 2s/step\n",
      "Epoch 8/20\n",
      "768/768 - 1268s - loss: 1.6494 - dense_4_loss: 0.9739 - dense_1_loss: 1.1844 - dense_3_loss: 1.0674 - dense_4_accuracy: 0.5480 - dense_1_accuracy: 0.4546 - dense_3_accuracy: 0.5036 - val_loss: 1.5991 - val_dense_4_loss: 0.9430 - val_dense_1_loss: 1.1562 - val_dense_3_loss: 1.0309 - val_dense_4_accuracy: 0.5768 - val_dense_1_accuracy: 0.4805 - val_dense_3_accuracy: 0.5169 - 1268s/epoch - 2s/step\n",
      "Epoch 9/20\n",
      "768/768 - 1267s - loss: 1.6149 - dense_4_loss: 0.9457 - dense_1_loss: 1.1828 - dense_3_loss: 1.0481 - dense_4_accuracy: 0.5618 - dense_1_accuracy: 0.4521 - dense_3_accuracy: 0.5138 - val_loss: 1.5663 - val_dense_4_loss: 0.9177 - val_dense_1_loss: 1.1500 - val_dense_3_loss: 1.0120 - val_dense_4_accuracy: 0.5807 - val_dense_1_accuracy: 0.4831 - val_dense_3_accuracy: 0.5319 - 1267s/epoch - 2s/step\n",
      "Epoch 10/20\n",
      "768/768 - 1264s - loss: 1.5844 - dense_4_loss: 0.9262 - dense_1_loss: 1.1704 - dense_3_loss: 1.0234 - dense_4_accuracy: 0.5703 - dense_1_accuracy: 0.4574 - dense_3_accuracy: 0.5317 - val_loss: 1.5402 - val_dense_4_loss: 0.8985 - val_dense_1_loss: 1.1434 - val_dense_3_loss: 0.9958 - val_dense_4_accuracy: 0.6087 - val_dense_1_accuracy: 0.4928 - val_dense_3_accuracy: 0.5462 - 1264s/epoch - 2s/step\n",
      "Epoch 11/20\n",
      "768/768 - 1261s - loss: 1.5588 - dense_4_loss: 0.9077 - dense_1_loss: 1.1648 - dense_3_loss: 1.0053 - dense_4_accuracy: 0.5811 - dense_1_accuracy: 0.4671 - dense_3_accuracy: 0.5407 - val_loss: 1.5563 - val_dense_4_loss: 0.9136 - val_dense_1_loss: 1.1401 - val_dense_3_loss: 1.0023 - val_dense_4_accuracy: 0.5853 - val_dense_1_accuracy: 0.4980 - val_dense_3_accuracy: 0.5286 - 1261s/epoch - 2s/step\n",
      "Epoch 12/20\n",
      "768/768 - 1264s - loss: 1.5246 - dense_4_loss: 0.8800 - dense_1_loss: 1.1590 - dense_3_loss: 0.9895 - dense_4_accuracy: 0.6024 - dense_1_accuracy: 0.4738 - dense_3_accuracy: 0.5456 - val_loss: 1.4852 - val_dense_4_loss: 0.8564 - val_dense_1_loss: 1.1332 - val_dense_3_loss: 0.9628 - val_dense_4_accuracy: 0.6224 - val_dense_1_accuracy: 0.5026 - val_dense_3_accuracy: 0.5579 - 1264s/epoch - 2s/step\n",
      "Epoch 13/20\n",
      "768/768 - 1264s - loss: 1.4995 - dense_4_loss: 0.8612 - dense_1_loss: 1.1544 - dense_3_loss: 0.9732 - dense_4_accuracy: 0.6108 - dense_1_accuracy: 0.4743 - dense_3_accuracy: 0.5553 - val_loss: 1.4671 - val_dense_4_loss: 0.8435 - val_dense_1_loss: 1.1279 - val_dense_3_loss: 0.9506 - val_dense_4_accuracy: 0.6263 - val_dense_1_accuracy: 0.5078 - val_dense_3_accuracy: 0.5618 - 1264s/epoch - 2s/step\n",
      "Epoch 14/20\n",
      "768/768 - 1262s - loss: 1.4812 - dense_4_loss: 0.8479 - dense_1_loss: 1.1508 - dense_3_loss: 0.9601 - dense_4_accuracy: 0.6134 - dense_1_accuracy: 0.4774 - dense_3_accuracy: 0.5620 - val_loss: 1.4705 - val_dense_4_loss: 0.8488 - val_dense_1_loss: 1.1244 - val_dense_3_loss: 0.9479 - val_dense_4_accuracy: 0.6250 - val_dense_1_accuracy: 0.5065 - val_dense_3_accuracy: 0.5599 - 1262s/epoch - 2s/step\n",
      "Epoch 15/20\n",
      "768/768 - 1265s - loss: 1.4603 - dense_4_loss: 0.8308 - dense_1_loss: 1.1457 - dense_3_loss: 0.9527 - dense_4_accuracy: 0.6257 - dense_1_accuracy: 0.4868 - dense_3_accuracy: 0.5596 - val_loss: 1.4155 - val_dense_4_loss: 0.8033 - val_dense_1_loss: 1.1201 - val_dense_3_loss: 0.9207 - val_dense_4_accuracy: 0.6465 - val_dense_1_accuracy: 0.5169 - val_dense_3_accuracy: 0.5944 - 1265s/epoch - 2s/step\n",
      "Epoch 16/20\n",
      "768/768 - 1265s - loss: 1.4387 - dense_4_loss: 0.8164 - dense_1_loss: 1.1399 - dense_3_loss: 0.9347 - dense_4_accuracy: 0.6323 - dense_1_accuracy: 0.4927 - dense_3_accuracy: 0.5806 - val_loss: 1.3956 - val_dense_4_loss: 0.7886 - val_dense_1_loss: 1.1155 - val_dense_3_loss: 0.9079 - val_dense_4_accuracy: 0.6543 - val_dense_1_accuracy: 0.5169 - val_dense_3_accuracy: 0.5911 - 1265s/epoch - 2s/step\n",
      "Epoch 17/20\n",
      "768/768 - 1263s - loss: 1.4115 - dense_4_loss: 0.7950 - dense_1_loss: 1.1352 - dense_3_loss: 0.9198 - dense_4_accuracy: 0.6460 - dense_1_accuracy: 0.4915 - dense_3_accuracy: 0.5942 - val_loss: 1.3763 - val_dense_4_loss: 0.7738 - val_dense_1_loss: 1.1121 - val_dense_3_loss: 0.8960 - val_dense_4_accuracy: 0.6667 - val_dense_1_accuracy: 0.5234 - val_dense_3_accuracy: 0.5964 - 1263s/epoch - 2s/step\n",
      "Epoch 18/20\n",
      "768/768 - 1264s - loss: 1.3967 - dense_4_loss: 0.7838 - dense_1_loss: 1.1350 - dense_3_loss: 0.9080 - dense_4_accuracy: 0.6595 - dense_1_accuracy: 0.4909 - dense_3_accuracy: 0.5951 - val_loss: 1.3815 - val_dense_4_loss: 0.7798 - val_dense_1_loss: 1.1092 - val_dense_3_loss: 0.8963 - val_dense_4_accuracy: 0.6602 - val_dense_1_accuracy: 0.5176 - val_dense_3_accuracy: 0.5905 - 1264s/epoch - 2s/step\n",
      "Epoch 19/20\n",
      "768/768 - 1266s - loss: 1.3792 - dense_4_loss: 0.7700 - dense_1_loss: 1.1322 - dense_3_loss: 0.8982 - dense_4_accuracy: 0.6639 - dense_1_accuracy: 0.4969 - dense_3_accuracy: 0.6038 - val_loss: 1.3421 - val_dense_4_loss: 0.7479 - val_dense_1_loss: 1.1057 - val_dense_3_loss: 0.8747 - val_dense_4_accuracy: 0.6862 - val_dense_1_accuracy: 0.5293 - val_dense_3_accuracy: 0.6094 - 1266s/epoch - 2s/step\n",
      "Epoch 20/20\n",
      "768/768 - 1263s - loss: 1.3676 - dense_4_loss: 0.7629 - dense_1_loss: 1.1261 - dense_3_loss: 0.8895 - dense_4_accuracy: 0.6659 - dense_1_accuracy: 0.4982 - dense_3_accuracy: 0.6082 - val_loss: 1.3263 - val_dense_4_loss: 0.7359 - val_dense_1_loss: 1.1029 - val_dense_3_loss: 0.8649 - val_dense_4_accuracy: 0.6823 - val_dense_1_accuracy: 0.5312 - val_dense_3_accuracy: 0.6257 - 1263s/epoch - 2s/step\n"
     ]
    },
    {
     "name": "stdout",
     "output_type": "stream",
     "text": [
      "Testing time (s) = 25284.298701578053\n",
      "\n",
      "for testing\n",
      "60/60 [==============================] - 80s 1s/step - loss: 1.2978 - dense_4_loss: 0.7113 - dense_1_loss: 1.1046 - dense_3_loss: 0.8503 - dense_4_accuracy: 0.7203 - dense_1_accuracy: 0.5219 - dense_3_accuracy: 0.6573\n",
      "[1.2977632284164429, 0.7112871408462524, 1.1046397686004639, 0.8502795696258545, 0.7203124761581421, 0.5218750238418579, 0.6572916507720947]\n",
      "for training\n",
      "240/240 [==============================] - 312s 1s/step - loss: 1.3213 - dense_4_loss: 0.7315 - dense_1_loss: 1.1059 - dense_3_loss: 0.8599 - dense_4_accuracy: 0.7004 - dense_1_accuracy: 0.5316 - dense_3_accuracy: 0.6368\n",
      "[1.3212625980377197, 0.731515645980835, 1.1058814525604248, 0.8599417209625244, 0.700390636920929, 0.5316406488418579, 0.6368489861488342]\n"
     ]
    }
   ],
   "source": [
    "for x in range(1):\n",
    "    print(\"From epochs: \",20*x+1,\" to \",20+20*x)\n",
    "    tic = start_timer()\n",
    "    model.fit(x_train ,y_train ,batch_size=BATCH_SIZE ,epochs=20, verbose=2, validation_data=(x_val, y_val), shuffle=True)\n",
    "    toc = end_timer()\n",
    "    show_time(tic,toc)\n",
    "    print(\"for testing\")\n",
    "    print(model.evaluate(test_dataset,test_dataset_label))\n",
    "    print(\"for training\")\n",
    "    print(model.evaluate(train_dataset,train_dataset_label))"
   ]
  },
  {
   "cell_type": "code",
   "execution_count": 27,
   "id": "b89c2d88",
   "metadata": {},
   "outputs": [
    {
     "name": "stdout",
     "output_type": "stream",
     "text": [
      "Model: \"model\"\n",
      "__________________________________________________________________________________________________\n",
      " Layer (type)                   Output Shape         Param #     Connected to                     \n",
      "==================================================================================================\n",
      " input_1 (InputLayer)           [(None, 30, 30, 147  0           []                               \n",
      "                                )]                                                                \n",
      "                                                                                                  \n",
      " resizing (Resizing)            (None, 224, 224, 14  0           ['input_1[0][0]']                \n",
      "                                7)                                                                \n",
      "                                                                                                  \n",
      " conv2d (Conv2D)                (None, 112, 112, 64  461056      ['resizing[0][0]']               \n",
      "                                )                                                                 \n",
      "                                                                                                  \n",
      " max_pooling2d (MaxPooling2D)   (None, 55, 55, 64)   0           ['conv2d[0][0]']                 \n",
      "                                                                                                  \n",
      " conv2d_1 (Conv2D)              (None, 55, 55, 64)   4160        ['max_pooling2d[0][0]']          \n",
      "                                                                                                  \n",
      " conv2d_2 (Conv2D)              (None, 55, 55, 192)  110784      ['conv2d_1[0][0]']               \n",
      "                                                                                                  \n",
      " max_pooling2d_1 (MaxPooling2D)  (None, 27, 27, 192)  0          ['conv2d_2[0][0]']               \n",
      "                                                                                                  \n",
      " conv2d_4 (Conv2D)              (None, 27, 27, 96)   18528       ['max_pooling2d_1[0][0]']        \n",
      "                                                                                                  \n",
      " conv2d_6 (Conv2D)              (None, 27, 27, 16)   3088        ['max_pooling2d_1[0][0]']        \n",
      "                                                                                                  \n",
      " max_pooling2d_2 (MaxPooling2D)  (None, 27, 27, 192)  0          ['max_pooling2d_1[0][0]']        \n",
      "                                                                                                  \n",
      " conv2d_3 (Conv2D)              (None, 27, 27, 64)   12352       ['max_pooling2d_1[0][0]']        \n",
      "                                                                                                  \n",
      " conv2d_5 (Conv2D)              (None, 27, 27, 128)  12416       ['conv2d_4[0][0]']               \n",
      "                                                                                                  \n",
      " conv2d_7 (Conv2D)              (None, 27, 27, 32)   544         ['conv2d_6[0][0]']               \n",
      "                                                                                                  \n",
      " conv2d_8 (Conv2D)              (None, 27, 27, 32)   6176        ['max_pooling2d_2[0][0]']        \n",
      "                                                                                                  \n",
      " tf.concat (TFOpLambda)         (None, 27, 27, 256)  0           ['conv2d_3[0][0]',               \n",
      "                                                                  'conv2d_5[0][0]',               \n",
      "                                                                  'conv2d_7[0][0]',               \n",
      "                                                                  'conv2d_8[0][0]']               \n",
      "                                                                                                  \n",
      " conv2d_10 (Conv2D)             (None, 27, 27, 128)  32896       ['tf.concat[0][0]']              \n",
      "                                                                                                  \n",
      " conv2d_12 (Conv2D)             (None, 27, 27, 32)   8224        ['tf.concat[0][0]']              \n",
      "                                                                                                  \n",
      " max_pooling2d_3 (MaxPooling2D)  (None, 27, 27, 256)  0          ['tf.concat[0][0]']              \n",
      "                                                                                                  \n",
      " conv2d_9 (Conv2D)              (None, 27, 27, 128)  32896       ['tf.concat[0][0]']              \n",
      "                                                                                                  \n",
      " conv2d_11 (Conv2D)             (None, 27, 27, 192)  24768       ['conv2d_10[0][0]']              \n",
      "                                                                                                  \n",
      " conv2d_13 (Conv2D)             (None, 27, 27, 96)   3168        ['conv2d_12[0][0]']              \n",
      "                                                                                                  \n",
      " conv2d_14 (Conv2D)             (None, 27, 27, 64)   16448       ['max_pooling2d_3[0][0]']        \n",
      "                                                                                                  \n",
      " tf.concat_1 (TFOpLambda)       (None, 27, 27, 480)  0           ['conv2d_9[0][0]',               \n",
      "                                                                  'conv2d_11[0][0]',              \n",
      "                                                                  'conv2d_13[0][0]',              \n",
      "                                                                  'conv2d_14[0][0]']              \n",
      "                                                                                                  \n",
      " max_pooling2d_4 (MaxPooling2D)  (None, 13, 13, 480)  0          ['tf.concat_1[0][0]']            \n",
      "                                                                                                  \n",
      " conv2d_16 (Conv2D)             (None, 13, 13, 96)   46176       ['max_pooling2d_4[0][0]']        \n",
      "                                                                                                  \n",
      " conv2d_18 (Conv2D)             (None, 13, 13, 16)   7696        ['max_pooling2d_4[0][0]']        \n",
      "                                                                                                  \n",
      " max_pooling2d_5 (MaxPooling2D)  (None, 13, 13, 480)  0          ['max_pooling2d_4[0][0]']        \n",
      "                                                                                                  \n",
      " conv2d_15 (Conv2D)             (None, 13, 13, 192)  92352       ['max_pooling2d_4[0][0]']        \n",
      "                                                                                                  \n",
      " conv2d_17 (Conv2D)             (None, 13, 13, 208)  20176       ['conv2d_16[0][0]']              \n",
      "                                                                                                  \n",
      " conv2d_19 (Conv2D)             (None, 13, 13, 48)   816         ['conv2d_18[0][0]']              \n",
      "                                                                                                  \n",
      " conv2d_20 (Conv2D)             (None, 13, 13, 64)   30784       ['max_pooling2d_5[0][0]']        \n",
      "                                                                                                  \n",
      " tf.concat_2 (TFOpLambda)       (None, 13, 13, 512)  0           ['conv2d_15[0][0]',              \n",
      "                                                                  'conv2d_17[0][0]',              \n",
      "                                                                  'conv2d_19[0][0]',              \n",
      "                                                                  'conv2d_20[0][0]']              \n",
      "                                                                                                  \n",
      " conv2d_23 (Conv2D)             (None, 13, 13, 112)  57456       ['tf.concat_2[0][0]']            \n",
      "                                                                                                  \n",
      " conv2d_25 (Conv2D)             (None, 13, 13, 24)   12312       ['tf.concat_2[0][0]']            \n",
      "                                                                                                  \n"
     ]
    },
    {
     "name": "stdout",
     "output_type": "stream",
     "text": [
      " max_pooling2d_6 (MaxPooling2D)  (None, 13, 13, 512)  0          ['tf.concat_2[0][0]']            \n",
      "                                                                                                  \n",
      " conv2d_22 (Conv2D)             (None, 13, 13, 160)  82080       ['tf.concat_2[0][0]']            \n",
      "                                                                                                  \n",
      " conv2d_24 (Conv2D)             (None, 13, 13, 224)  25312       ['conv2d_23[0][0]']              \n",
      "                                                                                                  \n",
      " conv2d_26 (Conv2D)             (None, 13, 13, 64)   1600        ['conv2d_25[0][0]']              \n",
      "                                                                                                  \n",
      " conv2d_27 (Conv2D)             (None, 13, 13, 64)   32832       ['max_pooling2d_6[0][0]']        \n",
      "                                                                                                  \n",
      " tf.concat_3 (TFOpLambda)       (None, 13, 13, 512)  0           ['conv2d_22[0][0]',              \n",
      "                                                                  'conv2d_24[0][0]',              \n",
      "                                                                  'conv2d_26[0][0]',              \n",
      "                                                                  'conv2d_27[0][0]']              \n",
      "                                                                                                  \n",
      " conv2d_29 (Conv2D)             (None, 13, 13, 128)  65664       ['tf.concat_3[0][0]']            \n",
      "                                                                                                  \n",
      " conv2d_31 (Conv2D)             (None, 13, 13, 24)   12312       ['tf.concat_3[0][0]']            \n",
      "                                                                                                  \n",
      " max_pooling2d_7 (MaxPooling2D)  (None, 13, 13, 512)  0          ['tf.concat_3[0][0]']            \n",
      "                                                                                                  \n",
      " conv2d_28 (Conv2D)             (None, 13, 13, 128)  65664       ['tf.concat_3[0][0]']            \n",
      "                                                                                                  \n",
      " conv2d_30 (Conv2D)             (None, 13, 13, 256)  33024       ['conv2d_29[0][0]']              \n",
      "                                                                                                  \n",
      " conv2d_32 (Conv2D)             (None, 13, 13, 64)   1600        ['conv2d_31[0][0]']              \n",
      "                                                                                                  \n",
      " conv2d_33 (Conv2D)             (None, 13, 13, 64)   32832       ['max_pooling2d_7[0][0]']        \n",
      "                                                                                                  \n",
      " tf.concat_4 (TFOpLambda)       (None, 13, 13, 512)  0           ['conv2d_28[0][0]',              \n",
      "                                                                  'conv2d_30[0][0]',              \n",
      "                                                                  'conv2d_32[0][0]',              \n",
      "                                                                  'conv2d_33[0][0]']              \n",
      "                                                                                                  \n",
      " conv2d_35 (Conv2D)             (None, 13, 13, 144)  73872       ['tf.concat_4[0][0]']            \n",
      "                                                                                                  \n",
      " conv2d_37 (Conv2D)             (None, 13, 13, 32)   16416       ['tf.concat_4[0][0]']            \n",
      "                                                                                                  \n",
      " max_pooling2d_8 (MaxPooling2D)  (None, 13, 13, 512)  0          ['tf.concat_4[0][0]']            \n",
      "                                                                                                  \n",
      " conv2d_34 (Conv2D)             (None, 13, 13, 112)  57456       ['tf.concat_4[0][0]']            \n",
      "                                                                                                  \n",
      " conv2d_36 (Conv2D)             (None, 13, 13, 288)  41760       ['conv2d_35[0][0]']              \n",
      "                                                                                                  \n",
      " conv2d_38 (Conv2D)             (None, 13, 13, 64)   2112        ['conv2d_37[0][0]']              \n",
      "                                                                                                  \n",
      " conv2d_39 (Conv2D)             (None, 13, 13, 64)   32832       ['max_pooling2d_8[0][0]']        \n",
      "                                                                                                  \n",
      " tf.concat_5 (TFOpLambda)       (None, 13, 13, 528)  0           ['conv2d_34[0][0]',              \n",
      "                                                                  'conv2d_36[0][0]',              \n",
      "                                                                  'conv2d_38[0][0]',              \n",
      "                                                                  'conv2d_39[0][0]']              \n",
      "                                                                                                  \n",
      " conv2d_42 (Conv2D)             (None, 13, 13, 160)  84640       ['tf.concat_5[0][0]']            \n",
      "                                                                                                  \n",
      " conv2d_44 (Conv2D)             (None, 13, 13, 32)   16928       ['tf.concat_5[0][0]']            \n",
      "                                                                                                  \n",
      " max_pooling2d_9 (MaxPooling2D)  (None, 13, 13, 528)  0          ['tf.concat_5[0][0]']            \n",
      "                                                                                                  \n",
      " conv2d_41 (Conv2D)             (None, 13, 13, 256)  135424      ['tf.concat_5[0][0]']            \n",
      "                                                                                                  \n",
      " conv2d_43 (Conv2D)             (None, 13, 13, 320)  51520       ['conv2d_42[0][0]']              \n",
      "                                                                                                  \n",
      " conv2d_45 (Conv2D)             (None, 13, 13, 128)  4224        ['conv2d_44[0][0]']              \n",
      "                                                                                                  \n",
      " conv2d_46 (Conv2D)             (None, 13, 13, 128)  67712       ['max_pooling2d_9[0][0]']        \n",
      "                                                                                                  \n",
      " tf.concat_6 (TFOpLambda)       (None, 13, 13, 832)  0           ['conv2d_41[0][0]',              \n",
      "                                                                  'conv2d_43[0][0]',              \n",
      "                                                                  'conv2d_45[0][0]',              \n",
      "                                                                  'conv2d_46[0][0]']              \n",
      "                                                                                                  \n",
      " max_pooling2d_10 (MaxPooling2D  (None, 6, 6, 832)   0           ['tf.concat_6[0][0]']            \n",
      " )                                                                                                \n",
      "                                                                                                  \n",
      " conv2d_48 (Conv2D)             (None, 6, 6, 160)    133280      ['max_pooling2d_10[0][0]']       \n",
      "                                                                                                  \n",
      " conv2d_50 (Conv2D)             (None, 6, 6, 32)     26656       ['max_pooling2d_10[0][0]']       \n",
      "                                                                                                  \n",
      " max_pooling2d_11 (MaxPooling2D  (None, 6, 6, 832)   0           ['max_pooling2d_10[0][0]']       \n",
      " )                                                                                                \n",
      "                                                                                                  \n",
      " conv2d_47 (Conv2D)             (None, 6, 6, 256)    213248      ['max_pooling2d_10[0][0]']       \n"
     ]
    },
    {
     "name": "stdout",
     "output_type": "stream",
     "text": [
      "                                                                                                  \n",
      " conv2d_49 (Conv2D)             (None, 6, 6, 320)    51520       ['conv2d_48[0][0]']              \n",
      "                                                                                                  \n",
      " conv2d_51 (Conv2D)             (None, 6, 6, 128)    4224        ['conv2d_50[0][0]']              \n",
      "                                                                                                  \n",
      " conv2d_52 (Conv2D)             (None, 6, 6, 128)    106624      ['max_pooling2d_11[0][0]']       \n",
      "                                                                                                  \n",
      " tf.concat_7 (TFOpLambda)       (None, 6, 6, 832)    0           ['conv2d_47[0][0]',              \n",
      "                                                                  'conv2d_49[0][0]',              \n",
      "                                                                  'conv2d_51[0][0]',              \n",
      "                                                                  'conv2d_52[0][0]']              \n",
      "                                                                                                  \n",
      " conv2d_54 (Conv2D)             (None, 6, 6, 192)    159936      ['tf.concat_7[0][0]']            \n",
      "                                                                                                  \n",
      " conv2d_56 (Conv2D)             (None, 6, 6, 48)     39984       ['tf.concat_7[0][0]']            \n",
      "                                                                                                  \n",
      " max_pooling2d_12 (MaxPooling2D  (None, 6, 6, 832)   0           ['tf.concat_7[0][0]']            \n",
      " )                                                                                                \n",
      "                                                                                                  \n",
      " average_pooling2d (AveragePool  (None, 3, 3, 512)   0           ['tf.concat_2[0][0]']            \n",
      " ing2D)                                                                                           \n",
      "                                                                                                  \n",
      " average_pooling2d_1 (AveragePo  (None, 3, 3, 528)   0           ['tf.concat_5[0][0]']            \n",
      " oling2D)                                                                                         \n",
      "                                                                                                  \n",
      " conv2d_53 (Conv2D)             (None, 6, 6, 384)    319872      ['tf.concat_7[0][0]']            \n",
      "                                                                                                  \n",
      " conv2d_55 (Conv2D)             (None, 6, 6, 384)    74112       ['conv2d_54[0][0]']              \n",
      "                                                                                                  \n",
      " conv2d_57 (Conv2D)             (None, 6, 6, 128)    6272        ['conv2d_56[0][0]']              \n",
      "                                                                                                  \n",
      " conv2d_58 (Conv2D)             (None, 6, 6, 128)    106624      ['max_pooling2d_12[0][0]']       \n",
      "                                                                                                  \n",
      " conv2d_21 (Conv2D)             (None, 3, 3, 128)    65664       ['average_pooling2d[0][0]']      \n",
      "                                                                                                  \n",
      " conv2d_40 (Conv2D)             (None, 3, 3, 128)    67712       ['average_pooling2d_1[0][0]']    \n",
      "                                                                                                  \n",
      " tf.concat_8 (TFOpLambda)       (None, 6, 6, 1024)   0           ['conv2d_53[0][0]',              \n",
      "                                                                  'conv2d_55[0][0]',              \n",
      "                                                                  'conv2d_57[0][0]',              \n",
      "                                                                  'conv2d_58[0][0]']              \n",
      "                                                                                                  \n",
      " flatten (Flatten)              (None, 1152)         0           ['conv2d_21[0][0]']              \n",
      "                                                                                                  \n",
      " flatten_1 (Flatten)            (None, 1152)         0           ['conv2d_40[0][0]']              \n",
      "                                                                                                  \n",
      " global_average_pooling2d (Glob  (None, 1024)        0           ['tf.concat_8[0][0]']            \n",
      " alAveragePooling2D)                                                                              \n",
      "                                                                                                  \n",
      " dense (Dense)                  (None, 1024)         1180672     ['flatten[0][0]']                \n",
      "                                                                                                  \n",
      " dense_2 (Dense)                (None, 1024)         1180672     ['flatten_1[0][0]']              \n",
      "                                                                                                  \n",
      " dropout_2 (Dropout)            (None, 1024)         0           ['global_average_pooling2d[0][0]'\n",
      "                                                                 ]                                \n",
      "                                                                                                  \n",
      " dropout (Dropout)              (None, 1024)         0           ['dense[0][0]']                  \n",
      "                                                                                                  \n",
      " dropout_1 (Dropout)            (None, 1024)         0           ['dense_2[0][0]']                \n",
      "                                                                                                  \n",
      " dense_4 (Dense)                (None, 4)            4100        ['dropout_2[0][0]']              \n",
      "                                                                                                  \n",
      " dense_1 (Dense)                (None, 4)            4100        ['dropout[0][0]']                \n",
      "                                                                                                  \n",
      " dense_3 (Dense)                (None, 4)            4100        ['dropout_1[0][0]']              \n",
      "                                                                                                  \n",
      "==================================================================================================\n",
      "Total params: 5,702,460\n",
      "Trainable params: 5,702,460\n",
      "Non-trainable params: 0\n",
      "__________________________________________________________________________________________________\n"
     ]
    }
   ],
   "source": [
    "model.summary()"
   ]
  },
  {
   "cell_type": "code",
   "execution_count": 28,
   "id": "d435704d",
   "metadata": {},
   "outputs": [
    {
     "name": "stdout",
     "output_type": "stream",
     "text": [
      "From epochs:  21  to  40\n",
      "Testing started\n",
      "Epoch 1/20\n",
      "768/768 - 1247s - loss: 1.3527 - dense_4_loss: 0.7510 - dense_1_loss: 1.1227 - dense_3_loss: 0.8831 - dense_4_accuracy: 0.6768 - dense_1_accuracy: 0.5070 - dense_3_accuracy: 0.6141 - val_loss: 1.3252 - val_dense_4_loss: 0.7363 - val_dense_1_loss: 1.0999 - val_dense_3_loss: 0.8630 - val_dense_4_accuracy: 0.6953 - val_dense_1_accuracy: 0.5293 - val_dense_3_accuracy: 0.6139 - 1247s/epoch - 2s/step\n",
      "Epoch 2/20\n",
      "768/768 - 1253s - loss: 1.3401 - dense_4_loss: 0.7415 - dense_1_loss: 1.1224 - dense_3_loss: 0.8729 - dense_4_accuracy: 0.6725 - dense_1_accuracy: 0.5007 - dense_3_accuracy: 0.6169 - val_loss: 1.3219 - val_dense_4_loss: 0.7349 - val_dense_1_loss: 1.0981 - val_dense_3_loss: 0.8583 - val_dense_4_accuracy: 0.6797 - val_dense_1_accuracy: 0.5371 - val_dense_3_accuracy: 0.6367 - 1253s/epoch - 2s/step\n",
      "Epoch 3/20\n",
      "768/768 - 1251s - loss: 1.3272 - dense_4_loss: 0.7313 - dense_1_loss: 1.1191 - dense_3_loss: 0.8673 - dense_4_accuracy: 0.6868 - dense_1_accuracy: 0.5068 - dense_3_accuracy: 0.6183 - val_loss: 1.2852 - val_dense_4_loss: 0.7049 - val_dense_1_loss: 1.0948 - val_dense_3_loss: 0.8396 - val_dense_4_accuracy: 0.7025 - val_dense_1_accuracy: 0.5371 - val_dense_3_accuracy: 0.6400 - 1251s/epoch - 2s/step\n",
      "Epoch 4/20\n",
      "768/768 - 1251s - loss: 1.3168 - dense_4_loss: 0.7231 - dense_1_loss: 1.1189 - dense_3_loss: 0.8603 - dense_4_accuracy: 0.6803 - dense_1_accuracy: 0.5065 - dense_3_accuracy: 0.6149 - val_loss: 1.2742 - val_dense_4_loss: 0.6966 - val_dense_1_loss: 1.0923 - val_dense_3_loss: 0.8331 - val_dense_4_accuracy: 0.7246 - val_dense_1_accuracy: 0.5397 - val_dense_3_accuracy: 0.6419 - 1251s/epoch - 2s/step\n",
      "Epoch 5/20\n",
      "768/768 - 1250s - loss: 1.3022 - dense_4_loss: 0.7123 - dense_1_loss: 1.1114 - dense_3_loss: 0.8552 - dense_4_accuracy: 0.6982 - dense_1_accuracy: 0.5129 - dense_3_accuracy: 0.6278 - val_loss: 1.2645 - val_dense_4_loss: 0.6897 - val_dense_1_loss: 1.0896 - val_dense_3_loss: 0.8265 - val_dense_4_accuracy: 0.7272 - val_dense_1_accuracy: 0.5384 - val_dense_3_accuracy: 0.6426 - 1250s/epoch - 2s/step\n",
      "Epoch 6/20\n",
      "768/768 - 1250s - loss: 1.2941 - dense_4_loss: 0.7067 - dense_1_loss: 1.1098 - dense_3_loss: 0.8481 - dense_4_accuracy: 0.6973 - dense_1_accuracy: 0.5065 - dense_3_accuracy: 0.6299 - val_loss: 1.2515 - val_dense_4_loss: 0.6796 - val_dense_1_loss: 1.0874 - val_dense_3_loss: 0.8188 - val_dense_4_accuracy: 0.7220 - val_dense_1_accuracy: 0.5404 - val_dense_3_accuracy: 0.6504 - 1250s/epoch - 2s/step\n",
      "Epoch 7/20\n",
      "768/768 - 1251s - loss: 1.2846 - dense_4_loss: 0.7006 - dense_1_loss: 1.1080 - dense_3_loss: 0.8387 - dense_4_accuracy: 0.7012 - dense_1_accuracy: 0.5080 - dense_3_accuracy: 0.6322 - val_loss: 1.2429 - val_dense_4_loss: 0.6732 - val_dense_1_loss: 1.0851 - val_dense_3_loss: 0.8139 - val_dense_4_accuracy: 0.7324 - val_dense_1_accuracy: 0.5436 - val_dense_3_accuracy: 0.6562 - 1251s/epoch - 2s/step\n",
      "Epoch 8/20\n",
      "768/768 - 1249s - loss: 1.2725 - dense_4_loss: 0.6924 - dense_1_loss: 1.1033 - dense_3_loss: 0.8307 - dense_4_accuracy: 0.7013 - dense_1_accuracy: 0.5127 - dense_3_accuracy: 0.6390 - val_loss: 1.2327 - val_dense_4_loss: 0.6657 - val_dense_1_loss: 1.0829 - val_dense_3_loss: 0.8072 - val_dense_4_accuracy: 0.7305 - val_dense_1_accuracy: 0.5456 - val_dense_3_accuracy: 0.6562 - 1249s/epoch - 2s/step\n",
      "Epoch 9/20\n",
      "768/768 - 1249s - loss: 1.2647 - dense_4_loss: 0.6853 - dense_1_loss: 1.1042 - dense_3_loss: 0.8269 - dense_4_accuracy: 0.7126 - dense_1_accuracy: 0.5221 - dense_3_accuracy: 0.6442 - val_loss: 1.2547 - val_dense_4_loss: 0.6857 - val_dense_1_loss: 1.0821 - val_dense_3_loss: 0.8147 - val_dense_4_accuracy: 0.7025 - val_dense_1_accuracy: 0.5495 - val_dense_3_accuracy: 0.6634 - 1249s/epoch - 2s/step\n",
      "Epoch 10/20\n",
      "768/768 - 1254s - loss: 1.2563 - dense_4_loss: 0.6779 - dense_1_loss: 1.1037 - dense_3_loss: 0.8242 - dense_4_accuracy: 0.7091 - dense_1_accuracy: 0.5099 - dense_3_accuracy: 0.6463 - val_loss: 1.2197 - val_dense_4_loss: 0.6568 - val_dense_1_loss: 1.0785 - val_dense_3_loss: 0.7981 - val_dense_4_accuracy: 0.7214 - val_dense_1_accuracy: 0.5514 - val_dense_3_accuracy: 0.6673 - 1254s/epoch - 2s/step\n",
      "Epoch 11/20\n",
      "768/768 - 1250s - loss: 1.2454 - dense_4_loss: 0.6714 - dense_1_loss: 1.0972 - dense_3_loss: 0.8159 - dense_4_accuracy: 0.7178 - dense_1_accuracy: 0.5192 - dense_3_accuracy: 0.6479 - val_loss: 1.2091 - val_dense_4_loss: 0.6485 - val_dense_1_loss: 1.0767 - val_dense_3_loss: 0.7920 - val_dense_4_accuracy: 0.7357 - val_dense_1_accuracy: 0.5514 - val_dense_3_accuracy: 0.6706 - 1250s/epoch - 2s/step\n",
      "Epoch 12/20\n",
      "768/768 - 1250s - loss: 1.2438 - dense_4_loss: 0.6690 - dense_1_loss: 1.0989 - dense_3_loss: 0.8170 - dense_4_accuracy: 0.7205 - dense_1_accuracy: 0.5158 - dense_3_accuracy: 0.6496 - val_loss: 1.2001 - val_dense_4_loss: 0.6416 - val_dense_1_loss: 1.0747 - val_dense_3_loss: 0.7868 - val_dense_4_accuracy: 0.7474 - val_dense_1_accuracy: 0.5521 - val_dense_3_accuracy: 0.6732 - 1250s/epoch - 2s/step\n",
      "Epoch 13/20\n",
      "768/768 - 1253s - loss: 1.2378 - dense_4_loss: 0.6662 - dense_1_loss: 1.0957 - dense_3_loss: 0.8096 - dense_4_accuracy: 0.7181 - dense_1_accuracy: 0.5215 - dense_3_accuracy: 0.6481 - val_loss: 1.1963 - val_dense_4_loss: 0.6391 - val_dense_1_loss: 1.0729 - val_dense_3_loss: 0.7845 - val_dense_4_accuracy: 0.7585 - val_dense_1_accuracy: 0.5501 - val_dense_3_accuracy: 0.6790 - 1253s/epoch - 2s/step\n",
      "Epoch 14/20\n",
      "768/768 - 1255s - loss: 1.2245 - dense_4_loss: 0.6546 - dense_1_loss: 1.0940 - dense_3_loss: 0.8058 - dense_4_accuracy: 0.7269 - dense_1_accuracy: 0.5238 - dense_3_accuracy: 0.6457 - val_loss: 1.1867 - val_dense_4_loss: 0.6319 - val_dense_1_loss: 1.0710 - val_dense_3_loss: 0.7784 - val_dense_4_accuracy: 0.7598 - val_dense_1_accuracy: 0.5540 - val_dense_3_accuracy: 0.6790 - 1255s/epoch - 2s/step\n",
      "Epoch 15/20\n",
      "768/768 - 1256s - loss: 1.2219 - dense_4_loss: 0.6552 - dense_1_loss: 1.0899 - dense_3_loss: 0.7989 - dense_4_accuracy: 0.7212 - dense_1_accuracy: 0.5304 - dense_3_accuracy: 0.6580 - val_loss: 1.1926 - val_dense_4_loss: 0.6381 - val_dense_1_loss: 1.0699 - val_dense_3_loss: 0.7784 - val_dense_4_accuracy: 0.7363 - val_dense_1_accuracy: 0.5573 - val_dense_3_accuracy: 0.6868 - 1256s/epoch - 2s/step\n",
      "Epoch 16/20\n",
      "768/768 - 1261s - loss: 1.2220 - dense_4_loss: 0.6550 - dense_1_loss: 1.0915 - dense_3_loss: 0.7987 - dense_4_accuracy: 0.7267 - dense_1_accuracy: 0.5257 - dense_3_accuracy: 0.6553 - val_loss: 1.1833 - val_dense_4_loss: 0.6306 - val_dense_1_loss: 1.0674 - val_dense_3_loss: 0.7749 - val_dense_4_accuracy: 0.7559 - val_dense_1_accuracy: 0.5547 - val_dense_3_accuracy: 0.6784 - 1261s/epoch - 2s/step\n",
      "Epoch 17/20\n",
      "768/768 - 1263s - loss: 1.2068 - dense_4_loss: 0.6427 - dense_1_loss: 1.0870 - dense_3_loss: 0.7933 - dense_4_accuracy: 0.7292 - dense_1_accuracy: 0.5210 - dense_3_accuracy: 0.6636 - val_loss: 1.1689 - val_dense_4_loss: 0.6190 - val_dense_1_loss: 1.0659 - val_dense_3_loss: 0.7669 - val_dense_4_accuracy: 0.7572 - val_dense_1_accuracy: 0.5573 - val_dense_3_accuracy: 0.6868 - 1263s/epoch - 2s/step\n",
      "Epoch 18/20\n",
      "768/768 - 1265s - loss: 1.2067 - dense_4_loss: 0.6429 - dense_1_loss: 1.0890 - dense_3_loss: 0.7904 - dense_4_accuracy: 0.7215 - dense_1_accuracy: 0.5298 - dense_3_accuracy: 0.6619 - val_loss: 1.1619 - val_dense_4_loss: 0.6138 - val_dense_1_loss: 1.0640 - val_dense_3_loss: 0.7630 - val_dense_4_accuracy: 0.7676 - val_dense_1_accuracy: 0.5599 - val_dense_3_accuracy: 0.6829 - 1265s/epoch - 2s/step\n",
      "Epoch 19/20\n",
      "768/768 - 1267s - loss: 1.2016 - dense_4_loss: 0.6400 - dense_1_loss: 1.0873 - dense_3_loss: 0.7845 - dense_4_accuracy: 0.7327 - dense_1_accuracy: 0.5189 - dense_3_accuracy: 0.6670 - val_loss: 1.1601 - val_dense_4_loss: 0.6127 - val_dense_1_loss: 1.0625 - val_dense_3_loss: 0.7620 - val_dense_4_accuracy: 0.7702 - val_dense_1_accuracy: 0.5618 - val_dense_3_accuracy: 0.6868 - 1267s/epoch - 2s/step\n",
      "Epoch 20/20\n",
      "768/768 - 1278s - loss: 1.1953 - dense_4_loss: 0.6342 - dense_1_loss: 1.0844 - dense_3_loss: 0.7859 - dense_4_accuracy: 0.7414 - dense_1_accuracy: 0.5317 - dense_3_accuracy: 0.6610 - val_loss: 1.1527 - val_dense_4_loss: 0.6075 - val_dense_1_loss: 1.0608 - val_dense_3_loss: 0.7565 - val_dense_4_accuracy: 0.7656 - val_dense_1_accuracy: 0.5612 - val_dense_3_accuracy: 0.6914 - 1278s/epoch - 2s/step\n"
     ]
    },
    {
     "name": "stdout",
     "output_type": "stream",
     "text": [
      "Testing time (s) = 25107.830930717988\n",
      "\n",
      "for testing\n",
      "60/60 [==============================] - 80s 1s/step - loss: 1.1233 - dense_4_loss: 0.5821 - dense_1_loss: 1.0620 - dense_3_loss: 0.7419 - dense_4_accuracy: 0.7740 - dense_1_accuracy: 0.5495 - dense_3_accuracy: 0.7052\n",
      "[1.1232926845550537, 0.5821228623390198, 1.0619691610336304, 0.7419305443763733, 0.7739583253860474, 0.5494791865348816, 0.7052083611488342]\n",
      "for training\n",
      "240/240 [==============================] - 351s 1s/step - loss: 1.1518 - dense_4_loss: 0.6063 - dense_1_loss: 1.0633 - dense_3_loss: 0.7550 - dense_4_accuracy: 0.7625 - dense_1_accuracy: 0.5617 - dense_3_accuracy: 0.6928\n",
      "[1.1517876386642456, 0.6062804460525513, 1.0633360147476196, 0.7550216913223267, 0.762499988079071, 0.561718761920929, 0.6928385496139526]\n"
     ]
    }
   ],
   "source": [
    "for x in range(1,2):\n",
    "    print(\"From epochs: \",20*x+1,\" to \",20+20*x)\n",
    "    tic = start_timer()\n",
    "    model.fit(x_train ,y_train ,batch_size=BATCH_SIZE ,epochs=20, verbose=2, validation_data=(x_val, y_val), shuffle=True)\n",
    "    toc = end_timer()\n",
    "    show_time(tic,toc)\n",
    "    print(\"for testing\")\n",
    "    print(model.evaluate(test_dataset,test_dataset_label))\n",
    "    print(\"for training\")\n",
    "    print(model.evaluate(train_dataset,train_dataset_label))"
   ]
  },
  {
   "cell_type": "code",
   "execution_count": null,
   "id": "3a4720f9",
   "metadata": {},
   "outputs": [],
   "source": []
  }
 ],
 "metadata": {
  "kernelspec": {
   "display_name": "Python 3 (ipykernel)",
   "language": "python",
   "name": "python3"
  },
  "language_info": {
   "codemirror_mode": {
    "name": "ipython",
    "version": 3
   },
   "file_extension": ".py",
   "mimetype": "text/x-python",
   "name": "python",
   "nbconvert_exporter": "python",
   "pygments_lexer": "ipython3",
   "version": "3.10.8"
  }
 },
 "nbformat": 4,
 "nbformat_minor": 5
}
