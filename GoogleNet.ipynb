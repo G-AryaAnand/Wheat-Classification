{
 "cells": [
  {
   "cell_type": "code",
   "execution_count": 2,
   "id": "6b605089",
   "metadata": {},
   "outputs": [],
   "source": [
    "import tensorflow as tf"
   ]
  },
  {
   "cell_type": "code",
   "execution_count": 3,
   "id": "c50afa16",
   "metadata": {},
   "outputs": [
    {
     "data": {
      "text/plain": [
       "'1.14.1'"
      ]
     },
     "execution_count": 3,
     "metadata": {},
     "output_type": "execute_result"
    }
   ],
   "source": [
    "import wrapt\n",
    "wrapt.__version__   # should be 1.14.1"
   ]
  },
  {
   "cell_type": "code",
   "execution_count": 4,
   "id": "c6cc1a38",
   "metadata": {},
   "outputs": [],
   "source": [
    "from tensorflow import keras as keras\n",
    "from keras import layers as layers"
   ]
  },
  {
   "cell_type": "code",
   "execution_count": 5,
   "id": "6c004aea",
   "metadata": {},
   "outputs": [],
   "source": [
    "import os, timeit\n",
    "from skimage.filters import threshold_otsu\n",
    "import numpy as np\n",
    "from math import inf as inf"
   ]
  },
  {
   "cell_type": "code",
   "execution_count": 6,
   "id": "10614a92",
   "metadata": {},
   "outputs": [],
   "source": [
    "import pandas as pd"
   ]
  },
  {
   "cell_type": "code",
   "execution_count": 7,
   "id": "6c9300cb",
   "metadata": {},
   "outputs": [],
   "source": [
    "from spectral.io import envi as envi\n",
    "from spectral import imshow"
   ]
  },
  {
   "cell_type": "code",
   "execution_count": 8,
   "id": "ee790ffe",
   "metadata": {},
   "outputs": [],
   "source": [
    "from sklearn.decomposition import IncrementalPCA"
   ]
  },
  {
   "cell_type": "code",
   "execution_count": 9,
   "id": "bf3717a6",
   "metadata": {},
   "outputs": [],
   "source": [
    "import sys"
   ]
  },
  {
   "cell_type": "code",
   "execution_count": 10,
   "id": "5a3c2830",
   "metadata": {},
   "outputs": [],
   "source": [
    "from tensorflow.keras.utils import set_random_seed\n",
    "set_random_seed(42)"
   ]
  },
  {
   "cell_type": "code",
   "execution_count": 11,
   "id": "3dd26930",
   "metadata": {},
   "outputs": [
    {
     "name": "stdout",
     "output_type": "stream",
     "text": [
      "Num GPUs Available:  0\n"
     ]
    }
   ],
   "source": [
    "print(\"Num GPUs Available: \", len(tf.config.list_physical_devices('GPU')))"
   ]
  },
  {
   "cell_type": "code",
   "execution_count": 12,
   "id": "0f72da7a",
   "metadata": {},
   "outputs": [],
   "source": [
    "from sys import platform\n",
    "DATA_DIRECTORY = \"\"\n",
    "SLASH = \"\"\n",
    "if platform == \"linux\" or platform == \"linux2\":\n",
    "    DATA_DIRECTORY = \"/home/tyagi/Desktop/wheat/data/BULK/\"\n",
    "    SLASH = \"/\"\n",
    "elif platform == \"win32\":\n",
    "    DATA_DIRECTORY = \"D:\\mvl\\wheat\\data\\BULK\\\\\"\n",
    "    SLASH=\"\\\\\""
   ]
  },
  {
   "cell_type": "code",
   "execution_count": 13,
   "id": "5979451f",
   "metadata": {},
   "outputs": [],
   "source": [
    "#Constants\n",
    "BAND_NUMBER = 60\n",
    "FILLED_AREA_RATIO = 0.9\n",
    "TOTAL_IMAGE_COUNT = 8\n",
    "IMAGE_COUNT = int(TOTAL_IMAGE_COUNT/4)\n",
    "NUM_VARIETIES = 4\n",
    "\n",
    "IMAGE_WIDTH = 30\n",
    "IMAGE_HEIGHT = 30"
   ]
  },
  {
   "cell_type": "code",
   "execution_count": 14,
   "id": "066f0249",
   "metadata": {},
   "outputs": [],
   "source": [
    "ACTIVATION_TYPE =  \"relu\"\n",
    "BATCH_SIZE = 2*NUM_VARIETIES\n",
    "\n",
    "LEARNING_RATE_BASE = 0.0001"
   ]
  },
  {
   "cell_type": "code",
   "execution_count": 15,
   "id": "6f32e132",
   "metadata": {},
   "outputs": [],
   "source": [
    "from enum import Enum\n",
    "\n",
    "class filter_method(Enum):\n",
    "    none = 0\n",
    "    snv = 1\n",
    "    msc = 2\n",
    "    savgol = 3\n",
    "    \n",
    "FILTER = filter_method(1).name\n",
    "\n",
    "# to be set if filter chosen is savgol\n",
    "WINDOW = 7\n",
    "ORDER = 2\n",
    "DERIVATIVE = \"none\""
   ]
  },
  {
   "cell_type": "code",
   "execution_count": 16,
   "id": "2e3a1d3a",
   "metadata": {},
   "outputs": [],
   "source": [
    "from enum import Enum\n",
    " \n",
    "class feature_extraction_method(Enum):\n",
    "    none = 0\n",
    "    pca_loading = 1\n",
    "    lda = 2\n",
    "    ipca = 3\n",
    "\n",
    "FEATURE_EXTRACTION = feature_extraction_method(0).name\n",
    "\n",
    "NUM_OF_BANDS = 3\n",
    "if FEATURE_EXTRACTION == \"pca_loading\" or FEATURE_EXTRACTION == \"ipca\":\n",
    "    NUM_OF_BANDS = 8\n",
    "elif FEATURE_EXTRACTION == \"lda\":\n",
    "    NUM_OF_BANDS = 3\n",
    "    assert NUM_OF_BANDS <= min(NUM_VARIETIES-1,168),\"NUM_OF_BANDS is greater.\"\n",
    "\n",
    "\n",
    "REMOVE_NOISY_BANDS = False\n",
    "FIRST_BAND = 15\n",
    "LAST_BAND = 161"
   ]
  },
  {
   "cell_type": "code",
   "execution_count": 17,
   "id": "e61072a5",
   "metadata": {},
   "outputs": [],
   "source": [
    "def start_timer():\n",
    "    print(\"Testing started\")\n",
    "    return timeit.default_timer()\n",
    "\n",
    "def end_timer():\n",
    "    return timeit.default_timer()\n",
    "\n",
    "def show_time(tic,toc): \n",
    "    test_time = toc - tic\n",
    "    print('Testing time (s) = ' + str(test_time) + '\\n')"
   ]
  },
  {
   "cell_type": "code",
   "execution_count": 18,
   "id": "e16e403c",
   "metadata": {},
   "outputs": [],
   "source": [
    "# List for All varieties\n",
    "VARIETIES = []\n",
    "VARIETIES_CODE = {}\n",
    "\n",
    "for name in os.listdir(DATA_DIRECTORY):\n",
    "    if (name.endswith(\".hdr\") or name.endswith(\".bil\")):\n",
    "        continue\n",
    "    VARIETIES_CODE[name] = len(VARIETIES)\n",
    "    VARIETIES.append(name)\n",
    "    if len(VARIETIES)==NUM_VARIETIES:\n",
    "        break"
   ]
  },
  {
   "cell_type": "code",
   "execution_count": 19,
   "id": "72409e2c",
   "metadata": {},
   "outputs": [],
   "source": [
    "def dataset_file_name(variety):\n",
    "    name = \"./dataset/V\"+str(variety).zfill(3)+\"_IC_\"+str(TOTAL_IMAGE_COUNT).zfill(5)+\"_FilledArea_\"+str(FILLED_AREA_RATIO)+\"_NumOfBands_\"+str(NUM_OF_BANDS)+\"_FB_\"+str(FIRST_BAND)+\"_LB_\"+str(LAST_BAND)+\"_BandNo_\"+str(BAND_NUMBER)+\"_ImageHeight_\"+str(IMAGE_HEIGHT)+\"_ImageWidth_\"+str(IMAGE_WIDTH)+\"_FILTER_\"+str(FILTER)+\"_FeatureExtraction_\"+str(FEATURE_EXTRACTION)\n",
    "    if REMOVE_NOISY_BANDS:\n",
    "        name+=\"_REMOVE_NOISY_BANDS_\"+str(REMOVE_NOISY_BANDS)\n",
    "    if FILTER == \"savgol\":\n",
    "        name+=\"_WINDOW_\"+str(WINDOW)+\"_ORDER_\"+str(ORDER)\n",
    "    return name"
   ]
  },
  {
   "cell_type": "code",
   "execution_count": 20,
   "id": "e74afa6d",
   "metadata": {},
   "outputs": [
    {
     "name": "stdout",
     "output_type": "stream",
     "text": [
      "idx:  0\n",
      "idx:  1\n",
      "idx:  2\n",
      "idx:  3\n"
     ]
    }
   ],
   "source": [
    "train_dataset = []\n",
    "train_dataset_label = []\n",
    "test_dataset=[]\n",
    "test_dataset_label = []\n",
    "\n",
    "for idx, v in enumerate(VARIETIES):\n",
    "    print(\"idx: \",idx)\n",
    "    if idx >= NUM_VARIETIES:\n",
    "        break\n",
    "    train_dataset= train_dataset + np.load(dataset_file_name(v)+\"_train_dataset.npy\").tolist()\n",
    "    train_dataset_label = train_dataset_label + np.load(dataset_file_name(v)+\"_train_dataset_label.npy\").tolist()\n",
    "    test_dataset = test_dataset + np.load(dataset_file_name(v)+\"_test_dataset.npy\").tolist()\n",
    "    test_dataset_label = test_dataset_label + np.load(dataset_file_name(v)+\"_test_dataset_label.npy\").tolist()\n",
    "    \n",
    "train_dataset = np.array(train_dataset)\n",
    "train_dataset_label = np.array(train_dataset_label)\n",
    "test_dataset = np.array(test_dataset)\n",
    "test_dataset_label = np.array(test_dataset_label)"
   ]
  },
  {
   "cell_type": "code",
   "execution_count": 21,
   "id": "c752599c",
   "metadata": {},
   "outputs": [],
   "source": [
    "import tensorflow as tf\n",
    "import matplotlib.pyplot as plt\n",
    "from tensorflow.keras import datasets, layers, models, losses, Model\n",
    "from keras.layers import Input, Conv2D, MaxPool2D, MaxPooling2D, Activation, Flatten, Dense, AveragePooling2D, GlobalAveragePooling2D\n",
    "from keras.layers.core import Dropout\n",
    "from keras.optimizers import Adam"
   ]
  },
  {
   "cell_type": "code",
   "execution_count": 22,
   "id": "d48cd5d7",
   "metadata": {},
   "outputs": [],
   "source": [
    "def normalizeDataWholeSeed(data,normalization_type='max'):\n",
    "    \n",
    "    if normalization_type == 'max':\n",
    "        for idx in range(data.shape[0]):\n",
    "            data[idx,:,:,:] = data[idx,:,:,:]/np.max(abs(data[idx,:,:,:]))\n",
    "            \n",
    "    elif normalization_type == 'l2norm':\n",
    "        from numpy import linalg as LA\n",
    "        for idx in range(data.shape[0]):\n",
    "            data[idx,:,:,:] = data[idx,:,:,:]/LA.norm(data[idx,:,:,:])       \n",
    "        \n",
    "    return data"
   ]
  },
  {
   "cell_type": "code",
   "execution_count": 23,
   "id": "aca8be82",
   "metadata": {},
   "outputs": [],
   "source": [
    "def inception(x,filters_1x1,filters_3x3_reduce,filters_3x3,filters_5x5_reduce,filters_5x5,filters_pool,activation_type='relu'):\n",
    "    path1 = Conv2D(filters_1x1,        (1, 1), padding='same', activation=activation_type)(x)\n",
    "    \n",
    "    path2 = Conv2D(filters_3x3_reduce, (1, 1), padding='same', activation=activation_type)(x)\n",
    "    path2 = Conv2D(filters_3x3,        (1, 1), padding='same', activation=activation_type)(path2)\n",
    "    \n",
    "    path3 = Conv2D(filters_5x5_reduce, (1, 1), padding='same', activation=activation_type)(x)\n",
    "    path3 = Conv2D(filters_5x5,        (1, 1), padding='same', activation=activation_type)(path3)\n",
    "    \n",
    "    path4 = MaxPool2D((3, 3),  strides=(1, 1), padding='same')(x)\n",
    "    path4 = Conv2D(filters_pool,       (1, 1), padding='same', activation=activation_type)(path4)\n",
    "    \n",
    "    return tf.concat([path1, path2, path3, path4], axis=3)"
   ]
  },
  {
   "cell_type": "code",
   "execution_count": 24,
   "id": "686f6ade",
   "metadata": {},
   "outputs": [],
   "source": [
    "def auxiliary_classifier(x,num_classes,activation_type='relu'):\n",
    "    aux = AveragePooling2D((5, 5), strides=3)(x)\n",
    "    aux = Conv2D(128, 1, padding='same', activation=activation_type)(aux)\n",
    "    aux = Flatten()(aux)\n",
    "    aux = Dense(1024, activation=activation_type)(aux)\n",
    "    aux = Dropout(0.7)(aux)\n",
    "    aux = Dense(num_classes, activation='softmax')(aux)\n",
    "    return aux"
   ]
  },
  {
   "cell_type": "code",
   "execution_count": 25,
   "id": "43d8a8cf",
   "metadata": {},
   "outputs": [],
   "source": [
    "def GoogleNetModel(data_num_rows, data_num_cols, num_input_chans=1, num_classes=NUM_VARIETIES, activation_type='relu', dropout_rate=0.0):\n",
    "\n",
    "    inp = Input(shape=(data_num_rows, data_num_cols, num_input_chans))\n",
    "    input_tensor = layers.experimental.preprocessing.Resizing(224, 224, interpolation=\"bilinear\", input_shape=train_dataset.shape[1:])(inp)\n",
    "    x = Conv2D(64,  7, strides=2, padding='same', activation=activation_type)(input_tensor)\n",
    "    x = MaxPooling2D(3, strides=2)(x)\n",
    "    x = Conv2D(64,  1, strides=1, padding='same', activation=activation_type)(x)\n",
    "    x = Conv2D(192, 3, strides=1, padding='same', activation=activation_type)(x)\n",
    "    x = MaxPooling2D(3, strides=2)(x)\n",
    "    x = inception(x, filters_1x1=64 , filters_3x3_reduce=96 , filters_3x3=128, filters_5x5_reduce=16, filters_5x5=32, filters_pool=32)\n",
    "    x = inception(x, filters_1x1=128, filters_3x3_reduce=128, filters_3x3=192, filters_5x5_reduce=32, filters_5x5=96, filters_pool=64)\n",
    "    x = MaxPooling2D(3, strides=2)(x)\n",
    "    x = inception(x, filters_1x1=192, filters_3x3_reduce=96 , filters_3x3=208, filters_5x5_reduce=16, filters_5x5=48, filters_pool=64)\n",
    "    \n",
    "    aux1 = auxiliary_classifier(x,num_classes)\n",
    "    \n",
    "    x = inception(x, filters_1x1=160, filters_3x3_reduce=112, filters_3x3=224, filters_5x5_reduce=24, filters_5x5=64, filters_pool=64)\n",
    "    x = inception(x, filters_1x1=128, filters_3x3_reduce=128, filters_3x3=256, filters_5x5_reduce=24, filters_5x5=64, filters_pool=64)\n",
    "    x = inception(x, filters_1x1=112, filters_3x3_reduce=144, filters_3x3=288, filters_5x5_reduce=32, filters_5x5=64, filters_pool=64)\n",
    "    \n",
    "    aux2 = auxiliary_classifier(x,num_classes)\n",
    "    \n",
    "    x = inception(x, filters_1x1=256, filters_3x3_reduce=160, filters_3x3=320, filters_5x5_reduce=32, filters_5x5=128, filters_pool=128)\n",
    "    x = MaxPooling2D(3, strides=2)(x)\n",
    "    x = inception(x, filters_1x1=256, filters_3x3_reduce=160, filters_3x3=320, filters_5x5_reduce=32, filters_5x5=128, filters_pool=128)\n",
    "    x = inception(x, filters_1x1=384, filters_3x3_reduce=192, filters_3x3=384, filters_5x5_reduce=48, filters_5x5=128, filters_pool=128)\n",
    "    x = GlobalAveragePooling2D()(x)\n",
    "    x = Dropout(dropout_rate)(x)\n",
    "    out = Dense(num_classes, activation='softmax')(x)\n",
    "    \n",
    "    return Model(inputs = inp, outputs = [out, aux1, aux2])"
   ]
  },
  {
   "cell_type": "code",
   "execution_count": 26,
   "id": "e3528776",
   "metadata": {},
   "outputs": [],
   "source": [
    "def getGoogleNetModel():\n",
    "    learning_rate_base = LEARNING_RATE_BASE\n",
    "    activation_type = ACTIVATION_TYPE\n",
    "    wheat_types =  VARIETIES\n",
    "    num_classes = len(wheat_types)\n",
    "    dropout_rate = 0.4\n",
    "    print(\"--------------Load Data--------------\")\n",
    "\n",
    "    x_training = np.array(train_dataset)\n",
    "    labels_training = np.array(train_dataset_label)\n",
    "    \n",
    "    # Normalize the data\n",
    "    x_training = normalizeDataWholeSeed(x_training)\n",
    "    \n",
    "    # Extract some information\n",
    "    num_train = x_training.shape[0]\n",
    "    N_spatial = x_training.shape[1:3]\n",
    "    N_channel = x_training.shape[3]\n",
    "    \n",
    "    print(\"--------------Done--------------\")\n",
    "    \n",
    "    ############ Create a model ############\n",
    "    print(\"--------------Create a model--------------\")\n",
    "    \n",
    "    # Generate a model\n",
    "    model = GoogleNetModel(data_num_rows = N_spatial[0], \n",
    "                           data_num_cols = N_spatial[1],\n",
    "                           num_input_chans = N_channel, \n",
    "                           num_classes = num_classes,\n",
    "                           activation_type = activation_type,\n",
    "                           dropout_rate = dropout_rate)\n",
    "\n",
    "    # Compile the model\n",
    "    adam_opt = Adam(learning_rate=LEARNING_RATE_BASE, beta_1=0.9, beta_2=0.999, epsilon=1e-08, decay=0.01)\n",
    "    model.compile(optimizer=adam_opt, loss=[losses.sparse_categorical_crossentropy,losses.sparse_categorical_crossentropy,losses.sparse_categorical_crossentropy],loss_weights=[1, 0.3, 0.3],metrics=['accuracy'])\n",
    "    print(\"---------Completed---------\")\n",
    "    return model"
   ]
  },
  {
   "cell_type": "code",
   "execution_count": 27,
   "id": "be0c2868",
   "metadata": {},
   "outputs": [],
   "source": [
    "def plot_graph(df,title,xlabel,ylabel,values=['loss'],legends=[]):\n",
    "    \n",
    "    for value in values:\n",
    "        epoch_count = range(1, len(df.index) + 1)\n",
    "        plt.plot(epoch_count, df[value].tolist())\n",
    "    plt.title(title)\n",
    "    plt.ylabel(ylabel)\n",
    "    plt.xlabel(xlabel)\n",
    "    if legends==[]:\n",
    "        legends = values\n",
    "    plt.legend(legends, loc='upper left')\n",
    "    plt.show()"
   ]
  },
  {
   "cell_type": "code",
   "execution_count": 30,
   "id": "5df8cc77",
   "metadata": {},
   "outputs": [],
   "source": [
    "x_train = []\n",
    "y_train = []\n",
    "x_val = []\n",
    "y_val = []\n",
    "\n",
    "for i in range(len(train_dataset)):\n",
    "    if i%5==0:\n",
    "        x_val.append(train_dataset[i])\n",
    "        y_val.append(train_dataset_label[i])\n",
    "    else:\n",
    "        x_train.append(train_dataset[i])\n",
    "        y_train.append(train_dataset_label[i])\n",
    "        \n",
    "x_train = np.array(x_train)\n",
    "y_train = np.array(y_train)\n",
    "y_train = [y_train,y_train,y_train]\n",
    "\n",
    "x_val = np.array(x_val)\n",
    "\n",
    "y_val = np.array(y_val)\n",
    "y_val = [y_val,y_val,y_val]"
   ]
  },
  {
   "cell_type": "code",
   "execution_count": 31,
   "id": "2fd04cc0",
   "metadata": {},
   "outputs": [],
   "source": [
    "import pandas as pd\n",
    "import os\n",
    "\n",
    "def save_to_csv(file_path, data_frame, header=False):\n",
    "    file_exists = os.path.exists(file_path)\n",
    "\n",
    "    if not file_exists or not header:\n",
    "        data_frame.to_csv(file_path, index=False, mode='w')\n",
    "    else:\n",
    "        data_frame.to_csv(file_path, index=False, mode='a', header=False)"
   ]
  },
  {
   "cell_type": "code",
   "execution_count": null,
   "id": "c197541c-df74-4d50-a63a-eb0eab139793",
   "metadata": {},
   "outputs": [],
   "source": [
    "VARIETIES"
   ]
  },
  {
   "cell_type": "code",
   "execution_count": 28,
   "id": "9df49795",
   "metadata": {},
   "outputs": [
    {
     "name": "stdout",
     "output_type": "stream",
     "text": [
      "--------------Load Data--------------\n",
      "--------------Done--------------\n",
      "--------------Create a model--------------\n",
      "---------Completed---------\n"
     ]
    }
   ],
   "source": [
    "model = None"
   ]
  },
  {
   "cell_type": "code",
   "execution_count": 39,
   "id": "c86b54bf",
   "metadata": {},
   "outputs": [],
   "source": [
    "start_epoch = 1"
   ]
  },
  {
   "cell_type": "code",
   "execution_count": 43,
   "id": "ae202619",
   "metadata": {},
   "outputs": [],
   "source": [
    "model_name = \"GN_\"+\"_IC_\"+str(TOTAL_IMAGE_COUNT).zfill(5)+\"_FilledArea_\"+str(FILLED_AREA_RATIO)+\"_BandNo_\"+str(BAND_NUMBER)+\"_ImageHeight_\"+str(IMAGE_HEIGHT)+\"_ImageWidth_\"+str(IMAGE_WIDTH)+\"_FILTER_\"+str(FILTER)+\"_FeatureExtraction_\"+str(FEATURE_EXTRACTION)\n",
    "if REMOVE_NOISY_BANDS:\n",
    "    model_name+=\"_REMOVE_NOISY_BANDS_\"+str(REMOVE_NOISY_BANDS)+\"_NumOfBands_\"+str(NUM_OF_BANDS)+\"_FB_\"+str(FIRST_BAND)+\"_LB_\"+str(LAST_BAND)\n",
    "if FILTER == \"savgol\":\n",
    "    model_name+=\"_WINDOW_\"+str(WINDOW)+\"_ORDER_\"+str(ORDER)\n",
    "\n",
    "if start_epoch != 1:\n",
    "    model = tf.keras.models.load_model('./GNmodels/'+str(start_epoch-1)+model_name)\n",
    "else:\n",
    "    model = getGoogleNetModel()"
   ]
  },
  {
   "cell_type": "code",
   "execution_count": 44,
   "id": "6025fea0",
   "metadata": {},
   "outputs": [],
   "source": [
    "last_epoch = 3"
   ]
  },
  {
   "cell_type": "code",
   "execution_count": 29,
   "id": "b89c2d88",
   "metadata": {},
   "outputs": [
    {
     "name": "stdout",
     "output_type": "stream",
     "text": [
      "Model: \"model\"\n",
      "__________________________________________________________________________________________________\n",
      " Layer (type)                   Output Shape         Param #     Connected to                     \n",
      "==================================================================================================\n",
      " input_1 (InputLayer)           [(None, 30, 30, 168  0           []                               \n",
      "                                )]                                                                \n",
      "                                                                                                  \n",
      " resizing (Resizing)            (None, 224, 224, 16  0           ['input_1[0][0]']                \n",
      "                                8)                                                                \n",
      "                                                                                                  \n",
      " conv2d (Conv2D)                (None, 112, 112, 64  526912      ['resizing[0][0]']               \n",
      "                                )                                                                 \n",
      "                                                                                                  \n",
      " max_pooling2d (MaxPooling2D)   (None, 55, 55, 64)   0           ['conv2d[0][0]']                 \n",
      "                                                                                                  \n",
      " conv2d_1 (Conv2D)              (None, 55, 55, 64)   4160        ['max_pooling2d[0][0]']          \n",
      "                                                                                                  \n",
      " conv2d_2 (Conv2D)              (None, 55, 55, 192)  110784      ['conv2d_1[0][0]']               \n",
      "                                                                                                  \n",
      " max_pooling2d_1 (MaxPooling2D)  (None, 27, 27, 192)  0          ['conv2d_2[0][0]']               \n",
      "                                                                                                  \n",
      " conv2d_4 (Conv2D)              (None, 27, 27, 96)   18528       ['max_pooling2d_1[0][0]']        \n",
      "                                                                                                  \n",
      " conv2d_6 (Conv2D)              (None, 27, 27, 16)   3088        ['max_pooling2d_1[0][0]']        \n",
      "                                                                                                  \n",
      " max_pooling2d_2 (MaxPooling2D)  (None, 27, 27, 192)  0          ['max_pooling2d_1[0][0]']        \n",
      "                                                                                                  \n",
      " conv2d_3 (Conv2D)              (None, 27, 27, 64)   12352       ['max_pooling2d_1[0][0]']        \n",
      "                                                                                                  \n",
      " conv2d_5 (Conv2D)              (None, 27, 27, 128)  12416       ['conv2d_4[0][0]']               \n",
      "                                                                                                  \n",
      " conv2d_7 (Conv2D)              (None, 27, 27, 32)   544         ['conv2d_6[0][0]']               \n",
      "                                                                                                  \n",
      " conv2d_8 (Conv2D)              (None, 27, 27, 32)   6176        ['max_pooling2d_2[0][0]']        \n",
      "                                                                                                  \n",
      " tf.concat (TFOpLambda)         (None, 27, 27, 256)  0           ['conv2d_3[0][0]',               \n",
      "                                                                  'conv2d_5[0][0]',               \n",
      "                                                                  'conv2d_7[0][0]',               \n",
      "                                                                  'conv2d_8[0][0]']               \n",
      "                                                                                                  \n",
      " conv2d_10 (Conv2D)             (None, 27, 27, 128)  32896       ['tf.concat[0][0]']              \n",
      "                                                                                                  \n",
      " conv2d_12 (Conv2D)             (None, 27, 27, 32)   8224        ['tf.concat[0][0]']              \n",
      "                                                                                                  \n",
      " max_pooling2d_3 (MaxPooling2D)  (None, 27, 27, 256)  0          ['tf.concat[0][0]']              \n",
      "                                                                                                  \n",
      " conv2d_9 (Conv2D)              (None, 27, 27, 128)  32896       ['tf.concat[0][0]']              \n",
      "                                                                                                  \n",
      " conv2d_11 (Conv2D)             (None, 27, 27, 192)  24768       ['conv2d_10[0][0]']              \n",
      "                                                                                                  \n",
      " conv2d_13 (Conv2D)             (None, 27, 27, 96)   3168        ['conv2d_12[0][0]']              \n",
      "                                                                                                  \n",
      " conv2d_14 (Conv2D)             (None, 27, 27, 64)   16448       ['max_pooling2d_3[0][0]']        \n",
      "                                                                                                  \n",
      " tf.concat_1 (TFOpLambda)       (None, 27, 27, 480)  0           ['conv2d_9[0][0]',               \n",
      "                                                                  'conv2d_11[0][0]',              \n",
      "                                                                  'conv2d_13[0][0]',              \n",
      "                                                                  'conv2d_14[0][0]']              \n",
      "                                                                                                  \n",
      " max_pooling2d_4 (MaxPooling2D)  (None, 13, 13, 480)  0          ['tf.concat_1[0][0]']            \n",
      "                                                                                                  \n",
      " conv2d_16 (Conv2D)             (None, 13, 13, 96)   46176       ['max_pooling2d_4[0][0]']        \n",
      "                                                                                                  \n",
      " conv2d_18 (Conv2D)             (None, 13, 13, 16)   7696        ['max_pooling2d_4[0][0]']        \n",
      "                                                                                                  \n",
      " max_pooling2d_5 (MaxPooling2D)  (None, 13, 13, 480)  0          ['max_pooling2d_4[0][0]']        \n",
      "                                                                                                  \n",
      " conv2d_15 (Conv2D)             (None, 13, 13, 192)  92352       ['max_pooling2d_4[0][0]']        \n",
      "                                                                                                  \n",
      " conv2d_17 (Conv2D)             (None, 13, 13, 208)  20176       ['conv2d_16[0][0]']              \n",
      "                                                                                                  \n",
      " conv2d_19 (Conv2D)             (None, 13, 13, 48)   816         ['conv2d_18[0][0]']              \n",
      "                                                                                                  \n",
      " conv2d_20 (Conv2D)             (None, 13, 13, 64)   30784       ['max_pooling2d_5[0][0]']        \n",
      "                                                                                                  \n",
      " tf.concat_2 (TFOpLambda)       (None, 13, 13, 512)  0           ['conv2d_15[0][0]',              \n",
      "                                                                  'conv2d_17[0][0]',              \n",
      "                                                                  'conv2d_19[0][0]',              \n",
      "                                                                  'conv2d_20[0][0]']              \n",
      "                                                                                                  \n",
      " conv2d_23 (Conv2D)             (None, 13, 13, 112)  57456       ['tf.concat_2[0][0]']            \n",
      "                                                                                                  \n",
      " conv2d_25 (Conv2D)             (None, 13, 13, 24)   12312       ['tf.concat_2[0][0]']            \n",
      "                                                                                                  \n"
     ]
    },
    {
     "name": "stdout",
     "output_type": "stream",
     "text": [
      " max_pooling2d_6 (MaxPooling2D)  (None, 13, 13, 512)  0          ['tf.concat_2[0][0]']            \n",
      "                                                                                                  \n",
      " conv2d_22 (Conv2D)             (None, 13, 13, 160)  82080       ['tf.concat_2[0][0]']            \n",
      "                                                                                                  \n",
      " conv2d_24 (Conv2D)             (None, 13, 13, 224)  25312       ['conv2d_23[0][0]']              \n",
      "                                                                                                  \n",
      " conv2d_26 (Conv2D)             (None, 13, 13, 64)   1600        ['conv2d_25[0][0]']              \n",
      "                                                                                                  \n",
      " conv2d_27 (Conv2D)             (None, 13, 13, 64)   32832       ['max_pooling2d_6[0][0]']        \n",
      "                                                                                                  \n",
      " tf.concat_3 (TFOpLambda)       (None, 13, 13, 512)  0           ['conv2d_22[0][0]',              \n",
      "                                                                  'conv2d_24[0][0]',              \n",
      "                                                                  'conv2d_26[0][0]',              \n",
      "                                                                  'conv2d_27[0][0]']              \n",
      "                                                                                                  \n",
      " conv2d_29 (Conv2D)             (None, 13, 13, 128)  65664       ['tf.concat_3[0][0]']            \n",
      "                                                                                                  \n",
      " conv2d_31 (Conv2D)             (None, 13, 13, 24)   12312       ['tf.concat_3[0][0]']            \n",
      "                                                                                                  \n",
      " max_pooling2d_7 (MaxPooling2D)  (None, 13, 13, 512)  0          ['tf.concat_3[0][0]']            \n",
      "                                                                                                  \n",
      " conv2d_28 (Conv2D)             (None, 13, 13, 128)  65664       ['tf.concat_3[0][0]']            \n",
      "                                                                                                  \n",
      " conv2d_30 (Conv2D)             (None, 13, 13, 256)  33024       ['conv2d_29[0][0]']              \n",
      "                                                                                                  \n",
      " conv2d_32 (Conv2D)             (None, 13, 13, 64)   1600        ['conv2d_31[0][0]']              \n",
      "                                                                                                  \n",
      " conv2d_33 (Conv2D)             (None, 13, 13, 64)   32832       ['max_pooling2d_7[0][0]']        \n",
      "                                                                                                  \n",
      " tf.concat_4 (TFOpLambda)       (None, 13, 13, 512)  0           ['conv2d_28[0][0]',              \n",
      "                                                                  'conv2d_30[0][0]',              \n",
      "                                                                  'conv2d_32[0][0]',              \n",
      "                                                                  'conv2d_33[0][0]']              \n",
      "                                                                                                  \n",
      " conv2d_35 (Conv2D)             (None, 13, 13, 144)  73872       ['tf.concat_4[0][0]']            \n",
      "                                                                                                  \n",
      " conv2d_37 (Conv2D)             (None, 13, 13, 32)   16416       ['tf.concat_4[0][0]']            \n",
      "                                                                                                  \n",
      " max_pooling2d_8 (MaxPooling2D)  (None, 13, 13, 512)  0          ['tf.concat_4[0][0]']            \n",
      "                                                                                                  \n",
      " conv2d_34 (Conv2D)             (None, 13, 13, 112)  57456       ['tf.concat_4[0][0]']            \n",
      "                                                                                                  \n",
      " conv2d_36 (Conv2D)             (None, 13, 13, 288)  41760       ['conv2d_35[0][0]']              \n",
      "                                                                                                  \n",
      " conv2d_38 (Conv2D)             (None, 13, 13, 64)   2112        ['conv2d_37[0][0]']              \n",
      "                                                                                                  \n",
      " conv2d_39 (Conv2D)             (None, 13, 13, 64)   32832       ['max_pooling2d_8[0][0]']        \n",
      "                                                                                                  \n",
      " tf.concat_5 (TFOpLambda)       (None, 13, 13, 528)  0           ['conv2d_34[0][0]',              \n",
      "                                                                  'conv2d_36[0][0]',              \n",
      "                                                                  'conv2d_38[0][0]',              \n",
      "                                                                  'conv2d_39[0][0]']              \n",
      "                                                                                                  \n",
      " conv2d_42 (Conv2D)             (None, 13, 13, 160)  84640       ['tf.concat_5[0][0]']            \n",
      "                                                                                                  \n",
      " conv2d_44 (Conv2D)             (None, 13, 13, 32)   16928       ['tf.concat_5[0][0]']            \n",
      "                                                                                                  \n",
      " max_pooling2d_9 (MaxPooling2D)  (None, 13, 13, 528)  0          ['tf.concat_5[0][0]']            \n",
      "                                                                                                  \n",
      " conv2d_41 (Conv2D)             (None, 13, 13, 256)  135424      ['tf.concat_5[0][0]']            \n",
      "                                                                                                  \n",
      " conv2d_43 (Conv2D)             (None, 13, 13, 320)  51520       ['conv2d_42[0][0]']              \n",
      "                                                                                                  \n",
      " conv2d_45 (Conv2D)             (None, 13, 13, 128)  4224        ['conv2d_44[0][0]']              \n",
      "                                                                                                  \n",
      " conv2d_46 (Conv2D)             (None, 13, 13, 128)  67712       ['max_pooling2d_9[0][0]']        \n",
      "                                                                                                  \n",
      " tf.concat_6 (TFOpLambda)       (None, 13, 13, 832)  0           ['conv2d_41[0][0]',              \n",
      "                                                                  'conv2d_43[0][0]',              \n",
      "                                                                  'conv2d_45[0][0]',              \n",
      "                                                                  'conv2d_46[0][0]']              \n",
      "                                                                                                  \n",
      " max_pooling2d_10 (MaxPooling2D  (None, 6, 6, 832)   0           ['tf.concat_6[0][0]']            \n",
      " )                                                                                                \n",
      "                                                                                                  \n",
      " conv2d_48 (Conv2D)             (None, 6, 6, 160)    133280      ['max_pooling2d_10[0][0]']       \n",
      "                                                                                                  \n",
      " conv2d_50 (Conv2D)             (None, 6, 6, 32)     26656       ['max_pooling2d_10[0][0]']       \n",
      "                                                                                                  \n",
      " max_pooling2d_11 (MaxPooling2D  (None, 6, 6, 832)   0           ['max_pooling2d_10[0][0]']       \n",
      " )                                                                                                \n",
      "                                                                                                  \n",
      " conv2d_47 (Conv2D)             (None, 6, 6, 256)    213248      ['max_pooling2d_10[0][0]']       \n"
     ]
    },
    {
     "name": "stdout",
     "output_type": "stream",
     "text": [
      "                                                                                                  \n",
      " conv2d_49 (Conv2D)             (None, 6, 6, 320)    51520       ['conv2d_48[0][0]']              \n",
      "                                                                                                  \n",
      " conv2d_51 (Conv2D)             (None, 6, 6, 128)    4224        ['conv2d_50[0][0]']              \n",
      "                                                                                                  \n",
      " conv2d_52 (Conv2D)             (None, 6, 6, 128)    106624      ['max_pooling2d_11[0][0]']       \n",
      "                                                                                                  \n",
      " tf.concat_7 (TFOpLambda)       (None, 6, 6, 832)    0           ['conv2d_47[0][0]',              \n",
      "                                                                  'conv2d_49[0][0]',              \n",
      "                                                                  'conv2d_51[0][0]',              \n",
      "                                                                  'conv2d_52[0][0]']              \n",
      "                                                                                                  \n",
      " conv2d_54 (Conv2D)             (None, 6, 6, 192)    159936      ['tf.concat_7[0][0]']            \n",
      "                                                                                                  \n",
      " conv2d_56 (Conv2D)             (None, 6, 6, 48)     39984       ['tf.concat_7[0][0]']            \n",
      "                                                                                                  \n",
      " max_pooling2d_12 (MaxPooling2D  (None, 6, 6, 832)   0           ['tf.concat_7[0][0]']            \n",
      " )                                                                                                \n",
      "                                                                                                  \n",
      " average_pooling2d (AveragePool  (None, 3, 3, 512)   0           ['tf.concat_2[0][0]']            \n",
      " ing2D)                                                                                           \n",
      "                                                                                                  \n",
      " average_pooling2d_1 (AveragePo  (None, 3, 3, 528)   0           ['tf.concat_5[0][0]']            \n",
      " oling2D)                                                                                         \n",
      "                                                                                                  \n",
      " conv2d_53 (Conv2D)             (None, 6, 6, 384)    319872      ['tf.concat_7[0][0]']            \n",
      "                                                                                                  \n",
      " conv2d_55 (Conv2D)             (None, 6, 6, 384)    74112       ['conv2d_54[0][0]']              \n",
      "                                                                                                  \n",
      " conv2d_57 (Conv2D)             (None, 6, 6, 128)    6272        ['conv2d_56[0][0]']              \n",
      "                                                                                                  \n",
      " conv2d_58 (Conv2D)             (None, 6, 6, 128)    106624      ['max_pooling2d_12[0][0]']       \n",
      "                                                                                                  \n",
      " conv2d_21 (Conv2D)             (None, 3, 3, 128)    65664       ['average_pooling2d[0][0]']      \n",
      "                                                                                                  \n",
      " conv2d_40 (Conv2D)             (None, 3, 3, 128)    67712       ['average_pooling2d_1[0][0]']    \n",
      "                                                                                                  \n",
      " tf.concat_8 (TFOpLambda)       (None, 6, 6, 1024)   0           ['conv2d_53[0][0]',              \n",
      "                                                                  'conv2d_55[0][0]',              \n",
      "                                                                  'conv2d_57[0][0]',              \n",
      "                                                                  'conv2d_58[0][0]']              \n",
      "                                                                                                  \n",
      " flatten (Flatten)              (None, 1152)         0           ['conv2d_21[0][0]']              \n",
      "                                                                                                  \n",
      " flatten_1 (Flatten)            (None, 1152)         0           ['conv2d_40[0][0]']              \n",
      "                                                                                                  \n",
      " global_average_pooling2d (Glob  (None, 1024)        0           ['tf.concat_8[0][0]']            \n",
      " alAveragePooling2D)                                                                              \n",
      "                                                                                                  \n",
      " dense (Dense)                  (None, 1024)         1180672     ['flatten[0][0]']                \n",
      "                                                                                                  \n",
      " dense_2 (Dense)                (None, 1024)         1180672     ['flatten_1[0][0]']              \n",
      "                                                                                                  \n",
      " dropout_2 (Dropout)            (None, 1024)         0           ['global_average_pooling2d[0][0]'\n",
      "                                                                 ]                                \n",
      "                                                                                                  \n",
      " dropout (Dropout)              (None, 1024)         0           ['dense[0][0]']                  \n",
      "                                                                                                  \n",
      " dropout_1 (Dropout)            (None, 1024)         0           ['dense_2[0][0]']                \n",
      "                                                                                                  \n",
      " dense_4 (Dense)                (None, 4)            4100        ['dropout_2[0][0]']              \n",
      "                                                                                                  \n",
      " dense_1 (Dense)                (None, 4)            4100        ['dropout[0][0]']                \n",
      "                                                                                                  \n",
      " dense_3 (Dense)                (None, 4)            4100        ['dropout_1[0][0]']              \n",
      "                                                                                                  \n",
      "==================================================================================================\n",
      "Total params: 5,768,316\n",
      "Trainable params: 5,768,316\n",
      "Non-trainable params: 0\n",
      "__________________________________________________________________________________________________\n"
     ]
    }
   ],
   "source": [
    "model.summary()"
   ]
  },
  {
   "cell_type": "code",
   "execution_count": 45,
   "id": "863f63f5",
   "metadata": {},
   "outputs": [
    {
     "name": "stdout",
     "output_type": "stream",
     "text": [
      "Testing started\n",
      "\n",
      "Epoch:  3\n",
      "2/2 - 20s - loss: 2.0697 - dense_4_loss: 1.3420 - dense_1_loss: 1.1829 - dense_3_loss: 1.2427 - dense_4_accuracy: 0.5000 - dense_1_accuracy: 0.4167 - dense_3_accuracy: 0.5833 - val_loss: 2.2381 - val_dense_4_loss: 1.3992 - val_dense_1_loss: 1.3879 - val_dense_3_loss: 1.4086 - val_dense_4_accuracy: 0.2500 - val_dense_1_accuracy: 0.2500 - val_dense_3_accuracy: 0.2500 - 20s/epoch - 10s/step\n"
     ]
    },
    {
     "name": "stderr",
     "output_type": "stream",
     "text": [
      "WARNING:absl:Found untraced functions such as _jit_compiled_convolution_op, _jit_compiled_convolution_op, _jit_compiled_convolution_op, _jit_compiled_convolution_op, _jit_compiled_convolution_op while saving (showing 5 of 59). These functions will not be directly callable after loading.\n"
     ]
    },
    {
     "name": "stdout",
     "output_type": "stream",
     "text": [
      "INFO:tensorflow:Assets written to: ./GNmodels/3GN__IC_00008_FilledArea_0.9_BandNo_60_ImageHeight_30_ImageWidth_30_FILTER_snv_FeatureExtraction_none\\assets\n"
     ]
    },
    {
     "name": "stderr",
     "output_type": "stream",
     "text": [
      "INFO:tensorflow:Assets written to: ./GNmodels/3GN__IC_00008_FilledArea_0.9_BandNo_60_ImageHeight_30_ImageWidth_30_FILTER_snv_FeatureExtraction_none\\assets\n"
     ]
    },
    {
     "name": "stdout",
     "output_type": "stream",
     "text": [
      "Model saved on epoch:  3\n",
      "added to csv\n",
      "\n",
      "Epoch:  4\n",
      "2/2 - 11s - loss: 2.1028 - dense_4_loss: 1.3314 - dense_1_loss: 1.3066 - dense_3_loss: 1.2647 - dense_4_accuracy: 0.2500 - dense_1_accuracy: 0.4167 - dense_3_accuracy: 0.5000 - val_loss: 2.2534 - val_dense_4_loss: 1.3989 - val_dense_1_loss: 1.4263 - val_dense_3_loss: 1.4218 - val_dense_4_accuracy: 0.2500 - val_dense_1_accuracy: 0.2500 - val_dense_3_accuracy: 0.2500 - 11s/epoch - 6s/step\n"
     ]
    },
    {
     "name": "stderr",
     "output_type": "stream",
     "text": [
      "WARNING:absl:Found untraced functions such as _jit_compiled_convolution_op, _jit_compiled_convolution_op, _jit_compiled_convolution_op, _jit_compiled_convolution_op, _jit_compiled_convolution_op while saving (showing 5 of 59). These functions will not be directly callable after loading.\n"
     ]
    },
    {
     "name": "stdout",
     "output_type": "stream",
     "text": [
      "INFO:tensorflow:Assets written to: ./GNmodels/4GN__IC_00008_FilledArea_0.9_BandNo_60_ImageHeight_30_ImageWidth_30_FILTER_snv_FeatureExtraction_none\\assets\n"
     ]
    },
    {
     "name": "stderr",
     "output_type": "stream",
     "text": [
      "INFO:tensorflow:Assets written to: ./GNmodels/4GN__IC_00008_FilledArea_0.9_BandNo_60_ImageHeight_30_ImageWidth_30_FILTER_snv_FeatureExtraction_none\\assets\n"
     ]
    },
    {
     "name": "stdout",
     "output_type": "stream",
     "text": [
      "Model saved on epoch:  4\n",
      "added to csv\n",
      "\n",
      "Epoch:  5\n",
      "2/2 - 10s - loss: 2.1541 - dense_4_loss: 1.3132 - dense_1_loss: 1.4117 - dense_3_loss: 1.3913 - dense_4_accuracy: 0.4167 - dense_1_accuracy: 0.3333 - dense_3_accuracy: 0.3333 - val_loss: 2.2489 - val_dense_4_loss: 1.3983 - val_dense_1_loss: 1.4242 - val_dense_3_loss: 1.4112 - val_dense_4_accuracy: 0.2500 - val_dense_1_accuracy: 0.2500 - val_dense_3_accuracy: 0.2500 - 10s/epoch - 5s/step\n"
     ]
    },
    {
     "name": "stderr",
     "output_type": "stream",
     "text": [
      "WARNING:absl:Found untraced functions such as _jit_compiled_convolution_op, _jit_compiled_convolution_op, _jit_compiled_convolution_op, _jit_compiled_convolution_op, _jit_compiled_convolution_op while saving (showing 5 of 59). These functions will not be directly callable after loading.\n"
     ]
    },
    {
     "name": "stdout",
     "output_type": "stream",
     "text": [
      "INFO:tensorflow:Assets written to: ./GNmodels/5GN__IC_00008_FilledArea_0.9_BandNo_60_ImageHeight_30_ImageWidth_30_FILTER_snv_FeatureExtraction_none\\assets\n"
     ]
    },
    {
     "name": "stderr",
     "output_type": "stream",
     "text": [
      "INFO:tensorflow:Assets written to: ./GNmodels/5GN__IC_00008_FilledArea_0.9_BandNo_60_ImageHeight_30_ImageWidth_30_FILTER_snv_FeatureExtraction_none\\assets\n"
     ]
    },
    {
     "name": "stdout",
     "output_type": "stream",
     "text": [
      "Model saved on epoch:  5\n",
      "added to csv\n",
      "Testing time (s) = 120.23042939999141\n",
      "\n"
     ]
    }
   ],
   "source": [
    "tic = start_timer()\n",
    "while start_epoch<last_epoch:\n",
    "    print(\"\\nEpoch: \",start_epoch)\n",
    "    history = model.fit(x_train ,y_train ,batch_size=BATCH_SIZE ,epochs=1, verbose=2, validation_data=(x_val, y_val), shuffle=True)\n",
    "    model.save('./GNmodels/'+str(start_epoch)+model_name)\n",
    "    print(\"Model saved on epoch: \",start_epoch)\n",
    "    \n",
    "    history_dataframe = pd.DataFrame.from_dict(history.history)\n",
    "    save_to_csv('../csvs/'+model_name+'.csv', history_dataframe, header=True)\n",
    "    print(\"added to csv\")\n",
    "    start_epoch+=1\n",
    "    \n",
    "toc = end_timer()\n",
    "show_time(tic,toc)"
   ]
  },
  {
   "cell_type": "code",
   "execution_count": null,
   "id": "c0a809b5",
   "metadata": {},
   "outputs": [],
   "source": [
    "from sklearn.metrics import accuracy_score, confusion_matrix, classification_report\n",
    "\n",
    "y_pred = model.predict(test_dataset)"
   ]
  },
  {
   "cell_type": "code",
   "execution_count": null,
   "id": "e4a8a387-0f92-497d-a8fa-e21c8edbedb9",
   "metadata": {},
   "outputs": [],
   "source": [
    "y_pred_labels = np.argmax(y_pred, axis=2)"
   ]
  },
  {
   "cell_type": "code",
   "execution_count": null,
   "id": "ceac068e-62db-4e58-8e33-1792d84e7169",
   "metadata": {},
   "outputs": [],
   "source": [
    "for y_pred_label in y_pred_labels:\n",
    "    # Calculate accuracy\n",
    "    accuracy = accuracy_score(test_dataset_label, y_pred_label)\n",
    "    print(\"Accuracy:\", accuracy)\n",
    "    \n",
    "    # Calculate confusion matrix\n",
    "    cm = confusion_matrix(test_dataset_label, y_pred_label)\n",
    "    print(\"Confusion Matrix:\")\n",
    "    print(cm)\n",
    "    \n",
    "    # Calculate precision, recall, and F1-score for each class\n",
    "    print(\"Classification Report:\")\n",
    "    print(classification_report(test_dataset_label, y_pred_label))"
   ]
  }
 ],
 "metadata": {
  "kernelspec": {
   "display_name": "Python 3 (ipykernel)",
   "language": "python",
   "name": "python3"
  },
  "language_info": {
   "codemirror_mode": {
    "name": "ipython",
    "version": 3
   },
   "file_extension": ".py",
   "mimetype": "text/x-python",
   "name": "python",
   "nbconvert_exporter": "python",
   "pygments_lexer": "ipython3",
   "version": "3.10.7"
  }
 },
 "nbformat": 4,
 "nbformat_minor": 5
}
