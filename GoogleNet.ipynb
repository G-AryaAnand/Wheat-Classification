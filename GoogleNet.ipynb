{
 "cells": [
  {
   "cell_type": "code",
   "execution_count": 1,
   "id": "eb661222",
   "metadata": {},
   "outputs": [],
   "source": [
    "# !pip install opencv-python scikit-learn scikit-image matplotlib spectral keras_tuner vis\n",
    "# !pip install tensorflow numpy pandas\n",
    "# !pip install spectral"
   ]
  },
  {
   "cell_type": "code",
   "execution_count": 2,
   "id": "6b605089",
   "metadata": {},
   "outputs": [
    {
     "name": "stderr",
     "output_type": "stream",
     "text": [
      "2023-07-19 14:00:23.234183: I tensorflow/core/platform/cpu_feature_guard.cc:182] This TensorFlow binary is optimized to use available CPU instructions in performance-critical operations.\n",
      "To enable the following instructions: SSE4.1 SSE4.2 AVX AVX2 AVX512F FMA, in other operations, rebuild TensorFlow with the appropriate compiler flags.\n"
     ]
    }
   ],
   "source": [
    "import tensorflow as tf"
   ]
  },
  {
   "cell_type": "code",
   "execution_count": 3,
   "id": "c6cc1a38",
   "metadata": {},
   "outputs": [],
   "source": [
    "from tensorflow import keras as keras\n",
    "from keras import layers as layers"
   ]
  },
  {
   "cell_type": "code",
   "execution_count": 4,
   "id": "6c004aea",
   "metadata": {},
   "outputs": [],
   "source": [
    "import os, timeit\n",
    "from skimage.filters import threshold_otsu\n",
    "import numpy as np\n",
    "from math import inf as inf"
   ]
  },
  {
   "cell_type": "code",
   "execution_count": 5,
   "id": "10614a92",
   "metadata": {},
   "outputs": [],
   "source": [
    "import pandas as pd"
   ]
  },
  {
   "cell_type": "code",
   "execution_count": 6,
   "id": "6c9300cb",
   "metadata": {},
   "outputs": [],
   "source": [
    "from spectral.io import envi as envi\n",
    "from spectral import imshow"
   ]
  },
  {
   "cell_type": "code",
   "execution_count": 7,
   "id": "ee790ffe",
   "metadata": {},
   "outputs": [],
   "source": [
    "from sklearn.decomposition import IncrementalPCA"
   ]
  },
  {
   "cell_type": "code",
   "execution_count": 8,
   "id": "bf3717a6",
   "metadata": {},
   "outputs": [],
   "source": [
    "import sys"
   ]
  },
  {
   "cell_type": "code",
   "execution_count": 9,
   "id": "5a3c2830",
   "metadata": {},
   "outputs": [],
   "source": [
    "from tensorflow.keras.utils import set_random_seed\n",
    "set_random_seed(42)"
   ]
  },
  {
   "cell_type": "code",
   "execution_count": 10,
   "id": "3dd26930",
   "metadata": {},
   "outputs": [
    {
     "name": "stdout",
     "output_type": "stream",
     "text": [
      "Num GPUs Available:  0\n"
     ]
    }
   ],
   "source": [
    "print(\"Num GPUs Available: \", len(tf.config.list_physical_devices('GPU')))"
   ]
  },
  {
   "cell_type": "code",
   "execution_count": 11,
   "id": "0f72da7a",
   "metadata": {},
   "outputs": [],
   "source": [
    "from sys import platform\n",
    "DATA_DIRECTORY = \"\"\n",
    "SLASH = \"\"\n",
    "if platform == \"linux\" or platform == \"linux2\":\n",
    "    DATA_DIRECTORY = \"/home/tyagi/Desktop/wheat/data/BULK/\"\n",
    "    SLASH = \"/\"\n",
    "elif platform == \"win32\":\n",
    "    DATA_DIRECTORY = \"D:\\mvl\\wheat\\data\\BULK\\\\\"\n",
    "    SLASH=\"\\\\\""
   ]
  },
  {
   "cell_type": "code",
   "execution_count": 12,
   "id": "5979451f",
   "metadata": {},
   "outputs": [],
   "source": [
    "#Constants\n",
    "BAND_NUMBER = 60\n",
    "FILLED_AREA_RATIO = 0.9\n",
    "TOTAL_IMAGE_COUNT = 2400\n",
    "IMAGE_COUNT = int(TOTAL_IMAGE_COUNT/4)\n",
    "NUM_VARIETIES = 4\n",
    "\n",
    "IMAGE_WIDTH = 30\n",
    "IMAGE_HEIGHT = 30"
   ]
  },
  {
   "cell_type": "code",
   "execution_count": 13,
   "id": "066f0249",
   "metadata": {},
   "outputs": [],
   "source": [
    "ACTIVATION_TYPE =  \"relu\"\n",
    "BATCH_SIZE = 2*NUM_VARIETIES\n",
    "\n",
    "LEARNING_RATE_BASE = 0.0001"
   ]
  },
  {
   "cell_type": "code",
   "execution_count": 14,
   "id": "6f32e132",
   "metadata": {},
   "outputs": [],
   "source": [
    "from enum import Enum\n",
    "\n",
    "class filter_method(Enum):\n",
    "    none = 0\n",
    "    snv = 1\n",
    "    msc = 2\n",
    "    savgol = 3\n",
    "    \n",
    "FILTER = filter_method(0).name\n",
    "\n",
    "# to be set if filter chosen is savgol\n",
    "WINDOW = 7\n",
    "ORDER = 2\n",
    "DERIVATIVE = \"none\""
   ]
  },
  {
   "cell_type": "code",
   "execution_count": 15,
   "id": "2e3a1d3a",
   "metadata": {},
   "outputs": [],
   "source": [
    "from enum import Enum\n",
    " \n",
    "class feature_extraction_method(Enum):\n",
    "    none = 0\n",
    "    pca_loading = 1\n",
    "    lda = 2\n",
    "    ipca = 3\n",
    "\n",
    "FEATURE_EXTRACTION = feature_extraction_method(0).name\n",
    "\n",
    "NUM_OF_BANDS = 3\n",
    "if FEATURE_EXTRACTION == \"pca_loading\" or FEATURE_EXTRACTION == \"ipca\":\n",
    "    NUM_OF_BANDS = 8\n",
    "elif FEATURE_EXTRACTION == \"lda\":\n",
    "    NUM_OF_BANDS = 3\n",
    "    assert NUM_OF_BANDS <= min(NUM_VARIETIES-1,168),\"NUM_OF_BANDS is greater.\"\n",
    "\n",
    "\n",
    "REMOVE_NOISY_BANDS = True\n",
    "FIRST_BAND = 15\n",
    "LAST_BAND = 161"
   ]
  },
  {
   "cell_type": "code",
   "execution_count": 16,
   "id": "e61072a5",
   "metadata": {},
   "outputs": [],
   "source": [
    "def start_timer():\n",
    "    print(\"Testing started\")\n",
    "    return timeit.default_timer()\n",
    "\n",
    "def end_timer():\n",
    "    return timeit.default_timer()\n",
    "\n",
    "def show_time(tic,toc): \n",
    "    test_time = toc - tic\n",
    "    print('Testing time (s) = ' + str(test_time) + '\\n')"
   ]
  },
  {
   "cell_type": "code",
   "execution_count": 17,
   "id": "e16e403c",
   "metadata": {},
   "outputs": [],
   "source": [
    "# List for All varieties\n",
    "VARIETIES = []\n",
    "VARIETIES_CODE = {}\n",
    "\n",
    "for name in os.listdir(DATA_DIRECTORY):\n",
    "    if (name.endswith(\".hdr\") or name.endswith(\".bil\")):\n",
    "        continue\n",
    "    VARIETIES_CODE[name] = len(VARIETIES)\n",
    "    VARIETIES.append(name)\n",
    "    if len(VARIETIES)==NUM_VARIETIES:\n",
    "        break"
   ]
  },
  {
   "cell_type": "code",
   "execution_count": 18,
   "id": "72409e2c",
   "metadata": {},
   "outputs": [],
   "source": [
    "def dataset_file_name(variety):\n",
    "    name = \"./dataset/V\"+str(variety).zfill(3)+\"_IC_\"+str(TOTAL_IMAGE_COUNT).zfill(5)+\"_FilledArea_\"+str(FILLED_AREA_RATIO)+\"_NumOfBands_\"+str(NUM_OF_BANDS)+\"_FB_\"+str(FIRST_BAND)+\"_LB_\"+str(LAST_BAND)+\"_BandNo_\"+str(BAND_NUMBER)+\"_ImageHeight_\"+str(IMAGE_HEIGHT)+\"_ImageWidth_\"+str(IMAGE_WIDTH)+\"_FILTER_\"+str(FILTER)+\"_FeatureExtraction_\"+str(FEATURE_EXTRACTION)\n",
    "    if REMOVE_NOISY_BANDS:\n",
    "        name+=\"_REMOVE_NOISY_BANDS_\"+str(REMOVE_NOISY_BANDS)\n",
    "    if FILTER == \"savgol\":\n",
    "        name+=\"_WINDOW_\"+str(WINDOW)+\"_ORDER_\"+str(ORDER)\n",
    "    return name"
   ]
  },
  {
   "cell_type": "code",
   "execution_count": 19,
   "id": "e74afa6d",
   "metadata": {},
   "outputs": [
    {
     "name": "stdout",
     "output_type": "stream",
     "text": [
      "idx:  0\n",
      "idx:  1\n",
      "idx:  2\n",
      "idx:  3\n"
     ]
    }
   ],
   "source": [
    "train_dataset = []\n",
    "train_dataset_label = []\n",
    "test_dataset=[]\n",
    "test_dataset_label = []\n",
    "\n",
    "for idx, v in enumerate(VARIETIES):\n",
    "    print(\"idx: \",idx)\n",
    "    if idx >= NUM_VARIETIES:\n",
    "        break\n",
    "    train_dataset= train_dataset + np.load(dataset_file_name(v)+\"_train_dataset.npy\").tolist()\n",
    "    train_dataset_label = train_dataset_label + np.load(dataset_file_name(v)+\"_train_dataset_label.npy\").tolist()\n",
    "    test_dataset = test_dataset + np.load(dataset_file_name(v)+\"_test_dataset.npy\").tolist()\n",
    "    test_dataset_label = test_dataset_label + np.load(dataset_file_name(v)+\"_test_dataset_label.npy\").tolist()\n",
    "    \n",
    "train_dataset = np.array(train_dataset)\n",
    "train_dataset_label = np.array(train_dataset_label)\n",
    "test_dataset = np.array(test_dataset)\n",
    "test_dataset_label = np.array(test_dataset_label)"
   ]
  },
  {
   "cell_type": "code",
   "execution_count": 20,
   "id": "c752599c",
   "metadata": {},
   "outputs": [],
   "source": [
    "import tensorflow as tf\n",
    "import matplotlib.pyplot as plt\n",
    "from tensorflow.keras import datasets, layers, models, losses, Model\n",
    "from keras.layers import Input, Conv2D, MaxPool2D, MaxPooling2D, Activation, Flatten, Dense, AveragePooling2D, GlobalAveragePooling2D\n",
    "from keras.layers.core import Dropout\n",
    "from keras.optimizers import Adam"
   ]
  },
  {
   "cell_type": "code",
   "execution_count": 21,
   "id": "d48cd5d7",
   "metadata": {},
   "outputs": [],
   "source": [
    "def normalizeDataWholeSeed(data,normalization_type='max'):\n",
    "    \n",
    "    if normalization_type == 'max':\n",
    "        for idx in range(data.shape[0]):\n",
    "            data[idx,:,:,:] = data[idx,:,:,:]/np.max(abs(data[idx,:,:,:]))\n",
    "            \n",
    "    elif normalization_type == 'l2norm':\n",
    "        from numpy import linalg as LA\n",
    "        for idx in range(data.shape[0]):\n",
    "            data[idx,:,:,:] = data[idx,:,:,:]/LA.norm(data[idx,:,:,:])       \n",
    "        \n",
    "    return data"
   ]
  },
  {
   "cell_type": "code",
   "execution_count": 22,
   "id": "aca8be82",
   "metadata": {},
   "outputs": [],
   "source": [
    "def inception(x,filters_1x1,filters_3x3_reduce,filters_3x3,filters_5x5_reduce,filters_5x5,filters_pool,activation_type='relu'):\n",
    "    path1 = Conv2D(filters_1x1,        (1, 1), padding='same', activation=activation_type)(x)\n",
    "    \n",
    "    path2 = Conv2D(filters_3x3_reduce, (1, 1), padding='same', activation=activation_type)(x)\n",
    "    path2 = Conv2D(filters_3x3,        (1, 1), padding='same', activation=activation_type)(path2)\n",
    "    \n",
    "    path3 = Conv2D(filters_5x5_reduce, (1, 1), padding='same', activation=activation_type)(x)\n",
    "    path3 = Conv2D(filters_5x5,        (1, 1), padding='same', activation=activation_type)(path3)\n",
    "    \n",
    "    path4 = MaxPool2D((3, 3),  strides=(1, 1), padding='same')(x)\n",
    "    path4 = Conv2D(filters_pool,       (1, 1), padding='same', activation=activation_type)(path4)\n",
    "    \n",
    "    return tf.concat([path1, path2, path3, path4], axis=3)"
   ]
  },
  {
   "cell_type": "code",
   "execution_count": 23,
   "id": "686f6ade",
   "metadata": {},
   "outputs": [],
   "source": [
    "def auxiliary_classifier(x,num_classes,activation_type='relu'):\n",
    "    aux = AveragePooling2D((5, 5), strides=3)(x)\n",
    "    aux = Conv2D(128, 1, padding='same', activation=activation_type)(aux)\n",
    "    aux = Flatten()(aux)\n",
    "    aux = Dense(1024, activation=activation_type)(aux)\n",
    "    aux = Dropout(0.7)(aux)\n",
    "    aux = Dense(num_classes, activation='softmax')(aux)\n",
    "    return aux"
   ]
  },
  {
   "cell_type": "code",
   "execution_count": 24,
   "id": "43d8a8cf",
   "metadata": {},
   "outputs": [],
   "source": [
    "def GoogleNetModel(data_num_rows, data_num_cols, num_input_chans=1, num_classes=NUM_VARIETIES, activation_type='relu', dropout_rate=0.0):\n",
    "\n",
    "    inp = Input(shape=(data_num_rows, data_num_cols, num_input_chans))\n",
    "    input_tensor = layers.experimental.preprocessing.Resizing(224, 224, interpolation=\"bilinear\", input_shape=train_dataset.shape[1:])(inp)\n",
    "    x = Conv2D(64,  7, strides=2, padding='same', activation=activation_type)(input_tensor)\n",
    "    x = MaxPooling2D(3, strides=2)(x)\n",
    "    x = Conv2D(64,  1, strides=1, padding='same', activation=activation_type)(x)\n",
    "    x = Conv2D(192, 3, strides=1, padding='same', activation=activation_type)(x)\n",
    "    x = MaxPooling2D(3, strides=2)(x)\n",
    "    x = inception(x, filters_1x1=64 , filters_3x3_reduce=96 , filters_3x3=128, filters_5x5_reduce=16, filters_5x5=32, filters_pool=32)\n",
    "    x = inception(x, filters_1x1=128, filters_3x3_reduce=128, filters_3x3=192, filters_5x5_reduce=32, filters_5x5=96, filters_pool=64)\n",
    "    x = MaxPooling2D(3, strides=2)(x)\n",
    "    x = inception(x, filters_1x1=192, filters_3x3_reduce=96 , filters_3x3=208, filters_5x5_reduce=16, filters_5x5=48, filters_pool=64)\n",
    "    \n",
    "    aux1 = auxiliary_classifier(x,num_classes)\n",
    "    \n",
    "    x = inception(x, filters_1x1=160, filters_3x3_reduce=112, filters_3x3=224, filters_5x5_reduce=24, filters_5x5=64, filters_pool=64)\n",
    "    x = inception(x, filters_1x1=128, filters_3x3_reduce=128, filters_3x3=256, filters_5x5_reduce=24, filters_5x5=64, filters_pool=64)\n",
    "    x = inception(x, filters_1x1=112, filters_3x3_reduce=144, filters_3x3=288, filters_5x5_reduce=32, filters_5x5=64, filters_pool=64)\n",
    "    \n",
    "    aux2 = auxiliary_classifier(x,num_classes)\n",
    "    \n",
    "    x = inception(x, filters_1x1=256, filters_3x3_reduce=160, filters_3x3=320, filters_5x5_reduce=32, filters_5x5=128, filters_pool=128)\n",
    "    x = MaxPooling2D(3, strides=2)(x)\n",
    "    x = inception(x, filters_1x1=256, filters_3x3_reduce=160, filters_3x3=320, filters_5x5_reduce=32, filters_5x5=128, filters_pool=128)\n",
    "    x = inception(x, filters_1x1=384, filters_3x3_reduce=192, filters_3x3=384, filters_5x5_reduce=48, filters_5x5=128, filters_pool=128)\n",
    "    x = GlobalAveragePooling2D()(x)\n",
    "    x = Dropout(dropout_rate)(x)\n",
    "    out = Dense(num_classes, activation='softmax')(x)\n",
    "    \n",
    "    return Model(inputs = inp, outputs = [out, aux1, aux2])"
   ]
  },
  {
   "cell_type": "code",
   "execution_count": 25,
   "id": "e3528776",
   "metadata": {},
   "outputs": [],
   "source": [
    "def getGoogleNetModel():\n",
    "    learning_rate_base = LEARNING_RATE_BASE\n",
    "    activation_type = ACTIVATION_TYPE\n",
    "    wheat_types =  VARIETIES\n",
    "    num_classes = len(wheat_types)\n",
    "    dropout_rate = 0.4\n",
    "    print(\"--------------Load Data--------------\")\n",
    "\n",
    "    x_training = np.array(train_dataset)\n",
    "    labels_training = np.array(train_dataset_label)\n",
    "    \n",
    "    # Normalize the data\n",
    "    x_training = normalizeDataWholeSeed(x_training)\n",
    "    \n",
    "    # Extract some information\n",
    "    num_train = x_training.shape[0]\n",
    "    N_spatial = x_training.shape[1:3]\n",
    "    N_channel = x_training.shape[3]\n",
    "    \n",
    "    print(\"--------------Done--------------\")\n",
    "    \n",
    "    ############ Create a model ############\n",
    "    print(\"--------------Create a model--------------\")\n",
    "    \n",
    "    # Generate a model\n",
    "    model = GoogleNetModel(data_num_rows = N_spatial[0], \n",
    "                           data_num_cols = N_spatial[1],\n",
    "                           num_input_chans = N_channel, \n",
    "                           num_classes = num_classes,\n",
    "                           activation_type = activation_type,\n",
    "                           dropout_rate = dropout_rate)\n",
    "\n",
    "    # Compile the model\n",
    "    adam_opt = Adam(learning_rate=LEARNING_RATE_BASE, beta_1=0.9, beta_2=0.999, epsilon=1e-08, decay=0.01)\n",
    "    model.compile(optimizer=adam_opt, loss=[losses.sparse_categorical_crossentropy,losses.sparse_categorical_crossentropy,losses.sparse_categorical_crossentropy],loss_weights=[1, 0.3, 0.3],metrics=['accuracy'])\n",
    "    print(\"---------Completed---------\")\n",
    "    return model"
   ]
  },
  {
   "cell_type": "code",
   "execution_count": 26,
   "id": "be0c2868",
   "metadata": {},
   "outputs": [],
   "source": [
    "def plot_graph(df,title,xlabel,ylabel,values=['loss'],legends=[]):\n",
    "    \n",
    "    for value in values:\n",
    "        epoch_count = range(1, len(df.index) + 1)\n",
    "        plt.plot(epoch_count, df[value].tolist())\n",
    "    plt.title(title)\n",
    "    plt.ylabel(ylabel)\n",
    "    plt.xlabel(xlabel)\n",
    "    if legends==[]:\n",
    "        legends = values\n",
    "    plt.legend(legends, loc='upper left')\n",
    "    plt.show()"
   ]
  },
  {
   "cell_type": "code",
   "execution_count": 27,
   "id": "9df49795",
   "metadata": {},
   "outputs": [
    {
     "name": "stdout",
     "output_type": "stream",
     "text": [
      "--------------Load Data--------------\n",
      "--------------Done--------------\n",
      "--------------Create a model--------------\n"
     ]
    },
    {
     "name": "stderr",
     "output_type": "stream",
     "text": [
      "2023-07-19 14:06:11.488143: I tensorflow/core/common_runtime/process_util.cc:146] Creating new thread pool with default inter op setting: 2. Tune using inter_op_parallelism_threads for best performance.\n"
     ]
    },
    {
     "name": "stdout",
     "output_type": "stream",
     "text": [
      "---------Completed---------\n"
     ]
    }
   ],
   "source": [
    "model = getGoogleNetModel()"
   ]
  },
  {
   "cell_type": "code",
   "execution_count": 28,
   "id": "b89c2d88",
   "metadata": {},
   "outputs": [
    {
     "name": "stdout",
     "output_type": "stream",
     "text": [
      "Model: \"model\"\n",
      "__________________________________________________________________________________________________\n",
      " Layer (type)                   Output Shape         Param #     Connected to                     \n",
      "==================================================================================================\n",
      " input_1 (InputLayer)           [(None, 30, 30, 147  0           []                               \n",
      "                                )]                                                                \n",
      "                                                                                                  \n",
      " resizing (Resizing)            (None, 224, 224, 14  0           ['input_1[0][0]']                \n",
      "                                7)                                                                \n",
      "                                                                                                  \n",
      " conv2d (Conv2D)                (None, 112, 112, 64  461056      ['resizing[0][0]']               \n",
      "                                )                                                                 \n",
      "                                                                                                  \n",
      " max_pooling2d (MaxPooling2D)   (None, 55, 55, 64)   0           ['conv2d[0][0]']                 \n",
      "                                                                                                  \n",
      " conv2d_1 (Conv2D)              (None, 55, 55, 64)   4160        ['max_pooling2d[0][0]']          \n",
      "                                                                                                  \n",
      " conv2d_2 (Conv2D)              (None, 55, 55, 192)  110784      ['conv2d_1[0][0]']               \n",
      "                                                                                                  \n",
      " max_pooling2d_1 (MaxPooling2D)  (None, 27, 27, 192)  0          ['conv2d_2[0][0]']               \n",
      "                                                                                                  \n",
      " conv2d_4 (Conv2D)              (None, 27, 27, 96)   18528       ['max_pooling2d_1[0][0]']        \n",
      "                                                                                                  \n",
      " conv2d_6 (Conv2D)              (None, 27, 27, 16)   3088        ['max_pooling2d_1[0][0]']        \n",
      "                                                                                                  \n",
      " max_pooling2d_2 (MaxPooling2D)  (None, 27, 27, 192)  0          ['max_pooling2d_1[0][0]']        \n",
      "                                                                                                  \n",
      " conv2d_3 (Conv2D)              (None, 27, 27, 64)   12352       ['max_pooling2d_1[0][0]']        \n",
      "                                                                                                  \n",
      " conv2d_5 (Conv2D)              (None, 27, 27, 128)  12416       ['conv2d_4[0][0]']               \n",
      "                                                                                                  \n",
      " conv2d_7 (Conv2D)              (None, 27, 27, 32)   544         ['conv2d_6[0][0]']               \n",
      "                                                                                                  \n",
      " conv2d_8 (Conv2D)              (None, 27, 27, 32)   6176        ['max_pooling2d_2[0][0]']        \n",
      "                                                                                                  \n",
      " tf.concat (TFOpLambda)         (None, 27, 27, 256)  0           ['conv2d_3[0][0]',               \n",
      "                                                                  'conv2d_5[0][0]',               \n",
      "                                                                  'conv2d_7[0][0]',               \n",
      "                                                                  'conv2d_8[0][0]']               \n",
      "                                                                                                  \n",
      " conv2d_10 (Conv2D)             (None, 27, 27, 128)  32896       ['tf.concat[0][0]']              \n",
      "                                                                                                  \n",
      " conv2d_12 (Conv2D)             (None, 27, 27, 32)   8224        ['tf.concat[0][0]']              \n",
      "                                                                                                  \n",
      " max_pooling2d_3 (MaxPooling2D)  (None, 27, 27, 256)  0          ['tf.concat[0][0]']              \n",
      "                                                                                                  \n",
      " conv2d_9 (Conv2D)              (None, 27, 27, 128)  32896       ['tf.concat[0][0]']              \n",
      "                                                                                                  \n",
      " conv2d_11 (Conv2D)             (None, 27, 27, 192)  24768       ['conv2d_10[0][0]']              \n",
      "                                                                                                  \n",
      " conv2d_13 (Conv2D)             (None, 27, 27, 96)   3168        ['conv2d_12[0][0]']              \n",
      "                                                                                                  \n",
      " conv2d_14 (Conv2D)             (None, 27, 27, 64)   16448       ['max_pooling2d_3[0][0]']        \n",
      "                                                                                                  \n",
      " tf.concat_1 (TFOpLambda)       (None, 27, 27, 480)  0           ['conv2d_9[0][0]',               \n",
      "                                                                  'conv2d_11[0][0]',              \n",
      "                                                                  'conv2d_13[0][0]',              \n",
      "                                                                  'conv2d_14[0][0]']              \n",
      "                                                                                                  \n",
      " max_pooling2d_4 (MaxPooling2D)  (None, 13, 13, 480)  0          ['tf.concat_1[0][0]']            \n",
      "                                                                                                  \n",
      " conv2d_16 (Conv2D)             (None, 13, 13, 96)   46176       ['max_pooling2d_4[0][0]']        \n",
      "                                                                                                  \n",
      " conv2d_18 (Conv2D)             (None, 13, 13, 16)   7696        ['max_pooling2d_4[0][0]']        \n",
      "                                                                                                  \n",
      " max_pooling2d_5 (MaxPooling2D)  (None, 13, 13, 480)  0          ['max_pooling2d_4[0][0]']        \n",
      "                                                                                                  \n",
      " conv2d_15 (Conv2D)             (None, 13, 13, 192)  92352       ['max_pooling2d_4[0][0]']        \n",
      "                                                                                                  \n",
      " conv2d_17 (Conv2D)             (None, 13, 13, 208)  20176       ['conv2d_16[0][0]']              \n",
      "                                                                                                  \n",
      " conv2d_19 (Conv2D)             (None, 13, 13, 48)   816         ['conv2d_18[0][0]']              \n",
      "                                                                                                  \n",
      " conv2d_20 (Conv2D)             (None, 13, 13, 64)   30784       ['max_pooling2d_5[0][0]']        \n",
      "                                                                                                  \n",
      " tf.concat_2 (TFOpLambda)       (None, 13, 13, 512)  0           ['conv2d_15[0][0]',              \n",
      "                                                                  'conv2d_17[0][0]',              \n",
      "                                                                  'conv2d_19[0][0]',              \n",
      "                                                                  'conv2d_20[0][0]']              \n",
      "                                                                                                  \n",
      " conv2d_23 (Conv2D)             (None, 13, 13, 112)  57456       ['tf.concat_2[0][0]']            \n",
      "                                                                                                  \n",
      " conv2d_25 (Conv2D)             (None, 13, 13, 24)   12312       ['tf.concat_2[0][0]']            \n",
      "                                                                                                  \n"
     ]
    },
    {
     "name": "stdout",
     "output_type": "stream",
     "text": [
      " max_pooling2d_6 (MaxPooling2D)  (None, 13, 13, 512)  0          ['tf.concat_2[0][0]']            \n",
      "                                                                                                  \n",
      " conv2d_22 (Conv2D)             (None, 13, 13, 160)  82080       ['tf.concat_2[0][0]']            \n",
      "                                                                                                  \n",
      " conv2d_24 (Conv2D)             (None, 13, 13, 224)  25312       ['conv2d_23[0][0]']              \n",
      "                                                                                                  \n",
      " conv2d_26 (Conv2D)             (None, 13, 13, 64)   1600        ['conv2d_25[0][0]']              \n",
      "                                                                                                  \n",
      " conv2d_27 (Conv2D)             (None, 13, 13, 64)   32832       ['max_pooling2d_6[0][0]']        \n",
      "                                                                                                  \n",
      " tf.concat_3 (TFOpLambda)       (None, 13, 13, 512)  0           ['conv2d_22[0][0]',              \n",
      "                                                                  'conv2d_24[0][0]',              \n",
      "                                                                  'conv2d_26[0][0]',              \n",
      "                                                                  'conv2d_27[0][0]']              \n",
      "                                                                                                  \n",
      " conv2d_29 (Conv2D)             (None, 13, 13, 128)  65664       ['tf.concat_3[0][0]']            \n",
      "                                                                                                  \n",
      " conv2d_31 (Conv2D)             (None, 13, 13, 24)   12312       ['tf.concat_3[0][0]']            \n",
      "                                                                                                  \n",
      " max_pooling2d_7 (MaxPooling2D)  (None, 13, 13, 512)  0          ['tf.concat_3[0][0]']            \n",
      "                                                                                                  \n",
      " conv2d_28 (Conv2D)             (None, 13, 13, 128)  65664       ['tf.concat_3[0][0]']            \n",
      "                                                                                                  \n",
      " conv2d_30 (Conv2D)             (None, 13, 13, 256)  33024       ['conv2d_29[0][0]']              \n",
      "                                                                                                  \n",
      " conv2d_32 (Conv2D)             (None, 13, 13, 64)   1600        ['conv2d_31[0][0]']              \n",
      "                                                                                                  \n",
      " conv2d_33 (Conv2D)             (None, 13, 13, 64)   32832       ['max_pooling2d_7[0][0]']        \n",
      "                                                                                                  \n",
      " tf.concat_4 (TFOpLambda)       (None, 13, 13, 512)  0           ['conv2d_28[0][0]',              \n",
      "                                                                  'conv2d_30[0][0]',              \n",
      "                                                                  'conv2d_32[0][0]',              \n",
      "                                                                  'conv2d_33[0][0]']              \n",
      "                                                                                                  \n",
      " conv2d_35 (Conv2D)             (None, 13, 13, 144)  73872       ['tf.concat_4[0][0]']            \n",
      "                                                                                                  \n",
      " conv2d_37 (Conv2D)             (None, 13, 13, 32)   16416       ['tf.concat_4[0][0]']            \n",
      "                                                                                                  \n",
      " max_pooling2d_8 (MaxPooling2D)  (None, 13, 13, 512)  0          ['tf.concat_4[0][0]']            \n",
      "                                                                                                  \n",
      " conv2d_34 (Conv2D)             (None, 13, 13, 112)  57456       ['tf.concat_4[0][0]']            \n",
      "                                                                                                  \n",
      " conv2d_36 (Conv2D)             (None, 13, 13, 288)  41760       ['conv2d_35[0][0]']              \n",
      "                                                                                                  \n",
      " conv2d_38 (Conv2D)             (None, 13, 13, 64)   2112        ['conv2d_37[0][0]']              \n",
      "                                                                                                  \n",
      " conv2d_39 (Conv2D)             (None, 13, 13, 64)   32832       ['max_pooling2d_8[0][0]']        \n",
      "                                                                                                  \n",
      " tf.concat_5 (TFOpLambda)       (None, 13, 13, 528)  0           ['conv2d_34[0][0]',              \n",
      "                                                                  'conv2d_36[0][0]',              \n",
      "                                                                  'conv2d_38[0][0]',              \n",
      "                                                                  'conv2d_39[0][0]']              \n",
      "                                                                                                  \n",
      " conv2d_42 (Conv2D)             (None, 13, 13, 160)  84640       ['tf.concat_5[0][0]']            \n",
      "                                                                                                  \n",
      " conv2d_44 (Conv2D)             (None, 13, 13, 32)   16928       ['tf.concat_5[0][0]']            \n",
      "                                                                                                  \n",
      " max_pooling2d_9 (MaxPooling2D)  (None, 13, 13, 528)  0          ['tf.concat_5[0][0]']            \n",
      "                                                                                                  \n",
      " conv2d_41 (Conv2D)             (None, 13, 13, 256)  135424      ['tf.concat_5[0][0]']            \n",
      "                                                                                                  \n",
      " conv2d_43 (Conv2D)             (None, 13, 13, 320)  51520       ['conv2d_42[0][0]']              \n",
      "                                                                                                  \n",
      " conv2d_45 (Conv2D)             (None, 13, 13, 128)  4224        ['conv2d_44[0][0]']              \n",
      "                                                                                                  \n",
      " conv2d_46 (Conv2D)             (None, 13, 13, 128)  67712       ['max_pooling2d_9[0][0]']        \n",
      "                                                                                                  \n",
      " tf.concat_6 (TFOpLambda)       (None, 13, 13, 832)  0           ['conv2d_41[0][0]',              \n",
      "                                                                  'conv2d_43[0][0]',              \n",
      "                                                                  'conv2d_45[0][0]',              \n",
      "                                                                  'conv2d_46[0][0]']              \n",
      "                                                                                                  \n",
      " max_pooling2d_10 (MaxPooling2D  (None, 6, 6, 832)   0           ['tf.concat_6[0][0]']            \n",
      " )                                                                                                \n",
      "                                                                                                  \n",
      " conv2d_48 (Conv2D)             (None, 6, 6, 160)    133280      ['max_pooling2d_10[0][0]']       \n",
      "                                                                                                  \n",
      " conv2d_50 (Conv2D)             (None, 6, 6, 32)     26656       ['max_pooling2d_10[0][0]']       \n",
      "                                                                                                  \n",
      " max_pooling2d_11 (MaxPooling2D  (None, 6, 6, 832)   0           ['max_pooling2d_10[0][0]']       \n",
      " )                                                                                                \n",
      "                                                                                                  \n",
      " conv2d_47 (Conv2D)             (None, 6, 6, 256)    213248      ['max_pooling2d_10[0][0]']       \n"
     ]
    },
    {
     "name": "stdout",
     "output_type": "stream",
     "text": [
      "                                                                                                  \n",
      " conv2d_49 (Conv2D)             (None, 6, 6, 320)    51520       ['conv2d_48[0][0]']              \n",
      "                                                                                                  \n",
      " conv2d_51 (Conv2D)             (None, 6, 6, 128)    4224        ['conv2d_50[0][0]']              \n",
      "                                                                                                  \n",
      " conv2d_52 (Conv2D)             (None, 6, 6, 128)    106624      ['max_pooling2d_11[0][0]']       \n",
      "                                                                                                  \n",
      " tf.concat_7 (TFOpLambda)       (None, 6, 6, 832)    0           ['conv2d_47[0][0]',              \n",
      "                                                                  'conv2d_49[0][0]',              \n",
      "                                                                  'conv2d_51[0][0]',              \n",
      "                                                                  'conv2d_52[0][0]']              \n",
      "                                                                                                  \n",
      " conv2d_54 (Conv2D)             (None, 6, 6, 192)    159936      ['tf.concat_7[0][0]']            \n",
      "                                                                                                  \n",
      " conv2d_56 (Conv2D)             (None, 6, 6, 48)     39984       ['tf.concat_7[0][0]']            \n",
      "                                                                                                  \n",
      " max_pooling2d_12 (MaxPooling2D  (None, 6, 6, 832)   0           ['tf.concat_7[0][0]']            \n",
      " )                                                                                                \n",
      "                                                                                                  \n",
      " average_pooling2d (AveragePool  (None, 3, 3, 512)   0           ['tf.concat_2[0][0]']            \n",
      " ing2D)                                                                                           \n",
      "                                                                                                  \n",
      " average_pooling2d_1 (AveragePo  (None, 3, 3, 528)   0           ['tf.concat_5[0][0]']            \n",
      " oling2D)                                                                                         \n",
      "                                                                                                  \n",
      " conv2d_53 (Conv2D)             (None, 6, 6, 384)    319872      ['tf.concat_7[0][0]']            \n",
      "                                                                                                  \n",
      " conv2d_55 (Conv2D)             (None, 6, 6, 384)    74112       ['conv2d_54[0][0]']              \n",
      "                                                                                                  \n",
      " conv2d_57 (Conv2D)             (None, 6, 6, 128)    6272        ['conv2d_56[0][0]']              \n",
      "                                                                                                  \n",
      " conv2d_58 (Conv2D)             (None, 6, 6, 128)    106624      ['max_pooling2d_12[0][0]']       \n",
      "                                                                                                  \n",
      " conv2d_21 (Conv2D)             (None, 3, 3, 128)    65664       ['average_pooling2d[0][0]']      \n",
      "                                                                                                  \n",
      " conv2d_40 (Conv2D)             (None, 3, 3, 128)    67712       ['average_pooling2d_1[0][0]']    \n",
      "                                                                                                  \n",
      " tf.concat_8 (TFOpLambda)       (None, 6, 6, 1024)   0           ['conv2d_53[0][0]',              \n",
      "                                                                  'conv2d_55[0][0]',              \n",
      "                                                                  'conv2d_57[0][0]',              \n",
      "                                                                  'conv2d_58[0][0]']              \n",
      "                                                                                                  \n",
      " flatten (Flatten)              (None, 1152)         0           ['conv2d_21[0][0]']              \n",
      "                                                                                                  \n",
      " flatten_1 (Flatten)            (None, 1152)         0           ['conv2d_40[0][0]']              \n",
      "                                                                                                  \n",
      " global_average_pooling2d (Glob  (None, 1024)        0           ['tf.concat_8[0][0]']            \n",
      " alAveragePooling2D)                                                                              \n",
      "                                                                                                  \n",
      " dense (Dense)                  (None, 1024)         1180672     ['flatten[0][0]']                \n",
      "                                                                                                  \n",
      " dense_2 (Dense)                (None, 1024)         1180672     ['flatten_1[0][0]']              \n",
      "                                                                                                  \n",
      " dropout_2 (Dropout)            (None, 1024)         0           ['global_average_pooling2d[0][0]'\n",
      "                                                                 ]                                \n",
      "                                                                                                  \n",
      " dropout (Dropout)              (None, 1024)         0           ['dense[0][0]']                  \n",
      "                                                                                                  \n",
      " dropout_1 (Dropout)            (None, 1024)         0           ['dense_2[0][0]']                \n",
      "                                                                                                  \n",
      " dense_4 (Dense)                (None, 4)            4100        ['dropout_2[0][0]']              \n",
      "                                                                                                  \n",
      " dense_1 (Dense)                (None, 4)            4100        ['dropout[0][0]']                \n",
      "                                                                                                  \n",
      " dense_3 (Dense)                (None, 4)            4100        ['dropout_1[0][0]']              \n",
      "                                                                                                  \n",
      "==================================================================================================\n",
      "Total params: 5,702,460\n",
      "Trainable params: 5,702,460\n",
      "Non-trainable params: 0\n",
      "__________________________________________________________________________________________________\n"
     ]
    }
   ],
   "source": [
    "model.summary()"
   ]
  },
  {
   "cell_type": "code",
   "execution_count": 29,
   "id": "5df8cc77",
   "metadata": {},
   "outputs": [],
   "source": [
    "x_train = []\n",
    "y_train = []\n",
    "x_val = []\n",
    "y_val = []\n",
    "\n",
    "for i in range(len(train_dataset)):\n",
    "    if i%5==0:\n",
    "        x_val.append(train_dataset[i])\n",
    "        y_val.append(train_dataset_label[i])\n",
    "    else:\n",
    "        x_train.append(train_dataset[i])\n",
    "        y_train.append(train_dataset_label[i])\n",
    "        \n",
    "x_train = np.array(x_train)\n",
    "y_train = np.array(y_train)\n",
    "y_train = [y_train,y_train,y_train]\n",
    "\n",
    "x_val = np.array(x_val)\n",
    "\n",
    "y_val = np.array(y_val)\n",
    "y_val = [y_val,y_val,y_val]"
   ]
  },
  {
   "cell_type": "code",
   "execution_count": 30,
   "id": "9e30efad",
   "metadata": {},
   "outputs": [],
   "source": [
    "train_eva = []\n",
    "test_eva = []"
   ]
  },
  {
   "cell_type": "code",
   "execution_count": 31,
   "id": "7fd5eaeb",
   "metadata": {},
   "outputs": [],
   "source": [
    "history_dataframe = pd.DataFrame() "
   ]
  },
  {
   "cell_type": "code",
   "execution_count": null,
   "id": "863f63f5",
   "metadata": {},
   "outputs": [
    {
     "name": "stdout",
     "output_type": "stream",
     "text": [
      "Testing started\n",
      "\n",
      "Epoch:  1\n",
      "768/768 - 1842s - loss: 2.1947 - dense_4_loss: 1.3699 - dense_1_loss: 1.3755 - dense_3_loss: 1.3738 - dense_4_accuracy: 0.2930 - dense_1_accuracy: 0.2690 - dense_3_accuracy: 0.2754 - val_loss: 2.1780 - val_dense_4_loss: 1.3750 - val_dense_1_loss: 1.3421 - val_dense_3_loss: 1.3345 - val_dense_4_accuracy: 0.2604 - val_dense_1_accuracy: 0.3926 - val_dense_3_accuracy: 0.2826 - 1842s/epoch - 2s/step\n",
      "for testing\n",
      "60/60 [==============================] - 44s 706ms/step - loss: 2.1820 - dense_4_loss: 1.3790 - dense_1_loss: 1.3414 - dense_3_loss: 1.3351 - dense_4_accuracy: 0.2578 - dense_1_accuracy: 0.3922 - dense_3_accuracy: 0.2786\n",
      "for training\n",
      "240/240 [==============================] - 168s 702ms/step - loss: 2.1812 - dense_4_loss: 1.3779 - dense_1_loss: 1.3421 - dense_3_loss: 1.3354 - dense_4_accuracy: 0.2564 - dense_1_accuracy: 0.3783 - dense_3_accuracy: 0.2746\n",
      "\n",
      "Epoch:  2\n",
      "768/768 - 1818s - loss: 1.8367 - dense_4_loss: 1.1184 - dense_1_loss: 1.2322 - dense_3_loss: 1.1623 - dense_4_accuracy: 0.4609 - dense_1_accuracy: 0.4222 - dense_3_accuracy: 0.4320 - val_loss: 1.7471 - val_dense_4_loss: 1.0607 - val_dense_1_loss: 1.1750 - val_dense_3_loss: 1.1130 - val_dense_4_accuracy: 0.5020 - val_dense_1_accuracy: 0.4544 - val_dense_3_accuracy: 0.4492 - 1818s/epoch - 2s/step\n",
      "for testing\n",
      "60/60 [==============================] - 43s 709ms/step - loss: 1.7437 - dense_4_loss: 1.0621 - dense_1_loss: 1.1677 - dense_3_loss: 1.1046 - dense_4_accuracy: 0.5104 - dense_1_accuracy: 0.4729 - dense_3_accuracy: 0.4724\n",
      "for training\n",
      "240/240 [==============================] - 170s 705ms/step - loss: 1.7276 - dense_4_loss: 1.0484 - dense_1_loss: 1.1669 - dense_3_loss: 1.0970 - dense_4_accuracy: 0.5102 - dense_1_accuracy: 0.4707 - dense_3_accuracy: 0.4669\n",
      "\n",
      "Epoch:  3\n",
      "768/768 - 1798s - loss: 1.7019 - dense_4_loss: 1.0291 - dense_1_loss: 1.1507 - dense_3_loss: 1.0918 - dense_4_accuracy: 0.5187 - dense_1_accuracy: 0.4601 - dense_3_accuracy: 0.4626 - val_loss: 1.6662 - val_dense_4_loss: 1.0027 - val_dense_1_loss: 1.1343 - val_dense_3_loss: 1.0771 - val_dense_4_accuracy: 0.5456 - val_dense_1_accuracy: 0.4655 - val_dense_3_accuracy: 0.4889 - 1798s/epoch - 2s/step\n",
      "for testing\n",
      "60/60 [==============================] - 43s 710ms/step - loss: 1.6622 - dense_4_loss: 1.0045 - dense_1_loss: 1.1245 - dense_3_loss: 1.0678 - dense_4_accuracy: 0.5625 - dense_1_accuracy: 0.4865 - dense_3_accuracy: 0.4969\n",
      "for training\n",
      "240/240 [==============================] - 176s 730ms/step - loss: 1.6399 - dense_4_loss: 0.9870 - dense_1_loss: 1.1213 - dense_3_loss: 1.0549 - dense_4_accuracy: 0.5581 - dense_1_accuracy: 0.4952 - dense_3_accuracy: 0.5053\n",
      "\n",
      "Epoch:  4\n",
      "768/768 - 1817s - loss: 1.6424 - dense_4_loss: 0.9850 - dense_1_loss: 1.1211 - dense_3_loss: 1.0703 - dense_4_accuracy: 0.5469 - dense_1_accuracy: 0.4639 - dense_3_accuracy: 0.4792 - val_loss: 1.6560 - val_dense_4_loss: 0.9955 - val_dense_1_loss: 1.1221 - val_dense_3_loss: 1.0794 - val_dense_4_accuracy: 0.5430 - val_dense_1_accuracy: 0.4740 - val_dense_3_accuracy: 0.4831 - 1817s/epoch - 2s/step\n",
      "for testing\n",
      "60/60 [==============================] - 44s 722ms/step - loss: 1.6513 - dense_4_loss: 0.9969 - dense_1_loss: 1.1115 - dense_3_loss: 1.0698 - dense_4_accuracy: 0.5552 - dense_1_accuracy: 0.4854 - dense_3_accuracy: 0.4943\n",
      "for training\n",
      "240/240 [==============================] - 173s 720ms/step - loss: 1.6265 - dense_4_loss: 0.9782 - dense_1_loss: 1.1065 - dense_3_loss: 1.0544 - dense_4_accuracy: 0.5577 - dense_1_accuracy: 0.4971 - dense_3_accuracy: 0.5056\n",
      "\n",
      "Epoch:  5\n",
      "768/768 - 1812s - loss: 1.6087 - dense_4_loss: 0.9607 - dense_1_loss: 1.1047 - dense_3_loss: 1.0553 - dense_4_accuracy: 0.5645 - dense_1_accuracy: 0.4733 - dense_3_accuracy: 0.4878 - val_loss: 1.6264 - val_dense_4_loss: 0.9720 - val_dense_1_loss: 1.1115 - val_dense_3_loss: 1.0698 - val_dense_4_accuracy: 0.5534 - val_dense_1_accuracy: 0.4818 - val_dense_3_accuracy: 0.4961 - 1812s/epoch - 2s/step\n",
      "for testing\n",
      "60/60 [==============================] - 44s 723ms/step - loss: 1.6197 - dense_4_loss: 0.9716 - dense_1_loss: 1.1005 - dense_3_loss: 1.0598 - dense_4_accuracy: 0.5740 - dense_1_accuracy: 0.4901 - dense_3_accuracy: 0.5031\n",
      "for training\n",
      "240/240 [==============================] - 177s 739ms/step - loss: 1.5944 - dense_4_loss: 0.9532 - dense_1_loss: 1.0943 - dense_3_loss: 1.0430 - dense_4_accuracy: 0.5698 - dense_1_accuracy: 0.5034 - dense_3_accuracy: 0.5155\n",
      "\n",
      "Epoch:  6\n",
      "768/768 - 1809s - loss: 1.5770 - dense_4_loss: 0.9363 - dense_1_loss: 1.0961 - dense_3_loss: 1.0392 - dense_4_accuracy: 0.5793 - dense_1_accuracy: 0.4793 - dense_3_accuracy: 0.5047 - val_loss: 1.5980 - val_dense_4_loss: 0.9489 - val_dense_1_loss: 1.1041 - val_dense_3_loss: 1.0596 - val_dense_4_accuracy: 0.5677 - val_dense_1_accuracy: 0.4824 - val_dense_3_accuracy: 0.5007 - 1809s/epoch - 2s/step\n",
      "for testing\n",
      "60/60 [==============================] - 46s 764ms/step - loss: 1.5891 - dense_4_loss: 0.9466 - dense_1_loss: 1.0927 - dense_3_loss: 1.0488 - dense_4_accuracy: 0.5896 - dense_1_accuracy: 0.4911 - dense_3_accuracy: 0.5089\n",
      "for training\n",
      "240/240 [==============================] - 170s 706ms/step - loss: 1.5634 - dense_4_loss: 0.9284 - dense_1_loss: 1.0855 - dense_3_loss: 1.0312 - dense_4_accuracy: 0.5828 - dense_1_accuracy: 0.5059 - dense_3_accuracy: 0.5219\n",
      "\n",
      "Epoch:  7\n",
      "768/768 - 1802s - loss: 1.5533 - dense_4_loss: 0.9175 - dense_1_loss: 1.0891 - dense_3_loss: 1.0301 - dense_4_accuracy: 0.5921 - dense_1_accuracy: 0.4660 - dense_3_accuracy: 0.5024 - val_loss: 1.5715 - val_dense_4_loss: 0.9286 - val_dense_1_loss: 1.0948 - val_dense_3_loss: 1.0482 - val_dense_4_accuracy: 0.5775 - val_dense_1_accuracy: 0.4844 - val_dense_3_accuracy: 0.5000 - 1802s/epoch - 2s/step\n",
      "for testing\n",
      "60/60 [==============================] - 44s 722ms/step - loss: 1.5604 - dense_4_loss: 0.9244 - dense_1_loss: 1.0833 - dense_3_loss: 1.0366 - dense_4_accuracy: 0.6000 - dense_1_accuracy: 0.4906 - dense_3_accuracy: 0.5188\n",
      "for training\n",
      "240/240 [==============================] - 180s 749ms/step - loss: 1.5347 - dense_4_loss: 0.9065 - dense_1_loss: 1.0753 - dense_3_loss: 1.0185 - dense_4_accuracy: 0.5939 - dense_1_accuracy: 0.5109 - dense_3_accuracy: 0.5272\n",
      "\n",
      "Epoch:  8\n",
      "768/768 - 1815s - loss: 1.5440 - dense_4_loss: 0.9106 - dense_1_loss: 1.0824 - dense_3_loss: 1.0289 - dense_4_accuracy: 0.5859 - dense_1_accuracy: 0.4839 - dense_3_accuracy: 0.5075 - val_loss: 1.5578 - val_dense_4_loss: 0.9186 - val_dense_1_loss: 1.0893 - val_dense_3_loss: 1.0415 - val_dense_4_accuracy: 0.5853 - val_dense_1_accuracy: 0.4792 - val_dense_3_accuracy: 0.5026 - 1815s/epoch - 2s/step\n",
      "for testing\n",
      "60/60 [==============================] - 44s 706ms/step - loss: 1.5455 - dense_4_loss: 0.9134 - dense_1_loss: 1.0776 - dense_3_loss: 1.0297 - dense_4_accuracy: 0.6031 - dense_1_accuracy: 0.4943 - dense_3_accuracy: 0.5203\n",
      "for training\n",
      "240/240 [==============================] - 172s 715ms/step - loss: 1.5199 - dense_4_loss: 0.8958 - dense_1_loss: 1.0691 - dense_3_loss: 1.0112 - dense_4_accuracy: 0.5997 - dense_1_accuracy: 0.5118 - dense_3_accuracy: 0.5327\n",
      "\n",
      "Epoch:  9\n",
      "768/768 - 1829s - loss: 1.5235 - dense_4_loss: 0.8951 - dense_1_loss: 1.0731 - dense_3_loss: 1.0218 - dense_4_accuracy: 0.5962 - dense_1_accuracy: 0.4881 - dense_3_accuracy: 0.5135 - val_loss: 1.5481 - val_dense_4_loss: 0.9102 - val_dense_1_loss: 1.0877 - val_dense_3_loss: 1.0385 - val_dense_4_accuracy: 0.5859 - val_dense_1_accuracy: 0.4837 - val_dense_3_accuracy: 0.5039 - 1829s/epoch - 2s/step\n",
      "for testing\n",
      "60/60 [==============================] - 44s 727ms/step - loss: 1.5352 - dense_4_loss: 0.9045 - dense_1_loss: 1.0758 - dense_3_loss: 1.0267 - dense_4_accuracy: 0.6036 - dense_1_accuracy: 0.4958 - dense_3_accuracy: 0.5255\n",
      "for training\n",
      "240/240 [==============================] - 178s 741ms/step - loss: 1.5096 - dense_4_loss: 0.8872 - dense_1_loss: 1.0667 - dense_3_loss: 1.0078 - dense_4_accuracy: 0.6000 - dense_1_accuracy: 0.5139 - dense_3_accuracy: 0.5358\n",
      "\n",
      "Epoch:  10\n",
      "768/768 - 1810s - loss: 1.5130 - dense_4_loss: 0.8865 - dense_1_loss: 1.0742 - dense_3_loss: 1.0144 - dense_4_accuracy: 0.5970 - dense_1_accuracy: 0.4904 - dense_3_accuracy: 0.5267 - val_loss: 1.5349 - val_dense_4_loss: 0.9006 - val_dense_1_loss: 1.0827 - val_dense_3_loss: 1.0316 - val_dense_4_accuracy: 0.5911 - val_dense_1_accuracy: 0.4889 - val_dense_3_accuracy: 0.5124 - 1810s/epoch - 2s/step\n"
     ]
    },
    {
     "name": "stdout",
     "output_type": "stream",
     "text": [
      "for testing\n",
      "60/60 [==============================] - 43s 704ms/step - loss: 1.5208 - dense_4_loss: 0.8938 - dense_1_loss: 1.0708 - dense_3_loss: 1.0193 - dense_4_accuracy: 0.6099 - dense_1_accuracy: 0.4964 - dense_3_accuracy: 0.5292\n",
      "for training\n",
      "240/240 [==============================] - 171s 710ms/step - loss: 1.4954 - dense_4_loss: 0.8769 - dense_1_loss: 1.0613 - dense_3_loss: 1.0004 - dense_4_accuracy: 0.6070 - dense_1_accuracy: 0.5163 - dense_3_accuracy: 0.5409\n",
      "\n",
      "Epoch:  11\n",
      "768/768 - 1807s - loss: 1.5002 - dense_4_loss: 0.8763 - dense_1_loss: 1.0697 - dense_3_loss: 1.0101 - dense_4_accuracy: 0.6110 - dense_1_accuracy: 0.4924 - dense_3_accuracy: 0.5265 - val_loss: 1.5268 - val_dense_4_loss: 0.8940 - val_dense_1_loss: 1.0803 - val_dense_3_loss: 1.0288 - val_dense_4_accuracy: 0.5931 - val_dense_1_accuracy: 0.4915 - val_dense_3_accuracy: 0.5117 - 1807s/epoch - 2s/step\n",
      "for testing\n",
      "60/60 [==============================] - 46s 760ms/step - loss: 1.5121 - dense_4_loss: 0.8867 - dense_1_loss: 1.0683 - dense_3_loss: 1.0163 - dense_4_accuracy: 0.6109 - dense_1_accuracy: 0.4979 - dense_3_accuracy: 0.5328\n",
      "for training\n",
      "240/240 [==============================] - 175s 730ms/step - loss: 1.4868 - dense_4_loss: 0.8701 - dense_1_loss: 1.0584 - dense_3_loss: 0.9971 - dense_4_accuracy: 0.6081 - dense_1_accuracy: 0.5174 - dense_3_accuracy: 0.5434\n",
      "\n",
      "Epoch:  12\n",
      "768/768 - 1803s - loss: 1.4987 - dense_4_loss: 0.8784 - dense_1_loss: 1.0663 - dense_3_loss: 1.0014 - dense_4_accuracy: 0.5993 - dense_1_accuracy: 0.4857 - dense_3_accuracy: 0.5337 - val_loss: 1.5173 - val_dense_4_loss: 0.8873 - val_dense_1_loss: 1.0768 - val_dense_3_loss: 1.0230 - val_dense_4_accuracy: 0.5918 - val_dense_1_accuracy: 0.4954 - val_dense_3_accuracy: 0.5143 - 1803s/epoch - 2s/step\n",
      "for testing\n",
      "60/60 [==============================] - 45s 743ms/step - loss: 1.5015 - dense_4_loss: 0.8791 - dense_1_loss: 1.0647 - dense_3_loss: 1.0101 - dense_4_accuracy: 0.6099 - dense_1_accuracy: 0.4995 - dense_3_accuracy: 0.5359\n",
      "for training\n",
      "240/240 [==============================] - 175s 730ms/step - loss: 1.4765 - dense_4_loss: 0.8629 - dense_1_loss: 1.0545 - dense_3_loss: 0.9909 - dense_4_accuracy: 0.6105 - dense_1_accuracy: 0.5194 - dense_3_accuracy: 0.5482\n",
      "\n",
      "Epoch:  13\n",
      "768/768 - 1804s - loss: 1.4856 - dense_4_loss: 0.8666 - dense_1_loss: 1.0620 - dense_3_loss: 1.0015 - dense_4_accuracy: 0.6107 - dense_1_accuracy: 0.4951 - dense_3_accuracy: 0.5285 - val_loss: 1.5100 - val_dense_4_loss: 0.8818 - val_dense_1_loss: 1.0749 - val_dense_3_loss: 1.0192 - val_dense_4_accuracy: 0.5944 - val_dense_1_accuracy: 0.4967 - val_dense_3_accuracy: 0.5176 - 1804s/epoch - 2s/step\n",
      "for testing\n",
      "60/60 [==============================] - 44s 728ms/step - loss: 1.4941 - dense_4_loss: 0.8734 - dense_1_loss: 1.0627 - dense_3_loss: 1.0062 - dense_4_accuracy: 0.6146 - dense_1_accuracy: 0.5021 - dense_3_accuracy: 0.5391\n",
      "for training\n",
      "240/240 [==============================] - 174s 723ms/step - loss: 1.4690 - dense_4_loss: 0.8573 - dense_1_loss: 1.0522 - dense_3_loss: 0.9870 - dense_4_accuracy: 0.6122 - dense_1_accuracy: 0.5198 - dense_3_accuracy: 0.5508\n",
      "\n",
      "Epoch:  14\n",
      "768/768 - 1829s - loss: 1.4843 - dense_4_loss: 0.8655 - dense_1_loss: 1.0614 - dense_3_loss: 1.0012 - dense_4_accuracy: 0.6064 - dense_1_accuracy: 0.4889 - dense_3_accuracy: 0.5332 - val_loss: 1.5060 - val_dense_4_loss: 0.8787 - val_dense_1_loss: 1.0737 - val_dense_3_loss: 1.0174 - val_dense_4_accuracy: 0.5951 - val_dense_1_accuracy: 0.4974 - val_dense_3_accuracy: 0.5202 - 1829s/epoch - 2s/step\n",
      "for testing\n",
      "60/60 [==============================] - 43s 706ms/step - loss: 1.4894 - dense_4_loss: 0.8697 - dense_1_loss: 1.0614 - dense_3_loss: 1.0042 - dense_4_accuracy: 0.6146 - dense_1_accuracy: 0.5021 - dense_3_accuracy: 0.5396\n",
      "for training\n",
      "240/240 [==============================] - 168s 702ms/step - loss: 1.4644 - dense_4_loss: 0.8537 - dense_1_loss: 1.0507 - dense_3_loss: 0.9848 - dense_4_accuracy: 0.6148 - dense_1_accuracy: 0.5223 - dense_3_accuracy: 0.5522\n",
      "\n",
      "Epoch:  15\n",
      "768/768 - 1812s - loss: 1.4789 - dense_4_loss: 0.8612 - dense_1_loss: 1.0623 - dense_3_loss: 0.9964 - dense_4_accuracy: 0.6084 - dense_1_accuracy: 0.4855 - dense_3_accuracy: 0.5353 - val_loss: 1.5018 - val_dense_4_loss: 0.8756 - val_dense_1_loss: 1.0723 - val_dense_3_loss: 1.0151 - val_dense_4_accuracy: 0.5970 - val_dense_1_accuracy: 0.4980 - val_dense_3_accuracy: 0.5208 - 1812s/epoch - 2s/step\n",
      "for testing\n",
      "60/60 [==============================] - 44s 735ms/step - loss: 1.4850 - dense_4_loss: 0.8664 - dense_1_loss: 1.0600 - dense_3_loss: 1.0019 - dense_4_accuracy: 0.6161 - dense_1_accuracy: 0.5036 - dense_3_accuracy: 0.5432\n",
      "for training\n",
      "240/240 [==============================] - 170s 709ms/step - loss: 1.4601 - dense_4_loss: 0.8506 - dense_1_loss: 1.0490 - dense_3_loss: 0.9824 - dense_4_accuracy: 0.6158 - dense_1_accuracy: 0.5230 - dense_3_accuracy: 0.5544\n",
      "\n",
      "Epoch:  16\n",
      "768/768 - 1812s - loss: 1.4646 - dense_4_loss: 0.8509 - dense_1_loss: 1.0578 - dense_3_loss: 0.9881 - dense_4_accuracy: 0.6143 - dense_1_accuracy: 0.4919 - dense_3_accuracy: 0.5521 - val_loss: 1.4963 - val_dense_4_loss: 0.8715 - val_dense_1_loss: 1.0706 - val_dense_3_loss: 1.0121 - val_dense_4_accuracy: 0.5970 - val_dense_1_accuracy: 0.4961 - val_dense_3_accuracy: 0.5228 - 1812s/epoch - 2s/step\n",
      "for testing\n",
      "60/60 [==============================] - 43s 712ms/step - loss: 1.4793 - dense_4_loss: 0.8622 - dense_1_loss: 1.0582 - dense_3_loss: 0.9988 - dense_4_accuracy: 0.6182 - dense_1_accuracy: 0.5057 - dense_3_accuracy: 0.5437\n",
      "for training\n",
      "240/240 [==============================] - 175s 729ms/step - loss: 1.4544 - dense_4_loss: 0.8465 - dense_1_loss: 1.0470 - dense_3_loss: 0.9792 - dense_4_accuracy: 0.6163 - dense_1_accuracy: 0.5229 - dense_3_accuracy: 0.5568\n",
      "\n",
      "Epoch:  17\n",
      "768/768 - 1816s - loss: 1.4636 - dense_4_loss: 0.8501 - dense_1_loss: 1.0541 - dense_3_loss: 0.9907 - dense_4_accuracy: 0.6117 - dense_1_accuracy: 0.4933 - dense_3_accuracy: 0.5391 - val_loss: 1.4897 - val_dense_4_loss: 0.8670 - val_dense_1_loss: 1.0681 - val_dense_3_loss: 1.0073 - val_dense_4_accuracy: 0.5970 - val_dense_1_accuracy: 0.4961 - val_dense_3_accuracy: 0.5234 - 1816s/epoch - 2s/step\n",
      "for testing\n",
      "60/60 [==============================] - 44s 727ms/step - loss: 1.4720 - dense_4_loss: 0.8572 - dense_1_loss: 1.0557 - dense_3_loss: 0.9936 - dense_4_accuracy: 0.6198 - dense_1_accuracy: 0.5083 - dense_3_accuracy: 0.5510\n",
      "for training\n",
      "240/240 [==============================] - 173s 719ms/step - loss: 1.4472 - dense_4_loss: 0.8417 - dense_1_loss: 1.0443 - dense_3_loss: 0.9742 - dense_4_accuracy: 0.6185 - dense_1_accuracy: 0.5228 - dense_3_accuracy: 0.5595\n",
      "\n",
      "Epoch:  18\n",
      "768/768 - 1811s - loss: 1.4592 - dense_4_loss: 0.8470 - dense_1_loss: 1.0523 - dense_3_loss: 0.9885 - dense_4_accuracy: 0.6193 - dense_1_accuracy: 0.5044 - dense_3_accuracy: 0.5423 - val_loss: 1.4865 - val_dense_4_loss: 0.8646 - val_dense_1_loss: 1.0676 - val_dense_3_loss: 1.0054 - val_dense_4_accuracy: 0.5970 - val_dense_1_accuracy: 0.4967 - val_dense_3_accuracy: 0.5267 - 1811s/epoch - 2s/step\n",
      "for testing\n",
      "60/60 [==============================] - 45s 733ms/step - loss: 1.4687 - dense_4_loss: 0.8547 - dense_1_loss: 1.0552 - dense_3_loss: 0.9916 - dense_4_accuracy: 0.6203 - dense_1_accuracy: 0.5094 - dense_3_accuracy: 0.5500\n",
      "for training\n",
      "240/240 [==============================] - 171s 711ms/step - loss: 1.4440 - dense_4_loss: 0.8392 - dense_1_loss: 1.0436 - dense_3_loss: 0.9721 - dense_4_accuracy: 0.6182 - dense_1_accuracy: 0.5237 - dense_3_accuracy: 0.5607\n",
      "\n",
      "Epoch:  19\n",
      "768/768 - 1801s - loss: 1.4556 - dense_4_loss: 0.8478 - dense_1_loss: 1.0513 - dense_3_loss: 0.9746 - dense_4_accuracy: 0.6100 - dense_1_accuracy: 0.4972 - dense_3_accuracy: 0.5514 - val_loss: 1.4846 - val_dense_4_loss: 0.8632 - val_dense_1_loss: 1.0666 - val_dense_3_loss: 1.0047 - val_dense_4_accuracy: 0.5983 - val_dense_1_accuracy: 0.4993 - val_dense_3_accuracy: 0.5254 - 1801s/epoch - 2s/step\n",
      "for testing\n",
      "60/60 [==============================] - 51s 844ms/step - loss: 1.4671 - dense_4_loss: 0.8535 - dense_1_loss: 1.0542 - dense_3_loss: 0.9910 - dense_4_accuracy: 0.6214 - dense_1_accuracy: 0.5094 - dense_3_accuracy: 0.5495\n",
      "for training\n"
     ]
    },
    {
     "name": "stdout",
     "output_type": "stream",
     "text": [
      "240/240 [==============================] - 169s 705ms/step - loss: 1.4422 - dense_4_loss: 0.8381 - dense_1_loss: 1.0424 - dense_3_loss: 0.9713 - dense_4_accuracy: 0.6187 - dense_1_accuracy: 0.5254 - dense_3_accuracy: 0.5607\n",
      "\n",
      "Epoch:  20\n",
      "768/768 - 1842s - loss: 1.4513 - dense_4_loss: 0.8442 - dense_1_loss: 1.0464 - dense_3_loss: 0.9773 - dense_4_accuracy: 0.6156 - dense_1_accuracy: 0.5081 - dense_3_accuracy: 0.5549 - val_loss: 1.4822 - val_dense_4_loss: 0.8615 - val_dense_1_loss: 1.0658 - val_dense_3_loss: 1.0031 - val_dense_4_accuracy: 0.5990 - val_dense_1_accuracy: 0.4980 - val_dense_3_accuracy: 0.5247 - 1842s/epoch - 2s/step\n",
      "for testing\n",
      "60/60 [==============================] - 42s 700ms/step - loss: 1.4646 - dense_4_loss: 0.8518 - dense_1_loss: 1.0534 - dense_3_loss: 0.9893 - dense_4_accuracy: 0.6219 - dense_1_accuracy: 0.5109 - dense_3_accuracy: 0.5500\n",
      "for training\n",
      "240/240 [==============================] - 172s 716ms/step - loss: 1.4396 - dense_4_loss: 0.8363 - dense_1_loss: 1.0414 - dense_3_loss: 0.9696 - dense_4_accuracy: 0.6189 - dense_1_accuracy: 0.5258 - dense_3_accuracy: 0.5609\n",
      "\n",
      "Epoch:  21\n",
      "768/768 - 1821s - loss: 1.4481 - dense_4_loss: 0.8390 - dense_1_loss: 1.0494 - dense_3_loss: 0.9810 - dense_4_accuracy: 0.6227 - dense_1_accuracy: 0.5093 - dense_3_accuracy: 0.5583 - val_loss: 1.4763 - val_dense_4_loss: 0.8575 - val_dense_1_loss: 1.0637 - val_dense_3_loss: 0.9991 - val_dense_4_accuracy: 0.5990 - val_dense_1_accuracy: 0.4974 - val_dense_3_accuracy: 0.5299 - 1821s/epoch - 2s/step\n",
      "for testing\n",
      "60/60 [==============================] - 45s 749ms/step - loss: 1.4583 - dense_4_loss: 0.8475 - dense_1_loss: 1.0512 - dense_3_loss: 0.9851 - dense_4_accuracy: 0.6208 - dense_1_accuracy: 0.5109 - dense_3_accuracy: 0.5589\n",
      "for training\n"
     ]
    }
   ],
   "source": [
    "tic = start_timer()\n",
    "for x in range(0,40):\n",
    "    print(\"\\nEpoch: \",x+1)\n",
    "    history = model.fit(x_train ,y_train ,batch_size=BATCH_SIZE ,epochs=1, verbose=2, validation_data=(x_val, y_val), shuffle=True)\n",
    "    if history_dataframe.size == 0:\n",
    "        history_dataframe = pd.DataFrame.from_dict(history.history)\n",
    "    else:\n",
    "        history_dataframe = pd.concat([history_dataframe,pd.DataFrame.from_dict(history.history)],axis=0,ignore_index=True)\n",
    "    print(\"for testing\")\n",
    "    test_eva.append(model.evaluate(test_dataset,test_dataset_label))\n",
    "    print(\"for training\")\n",
    "    train_eva.append(model.evaluate(train_dataset,train_dataset_label))\n",
    "toc = end_timer()\n",
    "show_time(tic,toc)"
   ]
  },
  {
   "cell_type": "code",
   "execution_count": null,
   "id": "1c2b497f",
   "metadata": {},
   "outputs": [],
   "source": [
    "!mkdir -p saved_model\n",
    "model.save('saved_model/GoogleNet_model_4_none_none')"
   ]
  },
  {
   "cell_type": "code",
   "execution_count": null,
   "id": "89cd9194",
   "metadata": {},
   "outputs": [],
   "source": [
    "from sklearn.metrics import confusion_matrix\n",
    "y_pred = model.predict(x_test)\n",
    "y_pred = np.argmax(y_pred, axis=1)\n",
    "cm = confusion_matrix(y_true, y_pred)\n",
    "print(cm)"
   ]
  },
  {
   "cell_type": "code",
   "execution_count": null,
   "id": "2ec37c8e",
   "metadata": {},
   "outputs": [],
   "source": [
    "history_dataframe"
   ]
  },
  {
   "cell_type": "code",
   "execution_count": null,
   "id": "5c8463e1",
   "metadata": {},
   "outputs": [],
   "source": [
    "train_eva_df = pd.DataFrame(train_eva,columns=['loss','dense_4_loss','dense_1_loss','dense_3_loss','dense_4_accuracy','dense_1_accuracy','dense_3_accuracy'])\n",
    "test_eva_df = pd.DataFrame(test_eva,columns=['loss','dense_4_loss','dense_1_loss','dense_3_loss','dense_4_accuracy','dense_1_accuracy','dense_3_accuracy'])"
   ]
  },
  {
   "cell_type": "code",
   "execution_count": null,
   "id": "35c781fe",
   "metadata": {},
   "outputs": [],
   "source": [
    "plot_graph(train_eva_df,'Model Train Loss','Epoch','Loss',['loss'],['train_loss'])\n",
    "plot_graph(test_eva_df,'Model Test Loss','Epoch','Loss',['loss'],['test_loss'])"
   ]
  },
  {
   "cell_type": "code",
   "execution_count": null,
   "id": "2c1626ca",
   "metadata": {},
   "outputs": [],
   "source": [
    "plot_graph(train_eva_df,'Model Train Accuracy','Epoch','Dense Accuracy',['dense_4_accuracy', 'dense_1_accuracy', 'dense_3_accuracy'])\n",
    "plot_graph(test_eva_df,'Model Test Accuracy','Epoch','Dense Accuracy',['dense_4_accuracy', 'dense_1_accuracy', 'dense_3_accuracy'])"
   ]
  },
  {
   "cell_type": "code",
   "execution_count": null,
   "id": "ae448b5a",
   "metadata": {},
   "outputs": [],
   "source": [
    "plot_graph(train_eva_df,'Model Train Loss','Epoch','Dense Loss',['dense_4_loss', 'dense_1_loss', 'dense_3_loss'])\n",
    "plot_graph(test_eva_df,'Model Test Loss','Epoch','Dense Loss',['dense_4_loss', 'dense_1_loss', 'dense_3_loss'])"
   ]
  },
  {
   "cell_type": "code",
   "execution_count": null,
   "id": "71b6c1e7",
   "metadata": {},
   "outputs": [],
   "source": [
    "plot_graph(history_dataframe,'Model Loss','Epoch','Loss',['loss','val_loss'])"
   ]
  },
  {
   "cell_type": "code",
   "execution_count": null,
   "id": "f027f1b7",
   "metadata": {},
   "outputs": [],
   "source": [
    "plot_graph(history_dataframe,'Model Train Accuracy','Epoch','Dense Accuracy',['dense_4_accuracy', 'dense_1_accuracy', 'dense_3_accuracy'])"
   ]
  },
  {
   "cell_type": "code",
   "execution_count": null,
   "id": "b70409bb",
   "metadata": {},
   "outputs": [],
   "source": [
    "plot_graph(history_dataframe,'Model Train Loss','Epoch','Dense Loss',['dense_4_loss', 'dense_1_loss', 'dense_3_loss'])"
   ]
  },
  {
   "cell_type": "code",
   "execution_count": null,
   "id": "332856c8",
   "metadata": {},
   "outputs": [],
   "source": [
    "plot_graph(history_dataframe,'Model Val Accuracy','Epoch','Validation Accuracy',['val_dense_4_accuracy', 'val_dense_1_accuracy', 'val_dense_3_accuracy'])"
   ]
  },
  {
   "cell_type": "code",
   "execution_count": null,
   "id": "5dd5ecbf",
   "metadata": {},
   "outputs": [],
   "source": [
    "plot_graph(history_dataframe,'Model Val Loss','Epoch','Validation Loss',['val_dense_4_loss', 'val_dense_1_loss', 'val_dense_3_loss'])"
   ]
  },
  {
   "cell_type": "code",
   "execution_count": null,
   "id": "c0a809b5",
   "metadata": {},
   "outputs": [],
   "source": []
  }
 ],
 "metadata": {
  "kernelspec": {
   "display_name": "Python 3 (ipykernel)",
   "language": "python",
   "name": "python3"
  },
  "language_info": {
   "codemirror_mode": {
    "name": "ipython",
    "version": 3
   },
   "file_extension": ".py",
   "mimetype": "text/x-python",
   "name": "python",
   "nbconvert_exporter": "python",
   "pygments_lexer": "ipython3",
   "version": "3.11.4"
  }
 },
 "nbformat": 4,
 "nbformat_minor": 5
}
