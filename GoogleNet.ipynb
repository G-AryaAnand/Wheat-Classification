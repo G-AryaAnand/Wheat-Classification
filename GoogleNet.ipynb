{
 "cells": [
  {
   "cell_type": "code",
   "execution_count": 1,
   "id": "eb661222",
   "metadata": {},
   "outputs": [],
   "source": [
    "# !pip install opencv-python scikit-learn scikit-image matplotlib spectral keras_tuner vis\n",
    "# !pip install tensorflow numpy pandas\n",
    "# !pip install spectral"
   ]
  },
  {
   "cell_type": "code",
   "execution_count": 2,
   "id": "6b605089",
   "metadata": {},
   "outputs": [
    {
     "name": "stderr",
     "output_type": "stream",
     "text": [
      "2023-01-06 18:49:53.730307: I tensorflow/core/platform/cpu_feature_guard.cc:193] This TensorFlow binary is optimized with oneAPI Deep Neural Network Library (oneDNN) to use the following CPU instructions in performance-critical operations:  SSE4.1 SSE4.2 AVX AVX2 AVX512F FMA\n",
      "To enable them in other operations, rebuild TensorFlow with the appropriate compiler flags.\n"
     ]
    }
   ],
   "source": [
    "import tensorflow as tf"
   ]
  },
  {
   "cell_type": "code",
   "execution_count": 3,
   "id": "c6cc1a38",
   "metadata": {},
   "outputs": [],
   "source": [
    "from tensorflow import keras as keras\n",
    "from keras import layers as layers"
   ]
  },
  {
   "cell_type": "code",
   "execution_count": 4,
   "id": "6c004aea",
   "metadata": {},
   "outputs": [],
   "source": [
    "import os, timeit\n",
    "from skimage.filters import threshold_otsu\n",
    "import numpy as np\n",
    "from math import inf as inf"
   ]
  },
  {
   "cell_type": "code",
   "execution_count": 5,
   "id": "6c9300cb",
   "metadata": {},
   "outputs": [],
   "source": [
    "from spectral.io import envi as envi\n",
    "from spectral import imshow"
   ]
  },
  {
   "cell_type": "code",
   "execution_count": 6,
   "id": "ee790ffe",
   "metadata": {},
   "outputs": [],
   "source": [
    "from sklearn.decomposition import IncrementalPCA"
   ]
  },
  {
   "cell_type": "code",
   "execution_count": 7,
   "id": "bf3717a6",
   "metadata": {},
   "outputs": [],
   "source": [
    "import sys"
   ]
  },
  {
   "cell_type": "code",
   "execution_count": 8,
   "id": "3dd26930",
   "metadata": {},
   "outputs": [
    {
     "name": "stdout",
     "output_type": "stream",
     "text": [
      "Num GPUs Available:  0\n"
     ]
    },
    {
     "name": "stderr",
     "output_type": "stream",
     "text": [
      "2023-01-06 18:49:56.009891: E tensorflow/stream_executor/cuda/cuda_driver.cc:265] failed call to cuInit: CUDA_ERROR_NO_DEVICE: no CUDA-capable device is detected\n",
      "2023-01-06 18:49:56.009918: I tensorflow/stream_executor/cuda/cuda_diagnostics.cc:156] kernel driver does not appear to be running on this host (root1-HP-Z8-G4-Workstation): /proc/driver/nvidia/version does not exist\n"
     ]
    }
   ],
   "source": [
    "print(\"Num GPUs Available: \", len(tf.config.list_physical_devices('GPU')))"
   ]
  },
  {
   "cell_type": "code",
   "execution_count": 9,
   "id": "0f72da7a",
   "metadata": {},
   "outputs": [],
   "source": [
    "from sys import platform\n",
    "DATA_DIRECTORY = \"\"\n",
    "SLASH = \"\"\n",
    "if platform == \"linux\" or platform == \"linux2\":\n",
    "    DATA_DIRECTORY = \"/home/nitintyagi/wheat data/BULK/\"\n",
    "    SLASH = \"/\"\n",
    "elif platform == \"win32\":\n",
    "    DATA_DIRECTORY = \"D:\\mvl\\wheat\\data\\BULK\\\\\"\n",
    "    SLASH=\"\\\\\""
   ]
  },
  {
   "cell_type": "code",
   "execution_count": 10,
   "id": "5979451f",
   "metadata": {},
   "outputs": [],
   "source": [
    "BAND_NUMBER = 60\n",
    "FILLED_AREA_RATIO = 0.9\n",
    "TOTAL_IMAGE_COUNT = 2400\n",
    "IMAGE_COUNT = int(TOTAL_IMAGE_COUNT/4)\n",
    "NUM_VARIETIES = 4\n",
    "\n",
    "IMAGE_WIDTH = 30\n",
    "IMAGE_HEIGHT = 30"
   ]
  },
  {
   "cell_type": "code",
   "execution_count": 11,
   "id": "066f0249",
   "metadata": {},
   "outputs": [],
   "source": [
    "ACTIVATION_TYPE =  \"relu\"\n",
    "BATCH_SIZE = 2*NUM_VARIETIES\n",
    "\n",
    "LEARNING_RATE_BASE = 0.0001"
   ]
  },
  {
   "cell_type": "code",
   "execution_count": 12,
   "id": "6f32e132",
   "metadata": {},
   "outputs": [],
   "source": [
    "from enum import Enum\n",
    "class filter_method(Enum):\n",
    "    none = 0\n",
    "    snv = 1\n",
    "    msc = 2\n",
    "    \n",
    "FILTER = filter_method(2).name"
   ]
  },
  {
   "cell_type": "code",
   "execution_count": 13,
   "id": "2e3a1d3a",
   "metadata": {},
   "outputs": [],
   "source": [
    "from enum import Enum\n",
    " \n",
    "class feature_extraction_method(Enum):\n",
    "    none = 0\n",
    "    pca_loading = 1\n",
    "    lda = 2\n",
    "    ipca = 3\n",
    "\n",
    "FEATURE_EXTRACTION = feature_extraction_method(0).name\n",
    "\n",
    "NUM_OF_BANDS = 3\n",
    "if FEATURE_EXTRACTION == \"pca_loading\" or FEATURE_EXTRACTION == \"ipca\":\n",
    "    NUM_OF_BANDS = 8\n",
    "elif FEATURE_EXTRACTION == \"lda\":\n",
    "    NUM_OF_BANDS = 3\n",
    "    assert NUM_OF_BANDS <= min(NUM_VARIETIES-1,168),\"NUM_OF_BANDS is greater.\"\n",
    "\n",
    "\n",
    "REMOVE_NOISY_BANDS = False\n",
    "FIRST_BAND = 21\n",
    "LAST_BAND = 149"
   ]
  },
  {
   "cell_type": "code",
   "execution_count": 14,
   "id": "e61072a5",
   "metadata": {},
   "outputs": [],
   "source": [
    "def start_timer():\n",
    "    print(\"Testing started\")\n",
    "    return timeit.default_timer()\n",
    "\n",
    "def end_timer():\n",
    "    return timeit.default_timer()\n",
    "\n",
    "def show_time(tic,toc): \n",
    "    test_time = toc - tic\n",
    "    print('Testing time (s) = ' + str(test_time) + '\\n')"
   ]
  },
  {
   "cell_type": "code",
   "execution_count": 15,
   "id": "e16e403c",
   "metadata": {},
   "outputs": [],
   "source": [
    "# List for All varieties\n",
    "VARIETIES = []\n",
    "VARIETIES_CODE = {}\n",
    "\n",
    "for name in os.listdir(DATA_DIRECTORY):\n",
    "    if (name.endswith(\".hdr\") or name.endswith(\".bil\")):\n",
    "        continue\n",
    "    VARIETIES_CODE[name] = len(VARIETIES)\n",
    "    VARIETIES.append(name)\n",
    "    if len(VARIETIES)==NUM_VARIETIES:\n",
    "        break"
   ]
  },
  {
   "cell_type": "code",
   "execution_count": 16,
   "id": "72409e2c",
   "metadata": {},
   "outputs": [],
   "source": [
    "def dataset_file_name(variety):\n",
    "    return \"./dataset/V\"+str(variety).zfill(3)+\"_IC_\"+str(TOTAL_IMAGE_COUNT).zfill(5)+\"_FilledArea_\"+str(FILLED_AREA_RATIO)+\"_NumOfBands_\"+str(NUM_OF_BANDS)+\"_FB_\"+str(FIRST_BAND)+\"_LB_\"+str(LAST_BAND)+\"_BandNo_\"+str(BAND_NUMBER)+\"_ImageHeight_\"+str(IMAGE_HEIGHT)+\"_ImageWidth_\"+str(IMAGE_WIDTH)+\"_FILTER_\"+str(FILTER)+\"_FeatureExtraction_\"+str(FEATURE_EXTRACTION)"
   ]
  },
  {
   "cell_type": "code",
   "execution_count": 17,
   "id": "e74afa6d",
   "metadata": {},
   "outputs": [
    {
     "name": "stdout",
     "output_type": "stream",
     "text": [
      "idx:  0\n",
      "idx:  1\n",
      "idx:  2\n",
      "idx:  3\n"
     ]
    }
   ],
   "source": [
    "train_dataset = []\n",
    "train_dataset_label = []\n",
    "test_dataset=[]\n",
    "test_dataset_label = []\n",
    "\n",
    "for idx, v in enumerate(VARIETIES):\n",
    "    print(\"idx: \",idx)\n",
    "    if idx >= NUM_VARIETIES:\n",
    "        break\n",
    "    train_dataset= train_dataset + np.load(dataset_file_name(v)+\"_train_dataset.npy\").tolist()\n",
    "    train_dataset_label = train_dataset_label + np.load(dataset_file_name(v)+\"_train_dataset_label.npy\").tolist()\n",
    "    test_dataset = test_dataset + np.load(dataset_file_name(v)+\"_test_dataset.npy\").tolist()\n",
    "    test_dataset_label = test_dataset_label + np.load(dataset_file_name(v)+\"_test_dataset_label.npy\").tolist()\n",
    "\n",
    "train_dataset = np.array(train_dataset)\n",
    "train_dataset_label = np.array(train_dataset_label)\n",
    "test_dataset = np.array(test_dataset)\n",
    "test_dataset_label = np.array(test_dataset_label)"
   ]
  },
  {
   "cell_type": "code",
   "execution_count": 18,
   "id": "c752599c",
   "metadata": {},
   "outputs": [],
   "source": [
    "import tensorflow as tf\n",
    "import matplotlib.pyplot as plt\n",
    "from tensorflow.keras import datasets, layers, models, losses, Model\n",
    "from keras.layers import Input, Conv2D, MaxPool2D, MaxPooling2D, Activation, Flatten, Dense, AveragePooling2D, GlobalAveragePooling2D\n",
    "from keras.layers.core import Dropout\n",
    "from keras.optimizers import Adam"
   ]
  },
  {
   "cell_type": "code",
   "execution_count": 19,
   "id": "d48cd5d7",
   "metadata": {},
   "outputs": [],
   "source": [
    "def normalizeDataWholeSeed(data,normalization_type='max'):\n",
    "    \n",
    "    if normalization_type == 'max':\n",
    "        for idx in range(data.shape[0]):\n",
    "            data[idx,:,:,:] = data[idx,:,:,:]/np.max(abs(data[idx,:,:,:]))\n",
    "            \n",
    "    elif normalization_type == 'l2norm':\n",
    "        from numpy import linalg as LA\n",
    "        for idx in range(data.shape[0]):\n",
    "            data[idx,:,:,:] = data[idx,:,:,:]/LA.norm(data[idx,:,:,:])       \n",
    "        \n",
    "    return data"
   ]
  },
  {
   "cell_type": "code",
   "execution_count": 20,
   "id": "aca8be82",
   "metadata": {},
   "outputs": [],
   "source": [
    "def inception(x,filters_1x1,filters_3x3_reduce,filters_3x3,filters_5x5_reduce,filters_5x5,filters_pool,activation_type='relu'):\n",
    "    path1 = Conv2D(filters_1x1,        (1, 1), padding='same', activation=activation_type)(x)\n",
    "    \n",
    "    path2 = Conv2D(filters_3x3_reduce, (1, 1), padding='same', activation=activation_type)(x)\n",
    "    path2 = Conv2D(filters_3x3,        (1, 1), padding='same', activation=activation_type)(path2)\n",
    "    \n",
    "    path3 = Conv2D(filters_5x5_reduce, (1, 1), padding='same', activation=activation_type)(x)\n",
    "    path3 = Conv2D(filters_5x5,        (1, 1), padding='same', activation=activation_type)(path3)\n",
    "    \n",
    "    path4 = MaxPool2D((3, 3),  strides=(1, 1), padding='same')(x)\n",
    "    path4 = Conv2D(filters_pool,       (1, 1), padding='same', activation=activation_type)(path4)\n",
    "    \n",
    "    return tf.concat([path1, path2, path3, path4], axis=3)"
   ]
  },
  {
   "cell_type": "code",
   "execution_count": 21,
   "id": "686f6ade",
   "metadata": {},
   "outputs": [],
   "source": [
    "def auxiliary_classifier(x,num_classes,activation_type='relu'):\n",
    "    aux = AveragePooling2D((5, 5), strides=3)(x)\n",
    "    aux = Conv2D(128, 1, padding='same', activation=activation_type)(aux)\n",
    "    aux = Flatten()(aux)\n",
    "    aux = Dense(1024, activation=activation_type)(aux)\n",
    "    aux = Dropout(0.7)(aux)\n",
    "    aux = Dense(num_classes, activation='softmax')(aux)\n",
    "    return aux"
   ]
  },
  {
   "cell_type": "code",
   "execution_count": 22,
   "id": "43d8a8cf",
   "metadata": {},
   "outputs": [],
   "source": [
    "def GoogleNetModel(data_num_rows, data_num_cols, num_input_chans=1, num_classes=NUM_VARIETIES, activation_type='relu', dropout_rate=0.0):\n",
    "\n",
    "    inp = Input(shape=(data_num_rows, data_num_cols, num_input_chans))\n",
    "    input_tensor = layers.experimental.preprocessing.Resizing(224, 224, interpolation=\"bilinear\", input_shape=train_dataset.shape[1:])(inp)\n",
    "    x = Conv2D(64,  7, strides=2, padding='same', activation=activation_type)(input_tensor)\n",
    "    x = MaxPooling2D(3, strides=2)(x)\n",
    "    x = Conv2D(64,  1, strides=1, padding='same', activation=activation_type)(x)\n",
    "    x = Conv2D(192, 3, strides=1, padding='same', activation=activation_type)(x)\n",
    "    x = MaxPooling2D(3, strides=2)(x)\n",
    "    x = inception(x, filters_1x1=64 , filters_3x3_reduce=96 , filters_3x3=128, filters_5x5_reduce=16, filters_5x5=32, filters_pool=32)\n",
    "    x = inception(x, filters_1x1=128, filters_3x3_reduce=128, filters_3x3=192, filters_5x5_reduce=32, filters_5x5=96, filters_pool=64)\n",
    "    x = MaxPooling2D(3, strides=2)(x)\n",
    "    x = inception(x, filters_1x1=192, filters_3x3_reduce=96 , filters_3x3=208, filters_5x5_reduce=16, filters_5x5=48, filters_pool=64)\n",
    "    \n",
    "    aux1 = auxiliary_classifier(x,num_classes)\n",
    "    \n",
    "    x = inception(x, filters_1x1=160, filters_3x3_reduce=112, filters_3x3=224, filters_5x5_reduce=24, filters_5x5=64, filters_pool=64)\n",
    "    x = inception(x, filters_1x1=128, filters_3x3_reduce=128, filters_3x3=256, filters_5x5_reduce=24, filters_5x5=64, filters_pool=64)\n",
    "    x = inception(x, filters_1x1=112, filters_3x3_reduce=144, filters_3x3=288, filters_5x5_reduce=32, filters_5x5=64, filters_pool=64)\n",
    "    \n",
    "    aux2 = auxiliary_classifier(x,num_classes)\n",
    "    \n",
    "    x = inception(x, filters_1x1=256, filters_3x3_reduce=160, filters_3x3=320, filters_5x5_reduce=32, filters_5x5=128, filters_pool=128)\n",
    "    x = MaxPooling2D(3, strides=2)(x)\n",
    "    x = inception(x, filters_1x1=256, filters_3x3_reduce=160, filters_3x3=320, filters_5x5_reduce=32, filters_5x5=128, filters_pool=128)\n",
    "    x = inception(x, filters_1x1=384, filters_3x3_reduce=192, filters_3x3=384, filters_5x5_reduce=48, filters_5x5=128, filters_pool=128)\n",
    "    x = GlobalAveragePooling2D()(x)\n",
    "    x = Dropout(dropout_rate)(x)\n",
    "    out = Dense(num_classes, activation='softmax')(x)\n",
    "    \n",
    "    return Model(inputs = inp, outputs = [out, aux1, aux2])"
   ]
  },
  {
   "cell_type": "code",
   "execution_count": 23,
   "id": "e3528776",
   "metadata": {},
   "outputs": [],
   "source": [
    "def getGoogleNetModel():\n",
    "    learning_rate_base = LEARNING_RATE_BASE\n",
    "    activation_type = ACTIVATION_TYPE\n",
    "    wheat_types =  VARIETIES\n",
    "    num_classes = len(wheat_types)\n",
    "    dropout_rate = 0.4\n",
    "    print(\"--------------Load Data--------------\")\n",
    "\n",
    "    x_training = np.array(train_dataset)\n",
    "    labels_training = np.array(train_dataset_label)\n",
    "    \n",
    "    # Normalize the data\n",
    "    x_training = normalizeDataWholeSeed(x_training)\n",
    "    \n",
    "    # Extract some information\n",
    "    num_train = x_training.shape[0]\n",
    "    N_spatial = x_training.shape[1:3]\n",
    "    N_channel = x_training.shape[3]\n",
    "    \n",
    "    print(\"--------------Done--------------\")\n",
    "    \n",
    "    ############ Create a model ############\n",
    "    print(\"--------------Create a model--------------\")\n",
    "    \n",
    "    # Generate a model\n",
    "    model = GoogleNetModel(data_num_rows = N_spatial[0], \n",
    "                           data_num_cols = N_spatial[1],\n",
    "                           num_input_chans = N_channel, \n",
    "                           num_classes = num_classes,\n",
    "                           activation_type = activation_type,\n",
    "                           dropout_rate = dropout_rate)\n",
    "\n",
    "    # Compile the model\n",
    "    adam_opt = Adam(learning_rate=LEARNING_RATE_BASE, beta_1=0.9, beta_2=0.999, epsilon=1e-08, decay=0.01)\n",
    "    model.compile(optimizer=adam_opt, loss=[losses.sparse_categorical_crossentropy,losses.sparse_categorical_crossentropy,losses.sparse_categorical_crossentropy],loss_weights=[1, 0.3, 0.3],metrics=['accuracy'])\n",
    "    print(\"---------Completed---------\")\n",
    "    return model"
   ]
  },
  {
   "cell_type": "code",
   "execution_count": 24,
   "id": "9df49795",
   "metadata": {},
   "outputs": [
    {
     "name": "stdout",
     "output_type": "stream",
     "text": [
      "--------------Load Data--------------\n",
      "--------------Done--------------\n",
      "--------------Create a model--------------\n"
     ]
    },
    {
     "name": "stderr",
     "output_type": "stream",
     "text": [
      "2023-01-06 18:54:46.930351: I tensorflow/core/platform/cpu_feature_guard.cc:193] This TensorFlow binary is optimized with oneAPI Deep Neural Network Library (oneDNN) to use the following CPU instructions in performance-critical operations:  SSE4.1 SSE4.2 AVX AVX2 AVX512F FMA\n",
      "To enable them in other operations, rebuild TensorFlow with the appropriate compiler flags.\n"
     ]
    },
    {
     "name": "stdout",
     "output_type": "stream",
     "text": [
      "---------Completed---------\n"
     ]
    }
   ],
   "source": [
    "model = getGoogleNetModel()"
   ]
  },
  {
   "cell_type": "code",
   "execution_count": 25,
   "id": "5df8cc77",
   "metadata": {},
   "outputs": [],
   "source": [
    "x_train = []\n",
    "y_train = []\n",
    "x_val = []\n",
    "y_val = []\n",
    "\n",
    "for i in range(len(train_dataset)):\n",
    "    if i%5==0:\n",
    "        x_val.append(train_dataset[i])\n",
    "        y_val.append(train_dataset_label[i])\n",
    "    else:\n",
    "        x_train.append(train_dataset[i])\n",
    "        y_train.append(train_dataset_label[i])\n",
    "        \n",
    "x_train = np.array(x_train)\n",
    "y_train = np.array(y_train)\n",
    "y_train = [y_train,y_train,y_train]\n",
    "\n",
    "x_val = np.array(x_val)\n",
    "y_val = np.array(y_val)\n",
    "y_val = [y_val,y_val,y_val]"
   ]
  },
  {
   "cell_type": "code",
   "execution_count": 26,
   "id": "8aa727e4",
   "metadata": {},
   "outputs": [
    {
     "name": "stdout",
     "output_type": "stream",
     "text": [
      "From epochs:  1  to  20\n",
      "Testing started\n",
      "Epoch 1/20\n",
      "768/768 - 1410s - loss: 2.1191 - dense_4_loss: 1.3200 - dense_1_loss: 1.3307 - dense_3_loss: 1.3330 - dense_4_accuracy: 0.3387 - dense_1_accuracy: 0.3366 - dense_3_accuracy: 0.3237 - val_loss: 2.0042 - val_dense_4_loss: 1.2488 - val_dense_1_loss: 1.2571 - val_dense_3_loss: 1.2610 - val_dense_4_accuracy: 0.4108 - val_dense_1_accuracy: 0.3984 - val_dense_3_accuracy: 0.3997 - 1410s/epoch - 2s/step\n",
      "Epoch 2/20\n",
      "768/768 - 1399s - loss: 1.9295 - dense_4_loss: 1.1902 - dense_1_loss: 1.2389 - dense_3_loss: 1.2253 - dense_4_accuracy: 0.4391 - dense_1_accuracy: 0.4287 - dense_3_accuracy: 0.4253 - val_loss: 1.8173 - val_dense_4_loss: 1.1168 - val_dense_1_loss: 1.1798 - val_dense_3_loss: 1.1553 - val_dense_4_accuracy: 0.4909 - val_dense_1_accuracy: 0.4609 - val_dense_3_accuracy: 0.4720 - 1399s/epoch - 2s/step\n",
      "Epoch 3/20\n",
      "768/768 - 1398s - loss: 1.8243 - dense_4_loss: 1.1189 - dense_1_loss: 1.1890 - dense_3_loss: 1.1622 - dense_4_accuracy: 0.4871 - dense_1_accuracy: 0.4595 - dense_3_accuracy: 0.4644 - val_loss: 1.7585 - val_dense_4_loss: 1.0774 - val_dense_1_loss: 1.1531 - val_dense_3_loss: 1.1173 - val_dense_4_accuracy: 0.4915 - val_dense_1_accuracy: 0.4746 - val_dense_3_accuracy: 0.4811 - 1398s/epoch - 2s/step\n",
      "Epoch 4/20\n",
      "768/768 - 1402s - loss: 1.7442 - dense_4_loss: 1.0630 - dense_1_loss: 1.1591 - dense_3_loss: 1.1117 - dense_4_accuracy: 0.5226 - dense_1_accuracy: 0.4862 - dense_3_accuracy: 0.4992 - val_loss: 1.6547 - val_dense_4_loss: 1.0021 - val_dense_1_loss: 1.1166 - val_dense_3_loss: 1.0589 - val_dense_4_accuracy: 0.5553 - val_dense_1_accuracy: 0.4915 - val_dense_3_accuracy: 0.5208 - 1402s/epoch - 2s/step\n",
      "Epoch 5/20\n",
      "768/768 - 1404s - loss: 1.6816 - dense_4_loss: 1.0189 - dense_1_loss: 1.1323 - dense_3_loss: 1.0765 - dense_4_accuracy: 0.5508 - dense_1_accuracy: 0.4941 - dense_3_accuracy: 0.5210 - val_loss: 1.6015 - val_dense_4_loss: 0.9645 - val_dense_1_loss: 1.0966 - val_dense_3_loss: 1.0266 - val_dense_4_accuracy: 0.5729 - val_dense_1_accuracy: 0.5046 - val_dense_3_accuracy: 0.5391 - 1404s/epoch - 2s/step\n",
      "Epoch 6/20\n",
      "768/768 - 1412s - loss: 1.6300 - dense_4_loss: 0.9832 - dense_1_loss: 1.1108 - dense_3_loss: 1.0452 - dense_4_accuracy: 0.5641 - dense_1_accuracy: 0.5075 - dense_3_accuracy: 0.5392 - val_loss: 1.5531 - val_dense_4_loss: 0.9295 - val_dense_1_loss: 1.0792 - val_dense_3_loss: 0.9994 - val_dense_4_accuracy: 0.5846 - val_dense_1_accuracy: 0.5189 - val_dense_3_accuracy: 0.5449 - 1412s/epoch - 2s/step\n",
      "Epoch 7/20\n",
      "768/768 - 1416s - loss: 1.5880 - dense_4_loss: 0.9534 - dense_1_loss: 1.0992 - dense_3_loss: 1.0162 - dense_4_accuracy: 0.5820 - dense_1_accuracy: 0.5117 - dense_3_accuracy: 0.5535 - val_loss: 1.5126 - val_dense_4_loss: 0.9008 - val_dense_1_loss: 1.0639 - val_dense_3_loss: 0.9756 - val_dense_4_accuracy: 0.6087 - val_dense_1_accuracy: 0.5267 - val_dense_3_accuracy: 0.5651 - 1416s/epoch - 2s/step\n",
      "Epoch 8/20\n",
      "768/768 - 1416s - loss: 1.5516 - dense_4_loss: 0.9248 - dense_1_loss: 1.0861 - dense_3_loss: 1.0035 - dense_4_accuracy: 0.5933 - dense_1_accuracy: 0.5179 - dense_3_accuracy: 0.5539 - val_loss: 1.4778 - val_dense_4_loss: 0.8762 - val_dense_1_loss: 1.0514 - val_dense_3_loss: 0.9539 - val_dense_4_accuracy: 0.6204 - val_dense_1_accuracy: 0.5273 - val_dense_3_accuracy: 0.5846 - 1416s/epoch - 2s/step\n",
      "Epoch 9/20\n",
      "768/768 - 1409s - loss: 1.5128 - dense_4_loss: 0.8977 - dense_1_loss: 1.0727 - dense_3_loss: 0.9774 - dense_4_accuracy: 0.6073 - dense_1_accuracy: 0.5197 - dense_3_accuracy: 0.5609 - val_loss: 1.4428 - val_dense_4_loss: 0.8513 - val_dense_1_loss: 1.0382 - val_dense_3_loss: 0.9333 - val_dense_4_accuracy: 0.6283 - val_dense_1_accuracy: 0.5371 - val_dense_3_accuracy: 0.5957 - 1409s/epoch - 2s/step\n",
      "Epoch 10/20\n",
      "768/768 - 1404s - loss: 1.4760 - dense_4_loss: 0.8724 - dense_1_loss: 1.0599 - dense_3_loss: 0.9522 - dense_4_accuracy: 0.6172 - dense_1_accuracy: 0.5326 - dense_3_accuracy: 0.5840 - val_loss: 1.4125 - val_dense_4_loss: 0.8300 - val_dense_1_loss: 1.0272 - val_dense_3_loss: 0.9143 - val_dense_4_accuracy: 0.6380 - val_dense_1_accuracy: 0.5443 - val_dense_3_accuracy: 0.6074 - 1404s/epoch - 2s/step\n",
      "Epoch 11/20\n",
      "768/768 - 1402s - loss: 1.4483 - dense_4_loss: 0.8518 - dense_1_loss: 1.0487 - dense_3_loss: 0.9398 - dense_4_accuracy: 0.6323 - dense_1_accuracy: 0.5321 - dense_3_accuracy: 0.5825 - val_loss: 1.3996 - val_dense_4_loss: 0.8218 - val_dense_1_loss: 1.0205 - val_dense_3_loss: 0.9057 - val_dense_4_accuracy: 0.6445 - val_dense_1_accuracy: 0.5384 - val_dense_3_accuracy: 0.5931 - 1402s/epoch - 2s/step\n",
      "Epoch 12/20\n",
      "768/768 - 1402s - loss: 1.4188 - dense_4_loss: 0.8301 - dense_1_loss: 1.0403 - dense_3_loss: 0.9220 - dense_4_accuracy: 0.6357 - dense_1_accuracy: 0.5407 - dense_3_accuracy: 0.5972 - val_loss: 1.3590 - val_dense_4_loss: 0.7910 - val_dense_1_loss: 1.0102 - val_dense_3_loss: 0.8831 - val_dense_4_accuracy: 0.6660 - val_dense_1_accuracy: 0.5521 - val_dense_3_accuracy: 0.6074 - 1402s/epoch - 2s/step\n",
      "Epoch 13/20\n",
      "768/768 - 1402s - loss: 1.3901 - dense_4_loss: 0.8103 - dense_1_loss: 1.0271 - dense_3_loss: 0.9054 - dense_4_accuracy: 0.6512 - dense_1_accuracy: 0.5526 - dense_3_accuracy: 0.6007 - val_loss: 1.3319 - val_dense_4_loss: 0.7718 - val_dense_1_loss: 1.0004 - val_dense_3_loss: 0.8666 - val_dense_4_accuracy: 0.6719 - val_dense_1_accuracy: 0.5612 - val_dense_3_accuracy: 0.6172 - 1402s/epoch - 2s/step\n",
      "Epoch 14/20\n",
      "768/768 - 1403s - loss: 1.3684 - dense_4_loss: 0.7952 - dense_1_loss: 1.0232 - dense_3_loss: 0.8876 - dense_4_accuracy: 0.6548 - dense_1_accuracy: 0.5438 - dense_3_accuracy: 0.6081 - val_loss: 1.3145 - val_dense_4_loss: 0.7606 - val_dense_1_loss: 0.9922 - val_dense_3_loss: 0.8541 - val_dense_4_accuracy: 0.6790 - val_dense_1_accuracy: 0.5625 - val_dense_3_accuracy: 0.6276 - 1403s/epoch - 2s/step\n",
      "Epoch 15/20\n",
      "768/768 - 1405s - loss: 1.3484 - dense_4_loss: 0.7815 - dense_1_loss: 1.0133 - dense_3_loss: 0.8763 - dense_4_accuracy: 0.6589 - dense_1_accuracy: 0.5618 - dense_3_accuracy: 0.6149 - val_loss: 1.2868 - val_dense_4_loss: 0.7400 - val_dense_1_loss: 0.9842 - val_dense_3_loss: 0.8383 - val_dense_4_accuracy: 0.6895 - val_dense_1_accuracy: 0.5742 - val_dense_3_accuracy: 0.6361 - 1405s/epoch - 2s/step\n",
      "Epoch 16/20\n",
      "768/768 - 1404s - loss: 1.3226 - dense_4_loss: 0.7613 - dense_1_loss: 1.0053 - dense_3_loss: 0.8657 - dense_4_accuracy: 0.6748 - dense_1_accuracy: 0.5659 - dense_3_accuracy: 0.6154 - val_loss: 1.2646 - val_dense_4_loss: 0.7241 - val_dense_1_loss: 0.9771 - val_dense_3_loss: 0.8245 - val_dense_4_accuracy: 0.6842 - val_dense_1_accuracy: 0.5716 - val_dense_3_accuracy: 0.6413 - 1404s/epoch - 2s/step\n",
      "Epoch 17/20\n",
      "768/768 - 1407s - loss: 1.3032 - dense_4_loss: 0.7488 - dense_1_loss: 1.0004 - dense_3_loss: 0.8477 - dense_4_accuracy: 0.6763 - dense_1_accuracy: 0.5651 - dense_3_accuracy: 0.6372 - val_loss: 1.2479 - val_dense_4_loss: 0.7124 - val_dense_1_loss: 0.9709 - val_dense_3_loss: 0.8142 - val_dense_4_accuracy: 0.6979 - val_dense_1_accuracy: 0.5768 - val_dense_3_accuracy: 0.6426 - 1407s/epoch - 2s/step\n",
      "Epoch 18/20\n",
      "768/768 - 1402s - loss: 1.2838 - dense_4_loss: 0.7349 - dense_1_loss: 0.9917 - dense_3_loss: 0.8378 - dense_4_accuracy: 0.6860 - dense_1_accuracy: 0.5732 - dense_3_accuracy: 0.6317 - val_loss: 1.2318 - val_dense_4_loss: 0.7011 - val_dense_1_loss: 0.9654 - val_dense_3_loss: 0.8037 - val_dense_4_accuracy: 0.6973 - val_dense_1_accuracy: 0.5716 - val_dense_3_accuracy: 0.6387 - 1402s/epoch - 2s/step\n",
      "Epoch 19/20\n",
      "768/768 - 1405s - loss: 1.2683 - dense_4_loss: 0.7236 - dense_1_loss: 0.9862 - dense_3_loss: 0.8294 - dense_4_accuracy: 0.6893 - dense_1_accuracy: 0.5713 - dense_3_accuracy: 0.6331 - val_loss: 1.2237 - val_dense_4_loss: 0.6964 - val_dense_1_loss: 0.9589 - val_dense_3_loss: 0.7990 - val_dense_4_accuracy: 0.7025 - val_dense_1_accuracy: 0.5866 - val_dense_3_accuracy: 0.6439 - 1405s/epoch - 2s/step\n",
      "Epoch 20/20\n",
      "768/768 - 1409s - loss: 1.2501 - dense_4_loss: 0.7121 - dense_1_loss: 0.9803 - dense_3_loss: 0.8130 - dense_4_accuracy: 0.6935 - dense_1_accuracy: 0.5728 - dense_3_accuracy: 0.6465 - val_loss: 1.1969 - val_dense_4_loss: 0.6764 - val_dense_1_loss: 0.9527 - val_dense_3_loss: 0.7824 - val_dense_4_accuracy: 0.7142 - val_dense_1_accuracy: 0.5892 - val_dense_3_accuracy: 0.6595 - 1409s/epoch - 2s/step\n"
     ]
    },
    {
     "name": "stdout",
     "output_type": "stream",
     "text": [
      "Testing time (s) = 28116.090969450073\n",
      "\n",
      "for testing\n",
      "60/60 [==============================] - 92s 2s/step - loss: 1.2273 - dense_4_loss: 0.7016 - dense_1_loss: 0.9575 - dense_3_loss: 0.7947 - dense_4_accuracy: 0.6964 - dense_1_accuracy: 0.5911 - dense_3_accuracy: 0.6578\n",
      "[1.227288007736206, 0.7016499042510986, 0.9574624300003052, 0.794665515422821, 0.6963541507720947, 0.5911458134651184, 0.6578124761581421]\n",
      "for training\n"
     ]
    },
    {
     "name": "stderr",
     "output_type": "stream",
     "text": [
      "2023-01-07 02:45:04.727000: W tensorflow/core/framework/cpu_allocator_impl.cc:82] Allocation of 4644864000 exceeds 10% of free system memory.\n"
     ]
    },
    {
     "name": "stdout",
     "output_type": "stream",
     "text": [
      "240/240 [==============================] - 361s 2s/step - loss: 1.2033 - dense_4_loss: 0.6826 - dense_1_loss: 0.9535 - dense_3_loss: 0.7821 - dense_4_accuracy: 0.7214 - dense_1_accuracy: 0.5987 - dense_3_accuracy: 0.6742\n",
      "[1.203284502029419, 0.6826215982437134, 0.9534757733345032, 0.7820674180984497, 0.7213541865348816, 0.5986979007720947, 0.6742187738418579]\n",
      "From epochs:  21  to  40\n",
      "Testing started\n",
      "Epoch 1/20\n",
      "768/768 - 1395s - loss: 1.2383 - dense_4_loss: 0.7028 - dense_1_loss: 0.9804 - dense_3_loss: 0.8043 - dense_4_accuracy: 0.6994 - dense_1_accuracy: 0.5719 - dense_3_accuracy: 0.6486 - val_loss: 1.1852 - val_dense_4_loss: 0.6687 - val_dense_1_loss: 0.9480 - val_dense_3_loss: 0.7736 - val_dense_4_accuracy: 0.7246 - val_dense_1_accuracy: 0.5911 - val_dense_3_accuracy: 0.6686 - 1395s/epoch - 2s/step\n",
      "Epoch 2/20\n",
      "768/768 - 1390s - loss: 1.2208 - dense_4_loss: 0.6912 - dense_1_loss: 0.9665 - dense_3_loss: 0.7989 - dense_4_accuracy: 0.7049 - dense_1_accuracy: 0.5841 - dense_3_accuracy: 0.6491 - val_loss: 1.1707 - val_dense_4_loss: 0.6577 - val_dense_1_loss: 0.9442 - val_dense_3_loss: 0.7657 - val_dense_4_accuracy: 0.7214 - val_dense_1_accuracy: 0.5892 - val_dense_3_accuracy: 0.6680 - 1390s/epoch - 2s/step\n",
      "Epoch 3/20\n",
      "768/768 - 1389s - loss: 1.2175 - dense_4_loss: 0.6881 - dense_1_loss: 0.9709 - dense_3_loss: 0.7936 - dense_4_accuracy: 0.7035 - dense_1_accuracy: 0.5802 - dense_3_accuracy: 0.6572 - val_loss: 1.1576 - val_dense_4_loss: 0.6491 - val_dense_1_loss: 0.9383 - val_dense_3_loss: 0.7569 - val_dense_4_accuracy: 0.7272 - val_dense_1_accuracy: 0.5951 - val_dense_3_accuracy: 0.6693 - 1389s/epoch - 2s/step\n",
      "Epoch 4/20\n",
      "768/768 - 1397s - loss: 1.2002 - dense_4_loss: 0.6768 - dense_1_loss: 0.9624 - dense_3_loss: 0.7821 - dense_4_accuracy: 0.7134 - dense_1_accuracy: 0.5783 - dense_3_accuracy: 0.6606 - val_loss: 1.1467 - val_dense_4_loss: 0.6412 - val_dense_1_loss: 0.9343 - val_dense_3_loss: 0.7506 - val_dense_4_accuracy: 0.7305 - val_dense_1_accuracy: 0.5951 - val_dense_3_accuracy: 0.6680 - 1397s/epoch - 2s/step\n",
      "Epoch 5/20\n",
      "768/768 - 1399s - loss: 1.1874 - dense_4_loss: 0.6690 - dense_1_loss: 0.9516 - dense_3_loss: 0.7766 - dense_4_accuracy: 0.7170 - dense_1_accuracy: 0.5863 - dense_3_accuracy: 0.6628 - val_loss: 1.1378 - val_dense_4_loss: 0.6358 - val_dense_1_loss: 0.9296 - val_dense_3_loss: 0.7436 - val_dense_4_accuracy: 0.7409 - val_dense_1_accuracy: 0.6009 - val_dense_3_accuracy: 0.6764 - 1399s/epoch - 2s/step\n",
      "Epoch 6/20\n",
      "768/768 - 1400s - loss: 1.1774 - dense_4_loss: 0.6626 - dense_1_loss: 0.9516 - dense_3_loss: 0.7644 - dense_4_accuracy: 0.7194 - dense_1_accuracy: 0.5941 - dense_3_accuracy: 0.6681 - val_loss: 1.1322 - val_dense_4_loss: 0.6328 - val_dense_1_loss: 0.9259 - val_dense_3_loss: 0.7387 - val_dense_4_accuracy: 0.7415 - val_dense_1_accuracy: 0.6048 - val_dense_3_accuracy: 0.6829 - 1400s/epoch - 2s/step\n",
      "Epoch 7/20\n",
      "768/768 - 1407s - loss: 1.1632 - dense_4_loss: 0.6507 - dense_1_loss: 0.9504 - dense_3_loss: 0.7580 - dense_4_accuracy: 0.7228 - dense_1_accuracy: 0.5820 - dense_3_accuracy: 0.6743 - val_loss: 1.1224 - val_dense_4_loss: 0.6253 - val_dense_1_loss: 0.9233 - val_dense_3_loss: 0.7335 - val_dense_4_accuracy: 0.7396 - val_dense_1_accuracy: 0.6003 - val_dense_3_accuracy: 0.6862 - 1407s/epoch - 2s/step\n",
      "Epoch 8/20\n",
      "768/768 - 1413s - loss: 1.1547 - dense_4_loss: 0.6454 - dense_1_loss: 0.9462 - dense_3_loss: 0.7515 - dense_4_accuracy: 0.7240 - dense_1_accuracy: 0.5923 - dense_3_accuracy: 0.6745 - val_loss: 1.1094 - val_dense_4_loss: 0.6164 - val_dense_1_loss: 0.9180 - val_dense_3_loss: 0.7254 - val_dense_4_accuracy: 0.7507 - val_dense_1_accuracy: 0.6055 - val_dense_3_accuracy: 0.6934 - 1413s/epoch - 2s/step\n",
      "Epoch 9/20\n",
      "768/768 - 1413s - loss: 1.1481 - dense_4_loss: 0.6430 - dense_1_loss: 0.9399 - dense_3_loss: 0.7438 - dense_4_accuracy: 0.7256 - dense_1_accuracy: 0.5920 - dense_3_accuracy: 0.6868 - val_loss: 1.1030 - val_dense_4_loss: 0.6121 - val_dense_1_loss: 0.9152 - val_dense_3_loss: 0.7211 - val_dense_4_accuracy: 0.7480 - val_dense_1_accuracy: 0.6035 - val_dense_3_accuracy: 0.6908 - 1413s/epoch - 2s/step\n",
      "Epoch 10/20\n",
      "768/768 - 1411s - loss: 1.1376 - dense_4_loss: 0.6327 - dense_1_loss: 0.9388 - dense_3_loss: 0.7441 - dense_4_accuracy: 0.7313 - dense_1_accuracy: 0.5951 - dense_3_accuracy: 0.6836 - val_loss: 1.0980 - val_dense_4_loss: 0.6094 - val_dense_1_loss: 0.9115 - val_dense_3_loss: 0.7170 - val_dense_4_accuracy: 0.7461 - val_dense_1_accuracy: 0.6074 - val_dense_3_accuracy: 0.6921 - 1411s/epoch - 2s/step\n",
      "Epoch 11/20\n",
      "768/768 - 1407s - loss: 1.1308 - dense_4_loss: 0.6282 - dense_1_loss: 0.9379 - dense_3_loss: 0.7374 - dense_4_accuracy: 0.7378 - dense_1_accuracy: 0.5900 - dense_3_accuracy: 0.6872 - val_loss: 1.0874 - val_dense_4_loss: 0.6013 - val_dense_1_loss: 0.9085 - val_dense_3_loss: 0.7117 - val_dense_4_accuracy: 0.7520 - val_dense_1_accuracy: 0.6048 - val_dense_3_accuracy: 0.6855 - 1407s/epoch - 2s/step\n",
      "Epoch 12/20\n",
      "768/768 - 1412s - loss: 1.1225 - dense_4_loss: 0.6247 - dense_1_loss: 0.9288 - dense_3_loss: 0.7305 - dense_4_accuracy: 0.7414 - dense_1_accuracy: 0.6014 - dense_3_accuracy: 0.6924 - val_loss: 1.0737 - val_dense_4_loss: 0.5911 - val_dense_1_loss: 0.9046 - val_dense_3_loss: 0.7040 - val_dense_4_accuracy: 0.7624 - val_dense_1_accuracy: 0.6133 - val_dense_3_accuracy: 0.6947 - 1412s/epoch - 2s/step\n",
      "Epoch 13/20\n",
      "768/768 - 1410s - loss: 1.1195 - dense_4_loss: 0.6210 - dense_1_loss: 0.9316 - dense_3_loss: 0.7299 - dense_4_accuracy: 0.7362 - dense_1_accuracy: 0.6011 - dense_3_accuracy: 0.6901 - val_loss: 1.0665 - val_dense_4_loss: 0.5862 - val_dense_1_loss: 0.9015 - val_dense_3_loss: 0.6997 - val_dense_4_accuracy: 0.7637 - val_dense_1_accuracy: 0.6152 - val_dense_3_accuracy: 0.6999 - 1410s/epoch - 2s/step\n",
      "Epoch 14/20\n",
      "768/768 - 1407s - loss: 1.1150 - dense_4_loss: 0.6179 - dense_1_loss: 0.9282 - dense_3_loss: 0.7287 - dense_4_accuracy: 0.7401 - dense_1_accuracy: 0.5980 - dense_3_accuracy: 0.6842 - val_loss: 1.0669 - val_dense_4_loss: 0.5875 - val_dense_1_loss: 0.8994 - val_dense_3_loss: 0.6986 - val_dense_4_accuracy: 0.7565 - val_dense_1_accuracy: 0.6094 - val_dense_3_accuracy: 0.6966 - 1407s/epoch - 2s/step\n",
      "Epoch 15/20\n",
      "768/768 - 1414s - loss: 1.1066 - dense_4_loss: 0.6126 - dense_1_loss: 0.9239 - dense_3_loss: 0.7228 - dense_4_accuracy: 0.7443 - dense_1_accuracy: 0.6021 - dense_3_accuracy: 0.6919 - val_loss: 1.0549 - val_dense_4_loss: 0.5786 - val_dense_1_loss: 0.8957 - val_dense_3_loss: 0.6921 - val_dense_4_accuracy: 0.7663 - val_dense_1_accuracy: 0.6152 - val_dense_3_accuracy: 0.7005 - 1414s/epoch - 2s/step\n",
      "Epoch 16/20\n",
      "768/768 - 1407s - loss: 1.0938 - dense_4_loss: 0.6034 - dense_1_loss: 0.9174 - dense_3_loss: 0.7174 - dense_4_accuracy: 0.7505 - dense_1_accuracy: 0.6045 - dense_3_accuracy: 0.6999 - val_loss: 1.0484 - val_dense_4_loss: 0.5739 - val_dense_1_loss: 0.8933 - val_dense_3_loss: 0.6884 - val_dense_4_accuracy: 0.7669 - val_dense_1_accuracy: 0.6152 - val_dense_3_accuracy: 0.6979 - 1407s/epoch - 2s/step\n",
      "Epoch 17/20\n",
      "768/768 - 1407s - loss: 1.0906 - dense_4_loss: 0.6008 - dense_1_loss: 0.9187 - dense_3_loss: 0.7140 - dense_4_accuracy: 0.7518 - dense_1_accuracy: 0.6081 - dense_3_accuracy: 0.6958 - val_loss: 1.0440 - val_dense_4_loss: 0.5710 - val_dense_1_loss: 0.8913 - val_dense_3_loss: 0.6851 - val_dense_4_accuracy: 0.7676 - val_dense_1_accuracy: 0.6250 - val_dense_3_accuracy: 0.7064 - 1407s/epoch - 2s/step\n",
      "Epoch 18/20\n",
      "768/768 - 1414s - loss: 1.0794 - dense_4_loss: 0.5932 - dense_1_loss: 0.9116 - dense_3_loss: 0.7093 - dense_4_accuracy: 0.7467 - dense_1_accuracy: 0.6076 - dense_3_accuracy: 0.7010 - val_loss: 1.0404 - val_dense_4_loss: 0.5684 - val_dense_1_loss: 0.8893 - val_dense_3_loss: 0.6839 - val_dense_4_accuracy: 0.7702 - val_dense_1_accuracy: 0.6198 - val_dense_3_accuracy: 0.7057 - 1414s/epoch - 2s/step\n",
      "Epoch 19/20\n",
      "768/768 - 1414s - loss: 1.0774 - dense_4_loss: 0.5912 - dense_1_loss: 0.9108 - dense_3_loss: 0.7099 - dense_4_accuracy: 0.7583 - dense_1_accuracy: 0.6108 - dense_3_accuracy: 0.6935 - val_loss: 1.0443 - val_dense_4_loss: 0.5722 - val_dense_1_loss: 0.8877 - val_dense_3_loss: 0.6860 - val_dense_4_accuracy: 0.7585 - val_dense_1_accuracy: 0.6146 - val_dense_3_accuracy: 0.7018 - 1414s/epoch - 2s/step\n",
      "Epoch 20/20\n"
     ]
    },
    {
     "name": "stdout",
     "output_type": "stream",
     "text": [
      "768/768 - 1415s - loss: 1.0715 - dense_4_loss: 0.5890 - dense_1_loss: 0.9070 - dense_3_loss: 0.7013 - dense_4_accuracy: 0.7572 - dense_1_accuracy: 0.6123 - dense_3_accuracy: 0.7031 - val_loss: 1.0273 - val_dense_4_loss: 0.5599 - val_dense_1_loss: 0.8830 - val_dense_3_loss: 0.6751 - val_dense_4_accuracy: 0.7708 - val_dense_1_accuracy: 0.6237 - val_dense_3_accuracy: 0.7109 - 1415s/epoch - 2s/step\n",
      "Testing time (s) = 28125.237555703847\n",
      "\n",
      "for testing\n",
      "60/60 [==============================] - 92s 2s/step - loss: 1.0536 - dense_4_loss: 0.5811 - dense_1_loss: 0.8887 - dense_3_loss: 0.6864 - dense_4_accuracy: 0.7563 - dense_1_accuracy: 0.6187 - dense_3_accuracy: 0.7042\n",
      "[1.0535887479782104, 0.5810701847076416, 0.8886677026748657, 0.6863946318626404, 0.7562500238418579, 0.6187499761581421, 0.7041666507720947]\n",
      "for training\n"
     ]
    },
    {
     "name": "stderr",
     "output_type": "stream",
     "text": [
      "2023-01-07 10:41:32.814862: W tensorflow/core/framework/cpu_allocator_impl.cc:82] Allocation of 4644864000 exceeds 10% of free system memory.\n"
     ]
    },
    {
     "name": "stdout",
     "output_type": "stream",
     "text": [
      "240/240 [==============================] - 362s 2s/step - loss: 1.0282 - dense_4_loss: 0.5620 - dense_1_loss: 0.8826 - dense_3_loss: 0.6713 - dense_4_accuracy: 0.7715 - dense_1_accuracy: 0.6306 - dense_3_accuracy: 0.7294\n",
      "[1.0282045602798462, 0.5620396733283997, 0.8826070427894592, 0.6712760329246521, 0.771484375, 0.6305989623069763, 0.7294270992279053]\n"
     ]
    }
   ],
   "source": [
    "for x in range(2):\n",
    "    print(\"From epochs: \",20*x+1,\" to \",20+20*x)\n",
    "    tic = start_timer()\n",
    "    model.fit(x_train ,y_train ,batch_size=BATCH_SIZE ,epochs=20, verbose=2, validation_data=(x_val, y_val), shuffle=True)\n",
    "    toc = end_timer()\n",
    "    show_time(tic,toc)\n",
    "    print(\"for testing\")\n",
    "    print(model.evaluate(test_dataset,test_dataset_label))\n",
    "    print(\"for training\")\n",
    "    print(model.evaluate(train_dataset,train_dataset_label))"
   ]
  },
  {
   "cell_type": "code",
   "execution_count": 27,
   "id": "b89c2d88",
   "metadata": {},
   "outputs": [
    {
     "name": "stdout",
     "output_type": "stream",
     "text": [
      "Model: \"model\"\n",
      "__________________________________________________________________________________________________\n",
      " Layer (type)                   Output Shape         Param #     Connected to                     \n",
      "==================================================================================================\n",
      " input_1 (InputLayer)           [(None, 30, 30, 168  0           []                               \n",
      "                                )]                                                                \n",
      "                                                                                                  \n",
      " resizing (Resizing)            (None, 224, 224, 16  0           ['input_1[0][0]']                \n",
      "                                8)                                                                \n",
      "                                                                                                  \n",
      " conv2d (Conv2D)                (None, 112, 112, 64  526912      ['resizing[0][0]']               \n",
      "                                )                                                                 \n",
      "                                                                                                  \n",
      " max_pooling2d (MaxPooling2D)   (None, 55, 55, 64)   0           ['conv2d[0][0]']                 \n",
      "                                                                                                  \n",
      " conv2d_1 (Conv2D)              (None, 55, 55, 64)   4160        ['max_pooling2d[0][0]']          \n",
      "                                                                                                  \n",
      " conv2d_2 (Conv2D)              (None, 55, 55, 192)  110784      ['conv2d_1[0][0]']               \n",
      "                                                                                                  \n",
      " max_pooling2d_1 (MaxPooling2D)  (None, 27, 27, 192)  0          ['conv2d_2[0][0]']               \n",
      "                                                                                                  \n",
      " conv2d_4 (Conv2D)              (None, 27, 27, 96)   18528       ['max_pooling2d_1[0][0]']        \n",
      "                                                                                                  \n",
      " conv2d_6 (Conv2D)              (None, 27, 27, 16)   3088        ['max_pooling2d_1[0][0]']        \n",
      "                                                                                                  \n",
      " max_pooling2d_2 (MaxPooling2D)  (None, 27, 27, 192)  0          ['max_pooling2d_1[0][0]']        \n",
      "                                                                                                  \n",
      " conv2d_3 (Conv2D)              (None, 27, 27, 64)   12352       ['max_pooling2d_1[0][0]']        \n",
      "                                                                                                  \n",
      " conv2d_5 (Conv2D)              (None, 27, 27, 128)  12416       ['conv2d_4[0][0]']               \n",
      "                                                                                                  \n",
      " conv2d_7 (Conv2D)              (None, 27, 27, 32)   544         ['conv2d_6[0][0]']               \n",
      "                                                                                                  \n",
      " conv2d_8 (Conv2D)              (None, 27, 27, 32)   6176        ['max_pooling2d_2[0][0]']        \n",
      "                                                                                                  \n",
      " tf.concat (TFOpLambda)         (None, 27, 27, 256)  0           ['conv2d_3[0][0]',               \n",
      "                                                                  'conv2d_5[0][0]',               \n",
      "                                                                  'conv2d_7[0][0]',               \n",
      "                                                                  'conv2d_8[0][0]']               \n",
      "                                                                                                  \n",
      " conv2d_10 (Conv2D)             (None, 27, 27, 128)  32896       ['tf.concat[0][0]']              \n",
      "                                                                                                  \n",
      " conv2d_12 (Conv2D)             (None, 27, 27, 32)   8224        ['tf.concat[0][0]']              \n",
      "                                                                                                  \n",
      " max_pooling2d_3 (MaxPooling2D)  (None, 27, 27, 256)  0          ['tf.concat[0][0]']              \n",
      "                                                                                                  \n",
      " conv2d_9 (Conv2D)              (None, 27, 27, 128)  32896       ['tf.concat[0][0]']              \n",
      "                                                                                                  \n",
      " conv2d_11 (Conv2D)             (None, 27, 27, 192)  24768       ['conv2d_10[0][0]']              \n",
      "                                                                                                  \n",
      " conv2d_13 (Conv2D)             (None, 27, 27, 96)   3168        ['conv2d_12[0][0]']              \n",
      "                                                                                                  \n",
      " conv2d_14 (Conv2D)             (None, 27, 27, 64)   16448       ['max_pooling2d_3[0][0]']        \n",
      "                                                                                                  \n",
      " tf.concat_1 (TFOpLambda)       (None, 27, 27, 480)  0           ['conv2d_9[0][0]',               \n",
      "                                                                  'conv2d_11[0][0]',              \n",
      "                                                                  'conv2d_13[0][0]',              \n",
      "                                                                  'conv2d_14[0][0]']              \n",
      "                                                                                                  \n",
      " max_pooling2d_4 (MaxPooling2D)  (None, 13, 13, 480)  0          ['tf.concat_1[0][0]']            \n",
      "                                                                                                  \n",
      " conv2d_16 (Conv2D)             (None, 13, 13, 96)   46176       ['max_pooling2d_4[0][0]']        \n",
      "                                                                                                  \n",
      " conv2d_18 (Conv2D)             (None, 13, 13, 16)   7696        ['max_pooling2d_4[0][0]']        \n",
      "                                                                                                  \n",
      " max_pooling2d_5 (MaxPooling2D)  (None, 13, 13, 480)  0          ['max_pooling2d_4[0][0]']        \n",
      "                                                                                                  \n",
      " conv2d_15 (Conv2D)             (None, 13, 13, 192)  92352       ['max_pooling2d_4[0][0]']        \n",
      "                                                                                                  \n",
      " conv2d_17 (Conv2D)             (None, 13, 13, 208)  20176       ['conv2d_16[0][0]']              \n",
      "                                                                                                  \n",
      " conv2d_19 (Conv2D)             (None, 13, 13, 48)   816         ['conv2d_18[0][0]']              \n",
      "                                                                                                  \n",
      " conv2d_20 (Conv2D)             (None, 13, 13, 64)   30784       ['max_pooling2d_5[0][0]']        \n",
      "                                                                                                  \n",
      " tf.concat_2 (TFOpLambda)       (None, 13, 13, 512)  0           ['conv2d_15[0][0]',              \n",
      "                                                                  'conv2d_17[0][0]',              \n",
      "                                                                  'conv2d_19[0][0]',              \n",
      "                                                                  'conv2d_20[0][0]']              \n",
      "                                                                                                  \n",
      " conv2d_23 (Conv2D)             (None, 13, 13, 112)  57456       ['tf.concat_2[0][0]']            \n",
      "                                                                                                  \n",
      " conv2d_25 (Conv2D)             (None, 13, 13, 24)   12312       ['tf.concat_2[0][0]']            \n",
      "                                                                                                  \n"
     ]
    },
    {
     "name": "stdout",
     "output_type": "stream",
     "text": [
      " max_pooling2d_6 (MaxPooling2D)  (None, 13, 13, 512)  0          ['tf.concat_2[0][0]']            \n",
      "                                                                                                  \n",
      " conv2d_22 (Conv2D)             (None, 13, 13, 160)  82080       ['tf.concat_2[0][0]']            \n",
      "                                                                                                  \n",
      " conv2d_24 (Conv2D)             (None, 13, 13, 224)  25312       ['conv2d_23[0][0]']              \n",
      "                                                                                                  \n",
      " conv2d_26 (Conv2D)             (None, 13, 13, 64)   1600        ['conv2d_25[0][0]']              \n",
      "                                                                                                  \n",
      " conv2d_27 (Conv2D)             (None, 13, 13, 64)   32832       ['max_pooling2d_6[0][0]']        \n",
      "                                                                                                  \n",
      " tf.concat_3 (TFOpLambda)       (None, 13, 13, 512)  0           ['conv2d_22[0][0]',              \n",
      "                                                                  'conv2d_24[0][0]',              \n",
      "                                                                  'conv2d_26[0][0]',              \n",
      "                                                                  'conv2d_27[0][0]']              \n",
      "                                                                                                  \n",
      " conv2d_29 (Conv2D)             (None, 13, 13, 128)  65664       ['tf.concat_3[0][0]']            \n",
      "                                                                                                  \n",
      " conv2d_31 (Conv2D)             (None, 13, 13, 24)   12312       ['tf.concat_3[0][0]']            \n",
      "                                                                                                  \n",
      " max_pooling2d_7 (MaxPooling2D)  (None, 13, 13, 512)  0          ['tf.concat_3[0][0]']            \n",
      "                                                                                                  \n",
      " conv2d_28 (Conv2D)             (None, 13, 13, 128)  65664       ['tf.concat_3[0][0]']            \n",
      "                                                                                                  \n",
      " conv2d_30 (Conv2D)             (None, 13, 13, 256)  33024       ['conv2d_29[0][0]']              \n",
      "                                                                                                  \n",
      " conv2d_32 (Conv2D)             (None, 13, 13, 64)   1600        ['conv2d_31[0][0]']              \n",
      "                                                                                                  \n",
      " conv2d_33 (Conv2D)             (None, 13, 13, 64)   32832       ['max_pooling2d_7[0][0]']        \n",
      "                                                                                                  \n",
      " tf.concat_4 (TFOpLambda)       (None, 13, 13, 512)  0           ['conv2d_28[0][0]',              \n",
      "                                                                  'conv2d_30[0][0]',              \n",
      "                                                                  'conv2d_32[0][0]',              \n",
      "                                                                  'conv2d_33[0][0]']              \n",
      "                                                                                                  \n",
      " conv2d_35 (Conv2D)             (None, 13, 13, 144)  73872       ['tf.concat_4[0][0]']            \n",
      "                                                                                                  \n",
      " conv2d_37 (Conv2D)             (None, 13, 13, 32)   16416       ['tf.concat_4[0][0]']            \n",
      "                                                                                                  \n",
      " max_pooling2d_8 (MaxPooling2D)  (None, 13, 13, 512)  0          ['tf.concat_4[0][0]']            \n",
      "                                                                                                  \n",
      " conv2d_34 (Conv2D)             (None, 13, 13, 112)  57456       ['tf.concat_4[0][0]']            \n",
      "                                                                                                  \n",
      " conv2d_36 (Conv2D)             (None, 13, 13, 288)  41760       ['conv2d_35[0][0]']              \n",
      "                                                                                                  \n",
      " conv2d_38 (Conv2D)             (None, 13, 13, 64)   2112        ['conv2d_37[0][0]']              \n",
      "                                                                                                  \n",
      " conv2d_39 (Conv2D)             (None, 13, 13, 64)   32832       ['max_pooling2d_8[0][0]']        \n",
      "                                                                                                  \n",
      " tf.concat_5 (TFOpLambda)       (None, 13, 13, 528)  0           ['conv2d_34[0][0]',              \n",
      "                                                                  'conv2d_36[0][0]',              \n",
      "                                                                  'conv2d_38[0][0]',              \n",
      "                                                                  'conv2d_39[0][0]']              \n",
      "                                                                                                  \n",
      " conv2d_42 (Conv2D)             (None, 13, 13, 160)  84640       ['tf.concat_5[0][0]']            \n",
      "                                                                                                  \n",
      " conv2d_44 (Conv2D)             (None, 13, 13, 32)   16928       ['tf.concat_5[0][0]']            \n",
      "                                                                                                  \n",
      " max_pooling2d_9 (MaxPooling2D)  (None, 13, 13, 528)  0          ['tf.concat_5[0][0]']            \n",
      "                                                                                                  \n",
      " conv2d_41 (Conv2D)             (None, 13, 13, 256)  135424      ['tf.concat_5[0][0]']            \n",
      "                                                                                                  \n",
      " conv2d_43 (Conv2D)             (None, 13, 13, 320)  51520       ['conv2d_42[0][0]']              \n",
      "                                                                                                  \n",
      " conv2d_45 (Conv2D)             (None, 13, 13, 128)  4224        ['conv2d_44[0][0]']              \n",
      "                                                                                                  \n",
      " conv2d_46 (Conv2D)             (None, 13, 13, 128)  67712       ['max_pooling2d_9[0][0]']        \n",
      "                                                                                                  \n",
      " tf.concat_6 (TFOpLambda)       (None, 13, 13, 832)  0           ['conv2d_41[0][0]',              \n",
      "                                                                  'conv2d_43[0][0]',              \n",
      "                                                                  'conv2d_45[0][0]',              \n",
      "                                                                  'conv2d_46[0][0]']              \n",
      "                                                                                                  \n",
      " max_pooling2d_10 (MaxPooling2D  (None, 6, 6, 832)   0           ['tf.concat_6[0][0]']            \n",
      " )                                                                                                \n",
      "                                                                                                  \n",
      " conv2d_48 (Conv2D)             (None, 6, 6, 160)    133280      ['max_pooling2d_10[0][0]']       \n",
      "                                                                                                  \n",
      " conv2d_50 (Conv2D)             (None, 6, 6, 32)     26656       ['max_pooling2d_10[0][0]']       \n",
      "                                                                                                  \n",
      " max_pooling2d_11 (MaxPooling2D  (None, 6, 6, 832)   0           ['max_pooling2d_10[0][0]']       \n",
      " )                                                                                                \n",
      "                                                                                                  \n",
      " conv2d_47 (Conv2D)             (None, 6, 6, 256)    213248      ['max_pooling2d_10[0][0]']       \n"
     ]
    },
    {
     "name": "stdout",
     "output_type": "stream",
     "text": [
      "                                                                                                  \n",
      " conv2d_49 (Conv2D)             (None, 6, 6, 320)    51520       ['conv2d_48[0][0]']              \n",
      "                                                                                                  \n",
      " conv2d_51 (Conv2D)             (None, 6, 6, 128)    4224        ['conv2d_50[0][0]']              \n",
      "                                                                                                  \n",
      " conv2d_52 (Conv2D)             (None, 6, 6, 128)    106624      ['max_pooling2d_11[0][0]']       \n",
      "                                                                                                  \n",
      " tf.concat_7 (TFOpLambda)       (None, 6, 6, 832)    0           ['conv2d_47[0][0]',              \n",
      "                                                                  'conv2d_49[0][0]',              \n",
      "                                                                  'conv2d_51[0][0]',              \n",
      "                                                                  'conv2d_52[0][0]']              \n",
      "                                                                                                  \n",
      " conv2d_54 (Conv2D)             (None, 6, 6, 192)    159936      ['tf.concat_7[0][0]']            \n",
      "                                                                                                  \n",
      " conv2d_56 (Conv2D)             (None, 6, 6, 48)     39984       ['tf.concat_7[0][0]']            \n",
      "                                                                                                  \n",
      " max_pooling2d_12 (MaxPooling2D  (None, 6, 6, 832)   0           ['tf.concat_7[0][0]']            \n",
      " )                                                                                                \n",
      "                                                                                                  \n",
      " average_pooling2d (AveragePool  (None, 3, 3, 512)   0           ['tf.concat_2[0][0]']            \n",
      " ing2D)                                                                                           \n",
      "                                                                                                  \n",
      " average_pooling2d_1 (AveragePo  (None, 3, 3, 528)   0           ['tf.concat_5[0][0]']            \n",
      " oling2D)                                                                                         \n",
      "                                                                                                  \n",
      " conv2d_53 (Conv2D)             (None, 6, 6, 384)    319872      ['tf.concat_7[0][0]']            \n",
      "                                                                                                  \n",
      " conv2d_55 (Conv2D)             (None, 6, 6, 384)    74112       ['conv2d_54[0][0]']              \n",
      "                                                                                                  \n",
      " conv2d_57 (Conv2D)             (None, 6, 6, 128)    6272        ['conv2d_56[0][0]']              \n",
      "                                                                                                  \n",
      " conv2d_58 (Conv2D)             (None, 6, 6, 128)    106624      ['max_pooling2d_12[0][0]']       \n",
      "                                                                                                  \n",
      " conv2d_21 (Conv2D)             (None, 3, 3, 128)    65664       ['average_pooling2d[0][0]']      \n",
      "                                                                                                  \n",
      " conv2d_40 (Conv2D)             (None, 3, 3, 128)    67712       ['average_pooling2d_1[0][0]']    \n",
      "                                                                                                  \n",
      " tf.concat_8 (TFOpLambda)       (None, 6, 6, 1024)   0           ['conv2d_53[0][0]',              \n",
      "                                                                  'conv2d_55[0][0]',              \n",
      "                                                                  'conv2d_57[0][0]',              \n",
      "                                                                  'conv2d_58[0][0]']              \n",
      "                                                                                                  \n",
      " flatten (Flatten)              (None, 1152)         0           ['conv2d_21[0][0]']              \n",
      "                                                                                                  \n",
      " flatten_1 (Flatten)            (None, 1152)         0           ['conv2d_40[0][0]']              \n",
      "                                                                                                  \n",
      " global_average_pooling2d (Glob  (None, 1024)        0           ['tf.concat_8[0][0]']            \n",
      " alAveragePooling2D)                                                                              \n",
      "                                                                                                  \n",
      " dense (Dense)                  (None, 1024)         1180672     ['flatten[0][0]']                \n",
      "                                                                                                  \n",
      " dense_2 (Dense)                (None, 1024)         1180672     ['flatten_1[0][0]']              \n",
      "                                                                                                  \n",
      " dropout_2 (Dropout)            (None, 1024)         0           ['global_average_pooling2d[0][0]'\n",
      "                                                                 ]                                \n",
      "                                                                                                  \n",
      " dropout (Dropout)              (None, 1024)         0           ['dense[0][0]']                  \n",
      "                                                                                                  \n",
      " dropout_1 (Dropout)            (None, 1024)         0           ['dense_2[0][0]']                \n",
      "                                                                                                  \n",
      " dense_4 (Dense)                (None, 4)            4100        ['dropout_2[0][0]']              \n",
      "                                                                                                  \n",
      " dense_1 (Dense)                (None, 4)            4100        ['dropout[0][0]']                \n",
      "                                                                                                  \n",
      " dense_3 (Dense)                (None, 4)            4100        ['dropout_1[0][0]']              \n",
      "                                                                                                  \n",
      "==================================================================================================\n",
      "Total params: 5,768,316\n",
      "Trainable params: 5,768,316\n",
      "Non-trainable params: 0\n",
      "__________________________________________________________________________________________________\n"
     ]
    }
   ],
   "source": [
    "model.summary()"
   ]
  },
  {
   "cell_type": "code",
   "execution_count": 30,
   "id": "cfb12a05",
   "metadata": {},
   "outputs": [
    {
     "name": "stdout",
     "output_type": "stream",
     "text": [
      "From epochs:  41  to  60\n",
      "Testing started\n",
      "Epoch 1/20\n",
      "768/768 - 1420s - loss: 1.0645 - dense_4_loss: 0.5833 - dense_1_loss: 0.9033 - dense_3_loss: 0.7007 - dense_4_accuracy: 0.7565 - dense_1_accuracy: 0.6064 - dense_3_accuracy: 0.7077 - val_loss: 1.0333 - val_dense_4_loss: 0.5647 - val_dense_1_loss: 0.8824 - val_dense_3_loss: 0.6796 - val_dense_4_accuracy: 0.7643 - val_dense_1_accuracy: 0.6172 - val_dense_3_accuracy: 0.7070 - 1420s/epoch - 2s/step\n",
      "Epoch 2/20\n",
      "768/768 - 1406s - loss: 1.0600 - dense_4_loss: 0.5799 - dense_1_loss: 0.9018 - dense_3_loss: 0.6983 - dense_4_accuracy: 0.7573 - dense_1_accuracy: 0.6162 - dense_3_accuracy: 0.6997 - val_loss: 1.0214 - val_dense_4_loss: 0.5563 - val_dense_1_loss: 0.8786 - val_dense_3_loss: 0.6716 - val_dense_4_accuracy: 0.7624 - val_dense_1_accuracy: 0.6237 - val_dense_3_accuracy: 0.7116 - 1406s/epoch - 2s/step\n",
      "Epoch 3/20\n",
      "768/768 - 1412s - loss: 1.0577 - dense_4_loss: 0.5803 - dense_1_loss: 0.8982 - dense_3_loss: 0.6933 - dense_4_accuracy: 0.7578 - dense_1_accuracy: 0.6117 - dense_3_accuracy: 0.7111 - val_loss: 1.0138 - val_dense_4_loss: 0.5506 - val_dense_1_loss: 0.8767 - val_dense_3_loss: 0.6675 - val_dense_4_accuracy: 0.7708 - val_dense_1_accuracy: 0.6302 - val_dense_3_accuracy: 0.7148 - 1412s/epoch - 2s/step\n",
      "Epoch 4/20\n",
      "768/768 - 1416s - loss: 1.0529 - dense_4_loss: 0.5758 - dense_1_loss: 0.9025 - dense_3_loss: 0.6880 - dense_4_accuracy: 0.7624 - dense_1_accuracy: 0.6056 - dense_3_accuracy: 0.7132 - val_loss: 1.0143 - val_dense_4_loss: 0.5523 - val_dense_1_loss: 0.8745 - val_dense_3_loss: 0.6657 - val_dense_4_accuracy: 0.7754 - val_dense_1_accuracy: 0.6367 - val_dense_3_accuracy: 0.7188 - 1416s/epoch - 2s/step\n",
      "Epoch 5/20\n",
      "768/768 - 1413s - loss: 1.0423 - dense_4_loss: 0.5703 - dense_1_loss: 0.8919 - dense_3_loss: 0.6815 - dense_4_accuracy: 0.7624 - dense_1_accuracy: 0.6160 - dense_3_accuracy: 0.7155 - val_loss: 1.0045 - val_dense_4_loss: 0.5445 - val_dense_1_loss: 0.8723 - val_dense_3_loss: 0.6608 - val_dense_4_accuracy: 0.7767 - val_dense_1_accuracy: 0.6276 - val_dense_3_accuracy: 0.7155 - 1413s/epoch - 2s/step\n",
      "Epoch 6/20\n",
      "768/768 - 1405s - loss: 1.0418 - dense_4_loss: 0.5681 - dense_1_loss: 0.8955 - dense_3_loss: 0.6833 - dense_4_accuracy: 0.7606 - dense_1_accuracy: 0.6107 - dense_3_accuracy: 0.7085 - val_loss: 1.0066 - val_dense_4_loss: 0.5465 - val_dense_1_loss: 0.8709 - val_dense_3_loss: 0.6624 - val_dense_4_accuracy: 0.7754 - val_dense_1_accuracy: 0.6296 - val_dense_3_accuracy: 0.7181 - 1405s/epoch - 2s/step\n",
      "Epoch 7/20\n",
      "768/768 - 1400s - loss: 1.0420 - dense_4_loss: 0.5706 - dense_1_loss: 0.8924 - dense_3_loss: 0.6789 - dense_4_accuracy: 0.7664 - dense_1_accuracy: 0.6147 - dense_3_accuracy: 0.7114 - val_loss: 1.0003 - val_dense_4_loss: 0.5418 - val_dense_1_loss: 0.8694 - val_dense_3_loss: 0.6590 - val_dense_4_accuracy: 0.7786 - val_dense_1_accuracy: 0.6276 - val_dense_3_accuracy: 0.7214 - 1400s/epoch - 2s/step\n",
      "Epoch 8/20\n",
      "768/768 - 1404s - loss: 1.0330 - dense_4_loss: 0.5640 - dense_1_loss: 0.8870 - dense_3_loss: 0.6763 - dense_4_accuracy: 0.7642 - dense_1_accuracy: 0.6175 - dense_3_accuracy: 0.7166 - val_loss: 0.9962 - val_dense_4_loss: 0.5398 - val_dense_1_loss: 0.8666 - val_dense_3_loss: 0.6547 - val_dense_4_accuracy: 0.7793 - val_dense_1_accuracy: 0.6387 - val_dense_3_accuracy: 0.7174 - 1404s/epoch - 2s/step\n",
      "Epoch 9/20\n",
      "768/768 - 1423s - loss: 1.0339 - dense_4_loss: 0.5617 - dense_1_loss: 0.8919 - dense_3_loss: 0.6822 - dense_4_accuracy: 0.7646 - dense_1_accuracy: 0.6200 - dense_3_accuracy: 0.7157 - val_loss: 0.9929 - val_dense_4_loss: 0.5377 - val_dense_1_loss: 0.8649 - val_dense_3_loss: 0.6522 - val_dense_4_accuracy: 0.7819 - val_dense_1_accuracy: 0.6387 - val_dense_3_accuracy: 0.7233 - 1423s/epoch - 2s/step\n",
      "Epoch 10/20\n",
      "768/768 - 1420s - loss: 1.0233 - dense_4_loss: 0.5546 - dense_1_loss: 0.8874 - dense_3_loss: 0.6750 - dense_4_accuracy: 0.7723 - dense_1_accuracy: 0.6239 - dense_3_accuracy: 0.7113 - val_loss: 0.9848 - val_dense_4_loss: 0.5312 - val_dense_1_loss: 0.8630 - val_dense_3_loss: 0.6488 - val_dense_4_accuracy: 0.7812 - val_dense_1_accuracy: 0.6354 - val_dense_3_accuracy: 0.7253 - 1420s/epoch - 2s/step\n",
      "Epoch 11/20\n",
      "768/768 - 1405s - loss: 1.0255 - dense_4_loss: 0.5598 - dense_1_loss: 0.8869 - dense_3_loss: 0.6656 - dense_4_accuracy: 0.7627 - dense_1_accuracy: 0.6213 - dense_3_accuracy: 0.7140 - val_loss: 0.9810 - val_dense_4_loss: 0.5286 - val_dense_1_loss: 0.8613 - val_dense_3_loss: 0.6469 - val_dense_4_accuracy: 0.7780 - val_dense_1_accuracy: 0.6335 - val_dense_3_accuracy: 0.7259 - 1405s/epoch - 2s/step\n",
      "Epoch 12/20\n",
      "768/768 - 1400s - loss: 1.0175 - dense_4_loss: 0.5515 - dense_1_loss: 0.8844 - dense_3_loss: 0.6689 - dense_4_accuracy: 0.7689 - dense_1_accuracy: 0.6183 - dense_3_accuracy: 0.7186 - val_loss: 0.9802 - val_dense_4_loss: 0.5287 - val_dense_1_loss: 0.8596 - val_dense_3_loss: 0.6455 - val_dense_4_accuracy: 0.7826 - val_dense_1_accuracy: 0.6387 - val_dense_3_accuracy: 0.7201 - 1400s/epoch - 2s/step\n",
      "Epoch 13/20\n",
      "768/768 - 1404s - loss: 1.0135 - dense_4_loss: 0.5492 - dense_1_loss: 0.8805 - dense_3_loss: 0.6669 - dense_4_accuracy: 0.7720 - dense_1_accuracy: 0.6227 - dense_3_accuracy: 0.7227 - val_loss: 0.9742 - val_dense_4_loss: 0.5240 - val_dense_1_loss: 0.8580 - val_dense_3_loss: 0.6426 - val_dense_4_accuracy: 0.7839 - val_dense_1_accuracy: 0.6361 - val_dense_3_accuracy: 0.7266 - 1404s/epoch - 2s/step\n",
      "Epoch 14/20\n",
      "768/768 - 1404s - loss: 1.0122 - dense_4_loss: 0.5466 - dense_1_loss: 0.8857 - dense_3_loss: 0.6663 - dense_4_accuracy: 0.7716 - dense_1_accuracy: 0.6247 - dense_3_accuracy: 0.7266 - val_loss: 0.9716 - val_dense_4_loss: 0.5221 - val_dense_1_loss: 0.8567 - val_dense_3_loss: 0.6418 - val_dense_4_accuracy: 0.7819 - val_dense_1_accuracy: 0.6380 - val_dense_3_accuracy: 0.7292 - 1404s/epoch - 2s/step\n",
      "Epoch 15/20\n",
      "768/768 - 1408s - loss: 1.0110 - dense_4_loss: 0.5494 - dense_1_loss: 0.8781 - dense_3_loss: 0.6604 - dense_4_accuracy: 0.7738 - dense_1_accuracy: 0.6253 - dense_3_accuracy: 0.7233 - val_loss: 0.9752 - val_dense_4_loss: 0.5258 - val_dense_1_loss: 0.8558 - val_dense_3_loss: 0.6422 - val_dense_4_accuracy: 0.7852 - val_dense_1_accuracy: 0.6419 - val_dense_3_accuracy: 0.7233 - 1408s/epoch - 2s/step\n",
      "Epoch 16/20\n",
      "768/768 - 1409s - loss: 1.0025 - dense_4_loss: 0.5394 - dense_1_loss: 0.8785 - dense_3_loss: 0.6652 - dense_4_accuracy: 0.7798 - dense_1_accuracy: 0.6263 - dense_3_accuracy: 0.7183 - val_loss: 0.9654 - val_dense_4_loss: 0.5182 - val_dense_1_loss: 0.8534 - val_dense_3_loss: 0.6374 - val_dense_4_accuracy: 0.7865 - val_dense_1_accuracy: 0.6400 - val_dense_3_accuracy: 0.7292 - 1409s/epoch - 2s/step\n",
      "Epoch 17/20\n",
      "768/768 - 1403s - loss: 0.9998 - dense_4_loss: 0.5387 - dense_1_loss: 0.8775 - dense_3_loss: 0.6596 - dense_4_accuracy: 0.7783 - dense_1_accuracy: 0.6193 - dense_3_accuracy: 0.7225 - val_loss: 0.9634 - val_dense_4_loss: 0.5167 - val_dense_1_loss: 0.8527 - val_dense_3_loss: 0.6363 - val_dense_4_accuracy: 0.7884 - val_dense_1_accuracy: 0.6367 - val_dense_3_accuracy: 0.7318 - 1403s/epoch - 2s/step\n",
      "Epoch 18/20\n",
      "768/768 - 1412s - loss: 0.9994 - dense_4_loss: 0.5408 - dense_1_loss: 0.8723 - dense_3_loss: 0.6561 - dense_4_accuracy: 0.7731 - dense_1_accuracy: 0.6336 - dense_3_accuracy: 0.7244 - val_loss: 0.9592 - val_dense_4_loss: 0.5141 - val_dense_1_loss: 0.8503 - val_dense_3_loss: 0.6332 - val_dense_4_accuracy: 0.7871 - val_dense_1_accuracy: 0.6400 - val_dense_3_accuracy: 0.7305 - 1412s/epoch - 2s/step\n",
      "Epoch 19/20\n",
      "768/768 - 1411s - loss: 0.9917 - dense_4_loss: 0.5358 - dense_1_loss: 0.8684 - dense_3_loss: 0.6512 - dense_4_accuracy: 0.7773 - dense_1_accuracy: 0.6273 - dense_3_accuracy: 0.7295 - val_loss: 0.9565 - val_dense_4_loss: 0.5124 - val_dense_1_loss: 0.8488 - val_dense_3_loss: 0.6314 - val_dense_4_accuracy: 0.7884 - val_dense_1_accuracy: 0.6413 - val_dense_3_accuracy: 0.7318 - 1411s/epoch - 2s/step\n",
      "Epoch 20/20\n",
      "768/768 - 1423s - loss: 0.9905 - dense_4_loss: 0.5348 - dense_1_loss: 0.8680 - dense_3_loss: 0.6510 - dense_4_accuracy: 0.7788 - dense_1_accuracy: 0.6283 - dense_3_accuracy: 0.7318 - val_loss: 0.9523 - val_dense_4_loss: 0.5092 - val_dense_1_loss: 0.8474 - val_dense_3_loss: 0.6296 - val_dense_4_accuracy: 0.7923 - val_dense_1_accuracy: 0.6419 - val_dense_3_accuracy: 0.7350 - 1423s/epoch - 2s/step\n"
     ]
    },
    {
     "name": "stdout",
     "output_type": "stream",
     "text": [
      "Testing time (s) = 28203.969741594978\n",
      "\n",
      "for testing\n",
      "60/60 [==============================] - 91s 2s/step - loss: 0.9777 - dense_4_loss: 0.5294 - dense_1_loss: 0.8532 - dense_3_loss: 0.6409 - dense_4_accuracy: 0.7818 - dense_1_accuracy: 0.6380 - dense_3_accuracy: 0.7234\n",
      "[0.9776585102081299, 0.5294498205184937, 0.8531547784805298, 0.640874445438385, 0.7817708253860474, 0.6380208134651184, 0.723437488079071]\n",
      "for training\n"
     ]
    },
    {
     "name": "stderr",
     "output_type": "stream",
     "text": [
      "2023-01-07 18:46:47.926402: W tensorflow/core/framework/cpu_allocator_impl.cc:82] Allocation of 4644864000 exceeds 10% of free system memory.\n"
     ]
    },
    {
     "name": "stdout",
     "output_type": "stream",
     "text": [
      "240/240 [==============================] - 366s 2s/step - loss: 0.9492 - dense_4_loss: 0.5086 - dense_1_loss: 0.8458 - dense_3_loss: 0.6231 - dense_4_accuracy: 0.7986 - dense_1_accuracy: 0.6501 - dense_3_accuracy: 0.7513\n",
      "[0.9492347240447998, 0.5085824728012085, 0.8457593321800232, 0.6230818033218384, 0.7985677123069763, 0.6501302123069763, 0.7513020634651184]\n"
     ]
    }
   ],
   "source": [
    "for x in range(2,3):\n",
    "    print(\"From epochs: \",20*x+1,\" to \",20+20*x)\n",
    "    tic = start_timer()\n",
    "    model.fit(x_train ,y_train ,batch_size=BATCH_SIZE ,epochs=20, verbose=2, validation_data=(x_val, y_val), shuffle=True)\n",
    "    toc = end_timer()\n",
    "    show_time(tic,toc)\n",
    "    print(\"for testing\")\n",
    "    print(model.evaluate(test_dataset,test_dataset_label))\n",
    "    print(\"for training\")\n",
    "    print(model.evaluate(train_dataset,train_dataset_label))"
   ]
  },
  {
   "cell_type": "code",
   "execution_count": null,
   "id": "f8d5a537",
   "metadata": {},
   "outputs": [],
   "source": []
  }
 ],
 "metadata": {
  "kernelspec": {
   "display_name": "Python 3 (ipykernel)",
   "language": "python",
   "name": "python3"
  },
  "language_info": {
   "codemirror_mode": {
    "name": "ipython",
    "version": 3
   },
   "file_extension": ".py",
   "mimetype": "text/x-python",
   "name": "python",
   "nbconvert_exporter": "python",
   "pygments_lexer": "ipython3",
   "version": "3.10.8"
  }
 },
 "nbformat": 4,
 "nbformat_minor": 5
}
