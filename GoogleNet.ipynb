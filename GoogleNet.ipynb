{
 "cells": [
  {
   "cell_type": "code",
   "execution_count": 1,
   "id": "eb661222",
   "metadata": {},
   "outputs": [],
   "source": [
    "# !pip install opencv-python scikit-learn scikit-image matplotlib spectral keras_tuner vis\n",
    "# !pip install tensorflow numpy pandas\n",
    "# !pip install spectral"
   ]
  },
  {
   "cell_type": "code",
   "execution_count": 2,
   "id": "6b605089",
   "metadata": {},
   "outputs": [
    {
     "name": "stderr",
     "output_type": "stream",
     "text": [
      "2023-01-07 21:52:02.322274: I tensorflow/core/platform/cpu_feature_guard.cc:193] This TensorFlow binary is optimized with oneAPI Deep Neural Network Library (oneDNN) to use the following CPU instructions in performance-critical operations:  SSE4.1 SSE4.2 AVX AVX2 AVX512F FMA\n",
      "To enable them in other operations, rebuild TensorFlow with the appropriate compiler flags.\n"
     ]
    }
   ],
   "source": [
    "import tensorflow as tf"
   ]
  },
  {
   "cell_type": "code",
   "execution_count": 3,
   "id": "c6cc1a38",
   "metadata": {},
   "outputs": [],
   "source": [
    "from tensorflow import keras as keras\n",
    "from keras import layers as layers"
   ]
  },
  {
   "cell_type": "code",
   "execution_count": 4,
   "id": "6c004aea",
   "metadata": {},
   "outputs": [],
   "source": [
    "import os, timeit\n",
    "from skimage.filters import threshold_otsu\n",
    "import numpy as np\n",
    "from math import inf as inf"
   ]
  },
  {
   "cell_type": "code",
   "execution_count": 5,
   "id": "6c9300cb",
   "metadata": {},
   "outputs": [],
   "source": [
    "from spectral.io import envi as envi\n",
    "from spectral import imshow"
   ]
  },
  {
   "cell_type": "code",
   "execution_count": 6,
   "id": "ee790ffe",
   "metadata": {},
   "outputs": [],
   "source": [
    "from sklearn.decomposition import IncrementalPCA"
   ]
  },
  {
   "cell_type": "code",
   "execution_count": 7,
   "id": "bf3717a6",
   "metadata": {},
   "outputs": [],
   "source": [
    "import sys"
   ]
  },
  {
   "cell_type": "code",
   "execution_count": 8,
   "id": "3dd26930",
   "metadata": {},
   "outputs": [
    {
     "name": "stdout",
     "output_type": "stream",
     "text": [
      "Num GPUs Available:  0\n"
     ]
    },
    {
     "name": "stderr",
     "output_type": "stream",
     "text": [
      "2023-01-07 21:52:04.626124: E tensorflow/stream_executor/cuda/cuda_driver.cc:265] failed call to cuInit: CUDA_ERROR_NO_DEVICE: no CUDA-capable device is detected\n",
      "2023-01-07 21:52:04.626159: I tensorflow/stream_executor/cuda/cuda_diagnostics.cc:156] kernel driver does not appear to be running on this host (root1-HP-Z8-G4-Workstation): /proc/driver/nvidia/version does not exist\n"
     ]
    }
   ],
   "source": [
    "print(\"Num GPUs Available: \", len(tf.config.list_physical_devices('GPU')))"
   ]
  },
  {
   "cell_type": "code",
   "execution_count": 9,
   "id": "0f72da7a",
   "metadata": {},
   "outputs": [],
   "source": [
    "from sys import platform\n",
    "DATA_DIRECTORY = \"\"\n",
    "SLASH = \"\"\n",
    "if platform == \"linux\" or platform == \"linux2\":\n",
    "    DATA_DIRECTORY = \"/home/nitintyagi/wheat data/BULK/\"\n",
    "    SLASH = \"/\"\n",
    "elif platform == \"win32\":\n",
    "    DATA_DIRECTORY = \"D:\\mvl\\wheat\\data\\BULK\\\\\"\n",
    "    SLASH=\"\\\\\""
   ]
  },
  {
   "cell_type": "code",
   "execution_count": 10,
   "id": "5979451f",
   "metadata": {},
   "outputs": [],
   "source": [
    "BAND_NUMBER = 60\n",
    "FILLED_AREA_RATIO = 0.9\n",
    "TOTAL_IMAGE_COUNT = 2400\n",
    "IMAGE_COUNT = int(TOTAL_IMAGE_COUNT/4)\n",
    "NUM_VARIETIES = 4\n",
    "\n",
    "IMAGE_WIDTH = 30\n",
    "IMAGE_HEIGHT = 30"
   ]
  },
  {
   "cell_type": "code",
   "execution_count": 11,
   "id": "066f0249",
   "metadata": {},
   "outputs": [],
   "source": [
    "ACTIVATION_TYPE =  \"relu\"\n",
    "BATCH_SIZE = 2*NUM_VARIETIES\n",
    "\n",
    "LEARNING_RATE_BASE = 0.0001"
   ]
  },
  {
   "cell_type": "code",
   "execution_count": 12,
   "id": "6f32e132",
   "metadata": {},
   "outputs": [],
   "source": [
    "from enum import Enum\n",
    "class filter_method(Enum):\n",
    "    none = 0\n",
    "    snv = 1\n",
    "    msc = 2\n",
    "    \n",
    "FILTER = filter_method(0).name"
   ]
  },
  {
   "cell_type": "code",
   "execution_count": 13,
   "id": "2e3a1d3a",
   "metadata": {},
   "outputs": [],
   "source": [
    "from enum import Enum\n",
    " \n",
    "class feature_extraction_method(Enum):\n",
    "    none = 0\n",
    "    pca_loading = 1\n",
    "    lda = 2\n",
    "    ipca = 3\n",
    "\n",
    "FEATURE_EXTRACTION = feature_extraction_method(0).name\n",
    "\n",
    "NUM_OF_BANDS = 3\n",
    "if FEATURE_EXTRACTION == \"pca_loading\" or FEATURE_EXTRACTION == \"ipca\":\n",
    "    NUM_OF_BANDS = 8\n",
    "elif FEATURE_EXTRACTION == \"lda\":\n",
    "    NUM_OF_BANDS = 3\n",
    "    assert NUM_OF_BANDS <= min(NUM_VARIETIES-1,168),\"NUM_OF_BANDS is greater.\"\n",
    "\n",
    "\n",
    "REMOVE_NOISY_BANDS = False\n",
    "FIRST_BAND = 21\n",
    "LAST_BAND = 149"
   ]
  },
  {
   "cell_type": "code",
   "execution_count": 14,
   "id": "e61072a5",
   "metadata": {},
   "outputs": [],
   "source": [
    "def start_timer():\n",
    "    print(\"Testing started\")\n",
    "    return timeit.default_timer()\n",
    "\n",
    "def end_timer():\n",
    "    return timeit.default_timer()\n",
    "\n",
    "def show_time(tic,toc): \n",
    "    test_time = toc - tic\n",
    "    print('Testing time (s) = ' + str(test_time) + '\\n')"
   ]
  },
  {
   "cell_type": "code",
   "execution_count": 15,
   "id": "e16e403c",
   "metadata": {},
   "outputs": [],
   "source": [
    "# List for All varieties\n",
    "VARIETIES = []\n",
    "VARIETIES_CODE = {}\n",
    "\n",
    "for name in os.listdir(DATA_DIRECTORY):\n",
    "    if (name.endswith(\".hdr\") or name.endswith(\".bil\")):\n",
    "        continue\n",
    "    VARIETIES_CODE[name] = len(VARIETIES)\n",
    "    VARIETIES.append(name)\n",
    "    if len(VARIETIES)==NUM_VARIETIES:\n",
    "        break"
   ]
  },
  {
   "cell_type": "code",
   "execution_count": 16,
   "id": "72409e2c",
   "metadata": {},
   "outputs": [],
   "source": [
    "def dataset_file_name(variety):\n",
    "    return \"./dataset/V\"+str(variety).zfill(3)+\"_IC_\"+str(TOTAL_IMAGE_COUNT).zfill(5)+\"_FilledArea_\"+str(FILLED_AREA_RATIO)+\"_NumOfBands_\"+str(NUM_OF_BANDS)+\"_FB_\"+str(FIRST_BAND)+\"_LB_\"+str(LAST_BAND)+\"_BandNo_\"+str(BAND_NUMBER)+\"_ImageHeight_\"+str(IMAGE_HEIGHT)+\"_ImageWidth_\"+str(IMAGE_WIDTH)+\"_FILTER_\"+str(FILTER)+\"_FeatureExtraction_\"+str(FEATURE_EXTRACTION)+\"_REMOVE_NOISY_BANDS_\"+str(REMOVE_NOISY_BANDS)"
   ]
  },
  {
   "cell_type": "code",
   "execution_count": 17,
   "id": "e74afa6d",
   "metadata": {},
   "outputs": [
    {
     "name": "stdout",
     "output_type": "stream",
     "text": [
      "idx:  0\n",
      "idx:  1\n",
      "idx:  2\n",
      "idx:  3\n"
     ]
    }
   ],
   "source": [
    "train_dataset = []\n",
    "train_dataset_label = []\n",
    "test_dataset=[]\n",
    "test_dataset_label = []\n",
    "\n",
    "for idx, v in enumerate(VARIETIES):\n",
    "    print(\"idx: \",idx)\n",
    "    if idx >= NUM_VARIETIES:\n",
    "        break\n",
    "    train_dataset= train_dataset + np.load(dataset_file_name(v)+\"_train_dataset.npy\").tolist()\n",
    "    train_dataset_label = train_dataset_label + np.load(dataset_file_name(v)+\"_train_dataset_label.npy\").tolist()\n",
    "    test_dataset = test_dataset + np.load(dataset_file_name(v)+\"_test_dataset.npy\").tolist()\n",
    "    test_dataset_label = test_dataset_label + np.load(dataset_file_name(v)+\"_test_dataset_label.npy\").tolist()\n",
    "\n",
    "train_dataset = np.array(train_dataset)\n",
    "train_dataset_label = np.array(train_dataset_label)\n",
    "test_dataset = np.array(test_dataset)\n",
    "test_dataset_label = np.array(test_dataset_label)"
   ]
  },
  {
   "cell_type": "code",
   "execution_count": 18,
   "id": "c752599c",
   "metadata": {},
   "outputs": [],
   "source": [
    "import tensorflow as tf\n",
    "import matplotlib.pyplot as plt\n",
    "from tensorflow.keras import datasets, layers, models, losses, Model\n",
    "from keras.layers import Input, Conv2D, MaxPool2D, MaxPooling2D, Activation, Flatten, Dense, AveragePooling2D, GlobalAveragePooling2D\n",
    "from keras.layers.core import Dropout\n",
    "from keras.optimizers import Adam"
   ]
  },
  {
   "cell_type": "code",
   "execution_count": 19,
   "id": "d48cd5d7",
   "metadata": {},
   "outputs": [],
   "source": [
    "def normalizeDataWholeSeed(data,normalization_type='max'):\n",
    "    \n",
    "    if normalization_type == 'max':\n",
    "        for idx in range(data.shape[0]):\n",
    "            data[idx,:,:,:] = data[idx,:,:,:]/np.max(abs(data[idx,:,:,:]))\n",
    "            \n",
    "    elif normalization_type == 'l2norm':\n",
    "        from numpy import linalg as LA\n",
    "        for idx in range(data.shape[0]):\n",
    "            data[idx,:,:,:] = data[idx,:,:,:]/LA.norm(data[idx,:,:,:])       \n",
    "        \n",
    "    return data"
   ]
  },
  {
   "cell_type": "code",
   "execution_count": 20,
   "id": "aca8be82",
   "metadata": {},
   "outputs": [],
   "source": [
    "def inception(x,filters_1x1,filters_3x3_reduce,filters_3x3,filters_5x5_reduce,filters_5x5,filters_pool,activation_type='relu'):\n",
    "    path1 = Conv2D(filters_1x1,        (1, 1), padding='same', activation=activation_type)(x)\n",
    "    \n",
    "    path2 = Conv2D(filters_3x3_reduce, (1, 1), padding='same', activation=activation_type)(x)\n",
    "    path2 = Conv2D(filters_3x3,        (1, 1), padding='same', activation=activation_type)(path2)\n",
    "    \n",
    "    path3 = Conv2D(filters_5x5_reduce, (1, 1), padding='same', activation=activation_type)(x)\n",
    "    path3 = Conv2D(filters_5x5,        (1, 1), padding='same', activation=activation_type)(path3)\n",
    "    \n",
    "    path4 = MaxPool2D((3, 3),  strides=(1, 1), padding='same')(x)\n",
    "    path4 = Conv2D(filters_pool,       (1, 1), padding='same', activation=activation_type)(path4)\n",
    "    \n",
    "    return tf.concat([path1, path2, path3, path4], axis=3)"
   ]
  },
  {
   "cell_type": "code",
   "execution_count": 21,
   "id": "686f6ade",
   "metadata": {},
   "outputs": [],
   "source": [
    "def auxiliary_classifier(x,num_classes,activation_type='relu'):\n",
    "    aux = AveragePooling2D((5, 5), strides=3)(x)\n",
    "    aux = Conv2D(128, 1, padding='same', activation=activation_type)(aux)\n",
    "    aux = Flatten()(aux)\n",
    "    aux = Dense(1024, activation=activation_type)(aux)\n",
    "    aux = Dropout(0.7)(aux)\n",
    "    aux = Dense(num_classes, activation='softmax')(aux)\n",
    "    return aux"
   ]
  },
  {
   "cell_type": "code",
   "execution_count": 22,
   "id": "43d8a8cf",
   "metadata": {},
   "outputs": [],
   "source": [
    "def GoogleNetModel(data_num_rows, data_num_cols, num_input_chans=1, num_classes=NUM_VARIETIES, activation_type='relu', dropout_rate=0.0):\n",
    "\n",
    "    inp = Input(shape=(data_num_rows, data_num_cols, num_input_chans))\n",
    "    input_tensor = layers.experimental.preprocessing.Resizing(224, 224, interpolation=\"bilinear\", input_shape=train_dataset.shape[1:])(inp)\n",
    "    x = Conv2D(64,  7, strides=2, padding='same', activation=activation_type)(input_tensor)\n",
    "    x = MaxPooling2D(3, strides=2)(x)\n",
    "    x = Conv2D(64,  1, strides=1, padding='same', activation=activation_type)(x)\n",
    "    x = Conv2D(192, 3, strides=1, padding='same', activation=activation_type)(x)\n",
    "    x = MaxPooling2D(3, strides=2)(x)\n",
    "    x = inception(x, filters_1x1=64 , filters_3x3_reduce=96 , filters_3x3=128, filters_5x5_reduce=16, filters_5x5=32, filters_pool=32)\n",
    "    x = inception(x, filters_1x1=128, filters_3x3_reduce=128, filters_3x3=192, filters_5x5_reduce=32, filters_5x5=96, filters_pool=64)\n",
    "    x = MaxPooling2D(3, strides=2)(x)\n",
    "    x = inception(x, filters_1x1=192, filters_3x3_reduce=96 , filters_3x3=208, filters_5x5_reduce=16, filters_5x5=48, filters_pool=64)\n",
    "    \n",
    "    aux1 = auxiliary_classifier(x,num_classes)\n",
    "    \n",
    "    x = inception(x, filters_1x1=160, filters_3x3_reduce=112, filters_3x3=224, filters_5x5_reduce=24, filters_5x5=64, filters_pool=64)\n",
    "    x = inception(x, filters_1x1=128, filters_3x3_reduce=128, filters_3x3=256, filters_5x5_reduce=24, filters_5x5=64, filters_pool=64)\n",
    "    x = inception(x, filters_1x1=112, filters_3x3_reduce=144, filters_3x3=288, filters_5x5_reduce=32, filters_5x5=64, filters_pool=64)\n",
    "    \n",
    "    aux2 = auxiliary_classifier(x,num_classes)\n",
    "    \n",
    "    x = inception(x, filters_1x1=256, filters_3x3_reduce=160, filters_3x3=320, filters_5x5_reduce=32, filters_5x5=128, filters_pool=128)\n",
    "    x = MaxPooling2D(3, strides=2)(x)\n",
    "    x = inception(x, filters_1x1=256, filters_3x3_reduce=160, filters_3x3=320, filters_5x5_reduce=32, filters_5x5=128, filters_pool=128)\n",
    "    x = inception(x, filters_1x1=384, filters_3x3_reduce=192, filters_3x3=384, filters_5x5_reduce=48, filters_5x5=128, filters_pool=128)\n",
    "    x = GlobalAveragePooling2D()(x)\n",
    "    x = Dropout(dropout_rate)(x)\n",
    "    out = Dense(num_classes, activation='softmax')(x)\n",
    "    \n",
    "    return Model(inputs = inp, outputs = [out, aux1, aux2])"
   ]
  },
  {
   "cell_type": "code",
   "execution_count": 23,
   "id": "e3528776",
   "metadata": {},
   "outputs": [],
   "source": [
    "def getGoogleNetModel():\n",
    "    learning_rate_base = LEARNING_RATE_BASE\n",
    "    activation_type = ACTIVATION_TYPE\n",
    "    wheat_types =  VARIETIES\n",
    "    num_classes = len(wheat_types)\n",
    "    dropout_rate = 0.4\n",
    "    print(\"--------------Load Data--------------\")\n",
    "\n",
    "    x_training = np.array(train_dataset)\n",
    "    labels_training = np.array(train_dataset_label)\n",
    "    \n",
    "    # Normalize the data\n",
    "    x_training = normalizeDataWholeSeed(x_training)\n",
    "    \n",
    "    # Extract some information\n",
    "    num_train = x_training.shape[0]\n",
    "    N_spatial = x_training.shape[1:3]\n",
    "    N_channel = x_training.shape[3]\n",
    "    \n",
    "    print(\"--------------Done--------------\")\n",
    "    \n",
    "    ############ Create a model ############\n",
    "    print(\"--------------Create a model--------------\")\n",
    "    \n",
    "    # Generate a model\n",
    "    model = GoogleNetModel(data_num_rows = N_spatial[0], \n",
    "                           data_num_cols = N_spatial[1],\n",
    "                           num_input_chans = N_channel, \n",
    "                           num_classes = num_classes,\n",
    "                           activation_type = activation_type,\n",
    "                           dropout_rate = dropout_rate)\n",
    "\n",
    "    # Compile the model\n",
    "    adam_opt = Adam(learning_rate=LEARNING_RATE_BASE, beta_1=0.9, beta_2=0.999, epsilon=1e-08, decay=0.01)\n",
    "    model.compile(optimizer=adam_opt, loss=[losses.sparse_categorical_crossentropy,losses.sparse_categorical_crossentropy,losses.sparse_categorical_crossentropy],loss_weights=[1, 0.3, 0.3],metrics=['accuracy'])\n",
    "    print(\"---------Completed---------\")\n",
    "    return model"
   ]
  },
  {
   "cell_type": "code",
   "execution_count": 24,
   "id": "9df49795",
   "metadata": {},
   "outputs": [
    {
     "name": "stdout",
     "output_type": "stream",
     "text": [
      "--------------Load Data--------------\n",
      "--------------Done--------------\n",
      "--------------Create a model--------------\n"
     ]
    },
    {
     "name": "stderr",
     "output_type": "stream",
     "text": [
      "2023-01-07 21:56:47.774811: I tensorflow/core/platform/cpu_feature_guard.cc:193] This TensorFlow binary is optimized with oneAPI Deep Neural Network Library (oneDNN) to use the following CPU instructions in performance-critical operations:  SSE4.1 SSE4.2 AVX AVX2 AVX512F FMA\n",
      "To enable them in other operations, rebuild TensorFlow with the appropriate compiler flags.\n"
     ]
    },
    {
     "name": "stdout",
     "output_type": "stream",
     "text": [
      "---------Completed---------\n"
     ]
    }
   ],
   "source": [
    "model = getGoogleNetModel()"
   ]
  },
  {
   "cell_type": "code",
   "execution_count": 25,
   "id": "5df8cc77",
   "metadata": {},
   "outputs": [],
   "source": [
    "x_train = []\n",
    "y_train = []\n",
    "x_val = []\n",
    "y_val = []\n",
    "\n",
    "for i in range(len(train_dataset)):\n",
    "    if i%5==0:\n",
    "        x_val.append(train_dataset[i])\n",
    "        y_val.append(train_dataset_label[i])\n",
    "    else:\n",
    "        x_train.append(train_dataset[i])\n",
    "        y_train.append(train_dataset_label[i])\n",
    "        \n",
    "x_train = np.array(x_train)\n",
    "y_train = np.array(y_train)\n",
    "y_train = [y_train,y_train,y_train]\n",
    "\n",
    "x_val = np.array(x_val)\n",
    "y_val = np.array(y_val)\n",
    "y_val = [y_val,y_val,y_val]"
   ]
  },
  {
   "cell_type": "code",
   "execution_count": 26,
   "id": "8aa727e4",
   "metadata": {},
   "outputs": [
    {
     "name": "stdout",
     "output_type": "stream",
     "text": [
      "From epochs:  1  to  20\n",
      "Testing started\n",
      "Epoch 1/20\n",
      "768/768 - 1405s - loss: 2.2185 - dense_4_loss: 1.3865 - dense_1_loss: 1.3871 - dense_3_loss: 1.3862 - dense_4_accuracy: 0.2581 - dense_1_accuracy: 0.2575 - dense_3_accuracy: 0.2563 - val_loss: 2.2165 - val_dense_4_loss: 1.3855 - val_dense_1_loss: 1.3848 - val_dense_3_loss: 1.3854 - val_dense_4_accuracy: 0.2500 - val_dense_1_accuracy: 0.2500 - val_dense_3_accuracy: 0.2500 - 1405s/epoch - 2s/step\n",
      "Epoch 2/20\n",
      "768/768 - 1391s - loss: 2.2145 - dense_4_loss: 1.3839 - dense_1_loss: 1.3844 - dense_3_loss: 1.3843 - dense_4_accuracy: 0.2616 - dense_1_accuracy: 0.2549 - dense_3_accuracy: 0.2520 - val_loss: 2.2087 - val_dense_4_loss: 1.3799 - val_dense_1_loss: 1.3819 - val_dense_3_loss: 1.3807 - val_dense_4_accuracy: 0.2591 - val_dense_1_accuracy: 0.2500 - val_dense_3_accuracy: 0.2500 - 1391s/epoch - 2s/step\n",
      "Epoch 3/20\n",
      "768/768 - 1390s - loss: 2.1908 - dense_4_loss: 1.3655 - dense_1_loss: 1.3797 - dense_3_loss: 1.3713 - dense_4_accuracy: 0.3439 - dense_1_accuracy: 0.2583 - dense_3_accuracy: 0.2876 - val_loss: 2.1746 - val_dense_4_loss: 1.3524 - val_dense_1_loss: 1.3782 - val_dense_3_loss: 1.3626 - val_dense_4_accuracy: 0.2793 - val_dense_1_accuracy: 0.2500 - val_dense_3_accuracy: 0.2526 - 1390s/epoch - 2s/step\n",
      "Epoch 4/20\n",
      "768/768 - 1391s - loss: 2.1065 - dense_4_loss: 1.2930 - dense_1_loss: 1.3762 - dense_3_loss: 1.3355 - dense_4_accuracy: 0.4225 - dense_1_accuracy: 0.2541 - dense_3_accuracy: 0.3740 - val_loss: 2.0305 - val_dense_4_loss: 1.2262 - val_dense_1_loss: 1.3741 - val_dense_3_loss: 1.3069 - val_dense_4_accuracy: 0.4785 - val_dense_1_accuracy: 0.2500 - val_dense_3_accuracy: 0.4193 - 1391s/epoch - 2s/step\n",
      "Epoch 5/20\n",
      "768/768 - 1395s - loss: 1.9824 - dense_4_loss: 1.1843 - dense_1_loss: 1.3749 - dense_3_loss: 1.2855 - dense_4_accuracy: 0.4814 - dense_1_accuracy: 0.2580 - dense_3_accuracy: 0.4377 - val_loss: 1.9136 - val_dense_4_loss: 1.1244 - val_dense_1_loss: 1.3721 - val_dense_3_loss: 1.2583 - val_dense_4_accuracy: 0.5033 - val_dense_1_accuracy: 0.2500 - val_dense_3_accuracy: 0.4531 - 1395s/epoch - 2s/step\n",
      "Epoch 6/20\n",
      "768/768 - 1397s - loss: 1.8863 - dense_4_loss: 1.1024 - dense_1_loss: 1.3723 - dense_3_loss: 1.2405 - dense_4_accuracy: 0.5052 - dense_1_accuracy: 0.2725 - dense_3_accuracy: 0.4774 - val_loss: 1.8399 - val_dense_4_loss: 1.0628 - val_dense_1_loss: 1.3703 - val_dense_3_loss: 1.2198 - val_dense_4_accuracy: 0.5299 - val_dense_1_accuracy: 0.2500 - val_dense_3_accuracy: 0.4857 - 1397s/epoch - 2s/step\n",
      "Epoch 7/20\n",
      "768/768 - 1396s - loss: 1.8317 - dense_4_loss: 1.0578 - dense_1_loss: 1.3707 - dense_3_loss: 1.2090 - dense_4_accuracy: 0.5153 - dense_1_accuracy: 0.2837 - dense_3_accuracy: 0.4827 - val_loss: 1.7983 - val_dense_4_loss: 1.0300 - val_dense_1_loss: 1.3688 - val_dense_3_loss: 1.1920 - val_dense_4_accuracy: 0.5234 - val_dense_1_accuracy: 0.2539 - val_dense_3_accuracy: 0.4772 - 1396s/epoch - 2s/step\n",
      "Epoch 8/20\n",
      "768/768 - 1398s - loss: 1.7947 - dense_4_loss: 1.0280 - dense_1_loss: 1.3690 - dense_3_loss: 1.1867 - dense_4_accuracy: 0.5260 - dense_1_accuracy: 0.2956 - dense_3_accuracy: 0.4849 - val_loss: 1.7631 - val_dense_4_loss: 1.0021 - val_dense_1_loss: 1.3677 - val_dense_3_loss: 1.1690 - val_dense_4_accuracy: 0.5417 - val_dense_1_accuracy: 0.2565 - val_dense_3_accuracy: 0.4922 - 1398s/epoch - 2s/step\n",
      "Epoch 9/20\n",
      "768/768 - 1394s - loss: 1.7688 - dense_4_loss: 1.0072 - dense_1_loss: 1.3693 - dense_3_loss: 1.1691 - dense_4_accuracy: 0.5316 - dense_1_accuracy: 0.3026 - dense_3_accuracy: 0.4927 - val_loss: 1.7446 - val_dense_4_loss: 0.9889 - val_dense_1_loss: 1.3664 - val_dense_3_loss: 1.1523 - val_dense_4_accuracy: 0.5547 - val_dense_1_accuracy: 0.2663 - val_dense_3_accuracy: 0.5046 - 1394s/epoch - 2s/step\n",
      "Epoch 10/20\n",
      "768/768 - 1398s - loss: 1.7538 - dense_4_loss: 0.9978 - dense_1_loss: 1.3668 - dense_3_loss: 1.1534 - dense_4_accuracy: 0.5301 - dense_1_accuracy: 0.3123 - dense_3_accuracy: 0.4937 - val_loss: 1.7411 - val_dense_4_loss: 0.9892 - val_dense_1_loss: 1.3654 - val_dense_3_loss: 1.1409 - val_dense_4_accuracy: 0.5566 - val_dense_1_accuracy: 0.2715 - val_dense_3_accuracy: 0.5208 - 1398s/epoch - 2s/step\n",
      "Epoch 11/20\n",
      "768/768 - 1397s - loss: 1.7399 - dense_4_loss: 0.9877 - dense_1_loss: 1.3668 - dense_3_loss: 1.1404 - dense_4_accuracy: 0.5365 - dense_1_accuracy: 0.3060 - dense_3_accuracy: 0.5016 - val_loss: 1.7141 - val_dense_4_loss: 0.9669 - val_dense_1_loss: 1.3646 - val_dense_3_loss: 1.1259 - val_dense_4_accuracy: 0.5605 - val_dense_1_accuracy: 0.2728 - val_dense_3_accuracy: 0.5085 - 1397s/epoch - 2s/step\n",
      "Epoch 12/20\n",
      "768/768 - 1397s - loss: 1.7245 - dense_4_loss: 0.9772 - dense_1_loss: 1.3647 - dense_3_loss: 1.1263 - dense_4_accuracy: 0.5426 - dense_1_accuracy: 0.3216 - dense_3_accuracy: 0.5068 - val_loss: 1.7102 - val_dense_4_loss: 0.9660 - val_dense_1_loss: 1.3634 - val_dense_3_loss: 1.1173 - val_dense_4_accuracy: 0.5638 - val_dense_1_accuracy: 0.2832 - val_dense_3_accuracy: 0.5221 - 1397s/epoch - 2s/step\n",
      "Epoch 13/20\n",
      "768/768 - 1404s - loss: 1.7131 - dense_4_loss: 0.9685 - dense_1_loss: 1.3642 - dense_3_loss: 1.1178 - dense_4_accuracy: 0.5382 - dense_1_accuracy: 0.3231 - dense_3_accuracy: 0.5065 - val_loss: 1.7025 - val_dense_4_loss: 0.9611 - val_dense_1_loss: 1.3628 - val_dense_3_loss: 1.1084 - val_dense_4_accuracy: 0.5586 - val_dense_1_accuracy: 0.2760 - val_dense_3_accuracy: 0.5078 - 1404s/epoch - 2s/step\n",
      "Epoch 14/20\n",
      "768/768 - 1403s - loss: 1.7136 - dense_4_loss: 0.9715 - dense_1_loss: 1.3635 - dense_3_loss: 1.1102 - dense_4_accuracy: 0.5361 - dense_1_accuracy: 0.3278 - dense_3_accuracy: 0.5062 - val_loss: 1.7021 - val_dense_4_loss: 0.9625 - val_dense_1_loss: 1.3622 - val_dense_3_loss: 1.1031 - val_dense_4_accuracy: 0.5625 - val_dense_1_accuracy: 0.2728 - val_dense_3_accuracy: 0.5091 - 1403s/epoch - 2s/step\n",
      "Epoch 15/20\n",
      "768/768 - 1407s - loss: 1.7005 - dense_4_loss: 0.9611 - dense_1_loss: 1.3639 - dense_3_loss: 1.1007 - dense_4_accuracy: 0.5397 - dense_1_accuracy: 0.3203 - dense_3_accuracy: 0.5129 - val_loss: 1.6793 - val_dense_4_loss: 0.9437 - val_dense_1_loss: 1.3612 - val_dense_3_loss: 1.0908 - val_dense_4_accuracy: 0.5716 - val_dense_1_accuracy: 0.2891 - val_dense_3_accuracy: 0.5260 - 1407s/epoch - 2s/step\n",
      "Epoch 16/20\n",
      "768/768 - 1407s - loss: 1.6949 - dense_4_loss: 0.9564 - dense_1_loss: 1.3643 - dense_3_loss: 1.0971 - dense_4_accuracy: 0.5444 - dense_1_accuracy: 0.3102 - dense_3_accuracy: 0.5078 - val_loss: 1.6755 - val_dense_4_loss: 0.9419 - val_dense_1_loss: 1.3602 - val_dense_3_loss: 1.0851 - val_dense_4_accuracy: 0.5703 - val_dense_1_accuracy: 0.3125 - val_dense_3_accuracy: 0.5319 - 1407s/epoch - 2s/step\n",
      "Epoch 17/20\n",
      "768/768 - 1406s - loss: 1.6914 - dense_4_loss: 0.9561 - dense_1_loss: 1.3607 - dense_3_loss: 1.0904 - dense_4_accuracy: 0.5469 - dense_1_accuracy: 0.3354 - dense_3_accuracy: 0.5135 - val_loss: 1.6704 - val_dense_4_loss: 0.9388 - val_dense_1_loss: 1.3597 - val_dense_3_loss: 1.0788 - val_dense_4_accuracy: 0.5814 - val_dense_1_accuracy: 0.3027 - val_dense_3_accuracy: 0.5286 - 1406s/epoch - 2s/step\n",
      "Epoch 18/20\n",
      "768/768 - 1404s - loss: 1.6815 - dense_4_loss: 0.9487 - dense_1_loss: 1.3595 - dense_3_loss: 1.0831 - dense_4_accuracy: 0.5477 - dense_1_accuracy: 0.3302 - dense_3_accuracy: 0.5186 - val_loss: 1.6639 - val_dense_4_loss: 0.9343 - val_dense_1_loss: 1.3590 - val_dense_3_loss: 1.0730 - val_dense_4_accuracy: 0.5788 - val_dense_1_accuracy: 0.3184 - val_dense_3_accuracy: 0.5326 - 1404s/epoch - 2s/step\n",
      "Epoch 19/20\n",
      "768/768 - 1402s - loss: 1.6817 - dense_4_loss: 0.9499 - dense_1_loss: 1.3597 - dense_3_loss: 1.0794 - dense_4_accuracy: 0.5485 - dense_1_accuracy: 0.3418 - dense_3_accuracy: 0.5163 - val_loss: 1.6637 - val_dense_4_loss: 0.9356 - val_dense_1_loss: 1.3583 - val_dense_3_loss: 1.0688 - val_dense_4_accuracy: 0.5846 - val_dense_1_accuracy: 0.3118 - val_dense_3_accuracy: 0.5345 - 1402s/epoch - 2s/step\n",
      "Epoch 20/20\n",
      "768/768 - 1401s - loss: 1.6778 - dense_4_loss: 0.9476 - dense_1_loss: 1.3610 - dense_3_loss: 1.0730 - dense_4_accuracy: 0.5493 - dense_1_accuracy: 0.3403 - dense_3_accuracy: 0.5213 - val_loss: 1.6564 - val_dense_4_loss: 0.9299 - val_dense_1_loss: 1.3578 - val_dense_3_loss: 1.0638 - val_dense_4_accuracy: 0.5807 - val_dense_1_accuracy: 0.3138 - val_dense_3_accuracy: 0.5326 - 1401s/epoch - 2s/step\n"
     ]
    },
    {
     "name": "stdout",
     "output_type": "stream",
     "text": [
      "Testing time (s) = 27987.10620496911\n",
      "\n",
      "for testing\n",
      "60/60 [==============================] - 92s 2s/step - loss: 1.6496 - dense_4_loss: 0.9266 - dense_1_loss: 1.3560 - dense_3_loss: 1.0538 - dense_4_accuracy: 0.5609 - dense_1_accuracy: 0.3151 - dense_3_accuracy: 0.5307\n",
      "[1.6495716571807861, 0.9266474843025208, 1.3559763431549072, 1.0537701845169067, 0.5609375238418579, 0.3151041567325592, 0.5307291746139526]\n",
      "for training\n"
     ]
    },
    {
     "name": "stderr",
     "output_type": "stream",
     "text": [
      "2023-01-08 05:44:56.704134: W tensorflow/core/framework/cpu_allocator_impl.cc:82] Allocation of 4644864000 exceeds 10% of free system memory.\n"
     ]
    },
    {
     "name": "stdout",
     "output_type": "stream",
     "text": [
      "240/240 [==============================] - 359s 1s/step - loss: 1.6547 - dense_4_loss: 0.9294 - dense_1_loss: 1.3574 - dense_3_loss: 1.0603 - dense_4_accuracy: 0.5746 - dense_1_accuracy: 0.3092 - dense_3_accuracy: 0.5398\n",
      "[1.654682993888855, 0.9293736219406128, 1.3573687076568604, 1.0603262186050415, 0.5746093988418579, 0.3092447817325592, 0.539843738079071]\n",
      "From epochs:  21  to  40\n",
      "Testing started\n",
      "Epoch 1/20\n",
      "768/768 - 1389s - loss: 1.6723 - dense_4_loss: 0.9434 - dense_1_loss: 1.3589 - dense_3_loss: 1.0706 - dense_4_accuracy: 0.5496 - dense_1_accuracy: 0.3398 - dense_3_accuracy: 0.5226 - val_loss: 1.6656 - val_dense_4_loss: 0.9393 - val_dense_1_loss: 1.3574 - val_dense_3_loss: 1.0637 - val_dense_4_accuracy: 0.5820 - val_dense_1_accuracy: 0.3086 - val_dense_3_accuracy: 0.5339 - 1389s/epoch - 2s/step\n",
      "Epoch 2/20\n",
      "768/768 - 1393s - loss: 1.6669 - dense_4_loss: 0.9402 - dense_1_loss: 1.3569 - dense_3_loss: 1.0655 - dense_4_accuracy: 0.5457 - dense_1_accuracy: 0.3444 - dense_3_accuracy: 0.5130 - val_loss: 1.6592 - val_dense_4_loss: 0.9344 - val_dense_1_loss: 1.3568 - val_dense_3_loss: 1.0593 - val_dense_4_accuracy: 0.5885 - val_dense_1_accuracy: 0.3118 - val_dense_3_accuracy: 0.5352 - 1393s/epoch - 2s/step\n",
      "Epoch 3/20\n",
      "768/768 - 1395s - loss: 1.6682 - dense_4_loss: 0.9421 - dense_1_loss: 1.3587 - dense_3_loss: 1.0617 - dense_4_accuracy: 0.5474 - dense_1_accuracy: 0.3420 - dense_3_accuracy: 0.5173 - val_loss: 1.6574 - val_dense_4_loss: 0.9339 - val_dense_1_loss: 1.3561 - val_dense_3_loss: 1.0557 - val_dense_4_accuracy: 0.5853 - val_dense_1_accuracy: 0.3171 - val_dense_3_accuracy: 0.5358 - 1395s/epoch - 2s/step\n",
      "Epoch 4/20\n",
      "768/768 - 1400s - loss: 1.6648 - dense_4_loss: 0.9392 - dense_1_loss: 1.3586 - dense_3_loss: 1.0598 - dense_4_accuracy: 0.5470 - dense_1_accuracy: 0.3374 - dense_3_accuracy: 0.5264 - val_loss: 1.6447 - val_dense_4_loss: 0.9233 - val_dense_1_loss: 1.3554 - val_dense_3_loss: 1.0493 - val_dense_4_accuracy: 0.5827 - val_dense_1_accuracy: 0.3307 - val_dense_3_accuracy: 0.5391 - 1400s/epoch - 2s/step\n",
      "Epoch 5/20\n",
      "768/768 - 1416s - loss: 1.6636 - dense_4_loss: 0.9401 - dense_1_loss: 1.3581 - dense_3_loss: 1.0533 - dense_4_accuracy: 0.5524 - dense_1_accuracy: 0.3470 - dense_3_accuracy: 0.5249 - val_loss: 1.6425 - val_dense_4_loss: 0.9219 - val_dense_1_loss: 1.3550 - val_dense_3_loss: 1.0469 - val_dense_4_accuracy: 0.5807 - val_dense_1_accuracy: 0.3444 - val_dense_3_accuracy: 0.5391 - 1416s/epoch - 2s/step\n",
      "Epoch 6/20\n",
      "768/768 - 1414s - loss: 1.6612 - dense_4_loss: 0.9383 - dense_1_loss: 1.3555 - dense_3_loss: 1.0544 - dense_4_accuracy: 0.5521 - dense_1_accuracy: 0.3548 - dense_3_accuracy: 0.5166 - val_loss: 1.6444 - val_dense_4_loss: 0.9247 - val_dense_1_loss: 1.3545 - val_dense_3_loss: 1.0447 - val_dense_4_accuracy: 0.5911 - val_dense_1_accuracy: 0.3346 - val_dense_3_accuracy: 0.5417 - 1414s/epoch - 2s/step\n",
      "Epoch 7/20\n",
      "768/768 - 1413s - loss: 1.6585 - dense_4_loss: 0.9363 - dense_1_loss: 1.3551 - dense_3_loss: 1.0520 - dense_4_accuracy: 0.5482 - dense_1_accuracy: 0.3560 - dense_3_accuracy: 0.5192 - val_loss: 1.6404 - val_dense_4_loss: 0.9217 - val_dense_1_loss: 1.3540 - val_dense_3_loss: 1.0417 - val_dense_4_accuracy: 0.5879 - val_dense_1_accuracy: 0.3405 - val_dense_3_accuracy: 0.5456 - 1413s/epoch - 2s/step\n",
      "Epoch 8/20\n",
      "768/768 - 1416s - loss: 1.6559 - dense_4_loss: 0.9344 - dense_1_loss: 1.3543 - dense_3_loss: 1.0508 - dense_4_accuracy: 0.5451 - dense_1_accuracy: 0.3543 - dense_3_accuracy: 0.5220 - val_loss: 1.6434 - val_dense_4_loss: 0.9252 - val_dense_1_loss: 1.3536 - val_dense_3_loss: 1.0406 - val_dense_4_accuracy: 0.5885 - val_dense_1_accuracy: 0.3353 - val_dense_3_accuracy: 0.5417 - 1416s/epoch - 2s/step\n",
      "Epoch 9/20\n",
      "768/768 - 1417s - loss: 1.6539 - dense_4_loss: 0.9336 - dense_1_loss: 1.3541 - dense_3_loss: 1.0466 - dense_4_accuracy: 0.5549 - dense_1_accuracy: 0.3615 - dense_3_accuracy: 0.5234 - val_loss: 1.6552 - val_dense_4_loss: 0.9364 - val_dense_1_loss: 1.3532 - val_dense_3_loss: 1.0427 - val_dense_4_accuracy: 0.5853 - val_dense_1_accuracy: 0.3353 - val_dense_3_accuracy: 0.5384 - 1417s/epoch - 2s/step\n",
      "Epoch 10/20\n",
      "768/768 - 1408s - loss: 1.6526 - dense_4_loss: 0.9336 - dense_1_loss: 1.3546 - dense_3_loss: 1.0422 - dense_4_accuracy: 0.5529 - dense_1_accuracy: 0.3612 - dense_3_accuracy: 0.5210 - val_loss: 1.6665 - val_dense_4_loss: 0.9470 - val_dense_1_loss: 1.3528 - val_dense_3_loss: 1.0454 - val_dense_4_accuracy: 0.5814 - val_dense_1_accuracy: 0.3301 - val_dense_3_accuracy: 0.5352 - 1408s/epoch - 2s/step\n",
      "Epoch 11/20\n",
      "768/768 - 1407s - loss: 1.6507 - dense_4_loss: 0.9320 - dense_1_loss: 1.3554 - dense_3_loss: 1.0401 - dense_4_accuracy: 0.5539 - dense_1_accuracy: 0.3563 - dense_3_accuracy: 0.5291 - val_loss: 1.6304 - val_dense_4_loss: 0.9152 - val_dense_1_loss: 1.3522 - val_dense_3_loss: 1.0317 - val_dense_4_accuracy: 0.5859 - val_dense_1_accuracy: 0.3470 - val_dense_3_accuracy: 0.5456 - 1407s/epoch - 2s/step\n",
      "Epoch 12/20\n",
      "768/768 - 1407s - loss: 1.6461 - dense_4_loss: 0.9283 - dense_1_loss: 1.3517 - dense_3_loss: 1.0409 - dense_4_accuracy: 0.5511 - dense_1_accuracy: 0.3613 - dense_3_accuracy: 0.5231 - val_loss: 1.6283 - val_dense_4_loss: 0.9139 - val_dense_1_loss: 1.3516 - val_dense_3_loss: 1.0295 - val_dense_4_accuracy: 0.5801 - val_dense_1_accuracy: 0.3561 - val_dense_3_accuracy: 0.5443 - 1407s/epoch - 2s/step\n",
      "Epoch 13/20\n",
      "768/768 - 1409s - loss: 1.6426 - dense_4_loss: 0.9252 - dense_1_loss: 1.3531 - dense_3_loss: 1.0381 - dense_4_accuracy: 0.5636 - dense_1_accuracy: 0.3574 - dense_3_accuracy: 0.5246 - val_loss: 1.6288 - val_dense_4_loss: 0.9150 - val_dense_1_loss: 1.3514 - val_dense_3_loss: 1.0281 - val_dense_4_accuracy: 0.5911 - val_dense_1_accuracy: 0.3477 - val_dense_3_accuracy: 0.5469 - 1409s/epoch - 2s/step\n",
      "Epoch 14/20\n",
      "768/768 - 1402s - loss: 1.6408 - dense_4_loss: 0.9248 - dense_1_loss: 1.3535 - dense_3_loss: 1.0331 - dense_4_accuracy: 0.5470 - dense_1_accuracy: 0.3605 - dense_3_accuracy: 0.5285 - val_loss: 1.6260 - val_dense_4_loss: 0.9130 - val_dense_1_loss: 1.3509 - val_dense_3_loss: 1.0257 - val_dense_4_accuracy: 0.5898 - val_dense_1_accuracy: 0.3535 - val_dense_3_accuracy: 0.5482 - 1402s/epoch - 2s/step\n",
      "Epoch 15/20\n",
      "768/768 - 1403s - loss: 1.6415 - dense_4_loss: 0.9264 - dense_1_loss: 1.3514 - dense_3_loss: 1.0322 - dense_4_accuracy: 0.5514 - dense_1_accuracy: 0.3729 - dense_3_accuracy: 0.5251 - val_loss: 1.6234 - val_dense_4_loss: 0.9112 - val_dense_1_loss: 1.3505 - val_dense_3_loss: 1.0238 - val_dense_4_accuracy: 0.5872 - val_dense_1_accuracy: 0.3574 - val_dense_3_accuracy: 0.5501 - 1403s/epoch - 2s/step\n",
      "Epoch 16/20\n",
      "768/768 - 1406s - loss: 1.6389 - dense_4_loss: 0.9236 - dense_1_loss: 1.3526 - dense_3_loss: 1.0315 - dense_4_accuracy: 0.5562 - dense_1_accuracy: 0.3590 - dense_3_accuracy: 0.5290 - val_loss: 1.6316 - val_dense_4_loss: 0.9186 - val_dense_1_loss: 1.3500 - val_dense_3_loss: 1.0266 - val_dense_4_accuracy: 0.5853 - val_dense_1_accuracy: 0.3737 - val_dense_3_accuracy: 0.5553 - 1406s/epoch - 2s/step\n",
      "Epoch 17/20\n",
      "768/768 - 1407s - loss: 1.6409 - dense_4_loss: 0.9269 - dense_1_loss: 1.3518 - dense_3_loss: 1.0282 - dense_4_accuracy: 0.5529 - dense_1_accuracy: 0.3595 - dense_3_accuracy: 0.5365 - val_loss: 1.6216 - val_dense_4_loss: 0.9103 - val_dense_1_loss: 1.3499 - val_dense_3_loss: 1.0211 - val_dense_4_accuracy: 0.5859 - val_dense_1_accuracy: 0.3548 - val_dense_3_accuracy: 0.5488 - 1407s/epoch - 2s/step\n",
      "Epoch 18/20\n",
      "768/768 - 1421s - loss: 1.6385 - dense_4_loss: 0.9243 - dense_1_loss: 1.3511 - dense_3_loss: 1.0296 - dense_4_accuracy: 0.5535 - dense_1_accuracy: 0.3688 - dense_3_accuracy: 0.5269 - val_loss: 1.6196 - val_dense_4_loss: 0.9089 - val_dense_1_loss: 1.3494 - val_dense_3_loss: 1.0195 - val_dense_4_accuracy: 0.5879 - val_dense_1_accuracy: 0.3633 - val_dense_3_accuracy: 0.5508 - 1421s/epoch - 2s/step\n",
      "Epoch 19/20\n",
      "768/768 - 1427s - loss: 1.6338 - dense_4_loss: 0.9207 - dense_1_loss: 1.3505 - dense_3_loss: 1.0266 - dense_4_accuracy: 0.5583 - dense_1_accuracy: 0.3662 - dense_3_accuracy: 0.5246 - val_loss: 1.6189 - val_dense_4_loss: 0.9089 - val_dense_1_loss: 1.3490 - val_dense_3_loss: 1.0179 - val_dense_4_accuracy: 0.5866 - val_dense_1_accuracy: 0.3574 - val_dense_3_accuracy: 0.5469 - 1427s/epoch - 2s/step\n",
      "Epoch 20/20\n"
     ]
    },
    {
     "name": "stdout",
     "output_type": "stream",
     "text": [
      "768/768 - 1419s - loss: 1.6343 - dense_4_loss: 0.9225 - dense_1_loss: 1.3493 - dense_3_loss: 1.0234 - dense_4_accuracy: 0.5542 - dense_1_accuracy: 0.3704 - dense_3_accuracy: 0.5306 - val_loss: 1.6297 - val_dense_4_loss: 0.9189 - val_dense_1_loss: 1.3487 - val_dense_3_loss: 1.0206 - val_dense_4_accuracy: 0.5924 - val_dense_1_accuracy: 0.3496 - val_dense_3_accuracy: 0.5475 - 1419s/epoch - 2s/step\n",
      "Testing time (s) = 28176.993957640836\n",
      "\n",
      "for testing\n",
      "60/60 [==============================] - 90s 2s/step - loss: 1.6190 - dense_4_loss: 0.9123 - dense_1_loss: 1.3465 - dense_3_loss: 1.0094 - dense_4_accuracy: 0.5729 - dense_1_accuracy: 0.3630 - dense_3_accuracy: 0.5380\n",
      "[1.6190483570098877, 0.912279486656189, 1.3464781045913696, 1.0094172954559326, 0.5729166865348816, 0.3630208373069763, 0.5380208492279053]\n",
      "for training\n"
     ]
    },
    {
     "name": "stderr",
     "output_type": "stream",
     "text": [
      "2023-01-08 13:42:12.950698: W tensorflow/core/framework/cpu_allocator_impl.cc:82] Allocation of 4644864000 exceeds 10% of free system memory.\n"
     ]
    },
    {
     "name": "stdout",
     "output_type": "stream",
     "text": [
      "240/240 [==============================] - 372s 2s/step - loss: 1.6242 - dense_4_loss: 0.9149 - dense_1_loss: 1.3482 - dense_3_loss: 1.0160 - dense_4_accuracy: 0.5841 - dense_1_accuracy: 0.3482 - dense_3_accuracy: 0.5408\n",
      "[1.624155044555664, 0.9149137139320374, 1.3481775522232056, 1.0159603357315063, 0.5841146111488342, 0.34817707538604736, 0.5407552123069763]\n"
     ]
    }
   ],
   "source": [
    "for x in range(2):\n",
    "    print(\"From epochs: \",20*x+1,\" to \",20+20*x)\n",
    "    tic = start_timer()\n",
    "    model.fit(x_train ,y_train ,batch_size=BATCH_SIZE ,epochs=20, verbose=2, validation_data=(x_val, y_val), shuffle=True)\n",
    "    toc = end_timer()\n",
    "    show_time(tic,toc)\n",
    "    print(\"for testing\")\n",
    "    print(model.evaluate(test_dataset,test_dataset_label))\n",
    "    print(\"for training\")\n",
    "    print(model.evaluate(train_dataset,train_dataset_label))"
   ]
  },
  {
   "cell_type": "code",
   "execution_count": 27,
   "id": "b89c2d88",
   "metadata": {},
   "outputs": [
    {
     "name": "stdout",
     "output_type": "stream",
     "text": [
      "Model: \"model\"\n",
      "__________________________________________________________________________________________________\n",
      " Layer (type)                   Output Shape         Param #     Connected to                     \n",
      "==================================================================================================\n",
      " input_1 (InputLayer)           [(None, 30, 30, 168  0           []                               \n",
      "                                )]                                                                \n",
      "                                                                                                  \n",
      " resizing (Resizing)            (None, 224, 224, 16  0           ['input_1[0][0]']                \n",
      "                                8)                                                                \n",
      "                                                                                                  \n",
      " conv2d (Conv2D)                (None, 112, 112, 64  526912      ['resizing[0][0]']               \n",
      "                                )                                                                 \n",
      "                                                                                                  \n",
      " max_pooling2d (MaxPooling2D)   (None, 55, 55, 64)   0           ['conv2d[0][0]']                 \n",
      "                                                                                                  \n",
      " conv2d_1 (Conv2D)              (None, 55, 55, 64)   4160        ['max_pooling2d[0][0]']          \n",
      "                                                                                                  \n",
      " conv2d_2 (Conv2D)              (None, 55, 55, 192)  110784      ['conv2d_1[0][0]']               \n",
      "                                                                                                  \n",
      " max_pooling2d_1 (MaxPooling2D)  (None, 27, 27, 192)  0          ['conv2d_2[0][0]']               \n",
      "                                                                                                  \n",
      " conv2d_4 (Conv2D)              (None, 27, 27, 96)   18528       ['max_pooling2d_1[0][0]']        \n",
      "                                                                                                  \n",
      " conv2d_6 (Conv2D)              (None, 27, 27, 16)   3088        ['max_pooling2d_1[0][0]']        \n",
      "                                                                                                  \n",
      " max_pooling2d_2 (MaxPooling2D)  (None, 27, 27, 192)  0          ['max_pooling2d_1[0][0]']        \n",
      "                                                                                                  \n",
      " conv2d_3 (Conv2D)              (None, 27, 27, 64)   12352       ['max_pooling2d_1[0][0]']        \n",
      "                                                                                                  \n",
      " conv2d_5 (Conv2D)              (None, 27, 27, 128)  12416       ['conv2d_4[0][0]']               \n",
      "                                                                                                  \n",
      " conv2d_7 (Conv2D)              (None, 27, 27, 32)   544         ['conv2d_6[0][0]']               \n",
      "                                                                                                  \n",
      " conv2d_8 (Conv2D)              (None, 27, 27, 32)   6176        ['max_pooling2d_2[0][0]']        \n",
      "                                                                                                  \n",
      " tf.concat (TFOpLambda)         (None, 27, 27, 256)  0           ['conv2d_3[0][0]',               \n",
      "                                                                  'conv2d_5[0][0]',               \n",
      "                                                                  'conv2d_7[0][0]',               \n",
      "                                                                  'conv2d_8[0][0]']               \n",
      "                                                                                                  \n",
      " conv2d_10 (Conv2D)             (None, 27, 27, 128)  32896       ['tf.concat[0][0]']              \n",
      "                                                                                                  \n",
      " conv2d_12 (Conv2D)             (None, 27, 27, 32)   8224        ['tf.concat[0][0]']              \n",
      "                                                                                                  \n",
      " max_pooling2d_3 (MaxPooling2D)  (None, 27, 27, 256)  0          ['tf.concat[0][0]']              \n",
      "                                                                                                  \n",
      " conv2d_9 (Conv2D)              (None, 27, 27, 128)  32896       ['tf.concat[0][0]']              \n",
      "                                                                                                  \n",
      " conv2d_11 (Conv2D)             (None, 27, 27, 192)  24768       ['conv2d_10[0][0]']              \n",
      "                                                                                                  \n",
      " conv2d_13 (Conv2D)             (None, 27, 27, 96)   3168        ['conv2d_12[0][0]']              \n",
      "                                                                                                  \n",
      " conv2d_14 (Conv2D)             (None, 27, 27, 64)   16448       ['max_pooling2d_3[0][0]']        \n",
      "                                                                                                  \n",
      " tf.concat_1 (TFOpLambda)       (None, 27, 27, 480)  0           ['conv2d_9[0][0]',               \n",
      "                                                                  'conv2d_11[0][0]',              \n",
      "                                                                  'conv2d_13[0][0]',              \n",
      "                                                                  'conv2d_14[0][0]']              \n",
      "                                                                                                  \n",
      " max_pooling2d_4 (MaxPooling2D)  (None, 13, 13, 480)  0          ['tf.concat_1[0][0]']            \n",
      "                                                                                                  \n",
      " conv2d_16 (Conv2D)             (None, 13, 13, 96)   46176       ['max_pooling2d_4[0][0]']        \n",
      "                                                                                                  \n",
      " conv2d_18 (Conv2D)             (None, 13, 13, 16)   7696        ['max_pooling2d_4[0][0]']        \n",
      "                                                                                                  \n",
      " max_pooling2d_5 (MaxPooling2D)  (None, 13, 13, 480)  0          ['max_pooling2d_4[0][0]']        \n",
      "                                                                                                  \n",
      " conv2d_15 (Conv2D)             (None, 13, 13, 192)  92352       ['max_pooling2d_4[0][0]']        \n",
      "                                                                                                  \n",
      " conv2d_17 (Conv2D)             (None, 13, 13, 208)  20176       ['conv2d_16[0][0]']              \n",
      "                                                                                                  \n",
      " conv2d_19 (Conv2D)             (None, 13, 13, 48)   816         ['conv2d_18[0][0]']              \n",
      "                                                                                                  \n",
      " conv2d_20 (Conv2D)             (None, 13, 13, 64)   30784       ['max_pooling2d_5[0][0]']        \n",
      "                                                                                                  \n",
      " tf.concat_2 (TFOpLambda)       (None, 13, 13, 512)  0           ['conv2d_15[0][0]',              \n",
      "                                                                  'conv2d_17[0][0]',              \n",
      "                                                                  'conv2d_19[0][0]',              \n",
      "                                                                  'conv2d_20[0][0]']              \n",
      "                                                                                                  \n",
      " conv2d_23 (Conv2D)             (None, 13, 13, 112)  57456       ['tf.concat_2[0][0]']            \n",
      "                                                                                                  \n",
      " conv2d_25 (Conv2D)             (None, 13, 13, 24)   12312       ['tf.concat_2[0][0]']            \n",
      "                                                                                                  \n"
     ]
    },
    {
     "name": "stdout",
     "output_type": "stream",
     "text": [
      " max_pooling2d_6 (MaxPooling2D)  (None, 13, 13, 512)  0          ['tf.concat_2[0][0]']            \n",
      "                                                                                                  \n",
      " conv2d_22 (Conv2D)             (None, 13, 13, 160)  82080       ['tf.concat_2[0][0]']            \n",
      "                                                                                                  \n",
      " conv2d_24 (Conv2D)             (None, 13, 13, 224)  25312       ['conv2d_23[0][0]']              \n",
      "                                                                                                  \n",
      " conv2d_26 (Conv2D)             (None, 13, 13, 64)   1600        ['conv2d_25[0][0]']              \n",
      "                                                                                                  \n",
      " conv2d_27 (Conv2D)             (None, 13, 13, 64)   32832       ['max_pooling2d_6[0][0]']        \n",
      "                                                                                                  \n",
      " tf.concat_3 (TFOpLambda)       (None, 13, 13, 512)  0           ['conv2d_22[0][0]',              \n",
      "                                                                  'conv2d_24[0][0]',              \n",
      "                                                                  'conv2d_26[0][0]',              \n",
      "                                                                  'conv2d_27[0][0]']              \n",
      "                                                                                                  \n",
      " conv2d_29 (Conv2D)             (None, 13, 13, 128)  65664       ['tf.concat_3[0][0]']            \n",
      "                                                                                                  \n",
      " conv2d_31 (Conv2D)             (None, 13, 13, 24)   12312       ['tf.concat_3[0][0]']            \n",
      "                                                                                                  \n",
      " max_pooling2d_7 (MaxPooling2D)  (None, 13, 13, 512)  0          ['tf.concat_3[0][0]']            \n",
      "                                                                                                  \n",
      " conv2d_28 (Conv2D)             (None, 13, 13, 128)  65664       ['tf.concat_3[0][0]']            \n",
      "                                                                                                  \n",
      " conv2d_30 (Conv2D)             (None, 13, 13, 256)  33024       ['conv2d_29[0][0]']              \n",
      "                                                                                                  \n",
      " conv2d_32 (Conv2D)             (None, 13, 13, 64)   1600        ['conv2d_31[0][0]']              \n",
      "                                                                                                  \n",
      " conv2d_33 (Conv2D)             (None, 13, 13, 64)   32832       ['max_pooling2d_7[0][0]']        \n",
      "                                                                                                  \n",
      " tf.concat_4 (TFOpLambda)       (None, 13, 13, 512)  0           ['conv2d_28[0][0]',              \n",
      "                                                                  'conv2d_30[0][0]',              \n",
      "                                                                  'conv2d_32[0][0]',              \n",
      "                                                                  'conv2d_33[0][0]']              \n",
      "                                                                                                  \n",
      " conv2d_35 (Conv2D)             (None, 13, 13, 144)  73872       ['tf.concat_4[0][0]']            \n",
      "                                                                                                  \n",
      " conv2d_37 (Conv2D)             (None, 13, 13, 32)   16416       ['tf.concat_4[0][0]']            \n",
      "                                                                                                  \n",
      " max_pooling2d_8 (MaxPooling2D)  (None, 13, 13, 512)  0          ['tf.concat_4[0][0]']            \n",
      "                                                                                                  \n",
      " conv2d_34 (Conv2D)             (None, 13, 13, 112)  57456       ['tf.concat_4[0][0]']            \n",
      "                                                                                                  \n",
      " conv2d_36 (Conv2D)             (None, 13, 13, 288)  41760       ['conv2d_35[0][0]']              \n",
      "                                                                                                  \n",
      " conv2d_38 (Conv2D)             (None, 13, 13, 64)   2112        ['conv2d_37[0][0]']              \n",
      "                                                                                                  \n",
      " conv2d_39 (Conv2D)             (None, 13, 13, 64)   32832       ['max_pooling2d_8[0][0]']        \n",
      "                                                                                                  \n",
      " tf.concat_5 (TFOpLambda)       (None, 13, 13, 528)  0           ['conv2d_34[0][0]',              \n",
      "                                                                  'conv2d_36[0][0]',              \n",
      "                                                                  'conv2d_38[0][0]',              \n",
      "                                                                  'conv2d_39[0][0]']              \n",
      "                                                                                                  \n",
      " conv2d_42 (Conv2D)             (None, 13, 13, 160)  84640       ['tf.concat_5[0][0]']            \n",
      "                                                                                                  \n",
      " conv2d_44 (Conv2D)             (None, 13, 13, 32)   16928       ['tf.concat_5[0][0]']            \n",
      "                                                                                                  \n",
      " max_pooling2d_9 (MaxPooling2D)  (None, 13, 13, 528)  0          ['tf.concat_5[0][0]']            \n",
      "                                                                                                  \n",
      " conv2d_41 (Conv2D)             (None, 13, 13, 256)  135424      ['tf.concat_5[0][0]']            \n",
      "                                                                                                  \n",
      " conv2d_43 (Conv2D)             (None, 13, 13, 320)  51520       ['conv2d_42[0][0]']              \n",
      "                                                                                                  \n",
      " conv2d_45 (Conv2D)             (None, 13, 13, 128)  4224        ['conv2d_44[0][0]']              \n",
      "                                                                                                  \n",
      " conv2d_46 (Conv2D)             (None, 13, 13, 128)  67712       ['max_pooling2d_9[0][0]']        \n",
      "                                                                                                  \n",
      " tf.concat_6 (TFOpLambda)       (None, 13, 13, 832)  0           ['conv2d_41[0][0]',              \n",
      "                                                                  'conv2d_43[0][0]',              \n",
      "                                                                  'conv2d_45[0][0]',              \n",
      "                                                                  'conv2d_46[0][0]']              \n",
      "                                                                                                  \n",
      " max_pooling2d_10 (MaxPooling2D  (None, 6, 6, 832)   0           ['tf.concat_6[0][0]']            \n",
      " )                                                                                                \n",
      "                                                                                                  \n",
      " conv2d_48 (Conv2D)             (None, 6, 6, 160)    133280      ['max_pooling2d_10[0][0]']       \n",
      "                                                                                                  \n",
      " conv2d_50 (Conv2D)             (None, 6, 6, 32)     26656       ['max_pooling2d_10[0][0]']       \n",
      "                                                                                                  \n",
      " max_pooling2d_11 (MaxPooling2D  (None, 6, 6, 832)   0           ['max_pooling2d_10[0][0]']       \n",
      " )                                                                                                \n",
      "                                                                                                  \n",
      " conv2d_47 (Conv2D)             (None, 6, 6, 256)    213248      ['max_pooling2d_10[0][0]']       \n"
     ]
    },
    {
     "name": "stdout",
     "output_type": "stream",
     "text": [
      "                                                                                                  \n",
      " conv2d_49 (Conv2D)             (None, 6, 6, 320)    51520       ['conv2d_48[0][0]']              \n",
      "                                                                                                  \n",
      " conv2d_51 (Conv2D)             (None, 6, 6, 128)    4224        ['conv2d_50[0][0]']              \n",
      "                                                                                                  \n",
      " conv2d_52 (Conv2D)             (None, 6, 6, 128)    106624      ['max_pooling2d_11[0][0]']       \n",
      "                                                                                                  \n",
      " tf.concat_7 (TFOpLambda)       (None, 6, 6, 832)    0           ['conv2d_47[0][0]',              \n",
      "                                                                  'conv2d_49[0][0]',              \n",
      "                                                                  'conv2d_51[0][0]',              \n",
      "                                                                  'conv2d_52[0][0]']              \n",
      "                                                                                                  \n",
      " conv2d_54 (Conv2D)             (None, 6, 6, 192)    159936      ['tf.concat_7[0][0]']            \n",
      "                                                                                                  \n",
      " conv2d_56 (Conv2D)             (None, 6, 6, 48)     39984       ['tf.concat_7[0][0]']            \n",
      "                                                                                                  \n",
      " max_pooling2d_12 (MaxPooling2D  (None, 6, 6, 832)   0           ['tf.concat_7[0][0]']            \n",
      " )                                                                                                \n",
      "                                                                                                  \n",
      " average_pooling2d (AveragePool  (None, 3, 3, 512)   0           ['tf.concat_2[0][0]']            \n",
      " ing2D)                                                                                           \n",
      "                                                                                                  \n",
      " average_pooling2d_1 (AveragePo  (None, 3, 3, 528)   0           ['tf.concat_5[0][0]']            \n",
      " oling2D)                                                                                         \n",
      "                                                                                                  \n",
      " conv2d_53 (Conv2D)             (None, 6, 6, 384)    319872      ['tf.concat_7[0][0]']            \n",
      "                                                                                                  \n",
      " conv2d_55 (Conv2D)             (None, 6, 6, 384)    74112       ['conv2d_54[0][0]']              \n",
      "                                                                                                  \n",
      " conv2d_57 (Conv2D)             (None, 6, 6, 128)    6272        ['conv2d_56[0][0]']              \n",
      "                                                                                                  \n",
      " conv2d_58 (Conv2D)             (None, 6, 6, 128)    106624      ['max_pooling2d_12[0][0]']       \n",
      "                                                                                                  \n",
      " conv2d_21 (Conv2D)             (None, 3, 3, 128)    65664       ['average_pooling2d[0][0]']      \n",
      "                                                                                                  \n",
      " conv2d_40 (Conv2D)             (None, 3, 3, 128)    67712       ['average_pooling2d_1[0][0]']    \n",
      "                                                                                                  \n",
      " tf.concat_8 (TFOpLambda)       (None, 6, 6, 1024)   0           ['conv2d_53[0][0]',              \n",
      "                                                                  'conv2d_55[0][0]',              \n",
      "                                                                  'conv2d_57[0][0]',              \n",
      "                                                                  'conv2d_58[0][0]']              \n",
      "                                                                                                  \n",
      " flatten (Flatten)              (None, 1152)         0           ['conv2d_21[0][0]']              \n",
      "                                                                                                  \n",
      " flatten_1 (Flatten)            (None, 1152)         0           ['conv2d_40[0][0]']              \n",
      "                                                                                                  \n",
      " global_average_pooling2d (Glob  (None, 1024)        0           ['tf.concat_8[0][0]']            \n",
      " alAveragePooling2D)                                                                              \n",
      "                                                                                                  \n",
      " dense (Dense)                  (None, 1024)         1180672     ['flatten[0][0]']                \n",
      "                                                                                                  \n",
      " dense_2 (Dense)                (None, 1024)         1180672     ['flatten_1[0][0]']              \n",
      "                                                                                                  \n",
      " dropout_2 (Dropout)            (None, 1024)         0           ['global_average_pooling2d[0][0]'\n",
      "                                                                 ]                                \n",
      "                                                                                                  \n",
      " dropout (Dropout)              (None, 1024)         0           ['dense[0][0]']                  \n",
      "                                                                                                  \n",
      " dropout_1 (Dropout)            (None, 1024)         0           ['dense_2[0][0]']                \n",
      "                                                                                                  \n",
      " dense_4 (Dense)                (None, 4)            4100        ['dropout_2[0][0]']              \n",
      "                                                                                                  \n",
      " dense_1 (Dense)                (None, 4)            4100        ['dropout[0][0]']                \n",
      "                                                                                                  \n",
      " dense_3 (Dense)                (None, 4)            4100        ['dropout_1[0][0]']              \n",
      "                                                                                                  \n",
      "==================================================================================================\n",
      "Total params: 5,768,316\n",
      "Trainable params: 5,768,316\n",
      "Non-trainable params: 0\n",
      "__________________________________________________________________________________________________\n"
     ]
    }
   ],
   "source": [
    "model.summary()"
   ]
  },
  {
   "cell_type": "code",
   "execution_count": null,
   "id": "d435704d",
   "metadata": {},
   "outputs": [],
   "source": []
  }
 ],
 "metadata": {
  "kernelspec": {
   "display_name": "Python 3 (ipykernel)",
   "language": "python",
   "name": "python3"
  },
  "language_info": {
   "codemirror_mode": {
    "name": "ipython",
    "version": 3
   },
   "file_extension": ".py",
   "mimetype": "text/x-python",
   "name": "python",
   "nbconvert_exporter": "python",
   "pygments_lexer": "ipython3",
   "version": "3.10.8"
  }
 },
 "nbformat": 4,
 "nbformat_minor": 5
}
