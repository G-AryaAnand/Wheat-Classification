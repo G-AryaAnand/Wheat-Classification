{
 "cells": [
  {
   "cell_type": "code",
   "execution_count": 1,
   "id": "eb661222",
   "metadata": {},
   "outputs": [],
   "source": [
    "# !pip install opencv-python scikit-learn scikit-image matplotlib spectral keras_tuner vis\n",
    "# !pip install tensorflow numpy pandas\n",
    "# !pip install spectral"
   ]
  },
  {
   "cell_type": "code",
   "execution_count": 2,
   "id": "6b605089",
   "metadata": {},
   "outputs": [
    {
     "name": "stderr",
     "output_type": "stream",
     "text": [
      "2023-01-09 01:27:30.541638: I tensorflow/core/platform/cpu_feature_guard.cc:193] This TensorFlow binary is optimized with oneAPI Deep Neural Network Library (oneDNN) to use the following CPU instructions in performance-critical operations:  SSE4.1 SSE4.2 AVX AVX2 AVX512F FMA\n",
      "To enable them in other operations, rebuild TensorFlow with the appropriate compiler flags.\n"
     ]
    }
   ],
   "source": [
    "import tensorflow as tf"
   ]
  },
  {
   "cell_type": "code",
   "execution_count": 3,
   "id": "c6cc1a38",
   "metadata": {},
   "outputs": [],
   "source": [
    "from tensorflow import keras as keras\n",
    "from keras import layers as layers"
   ]
  },
  {
   "cell_type": "code",
   "execution_count": 4,
   "id": "6c004aea",
   "metadata": {},
   "outputs": [],
   "source": [
    "import os, timeit\n",
    "from skimage.filters import threshold_otsu\n",
    "import numpy as np\n",
    "from math import inf as inf"
   ]
  },
  {
   "cell_type": "code",
   "execution_count": 5,
   "id": "6c9300cb",
   "metadata": {},
   "outputs": [],
   "source": [
    "from spectral.io import envi as envi\n",
    "from spectral import imshow"
   ]
  },
  {
   "cell_type": "code",
   "execution_count": 6,
   "id": "ee790ffe",
   "metadata": {},
   "outputs": [],
   "source": [
    "from sklearn.decomposition import IncrementalPCA"
   ]
  },
  {
   "cell_type": "code",
   "execution_count": 7,
   "id": "bf3717a6",
   "metadata": {},
   "outputs": [],
   "source": [
    "import sys"
   ]
  },
  {
   "cell_type": "code",
   "execution_count": 8,
   "id": "3dd26930",
   "metadata": {},
   "outputs": [
    {
     "name": "stdout",
     "output_type": "stream",
     "text": [
      "Num GPUs Available:  0\n"
     ]
    },
    {
     "name": "stderr",
     "output_type": "stream",
     "text": [
      "2023-01-09 01:27:43.629227: E tensorflow/stream_executor/cuda/cuda_driver.cc:265] failed call to cuInit: CUDA_ERROR_NO_DEVICE: no CUDA-capable device is detected\n",
      "2023-01-09 01:27:43.629310: I tensorflow/stream_executor/cuda/cuda_diagnostics.cc:156] kernel driver does not appear to be running on this host (root1-HP-Z8-G4-Workstation): /proc/driver/nvidia/version does not exist\n"
     ]
    }
   ],
   "source": [
    "print(\"Num GPUs Available: \", len(tf.config.list_physical_devices('GPU')))"
   ]
  },
  {
   "cell_type": "code",
   "execution_count": 9,
   "id": "0f72da7a",
   "metadata": {},
   "outputs": [],
   "source": [
    "from sys import platform\n",
    "DATA_DIRECTORY = \"\"\n",
    "SLASH = \"\"\n",
    "if platform == \"linux\" or platform == \"linux2\":\n",
    "    DATA_DIRECTORY = \"/home/nitintyagi/wheat data/BULK/\"\n",
    "    SLASH = \"/\"\n",
    "elif platform == \"win32\":\n",
    "    DATA_DIRECTORY = \"D:\\mvl\\wheat\\data\\BULK\\\\\"\n",
    "    SLASH=\"\\\\\""
   ]
  },
  {
   "cell_type": "code",
   "execution_count": 10,
   "id": "5979451f",
   "metadata": {},
   "outputs": [],
   "source": [
    "#Constants\n",
    "BAND_NUMBER = 60\n",
    "FILLED_AREA_RATIO = 0.9\n",
    "TOTAL_IMAGE_COUNT = 2400\n",
    "IMAGE_COUNT = int(TOTAL_IMAGE_COUNT/4)\n",
    "NUM_VARIETIES = 4\n",
    "\n",
    "IMAGE_WIDTH = 30\n",
    "IMAGE_HEIGHT = 30"
   ]
  },
  {
   "cell_type": "code",
   "execution_count": 11,
   "id": "066f0249",
   "metadata": {},
   "outputs": [],
   "source": [
    "ACTIVATION_TYPE =  \"relu\"\n",
    "BATCH_SIZE = 2*NUM_VARIETIES\n",
    "\n",
    "LEARNING_RATE_BASE = 0.0001"
   ]
  },
  {
   "cell_type": "code",
   "execution_count": 12,
   "id": "6f32e132",
   "metadata": {},
   "outputs": [],
   "source": [
    "from enum import Enum\n",
    "class filter_method(Enum):\n",
    "    none = 0\n",
    "    snv = 1\n",
    "    msc = 2\n",
    "    \n",
    "FILTER = filter_method(1).name"
   ]
  },
  {
   "cell_type": "code",
   "execution_count": 13,
   "id": "2e3a1d3a",
   "metadata": {},
   "outputs": [],
   "source": [
    "from enum import Enum\n",
    " \n",
    "class feature_extraction_method(Enum):\n",
    "    none = 0\n",
    "    pca_loading = 1\n",
    "    lda = 2\n",
    "    ipca = 3\n",
    "\n",
    "FEATURE_EXTRACTION = feature_extraction_method(0).name\n",
    "\n",
    "NUM_OF_BANDS = 3\n",
    "if FEATURE_EXTRACTION == \"pca_loading\" or FEATURE_EXTRACTION == \"ipca\":\n",
    "    NUM_OF_BANDS = 8\n",
    "elif FEATURE_EXTRACTION == \"lda\":\n",
    "    NUM_OF_BANDS = 3\n",
    "    assert NUM_OF_BANDS <= min(NUM_VARIETIES-1,168),\"NUM_OF_BANDS is greater.\"\n",
    "\n",
    "\n",
    "REMOVE_NOISY_BANDS = True\n",
    "FIRST_BAND = 15\n",
    "LAST_BAND = 161"
   ]
  },
  {
   "cell_type": "code",
   "execution_count": 14,
   "id": "e61072a5",
   "metadata": {},
   "outputs": [],
   "source": [
    "def start_timer():\n",
    "    print(\"Testing started\")\n",
    "    return timeit.default_timer()\n",
    "\n",
    "def end_timer():\n",
    "    return timeit.default_timer()\n",
    "\n",
    "def show_time(tic,toc): \n",
    "    test_time = toc - tic\n",
    "    print('Testing time (s) = ' + str(test_time) + '\\n')"
   ]
  },
  {
   "cell_type": "code",
   "execution_count": 15,
   "id": "e16e403c",
   "metadata": {},
   "outputs": [],
   "source": [
    "# List for All varieties\n",
    "VARIETIES = []\n",
    "VARIETIES_CODE = {}\n",
    "\n",
    "for name in os.listdir(DATA_DIRECTORY):\n",
    "    if (name.endswith(\".hdr\") or name.endswith(\".bil\")):\n",
    "        continue\n",
    "    VARIETIES_CODE[name] = len(VARIETIES)\n",
    "    VARIETIES.append(name)\n",
    "    if len(VARIETIES)==NUM_VARIETIES:\n",
    "        break"
   ]
  },
  {
   "cell_type": "code",
   "execution_count": 16,
   "id": "72409e2c",
   "metadata": {},
   "outputs": [],
   "source": [
    "def dataset_file_name(variety):\n",
    "    name = \"./dataset/V\"+str(variety).zfill(3)+\"_IC_\"+str(TOTAL_IMAGE_COUNT).zfill(5)+\"_FilledArea_\"+str(FILLED_AREA_RATIO)+\"_NumOfBands_\"+str(NUM_OF_BANDS)+\"_FB_\"+str(FIRST_BAND)+\"_LB_\"+str(LAST_BAND)+\"_BandNo_\"+str(BAND_NUMBER)+\"_ImageHeight_\"+str(IMAGE_HEIGHT)+\"_ImageWidth_\"+str(IMAGE_WIDTH)+\"_FILTER_\"+str(FILTER)+\"_FeatureExtraction_\"+str(FEATURE_EXTRACTION)\n",
    "    if REMOVE_NOISY_BANDS:\n",
    "        name+=\"_REMOVE_NOISY_BANDS_\"+str(REMOVE_NOISY_BANDS)\n",
    "    return name"
   ]
  },
  {
   "cell_type": "code",
   "execution_count": 17,
   "id": "e74afa6d",
   "metadata": {},
   "outputs": [
    {
     "name": "stdout",
     "output_type": "stream",
     "text": [
      "idx:  0\n",
      "idx:  1\n",
      "idx:  2\n",
      "idx:  3\n"
     ]
    }
   ],
   "source": [
    "train_dataset = []\n",
    "train_dataset_label = []\n",
    "test_dataset=[]\n",
    "test_dataset_label = []\n",
    "\n",
    "for idx, v in enumerate(VARIETIES):\n",
    "    print(\"idx: \",idx)\n",
    "    if idx >= NUM_VARIETIES:\n",
    "        break\n",
    "    train_dataset= train_dataset + np.load(dataset_file_name(v)+\"_train_dataset.npy\").tolist()\n",
    "    train_dataset_label = train_dataset_label + np.load(dataset_file_name(v)+\"_train_dataset_label.npy\").tolist()\n",
    "    test_dataset = test_dataset + np.load(dataset_file_name(v)+\"_test_dataset.npy\").tolist()\n",
    "    test_dataset_label = test_dataset_label + np.load(dataset_file_name(v)+\"_test_dataset_label.npy\").tolist()\n",
    "\n",
    "train_dataset = np.array(train_dataset)\n",
    "train_dataset_label = np.array(train_dataset_label)\n",
    "test_dataset = np.array(test_dataset)\n",
    "test_dataset_label = np.array(test_dataset_label)"
   ]
  },
  {
   "cell_type": "code",
   "execution_count": 18,
   "id": "c752599c",
   "metadata": {},
   "outputs": [],
   "source": [
    "import tensorflow as tf\n",
    "import matplotlib.pyplot as plt\n",
    "from tensorflow.keras import datasets, layers, models, losses, Model\n",
    "from keras.layers import Input, Conv2D, MaxPool2D, MaxPooling2D, Activation, Flatten, Dense, AveragePooling2D, GlobalAveragePooling2D\n",
    "from keras.layers.core import Dropout\n",
    "from keras.optimizers import Adam"
   ]
  },
  {
   "cell_type": "code",
   "execution_count": 19,
   "id": "d48cd5d7",
   "metadata": {},
   "outputs": [],
   "source": [
    "def normalizeDataWholeSeed(data,normalization_type='max'):\n",
    "    \n",
    "    if normalization_type == 'max':\n",
    "        for idx in range(data.shape[0]):\n",
    "            data[idx,:,:,:] = data[idx,:,:,:]/np.max(abs(data[idx,:,:,:]))\n",
    "            \n",
    "    elif normalization_type == 'l2norm':\n",
    "        from numpy import linalg as LA\n",
    "        for idx in range(data.shape[0]):\n",
    "            data[idx,:,:,:] = data[idx,:,:,:]/LA.norm(data[idx,:,:,:])       \n",
    "        \n",
    "    return data"
   ]
  },
  {
   "cell_type": "code",
   "execution_count": 20,
   "id": "aca8be82",
   "metadata": {},
   "outputs": [],
   "source": [
    "def inception(x,filters_1x1,filters_3x3_reduce,filters_3x3,filters_5x5_reduce,filters_5x5,filters_pool,activation_type='relu'):\n",
    "    path1 = Conv2D(filters_1x1,        (1, 1), padding='same', activation=activation_type)(x)\n",
    "    \n",
    "    path2 = Conv2D(filters_3x3_reduce, (1, 1), padding='same', activation=activation_type)(x)\n",
    "    path2 = Conv2D(filters_3x3,        (1, 1), padding='same', activation=activation_type)(path2)\n",
    "    \n",
    "    path3 = Conv2D(filters_5x5_reduce, (1, 1), padding='same', activation=activation_type)(x)\n",
    "    path3 = Conv2D(filters_5x5,        (1, 1), padding='same', activation=activation_type)(path3)\n",
    "    \n",
    "    path4 = MaxPool2D((3, 3),  strides=(1, 1), padding='same')(x)\n",
    "    path4 = Conv2D(filters_pool,       (1, 1), padding='same', activation=activation_type)(path4)\n",
    "    \n",
    "    return tf.concat([path1, path2, path3, path4], axis=3)"
   ]
  },
  {
   "cell_type": "code",
   "execution_count": 21,
   "id": "686f6ade",
   "metadata": {},
   "outputs": [],
   "source": [
    "def auxiliary_classifier(x,num_classes,activation_type='relu'):\n",
    "    aux = AveragePooling2D((5, 5), strides=3)(x)\n",
    "    aux = Conv2D(128, 1, padding='same', activation=activation_type)(aux)\n",
    "    aux = Flatten()(aux)\n",
    "    aux = Dense(1024, activation=activation_type)(aux)\n",
    "    aux = Dropout(0.7)(aux)\n",
    "    aux = Dense(num_classes, activation='softmax')(aux)\n",
    "    return aux"
   ]
  },
  {
   "cell_type": "code",
   "execution_count": 22,
   "id": "43d8a8cf",
   "metadata": {},
   "outputs": [],
   "source": [
    "def GoogleNetModel(data_num_rows, data_num_cols, num_input_chans=1, num_classes=NUM_VARIETIES, activation_type='relu', dropout_rate=0.0):\n",
    "\n",
    "    inp = Input(shape=(data_num_rows, data_num_cols, num_input_chans))\n",
    "    input_tensor = layers.experimental.preprocessing.Resizing(224, 224, interpolation=\"bilinear\", input_shape=train_dataset.shape[1:])(inp)\n",
    "    x = Conv2D(64,  7, strides=2, padding='same', activation=activation_type)(input_tensor)\n",
    "    x = MaxPooling2D(3, strides=2)(x)\n",
    "    x = Conv2D(64,  1, strides=1, padding='same', activation=activation_type)(x)\n",
    "    x = Conv2D(192, 3, strides=1, padding='same', activation=activation_type)(x)\n",
    "    x = MaxPooling2D(3, strides=2)(x)\n",
    "    x = inception(x, filters_1x1=64 , filters_3x3_reduce=96 , filters_3x3=128, filters_5x5_reduce=16, filters_5x5=32, filters_pool=32)\n",
    "    x = inception(x, filters_1x1=128, filters_3x3_reduce=128, filters_3x3=192, filters_5x5_reduce=32, filters_5x5=96, filters_pool=64)\n",
    "    x = MaxPooling2D(3, strides=2)(x)\n",
    "    x = inception(x, filters_1x1=192, filters_3x3_reduce=96 , filters_3x3=208, filters_5x5_reduce=16, filters_5x5=48, filters_pool=64)\n",
    "    \n",
    "    aux1 = auxiliary_classifier(x,num_classes)\n",
    "    \n",
    "    x = inception(x, filters_1x1=160, filters_3x3_reduce=112, filters_3x3=224, filters_5x5_reduce=24, filters_5x5=64, filters_pool=64)\n",
    "    x = inception(x, filters_1x1=128, filters_3x3_reduce=128, filters_3x3=256, filters_5x5_reduce=24, filters_5x5=64, filters_pool=64)\n",
    "    x = inception(x, filters_1x1=112, filters_3x3_reduce=144, filters_3x3=288, filters_5x5_reduce=32, filters_5x5=64, filters_pool=64)\n",
    "    \n",
    "    aux2 = auxiliary_classifier(x,num_classes)\n",
    "    \n",
    "    x = inception(x, filters_1x1=256, filters_3x3_reduce=160, filters_3x3=320, filters_5x5_reduce=32, filters_5x5=128, filters_pool=128)\n",
    "    x = MaxPooling2D(3, strides=2)(x)\n",
    "    x = inception(x, filters_1x1=256, filters_3x3_reduce=160, filters_3x3=320, filters_5x5_reduce=32, filters_5x5=128, filters_pool=128)\n",
    "    x = inception(x, filters_1x1=384, filters_3x3_reduce=192, filters_3x3=384, filters_5x5_reduce=48, filters_5x5=128, filters_pool=128)\n",
    "    x = GlobalAveragePooling2D()(x)\n",
    "    x = Dropout(dropout_rate)(x)\n",
    "    out = Dense(num_classes, activation='softmax')(x)\n",
    "    \n",
    "    return Model(inputs = inp, outputs = [out, aux1, aux2])"
   ]
  },
  {
   "cell_type": "code",
   "execution_count": 23,
   "id": "e3528776",
   "metadata": {},
   "outputs": [],
   "source": [
    "def getGoogleNetModel():\n",
    "    learning_rate_base = LEARNING_RATE_BASE\n",
    "    activation_type = ACTIVATION_TYPE\n",
    "    wheat_types =  VARIETIES\n",
    "    num_classes = len(wheat_types)\n",
    "    dropout_rate = 0.4\n",
    "    print(\"--------------Load Data--------------\")\n",
    "\n",
    "    x_training = np.array(train_dataset)\n",
    "    labels_training = np.array(train_dataset_label)\n",
    "    \n",
    "    # Normalize the data\n",
    "    x_training = normalizeDataWholeSeed(x_training)\n",
    "    \n",
    "    # Extract some information\n",
    "    num_train = x_training.shape[0]\n",
    "    N_spatial = x_training.shape[1:3]\n",
    "    N_channel = x_training.shape[3]\n",
    "    \n",
    "    print(\"--------------Done--------------\")\n",
    "    \n",
    "    ############ Create a model ############\n",
    "    print(\"--------------Create a model--------------\")\n",
    "    \n",
    "    # Generate a model\n",
    "    model = GoogleNetModel(data_num_rows = N_spatial[0], \n",
    "                           data_num_cols = N_spatial[1],\n",
    "                           num_input_chans = N_channel, \n",
    "                           num_classes = num_classes,\n",
    "                           activation_type = activation_type,\n",
    "                           dropout_rate = dropout_rate)\n",
    "\n",
    "    # Compile the model\n",
    "    adam_opt = Adam(learning_rate=LEARNING_RATE_BASE, beta_1=0.9, beta_2=0.999, epsilon=1e-08, decay=0.01)\n",
    "    model.compile(optimizer=adam_opt, loss=[losses.sparse_categorical_crossentropy,losses.sparse_categorical_crossentropy,losses.sparse_categorical_crossentropy],loss_weights=[1, 0.3, 0.3],metrics=['accuracy'])\n",
    "    print(\"---------Completed---------\")\n",
    "    return model"
   ]
  },
  {
   "cell_type": "code",
   "execution_count": 24,
   "id": "9df49795",
   "metadata": {},
   "outputs": [
    {
     "name": "stdout",
     "output_type": "stream",
     "text": [
      "--------------Load Data--------------\n",
      "--------------Done--------------\n",
      "--------------Create a model--------------\n"
     ]
    },
    {
     "name": "stderr",
     "output_type": "stream",
     "text": [
      "2023-01-09 01:32:00.438582: I tensorflow/core/platform/cpu_feature_guard.cc:193] This TensorFlow binary is optimized with oneAPI Deep Neural Network Library (oneDNN) to use the following CPU instructions in performance-critical operations:  SSE4.1 SSE4.2 AVX AVX2 AVX512F FMA\n",
      "To enable them in other operations, rebuild TensorFlow with the appropriate compiler flags.\n"
     ]
    },
    {
     "name": "stdout",
     "output_type": "stream",
     "text": [
      "---------Completed---------\n"
     ]
    }
   ],
   "source": [
    "model = getGoogleNetModel()"
   ]
  },
  {
   "cell_type": "code",
   "execution_count": 25,
   "id": "5df8cc77",
   "metadata": {},
   "outputs": [],
   "source": [
    "x_train = []\n",
    "y_train = []\n",
    "x_val = []\n",
    "y_val = []\n",
    "\n",
    "for i in range(len(train_dataset)):\n",
    "    if i%5==0:\n",
    "        x_val.append(train_dataset[i])\n",
    "        y_val.append(train_dataset_label[i])\n",
    "    else:\n",
    "        x_train.append(train_dataset[i])\n",
    "        y_train.append(train_dataset_label[i])\n",
    "        \n",
    "x_train = np.array(x_train)\n",
    "y_train = np.array(y_train)\n",
    "y_train = [y_train,y_train,y_train]\n",
    "\n",
    "x_val = np.array(x_val)\n",
    "y_val = np.array(y_val)\n",
    "y_val = [y_val,y_val,y_val]"
   ]
  },
  {
   "cell_type": "code",
   "execution_count": 26,
   "id": "8aa727e4",
   "metadata": {},
   "outputs": [
    {
     "name": "stdout",
     "output_type": "stream",
     "text": [
      "From epochs:  1  to  20\n",
      "Testing started\n",
      "Epoch 1/20\n",
      "768/768 - 1266s - loss: 2.1314 - dense_4_loss: 1.3261 - dense_1_loss: 1.3445 - dense_3_loss: 1.3399 - dense_4_accuracy: 0.3301 - dense_1_accuracy: 0.3215 - dense_3_accuracy: 0.3228 - val_loss: 2.1090 - val_dense_4_loss: 1.3314 - val_dense_1_loss: 1.2853 - val_dense_3_loss: 1.3066 - val_dense_4_accuracy: 0.3372 - val_dense_1_accuracy: 0.3835 - val_dense_3_accuracy: 0.3490 - 1266s/epoch - 2s/step\n",
      "Epoch 2/20\n",
      "768/768 - 1257s - loss: 1.9560 - dense_4_loss: 1.2055 - dense_1_loss: 1.2595 - dense_3_loss: 1.2419 - dense_4_accuracy: 0.4271 - dense_1_accuracy: 0.4022 - dense_3_accuracy: 0.4027 - val_loss: 1.8736 - val_dense_4_loss: 1.1529 - val_dense_1_loss: 1.2097 - val_dense_3_loss: 1.1926 - val_dense_4_accuracy: 0.4661 - val_dense_1_accuracy: 0.4421 - val_dense_3_accuracy: 0.4408 - 1257s/epoch - 2s/step\n",
      "Epoch 3/20\n",
      "768/768 - 1256s - loss: 1.8653 - dense_4_loss: 1.1404 - dense_1_loss: 1.2226 - dense_3_loss: 1.1938 - dense_4_accuracy: 0.4701 - dense_1_accuracy: 0.4172 - dense_3_accuracy: 0.4313 - val_loss: 1.7951 - val_dense_4_loss: 1.0966 - val_dense_1_loss: 1.1796 - val_dense_3_loss: 1.1488 - val_dense_4_accuracy: 0.5299 - val_dense_1_accuracy: 0.4883 - val_dense_3_accuracy: 0.4701 - 1256s/epoch - 2s/step\n",
      "Epoch 4/20\n",
      "768/768 - 1255s - loss: 1.7918 - dense_4_loss: 1.0864 - dense_1_loss: 1.2015 - dense_3_loss: 1.1500 - dense_4_accuracy: 0.5059 - dense_1_accuracy: 0.4395 - dense_3_accuracy: 0.4661 - val_loss: 1.7193 - val_dense_4_loss: 1.0402 - val_dense_1_loss: 1.1574 - val_dense_3_loss: 1.1062 - val_dense_4_accuracy: 0.5586 - val_dense_1_accuracy: 0.4935 - val_dense_3_accuracy: 0.5104 - 1255s/epoch - 2s/step\n",
      "Epoch 5/20\n",
      "768/768 - 1258s - loss: 1.7177 - dense_4_loss: 1.0325 - dense_1_loss: 1.1729 - dense_3_loss: 1.1112 - dense_4_accuracy: 0.5373 - dense_1_accuracy: 0.4557 - dense_3_accuracy: 0.4940 - val_loss: 1.7061 - val_dense_4_loss: 1.0338 - val_dense_1_loss: 1.1422 - val_dense_3_loss: 1.0987 - val_dense_4_accuracy: 0.5423 - val_dense_1_accuracy: 0.4948 - val_dense_3_accuracy: 0.5176 - 1258s/epoch - 2s/step\n",
      "Epoch 6/20\n",
      "768/768 - 1262s - loss: 1.6701 - dense_4_loss: 1.0024 - dense_1_loss: 1.1520 - dense_3_loss: 1.0738 - dense_4_accuracy: 0.5570 - dense_1_accuracy: 0.4761 - dense_3_accuracy: 0.5106 - val_loss: 1.6280 - val_dense_4_loss: 0.9777 - val_dense_1_loss: 1.1223 - val_dense_3_loss: 1.0453 - val_dense_4_accuracy: 0.5710 - val_dense_1_accuracy: 0.5215 - val_dense_3_accuracy: 0.5514 - 1262s/epoch - 2s/step\n",
      "Epoch 7/20\n",
      "768/768 - 1262s - loss: 1.6282 - dense_4_loss: 0.9733 - dense_1_loss: 1.1375 - dense_3_loss: 1.0456 - dense_4_accuracy: 0.5701 - dense_1_accuracy: 0.4790 - dense_3_accuracy: 0.5223 - val_loss: 1.5868 - val_dense_4_loss: 0.9485 - val_dense_1_loss: 1.1079 - val_dense_3_loss: 1.0199 - val_dense_4_accuracy: 0.5964 - val_dense_1_accuracy: 0.5358 - val_dense_3_accuracy: 0.5684 - 1262s/epoch - 2s/step\n",
      "Epoch 8/20\n",
      "768/768 - 1264s - loss: 1.6059 - dense_4_loss: 0.9599 - dense_1_loss: 1.1278 - dense_3_loss: 1.0255 - dense_4_accuracy: 0.5688 - dense_1_accuracy: 0.4888 - dense_3_accuracy: 0.5373 - val_loss: 1.5694 - val_dense_4_loss: 0.9384 - val_dense_1_loss: 1.0965 - val_dense_3_loss: 1.0068 - val_dense_4_accuracy: 0.6009 - val_dense_1_accuracy: 0.5286 - val_dense_3_accuracy: 0.5671 - 1264s/epoch - 2s/step\n",
      "Epoch 9/20\n",
      "768/768 - 1266s - loss: 1.5751 - dense_4_loss: 0.9371 - dense_1_loss: 1.1108 - dense_3_loss: 1.0158 - dense_4_accuracy: 0.5822 - dense_1_accuracy: 0.5060 - dense_3_accuracy: 0.5443 - val_loss: 1.5339 - val_dense_4_loss: 0.9131 - val_dense_1_loss: 1.0849 - val_dense_3_loss: 0.9844 - val_dense_4_accuracy: 0.6048 - val_dense_1_accuracy: 0.5358 - val_dense_3_accuracy: 0.5794 - 1266s/epoch - 2s/step\n",
      "Epoch 10/20\n",
      "768/768 - 1268s - loss: 1.5587 - dense_4_loss: 0.9253 - dense_1_loss: 1.1124 - dense_3_loss: 0.9989 - dense_4_accuracy: 0.5952 - dense_1_accuracy: 0.4964 - dense_3_accuracy: 0.5531 - val_loss: 1.5161 - val_dense_4_loss: 0.9007 - val_dense_1_loss: 1.0778 - val_dense_3_loss: 0.9734 - val_dense_4_accuracy: 0.6048 - val_dense_1_accuracy: 0.5384 - val_dense_3_accuracy: 0.5801 - 1268s/epoch - 2s/step\n",
      "Epoch 11/20\n",
      "768/768 - 1264s - loss: 1.5353 - dense_4_loss: 0.9102 - dense_1_loss: 1.0963 - dense_3_loss: 0.9875 - dense_4_accuracy: 0.6014 - dense_1_accuracy: 0.5073 - dense_3_accuracy: 0.5539 - val_loss: 1.4973 - val_dense_4_loss: 0.8883 - val_dense_1_loss: 1.0696 - val_dense_3_loss: 0.9605 - val_dense_4_accuracy: 0.6146 - val_dense_1_accuracy: 0.5488 - val_dense_3_accuracy: 0.5846 - 1264s/epoch - 2s/step\n",
      "Epoch 12/20\n",
      "768/768 - 1263s - loss: 1.5156 - dense_4_loss: 0.8983 - dense_1_loss: 1.0872 - dense_3_loss: 0.9703 - dense_4_accuracy: 0.6021 - dense_1_accuracy: 0.5160 - dense_3_accuracy: 0.5729 - val_loss: 1.4840 - val_dense_4_loss: 0.8790 - val_dense_1_loss: 1.0649 - val_dense_3_loss: 0.9519 - val_dense_4_accuracy: 0.6172 - val_dense_1_accuracy: 0.5449 - val_dense_3_accuracy: 0.5885 - 1263s/epoch - 2s/step\n",
      "Epoch 13/20\n",
      "768/768 - 1264s - loss: 1.5060 - dense_4_loss: 0.8915 - dense_1_loss: 1.0841 - dense_3_loss: 0.9640 - dense_4_accuracy: 0.6047 - dense_1_accuracy: 0.5220 - dense_3_accuracy: 0.5770 - val_loss: 1.4708 - val_dense_4_loss: 0.8703 - val_dense_1_loss: 1.0583 - val_dense_3_loss: 0.9435 - val_dense_4_accuracy: 0.6191 - val_dense_1_accuracy: 0.5501 - val_dense_3_accuracy: 0.5918 - 1264s/epoch - 2s/step\n",
      "Epoch 14/20\n",
      "768/768 - 1263s - loss: 1.4819 - dense_4_loss: 0.8736 - dense_1_loss: 1.0745 - dense_3_loss: 0.9533 - dense_4_accuracy: 0.6219 - dense_1_accuracy: 0.5252 - dense_3_accuracy: 0.5773 - val_loss: 1.4627 - val_dense_4_loss: 0.8652 - val_dense_1_loss: 1.0518 - val_dense_3_loss: 0.9399 - val_dense_4_accuracy: 0.6211 - val_dense_1_accuracy: 0.5495 - val_dense_3_accuracy: 0.5905 - 1263s/epoch - 2s/step\n",
      "Epoch 15/20\n",
      "768/768 - 1262s - loss: 1.4735 - dense_4_loss: 0.8688 - dense_1_loss: 1.0700 - dense_3_loss: 0.9457 - dense_4_accuracy: 0.6219 - dense_1_accuracy: 0.5293 - dense_3_accuracy: 0.5765 - val_loss: 1.4491 - val_dense_4_loss: 0.8563 - val_dense_1_loss: 1.0462 - val_dense_3_loss: 0.9300 - val_dense_4_accuracy: 0.6250 - val_dense_1_accuracy: 0.5501 - val_dense_3_accuracy: 0.6048 - 1262s/epoch - 2s/step\n",
      "Epoch 16/20\n",
      "768/768 - 1265s - loss: 1.4601 - dense_4_loss: 0.8610 - dense_1_loss: 1.0636 - dense_3_loss: 0.9336 - dense_4_accuracy: 0.6276 - dense_1_accuracy: 0.5304 - dense_3_accuracy: 0.5882 - val_loss: 1.4317 - val_dense_4_loss: 0.8434 - val_dense_1_loss: 1.0410 - val_dense_3_loss: 0.9197 - val_dense_4_accuracy: 0.6322 - val_dense_1_accuracy: 0.5547 - val_dense_3_accuracy: 0.6009 - 1265s/epoch - 2s/step\n",
      "Epoch 17/20\n",
      "768/768 - 1267s - loss: 1.4492 - dense_4_loss: 0.8541 - dense_1_loss: 1.0555 - dense_3_loss: 0.9283 - dense_4_accuracy: 0.6294 - dense_1_accuracy: 0.5321 - dense_3_accuracy: 0.6022 - val_loss: 1.4230 - val_dense_4_loss: 0.8374 - val_dense_1_loss: 1.0378 - val_dense_3_loss: 0.9140 - val_dense_4_accuracy: 0.6361 - val_dense_1_accuracy: 0.5612 - val_dense_3_accuracy: 0.6081 - 1267s/epoch - 2s/step\n",
      "Epoch 18/20\n",
      "768/768 - 1264s - loss: 1.4356 - dense_4_loss: 0.8432 - dense_1_loss: 1.0603 - dense_3_loss: 0.9143 - dense_4_accuracy: 0.6349 - dense_1_accuracy: 0.5316 - dense_3_accuracy: 0.5994 - val_loss: 1.4182 - val_dense_4_loss: 0.8351 - val_dense_1_loss: 1.0332 - val_dense_3_loss: 0.9106 - val_dense_4_accuracy: 0.6380 - val_dense_1_accuracy: 0.5625 - val_dense_3_accuracy: 0.6152 - 1264s/epoch - 2s/step\n",
      "Epoch 19/20\n",
      "768/768 - 1265s - loss: 1.4231 - dense_4_loss: 0.8329 - dense_1_loss: 1.0551 - dense_3_loss: 0.9123 - dense_4_accuracy: 0.6418 - dense_1_accuracy: 0.5340 - dense_3_accuracy: 0.6011 - val_loss: 1.4088 - val_dense_4_loss: 0.8284 - val_dense_1_loss: 1.0293 - val_dense_3_loss: 0.9055 - val_dense_4_accuracy: 0.6341 - val_dense_1_accuracy: 0.5638 - val_dense_3_accuracy: 0.6061 - 1265s/epoch - 2s/step\n",
      "Epoch 20/20\n",
      "768/768 - 1270s - loss: 1.4165 - dense_4_loss: 0.8295 - dense_1_loss: 1.0494 - dense_3_loss: 0.9073 - dense_4_accuracy: 0.6488 - dense_1_accuracy: 0.5399 - dense_3_accuracy: 0.6069 - val_loss: 1.3969 - val_dense_4_loss: 0.8199 - val_dense_1_loss: 1.0254 - val_dense_3_loss: 0.8979 - val_dense_4_accuracy: 0.6432 - val_dense_1_accuracy: 0.5632 - val_dense_3_accuracy: 0.6204 - 1270s/epoch - 2s/step\n"
     ]
    },
    {
     "name": "stdout",
     "output_type": "stream",
     "text": [
      "Testing time (s) = 25264.28642140492\n",
      "\n",
      "for testing\n",
      "60/60 [==============================] - 81s 1s/step - loss: 1.3963 - dense_4_loss: 0.8209 - dense_1_loss: 1.0228 - dense_3_loss: 0.8950 - dense_4_accuracy: 0.6573 - dense_1_accuracy: 0.5432 - dense_3_accuracy: 0.6036\n",
      "[1.3962891101837158, 0.8209322094917297, 1.0228087902069092, 0.8950462341308594, 0.6572916507720947, 0.5432291626930237, 0.6036458611488342]\n",
      "for training\n",
      "240/240 [==============================] - 321s 1s/step - loss: 1.3744 - dense_4_loss: 0.8062 - dense_1_loss: 1.0135 - dense_3_loss: 0.8806 - dense_4_accuracy: 0.6611 - dense_1_accuracy: 0.5719 - dense_3_accuracy: 0.6336\n",
      "[1.3743927478790283, 0.8061637878417969, 1.0134981870651245, 0.8805977702140808, 0.6610677242279053, 0.5718749761581421, 0.633593738079071]\n"
     ]
    }
   ],
   "source": [
    "for x in range(1):\n",
    "    print(\"From epochs: \",20*x+1,\" to \",20+20*x)\n",
    "    tic = start_timer()\n",
    "    model.fit(x_train ,y_train ,batch_size=BATCH_SIZE ,epochs=20, verbose=2, validation_data=(x_val, y_val), shuffle=True)\n",
    "    toc = end_timer()\n",
    "    show_time(tic,toc)\n",
    "    print(\"for testing\")\n",
    "    print(model.evaluate(test_dataset,test_dataset_label))\n",
    "    print(\"for training\")\n",
    "    print(model.evaluate(train_dataset,train_dataset_label))"
   ]
  },
  {
   "cell_type": "code",
   "execution_count": 27,
   "id": "b89c2d88",
   "metadata": {},
   "outputs": [
    {
     "name": "stdout",
     "output_type": "stream",
     "text": [
      "Model: \"model\"\n",
      "__________________________________________________________________________________________________\n",
      " Layer (type)                   Output Shape         Param #     Connected to                     \n",
      "==================================================================================================\n",
      " input_1 (InputLayer)           [(None, 30, 30, 147  0           []                               \n",
      "                                )]                                                                \n",
      "                                                                                                  \n",
      " resizing (Resizing)            (None, 224, 224, 14  0           ['input_1[0][0]']                \n",
      "                                7)                                                                \n",
      "                                                                                                  \n",
      " conv2d (Conv2D)                (None, 112, 112, 64  461056      ['resizing[0][0]']               \n",
      "                                )                                                                 \n",
      "                                                                                                  \n",
      " max_pooling2d (MaxPooling2D)   (None, 55, 55, 64)   0           ['conv2d[0][0]']                 \n",
      "                                                                                                  \n",
      " conv2d_1 (Conv2D)              (None, 55, 55, 64)   4160        ['max_pooling2d[0][0]']          \n",
      "                                                                                                  \n",
      " conv2d_2 (Conv2D)              (None, 55, 55, 192)  110784      ['conv2d_1[0][0]']               \n",
      "                                                                                                  \n",
      " max_pooling2d_1 (MaxPooling2D)  (None, 27, 27, 192)  0          ['conv2d_2[0][0]']               \n",
      "                                                                                                  \n",
      " conv2d_4 (Conv2D)              (None, 27, 27, 96)   18528       ['max_pooling2d_1[0][0]']        \n",
      "                                                                                                  \n",
      " conv2d_6 (Conv2D)              (None, 27, 27, 16)   3088        ['max_pooling2d_1[0][0]']        \n",
      "                                                                                                  \n",
      " max_pooling2d_2 (MaxPooling2D)  (None, 27, 27, 192)  0          ['max_pooling2d_1[0][0]']        \n",
      "                                                                                                  \n",
      " conv2d_3 (Conv2D)              (None, 27, 27, 64)   12352       ['max_pooling2d_1[0][0]']        \n",
      "                                                                                                  \n",
      " conv2d_5 (Conv2D)              (None, 27, 27, 128)  12416       ['conv2d_4[0][0]']               \n",
      "                                                                                                  \n",
      " conv2d_7 (Conv2D)              (None, 27, 27, 32)   544         ['conv2d_6[0][0]']               \n",
      "                                                                                                  \n",
      " conv2d_8 (Conv2D)              (None, 27, 27, 32)   6176        ['max_pooling2d_2[0][0]']        \n",
      "                                                                                                  \n",
      " tf.concat (TFOpLambda)         (None, 27, 27, 256)  0           ['conv2d_3[0][0]',               \n",
      "                                                                  'conv2d_5[0][0]',               \n",
      "                                                                  'conv2d_7[0][0]',               \n",
      "                                                                  'conv2d_8[0][0]']               \n",
      "                                                                                                  \n",
      " conv2d_10 (Conv2D)             (None, 27, 27, 128)  32896       ['tf.concat[0][0]']              \n",
      "                                                                                                  \n",
      " conv2d_12 (Conv2D)             (None, 27, 27, 32)   8224        ['tf.concat[0][0]']              \n",
      "                                                                                                  \n",
      " max_pooling2d_3 (MaxPooling2D)  (None, 27, 27, 256)  0          ['tf.concat[0][0]']              \n",
      "                                                                                                  \n",
      " conv2d_9 (Conv2D)              (None, 27, 27, 128)  32896       ['tf.concat[0][0]']              \n",
      "                                                                                                  \n",
      " conv2d_11 (Conv2D)             (None, 27, 27, 192)  24768       ['conv2d_10[0][0]']              \n",
      "                                                                                                  \n",
      " conv2d_13 (Conv2D)             (None, 27, 27, 96)   3168        ['conv2d_12[0][0]']              \n",
      "                                                                                                  \n",
      " conv2d_14 (Conv2D)             (None, 27, 27, 64)   16448       ['max_pooling2d_3[0][0]']        \n",
      "                                                                                                  \n",
      " tf.concat_1 (TFOpLambda)       (None, 27, 27, 480)  0           ['conv2d_9[0][0]',               \n",
      "                                                                  'conv2d_11[0][0]',              \n",
      "                                                                  'conv2d_13[0][0]',              \n",
      "                                                                  'conv2d_14[0][0]']              \n",
      "                                                                                                  \n",
      " max_pooling2d_4 (MaxPooling2D)  (None, 13, 13, 480)  0          ['tf.concat_1[0][0]']            \n",
      "                                                                                                  \n",
      " conv2d_16 (Conv2D)             (None, 13, 13, 96)   46176       ['max_pooling2d_4[0][0]']        \n",
      "                                                                                                  \n",
      " conv2d_18 (Conv2D)             (None, 13, 13, 16)   7696        ['max_pooling2d_4[0][0]']        \n",
      "                                                                                                  \n",
      " max_pooling2d_5 (MaxPooling2D)  (None, 13, 13, 480)  0          ['max_pooling2d_4[0][0]']        \n",
      "                                                                                                  \n",
      " conv2d_15 (Conv2D)             (None, 13, 13, 192)  92352       ['max_pooling2d_4[0][0]']        \n",
      "                                                                                                  \n",
      " conv2d_17 (Conv2D)             (None, 13, 13, 208)  20176       ['conv2d_16[0][0]']              \n",
      "                                                                                                  \n",
      " conv2d_19 (Conv2D)             (None, 13, 13, 48)   816         ['conv2d_18[0][0]']              \n",
      "                                                                                                  \n",
      " conv2d_20 (Conv2D)             (None, 13, 13, 64)   30784       ['max_pooling2d_5[0][0]']        \n",
      "                                                                                                  \n",
      " tf.concat_2 (TFOpLambda)       (None, 13, 13, 512)  0           ['conv2d_15[0][0]',              \n",
      "                                                                  'conv2d_17[0][0]',              \n",
      "                                                                  'conv2d_19[0][0]',              \n",
      "                                                                  'conv2d_20[0][0]']              \n",
      "                                                                                                  \n",
      " conv2d_23 (Conv2D)             (None, 13, 13, 112)  57456       ['tf.concat_2[0][0]']            \n",
      "                                                                                                  \n",
      " conv2d_25 (Conv2D)             (None, 13, 13, 24)   12312       ['tf.concat_2[0][0]']            \n",
      "                                                                                                  \n"
     ]
    },
    {
     "name": "stdout",
     "output_type": "stream",
     "text": [
      " max_pooling2d_6 (MaxPooling2D)  (None, 13, 13, 512)  0          ['tf.concat_2[0][0]']            \n",
      "                                                                                                  \n",
      " conv2d_22 (Conv2D)             (None, 13, 13, 160)  82080       ['tf.concat_2[0][0]']            \n",
      "                                                                                                  \n",
      " conv2d_24 (Conv2D)             (None, 13, 13, 224)  25312       ['conv2d_23[0][0]']              \n",
      "                                                                                                  \n",
      " conv2d_26 (Conv2D)             (None, 13, 13, 64)   1600        ['conv2d_25[0][0]']              \n",
      "                                                                                                  \n",
      " conv2d_27 (Conv2D)             (None, 13, 13, 64)   32832       ['max_pooling2d_6[0][0]']        \n",
      "                                                                                                  \n",
      " tf.concat_3 (TFOpLambda)       (None, 13, 13, 512)  0           ['conv2d_22[0][0]',              \n",
      "                                                                  'conv2d_24[0][0]',              \n",
      "                                                                  'conv2d_26[0][0]',              \n",
      "                                                                  'conv2d_27[0][0]']              \n",
      "                                                                                                  \n",
      " conv2d_29 (Conv2D)             (None, 13, 13, 128)  65664       ['tf.concat_3[0][0]']            \n",
      "                                                                                                  \n",
      " conv2d_31 (Conv2D)             (None, 13, 13, 24)   12312       ['tf.concat_3[0][0]']            \n",
      "                                                                                                  \n",
      " max_pooling2d_7 (MaxPooling2D)  (None, 13, 13, 512)  0          ['tf.concat_3[0][0]']            \n",
      "                                                                                                  \n",
      " conv2d_28 (Conv2D)             (None, 13, 13, 128)  65664       ['tf.concat_3[0][0]']            \n",
      "                                                                                                  \n",
      " conv2d_30 (Conv2D)             (None, 13, 13, 256)  33024       ['conv2d_29[0][0]']              \n",
      "                                                                                                  \n",
      " conv2d_32 (Conv2D)             (None, 13, 13, 64)   1600        ['conv2d_31[0][0]']              \n",
      "                                                                                                  \n",
      " conv2d_33 (Conv2D)             (None, 13, 13, 64)   32832       ['max_pooling2d_7[0][0]']        \n",
      "                                                                                                  \n",
      " tf.concat_4 (TFOpLambda)       (None, 13, 13, 512)  0           ['conv2d_28[0][0]',              \n",
      "                                                                  'conv2d_30[0][0]',              \n",
      "                                                                  'conv2d_32[0][0]',              \n",
      "                                                                  'conv2d_33[0][0]']              \n",
      "                                                                                                  \n",
      " conv2d_35 (Conv2D)             (None, 13, 13, 144)  73872       ['tf.concat_4[0][0]']            \n",
      "                                                                                                  \n",
      " conv2d_37 (Conv2D)             (None, 13, 13, 32)   16416       ['tf.concat_4[0][0]']            \n",
      "                                                                                                  \n",
      " max_pooling2d_8 (MaxPooling2D)  (None, 13, 13, 512)  0          ['tf.concat_4[0][0]']            \n",
      "                                                                                                  \n",
      " conv2d_34 (Conv2D)             (None, 13, 13, 112)  57456       ['tf.concat_4[0][0]']            \n",
      "                                                                                                  \n",
      " conv2d_36 (Conv2D)             (None, 13, 13, 288)  41760       ['conv2d_35[0][0]']              \n",
      "                                                                                                  \n",
      " conv2d_38 (Conv2D)             (None, 13, 13, 64)   2112        ['conv2d_37[0][0]']              \n",
      "                                                                                                  \n",
      " conv2d_39 (Conv2D)             (None, 13, 13, 64)   32832       ['max_pooling2d_8[0][0]']        \n",
      "                                                                                                  \n",
      " tf.concat_5 (TFOpLambda)       (None, 13, 13, 528)  0           ['conv2d_34[0][0]',              \n",
      "                                                                  'conv2d_36[0][0]',              \n",
      "                                                                  'conv2d_38[0][0]',              \n",
      "                                                                  'conv2d_39[0][0]']              \n",
      "                                                                                                  \n",
      " conv2d_42 (Conv2D)             (None, 13, 13, 160)  84640       ['tf.concat_5[0][0]']            \n",
      "                                                                                                  \n",
      " conv2d_44 (Conv2D)             (None, 13, 13, 32)   16928       ['tf.concat_5[0][0]']            \n",
      "                                                                                                  \n",
      " max_pooling2d_9 (MaxPooling2D)  (None, 13, 13, 528)  0          ['tf.concat_5[0][0]']            \n",
      "                                                                                                  \n",
      " conv2d_41 (Conv2D)             (None, 13, 13, 256)  135424      ['tf.concat_5[0][0]']            \n",
      "                                                                                                  \n",
      " conv2d_43 (Conv2D)             (None, 13, 13, 320)  51520       ['conv2d_42[0][0]']              \n",
      "                                                                                                  \n",
      " conv2d_45 (Conv2D)             (None, 13, 13, 128)  4224        ['conv2d_44[0][0]']              \n",
      "                                                                                                  \n",
      " conv2d_46 (Conv2D)             (None, 13, 13, 128)  67712       ['max_pooling2d_9[0][0]']        \n",
      "                                                                                                  \n",
      " tf.concat_6 (TFOpLambda)       (None, 13, 13, 832)  0           ['conv2d_41[0][0]',              \n",
      "                                                                  'conv2d_43[0][0]',              \n",
      "                                                                  'conv2d_45[0][0]',              \n",
      "                                                                  'conv2d_46[0][0]']              \n",
      "                                                                                                  \n",
      " max_pooling2d_10 (MaxPooling2D  (None, 6, 6, 832)   0           ['tf.concat_6[0][0]']            \n",
      " )                                                                                                \n",
      "                                                                                                  \n",
      " conv2d_48 (Conv2D)             (None, 6, 6, 160)    133280      ['max_pooling2d_10[0][0]']       \n",
      "                                                                                                  \n",
      " conv2d_50 (Conv2D)             (None, 6, 6, 32)     26656       ['max_pooling2d_10[0][0]']       \n",
      "                                                                                                  \n",
      " max_pooling2d_11 (MaxPooling2D  (None, 6, 6, 832)   0           ['max_pooling2d_10[0][0]']       \n",
      " )                                                                                                \n",
      "                                                                                                  \n",
      " conv2d_47 (Conv2D)             (None, 6, 6, 256)    213248      ['max_pooling2d_10[0][0]']       \n"
     ]
    },
    {
     "name": "stdout",
     "output_type": "stream",
     "text": [
      "                                                                                                  \n",
      " conv2d_49 (Conv2D)             (None, 6, 6, 320)    51520       ['conv2d_48[0][0]']              \n",
      "                                                                                                  \n",
      " conv2d_51 (Conv2D)             (None, 6, 6, 128)    4224        ['conv2d_50[0][0]']              \n",
      "                                                                                                  \n",
      " conv2d_52 (Conv2D)             (None, 6, 6, 128)    106624      ['max_pooling2d_11[0][0]']       \n",
      "                                                                                                  \n",
      " tf.concat_7 (TFOpLambda)       (None, 6, 6, 832)    0           ['conv2d_47[0][0]',              \n",
      "                                                                  'conv2d_49[0][0]',              \n",
      "                                                                  'conv2d_51[0][0]',              \n",
      "                                                                  'conv2d_52[0][0]']              \n",
      "                                                                                                  \n",
      " conv2d_54 (Conv2D)             (None, 6, 6, 192)    159936      ['tf.concat_7[0][0]']            \n",
      "                                                                                                  \n",
      " conv2d_56 (Conv2D)             (None, 6, 6, 48)     39984       ['tf.concat_7[0][0]']            \n",
      "                                                                                                  \n",
      " max_pooling2d_12 (MaxPooling2D  (None, 6, 6, 832)   0           ['tf.concat_7[0][0]']            \n",
      " )                                                                                                \n",
      "                                                                                                  \n",
      " average_pooling2d (AveragePool  (None, 3, 3, 512)   0           ['tf.concat_2[0][0]']            \n",
      " ing2D)                                                                                           \n",
      "                                                                                                  \n",
      " average_pooling2d_1 (AveragePo  (None, 3, 3, 528)   0           ['tf.concat_5[0][0]']            \n",
      " oling2D)                                                                                         \n",
      "                                                                                                  \n",
      " conv2d_53 (Conv2D)             (None, 6, 6, 384)    319872      ['tf.concat_7[0][0]']            \n",
      "                                                                                                  \n",
      " conv2d_55 (Conv2D)             (None, 6, 6, 384)    74112       ['conv2d_54[0][0]']              \n",
      "                                                                                                  \n",
      " conv2d_57 (Conv2D)             (None, 6, 6, 128)    6272        ['conv2d_56[0][0]']              \n",
      "                                                                                                  \n",
      " conv2d_58 (Conv2D)             (None, 6, 6, 128)    106624      ['max_pooling2d_12[0][0]']       \n",
      "                                                                                                  \n",
      " conv2d_21 (Conv2D)             (None, 3, 3, 128)    65664       ['average_pooling2d[0][0]']      \n",
      "                                                                                                  \n",
      " conv2d_40 (Conv2D)             (None, 3, 3, 128)    67712       ['average_pooling2d_1[0][0]']    \n",
      "                                                                                                  \n",
      " tf.concat_8 (TFOpLambda)       (None, 6, 6, 1024)   0           ['conv2d_53[0][0]',              \n",
      "                                                                  'conv2d_55[0][0]',              \n",
      "                                                                  'conv2d_57[0][0]',              \n",
      "                                                                  'conv2d_58[0][0]']              \n",
      "                                                                                                  \n",
      " flatten (Flatten)              (None, 1152)         0           ['conv2d_21[0][0]']              \n",
      "                                                                                                  \n",
      " flatten_1 (Flatten)            (None, 1152)         0           ['conv2d_40[0][0]']              \n",
      "                                                                                                  \n",
      " global_average_pooling2d (Glob  (None, 1024)        0           ['tf.concat_8[0][0]']            \n",
      " alAveragePooling2D)                                                                              \n",
      "                                                                                                  \n",
      " dense (Dense)                  (None, 1024)         1180672     ['flatten[0][0]']                \n",
      "                                                                                                  \n",
      " dense_2 (Dense)                (None, 1024)         1180672     ['flatten_1[0][0]']              \n",
      "                                                                                                  \n",
      " dropout_2 (Dropout)            (None, 1024)         0           ['global_average_pooling2d[0][0]'\n",
      "                                                                 ]                                \n",
      "                                                                                                  \n",
      " dropout (Dropout)              (None, 1024)         0           ['dense[0][0]']                  \n",
      "                                                                                                  \n",
      " dropout_1 (Dropout)            (None, 1024)         0           ['dense_2[0][0]']                \n",
      "                                                                                                  \n",
      " dense_4 (Dense)                (None, 4)            4100        ['dropout_2[0][0]']              \n",
      "                                                                                                  \n",
      " dense_1 (Dense)                (None, 4)            4100        ['dropout[0][0]']                \n",
      "                                                                                                  \n",
      " dense_3 (Dense)                (None, 4)            4100        ['dropout_1[0][0]']              \n",
      "                                                                                                  \n",
      "==================================================================================================\n",
      "Total params: 5,702,460\n",
      "Trainable params: 5,702,460\n",
      "Non-trainable params: 0\n",
      "__________________________________________________________________________________________________\n"
     ]
    }
   ],
   "source": [
    "model.summary()"
   ]
  },
  {
   "cell_type": "code",
   "execution_count": 30,
   "id": "d435704d",
   "metadata": {},
   "outputs": [
    {
     "name": "stdout",
     "output_type": "stream",
     "text": [
      "From epochs:  21  to  40\n",
      "Testing started\n",
      "Epoch 1/20\n",
      "768/768 - 1254s - loss: 1.4008 - dense_4_loss: 0.8216 - dense_1_loss: 1.0309 - dense_3_loss: 0.8997 - dense_4_accuracy: 0.6426 - dense_1_accuracy: 0.5448 - dense_3_accuracy: 0.6089 - val_loss: 1.3881 - val_dense_4_loss: 0.8143 - val_dense_1_loss: 1.0210 - val_dense_3_loss: 0.8917 - val_dense_4_accuracy: 0.6458 - val_dense_1_accuracy: 0.5658 - val_dense_3_accuracy: 0.6263 - 1254s/epoch - 2s/step\n",
      "Epoch 2/20\n",
      "768/768 - 1258s - loss: 1.3998 - dense_4_loss: 0.8182 - dense_1_loss: 1.0365 - dense_3_loss: 0.9023 - dense_4_accuracy: 0.6470 - dense_1_accuracy: 0.5446 - dense_3_accuracy: 0.6011 - val_loss: 1.3821 - val_dense_4_loss: 0.8103 - val_dense_1_loss: 1.0181 - val_dense_3_loss: 0.8879 - val_dense_4_accuracy: 0.6497 - val_dense_1_accuracy: 0.5645 - val_dense_3_accuracy: 0.6230 - 1258s/epoch - 2s/step\n",
      "Epoch 3/20\n",
      "768/768 - 1263s - loss: 1.3883 - dense_4_loss: 0.8104 - dense_1_loss: 1.0370 - dense_3_loss: 0.8891 - dense_4_accuracy: 0.6523 - dense_1_accuracy: 0.5404 - dense_3_accuracy: 0.6087 - val_loss: 1.3657 - val_dense_4_loss: 0.7978 - val_dense_1_loss: 1.0142 - val_dense_3_loss: 0.8789 - val_dense_4_accuracy: 0.6569 - val_dense_1_accuracy: 0.5645 - val_dense_3_accuracy: 0.6178 - 1263s/epoch - 2s/step\n",
      "Epoch 4/20\n",
      "768/768 - 1259s - loss: 1.3806 - dense_4_loss: 0.8052 - dense_1_loss: 1.0313 - dense_3_loss: 0.8866 - dense_4_accuracy: 0.6527 - dense_1_accuracy: 0.5379 - dense_3_accuracy: 0.6092 - val_loss: 1.3640 - val_dense_4_loss: 0.7976 - val_dense_1_loss: 1.0113 - val_dense_3_loss: 0.8766 - val_dense_4_accuracy: 0.6549 - val_dense_1_accuracy: 0.5677 - val_dense_3_accuracy: 0.6263 - 1259s/epoch - 2s/step\n",
      "Epoch 5/20\n",
      "768/768 - 1256s - loss: 1.3706 - dense_4_loss: 0.7968 - dense_1_loss: 1.0274 - dense_3_loss: 0.8853 - dense_4_accuracy: 0.6589 - dense_1_accuracy: 0.5475 - dense_3_accuracy: 0.6169 - val_loss: 1.3494 - val_dense_4_loss: 0.7862 - val_dense_1_loss: 1.0083 - val_dense_3_loss: 0.8689 - val_dense_4_accuracy: 0.6615 - val_dense_1_accuracy: 0.5690 - val_dense_3_accuracy: 0.6204 - 1256s/epoch - 2s/step\n",
      "Epoch 6/20\n",
      "768/768 - 1248s - loss: 1.3572 - dense_4_loss: 0.7861 - dense_1_loss: 1.0226 - dense_3_loss: 0.8813 - dense_4_accuracy: 0.6636 - dense_1_accuracy: 0.5493 - dense_3_accuracy: 0.6156 - val_loss: 1.3561 - val_dense_4_loss: 0.7924 - val_dense_1_loss: 1.0062 - val_dense_3_loss: 0.8727 - val_dense_4_accuracy: 0.6549 - val_dense_1_accuracy: 0.5638 - val_dense_3_accuracy: 0.6354 - 1248s/epoch - 2s/step\n",
      "Epoch 7/20\n",
      "768/768 - 1251s - loss: 1.3560 - dense_4_loss: 0.7878 - dense_1_loss: 1.0189 - dense_3_loss: 0.8752 - dense_4_accuracy: 0.6659 - dense_1_accuracy: 0.5529 - dense_3_accuracy: 0.6159 - val_loss: 1.3376 - val_dense_4_loss: 0.7783 - val_dense_1_loss: 1.0024 - val_dense_3_loss: 0.8620 - val_dense_4_accuracy: 0.6621 - val_dense_1_accuracy: 0.5697 - val_dense_3_accuracy: 0.6257 - 1251s/epoch - 2s/step\n",
      "Epoch 8/20\n",
      "768/768 - 1256s - loss: 1.3530 - dense_4_loss: 0.7852 - dense_1_loss: 1.0219 - dense_3_loss: 0.8708 - dense_4_accuracy: 0.6733 - dense_1_accuracy: 0.5423 - dense_3_accuracy: 0.6261 - val_loss: 1.3303 - val_dense_4_loss: 0.7728 - val_dense_1_loss: 1.0004 - val_dense_3_loss: 0.8578 - val_dense_4_accuracy: 0.6706 - val_dense_1_accuracy: 0.5684 - val_dense_3_accuracy: 0.6341 - 1256s/epoch - 2s/step\n",
      "Epoch 9/20\n",
      "768/768 - 1260s - loss: 1.3446 - dense_4_loss: 0.7806 - dense_1_loss: 1.0127 - dense_3_loss: 0.8672 - dense_4_accuracy: 0.6631 - dense_1_accuracy: 0.5553 - dense_3_accuracy: 0.6224 - val_loss: 1.3275 - val_dense_4_loss: 0.7714 - val_dense_1_loss: 0.9978 - val_dense_3_loss: 0.8560 - val_dense_4_accuracy: 0.6660 - val_dense_1_accuracy: 0.5690 - val_dense_3_accuracy: 0.6315 - 1260s/epoch - 2s/step\n",
      "Epoch 10/20\n",
      "768/768 - 1260s - loss: 1.3322 - dense_4_loss: 0.7729 - dense_1_loss: 1.0066 - dense_3_loss: 0.8577 - dense_4_accuracy: 0.6678 - dense_1_accuracy: 0.5586 - dense_3_accuracy: 0.6307 - val_loss: 1.3199 - val_dense_4_loss: 0.7660 - val_dense_1_loss: 0.9952 - val_dense_3_loss: 0.8512 - val_dense_4_accuracy: 0.6699 - val_dense_1_accuracy: 0.5671 - val_dense_3_accuracy: 0.6380 - 1260s/epoch - 2s/step\n",
      "Epoch 11/20\n",
      "768/768 - 1262s - loss: 1.3236 - dense_4_loss: 0.7619 - dense_1_loss: 1.0129 - dense_3_loss: 0.8595 - dense_4_accuracy: 0.6763 - dense_1_accuracy: 0.5575 - dense_3_accuracy: 0.6242 - val_loss: 1.3134 - val_dense_4_loss: 0.7613 - val_dense_1_loss: 0.9929 - val_dense_3_loss: 0.8472 - val_dense_4_accuracy: 0.6706 - val_dense_1_accuracy: 0.5749 - val_dense_3_accuracy: 0.6400 - 1262s/epoch - 2s/step\n",
      "Epoch 12/20\n",
      "768/768 - 1261s - loss: 1.3234 - dense_4_loss: 0.7665 - dense_1_loss: 1.0077 - dense_3_loss: 0.8486 - dense_4_accuracy: 0.6712 - dense_1_accuracy: 0.5581 - dense_3_accuracy: 0.6364 - val_loss: 1.3081 - val_dense_4_loss: 0.7576 - val_dense_1_loss: 0.9909 - val_dense_3_loss: 0.8442 - val_dense_4_accuracy: 0.6719 - val_dense_1_accuracy: 0.5755 - val_dense_3_accuracy: 0.6354 - 1261s/epoch - 2s/step\n",
      "Epoch 13/20\n",
      "768/768 - 1264s - loss: 1.3184 - dense_4_loss: 0.7620 - dense_1_loss: 1.0019 - dense_3_loss: 0.8528 - dense_4_accuracy: 0.6740 - dense_1_accuracy: 0.5542 - dense_3_accuracy: 0.6294 - val_loss: 1.3061 - val_dense_4_loss: 0.7568 - val_dense_1_loss: 0.9885 - val_dense_3_loss: 0.8426 - val_dense_4_accuracy: 0.6719 - val_dense_1_accuracy: 0.5723 - val_dense_3_accuracy: 0.6387 - 1264s/epoch - 2s/step\n",
      "Epoch 14/20\n",
      "768/768 - 1263s - loss: 1.3051 - dense_4_loss: 0.7510 - dense_1_loss: 1.0010 - dense_3_loss: 0.8459 - dense_4_accuracy: 0.6844 - dense_1_accuracy: 0.5698 - dense_3_accuracy: 0.6356 - val_loss: 1.2969 - val_dense_4_loss: 0.7498 - val_dense_1_loss: 0.9862 - val_dense_3_loss: 0.8375 - val_dense_4_accuracy: 0.6771 - val_dense_1_accuracy: 0.5749 - val_dense_3_accuracy: 0.6445 - 1263s/epoch - 2s/step\n",
      "Epoch 15/20\n",
      "768/768 - 1263s - loss: 1.3028 - dense_4_loss: 0.7485 - dense_1_loss: 1.0012 - dense_3_loss: 0.8465 - dense_4_accuracy: 0.6828 - dense_1_accuracy: 0.5617 - dense_3_accuracy: 0.6361 - val_loss: 1.2927 - val_dense_4_loss: 0.7469 - val_dense_1_loss: 0.9847 - val_dense_3_loss: 0.8348 - val_dense_4_accuracy: 0.6790 - val_dense_1_accuracy: 0.5749 - val_dense_3_accuracy: 0.6471 - 1263s/epoch - 2s/step\n",
      "Epoch 16/20\n",
      "768/768 - 1263s - loss: 1.3001 - dense_4_loss: 0.7503 - dense_1_loss: 0.9897 - dense_3_loss: 0.8428 - dense_4_accuracy: 0.6753 - dense_1_accuracy: 0.5729 - dense_3_accuracy: 0.6370 - val_loss: 1.2903 - val_dense_4_loss: 0.7454 - val_dense_1_loss: 0.9826 - val_dense_3_loss: 0.8336 - val_dense_4_accuracy: 0.6816 - val_dense_1_accuracy: 0.5794 - val_dense_3_accuracy: 0.6504 - 1263s/epoch - 2s/step\n",
      "Epoch 17/20\n",
      "768/768 - 1265s - loss: 1.2934 - dense_4_loss: 0.7425 - dense_1_loss: 1.0000 - dense_3_loss: 0.8363 - dense_4_accuracy: 0.6852 - dense_1_accuracy: 0.5560 - dense_3_accuracy: 0.6385 - val_loss: 1.2821 - val_dense_4_loss: 0.7396 - val_dense_1_loss: 0.9799 - val_dense_3_loss: 0.8284 - val_dense_4_accuracy: 0.6771 - val_dense_1_accuracy: 0.5788 - val_dense_3_accuracy: 0.6504 - 1265s/epoch - 2s/step\n",
      "Epoch 18/20\n",
      "768/768 - 1267s - loss: 1.2921 - dense_4_loss: 0.7412 - dense_1_loss: 0.9971 - dense_3_loss: 0.8391 - dense_4_accuracy: 0.6815 - dense_1_accuracy: 0.5601 - dense_3_accuracy: 0.6419 - val_loss: 1.2841 - val_dense_4_loss: 0.7418 - val_dense_1_loss: 0.9785 - val_dense_3_loss: 0.8294 - val_dense_4_accuracy: 0.6764 - val_dense_1_accuracy: 0.5801 - val_dense_3_accuracy: 0.6393 - 1267s/epoch - 2s/step\n",
      "Epoch 19/20\n",
      "768/768 - 1266s - loss: 1.2891 - dense_4_loss: 0.7410 - dense_1_loss: 0.9917 - dense_3_loss: 0.8351 - dense_4_accuracy: 0.6833 - dense_1_accuracy: 0.5658 - dense_3_accuracy: 0.6361 - val_loss: 1.3003 - val_dense_4_loss: 0.7556 - val_dense_1_loss: 0.9776 - val_dense_3_loss: 0.8380 - val_dense_4_accuracy: 0.6686 - val_dense_1_accuracy: 0.5801 - val_dense_3_accuracy: 0.6491 - 1266s/epoch - 2s/step\n",
      "Epoch 20/20\n",
      "768/768 - 1268s - loss: 1.2856 - dense_4_loss: 0.7384 - dense_1_loss: 0.9917 - dense_3_loss: 0.8321 - dense_4_accuracy: 0.6759 - dense_1_accuracy: 0.5645 - dense_3_accuracy: 0.6416 - val_loss: 1.2821 - val_dense_4_loss: 0.7408 - val_dense_1_loss: 0.9764 - val_dense_3_loss: 0.8278 - val_dense_4_accuracy: 0.6777 - val_dense_1_accuracy: 0.5833 - val_dense_3_accuracy: 0.6393 - 1268s/epoch - 2s/step\n"
     ]
    },
    {
     "name": "stdout",
     "output_type": "stream",
     "text": [
      "Testing time (s) = 25211.846027359134\n",
      "\n",
      "for testing\n",
      "60/60 [==============================] - 79s 1s/step - loss: 1.2778 - dense_4_loss: 0.7381 - dense_1_loss: 0.9724 - dense_3_loss: 0.8264 - dense_4_accuracy: 0.6875 - dense_1_accuracy: 0.5776 - dense_3_accuracy: 0.6307\n",
      "[1.2777749300003052, 0.7381322383880615, 0.9724153876304626, 0.8263927698135376, 0.6875, 0.5776041746139526, 0.6307291388511658]\n",
      "for training\n",
      "240/240 [==============================] - 317s 1s/step - loss: 1.2552 - dense_4_loss: 0.7246 - dense_1_loss: 0.9598 - dense_3_loss: 0.8090 - dense_4_accuracy: 0.6949 - dense_1_accuracy: 0.6044 - dense_3_accuracy: 0.6630\n",
      "[1.255203127861023, 0.7245751023292542, 0.9597985148429871, 0.8089621067047119, 0.6949218511581421, 0.6044270992279053, 0.6630208492279053]\n"
     ]
    }
   ],
   "source": [
    "for x in range(1,2):\n",
    "    print(\"From epochs: \",20*x+1,\" to \",20+20*x)\n",
    "    tic = start_timer()\n",
    "    model.fit(x_train ,y_train ,batch_size=BATCH_SIZE ,epochs=20, verbose=2, validation_data=(x_val, y_val), shuffle=True)\n",
    "    toc = end_timer()\n",
    "    show_time(tic,toc)\n",
    "    print(\"for testing\")\n",
    "    print(model.evaluate(test_dataset,test_dataset_label))\n",
    "    print(\"for training\")\n",
    "    print(model.evaluate(train_dataset,train_dataset_label))"
   ]
  },
  {
   "cell_type": "code",
   "execution_count": null,
   "id": "bf6782f1",
   "metadata": {},
   "outputs": [],
   "source": []
  }
 ],
 "metadata": {
  "kernelspec": {
   "display_name": "Python 3 (ipykernel)",
   "language": "python",
   "name": "python3"
  },
  "language_info": {
   "codemirror_mode": {
    "name": "ipython",
    "version": 3
   },
   "file_extension": ".py",
   "mimetype": "text/x-python",
   "name": "python",
   "nbconvert_exporter": "python",
   "pygments_lexer": "ipython3",
   "version": "3.10.8"
  }
 },
 "nbformat": 4,
 "nbformat_minor": 5
}
