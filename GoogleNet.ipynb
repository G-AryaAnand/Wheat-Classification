{
 "cells": [
  {
   "cell_type": "code",
   "execution_count": 1,
   "id": "eb661222",
   "metadata": {},
   "outputs": [],
   "source": [
    "# !pip install opencv-python scikit-learn scikit-image matplotlib spectral keras_tuner vis\n",
    "# !pip install tensorflow numpy pandas\n",
    "# !pip install spectral"
   ]
  },
  {
   "cell_type": "code",
   "execution_count": 2,
   "id": "6b605089",
   "metadata": {},
   "outputs": [
    {
     "name": "stderr",
     "output_type": "stream",
     "text": [
      "2023-01-13 19:54:47.616171: I tensorflow/core/platform/cpu_feature_guard.cc:193] This TensorFlow binary is optimized with oneAPI Deep Neural Network Library (oneDNN) to use the following CPU instructions in performance-critical operations:  SSE4.1 SSE4.2 AVX AVX2 AVX512F FMA\n",
      "To enable them in other operations, rebuild TensorFlow with the appropriate compiler flags.\n"
     ]
    }
   ],
   "source": [
    "import tensorflow as tf"
   ]
  },
  {
   "cell_type": "code",
   "execution_count": 3,
   "id": "c6cc1a38",
   "metadata": {},
   "outputs": [],
   "source": [
    "from tensorflow import keras as keras\n",
    "from keras import layers as layers"
   ]
  },
  {
   "cell_type": "code",
   "execution_count": 4,
   "id": "6c004aea",
   "metadata": {},
   "outputs": [],
   "source": [
    "import os, timeit\n",
    "from skimage.filters import threshold_otsu\n",
    "import numpy as np\n",
    "from math import inf as inf"
   ]
  },
  {
   "cell_type": "code",
   "execution_count": 5,
   "id": "6c9300cb",
   "metadata": {},
   "outputs": [],
   "source": [
    "from spectral.io import envi as envi\n",
    "from spectral import imshow"
   ]
  },
  {
   "cell_type": "code",
   "execution_count": 6,
   "id": "ee790ffe",
   "metadata": {},
   "outputs": [],
   "source": [
    "from sklearn.decomposition import IncrementalPCA"
   ]
  },
  {
   "cell_type": "code",
   "execution_count": 7,
   "id": "bf3717a6",
   "metadata": {},
   "outputs": [],
   "source": [
    "import sys"
   ]
  },
  {
   "cell_type": "code",
   "execution_count": 8,
   "id": "3dd26930",
   "metadata": {},
   "outputs": [
    {
     "name": "stdout",
     "output_type": "stream",
     "text": [
      "Num GPUs Available:  2\n"
     ]
    }
   ],
   "source": [
    "print(\"Num GPUs Available: \", len(tf.config.list_physical_devices('GPU')))"
   ]
  },
  {
   "cell_type": "code",
   "execution_count": 9,
   "id": "0f72da7a",
   "metadata": {},
   "outputs": [],
   "source": [
    "from sys import platform\n",
    "DATA_DIRECTORY = \"\"\n",
    "SLASH = \"\"\n",
    "if platform == \"linux\" or platform == \"linux2\":\n",
    "    DATA_DIRECTORY = \"/home/nitintyagi/wheat data/BULK/\"\n",
    "    SLASH = \"/\"\n",
    "elif platform == \"win32\":\n",
    "    DATA_DIRECTORY = \"D:\\mvl\\wheat\\data\\BULK\\\\\"\n",
    "    SLASH=\"\\\\\""
   ]
  },
  {
   "cell_type": "code",
   "execution_count": 10,
   "id": "5979451f",
   "metadata": {},
   "outputs": [],
   "source": [
    "#Constants\n",
    "BAND_NUMBER = 60\n",
    "FILLED_AREA_RATIO = 0.9\n",
    "TOTAL_IMAGE_COUNT = 2400\n",
    "IMAGE_COUNT = int(TOTAL_IMAGE_COUNT/4)\n",
    "NUM_VARIETIES = 5\n",
    "\n",
    "IMAGE_WIDTH = 30\n",
    "IMAGE_HEIGHT = 30"
   ]
  },
  {
   "cell_type": "code",
   "execution_count": 11,
   "id": "066f0249",
   "metadata": {},
   "outputs": [],
   "source": [
    "ACTIVATION_TYPE =  \"relu\"\n",
    "BATCH_SIZE = 2*NUM_VARIETIES\n",
    "\n",
    "LEARNING_RATE_BASE = 0.0001"
   ]
  },
  {
   "cell_type": "code",
   "execution_count": 12,
   "id": "6f32e132",
   "metadata": {},
   "outputs": [],
   "source": [
    "from enum import Enum\n",
    "class filter_method(Enum):\n",
    "    none = 0\n",
    "    snv = 1\n",
    "    msc = 2\n",
    "    \n",
    "FILTER = filter_method(1).name"
   ]
  },
  {
   "cell_type": "code",
   "execution_count": 13,
   "id": "2e3a1d3a",
   "metadata": {},
   "outputs": [],
   "source": [
    "from enum import Enum\n",
    " \n",
    "class feature_extraction_method(Enum):\n",
    "    none = 0\n",
    "    pca_loading = 1\n",
    "    lda = 2\n",
    "    ipca = 3\n",
    "\n",
    "FEATURE_EXTRACTION = feature_extraction_method(0).name\n",
    "\n",
    "NUM_OF_BANDS = 3\n",
    "if FEATURE_EXTRACTION == \"pca_loading\" or FEATURE_EXTRACTION == \"ipca\":\n",
    "    NUM_OF_BANDS = 8\n",
    "elif FEATURE_EXTRACTION == \"lda\":\n",
    "    NUM_OF_BANDS = 3\n",
    "    assert NUM_OF_BANDS <= min(NUM_VARIETIES-1,168),\"NUM_OF_BANDS is greater.\"\n",
    "\n",
    "\n",
    "REMOVE_NOISY_BANDS = False\n",
    "FIRST_BAND = 21\n",
    "LAST_BAND = 149"
   ]
  },
  {
   "cell_type": "code",
   "execution_count": 14,
   "id": "e61072a5",
   "metadata": {},
   "outputs": [],
   "source": [
    "def start_timer():\n",
    "    print(\"Testing started\")\n",
    "    return timeit.default_timer()\n",
    "\n",
    "def end_timer():\n",
    "    return timeit.default_timer()\n",
    "\n",
    "def show_time(tic,toc): \n",
    "    test_time = toc - tic\n",
    "    print('Testing time (s) = ' + str(test_time) + '\\n')"
   ]
  },
  {
   "cell_type": "code",
   "execution_count": 15,
   "id": "e16e403c",
   "metadata": {},
   "outputs": [],
   "source": [
    "# List for All varieties\n",
    "VARIETIES = []\n",
    "VARIETIES_CODE = {}\n",
    "\n",
    "for name in os.listdir(DATA_DIRECTORY):\n",
    "    if (name.endswith(\".hdr\") or name.endswith(\".bil\")):\n",
    "        continue\n",
    "    VARIETIES_CODE[name] = len(VARIETIES)\n",
    "    VARIETIES.append(name)\n",
    "    if len(VARIETIES)==NUM_VARIETIES:\n",
    "        break"
   ]
  },
  {
   "cell_type": "code",
   "execution_count": 16,
   "id": "72409e2c",
   "metadata": {},
   "outputs": [],
   "source": [
    "def dataset_file_name(variety):\n",
    "    name = \"./dataset/V\"+str(variety).zfill(3)+\"_IC_\"+str(TOTAL_IMAGE_COUNT).zfill(5)+\"_FilledArea_\"+str(FILLED_AREA_RATIO)+\"_NumOfBands_\"+str(NUM_OF_BANDS)+\"_FB_\"+str(FIRST_BAND)+\"_LB_\"+str(LAST_BAND)+\"_BandNo_\"+str(BAND_NUMBER)+\"_ImageHeight_\"+str(IMAGE_HEIGHT)+\"_ImageWidth_\"+str(IMAGE_WIDTH)+\"_FILTER_\"+str(FILTER)+\"_FeatureExtraction_\"+str(FEATURE_EXTRACTION)\n",
    "    if REMOVE_NOISY_BANDS:\n",
    "        name+=\"_REMOVE_NOISY_BANDS_\"+str(REMOVE_NOISY_BANDS)\n",
    "    return name"
   ]
  },
  {
   "cell_type": "code",
   "execution_count": 17,
   "id": "e74afa6d",
   "metadata": {},
   "outputs": [
    {
     "name": "stdout",
     "output_type": "stream",
     "text": [
      "idx:  0\n",
      "idx:  1\n",
      "idx:  2\n",
      "idx:  3\n",
      "idx:  4\n"
     ]
    }
   ],
   "source": [
    "train_dataset = []\n",
    "train_dataset_label = []\n",
    "test_dataset=[]\n",
    "test_dataset_label = []\n",
    "\n",
    "for idx, v in enumerate(VARIETIES):\n",
    "    print(\"idx: \",idx)\n",
    "    if idx >= NUM_VARIETIES:\n",
    "        break\n",
    "    train_dataset= train_dataset + np.load(dataset_file_name(v)+\"_train_dataset.npy\").tolist()\n",
    "    train_dataset_label = train_dataset_label + np.load(dataset_file_name(v)+\"_train_dataset_label.npy\").tolist()\n",
    "    test_dataset = test_dataset + np.load(dataset_file_name(v)+\"_test_dataset.npy\").tolist()\n",
    "    test_dataset_label = test_dataset_label + np.load(dataset_file_name(v)+\"_test_dataset_label.npy\").tolist()\n",
    "    \n",
    "train_dataset = np.array(train_dataset)\n",
    "train_dataset_label = np.array(train_dataset_label)\n",
    "test_dataset = np.array(test_dataset)\n",
    "test_dataset_label = np.array(test_dataset_label)"
   ]
  },
  {
   "cell_type": "code",
   "execution_count": 18,
   "id": "c752599c",
   "metadata": {},
   "outputs": [],
   "source": [
    "import tensorflow as tf\n",
    "import matplotlib.pyplot as plt\n",
    "from tensorflow.keras import datasets, layers, models, losses, Model\n",
    "from keras.layers import Input, Conv2D, MaxPool2D, MaxPooling2D, Activation, Flatten, Dense, AveragePooling2D, GlobalAveragePooling2D\n",
    "from keras.layers.core import Dropout\n",
    "from keras.optimizers import Adam"
   ]
  },
  {
   "cell_type": "code",
   "execution_count": 19,
   "id": "d48cd5d7",
   "metadata": {},
   "outputs": [],
   "source": [
    "def normalizeDataWholeSeed(data,normalization_type='max'):\n",
    "    \n",
    "    if normalization_type == 'max':\n",
    "        for idx in range(data.shape[0]):\n",
    "            data[idx,:,:,:] = data[idx,:,:,:]/np.max(abs(data[idx,:,:,:]))\n",
    "            \n",
    "    elif normalization_type == 'l2norm':\n",
    "        from numpy import linalg as LA\n",
    "        for idx in range(data.shape[0]):\n",
    "            data[idx,:,:,:] = data[idx,:,:,:]/LA.norm(data[idx,:,:,:])       \n",
    "        \n",
    "    return data"
   ]
  },
  {
   "cell_type": "code",
   "execution_count": 20,
   "id": "aca8be82",
   "metadata": {},
   "outputs": [],
   "source": [
    "def inception(x,filters_1x1,filters_3x3_reduce,filters_3x3,filters_5x5_reduce,filters_5x5,filters_pool,activation_type='relu'):\n",
    "    path1 = Conv2D(filters_1x1,        (1, 1), padding='same', activation=activation_type)(x)\n",
    "    \n",
    "    path2 = Conv2D(filters_3x3_reduce, (1, 1), padding='same', activation=activation_type)(x)\n",
    "    path2 = Conv2D(filters_3x3,        (1, 1), padding='same', activation=activation_type)(path2)\n",
    "    \n",
    "    path3 = Conv2D(filters_5x5_reduce, (1, 1), padding='same', activation=activation_type)(x)\n",
    "    path3 = Conv2D(filters_5x5,        (1, 1), padding='same', activation=activation_type)(path3)\n",
    "    \n",
    "    path4 = MaxPool2D((3, 3),  strides=(1, 1), padding='same')(x)\n",
    "    path4 = Conv2D(filters_pool,       (1, 1), padding='same', activation=activation_type)(path4)\n",
    "    \n",
    "    return tf.concat([path1, path2, path3, path4], axis=3)"
   ]
  },
  {
   "cell_type": "code",
   "execution_count": 21,
   "id": "686f6ade",
   "metadata": {},
   "outputs": [],
   "source": [
    "def auxiliary_classifier(x,num_classes,activation_type='relu'):\n",
    "    aux = AveragePooling2D((5, 5), strides=3)(x)\n",
    "    aux = Conv2D(128, 1, padding='same', activation=activation_type)(aux)\n",
    "    aux = Flatten()(aux)\n",
    "    aux = Dense(1024, activation=activation_type)(aux)\n",
    "    aux = Dropout(0.7)(aux)\n",
    "    aux = Dense(num_classes, activation='softmax')(aux)\n",
    "    return aux"
   ]
  },
  {
   "cell_type": "code",
   "execution_count": 22,
   "id": "43d8a8cf",
   "metadata": {},
   "outputs": [],
   "source": [
    "def GoogleNetModel(data_num_rows, data_num_cols, num_input_chans=1, num_classes=NUM_VARIETIES, activation_type='relu', dropout_rate=0.0):\n",
    "\n",
    "    inp = Input(shape=(data_num_rows, data_num_cols, num_input_chans))\n",
    "    input_tensor = layers.experimental.preprocessing.Resizing(224, 224, interpolation=\"bilinear\", input_shape=train_dataset.shape[1:])(inp)\n",
    "    x = Conv2D(64,  7, strides=2, padding='same', activation=activation_type)(input_tensor)\n",
    "    x = MaxPooling2D(3, strides=2)(x)\n",
    "    x = Conv2D(64,  1, strides=1, padding='same', activation=activation_type)(x)\n",
    "    x = Conv2D(192, 3, strides=1, padding='same', activation=activation_type)(x)\n",
    "    x = MaxPooling2D(3, strides=2)(x)\n",
    "    x = inception(x, filters_1x1=64 , filters_3x3_reduce=96 , filters_3x3=128, filters_5x5_reduce=16, filters_5x5=32, filters_pool=32)\n",
    "    x = inception(x, filters_1x1=128, filters_3x3_reduce=128, filters_3x3=192, filters_5x5_reduce=32, filters_5x5=96, filters_pool=64)\n",
    "    x = MaxPooling2D(3, strides=2)(x)\n",
    "    x = inception(x, filters_1x1=192, filters_3x3_reduce=96 , filters_3x3=208, filters_5x5_reduce=16, filters_5x5=48, filters_pool=64)\n",
    "    \n",
    "    aux1 = auxiliary_classifier(x,num_classes)\n",
    "    \n",
    "    x = inception(x, filters_1x1=160, filters_3x3_reduce=112, filters_3x3=224, filters_5x5_reduce=24, filters_5x5=64, filters_pool=64)\n",
    "    x = inception(x, filters_1x1=128, filters_3x3_reduce=128, filters_3x3=256, filters_5x5_reduce=24, filters_5x5=64, filters_pool=64)\n",
    "    x = inception(x, filters_1x1=112, filters_3x3_reduce=144, filters_3x3=288, filters_5x5_reduce=32, filters_5x5=64, filters_pool=64)\n",
    "    \n",
    "    aux2 = auxiliary_classifier(x,num_classes)\n",
    "    \n",
    "    x = inception(x, filters_1x1=256, filters_3x3_reduce=160, filters_3x3=320, filters_5x5_reduce=32, filters_5x5=128, filters_pool=128)\n",
    "    x = MaxPooling2D(3, strides=2)(x)\n",
    "    x = inception(x, filters_1x1=256, filters_3x3_reduce=160, filters_3x3=320, filters_5x5_reduce=32, filters_5x5=128, filters_pool=128)\n",
    "    x = inception(x, filters_1x1=384, filters_3x3_reduce=192, filters_3x3=384, filters_5x5_reduce=48, filters_5x5=128, filters_pool=128)\n",
    "    x = GlobalAveragePooling2D()(x)\n",
    "    x = Dropout(dropout_rate)(x)\n",
    "    out = Dense(num_classes, activation='softmax')(x)\n",
    "    \n",
    "    return Model(inputs = inp, outputs = [out, aux1, aux2])"
   ]
  },
  {
   "cell_type": "code",
   "execution_count": 23,
   "id": "e3528776",
   "metadata": {},
   "outputs": [],
   "source": [
    "def getGoogleNetModel():\n",
    "    learning_rate_base = LEARNING_RATE_BASE\n",
    "    activation_type = ACTIVATION_TYPE\n",
    "    wheat_types =  VARIETIES\n",
    "    num_classes = len(wheat_types)\n",
    "    dropout_rate = 0.4\n",
    "    print(\"--------------Load Data--------------\")\n",
    "\n",
    "    x_training = np.array(train_dataset)\n",
    "    labels_training = np.array(train_dataset_label)\n",
    "    \n",
    "    # Normalize the data\n",
    "    x_training = normalizeDataWholeSeed(x_training)\n",
    "    \n",
    "    # Extract some information\n",
    "    num_train = x_training.shape[0]\n",
    "    N_spatial = x_training.shape[1:3]\n",
    "    N_channel = x_training.shape[3]\n",
    "    \n",
    "    print(\"--------------Done--------------\")\n",
    "    \n",
    "    ############ Create a model ############\n",
    "    print(\"--------------Create a model--------------\")\n",
    "    \n",
    "    # Generate a model\n",
    "    model = GoogleNetModel(data_num_rows = N_spatial[0], \n",
    "                           data_num_cols = N_spatial[1],\n",
    "                           num_input_chans = N_channel, \n",
    "                           num_classes = num_classes,\n",
    "                           activation_type = activation_type,\n",
    "                           dropout_rate = dropout_rate)\n",
    "\n",
    "    # Compile the model\n",
    "    adam_opt = Adam(learning_rate=LEARNING_RATE_BASE, beta_1=0.9, beta_2=0.999, epsilon=1e-08, decay=0.01)\n",
    "    model.compile(optimizer=adam_opt, loss=[losses.sparse_categorical_crossentropy,losses.sparse_categorical_crossentropy,losses.sparse_categorical_crossentropy],loss_weights=[1, 0.3, 0.3],metrics=['accuracy'])\n",
    "    print(\"---------Completed---------\")\n",
    "    return model"
   ]
  },
  {
   "cell_type": "code",
   "execution_count": 24,
   "id": "9df49795",
   "metadata": {},
   "outputs": [
    {
     "name": "stdout",
     "output_type": "stream",
     "text": [
      "--------------Load Data--------------\n",
      "--------------Done--------------\n",
      "--------------Create a model--------------\n"
     ]
    },
    {
     "name": "stderr",
     "output_type": "stream",
     "text": [
      "2023-01-13 20:02:41.392200: I tensorflow/core/platform/cpu_feature_guard.cc:193] This TensorFlow binary is optimized with oneAPI Deep Neural Network Library (oneDNN) to use the following CPU instructions in performance-critical operations:  SSE4.1 SSE4.2 AVX AVX2 AVX512F FMA\n",
      "To enable them in other operations, rebuild TensorFlow with the appropriate compiler flags.\n",
      "2023-01-13 20:02:45.513923: I tensorflow/core/common_runtime/gpu/gpu_device.cc:1616] Created device /job:localhost/replica:0/task:0/device:GPU:0 with 15519 MB memory:  -> device: 0, name: Quadro P5000, pci bus id: 0000:91:00.0, compute capability: 6.1\n",
      "2023-01-13 20:02:45.539149: I tensorflow/core/common_runtime/gpu/gpu_device.cc:1616] Created device /job:localhost/replica:0/task:0/device:GPU:1 with 15124 MB memory:  -> device: 1, name: Quadro P5000, pci bus id: 0000:9b:00.0, compute capability: 6.1\n"
     ]
    },
    {
     "name": "stdout",
     "output_type": "stream",
     "text": [
      "---------Completed---------\n"
     ]
    }
   ],
   "source": [
    "model = getGoogleNetModel()"
   ]
  },
  {
   "cell_type": "code",
   "execution_count": 25,
   "id": "5df8cc77",
   "metadata": {},
   "outputs": [],
   "source": [
    "x_train = []\n",
    "y_train = []\n",
    "x_val = []\n",
    "y_val = []\n",
    "\n",
    "for i in range(len(train_dataset)):\n",
    "    if i%5==0:\n",
    "        x_val.append(train_dataset[i])\n",
    "        y_val.append(train_dataset_label[i])\n",
    "    else:\n",
    "        x_train.append(train_dataset[i])\n",
    "        y_train.append(train_dataset_label[i])\n",
    "        \n",
    "x_train = np.array(x_train)\n",
    "y_train = np.array(y_train)\n",
    "y_train = [y_train,y_train,y_train]\n",
    "\n",
    "x_val = np.array(x_val)\n",
    "y_val = np.array(y_val)\n",
    "y_val = [y_val,y_val,y_val]"
   ]
  },
  {
   "cell_type": "code",
   "execution_count": 26,
   "id": "8aa727e4",
   "metadata": {},
   "outputs": [
    {
     "name": "stdout",
     "output_type": "stream",
     "text": [
      "From epochs:  1  to  20\n",
      "Testing started\n",
      "Epoch 1/20\n"
     ]
    },
    {
     "name": "stderr",
     "output_type": "stream",
     "text": [
      "2023-01-13 20:03:12.694911: I tensorflow/stream_executor/cuda/cuda_dnn.cc:384] Loaded cuDNN version 8401\n",
      "2023-01-13 20:03:17.114316: W tensorflow/stream_executor/gpu/asm_compiler.cc:111] *** WARNING *** You are using ptxas 9.1.108, which is older than 11.1. ptxas before 11.1 is known to miscompile XLA code, leading to incorrect results or invalid-address errors.\n",
      "\n",
      "You may not need to update to CUDA 11.1; cherry-picking the ptxas binary is often sufficient.\n"
     ]
    },
    {
     "name": "stdout",
     "output_type": "stream",
     "text": [
      "768/768 - 102s - loss: 2.5150 - dense_4_loss: 1.5681 - dense_1_loss: 1.5779 - dense_3_loss: 1.5784 - dense_4_accuracy: 0.2572 - dense_1_accuracy: 0.2552 - dense_3_accuracy: 0.2523 - val_loss: 2.3850 - val_dense_4_loss: 1.4802 - val_dense_1_loss: 1.5076 - val_dense_3_loss: 1.5085 - val_dense_4_accuracy: 0.3427 - val_dense_1_accuracy: 0.3271 - val_dense_3_accuracy: 0.3177 - 102s/epoch - 133ms/step\n",
      "Epoch 2/20\n",
      "768/768 - 82s - loss: 2.3621 - dense_4_loss: 1.4589 - dense_1_loss: 1.5110 - dense_3_loss: 1.4996 - dense_4_accuracy: 0.3565 - dense_1_accuracy: 0.3160 - dense_3_accuracy: 0.3148 - val_loss: 2.2605 - val_dense_4_loss: 1.3909 - val_dense_1_loss: 1.4543 - val_dense_3_loss: 1.4445 - val_dense_4_accuracy: 0.4083 - val_dense_1_accuracy: 0.3812 - val_dense_3_accuracy: 0.3833 - 82s/epoch - 107ms/step\n",
      "Epoch 3/20\n",
      "768/768 - 83s - loss: 2.1921 - dense_4_loss: 1.3336 - dense_1_loss: 1.4479 - dense_3_loss: 1.4136 - dense_4_accuracy: 0.4388 - dense_1_accuracy: 0.3634 - dense_3_accuracy: 0.3828 - val_loss: 2.0824 - val_dense_4_loss: 1.2629 - val_dense_1_loss: 1.3877 - val_dense_3_loss: 1.3439 - val_dense_4_accuracy: 0.4828 - val_dense_1_accuracy: 0.4370 - val_dense_3_accuracy: 0.4469 - 83s/epoch - 108ms/step\n",
      "Epoch 4/20\n",
      "768/768 - 83s - loss: 2.0595 - dense_4_loss: 1.2385 - dense_1_loss: 1.3975 - dense_3_loss: 1.3393 - dense_4_accuracy: 0.4815 - dense_1_accuracy: 0.3945 - dense_3_accuracy: 0.4233 - val_loss: 1.9409 - val_dense_4_loss: 1.1604 - val_dense_1_loss: 1.3395 - val_dense_3_loss: 1.2620 - val_dense_4_accuracy: 0.5188 - val_dense_1_accuracy: 0.4354 - val_dense_3_accuracy: 0.4656 - 83s/epoch - 109ms/step\n",
      "Epoch 5/20\n",
      "768/768 - 83s - loss: 1.9727 - dense_4_loss: 1.1745 - dense_1_loss: 1.3720 - dense_3_loss: 1.2888 - dense_4_accuracy: 0.5083 - dense_1_accuracy: 0.4115 - dense_3_accuracy: 0.4542 - val_loss: 1.9033 - val_dense_4_loss: 1.1412 - val_dense_1_loss: 1.3110 - val_dense_3_loss: 1.2295 - val_dense_4_accuracy: 0.5359 - val_dense_1_accuracy: 0.4583 - val_dense_3_accuracy: 0.4870 - 83s/epoch - 108ms/step\n",
      "Epoch 6/20\n",
      "768/768 - 82s - loss: 1.9028 - dense_4_loss: 1.1260 - dense_1_loss: 1.3485 - dense_3_loss: 1.2409 - dense_4_accuracy: 0.5348 - dense_1_accuracy: 0.4276 - dense_3_accuracy: 0.4793 - val_loss: 1.8252 - val_dense_4_loss: 1.0830 - val_dense_1_loss: 1.2902 - val_dense_3_loss: 1.1837 - val_dense_4_accuracy: 0.5604 - val_dense_1_accuracy: 0.4599 - val_dense_3_accuracy: 0.5057 - 82s/epoch - 107ms/step\n",
      "Epoch 7/20\n",
      "768/768 - 82s - loss: 1.8543 - dense_4_loss: 1.0914 - dense_1_loss: 1.3262 - dense_3_loss: 1.2168 - dense_4_accuracy: 0.5474 - dense_1_accuracy: 0.4379 - dense_3_accuracy: 0.4878 - val_loss: 1.8063 - val_dense_4_loss: 1.0725 - val_dense_1_loss: 1.2746 - val_dense_3_loss: 1.1714 - val_dense_4_accuracy: 0.5786 - val_dense_1_accuracy: 0.4802 - val_dense_3_accuracy: 0.5260 - 82s/epoch - 107ms/step\n",
      "Epoch 8/20\n",
      "768/768 - 82s - loss: 1.8168 - dense_4_loss: 1.0668 - dense_1_loss: 1.3151 - dense_3_loss: 1.1850 - dense_4_accuracy: 0.5699 - dense_1_accuracy: 0.4426 - dense_3_accuracy: 0.5090 - val_loss: 1.7150 - val_dense_4_loss: 1.0025 - val_dense_1_loss: 1.2547 - val_dense_3_loss: 1.1204 - val_dense_4_accuracy: 0.5984 - val_dense_1_accuracy: 0.4776 - val_dense_3_accuracy: 0.5443 - 82s/epoch - 107ms/step\n",
      "Epoch 9/20\n",
      "768/768 - 82s - loss: 1.7727 - dense_4_loss: 1.0346 - dense_1_loss: 1.2990 - dense_3_loss: 1.1614 - dense_4_accuracy: 0.5749 - dense_1_accuracy: 0.4495 - dense_3_accuracy: 0.5198 - val_loss: 1.6866 - val_dense_4_loss: 0.9838 - val_dense_1_loss: 1.2432 - val_dense_3_loss: 1.0993 - val_dense_4_accuracy: 0.5990 - val_dense_1_accuracy: 0.4807 - val_dense_3_accuracy: 0.5484 - 82s/epoch - 107ms/step\n",
      "Epoch 10/20\n",
      "768/768 - 82s - loss: 1.7277 - dense_4_loss: 1.0021 - dense_1_loss: 1.2838 - dense_3_loss: 1.1348 - dense_4_accuracy: 0.5819 - dense_1_accuracy: 0.4538 - dense_3_accuracy: 0.5279 - val_loss: 1.6538 - val_dense_4_loss: 0.9613 - val_dense_1_loss: 1.2310 - val_dense_3_loss: 1.0775 - val_dense_4_accuracy: 0.6187 - val_dense_1_accuracy: 0.4911 - val_dense_3_accuracy: 0.5656 - 82s/epoch - 107ms/step\n",
      "Epoch 11/20\n",
      "768/768 - 82s - loss: 1.7037 - dense_4_loss: 0.9883 - dense_1_loss: 1.2668 - dense_3_loss: 1.1178 - dense_4_accuracy: 0.5915 - dense_1_accuracy: 0.4674 - dense_3_accuracy: 0.5359 - val_loss: 1.6125 - val_dense_4_loss: 0.9314 - val_dense_1_loss: 1.2184 - val_dense_3_loss: 1.0518 - val_dense_4_accuracy: 0.6229 - val_dense_1_accuracy: 0.4922 - val_dense_3_accuracy: 0.5740 - 82s/epoch - 107ms/step\n",
      "Epoch 12/20\n",
      "768/768 - 82s - loss: 1.6744 - dense_4_loss: 0.9657 - dense_1_loss: 1.2624 - dense_3_loss: 1.0999 - dense_4_accuracy: 0.6070 - dense_1_accuracy: 0.4618 - dense_3_accuracy: 0.5445 - val_loss: 1.5890 - val_dense_4_loss: 0.9154 - val_dense_1_loss: 1.2091 - val_dense_3_loss: 1.0364 - val_dense_4_accuracy: 0.6323 - val_dense_1_accuracy: 0.5036 - val_dense_3_accuracy: 0.5724 - 82s/epoch - 107ms/step\n",
      "Epoch 13/20\n",
      "768/768 - 82s - loss: 1.6494 - dense_4_loss: 0.9493 - dense_1_loss: 1.2544 - dense_3_loss: 1.0791 - dense_4_accuracy: 0.6096 - dense_1_accuracy: 0.4732 - dense_3_accuracy: 0.5531 - val_loss: 1.5621 - val_dense_4_loss: 0.8970 - val_dense_1_loss: 1.1994 - val_dense_3_loss: 1.0175 - val_dense_4_accuracy: 0.6417 - val_dense_1_accuracy: 0.5047 - val_dense_3_accuracy: 0.5859 - 82s/epoch - 107ms/step\n",
      "Epoch 14/20\n",
      "768/768 - 82s - loss: 1.6173 - dense_4_loss: 0.9251 - dense_1_loss: 1.2451 - dense_3_loss: 1.0621 - dense_4_accuracy: 0.6199 - dense_1_accuracy: 0.4855 - dense_3_accuracy: 0.5717 - val_loss: 1.5393 - val_dense_4_loss: 0.8811 - val_dense_1_loss: 1.1920 - val_dense_3_loss: 1.0022 - val_dense_4_accuracy: 0.6604 - val_dense_1_accuracy: 0.5161 - val_dense_3_accuracy: 0.6078 - 82s/epoch - 107ms/step\n",
      "Epoch 15/20\n",
      "768/768 - 82s - loss: 1.5957 - dense_4_loss: 0.9125 - dense_1_loss: 1.2317 - dense_3_loss: 1.0455 - dense_4_accuracy: 0.6270 - dense_1_accuracy: 0.4818 - dense_3_accuracy: 0.5690 - val_loss: 1.5202 - val_dense_4_loss: 0.8694 - val_dense_1_loss: 1.1831 - val_dense_3_loss: 0.9863 - val_dense_4_accuracy: 0.6651 - val_dense_1_accuracy: 0.5245 - val_dense_3_accuracy: 0.6109 - 82s/epoch - 107ms/step\n",
      "Epoch 16/20\n",
      "768/768 - 82s - loss: 1.5663 - dense_4_loss: 0.8913 - dense_1_loss: 1.2221 - dense_3_loss: 1.0279 - dense_4_accuracy: 0.6397 - dense_1_accuracy: 0.4924 - dense_3_accuracy: 0.5771 - val_loss: 1.4919 - val_dense_4_loss: 0.8484 - val_dense_1_loss: 1.1752 - val_dense_3_loss: 0.9697 - val_dense_4_accuracy: 0.6641 - val_dense_1_accuracy: 0.5161 - val_dense_3_accuracy: 0.6089 - 82s/epoch - 107ms/step\n",
      "Epoch 17/20\n",
      "768/768 - 82s - loss: 1.5539 - dense_4_loss: 0.8823 - dense_1_loss: 1.2207 - dense_3_loss: 1.0181 - dense_4_accuracy: 0.6414 - dense_1_accuracy: 0.4923 - dense_3_accuracy: 0.5796 - val_loss: 1.4676 - val_dense_4_loss: 0.8313 - val_dense_1_loss: 1.1672 - val_dense_3_loss: 0.9536 - val_dense_4_accuracy: 0.6766 - val_dense_1_accuracy: 0.5240 - val_dense_3_accuracy: 0.6276 - 82s/epoch - 107ms/step\n",
      "Epoch 18/20\n",
      "768/768 - 82s - loss: 1.5279 - dense_4_loss: 0.8645 - dense_1_loss: 1.2087 - dense_3_loss: 1.0028 - dense_4_accuracy: 0.6409 - dense_1_accuracy: 0.5004 - dense_3_accuracy: 0.5876 - val_loss: 1.4532 - val_dense_4_loss: 0.8219 - val_dense_1_loss: 1.1608 - val_dense_3_loss: 0.9436 - val_dense_4_accuracy: 0.6766 - val_dense_1_accuracy: 0.5240 - val_dense_3_accuracy: 0.6276 - 82s/epoch - 107ms/step\n",
      "Epoch 19/20\n",
      "768/768 - 82s - loss: 1.5087 - dense_4_loss: 0.8525 - dense_1_loss: 1.2019 - dense_3_loss: 0.9856 - dense_4_accuracy: 0.6509 - dense_1_accuracy: 0.4984 - dense_3_accuracy: 0.5923 - val_loss: 1.4353 - val_dense_4_loss: 0.8105 - val_dense_1_loss: 1.1529 - val_dense_3_loss: 0.9298 - val_dense_4_accuracy: 0.6802 - val_dense_1_accuracy: 0.5396 - val_dense_3_accuracy: 0.6432 - 82s/epoch - 107ms/step\n",
      "Epoch 20/20\n",
      "768/768 - 82s - loss: 1.4918 - dense_4_loss: 0.8407 - dense_1_loss: 1.1974 - dense_3_loss: 0.9728 - dense_4_accuracy: 0.6592 - dense_1_accuracy: 0.5081 - dense_3_accuracy: 0.6012 - val_loss: 1.4217 - val_dense_4_loss: 0.8021 - val_dense_1_loss: 1.1475 - val_dense_3_loss: 0.9180 - val_dense_4_accuracy: 0.6917 - val_dense_1_accuracy: 0.5443 - val_dense_3_accuracy: 0.6495 - 82s/epoch - 107ms/step\n",
      "Testing time (s) = 1678.0759803400001\n",
      "\n",
      "for testing\n"
     ]
    },
    {
     "name": "stdout",
     "output_type": "stream",
     "text": [
      "75/75 [==============================] - 12s 118ms/step - loss: 1.4625 - dense_4_loss: 0.8303 - dense_1_loss: 1.1644 - dense_3_loss: 0.9431 - dense_4_accuracy: 0.6717 - dense_1_accuracy: 0.5346 - dense_3_accuracy: 0.6283\n",
      "[1.4625171422958374, 0.8302845358848572, 1.1643569469451904, 0.9430844187736511, 0.67166668176651, 0.534583330154419, 0.628333330154419]\n",
      "for training\n"
     ]
    },
    {
     "name": "stderr",
     "output_type": "stream",
     "text": [
      "2023-01-13 20:31:09.325283: W tensorflow/core/framework/cpu_allocator_impl.cc:82] Allocation of 5806080000 exceeds 10% of free system memory.\n",
      "2023-01-13 20:31:18.301664: W tensorflow/core/framework/cpu_allocator_impl.cc:82] Allocation of 5806080000 exceeds 10% of free system memory.\n"
     ]
    },
    {
     "name": "stdout",
     "output_type": "stream",
     "text": [
      "300/300 [==============================] - 35s 118ms/step - loss: 1.4236 - dense_4_loss: 0.8023 - dense_1_loss: 1.1492 - dense_3_loss: 0.9218 - dense_4_accuracy: 0.6862 - dense_1_accuracy: 0.5455 - dense_3_accuracy: 0.6405\n",
      "[1.4236412048339844, 0.8023425340652466, 1.149204134941101, 0.9217905402183533, 0.6862499713897705, 0.5455208420753479, 0.6405208110809326]\n"
     ]
    }
   ],
   "source": [
    "for x in range(1):\n",
    "    print(\"From epochs: \",20*x+1,\" to \",20+20*x)\n",
    "    tic = start_timer()\n",
    "    model.fit(x_train ,y_train ,batch_size=BATCH_SIZE ,epochs=20, verbose=2, validation_data=(x_val, y_val), shuffle=True)\n",
    "    toc = end_timer()\n",
    "    show_time(tic,toc)\n",
    "    print(\"for testing\")\n",
    "    print(model.evaluate(test_dataset,test_dataset_label))\n",
    "    print(\"for training\")\n",
    "    print(model.evaluate(train_dataset,train_dataset_label))"
   ]
  },
  {
   "cell_type": "code",
   "execution_count": 27,
   "id": "b89c2d88",
   "metadata": {},
   "outputs": [
    {
     "name": "stdout",
     "output_type": "stream",
     "text": [
      "Model: \"model\"\n",
      "__________________________________________________________________________________________________\n",
      " Layer (type)                   Output Shape         Param #     Connected to                     \n",
      "==================================================================================================\n",
      " input_1 (InputLayer)           [(None, 30, 30, 168  0           []                               \n",
      "                                )]                                                                \n",
      "                                                                                                  \n",
      " resizing (Resizing)            (None, 224, 224, 16  0           ['input_1[0][0]']                \n",
      "                                8)                                                                \n",
      "                                                                                                  \n",
      " conv2d (Conv2D)                (None, 112, 112, 64  526912      ['resizing[0][0]']               \n",
      "                                )                                                                 \n",
      "                                                                                                  \n",
      " max_pooling2d (MaxPooling2D)   (None, 55, 55, 64)   0           ['conv2d[0][0]']                 \n",
      "                                                                                                  \n",
      " conv2d_1 (Conv2D)              (None, 55, 55, 64)   4160        ['max_pooling2d[0][0]']          \n",
      "                                                                                                  \n",
      " conv2d_2 (Conv2D)              (None, 55, 55, 192)  110784      ['conv2d_1[0][0]']               \n",
      "                                                                                                  \n",
      " max_pooling2d_1 (MaxPooling2D)  (None, 27, 27, 192)  0          ['conv2d_2[0][0]']               \n",
      "                                                                                                  \n",
      " conv2d_4 (Conv2D)              (None, 27, 27, 96)   18528       ['max_pooling2d_1[0][0]']        \n",
      "                                                                                                  \n",
      " conv2d_6 (Conv2D)              (None, 27, 27, 16)   3088        ['max_pooling2d_1[0][0]']        \n",
      "                                                                                                  \n",
      " max_pooling2d_2 (MaxPooling2D)  (None, 27, 27, 192)  0          ['max_pooling2d_1[0][0]']        \n",
      "                                                                                                  \n",
      " conv2d_3 (Conv2D)              (None, 27, 27, 64)   12352       ['max_pooling2d_1[0][0]']        \n",
      "                                                                                                  \n",
      " conv2d_5 (Conv2D)              (None, 27, 27, 128)  12416       ['conv2d_4[0][0]']               \n",
      "                                                                                                  \n",
      " conv2d_7 (Conv2D)              (None, 27, 27, 32)   544         ['conv2d_6[0][0]']               \n",
      "                                                                                                  \n",
      " conv2d_8 (Conv2D)              (None, 27, 27, 32)   6176        ['max_pooling2d_2[0][0]']        \n",
      "                                                                                                  \n",
      " tf.concat (TFOpLambda)         (None, 27, 27, 256)  0           ['conv2d_3[0][0]',               \n",
      "                                                                  'conv2d_5[0][0]',               \n",
      "                                                                  'conv2d_7[0][0]',               \n",
      "                                                                  'conv2d_8[0][0]']               \n",
      "                                                                                                  \n",
      " conv2d_10 (Conv2D)             (None, 27, 27, 128)  32896       ['tf.concat[0][0]']              \n",
      "                                                                                                  \n",
      " conv2d_12 (Conv2D)             (None, 27, 27, 32)   8224        ['tf.concat[0][0]']              \n",
      "                                                                                                  \n",
      " max_pooling2d_3 (MaxPooling2D)  (None, 27, 27, 256)  0          ['tf.concat[0][0]']              \n",
      "                                                                                                  \n",
      " conv2d_9 (Conv2D)              (None, 27, 27, 128)  32896       ['tf.concat[0][0]']              \n",
      "                                                                                                  \n",
      " conv2d_11 (Conv2D)             (None, 27, 27, 192)  24768       ['conv2d_10[0][0]']              \n",
      "                                                                                                  \n",
      " conv2d_13 (Conv2D)             (None, 27, 27, 96)   3168        ['conv2d_12[0][0]']              \n",
      "                                                                                                  \n",
      " conv2d_14 (Conv2D)             (None, 27, 27, 64)   16448       ['max_pooling2d_3[0][0]']        \n",
      "                                                                                                  \n",
      " tf.concat_1 (TFOpLambda)       (None, 27, 27, 480)  0           ['conv2d_9[0][0]',               \n",
      "                                                                  'conv2d_11[0][0]',              \n",
      "                                                                  'conv2d_13[0][0]',              \n",
      "                                                                  'conv2d_14[0][0]']              \n",
      "                                                                                                  \n",
      " max_pooling2d_4 (MaxPooling2D)  (None, 13, 13, 480)  0          ['tf.concat_1[0][0]']            \n",
      "                                                                                                  \n",
      " conv2d_16 (Conv2D)             (None, 13, 13, 96)   46176       ['max_pooling2d_4[0][0]']        \n",
      "                                                                                                  \n",
      " conv2d_18 (Conv2D)             (None, 13, 13, 16)   7696        ['max_pooling2d_4[0][0]']        \n",
      "                                                                                                  \n",
      " max_pooling2d_5 (MaxPooling2D)  (None, 13, 13, 480)  0          ['max_pooling2d_4[0][0]']        \n",
      "                                                                                                  \n",
      " conv2d_15 (Conv2D)             (None, 13, 13, 192)  92352       ['max_pooling2d_4[0][0]']        \n",
      "                                                                                                  \n",
      " conv2d_17 (Conv2D)             (None, 13, 13, 208)  20176       ['conv2d_16[0][0]']              \n",
      "                                                                                                  \n",
      " conv2d_19 (Conv2D)             (None, 13, 13, 48)   816         ['conv2d_18[0][0]']              \n",
      "                                                                                                  \n",
      " conv2d_20 (Conv2D)             (None, 13, 13, 64)   30784       ['max_pooling2d_5[0][0]']        \n",
      "                                                                                                  \n",
      " tf.concat_2 (TFOpLambda)       (None, 13, 13, 512)  0           ['conv2d_15[0][0]',              \n",
      "                                                                  'conv2d_17[0][0]',              \n",
      "                                                                  'conv2d_19[0][0]',              \n",
      "                                                                  'conv2d_20[0][0]']              \n",
      "                                                                                                  \n",
      " conv2d_23 (Conv2D)             (None, 13, 13, 112)  57456       ['tf.concat_2[0][0]']            \n",
      "                                                                                                  \n",
      " conv2d_25 (Conv2D)             (None, 13, 13, 24)   12312       ['tf.concat_2[0][0]']            \n",
      "                                                                                                  \n"
     ]
    },
    {
     "name": "stdout",
     "output_type": "stream",
     "text": [
      " max_pooling2d_6 (MaxPooling2D)  (None, 13, 13, 512)  0          ['tf.concat_2[0][0]']            \n",
      "                                                                                                  \n",
      " conv2d_22 (Conv2D)             (None, 13, 13, 160)  82080       ['tf.concat_2[0][0]']            \n",
      "                                                                                                  \n",
      " conv2d_24 (Conv2D)             (None, 13, 13, 224)  25312       ['conv2d_23[0][0]']              \n",
      "                                                                                                  \n",
      " conv2d_26 (Conv2D)             (None, 13, 13, 64)   1600        ['conv2d_25[0][0]']              \n",
      "                                                                                                  \n",
      " conv2d_27 (Conv2D)             (None, 13, 13, 64)   32832       ['max_pooling2d_6[0][0]']        \n",
      "                                                                                                  \n",
      " tf.concat_3 (TFOpLambda)       (None, 13, 13, 512)  0           ['conv2d_22[0][0]',              \n",
      "                                                                  'conv2d_24[0][0]',              \n",
      "                                                                  'conv2d_26[0][0]',              \n",
      "                                                                  'conv2d_27[0][0]']              \n",
      "                                                                                                  \n",
      " conv2d_29 (Conv2D)             (None, 13, 13, 128)  65664       ['tf.concat_3[0][0]']            \n",
      "                                                                                                  \n",
      " conv2d_31 (Conv2D)             (None, 13, 13, 24)   12312       ['tf.concat_3[0][0]']            \n",
      "                                                                                                  \n",
      " max_pooling2d_7 (MaxPooling2D)  (None, 13, 13, 512)  0          ['tf.concat_3[0][0]']            \n",
      "                                                                                                  \n",
      " conv2d_28 (Conv2D)             (None, 13, 13, 128)  65664       ['tf.concat_3[0][0]']            \n",
      "                                                                                                  \n",
      " conv2d_30 (Conv2D)             (None, 13, 13, 256)  33024       ['conv2d_29[0][0]']              \n",
      "                                                                                                  \n",
      " conv2d_32 (Conv2D)             (None, 13, 13, 64)   1600        ['conv2d_31[0][0]']              \n",
      "                                                                                                  \n",
      " conv2d_33 (Conv2D)             (None, 13, 13, 64)   32832       ['max_pooling2d_7[0][0]']        \n",
      "                                                                                                  \n",
      " tf.concat_4 (TFOpLambda)       (None, 13, 13, 512)  0           ['conv2d_28[0][0]',              \n",
      "                                                                  'conv2d_30[0][0]',              \n",
      "                                                                  'conv2d_32[0][0]',              \n",
      "                                                                  'conv2d_33[0][0]']              \n",
      "                                                                                                  \n",
      " conv2d_35 (Conv2D)             (None, 13, 13, 144)  73872       ['tf.concat_4[0][0]']            \n",
      "                                                                                                  \n",
      " conv2d_37 (Conv2D)             (None, 13, 13, 32)   16416       ['tf.concat_4[0][0]']            \n",
      "                                                                                                  \n",
      " max_pooling2d_8 (MaxPooling2D)  (None, 13, 13, 512)  0          ['tf.concat_4[0][0]']            \n",
      "                                                                                                  \n",
      " conv2d_34 (Conv2D)             (None, 13, 13, 112)  57456       ['tf.concat_4[0][0]']            \n",
      "                                                                                                  \n",
      " conv2d_36 (Conv2D)             (None, 13, 13, 288)  41760       ['conv2d_35[0][0]']              \n",
      "                                                                                                  \n",
      " conv2d_38 (Conv2D)             (None, 13, 13, 64)   2112        ['conv2d_37[0][0]']              \n",
      "                                                                                                  \n",
      " conv2d_39 (Conv2D)             (None, 13, 13, 64)   32832       ['max_pooling2d_8[0][0]']        \n",
      "                                                                                                  \n",
      " tf.concat_5 (TFOpLambda)       (None, 13, 13, 528)  0           ['conv2d_34[0][0]',              \n",
      "                                                                  'conv2d_36[0][0]',              \n",
      "                                                                  'conv2d_38[0][0]',              \n",
      "                                                                  'conv2d_39[0][0]']              \n",
      "                                                                                                  \n",
      " conv2d_42 (Conv2D)             (None, 13, 13, 160)  84640       ['tf.concat_5[0][0]']            \n",
      "                                                                                                  \n",
      " conv2d_44 (Conv2D)             (None, 13, 13, 32)   16928       ['tf.concat_5[0][0]']            \n",
      "                                                                                                  \n",
      " max_pooling2d_9 (MaxPooling2D)  (None, 13, 13, 528)  0          ['tf.concat_5[0][0]']            \n",
      "                                                                                                  \n",
      " conv2d_41 (Conv2D)             (None, 13, 13, 256)  135424      ['tf.concat_5[0][0]']            \n",
      "                                                                                                  \n",
      " conv2d_43 (Conv2D)             (None, 13, 13, 320)  51520       ['conv2d_42[0][0]']              \n",
      "                                                                                                  \n",
      " conv2d_45 (Conv2D)             (None, 13, 13, 128)  4224        ['conv2d_44[0][0]']              \n",
      "                                                                                                  \n",
      " conv2d_46 (Conv2D)             (None, 13, 13, 128)  67712       ['max_pooling2d_9[0][0]']        \n",
      "                                                                                                  \n",
      " tf.concat_6 (TFOpLambda)       (None, 13, 13, 832)  0           ['conv2d_41[0][0]',              \n",
      "                                                                  'conv2d_43[0][0]',              \n",
      "                                                                  'conv2d_45[0][0]',              \n",
      "                                                                  'conv2d_46[0][0]']              \n",
      "                                                                                                  \n",
      " max_pooling2d_10 (MaxPooling2D  (None, 6, 6, 832)   0           ['tf.concat_6[0][0]']            \n",
      " )                                                                                                \n",
      "                                                                                                  \n",
      " conv2d_48 (Conv2D)             (None, 6, 6, 160)    133280      ['max_pooling2d_10[0][0]']       \n",
      "                                                                                                  \n",
      " conv2d_50 (Conv2D)             (None, 6, 6, 32)     26656       ['max_pooling2d_10[0][0]']       \n",
      "                                                                                                  \n",
      " max_pooling2d_11 (MaxPooling2D  (None, 6, 6, 832)   0           ['max_pooling2d_10[0][0]']       \n",
      " )                                                                                                \n",
      "                                                                                                  \n",
      " conv2d_47 (Conv2D)             (None, 6, 6, 256)    213248      ['max_pooling2d_10[0][0]']       \n"
     ]
    },
    {
     "name": "stdout",
     "output_type": "stream",
     "text": [
      "                                                                                                  \n",
      " conv2d_49 (Conv2D)             (None, 6, 6, 320)    51520       ['conv2d_48[0][0]']              \n",
      "                                                                                                  \n",
      " conv2d_51 (Conv2D)             (None, 6, 6, 128)    4224        ['conv2d_50[0][0]']              \n",
      "                                                                                                  \n",
      " conv2d_52 (Conv2D)             (None, 6, 6, 128)    106624      ['max_pooling2d_11[0][0]']       \n",
      "                                                                                                  \n",
      " tf.concat_7 (TFOpLambda)       (None, 6, 6, 832)    0           ['conv2d_47[0][0]',              \n",
      "                                                                  'conv2d_49[0][0]',              \n",
      "                                                                  'conv2d_51[0][0]',              \n",
      "                                                                  'conv2d_52[0][0]']              \n",
      "                                                                                                  \n",
      " conv2d_54 (Conv2D)             (None, 6, 6, 192)    159936      ['tf.concat_7[0][0]']            \n",
      "                                                                                                  \n",
      " conv2d_56 (Conv2D)             (None, 6, 6, 48)     39984       ['tf.concat_7[0][0]']            \n",
      "                                                                                                  \n",
      " max_pooling2d_12 (MaxPooling2D  (None, 6, 6, 832)   0           ['tf.concat_7[0][0]']            \n",
      " )                                                                                                \n",
      "                                                                                                  \n",
      " average_pooling2d (AveragePool  (None, 3, 3, 512)   0           ['tf.concat_2[0][0]']            \n",
      " ing2D)                                                                                           \n",
      "                                                                                                  \n",
      " average_pooling2d_1 (AveragePo  (None, 3, 3, 528)   0           ['tf.concat_5[0][0]']            \n",
      " oling2D)                                                                                         \n",
      "                                                                                                  \n",
      " conv2d_53 (Conv2D)             (None, 6, 6, 384)    319872      ['tf.concat_7[0][0]']            \n",
      "                                                                                                  \n",
      " conv2d_55 (Conv2D)             (None, 6, 6, 384)    74112       ['conv2d_54[0][0]']              \n",
      "                                                                                                  \n",
      " conv2d_57 (Conv2D)             (None, 6, 6, 128)    6272        ['conv2d_56[0][0]']              \n",
      "                                                                                                  \n",
      " conv2d_58 (Conv2D)             (None, 6, 6, 128)    106624      ['max_pooling2d_12[0][0]']       \n",
      "                                                                                                  \n",
      " conv2d_21 (Conv2D)             (None, 3, 3, 128)    65664       ['average_pooling2d[0][0]']      \n",
      "                                                                                                  \n",
      " conv2d_40 (Conv2D)             (None, 3, 3, 128)    67712       ['average_pooling2d_1[0][0]']    \n",
      "                                                                                                  \n",
      " tf.concat_8 (TFOpLambda)       (None, 6, 6, 1024)   0           ['conv2d_53[0][0]',              \n",
      "                                                                  'conv2d_55[0][0]',              \n",
      "                                                                  'conv2d_57[0][0]',              \n",
      "                                                                  'conv2d_58[0][0]']              \n",
      "                                                                                                  \n",
      " flatten (Flatten)              (None, 1152)         0           ['conv2d_21[0][0]']              \n",
      "                                                                                                  \n",
      " flatten_1 (Flatten)            (None, 1152)         0           ['conv2d_40[0][0]']              \n",
      "                                                                                                  \n",
      " global_average_pooling2d (Glob  (None, 1024)        0           ['tf.concat_8[0][0]']            \n",
      " alAveragePooling2D)                                                                              \n",
      "                                                                                                  \n",
      " dense (Dense)                  (None, 1024)         1180672     ['flatten[0][0]']                \n",
      "                                                                                                  \n",
      " dense_2 (Dense)                (None, 1024)         1180672     ['flatten_1[0][0]']              \n",
      "                                                                                                  \n",
      " dropout_2 (Dropout)            (None, 1024)         0           ['global_average_pooling2d[0][0]'\n",
      "                                                                 ]                                \n",
      "                                                                                                  \n",
      " dropout (Dropout)              (None, 1024)         0           ['dense[0][0]']                  \n",
      "                                                                                                  \n",
      " dropout_1 (Dropout)            (None, 1024)         0           ['dense_2[0][0]']                \n",
      "                                                                                                  \n",
      " dense_4 (Dense)                (None, 5)            5125        ['dropout_2[0][0]']              \n",
      "                                                                                                  \n",
      " dense_1 (Dense)                (None, 5)            5125        ['dropout[0][0]']                \n",
      "                                                                                                  \n",
      " dense_3 (Dense)                (None, 5)            5125        ['dropout_1[0][0]']              \n",
      "                                                                                                  \n",
      "==================================================================================================\n",
      "Total params: 5,771,391\n",
      "Trainable params: 5,771,391\n",
      "Non-trainable params: 0\n",
      "__________________________________________________________________________________________________\n"
     ]
    }
   ],
   "source": [
    "model.summary()"
   ]
  },
  {
   "cell_type": "code",
   "execution_count": null,
   "id": "d435704d",
   "metadata": {},
   "outputs": [
    {
     "name": "stdout",
     "output_type": "stream",
     "text": [
      "From epochs:  21  to  40\n",
      "Testing started\n"
     ]
    }
   ],
   "source": [
    "for x in range(1,2):\n",
    "    print(\"From epochs: \",20*x+1,\" to \",20+20*x)\n",
    "    tic = start_timer()\n",
    "    model.fit(x_train ,y_train ,batch_size=BATCH_SIZE ,epochs=20, verbose=2, validation_data=(x_val, y_val), shuffle=True)\n",
    "    toc = end_timer()\n",
    "    show_time(tic,toc)\n",
    "    print(\"for testing\")\n",
    "    print(model.evaluate(test_dataset,test_dataset_label))\n",
    "    print(\"for training\")\n",
    "    print(model.evaluate(train_dataset,train_dataset_label))"
   ]
  },
  {
   "cell_type": "code",
   "execution_count": null,
   "id": "c4b76eb2",
   "metadata": {},
   "outputs": [],
   "source": []
  }
 ],
 "metadata": {
  "kernelspec": {
   "display_name": "Python 3 (ipykernel)",
   "language": "python",
   "name": "python3"
  },
  "language_info": {
   "codemirror_mode": {
    "name": "ipython",
    "version": 3
   },
   "file_extension": ".py",
   "mimetype": "text/x-python",
   "name": "python",
   "nbconvert_exporter": "python",
   "pygments_lexer": "ipython3",
   "version": "3.10.8"
  }
 },
 "nbformat": 4,
 "nbformat_minor": 5
}
