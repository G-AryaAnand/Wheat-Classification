{
 "cells": [
  {
   "cell_type": "code",
   "execution_count": 1,
   "id": "ffd5f299",
   "metadata": {},
   "outputs": [
    {
     "name": "stderr",
     "output_type": "stream",
     "text": [
      "2023-09-09 12:33:07.406851: I tensorflow/core/platform/cpu_feature_guard.cc:182] This TensorFlow binary is optimized to use available CPU instructions in performance-critical operations.\n",
      "To enable the following instructions: AVX2 AVX512F FMA, in other operations, rebuild TensorFlow with the appropriate compiler flags.\n",
      "2023-09-09 12:33:08.312943: W tensorflow/compiler/tf2tensorrt/utils/py_utils.cc:38] TF-TRT Warning: Could not find TensorRT\n",
      "/home/nitin_temp/anaconda3/lib/python3.9/site-packages/scipy/__init__.py:146: UserWarning: A NumPy version >=1.16.5 and <1.23.0 is required for this version of SciPy (detected version 1.24.3\n",
      "  warnings.warn(f\"A NumPy version >={np_minversion} and <{np_maxversion}\"\n"
     ]
    }
   ],
   "source": [
    "import tensorflow as tf"
   ]
  },
  {
   "cell_type": "code",
   "execution_count": 2,
   "id": "a93a32cf",
   "metadata": {},
   "outputs": [
    {
     "data": {
      "text/plain": [
       "'1.12.1'"
      ]
     },
     "execution_count": 2,
     "metadata": {},
     "output_type": "execute_result"
    }
   ],
   "source": [
    "import wrapt\n",
    "wrapt.__version__   # should be 1.14.1"
   ]
  },
  {
   "cell_type": "code",
   "execution_count": 3,
   "id": "8bb57a93",
   "metadata": {},
   "outputs": [],
   "source": [
    "from tensorflow import keras as keras\n",
    "from keras import layers as layers"
   ]
  },
  {
   "cell_type": "code",
   "execution_count": 4,
   "id": "32710dec",
   "metadata": {},
   "outputs": [],
   "source": [
    "import os, timeit\n",
    "from skimage.filters import threshold_otsu\n",
    "import numpy as np\n",
    "from math import inf as inf"
   ]
  },
  {
   "cell_type": "code",
   "execution_count": 5,
   "id": "03618476",
   "metadata": {},
   "outputs": [],
   "source": [
    "import pandas as pd"
   ]
  },
  {
   "cell_type": "code",
   "execution_count": 6,
   "id": "ccaf9f62",
   "metadata": {},
   "outputs": [],
   "source": [
    "from spectral.io import envi as envi\n",
    "from spectral import imshow"
   ]
  },
  {
   "cell_type": "code",
   "execution_count": 7,
   "id": "998e218d",
   "metadata": {},
   "outputs": [],
   "source": [
    "from sklearn.decomposition import IncrementalPCA"
   ]
  },
  {
   "cell_type": "code",
   "execution_count": 8,
   "id": "edeecd9a",
   "metadata": {},
   "outputs": [],
   "source": [
    "import sys"
   ]
  },
  {
   "cell_type": "code",
   "execution_count": 9,
   "id": "0ec15112",
   "metadata": {},
   "outputs": [],
   "source": [
    "from tensorflow.keras.utils import set_random_seed\n",
    "set_random_seed(42)"
   ]
  },
  {
   "cell_type": "code",
   "execution_count": 10,
   "id": "46c1a1ca",
   "metadata": {},
   "outputs": [
    {
     "name": "stdout",
     "output_type": "stream",
     "text": [
      "Num GPUs Available:  1\n"
     ]
    }
   ],
   "source": [
    "print(\"Num GPUs Available: \", len(tf.config.list_physical_devices('GPU')))"
   ]
  },
  {
   "cell_type": "code",
   "execution_count": 11,
   "id": "dd6a6148",
   "metadata": {},
   "outputs": [],
   "source": [
    "from sys import platform\n",
    "DATA_DIRECTORY = \"\"\n",
    "SLASH = \"\"\n",
    "if platform == \"linux\" or platform == \"linux2\":\n",
    "    DATA_DIRECTORY = \"/home/nitin_temp/Desktop/BTP/data/BULK/\"\n",
    "    SLASH = \"/\"\n",
    "elif platform == \"win32\":\n",
    "    DATA_DIRECTORY = \"D:\\mvl\\wheat\\data\\BULK\\\\\"\n",
    "    SLASH=\"\\\\\""
   ]
  },
  {
   "cell_type": "code",
   "execution_count": 12,
   "id": "8e706d8c",
   "metadata": {},
   "outputs": [],
   "source": [
    "#Constants\n",
    "BAND_NUMBER = 60\n",
    "FILLED_AREA_RATIO = 0.9\n",
    "TOTAL_IMAGE_COUNT = 1500\n",
    "IMAGE_COUNT = int(TOTAL_IMAGE_COUNT/4)\n",
    "NUM_VARIETIES = 8\n",
    "\n",
    "IMAGE_WIDTH = 30\n",
    "IMAGE_HEIGHT = 30"
   ]
  },
  {
   "cell_type": "code",
   "execution_count": 13,
   "id": "eeee82ed",
   "metadata": {},
   "outputs": [],
   "source": [
    "ACTIVATION_TYPE =  \"relu\"\n",
    "BATCH_SIZE = 2*NUM_VARIETIES\n",
    "\n",
    "LEARNING_RATE_BASE = 0.0001"
   ]
  },
  {
   "cell_type": "code",
   "execution_count": 14,
   "id": "d7939447",
   "metadata": {},
   "outputs": [],
   "source": [
    "from enum import Enum\n",
    "\n",
    "class filter_method(Enum):\n",
    "    none = 0\n",
    "    snv = 1\n",
    "    msc = 2\n",
    "    savgol = 3\n",
    "    \n",
    "FILTER = filter_method(1).name\n",
    "\n",
    "# to be set if filter chosen is savgol\n",
    "WINDOW = 7\n",
    "ORDER = 2\n",
    "DERIVATIVE = \"none\""
   ]
  },
  {
   "cell_type": "code",
   "execution_count": 15,
   "id": "447c6a7b",
   "metadata": {},
   "outputs": [],
   "source": [
    "from enum import Enum\n",
    " \n",
    "class feature_extraction_method(Enum):\n",
    "    none = 0\n",
    "    pca_loading = 1\n",
    "    lda = 2\n",
    "    ipca = 3\n",
    "\n",
    "FEATURE_EXTRACTION = feature_extraction_method(0).name\n",
    "\n",
    "NUM_OF_BANDS = 3\n",
    "if FEATURE_EXTRACTION == \"pca_loading\" or FEATURE_EXTRACTION == \"ipca\":\n",
    "    NUM_OF_BANDS = 8\n",
    "elif FEATURE_EXTRACTION == \"lda\":\n",
    "    NUM_OF_BANDS = 3\n",
    "    assert NUM_OF_BANDS <= min(NUM_VARIETIES-1,168),\"NUM_OF_BANDS is greater.\"\n",
    "\n",
    "\n",
    "REMOVE_NOISY_BANDS = False\n",
    "FIRST_BAND = 15\n",
    "LAST_BAND = 161"
   ]
  },
  {
   "cell_type": "code",
   "execution_count": 16,
   "id": "ebc894e7",
   "metadata": {},
   "outputs": [],
   "source": [
    "def start_timer():\n",
    "    print(\"Testing started\")\n",
    "    return timeit.default_timer()\n",
    "\n",
    "def end_timer():\n",
    "    return timeit.default_timer()\n",
    "\n",
    "def show_time(tic,toc): \n",
    "    test_time = toc - tic\n",
    "    print('Testing time (s) = ' + str(test_time) + '\\n')"
   ]
  },
  {
   "cell_type": "code",
   "execution_count": 17,
   "id": "d6748430",
   "metadata": {},
   "outputs": [],
   "source": [
    "# List for All varieties\n",
    "VARIETIES = []\n",
    "VARIETIES_CODE = {}\n",
    "\n",
    "for name in os.listdir(DATA_DIRECTORY):\n",
    "    if (name.endswith(\".hdr\") or name.endswith(\".bil\")):\n",
    "        continue\n",
    "    VARIETIES_CODE[name] = len(VARIETIES)\n",
    "    VARIETIES.append(name)\n",
    "    if len(VARIETIES)==NUM_VARIETIES:\n",
    "        break"
   ]
  },
  {
   "cell_type": "code",
   "execution_count": 18,
   "id": "687c094c",
   "metadata": {},
   "outputs": [],
   "source": [
    "def dataset_file_name(variety):\n",
    "    name = \"./dataset/V\"+str(variety).zfill(3)+\"_IC_\"+str(TOTAL_IMAGE_COUNT).zfill(5)+\"_FilledArea_\"+str(FILLED_AREA_RATIO)+\"_NumOfBands_\"+str(NUM_OF_BANDS)+\"_FB_\"+str(FIRST_BAND)+\"_LB_\"+str(LAST_BAND)+\"_BandNo_\"+str(BAND_NUMBER)+\"_ImageHeight_\"+str(IMAGE_HEIGHT)+\"_ImageWidth_\"+str(IMAGE_WIDTH)+\"_FILTER_\"+str(FILTER)+\"_FeatureExtraction_\"+str(FEATURE_EXTRACTION)\n",
    "    if REMOVE_NOISY_BANDS:\n",
    "        name+=\"_REMOVE_NOISY_BANDS_\"+str(REMOVE_NOISY_BANDS)\n",
    "    if FILTER == \"savgol\":\n",
    "        name+=\"_WINDOW_\"+str(WINDOW)+\"_ORDER_\"+str(ORDER)\n",
    "    return name"
   ]
  },
  {
   "cell_type": "code",
   "execution_count": 19,
   "id": "c9eabae8",
   "metadata": {},
   "outputs": [
    {
     "name": "stdout",
     "output_type": "stream",
     "text": [
      "idx:  0\n",
      "idx:  1\n",
      "idx:  2\n",
      "idx:  3\n",
      "idx:  4\n",
      "idx:  5\n",
      "idx:  6\n",
      "idx:  7\n"
     ]
    }
   ],
   "source": [
    "train_dataset = []\n",
    "train_dataset_label = []\n",
    "test_dataset=[]\n",
    "test_dataset_label = []\n",
    "\n",
    "for idx, v in enumerate(VARIETIES):\n",
    "    print(\"idx: \",idx)\n",
    "    if idx >= NUM_VARIETIES:\n",
    "        break\n",
    "    train_dataset= train_dataset + np.load(dataset_file_name(v)+\"_train_dataset.npy\").tolist()\n",
    "    train_dataset_label = train_dataset_label + np.load(dataset_file_name(v)+\"_train_dataset_label.npy\").tolist()\n",
    "    test_dataset = test_dataset + np.load(dataset_file_name(v)+\"_test_dataset.npy\").tolist()\n",
    "    test_dataset_label = test_dataset_label + np.load(dataset_file_name(v)+\"_test_dataset_label.npy\").tolist()\n",
    "    \n",
    "train_dataset = np.array(train_dataset)\n",
    "train_dataset_label = np.array(train_dataset_label)\n",
    "test_dataset = np.array(test_dataset)\n",
    "test_dataset_label = np.array(test_dataset_label)"
   ]
  },
  {
   "cell_type": "code",
   "execution_count": 20,
   "id": "cdcac6d0",
   "metadata": {
    "scrolled": true
   },
   "outputs": [],
   "source": [
    "import tensorflow as tf\n",
    "import matplotlib.pyplot as plt\n",
    "from tensorflow.keras import datasets, layers, models, losses, Model\n",
    "from keras.layers import Input, Conv2D, MaxPool2D, MaxPooling2D, Activation, Flatten, Dense, AveragePooling2D, GlobalAveragePooling2D, Dropout\n",
    "from tensorflow.keras.optimizers import Adam\n",
    "from tensorflow.keras.optimizers.schedules import ExponentialDecay"
   ]
  },
  {
   "cell_type": "code",
   "execution_count": 21,
   "id": "dbba8400",
   "metadata": {},
   "outputs": [],
   "source": [
    "def normalizeDataWholeSeed(data,normalization_type='max'):\n",
    "    \n",
    "    if normalization_type == 'max':\n",
    "        for idx in range(data.shape[0]):\n",
    "            data[idx,:,:,:] = data[idx,:,:,:]/np.max(abs(data[idx,:,:,:]))\n",
    "            \n",
    "    elif normalization_type == 'l2norm':\n",
    "        from numpy import linalg as LA\n",
    "        for idx in range(data.shape[0]):\n",
    "            data[idx,:,:,:] = data[idx,:,:,:]/LA.norm(data[idx,:,:,:])       \n",
    "        \n",
    "    return data"
   ]
  },
  {
   "cell_type": "code",
   "execution_count": 22,
   "id": "7e2b9d22",
   "metadata": {},
   "outputs": [],
   "source": [
    "def inception(x,filters_1x1,filters_3x3_reduce,filters_3x3,filters_5x5_reduce,filters_5x5,filters_pool,activation_type='relu'):\n",
    "    path1 = Conv2D(filters_1x1,        (1, 1), padding='same', activation=activation_type)(x)\n",
    "    \n",
    "    path2 = Conv2D(filters_3x3_reduce, (1, 1), padding='same', activation=activation_type)(x)\n",
    "    path2 = Conv2D(filters_3x3,        (1, 1), padding='same', activation=activation_type)(path2)\n",
    "    \n",
    "    path3 = Conv2D(filters_5x5_reduce, (1, 1), padding='same', activation=activation_type)(x)\n",
    "    path3 = Conv2D(filters_5x5,        (1, 1), padding='same', activation=activation_type)(path3)\n",
    "    \n",
    "    path4 = MaxPool2D((3, 3),  strides=(1, 1), padding='same')(x)\n",
    "    path4 = Conv2D(filters_pool,       (1, 1), padding='same', activation=activation_type)(path4)\n",
    "    \n",
    "    return tf.concat([path1, path2, path3, path4], axis=3)"
   ]
  },
  {
   "cell_type": "code",
   "execution_count": 23,
   "id": "6ffc219f",
   "metadata": {},
   "outputs": [],
   "source": [
    "def auxiliary_classifier(x,num_classes,activation_type='relu'):\n",
    "    aux = AveragePooling2D((5, 5), strides=3)(x)\n",
    "    aux = Conv2D(128, 1, padding='same', activation=activation_type)(aux)\n",
    "    aux = Flatten()(aux)\n",
    "    aux = Dense(1024, activation=activation_type)(aux)\n",
    "    aux = Dropout(0.7)(aux)\n",
    "    aux = Dense(num_classes, activation='softmax')(aux)\n",
    "    return aux"
   ]
  },
  {
   "cell_type": "code",
   "execution_count": 24,
   "id": "ee201be4",
   "metadata": {},
   "outputs": [],
   "source": [
    "def GoogleNetModel(data_num_rows, data_num_cols, num_input_chans=1, num_classes=NUM_VARIETIES, activation_type='relu', dropout_rate=0.0):\n",
    "\n",
    "    inp = Input(shape=(data_num_rows, data_num_cols, num_input_chans))\n",
    "    input_tensor = layers.experimental.preprocessing.Resizing(224, 224, interpolation=\"bilinear\", input_shape=train_dataset.shape[1:])(inp)\n",
    "    x = Conv2D(64,  7, strides=2, padding='same', activation=activation_type)(input_tensor)\n",
    "    x = MaxPooling2D(3, strides=2)(x)\n",
    "    x = Conv2D(64,  1, strides=1, padding='same', activation=activation_type)(x)\n",
    "    x = Conv2D(192, 3, strides=1, padding='same', activation=activation_type)(x)\n",
    "    x = MaxPooling2D(3, strides=2)(x)\n",
    "    x = inception(x, filters_1x1=64 , filters_3x3_reduce=96 , filters_3x3=128, filters_5x5_reduce=16, filters_5x5=32, filters_pool=32)\n",
    "    x = inception(x, filters_1x1=128, filters_3x3_reduce=128, filters_3x3=192, filters_5x5_reduce=32, filters_5x5=96, filters_pool=64)\n",
    "    x = MaxPooling2D(3, strides=2)(x)\n",
    "    x = inception(x, filters_1x1=192, filters_3x3_reduce=96 , filters_3x3=208, filters_5x5_reduce=16, filters_5x5=48, filters_pool=64)\n",
    "    5023\n",
    "    aux1 = auxiliary_classifier(x,num_classes)\n",
    "    \n",
    "    x = inception(x, filters_1x1=160, filters_3x3_reduce=112, filters_3x3=224, filters_5x5_reduce=24, filters_5x5=64, filters_pool=64)\n",
    "    x = inception(x, filters_1x1=128, filters_3x3_reduce=128, filters_3x3=256, filters_5x5_reduce=24, filters_5x5=64, filters_pool=64)\n",
    "    x = inception(x, filters_1x1=112, filters_3x3_reduce=144, filters_3x3=288, filters_5x5_reduce=32, filters_5x5=64, filters_pool=64)\n",
    "    \n",
    "    aux2 = auxiliary_classifier(x,num_classes)\n",
    "    \n",
    "    x = inception(x, filters_1x1=256, filters_3x3_reduce=160, filters_3x3=320, filters_5x5_reduce=32, filters_5x5=128, filters_pool=128)\n",
    "    x = MaxPooling2D(3, strides=2)(x)\n",
    "    x = inception(x, filters_1x1=256, filters_3x3_reduce=160, filters_3x3=320, filters_5x5_reduce=32, filters_5x5=128, filters_pool=128)\n",
    "    x = inception(x, filters_1x1=384, filters_3x3_reduce=192, filters_3x3=384, filters_5x5_reduce=48, filters_5x5=128, filters_pool=128)\n",
    "    x = GlobalAveragePooling2D()(x)\n",
    "    x = Dropout(dropout_rate)(x)\n",
    "    out = Dense(num_classes, activation='softmax')(x)\n",
    "    \n",
    "    return Model(inputs = inp, outputs = [out, aux1, aux2])"
   ]
  },
  {
   "cell_type": "code",
   "execution_count": 25,
   "id": "0f63e29e",
   "metadata": {},
   "outputs": [],
   "source": [
    "def getGoogleNetModel():\n",
    "    learning_rate_base = LEARNING_RATE_BASE\n",
    "    activation_type = ACTIVATION_TYPE\n",
    "    lr_schedule = ExponentialDecay(\n",
    "            learning_rate_base,\n",
    "            decay_steps = 20000,\n",
    "            decay_rate = 0.01,\n",
    "            staircase = True\n",
    "    )\n",
    "    wheat_types =  VARIETIES\n",
    "    num_classes = len(wheat_types)\n",
    "    dropout_rate = 0.4\n",
    "    print(\"--------------Load Data--------------\")\n",
    "\n",
    "    x_training = np.array(train_dataset)\n",
    "    labels_training = np.array(train_dataset_label)\n",
    "    \n",
    "    # Normalize the data\n",
    "    x_training = normalizeDataWholeSeed(x_training)\n",
    "    \n",
    "    # Extract some information\n",
    "    num_train = x_training.shape[0]\n",
    "    N_spatial = x_training.shape[1:3]\n",
    "    N_channel = x_training.shape[3]\n",
    "    \n",
    "    print(\"--------------Done--------------\")\n",
    "    \n",
    "    ############ Create a model ############\n",
    "    print(\"--------------Create a model--------------\")\n",
    "    \n",
    "    # Generate a model\n",
    "    model = GoogleNetModel(data_num_rows = N_spatial[0], \n",
    "                           data_num_cols = N_spatial[1],\n",
    "                           num_input_chans = N_channel, \n",
    "                           num_classes = num_classes,\n",
    "                           activation_type = activation_type,\n",
    "                           dropout_rate = dropout_rate)\n",
    "\n",
    "    # Compile the model\n",
    "    adam_opt = Adam(learning_rate=lr_schedule, beta_1=0.9, beta_2=0.999, epsilon=1e-08)\n",
    "    model.compile(optimizer=adam_opt, loss=[losses.sparse_categorical_crossentropy,losses.sparse_categorical_crossentropy,losses.sparse_categorical_crossentropy],loss_weights=[1, 0.3, 0.3],metrics=['accuracy'])\n",
    "    print(\"---------Completed---------\")\n",
    "    return model"
   ]
  },
  {
   "cell_type": "code",
   "execution_count": 26,
   "id": "ee0c5e6d",
   "metadata": {},
   "outputs": [],
   "source": [
    "def plot_graph(df,title,xlabel,ylabel,values=['loss'],legends=[]):\n",
    "    \n",
    "    for value in values:\n",
    "        epoch_count = range(1, len(df.index) + 1)\n",
    "        plt.plot(epoch_count, df[value].tolist())\n",
    "    plt.title(title)\n",
    "    plt.ylabel(ylabel)\n",
    "    plt.xlabel(xlabel)\n",
    "    if legends==[]:\n",
    "        legends = values\n",
    "    plt.legend(legends, loc='upper left')\n",
    "    plt.show()"
   ]
  },
  {
   "cell_type": "code",
   "execution_count": 27,
   "id": "7e16422f",
   "metadata": {},
   "outputs": [],
   "source": [
    "x_train = []\n",
    "y_train = []\n",
    "x_val = []\n",
    "y_val = []\n",
    "\n",
    "for i in range(len(train_dataset)):\n",
    "    if i%5==0:\n",
    "        x_val.append(train_dataset[i])\n",
    "        y_val.append(train_dataset_label[i])\n",
    "    else:\n",
    "        x_train.append(train_dataset[i])\n",
    "        y_train.append(train_dataset_label[i])\n",
    "        \n",
    "x_train = np.array(x_train)\n",
    "y_train = np.array(y_train)\n",
    "y_train = [y_train,y_train,y_train]\n",
    "\n",
    "x_val = np.array(x_val)\n",
    "\n",
    "y_val = np.array(y_val)\n",
    "y_val = [y_val,y_val,y_val]"
   ]
  },
  {
   "cell_type": "code",
   "execution_count": 28,
   "id": "83b59af1",
   "metadata": {},
   "outputs": [],
   "source": [
    "import pandas as pd\n",
    "import os\n",
    "\n",
    "def save_to_csv(file_path, data_frame, header=False):\n",
    "    file_exists = os.path.exists(file_path)\n",
    "\n",
    "    if not file_exists or not header:\n",
    "        data_frame.to_csv(file_path, index=False, mode='w')\n",
    "    else:\n",
    "        data_frame.to_csv(file_path, index=False, mode='a', header=False)"
   ]
  },
  {
   "cell_type": "code",
   "execution_count": 29,
   "id": "c9cfa22c",
   "metadata": {},
   "outputs": [
    {
     "data": {
      "text/plain": [
       "['PBW 343',\n",
       " 'PBW 766',\n",
       " 'PBW 725',\n",
       " 'DBW 187',\n",
       " 'HD 3086',\n",
       " 'PBW 771',\n",
       " 'PBW 677',\n",
       " 'PBW 373']"
      ]
     },
     "execution_count": 29,
     "metadata": {},
     "output_type": "execute_result"
    }
   ],
   "source": [
    "VARIETIES"
   ]
  },
  {
   "cell_type": "code",
   "execution_count": 30,
   "id": "907b14a8",
   "metadata": {},
   "outputs": [],
   "source": [
    "model = None"
   ]
  },
  {
   "cell_type": "code",
   "execution_count": 31,
   "id": "5f2f0a70",
   "metadata": {},
   "outputs": [],
   "source": [
    "start_epoch = 1"
   ]
  },
  {
   "cell_type": "code",
   "execution_count": 32,
   "id": "130530fc",
   "metadata": {},
   "outputs": [
    {
     "name": "stdout",
     "output_type": "stream",
     "text": [
      "--------------Load Data--------------\n",
      "--------------Done--------------\n",
      "--------------Create a model--------------\n"
     ]
    },
    {
     "name": "stderr",
     "output_type": "stream",
     "text": [
      "2023-09-09 12:41:24.082441: I tensorflow/core/common_runtime/gpu/gpu_device.cc:1639] Created device /job:localhost/replica:0/task:0/device:GPU:0 with 21665 MB memory:  -> device: 0, name: NVIDIA RTX A5000, pci bus id: 0000:9b:00.0, compute capability: 8.6\n"
     ]
    },
    {
     "name": "stdout",
     "output_type": "stream",
     "text": [
      "---------Completed---------\n"
     ]
    }
   ],
   "source": [
    "model_name = \"GN_\"+\"_IC_\"+str(TOTAL_IMAGE_COUNT).zfill(5)+\"_FilledArea_\"+str(FILLED_AREA_RATIO)+\"_BandNo_\"+str(BAND_NUMBER)+\"_ImageHeight_\"+str(IMAGE_HEIGHT)+\"_ImageWidth_\"+str(IMAGE_WIDTH)+\"_FILTER_\"+str(FILTER)+\"_FeatureExtraction_\"+str(FEATURE_EXTRACTION)\n",
    "if REMOVE_NOISY_BANDS:\n",
    "    model_name+=\"_REMOVE_NOISY_BANDS_\"+str(REMOVE_NOISY_BANDS)+\"_NumOfBands_\"+str(NUM_OF_BANDS)+\"_FB_\"+str(FIRST_BAND)+\"_LB_\"+str(LAST_BAND)\n",
    "if FILTER == \"savgol\":\n",
    "    model_name+=\"_WINDOW_\"+str(WINDOW)+\"_ORDER_\"+str(ORDER)\n",
    "\n",
    "if start_epoch != 1:\n",
    "    model = tf.keras.models.load_model('./GNmodels/'+str(start_epoch-1)+model_name)\n",
    "else:\n",
    "    model = getGoogleNetModel()"
   ]
  },
  {
   "cell_type": "code",
   "execution_count": 33,
   "id": "9d4ed88f",
   "metadata": {},
   "outputs": [],
   "source": [
    "last_epoch = 150"
   ]
  },
  {
   "cell_type": "code",
   "execution_count": 34,
   "id": "55ac4628",
   "metadata": {},
   "outputs": [
    {
     "name": "stdout",
     "output_type": "stream",
     "text": [
      "Model: \"model\"\n",
      "__________________________________________________________________________________________________\n",
      " Layer (type)                Output Shape                 Param #   Connected to                  \n",
      "==================================================================================================\n",
      " input_1 (InputLayer)        [(None, 30, 30, 168)]        0         []                            \n",
      "                                                                                                  \n",
      " resizing (Resizing)         (None, 224, 224, 168)        0         ['input_1[0][0]']             \n",
      "                                                                                                  \n",
      " conv2d (Conv2D)             (None, 112, 112, 64)         526912    ['resizing[0][0]']            \n",
      "                                                                                                  \n",
      " max_pooling2d (MaxPooling2  (None, 55, 55, 64)           0         ['conv2d[0][0]']              \n",
      " D)                                                                                               \n",
      "                                                                                                  \n",
      " conv2d_1 (Conv2D)           (None, 55, 55, 64)           4160      ['max_pooling2d[0][0]']       \n",
      "                                                                                                  \n",
      " conv2d_2 (Conv2D)           (None, 55, 55, 192)          110784    ['conv2d_1[0][0]']            \n",
      "                                                                                                  \n",
      " max_pooling2d_1 (MaxPoolin  (None, 27, 27, 192)          0         ['conv2d_2[0][0]']            \n",
      " g2D)                                                                                             \n",
      "                                                                                                  \n",
      " conv2d_4 (Conv2D)           (None, 27, 27, 96)           18528     ['max_pooling2d_1[0][0]']     \n",
      "                                                                                                  \n",
      " conv2d_6 (Conv2D)           (None, 27, 27, 16)           3088      ['max_pooling2d_1[0][0]']     \n",
      "                                                                                                  \n",
      " max_pooling2d_2 (MaxPoolin  (None, 27, 27, 192)          0         ['max_pooling2d_1[0][0]']     \n",
      " g2D)                                                                                             \n",
      "                                                                                                  \n",
      " conv2d_3 (Conv2D)           (None, 27, 27, 64)           12352     ['max_pooling2d_1[0][0]']     \n",
      "                                                                                                  \n",
      " conv2d_5 (Conv2D)           (None, 27, 27, 128)          12416     ['conv2d_4[0][0]']            \n",
      "                                                                                                  \n",
      " conv2d_7 (Conv2D)           (None, 27, 27, 32)           544       ['conv2d_6[0][0]']            \n",
      "                                                                                                  \n",
      " conv2d_8 (Conv2D)           (None, 27, 27, 32)           6176      ['max_pooling2d_2[0][0]']     \n",
      "                                                                                                  \n",
      " tf.concat (TFOpLambda)      (None, 27, 27, 256)          0         ['conv2d_3[0][0]',            \n",
      "                                                                     'conv2d_5[0][0]',            \n",
      "                                                                     'conv2d_7[0][0]',            \n",
      "                                                                     'conv2d_8[0][0]']            \n",
      "                                                                                                  \n",
      " conv2d_10 (Conv2D)          (None, 27, 27, 128)          32896     ['tf.concat[0][0]']           \n",
      "                                                                                                  \n",
      " conv2d_12 (Conv2D)          (None, 27, 27, 32)           8224      ['tf.concat[0][0]']           \n",
      "                                                                                                  \n",
      " max_pooling2d_3 (MaxPoolin  (None, 27, 27, 256)          0         ['tf.concat[0][0]']           \n",
      " g2D)                                                                                             \n",
      "                                                                                                  \n",
      " conv2d_9 (Conv2D)           (None, 27, 27, 128)          32896     ['tf.concat[0][0]']           \n",
      "                                                                                                  \n",
      " conv2d_11 (Conv2D)          (None, 27, 27, 192)          24768     ['conv2d_10[0][0]']           \n",
      "                                                                                                  \n",
      " conv2d_13 (Conv2D)          (None, 27, 27, 96)           3168      ['conv2d_12[0][0]']           \n",
      "                                                                                                  \n",
      " conv2d_14 (Conv2D)          (None, 27, 27, 64)           16448     ['max_pooling2d_3[0][0]']     \n",
      "                                                                                                  \n",
      " tf.concat_1 (TFOpLambda)    (None, 27, 27, 480)          0         ['conv2d_9[0][0]',            \n",
      "                                                                     'conv2d_11[0][0]',           \n",
      "                                                                     'conv2d_13[0][0]',           \n",
      "                                                                     'conv2d_14[0][0]']           \n",
      "                                                                                                  \n",
      " max_pooling2d_4 (MaxPoolin  (None, 13, 13, 480)          0         ['tf.concat_1[0][0]']         \n",
      " g2D)                                                                                             \n",
      "                                                                                                  \n",
      " conv2d_16 (Conv2D)          (None, 13, 13, 96)           46176     ['max_pooling2d_4[0][0]']     \n",
      "                                                                                                  \n",
      " conv2d_18 (Conv2D)          (None, 13, 13, 16)           7696      ['max_pooling2d_4[0][0]']     \n",
      "                                                                                                  \n",
      " max_pooling2d_5 (MaxPoolin  (None, 13, 13, 480)          0         ['max_pooling2d_4[0][0]']     \n",
      " g2D)                                                                                             \n",
      "                                                                                                  \n",
      " conv2d_15 (Conv2D)          (None, 13, 13, 192)          92352     ['max_pooling2d_4[0][0]']     \n",
      "                                                                                                  \n",
      " conv2d_17 (Conv2D)          (None, 13, 13, 208)          20176     ['conv2d_16[0][0]']           \n",
      "                                                                                                  \n",
      " conv2d_19 (Conv2D)          (None, 13, 13, 48)           816       ['conv2d_18[0][0]']           \n",
      "                                                                                                  \n",
      " conv2d_20 (Conv2D)          (None, 13, 13, 64)           30784     ['max_pooling2d_5[0][0]']     \n",
      "                                                                                                  \n",
      " tf.concat_2 (TFOpLambda)    (None, 13, 13, 512)          0         ['conv2d_15[0][0]',           \n",
      "                                                                     'conv2d_17[0][0]',           \n",
      "                                                                     'conv2d_19[0][0]',           \n",
      "                                                                     'conv2d_20[0][0]']           \n",
      "                                                                                                  \n",
      " conv2d_23 (Conv2D)          (None, 13, 13, 112)          57456     ['tf.concat_2[0][0]']         \n"
     ]
    },
    {
     "name": "stdout",
     "output_type": "stream",
     "text": [
      "                                                                                                  \n",
      " conv2d_25 (Conv2D)          (None, 13, 13, 24)           12312     ['tf.concat_2[0][0]']         \n",
      "                                                                                                  \n",
      " max_pooling2d_6 (MaxPoolin  (None, 13, 13, 512)          0         ['tf.concat_2[0][0]']         \n",
      " g2D)                                                                                             \n",
      "                                                                                                  \n",
      " conv2d_22 (Conv2D)          (None, 13, 13, 160)          82080     ['tf.concat_2[0][0]']         \n",
      "                                                                                                  \n",
      " conv2d_24 (Conv2D)          (None, 13, 13, 224)          25312     ['conv2d_23[0][0]']           \n",
      "                                                                                                  \n",
      " conv2d_26 (Conv2D)          (None, 13, 13, 64)           1600      ['conv2d_25[0][0]']           \n",
      "                                                                                                  \n",
      " conv2d_27 (Conv2D)          (None, 13, 13, 64)           32832     ['max_pooling2d_6[0][0]']     \n",
      "                                                                                                  \n",
      " tf.concat_3 (TFOpLambda)    (None, 13, 13, 512)          0         ['conv2d_22[0][0]',           \n",
      "                                                                     'conv2d_24[0][0]',           \n",
      "                                                                     'conv2d_26[0][0]',           \n",
      "                                                                     'conv2d_27[0][0]']           \n",
      "                                                                                                  \n",
      " conv2d_29 (Conv2D)          (None, 13, 13, 128)          65664     ['tf.concat_3[0][0]']         \n",
      "                                                                                                  \n",
      " conv2d_31 (Conv2D)          (None, 13, 13, 24)           12312     ['tf.concat_3[0][0]']         \n",
      "                                                                                                  \n",
      " max_pooling2d_7 (MaxPoolin  (None, 13, 13, 512)          0         ['tf.concat_3[0][0]']         \n",
      " g2D)                                                                                             \n",
      "                                                                                                  \n",
      " conv2d_28 (Conv2D)          (None, 13, 13, 128)          65664     ['tf.concat_3[0][0]']         \n",
      "                                                                                                  \n",
      " conv2d_30 (Conv2D)          (None, 13, 13, 256)          33024     ['conv2d_29[0][0]']           \n",
      "                                                                                                  \n",
      " conv2d_32 (Conv2D)          (None, 13, 13, 64)           1600      ['conv2d_31[0][0]']           \n",
      "                                                                                                  \n",
      " conv2d_33 (Conv2D)          (None, 13, 13, 64)           32832     ['max_pooling2d_7[0][0]']     \n",
      "                                                                                                  \n",
      " tf.concat_4 (TFOpLambda)    (None, 13, 13, 512)          0         ['conv2d_28[0][0]',           \n",
      "                                                                     'conv2d_30[0][0]',           \n",
      "                                                                     'conv2d_32[0][0]',           \n",
      "                                                                     'conv2d_33[0][0]']           \n",
      "                                                                                                  \n",
      " conv2d_35 (Conv2D)          (None, 13, 13, 144)          73872     ['tf.concat_4[0][0]']         \n",
      "                                                                                                  \n",
      " conv2d_37 (Conv2D)          (None, 13, 13, 32)           16416     ['tf.concat_4[0][0]']         \n",
      "                                                                                                  \n",
      " max_pooling2d_8 (MaxPoolin  (None, 13, 13, 512)          0         ['tf.concat_4[0][0]']         \n",
      " g2D)                                                                                             \n",
      "                                                                                                  \n",
      " conv2d_34 (Conv2D)          (None, 13, 13, 112)          57456     ['tf.concat_4[0][0]']         \n",
      "                                                                                                  \n",
      " conv2d_36 (Conv2D)          (None, 13, 13, 288)          41760     ['conv2d_35[0][0]']           \n",
      "                                                                                                  \n",
      " conv2d_38 (Conv2D)          (None, 13, 13, 64)           2112      ['conv2d_37[0][0]']           \n",
      "                                                                                                  \n",
      " conv2d_39 (Conv2D)          (None, 13, 13, 64)           32832     ['max_pooling2d_8[0][0]']     \n",
      "                                                                                                  \n",
      " tf.concat_5 (TFOpLambda)    (None, 13, 13, 528)          0         ['conv2d_34[0][0]',           \n",
      "                                                                     'conv2d_36[0][0]',           \n",
      "                                                                     'conv2d_38[0][0]',           \n",
      "                                                                     'conv2d_39[0][0]']           \n",
      "                                                                                                  \n",
      " conv2d_42 (Conv2D)          (None, 13, 13, 160)          84640     ['tf.concat_5[0][0]']         \n",
      "                                                                                                  \n",
      " conv2d_44 (Conv2D)          (None, 13, 13, 32)           16928     ['tf.concat_5[0][0]']         \n",
      "                                                                                                  \n",
      " max_pooling2d_9 (MaxPoolin  (None, 13, 13, 528)          0         ['tf.concat_5[0][0]']         \n",
      " g2D)                                                                                             \n",
      "                                                                                                  \n",
      " conv2d_41 (Conv2D)          (None, 13, 13, 256)          135424    ['tf.concat_5[0][0]']         \n",
      "                                                                                                  \n",
      " conv2d_43 (Conv2D)          (None, 13, 13, 320)          51520     ['conv2d_42[0][0]']           \n",
      "                                                                                                  \n",
      " conv2d_45 (Conv2D)          (None, 13, 13, 128)          4224      ['conv2d_44[0][0]']           \n",
      "                                                                                                  \n",
      " conv2d_46 (Conv2D)          (None, 13, 13, 128)          67712     ['max_pooling2d_9[0][0]']     \n",
      "                                                                                                  \n",
      " tf.concat_6 (TFOpLambda)    (None, 13, 13, 832)          0         ['conv2d_41[0][0]',           \n",
      "                                                                     'conv2d_43[0][0]',           \n",
      "                                                                     'conv2d_45[0][0]',           \n",
      "                                                                     'conv2d_46[0][0]']           \n",
      "                                                                                                  \n",
      " max_pooling2d_10 (MaxPooli  (None, 6, 6, 832)            0         ['tf.concat_6[0][0]']         \n",
      " ng2D)                                                                                            \n",
      "                                                                                                  \n",
      " conv2d_48 (Conv2D)          (None, 6, 6, 160)            133280    ['max_pooling2d_10[0][0]']    \n"
     ]
    },
    {
     "name": "stdout",
     "output_type": "stream",
     "text": [
      "                                                                                                  \n",
      " conv2d_50 (Conv2D)          (None, 6, 6, 32)             26656     ['max_pooling2d_10[0][0]']    \n",
      "                                                                                                  \n",
      " max_pooling2d_11 (MaxPooli  (None, 6, 6, 832)            0         ['max_pooling2d_10[0][0]']    \n",
      " ng2D)                                                                                            \n",
      "                                                                                                  \n",
      " conv2d_47 (Conv2D)          (None, 6, 6, 256)            213248    ['max_pooling2d_10[0][0]']    \n",
      "                                                                                                  \n",
      " conv2d_49 (Conv2D)          (None, 6, 6, 320)            51520     ['conv2d_48[0][0]']           \n",
      "                                                                                                  \n",
      " conv2d_51 (Conv2D)          (None, 6, 6, 128)            4224      ['conv2d_50[0][0]']           \n",
      "                                                                                                  \n",
      " conv2d_52 (Conv2D)          (None, 6, 6, 128)            106624    ['max_pooling2d_11[0][0]']    \n",
      "                                                                                                  \n",
      " tf.concat_7 (TFOpLambda)    (None, 6, 6, 832)            0         ['conv2d_47[0][0]',           \n",
      "                                                                     'conv2d_49[0][0]',           \n",
      "                                                                     'conv2d_51[0][0]',           \n",
      "                                                                     'conv2d_52[0][0]']           \n",
      "                                                                                                  \n",
      " conv2d_54 (Conv2D)          (None, 6, 6, 192)            159936    ['tf.concat_7[0][0]']         \n",
      "                                                                                                  \n",
      " conv2d_56 (Conv2D)          (None, 6, 6, 48)             39984     ['tf.concat_7[0][0]']         \n",
      "                                                                                                  \n",
      " max_pooling2d_12 (MaxPooli  (None, 6, 6, 832)            0         ['tf.concat_7[0][0]']         \n",
      " ng2D)                                                                                            \n",
      "                                                                                                  \n",
      " average_pooling2d (Average  (None, 3, 3, 512)            0         ['tf.concat_2[0][0]']         \n",
      " Pooling2D)                                                                                       \n",
      "                                                                                                  \n",
      " average_pooling2d_1 (Avera  (None, 3, 3, 528)            0         ['tf.concat_5[0][0]']         \n",
      " gePooling2D)                                                                                     \n",
      "                                                                                                  \n",
      " conv2d_53 (Conv2D)          (None, 6, 6, 384)            319872    ['tf.concat_7[0][0]']         \n",
      "                                                                                                  \n",
      " conv2d_55 (Conv2D)          (None, 6, 6, 384)            74112     ['conv2d_54[0][0]']           \n",
      "                                                                                                  \n",
      " conv2d_57 (Conv2D)          (None, 6, 6, 128)            6272      ['conv2d_56[0][0]']           \n",
      "                                                                                                  \n",
      " conv2d_58 (Conv2D)          (None, 6, 6, 128)            106624    ['max_pooling2d_12[0][0]']    \n",
      "                                                                                                  \n",
      " conv2d_21 (Conv2D)          (None, 3, 3, 128)            65664     ['average_pooling2d[0][0]']   \n",
      "                                                                                                  \n",
      " conv2d_40 (Conv2D)          (None, 3, 3, 128)            67712     ['average_pooling2d_1[0][0]'] \n",
      "                                                                                                  \n",
      " tf.concat_8 (TFOpLambda)    (None, 6, 6, 1024)           0         ['conv2d_53[0][0]',           \n",
      "                                                                     'conv2d_55[0][0]',           \n",
      "                                                                     'conv2d_57[0][0]',           \n",
      "                                                                     'conv2d_58[0][0]']           \n",
      "                                                                                                  \n",
      " flatten (Flatten)           (None, 1152)                 0         ['conv2d_21[0][0]']           \n",
      "                                                                                                  \n",
      " flatten_1 (Flatten)         (None, 1152)                 0         ['conv2d_40[0][0]']           \n",
      "                                                                                                  \n",
      " global_average_pooling2d (  (None, 1024)                 0         ['tf.concat_8[0][0]']         \n",
      " GlobalAveragePooling2D)                                                                          \n",
      "                                                                                                  \n",
      " dense (Dense)               (None, 1024)                 1180672   ['flatten[0][0]']             \n",
      "                                                                                                  \n",
      " dense_2 (Dense)             (None, 1024)                 1180672   ['flatten_1[0][0]']           \n",
      "                                                                                                  \n",
      " dropout_2 (Dropout)         (None, 1024)                 0         ['global_average_pooling2d[0][\n",
      "                                                                    0]']                          \n",
      "                                                                                                  \n",
      " dropout (Dropout)           (None, 1024)                 0         ['dense[0][0]']               \n",
      "                                                                                                  \n",
      " dropout_1 (Dropout)         (None, 1024)                 0         ['dense_2[0][0]']             \n",
      "                                                                                                  \n",
      " dense_4 (Dense)             (None, 8)                    8200      ['dropout_2[0][0]']           \n",
      "                                                                                                  \n",
      " dense_1 (Dense)             (None, 8)                    8200      ['dropout[0][0]']             \n",
      "                                                                                                  \n",
      " dense_3 (Dense)             (None, 8)                    8200      ['dropout_1[0][0]']           \n",
      "                                                                                                  \n",
      "==================================================================================================\n",
      "Total params: 5780616 (22.05 MB)\n",
      "Trainable params: 5780616 (22.05 MB)\n",
      "Non-trainable params: 0 (0.00 Byte)\n",
      "__________________________________________________________________________________________________\n"
     ]
    }
   ],
   "source": [
    "model.summary()"
   ]
  },
  {
   "cell_type": "code",
   "execution_count": 35,
   "id": "2315f352",
   "metadata": {},
   "outputs": [],
   "source": [
    "import os \n",
    "import pandas as pd\n",
    "\n",
    "directory = './csvs'\n",
    "\n",
    "if not os.path.exists(directory):\n",
    "    os.makedirs(directory)"
   ]
  },
  {
   "cell_type": "code",
   "execution_count": 38,
   "id": "071db278",
   "metadata": {},
   "outputs": [
    {
     "name": "stdout",
     "output_type": "stream",
     "text": [
      "Testing started\n",
      "\n",
      "Epoch:  6\n",
      "480/480 - 33s - loss: 2.0769 - dense_4_loss: 1.2628 - dense_1_loss: 1.3739 - dense_3_loss: 1.3398 - dense_4_accuracy: 0.5242 - dense_1_accuracy: 0.4688 - dense_3_accuracy: 0.4906 - val_loss: 1.9229 - val_dense_4_loss: 1.1639 - val_dense_1_loss: 1.2841 - val_dense_3_loss: 1.2459 - val_dense_4_accuracy: 0.5599 - val_dense_1_accuracy: 0.5047 - val_dense_3_accuracy: 0.5214 - 33s/epoch - 70ms/step\n",
      "INFO:tensorflow:Assets written to: ./GNmodels/6GN__IC_01500_FilledArea_0.9_BandNo_60_ImageHeight_30_ImageWidth_30_FILTER_snv_FeatureExtraction_none/assets\n"
     ]
    },
    {
     "name": "stderr",
     "output_type": "stream",
     "text": [
      "INFO:tensorflow:Assets written to: ./GNmodels/6GN__IC_01500_FilledArea_0.9_BandNo_60_ImageHeight_30_ImageWidth_30_FILTER_snv_FeatureExtraction_none/assets\n"
     ]
    },
    {
     "name": "stdout",
     "output_type": "stream",
     "text": [
      "Model saved on epoch:  6\n",
      "added to csv\n",
      "\n",
      "Epoch:  7\n",
      "480/480 - 34s - loss: 1.8446 - dense_4_loss: 1.1130 - dense_1_loss: 1.2420 - dense_3_loss: 1.1968 - dense_4_accuracy: 0.5758 - dense_1_accuracy: 0.5219 - dense_3_accuracy: 0.5437 - val_loss: 1.5554 - val_dense_4_loss: 0.9308 - val_dense_1_loss: 1.0744 - val_dense_3_loss: 1.0075 - val_dense_4_accuracy: 0.6432 - val_dense_1_accuracy: 0.6016 - val_dense_3_accuracy: 0.6187 - 34s/epoch - 72ms/step\n",
      "INFO:tensorflow:Assets written to: ./GNmodels/7GN__IC_01500_FilledArea_0.9_BandNo_60_ImageHeight_30_ImageWidth_30_FILTER_snv_FeatureExtraction_none/assets\n"
     ]
    },
    {
     "name": "stderr",
     "output_type": "stream",
     "text": [
      "INFO:tensorflow:Assets written to: ./GNmodels/7GN__IC_01500_FilledArea_0.9_BandNo_60_ImageHeight_30_ImageWidth_30_FILTER_snv_FeatureExtraction_none/assets\n"
     ]
    },
    {
     "name": "stdout",
     "output_type": "stream",
     "text": [
      "Model saved on epoch:  7\n",
      "added to csv\n",
      "\n",
      "Epoch:  8\n",
      "480/480 - 33s - loss: 1.6316 - dense_4_loss: 0.9759 - dense_1_loss: 1.1280 - dense_3_loss: 1.0576 - dense_4_accuracy: 0.6327 - dense_1_accuracy: 0.5688 - dense_3_accuracy: 0.5962 - val_loss: 1.3453 - val_dense_4_loss: 0.7895 - val_dense_1_loss: 0.9770 - val_dense_3_loss: 0.8758 - val_dense_4_accuracy: 0.6969 - val_dense_1_accuracy: 0.6505 - val_dense_3_accuracy: 0.6766 - 33s/epoch - 70ms/step\n",
      "INFO:tensorflow:Assets written to: ./GNmodels/8GN__IC_01500_FilledArea_0.9_BandNo_60_ImageHeight_30_ImageWidth_30_FILTER_snv_FeatureExtraction_none/assets\n"
     ]
    },
    {
     "name": "stderr",
     "output_type": "stream",
     "text": [
      "INFO:tensorflow:Assets written to: ./GNmodels/8GN__IC_01500_FilledArea_0.9_BandNo_60_ImageHeight_30_ImageWidth_30_FILTER_snv_FeatureExtraction_none/assets\n"
     ]
    },
    {
     "name": "stdout",
     "output_type": "stream",
     "text": [
      "Model saved on epoch:  8\n",
      "added to csv\n",
      "\n",
      "Epoch:  9\n",
      "480/480 - 33s - loss: 1.4965 - dense_4_loss: 0.8904 - dense_1_loss: 1.0502 - dense_3_loss: 0.9700 - dense_4_accuracy: 0.6652 - dense_1_accuracy: 0.6089 - dense_3_accuracy: 0.6365 - val_loss: 1.2170 - val_dense_4_loss: 0.7142 - val_dense_1_loss: 0.8820 - val_dense_3_loss: 0.7941 - val_dense_4_accuracy: 0.7370 - val_dense_1_accuracy: 0.6802 - val_dense_3_accuracy: 0.7078 - 33s/epoch - 69ms/step\n",
      "INFO:tensorflow:Assets written to: ./GNmodels/9GN__IC_01500_FilledArea_0.9_BandNo_60_ImageHeight_30_ImageWidth_30_FILTER_snv_FeatureExtraction_none/assets\n"
     ]
    },
    {
     "name": "stderr",
     "output_type": "stream",
     "text": [
      "INFO:tensorflow:Assets written to: ./GNmodels/9GN__IC_01500_FilledArea_0.9_BandNo_60_ImageHeight_30_ImageWidth_30_FILTER_snv_FeatureExtraction_none/assets\n"
     ]
    },
    {
     "name": "stdout",
     "output_type": "stream",
     "text": [
      "Model saved on epoch:  9\n",
      "added to csv\n",
      "\n",
      "Epoch:  10\n",
      "480/480 - 33s - loss: 1.3459 - dense_4_loss: 0.7972 - dense_1_loss: 0.9542 - dense_3_loss: 0.8748 - dense_4_accuracy: 0.7013 - dense_1_accuracy: 0.6358 - dense_3_accuracy: 0.6740 - val_loss: 1.1111 - val_dense_4_loss: 0.6516 - val_dense_1_loss: 0.8126 - val_dense_3_loss: 0.7190 - val_dense_4_accuracy: 0.7516 - val_dense_1_accuracy: 0.7068 - val_dense_3_accuracy: 0.7380 - 33s/epoch - 69ms/step\n",
      "INFO:tensorflow:Assets written to: ./GNmodels/10GN__IC_01500_FilledArea_0.9_BandNo_60_ImageHeight_30_ImageWidth_30_FILTER_snv_FeatureExtraction_none/assets\n"
     ]
    },
    {
     "name": "stderr",
     "output_type": "stream",
     "text": [
      "INFO:tensorflow:Assets written to: ./GNmodels/10GN__IC_01500_FilledArea_0.9_BandNo_60_ImageHeight_30_ImageWidth_30_FILTER_snv_FeatureExtraction_none/assets\n"
     ]
    },
    {
     "name": "stdout",
     "output_type": "stream",
     "text": [
      "Model saved on epoch:  10\n",
      "added to csv\n",
      "\n",
      "Epoch:  11\n",
      "480/480 - 34s - loss: 1.2410 - dense_4_loss: 0.7340 - dense_1_loss: 0.8873 - dense_3_loss: 0.8029 - dense_4_accuracy: 0.7266 - dense_1_accuracy: 0.6625 - dense_3_accuracy: 0.6967 - val_loss: 1.1414 - val_dense_4_loss: 0.6792 - val_dense_1_loss: 0.7856 - val_dense_3_loss: 0.7553 - val_dense_4_accuracy: 0.7432 - val_dense_1_accuracy: 0.7052 - val_dense_3_accuracy: 0.7083 - 34s/epoch - 70ms/step\n",
      "INFO:tensorflow:Assets written to: ./GNmodels/11GN__IC_01500_FilledArea_0.9_BandNo_60_ImageHeight_30_ImageWidth_30_FILTER_snv_FeatureExtraction_none/assets\n"
     ]
    },
    {
     "name": "stderr",
     "output_type": "stream",
     "text": [
      "INFO:tensorflow:Assets written to: ./GNmodels/11GN__IC_01500_FilledArea_0.9_BandNo_60_ImageHeight_30_ImageWidth_30_FILTER_snv_FeatureExtraction_none/assets\n"
     ]
    },
    {
     "name": "stdout",
     "output_type": "stream",
     "text": [
      "Model saved on epoch:  11\n",
      "added to csv\n",
      "\n",
      "Epoch:  12\n",
      "480/480 - 33s - loss: 1.1002 - dense_4_loss: 0.6448 - dense_1_loss: 0.7997 - dense_3_loss: 0.7184 - dense_4_accuracy: 0.7553 - dense_1_accuracy: 0.6931 - dense_3_accuracy: 0.7267 - val_loss: 1.1252 - val_dense_4_loss: 0.6646 - val_dense_1_loss: 0.7910 - val_dense_3_loss: 0.7446 - val_dense_4_accuracy: 0.7370 - val_dense_1_accuracy: 0.7010 - val_dense_3_accuracy: 0.7073 - 33s/epoch - 68ms/step\n",
      "INFO:tensorflow:Assets written to: ./GNmodels/12GN__IC_01500_FilledArea_0.9_BandNo_60_ImageHeight_30_ImageWidth_30_FILTER_snv_FeatureExtraction_none/assets\n"
     ]
    },
    {
     "name": "stderr",
     "output_type": "stream",
     "text": [
      "INFO:tensorflow:Assets written to: ./GNmodels/12GN__IC_01500_FilledArea_0.9_BandNo_60_ImageHeight_30_ImageWidth_30_FILTER_snv_FeatureExtraction_none/assets\n"
     ]
    },
    {
     "name": "stdout",
     "output_type": "stream",
     "text": [
      "Model saved on epoch:  12\n",
      "added to csv\n",
      "\n",
      "Epoch:  13\n",
      "480/480 - 34s - loss: 1.0620 - dense_4_loss: 0.6236 - dense_1_loss: 0.7764 - dense_3_loss: 0.6849 - dense_4_accuracy: 0.7583 - dense_1_accuracy: 0.7098 - dense_3_accuracy: 0.7439 - val_loss: 0.9009 - val_dense_4_loss: 0.5298 - val_dense_1_loss: 0.6526 - val_dense_3_loss: 0.5843 - val_dense_4_accuracy: 0.7932 - val_dense_1_accuracy: 0.7661 - val_dense_3_accuracy: 0.7734 - 34s/epoch - 70ms/step\n",
      "INFO:tensorflow:Assets written to: ./GNmodels/13GN__IC_01500_FilledArea_0.9_BandNo_60_ImageHeight_30_ImageWidth_30_FILTER_snv_FeatureExtraction_none/assets\n"
     ]
    },
    {
     "name": "stderr",
     "output_type": "stream",
     "text": [
      "INFO:tensorflow:Assets written to: ./GNmodels/13GN__IC_01500_FilledArea_0.9_BandNo_60_ImageHeight_30_ImageWidth_30_FILTER_snv_FeatureExtraction_none/assets\n"
     ]
    },
    {
     "name": "stdout",
     "output_type": "stream",
     "text": [
      "Model saved on epoch:  13\n",
      "added to csv\n",
      "\n",
      "Epoch:  14\n",
      "480/480 - 33s - loss: 0.9754 - dense_4_loss: 0.5678 - dense_1_loss: 0.7227 - dense_3_loss: 0.6358 - dense_4_accuracy: 0.7850 - dense_1_accuracy: 0.7247 - dense_3_accuracy: 0.7605 - val_loss: 0.8786 - val_dense_4_loss: 0.5158 - val_dense_1_loss: 0.6359 - val_dense_3_loss: 0.5733 - val_dense_4_accuracy: 0.7964 - val_dense_1_accuracy: 0.7688 - val_dense_3_accuracy: 0.7771 - 33s/epoch - 69ms/step\n",
      "INFO:tensorflow:Assets written to: ./GNmodels/14GN__IC_01500_FilledArea_0.9_BandNo_60_ImageHeight_30_ImageWidth_30_FILTER_snv_FeatureExtraction_none/assets\n"
     ]
    },
    {
     "name": "stderr",
     "output_type": "stream",
     "text": [
      "INFO:tensorflow:Assets written to: ./GNmodels/14GN__IC_01500_FilledArea_0.9_BandNo_60_ImageHeight_30_ImageWidth_30_FILTER_snv_FeatureExtraction_none/assets\n"
     ]
    },
    {
     "name": "stdout",
     "output_type": "stream",
     "text": [
      "Model saved on epoch:  14\n",
      "added to csv\n",
      "\n",
      "Epoch:  15\n",
      "480/480 - 33s - loss: 0.8443 - dense_4_loss: 0.4871 - dense_1_loss: 0.6444 - dense_3_loss: 0.5461 - dense_4_accuracy: 0.8086 - dense_1_accuracy: 0.7531 - dense_3_accuracy: 0.7882 - val_loss: 0.9625 - val_dense_4_loss: 0.5446 - val_dense_1_loss: 0.7234 - val_dense_3_loss: 0.6698 - val_dense_4_accuracy: 0.7812 - val_dense_1_accuracy: 0.7219 - val_dense_3_accuracy: 0.7349 - 33s/epoch - 68ms/step\n",
      "INFO:tensorflow:Assets written to: ./GNmodels/15GN__IC_01500_FilledArea_0.9_BandNo_60_ImageHeight_30_ImageWidth_30_FILTER_snv_FeatureExtraction_none/assets\n"
     ]
    },
    {
     "name": "stderr",
     "output_type": "stream",
     "text": [
      "INFO:tensorflow:Assets written to: ./GNmodels/15GN__IC_01500_FilledArea_0.9_BandNo_60_ImageHeight_30_ImageWidth_30_FILTER_snv_FeatureExtraction_none/assets\n"
     ]
    },
    {
     "name": "stdout",
     "output_type": "stream",
     "text": [
      "Model saved on epoch:  15\n",
      "added to csv\n",
      "\n",
      "Epoch:  16\n",
      "480/480 - 33s - loss: 0.7906 - dense_4_loss: 0.4557 - dense_1_loss: 0.6011 - dense_3_loss: 0.5152 - dense_4_accuracy: 0.8211 - dense_1_accuracy: 0.7737 - dense_3_accuracy: 0.8048 - val_loss: 0.9628 - val_dense_4_loss: 0.5677 - val_dense_1_loss: 0.7073 - val_dense_3_loss: 0.6095 - val_dense_4_accuracy: 0.7672 - val_dense_1_accuracy: 0.7255 - val_dense_3_accuracy: 0.7536 - 33s/epoch - 68ms/step\n",
      "INFO:tensorflow:Assets written to: ./GNmodels/16GN__IC_01500_FilledArea_0.9_BandNo_60_ImageHeight_30_ImageWidth_30_FILTER_snv_FeatureExtraction_none/assets\n"
     ]
    },
    {
     "name": "stderr",
     "output_type": "stream",
     "text": [
      "INFO:tensorflow:Assets written to: ./GNmodels/16GN__IC_01500_FilledArea_0.9_BandNo_60_ImageHeight_30_ImageWidth_30_FILTER_snv_FeatureExtraction_none/assets\n"
     ]
    },
    {
     "name": "stdout",
     "output_type": "stream",
     "text": [
      "Model saved on epoch:  16\n",
      "added to csv\n",
      "\n",
      "Epoch:  17\n",
      "480/480 - 33s - loss: 0.7429 - dense_4_loss: 0.4219 - dense_1_loss: 0.5828 - dense_3_loss: 0.4872 - dense_4_accuracy: 0.8365 - dense_1_accuracy: 0.7818 - dense_3_accuracy: 0.8089 - val_loss: 0.7739 - val_dense_4_loss: 0.4450 - val_dense_1_loss: 0.5921 - val_dense_3_loss: 0.5044 - val_dense_4_accuracy: 0.8172 - val_dense_1_accuracy: 0.7740 - val_dense_3_accuracy: 0.7953 - 33s/epoch - 68ms/step\n",
      "INFO:tensorflow:Assets written to: ./GNmodels/17GN__IC_01500_FilledArea_0.9_BandNo_60_ImageHeight_30_ImageWidth_30_FILTER_snv_FeatureExtraction_none/assets\n"
     ]
    },
    {
     "name": "stderr",
     "output_type": "stream",
     "text": [
      "INFO:tensorflow:Assets written to: ./GNmodels/17GN__IC_01500_FilledArea_0.9_BandNo_60_ImageHeight_30_ImageWidth_30_FILTER_snv_FeatureExtraction_none/assets\n"
     ]
    },
    {
     "name": "stdout",
     "output_type": "stream",
     "text": [
      "Model saved on epoch:  17\n",
      "added to csv\n",
      "\n",
      "Epoch:  18\n",
      "480/480 - 33s - loss: 0.7142 - dense_4_loss: 0.4060 - dense_1_loss: 0.5604 - dense_3_loss: 0.4671 - dense_4_accuracy: 0.8444 - dense_1_accuracy: 0.7872 - dense_3_accuracy: 0.8194 - val_loss: 1.7765 - val_dense_4_loss: 1.1265 - val_dense_1_loss: 1.0961 - val_dense_3_loss: 1.0705 - val_dense_4_accuracy: 0.6667 - val_dense_1_accuracy: 0.6344 - val_dense_3_accuracy: 0.6484 - 33s/epoch - 68ms/step\n",
      "INFO:tensorflow:Assets written to: ./GNmodels/18GN__IC_01500_FilledArea_0.9_BandNo_60_ImageHeight_30_ImageWidth_30_FILTER_snv_FeatureExtraction_none/assets\n"
     ]
    },
    {
     "name": "stderr",
     "output_type": "stream",
     "text": [
      "INFO:tensorflow:Assets written to: ./GNmodels/18GN__IC_01500_FilledArea_0.9_BandNo_60_ImageHeight_30_ImageWidth_30_FILTER_snv_FeatureExtraction_none/assets\n"
     ]
    },
    {
     "name": "stdout",
     "output_type": "stream",
     "text": [
      "Model saved on epoch:  18\n",
      "added to csv\n",
      "\n",
      "Epoch:  19\n",
      "480/480 - 33s - loss: 0.7235 - dense_4_loss: 0.4141 - dense_1_loss: 0.5598 - dense_3_loss: 0.4717 - dense_4_accuracy: 0.8401 - dense_1_accuracy: 0.7866 - dense_3_accuracy: 0.8207 - val_loss: 0.6846 - val_dense_4_loss: 0.3950 - val_dense_1_loss: 0.5134 - val_dense_3_loss: 0.4522 - val_dense_4_accuracy: 0.8411 - val_dense_1_accuracy: 0.7958 - val_dense_3_accuracy: 0.8141 - 33s/epoch - 68ms/step\n",
      "INFO:tensorflow:Assets written to: ./GNmodels/19GN__IC_01500_FilledArea_0.9_BandNo_60_ImageHeight_30_ImageWidth_30_FILTER_snv_FeatureExtraction_none/assets\n"
     ]
    },
    {
     "name": "stderr",
     "output_type": "stream",
     "text": [
      "INFO:tensorflow:Assets written to: ./GNmodels/19GN__IC_01500_FilledArea_0.9_BandNo_60_ImageHeight_30_ImageWidth_30_FILTER_snv_FeatureExtraction_none/assets\n"
     ]
    },
    {
     "name": "stdout",
     "output_type": "stream",
     "text": [
      "Model saved on epoch:  19\n",
      "added to csv\n",
      "\n",
      "Epoch:  20\n",
      "480/480 - 32s - loss: 0.6320 - dense_4_loss: 0.3529 - dense_1_loss: 0.5159 - dense_3_loss: 0.4144 - dense_4_accuracy: 0.8608 - dense_1_accuracy: 0.8074 - dense_3_accuracy: 0.8389 - val_loss: 0.6214 - val_dense_4_loss: 0.3471 - val_dense_1_loss: 0.5116 - val_dense_3_loss: 0.4027 - val_dense_4_accuracy: 0.8682 - val_dense_1_accuracy: 0.8031 - val_dense_3_accuracy: 0.8359 - 32s/epoch - 67ms/step\n",
      "INFO:tensorflow:Assets written to: ./GNmodels/20GN__IC_01500_FilledArea_0.9_BandNo_60_ImageHeight_30_ImageWidth_30_FILTER_snv_FeatureExtraction_none/assets\n"
     ]
    },
    {
     "name": "stderr",
     "output_type": "stream",
     "text": [
      "INFO:tensorflow:Assets written to: ./GNmodels/20GN__IC_01500_FilledArea_0.9_BandNo_60_ImageHeight_30_ImageWidth_30_FILTER_snv_FeatureExtraction_none/assets\n"
     ]
    },
    {
     "name": "stdout",
     "output_type": "stream",
     "text": [
      "Model saved on epoch:  20\n",
      "added to csv\n",
      "\n",
      "Epoch:  21\n",
      "480/480 - 33s - loss: 0.5985 - dense_4_loss: 0.3333 - dense_1_loss: 0.4873 - dense_3_loss: 0.3966 - dense_4_accuracy: 0.8707 - dense_1_accuracy: 0.8156 - dense_3_accuracy: 0.8492 - val_loss: 0.5907 - val_dense_4_loss: 0.3406 - val_dense_1_loss: 0.4571 - val_dense_3_loss: 0.3767 - val_dense_4_accuracy: 0.8750 - val_dense_1_accuracy: 0.8250 - val_dense_3_accuracy: 0.8589 - 33s/epoch - 69ms/step\n",
      "INFO:tensorflow:Assets written to: ./GNmodels/21GN__IC_01500_FilledArea_0.9_BandNo_60_ImageHeight_30_ImageWidth_30_FILTER_snv_FeatureExtraction_none/assets\n"
     ]
    },
    {
     "name": "stderr",
     "output_type": "stream",
     "text": [
      "INFO:tensorflow:Assets written to: ./GNmodels/21GN__IC_01500_FilledArea_0.9_BandNo_60_ImageHeight_30_ImageWidth_30_FILTER_snv_FeatureExtraction_none/assets\n"
     ]
    },
    {
     "name": "stdout",
     "output_type": "stream",
     "text": [
      "Model saved on epoch:  21\n",
      "added to csv\n",
      "\n",
      "Epoch:  22\n",
      "480/480 - 32s - loss: 0.5679 - dense_4_loss: 0.3125 - dense_1_loss: 0.4734 - dense_3_loss: 0.3782 - dense_4_accuracy: 0.8776 - dense_1_accuracy: 0.8227 - dense_3_accuracy: 0.8559 - val_loss: 0.6117 - val_dense_4_loss: 0.3430 - val_dense_1_loss: 0.4678 - val_dense_3_loss: 0.4278 - val_dense_4_accuracy: 0.8656 - val_dense_1_accuracy: 0.8177 - val_dense_3_accuracy: 0.8328 - 32s/epoch - 67ms/step\n",
      "INFO:tensorflow:Assets written to: ./GNmodels/22GN__IC_01500_FilledArea_0.9_BandNo_60_ImageHeight_30_ImageWidth_30_FILTER_snv_FeatureExtraction_none/assets\n"
     ]
    },
    {
     "name": "stderr",
     "output_type": "stream",
     "text": [
      "INFO:tensorflow:Assets written to: ./GNmodels/22GN__IC_01500_FilledArea_0.9_BandNo_60_ImageHeight_30_ImageWidth_30_FILTER_snv_FeatureExtraction_none/assets\n"
     ]
    },
    {
     "name": "stdout",
     "output_type": "stream",
     "text": [
      "Model saved on epoch:  22\n",
      "added to csv\n",
      "\n",
      "Epoch:  23\n",
      "480/480 - 33s - loss: 0.5464 - dense_4_loss: 0.2985 - dense_1_loss: 0.4681 - dense_3_loss: 0.3583 - dense_4_accuracy: 0.8885 - dense_1_accuracy: 0.8221 - dense_3_accuracy: 0.8637 - val_loss: 0.6858 - val_dense_4_loss: 0.4098 - val_dense_1_loss: 0.5099 - val_dense_3_loss: 0.4102 - val_dense_4_accuracy: 0.8349 - val_dense_1_accuracy: 0.7937 - val_dense_3_accuracy: 0.8370 - 33s/epoch - 70ms/step\n",
      "INFO:tensorflow:Assets written to: ./GNmodels/23GN__IC_01500_FilledArea_0.9_BandNo_60_ImageHeight_30_ImageWidth_30_FILTER_snv_FeatureExtraction_none/assets\n"
     ]
    },
    {
     "name": "stderr",
     "output_type": "stream",
     "text": [
      "INFO:tensorflow:Assets written to: ./GNmodels/23GN__IC_01500_FilledArea_0.9_BandNo_60_ImageHeight_30_ImageWidth_30_FILTER_snv_FeatureExtraction_none/assets\n"
     ]
    },
    {
     "name": "stdout",
     "output_type": "stream",
     "text": [
      "Model saved on epoch:  23\n",
      "added to csv\n",
      "\n",
      "Epoch:  24\n",
      "480/480 - 32s - loss: 0.4970 - dense_4_loss: 0.2674 - dense_1_loss: 0.4328 - dense_3_loss: 0.3328 - dense_4_accuracy: 0.8952 - dense_1_accuracy: 0.8365 - dense_3_accuracy: 0.8738 - val_loss: 0.6035 - val_dense_4_loss: 0.3338 - val_dense_1_loss: 0.4879 - val_dense_3_loss: 0.4109 - val_dense_4_accuracy: 0.8698 - val_dense_1_accuracy: 0.8104 - val_dense_3_accuracy: 0.8385 - 32s/epoch - 68ms/step\n",
      "INFO:tensorflow:Assets written to: ./GNmodels/24GN__IC_01500_FilledArea_0.9_BandNo_60_ImageHeight_30_ImageWidth_30_FILTER_snv_FeatureExtraction_none/assets\n"
     ]
    },
    {
     "name": "stderr",
     "output_type": "stream",
     "text": [
      "INFO:tensorflow:Assets written to: ./GNmodels/24GN__IC_01500_FilledArea_0.9_BandNo_60_ImageHeight_30_ImageWidth_30_FILTER_snv_FeatureExtraction_none/assets\n"
     ]
    },
    {
     "name": "stdout",
     "output_type": "stream",
     "text": [
      "Model saved on epoch:  24\n",
      "added to csv\n",
      "\n",
      "Epoch:  25\n",
      "480/480 - 32s - loss: 0.4957 - dense_4_loss: 0.2695 - dense_1_loss: 0.4266 - dense_3_loss: 0.3275 - dense_4_accuracy: 0.8961 - dense_1_accuracy: 0.8367 - dense_3_accuracy: 0.8781 - val_loss: 0.5887 - val_dense_4_loss: 0.3306 - val_dense_1_loss: 0.4777 - val_dense_3_loss: 0.3824 - val_dense_4_accuracy: 0.8714 - val_dense_1_accuracy: 0.8219 - val_dense_3_accuracy: 0.8510 - 32s/epoch - 67ms/step\n",
      "INFO:tensorflow:Assets written to: ./GNmodels/25GN__IC_01500_FilledArea_0.9_BandNo_60_ImageHeight_30_ImageWidth_30_FILTER_snv_FeatureExtraction_none/assets\n"
     ]
    },
    {
     "name": "stderr",
     "output_type": "stream",
     "text": [
      "INFO:tensorflow:Assets written to: ./GNmodels/25GN__IC_01500_FilledArea_0.9_BandNo_60_ImageHeight_30_ImageWidth_30_FILTER_snv_FeatureExtraction_none/assets\n"
     ]
    },
    {
     "name": "stdout",
     "output_type": "stream",
     "text": [
      "Model saved on epoch:  25\n",
      "added to csv\n",
      "\n",
      "Epoch:  26\n",
      "480/480 - 32s - loss: 0.4684 - dense_4_loss: 0.2523 - dense_1_loss: 0.4071 - dense_3_loss: 0.3130 - dense_4_accuracy: 0.8988 - dense_1_accuracy: 0.8441 - dense_3_accuracy: 0.8829 - val_loss: 0.4700 - val_dense_4_loss: 0.2554 - val_dense_1_loss: 0.3971 - val_dense_3_loss: 0.3180 - val_dense_4_accuracy: 0.9036 - val_dense_1_accuracy: 0.8516 - val_dense_3_accuracy: 0.8802 - 32s/epoch - 68ms/step\n",
      "INFO:tensorflow:Assets written to: ./GNmodels/26GN__IC_01500_FilledArea_0.9_BandNo_60_ImageHeight_30_ImageWidth_30_FILTER_snv_FeatureExtraction_none/assets\n"
     ]
    },
    {
     "name": "stderr",
     "output_type": "stream",
     "text": [
      "INFO:tensorflow:Assets written to: ./GNmodels/26GN__IC_01500_FilledArea_0.9_BandNo_60_ImageHeight_30_ImageWidth_30_FILTER_snv_FeatureExtraction_none/assets\n"
     ]
    },
    {
     "name": "stdout",
     "output_type": "stream",
     "text": [
      "Model saved on epoch:  26\n",
      "added to csv\n",
      "\n",
      "Epoch:  27\n",
      "480/480 - 33s - loss: 0.4771 - dense_4_loss: 0.2592 - dense_1_loss: 0.4139 - dense_3_loss: 0.3122 - dense_4_accuracy: 0.8990 - dense_1_accuracy: 0.8415 - dense_3_accuracy: 0.8801 - val_loss: 0.4763 - val_dense_4_loss: 0.2543 - val_dense_1_loss: 0.4134 - val_dense_3_loss: 0.3265 - val_dense_4_accuracy: 0.9062 - val_dense_1_accuracy: 0.8464 - val_dense_3_accuracy: 0.8703 - 33s/epoch - 69ms/step\n",
      "INFO:tensorflow:Assets written to: ./GNmodels/27GN__IC_01500_FilledArea_0.9_BandNo_60_ImageHeight_30_ImageWidth_30_FILTER_snv_FeatureExtraction_none/assets\n"
     ]
    },
    {
     "name": "stderr",
     "output_type": "stream",
     "text": [
      "INFO:tensorflow:Assets written to: ./GNmodels/27GN__IC_01500_FilledArea_0.9_BandNo_60_ImageHeight_30_ImageWidth_30_FILTER_snv_FeatureExtraction_none/assets\n"
     ]
    },
    {
     "name": "stdout",
     "output_type": "stream",
     "text": [
      "Model saved on epoch:  27\n",
      "added to csv\n",
      "\n",
      "Epoch:  28\n",
      "480/480 - 33s - loss: 0.4294 - dense_4_loss: 0.2288 - dense_1_loss: 0.3902 - dense_3_loss: 0.2783 - dense_4_accuracy: 0.9128 - dense_1_accuracy: 0.8497 - dense_3_accuracy: 0.8944 - val_loss: 0.6185 - val_dense_4_loss: 0.3380 - val_dense_1_loss: 0.4587 - val_dense_3_loss: 0.4762 - val_dense_4_accuracy: 0.8823 - val_dense_1_accuracy: 0.8307 - val_dense_3_accuracy: 0.8276 - 33s/epoch - 69ms/step\n",
      "INFO:tensorflow:Assets written to: ./GNmodels/28GN__IC_01500_FilledArea_0.9_BandNo_60_ImageHeight_30_ImageWidth_30_FILTER_snv_FeatureExtraction_none/assets\n"
     ]
    },
    {
     "name": "stderr",
     "output_type": "stream",
     "text": [
      "INFO:tensorflow:Assets written to: ./GNmodels/28GN__IC_01500_FilledArea_0.9_BandNo_60_ImageHeight_30_ImageWidth_30_FILTER_snv_FeatureExtraction_none/assets\n"
     ]
    },
    {
     "name": "stdout",
     "output_type": "stream",
     "text": [
      "Model saved on epoch:  28\n",
      "added to csv\n",
      "\n",
      "Epoch:  29\n",
      "480/480 - 33s - loss: 0.4149 - dense_4_loss: 0.2178 - dense_1_loss: 0.3780 - dense_3_loss: 0.2791 - dense_4_accuracy: 0.9176 - dense_1_accuracy: 0.8618 - dense_3_accuracy: 0.8957 - val_loss: 0.4916 - val_dense_4_loss: 0.2718 - val_dense_1_loss: 0.4170 - val_dense_3_loss: 0.3157 - val_dense_4_accuracy: 0.8917 - val_dense_1_accuracy: 0.8474 - val_dense_3_accuracy: 0.8766 - 33s/epoch - 68ms/step\n",
      "INFO:tensorflow:Assets written to: ./GNmodels/29GN__IC_01500_FilledArea_0.9_BandNo_60_ImageHeight_30_ImageWidth_30_FILTER_snv_FeatureExtraction_none/assets\n"
     ]
    },
    {
     "name": "stderr",
     "output_type": "stream",
     "text": [
      "INFO:tensorflow:Assets written to: ./GNmodels/29GN__IC_01500_FilledArea_0.9_BandNo_60_ImageHeight_30_ImageWidth_30_FILTER_snv_FeatureExtraction_none/assets\n"
     ]
    },
    {
     "name": "stdout",
     "output_type": "stream",
     "text": [
      "Model saved on epoch:  29\n",
      "added to csv\n",
      "\n",
      "Epoch:  30\n",
      "480/480 - 33s - loss: 0.3511 - dense_4_loss: 0.1770 - dense_1_loss: 0.3446 - dense_3_loss: 0.2355 - dense_4_accuracy: 0.9310 - dense_1_accuracy: 0.8693 - dense_3_accuracy: 0.9092 - val_loss: 0.5259 - val_dense_4_loss: 0.2854 - val_dense_1_loss: 0.4472 - val_dense_3_loss: 0.3545 - val_dense_4_accuracy: 0.8995 - val_dense_1_accuracy: 0.8323 - val_dense_3_accuracy: 0.8641 - 33s/epoch - 69ms/step\n",
      "INFO:tensorflow:Assets written to: ./GNmodels/30GN__IC_01500_FilledArea_0.9_BandNo_60_ImageHeight_30_ImageWidth_30_FILTER_snv_FeatureExtraction_none/assets\n"
     ]
    },
    {
     "name": "stderr",
     "output_type": "stream",
     "text": [
      "INFO:tensorflow:Assets written to: ./GNmodels/30GN__IC_01500_FilledArea_0.9_BandNo_60_ImageHeight_30_ImageWidth_30_FILTER_snv_FeatureExtraction_none/assets\n"
     ]
    },
    {
     "name": "stdout",
     "output_type": "stream",
     "text": [
      "Model saved on epoch:  30\n",
      "added to csv\n",
      "\n",
      "Epoch:  31\n",
      "480/480 - 33s - loss: 0.3960 - dense_4_loss: 0.2122 - dense_1_loss: 0.3505 - dense_3_loss: 0.2622 - dense_4_accuracy: 0.9245 - dense_1_accuracy: 0.8732 - dense_3_accuracy: 0.9042 - val_loss: 0.5297 - val_dense_4_loss: 0.3007 - val_dense_1_loss: 0.4236 - val_dense_3_loss: 0.3396 - val_dense_4_accuracy: 0.8870 - val_dense_1_accuracy: 0.8552 - val_dense_3_accuracy: 0.8755 - 33s/epoch - 69ms/step\n",
      "INFO:tensorflow:Assets written to: ./GNmodels/31GN__IC_01500_FilledArea_0.9_BandNo_60_ImageHeight_30_ImageWidth_30_FILTER_snv_FeatureExtraction_none/assets\n"
     ]
    },
    {
     "name": "stderr",
     "output_type": "stream",
     "text": [
      "INFO:tensorflow:Assets written to: ./GNmodels/31GN__IC_01500_FilledArea_0.9_BandNo_60_ImageHeight_30_ImageWidth_30_FILTER_snv_FeatureExtraction_none/assets\n"
     ]
    },
    {
     "name": "stdout",
     "output_type": "stream",
     "text": [
      "Model saved on epoch:  31\n",
      "added to csv\n",
      "\n",
      "Epoch:  32\n",
      "480/480 - 34s - loss: 0.3420 - dense_4_loss: 0.1730 - dense_1_loss: 0.3362 - dense_3_loss: 0.2271 - dense_4_accuracy: 0.9318 - dense_1_accuracy: 0.8717 - dense_3_accuracy: 0.9137 - val_loss: 0.8288 - val_dense_4_loss: 0.4709 - val_dense_1_loss: 0.6337 - val_dense_3_loss: 0.5595 - val_dense_4_accuracy: 0.8469 - val_dense_1_accuracy: 0.7724 - val_dense_3_accuracy: 0.8167 - 34s/epoch - 70ms/step\n",
      "INFO:tensorflow:Assets written to: ./GNmodels/32GN__IC_01500_FilledArea_0.9_BandNo_60_ImageHeight_30_ImageWidth_30_FILTER_snv_FeatureExtraction_none/assets\n"
     ]
    },
    {
     "name": "stderr",
     "output_type": "stream",
     "text": [
      "INFO:tensorflow:Assets written to: ./GNmodels/32GN__IC_01500_FilledArea_0.9_BandNo_60_ImageHeight_30_ImageWidth_30_FILTER_snv_FeatureExtraction_none/assets\n"
     ]
    },
    {
     "name": "stdout",
     "output_type": "stream",
     "text": [
      "Model saved on epoch:  32\n",
      "added to csv\n",
      "\n",
      "Epoch:  33\n",
      "480/480 - 33s - loss: 0.3411 - dense_4_loss: 0.1751 - dense_1_loss: 0.3259 - dense_3_loss: 0.2273 - dense_4_accuracy: 0.9328 - dense_1_accuracy: 0.8783 - dense_3_accuracy: 0.9147 - val_loss: 0.9229 - val_dense_4_loss: 0.5584 - val_dense_1_loss: 0.5795 - val_dense_3_loss: 0.6354 - val_dense_4_accuracy: 0.8318 - val_dense_1_accuracy: 0.7937 - val_dense_3_accuracy: 0.8042 - 33s/epoch - 70ms/step\n",
      "INFO:tensorflow:Assets written to: ./GNmodels/33GN__IC_01500_FilledArea_0.9_BandNo_60_ImageHeight_30_ImageWidth_30_FILTER_snv_FeatureExtraction_none/assets\n"
     ]
    },
    {
     "name": "stderr",
     "output_type": "stream",
     "text": [
      "INFO:tensorflow:Assets written to: ./GNmodels/33GN__IC_01500_FilledArea_0.9_BandNo_60_ImageHeight_30_ImageWidth_30_FILTER_snv_FeatureExtraction_none/assets\n"
     ]
    },
    {
     "name": "stdout",
     "output_type": "stream",
     "text": [
      "Model saved on epoch:  33\n",
      "added to csv\n",
      "\n",
      "Epoch:  34\n",
      "480/480 - 33s - loss: 0.2728 - dense_4_loss: 0.1296 - dense_1_loss: 0.2901 - dense_3_loss: 0.1871 - dense_4_accuracy: 0.9501 - dense_1_accuracy: 0.8895 - dense_3_accuracy: 0.9277 - val_loss: 0.4596 - val_dense_4_loss: 0.2497 - val_dense_1_loss: 0.3855 - val_dense_3_loss: 0.3141 - val_dense_4_accuracy: 0.9094 - val_dense_1_accuracy: 0.8594 - val_dense_3_accuracy: 0.8833 - 33s/epoch - 70ms/step\n",
      "INFO:tensorflow:Assets written to: ./GNmodels/34GN__IC_01500_FilledArea_0.9_BandNo_60_ImageHeight_30_ImageWidth_30_FILTER_snv_FeatureExtraction_none/assets\n"
     ]
    },
    {
     "name": "stderr",
     "output_type": "stream",
     "text": [
      "INFO:tensorflow:Assets written to: ./GNmodels/34GN__IC_01500_FilledArea_0.9_BandNo_60_ImageHeight_30_ImageWidth_30_FILTER_snv_FeatureExtraction_none/assets\n"
     ]
    },
    {
     "name": "stdout",
     "output_type": "stream",
     "text": [
      "Model saved on epoch:  34\n",
      "added to csv\n",
      "\n",
      "Epoch:  35\n",
      "480/480 - 33s - loss: 0.3215 - dense_4_loss: 0.1620 - dense_1_loss: 0.3143 - dense_3_loss: 0.2174 - dense_4_accuracy: 0.9393 - dense_1_accuracy: 0.8836 - dense_3_accuracy: 0.9186 - val_loss: 0.9436 - val_dense_4_loss: 0.5386 - val_dense_1_loss: 0.6809 - val_dense_3_loss: 0.6693 - val_dense_4_accuracy: 0.8328 - val_dense_1_accuracy: 0.7495 - val_dense_3_accuracy: 0.7854 - 33s/epoch - 70ms/step\n",
      "INFO:tensorflow:Assets written to: ./GNmodels/35GN__IC_01500_FilledArea_0.9_BandNo_60_ImageHeight_30_ImageWidth_30_FILTER_snv_FeatureExtraction_none/assets\n"
     ]
    },
    {
     "name": "stderr",
     "output_type": "stream",
     "text": [
      "INFO:tensorflow:Assets written to: ./GNmodels/35GN__IC_01500_FilledArea_0.9_BandNo_60_ImageHeight_30_ImageWidth_30_FILTER_snv_FeatureExtraction_none/assets\n"
     ]
    },
    {
     "name": "stdout",
     "output_type": "stream",
     "text": [
      "Model saved on epoch:  35\n",
      "added to csv\n",
      "\n",
      "Epoch:  36\n",
      "480/480 - 33s - loss: 0.2543 - dense_4_loss: 0.1214 - dense_1_loss: 0.2667 - dense_3_loss: 0.1764 - dense_4_accuracy: 0.9517 - dense_1_accuracy: 0.9012 - dense_3_accuracy: 0.9324 - val_loss: 0.8181 - val_dense_4_loss: 0.5072 - val_dense_1_loss: 0.5754 - val_dense_3_loss: 0.4606 - val_dense_4_accuracy: 0.8292 - val_dense_1_accuracy: 0.7875 - val_dense_3_accuracy: 0.8427 - 33s/epoch - 70ms/step\n",
      "INFO:tensorflow:Assets written to: ./GNmodels/36GN__IC_01500_FilledArea_0.9_BandNo_60_ImageHeight_30_ImageWidth_30_FILTER_snv_FeatureExtraction_none/assets\n"
     ]
    },
    {
     "name": "stderr",
     "output_type": "stream",
     "text": [
      "INFO:tensorflow:Assets written to: ./GNmodels/36GN__IC_01500_FilledArea_0.9_BandNo_60_ImageHeight_30_ImageWidth_30_FILTER_snv_FeatureExtraction_none/assets\n"
     ]
    },
    {
     "name": "stdout",
     "output_type": "stream",
     "text": [
      "Model saved on epoch:  36\n",
      "added to csv\n",
      "\n",
      "Epoch:  37\n",
      "480/480 - 33s - loss: 0.2443 - dense_4_loss: 0.1139 - dense_1_loss: 0.2614 - dense_3_loss: 0.1734 - dense_4_accuracy: 0.9583 - dense_1_accuracy: 0.9038 - dense_3_accuracy: 0.9363 - val_loss: 0.6945 - val_dense_4_loss: 0.4252 - val_dense_1_loss: 0.4602 - val_dense_3_loss: 0.4376 - val_dense_4_accuracy: 0.8625 - val_dense_1_accuracy: 0.8354 - val_dense_3_accuracy: 0.8474 - 33s/epoch - 69ms/step\n",
      "INFO:tensorflow:Assets written to: ./GNmodels/37GN__IC_01500_FilledArea_0.9_BandNo_60_ImageHeight_30_ImageWidth_30_FILTER_snv_FeatureExtraction_none/assets\n"
     ]
    },
    {
     "name": "stderr",
     "output_type": "stream",
     "text": [
      "INFO:tensorflow:Assets written to: ./GNmodels/37GN__IC_01500_FilledArea_0.9_BandNo_60_ImageHeight_30_ImageWidth_30_FILTER_snv_FeatureExtraction_none/assets\n"
     ]
    },
    {
     "name": "stdout",
     "output_type": "stream",
     "text": [
      "Model saved on epoch:  37\n",
      "added to csv\n",
      "\n",
      "Epoch:  38\n",
      "480/480 - 33s - loss: 0.2329 - dense_4_loss: 0.1084 - dense_1_loss: 0.2477 - dense_3_loss: 0.1676 - dense_4_accuracy: 0.9603 - dense_1_accuracy: 0.9100 - dense_3_accuracy: 0.9361 - val_loss: 0.3780 - val_dense_4_loss: 0.1851 - val_dense_1_loss: 0.3869 - val_dense_3_loss: 0.2560 - val_dense_4_accuracy: 0.9281 - val_dense_1_accuracy: 0.8536 - val_dense_3_accuracy: 0.9042 - 33s/epoch - 69ms/step\n",
      "INFO:tensorflow:Assets written to: ./GNmodels/38GN__IC_01500_FilledArea_0.9_BandNo_60_ImageHeight_30_ImageWidth_30_FILTER_snv_FeatureExtraction_none/assets\n"
     ]
    },
    {
     "name": "stderr",
     "output_type": "stream",
     "text": [
      "INFO:tensorflow:Assets written to: ./GNmodels/38GN__IC_01500_FilledArea_0.9_BandNo_60_ImageHeight_30_ImageWidth_30_FILTER_snv_FeatureExtraction_none/assets\n"
     ]
    },
    {
     "name": "stdout",
     "output_type": "stream",
     "text": [
      "Model saved on epoch:  38\n",
      "added to csv\n",
      "\n",
      "Epoch:  39\n",
      "480/480 - 33s - loss: 0.2337 - dense_4_loss: 0.1064 - dense_1_loss: 0.2601 - dense_3_loss: 0.1643 - dense_4_accuracy: 0.9602 - dense_1_accuracy: 0.9027 - dense_3_accuracy: 0.9370 - val_loss: 0.7800 - val_dense_4_loss: 0.4757 - val_dense_1_loss: 0.5010 - val_dense_3_loss: 0.5134 - val_dense_4_accuracy: 0.8521 - val_dense_1_accuracy: 0.8203 - val_dense_3_accuracy: 0.8344 - 33s/epoch - 69ms/step\n",
      "INFO:tensorflow:Assets written to: ./GNmodels/39GN__IC_01500_FilledArea_0.9_BandNo_60_ImageHeight_30_ImageWidth_30_FILTER_snv_FeatureExtraction_none/assets\n"
     ]
    },
    {
     "name": "stderr",
     "output_type": "stream",
     "text": [
      "INFO:tensorflow:Assets written to: ./GNmodels/39GN__IC_01500_FilledArea_0.9_BandNo_60_ImageHeight_30_ImageWidth_30_FILTER_snv_FeatureExtraction_none/assets\n"
     ]
    },
    {
     "name": "stdout",
     "output_type": "stream",
     "text": [
      "Model saved on epoch:  39\n",
      "added to csv\n",
      "\n",
      "Epoch:  40\n",
      "480/480 - 33s - loss: 0.2723 - dense_4_loss: 0.1383 - dense_1_loss: 0.2595 - dense_3_loss: 0.1871 - dense_4_accuracy: 0.9493 - dense_1_accuracy: 0.9016 - dense_3_accuracy: 0.9316 - val_loss: 0.4487 - val_dense_4_loss: 0.2242 - val_dense_1_loss: 0.4462 - val_dense_3_loss: 0.3021 - val_dense_4_accuracy: 0.9250 - val_dense_1_accuracy: 0.8370 - val_dense_3_accuracy: 0.8906 - 33s/epoch - 68ms/step\n",
      "INFO:tensorflow:Assets written to: ./GNmodels/40GN__IC_01500_FilledArea_0.9_BandNo_60_ImageHeight_30_ImageWidth_30_FILTER_snv_FeatureExtraction_none/assets\n"
     ]
    },
    {
     "name": "stderr",
     "output_type": "stream",
     "text": [
      "INFO:tensorflow:Assets written to: ./GNmodels/40GN__IC_01500_FilledArea_0.9_BandNo_60_ImageHeight_30_ImageWidth_30_FILTER_snv_FeatureExtraction_none/assets\n"
     ]
    },
    {
     "name": "stdout",
     "output_type": "stream",
     "text": [
      "Model saved on epoch:  40\n",
      "added to csv\n",
      "\n",
      "Epoch:  41\n",
      "480/480 - 33s - loss: 0.2016 - dense_4_loss: 0.0876 - dense_1_loss: 0.2326 - dense_3_loss: 0.1474 - dense_4_accuracy: 0.9667 - dense_1_accuracy: 0.9152 - dense_3_accuracy: 0.9439 - val_loss: 1.0026 - val_dense_4_loss: 0.5616 - val_dense_1_loss: 0.7755 - val_dense_3_loss: 0.6945 - val_dense_4_accuracy: 0.8365 - val_dense_1_accuracy: 0.7464 - val_dense_3_accuracy: 0.7937 - 33s/epoch - 68ms/step\n",
      "INFO:tensorflow:Assets written to: ./GNmodels/41GN__IC_01500_FilledArea_0.9_BandNo_60_ImageHeight_30_ImageWidth_30_FILTER_snv_FeatureExtraction_none/assets\n"
     ]
    },
    {
     "name": "stderr",
     "output_type": "stream",
     "text": [
      "INFO:tensorflow:Assets written to: ./GNmodels/41GN__IC_01500_FilledArea_0.9_BandNo_60_ImageHeight_30_ImageWidth_30_FILTER_snv_FeatureExtraction_none/assets\n"
     ]
    },
    {
     "name": "stdout",
     "output_type": "stream",
     "text": [
      "Model saved on epoch:  41\n",
      "added to csv\n",
      "\n",
      "Epoch:  42\n",
      "480/480 - 33s - loss: 0.2233 - dense_4_loss: 0.1101 - dense_1_loss: 0.2240 - dense_3_loss: 0.1534 - dense_4_accuracy: 0.9656 - dense_1_accuracy: 0.9255 - dense_3_accuracy: 0.9525 - val_loss: 0.3316 - val_dense_4_loss: 0.1631 - val_dense_1_loss: 0.3405 - val_dense_3_loss: 0.2213 - val_dense_4_accuracy: 0.9396 - val_dense_1_accuracy: 0.8755 - val_dense_3_accuracy: 0.9172 - 33s/epoch - 70ms/step\n",
      "INFO:tensorflow:Assets written to: ./GNmodels/42GN__IC_01500_FilledArea_0.9_BandNo_60_ImageHeight_30_ImageWidth_30_FILTER_snv_FeatureExtraction_none/assets\n"
     ]
    },
    {
     "name": "stderr",
     "output_type": "stream",
     "text": [
      "INFO:tensorflow:Assets written to: ./GNmodels/42GN__IC_01500_FilledArea_0.9_BandNo_60_ImageHeight_30_ImageWidth_30_FILTER_snv_FeatureExtraction_none/assets\n"
     ]
    },
    {
     "name": "stdout",
     "output_type": "stream",
     "text": [
      "Model saved on epoch:  42\n",
      "added to csv\n",
      "\n",
      "Epoch:  43\n",
      "480/480 - 33s - loss: 0.1086 - dense_4_loss: 0.0399 - dense_1_loss: 0.1479 - dense_3_loss: 0.0810 - dense_4_accuracy: 0.9887 - dense_1_accuracy: 0.9504 - dense_3_accuracy: 0.9746 - val_loss: 0.3194 - val_dense_4_loss: 0.1555 - val_dense_1_loss: 0.3307 - val_dense_3_loss: 0.2156 - val_dense_4_accuracy: 0.9406 - val_dense_1_accuracy: 0.8786 - val_dense_3_accuracy: 0.9161 - 33s/epoch - 68ms/step\n",
      "INFO:tensorflow:Assets written to: ./GNmodels/43GN__IC_01500_FilledArea_0.9_BandNo_60_ImageHeight_30_ImageWidth_30_FILTER_snv_FeatureExtraction_none/assets\n"
     ]
    },
    {
     "name": "stderr",
     "output_type": "stream",
     "text": [
      "INFO:tensorflow:Assets written to: ./GNmodels/43GN__IC_01500_FilledArea_0.9_BandNo_60_ImageHeight_30_ImageWidth_30_FILTER_snv_FeatureExtraction_none/assets\n"
     ]
    },
    {
     "name": "stdout",
     "output_type": "stream",
     "text": [
      "Model saved on epoch:  43\n",
      "added to csv\n",
      "\n",
      "Epoch:  44\n",
      "480/480 - 33s - loss: 0.0991 - dense_4_loss: 0.0359 - dense_1_loss: 0.1384 - dense_3_loss: 0.0724 - dense_4_accuracy: 0.9905 - dense_1_accuracy: 0.9594 - dense_3_accuracy: 0.9777 - val_loss: 0.3134 - val_dense_4_loss: 0.1516 - val_dense_1_loss: 0.3270 - val_dense_3_loss: 0.2124 - val_dense_4_accuracy: 0.9427 - val_dense_1_accuracy: 0.8807 - val_dense_3_accuracy: 0.9156 - 33s/epoch - 68ms/step\n",
      "INFO:tensorflow:Assets written to: ./GNmodels/44GN__IC_01500_FilledArea_0.9_BandNo_60_ImageHeight_30_ImageWidth_30_FILTER_snv_FeatureExtraction_none/assets\n"
     ]
    },
    {
     "name": "stderr",
     "output_type": "stream",
     "text": [
      "INFO:tensorflow:Assets written to: ./GNmodels/44GN__IC_01500_FilledArea_0.9_BandNo_60_ImageHeight_30_ImageWidth_30_FILTER_snv_FeatureExtraction_none/assets\n"
     ]
    },
    {
     "name": "stdout",
     "output_type": "stream",
     "text": [
      "Model saved on epoch:  44\n",
      "added to csv\n",
      "\n",
      "Epoch:  45\n",
      "480/480 - 34s - loss: 0.0946 - dense_4_loss: 0.0334 - dense_1_loss: 0.1343 - dense_3_loss: 0.0700 - dense_4_accuracy: 0.9902 - dense_1_accuracy: 0.9581 - dense_3_accuracy: 0.9790 - val_loss: 0.3089 - val_dense_4_loss: 0.1488 - val_dense_1_loss: 0.3241 - val_dense_3_loss: 0.2095 - val_dense_4_accuracy: 0.9417 - val_dense_1_accuracy: 0.8802 - val_dense_3_accuracy: 0.9177 - 34s/epoch - 70ms/step\n",
      "INFO:tensorflow:Assets written to: ./GNmodels/45GN__IC_01500_FilledArea_0.9_BandNo_60_ImageHeight_30_ImageWidth_30_FILTER_snv_FeatureExtraction_none/assets\n"
     ]
    },
    {
     "name": "stderr",
     "output_type": "stream",
     "text": [
      "INFO:tensorflow:Assets written to: ./GNmodels/45GN__IC_01500_FilledArea_0.9_BandNo_60_ImageHeight_30_ImageWidth_30_FILTER_snv_FeatureExtraction_none/assets\n"
     ]
    },
    {
     "name": "stdout",
     "output_type": "stream",
     "text": [
      "Model saved on epoch:  45\n",
      "added to csv\n",
      "\n",
      "Epoch:  46\n",
      "480/480 - 33s - loss: 0.0908 - dense_4_loss: 0.0307 - dense_1_loss: 0.1333 - dense_3_loss: 0.0670 - dense_4_accuracy: 0.9911 - dense_1_accuracy: 0.9586 - dense_3_accuracy: 0.9811 - val_loss: 0.3049 - val_dense_4_loss: 0.1465 - val_dense_1_loss: 0.3213 - val_dense_3_loss: 0.2068 - val_dense_4_accuracy: 0.9417 - val_dense_1_accuracy: 0.8802 - val_dense_3_accuracy: 0.9182 - 33s/epoch - 68ms/step\n",
      "INFO:tensorflow:Assets written to: ./GNmodels/46GN__IC_01500_FilledArea_0.9_BandNo_60_ImageHeight_30_ImageWidth_30_FILTER_snv_FeatureExtraction_none/assets\n"
     ]
    },
    {
     "name": "stderr",
     "output_type": "stream",
     "text": [
      "INFO:tensorflow:Assets written to: ./GNmodels/46GN__IC_01500_FilledArea_0.9_BandNo_60_ImageHeight_30_ImageWidth_30_FILTER_snv_FeatureExtraction_none/assets\n"
     ]
    },
    {
     "name": "stdout",
     "output_type": "stream",
     "text": [
      "Model saved on epoch:  46\n",
      "added to csv\n",
      "\n",
      "Epoch:  47\n",
      "480/480 - 33s - loss: 0.0885 - dense_4_loss: 0.0296 - dense_1_loss: 0.1322 - dense_3_loss: 0.0643 - dense_4_accuracy: 0.9918 - dense_1_accuracy: 0.9570 - dense_3_accuracy: 0.9816 - val_loss: 0.3021 - val_dense_4_loss: 0.1447 - val_dense_1_loss: 0.3191 - val_dense_3_loss: 0.2054 - val_dense_4_accuracy: 0.9432 - val_dense_1_accuracy: 0.8792 - val_dense_3_accuracy: 0.9187 - 33s/epoch - 69ms/step\n",
      "INFO:tensorflow:Assets written to: ./GNmodels/47GN__IC_01500_FilledArea_0.9_BandNo_60_ImageHeight_30_ImageWidth_30_FILTER_snv_FeatureExtraction_none/assets\n"
     ]
    },
    {
     "name": "stderr",
     "output_type": "stream",
     "text": [
      "INFO:tensorflow:Assets written to: ./GNmodels/47GN__IC_01500_FilledArea_0.9_BandNo_60_ImageHeight_30_ImageWidth_30_FILTER_snv_FeatureExtraction_none/assets\n"
     ]
    },
    {
     "name": "stdout",
     "output_type": "stream",
     "text": [
      "Model saved on epoch:  47\n",
      "added to csv\n",
      "\n",
      "Epoch:  48\n",
      "480/480 - 34s - loss: 0.0827 - dense_4_loss: 0.0274 - dense_1_loss: 0.1244 - dense_3_loss: 0.0601 - dense_4_accuracy: 0.9921 - dense_1_accuracy: 0.9603 - dense_3_accuracy: 0.9835 - val_loss: 0.3006 - val_dense_4_loss: 0.1439 - val_dense_1_loss: 0.3185 - val_dense_3_loss: 0.2040 - val_dense_4_accuracy: 0.9427 - val_dense_1_accuracy: 0.8781 - val_dense_3_accuracy: 0.9187 - 34s/epoch - 70ms/step\n",
      "INFO:tensorflow:Assets written to: ./GNmodels/48GN__IC_01500_FilledArea_0.9_BandNo_60_ImageHeight_30_ImageWidth_30_FILTER_snv_FeatureExtraction_none/assets\n"
     ]
    },
    {
     "name": "stderr",
     "output_type": "stream",
     "text": [
      "INFO:tensorflow:Assets written to: ./GNmodels/48GN__IC_01500_FilledArea_0.9_BandNo_60_ImageHeight_30_ImageWidth_30_FILTER_snv_FeatureExtraction_none/assets\n"
     ]
    },
    {
     "name": "stdout",
     "output_type": "stream",
     "text": [
      "Model saved on epoch:  48\n",
      "added to csv\n",
      "\n",
      "Epoch:  49\n",
      "480/480 - 34s - loss: 0.0800 - dense_4_loss: 0.0254 - dense_1_loss: 0.1220 - dense_3_loss: 0.0601 - dense_4_accuracy: 0.9930 - dense_1_accuracy: 0.9620 - dense_3_accuracy: 0.9814 - val_loss: 0.2984 - val_dense_4_loss: 0.1426 - val_dense_1_loss: 0.3174 - val_dense_3_loss: 0.2019 - val_dense_4_accuracy: 0.9438 - val_dense_1_accuracy: 0.8792 - val_dense_3_accuracy: 0.9193 - 34s/epoch - 70ms/step\n",
      "INFO:tensorflow:Assets written to: ./GNmodels/49GN__IC_01500_FilledArea_0.9_BandNo_60_ImageHeight_30_ImageWidth_30_FILTER_snv_FeatureExtraction_none/assets\n"
     ]
    },
    {
     "name": "stderr",
     "output_type": "stream",
     "text": [
      "INFO:tensorflow:Assets written to: ./GNmodels/49GN__IC_01500_FilledArea_0.9_BandNo_60_ImageHeight_30_ImageWidth_30_FILTER_snv_FeatureExtraction_none/assets\n"
     ]
    },
    {
     "name": "stdout",
     "output_type": "stream",
     "text": [
      "Model saved on epoch:  49\n",
      "added to csv\n",
      "\n",
      "Epoch:  50\n",
      "480/480 - 33s - loss: 0.0764 - dense_4_loss: 0.0245 - dense_1_loss: 0.1164 - dense_3_loss: 0.0565 - dense_4_accuracy: 0.9932 - dense_1_accuracy: 0.9635 - dense_3_accuracy: 0.9829 - val_loss: 0.2986 - val_dense_4_loss: 0.1435 - val_dense_1_loss: 0.3154 - val_dense_3_loss: 0.2014 - val_dense_4_accuracy: 0.9427 - val_dense_1_accuracy: 0.8792 - val_dense_3_accuracy: 0.9208 - 33s/epoch - 70ms/step\n",
      "INFO:tensorflow:Assets written to: ./GNmodels/50GN__IC_01500_FilledArea_0.9_BandNo_60_ImageHeight_30_ImageWidth_30_FILTER_snv_FeatureExtraction_none/assets\n"
     ]
    },
    {
     "name": "stderr",
     "output_type": "stream",
     "text": [
      "INFO:tensorflow:Assets written to: ./GNmodels/50GN__IC_01500_FilledArea_0.9_BandNo_60_ImageHeight_30_ImageWidth_30_FILTER_snv_FeatureExtraction_none/assets\n"
     ]
    },
    {
     "name": "stdout",
     "output_type": "stream",
     "text": [
      "Model saved on epoch:  50\n",
      "added to csv\n",
      "\n",
      "Epoch:  51\n",
      "480/480 - 33s - loss: 0.0753 - dense_4_loss: 0.0230 - dense_1_loss: 0.1187 - dense_3_loss: 0.0556 - dense_4_accuracy: 0.9928 - dense_1_accuracy: 0.9641 - dense_3_accuracy: 0.9835 - val_loss: 0.2975 - val_dense_4_loss: 0.1433 - val_dense_1_loss: 0.3145 - val_dense_3_loss: 0.1996 - val_dense_4_accuracy: 0.9417 - val_dense_1_accuracy: 0.8807 - val_dense_3_accuracy: 0.9214 - 33s/epoch - 69ms/step\n",
      "INFO:tensorflow:Assets written to: ./GNmodels/51GN__IC_01500_FilledArea_0.9_BandNo_60_ImageHeight_30_ImageWidth_30_FILTER_snv_FeatureExtraction_none/assets\n"
     ]
    },
    {
     "name": "stderr",
     "output_type": "stream",
     "text": [
      "INFO:tensorflow:Assets written to: ./GNmodels/51GN__IC_01500_FilledArea_0.9_BandNo_60_ImageHeight_30_ImageWidth_30_FILTER_snv_FeatureExtraction_none/assets\n"
     ]
    },
    {
     "name": "stdout",
     "output_type": "stream",
     "text": [
      "Model saved on epoch:  51\n",
      "added to csv\n",
      "\n",
      "Epoch:  52\n",
      "480/480 - 33s - loss: 0.0721 - dense_4_loss: 0.0206 - dense_1_loss: 0.1185 - dense_3_loss: 0.0533 - dense_4_accuracy: 0.9943 - dense_1_accuracy: 0.9641 - dense_3_accuracy: 0.9831 - val_loss: 0.2982 - val_dense_4_loss: 0.1432 - val_dense_1_loss: 0.3155 - val_dense_3_loss: 0.2011 - val_dense_4_accuracy: 0.9427 - val_dense_1_accuracy: 0.8802 - val_dense_3_accuracy: 0.9187 - 33s/epoch - 69ms/step\n",
      "INFO:tensorflow:Assets written to: ./GNmodels/52GN__IC_01500_FilledArea_0.9_BandNo_60_ImageHeight_30_ImageWidth_30_FILTER_snv_FeatureExtraction_none/assets\n"
     ]
    },
    {
     "name": "stderr",
     "output_type": "stream",
     "text": [
      "INFO:tensorflow:Assets written to: ./GNmodels/52GN__IC_01500_FilledArea_0.9_BandNo_60_ImageHeight_30_ImageWidth_30_FILTER_snv_FeatureExtraction_none/assets\n"
     ]
    },
    {
     "name": "stdout",
     "output_type": "stream",
     "text": [
      "Model saved on epoch:  52\n",
      "added to csv\n",
      "\n",
      "Epoch:  53\n",
      "480/480 - 34s - loss: 0.0697 - dense_4_loss: 0.0200 - dense_1_loss: 0.1137 - dense_3_loss: 0.0520 - dense_4_accuracy: 0.9944 - dense_1_accuracy: 0.9645 - dense_3_accuracy: 0.9827 - val_loss: 0.2970 - val_dense_4_loss: 0.1430 - val_dense_1_loss: 0.3137 - val_dense_3_loss: 0.1998 - val_dense_4_accuracy: 0.9427 - val_dense_1_accuracy: 0.8813 - val_dense_3_accuracy: 0.9219 - 34s/epoch - 70ms/step\n",
      "INFO:tensorflow:Assets written to: ./GNmodels/53GN__IC_01500_FilledArea_0.9_BandNo_60_ImageHeight_30_ImageWidth_30_FILTER_snv_FeatureExtraction_none/assets\n"
     ]
    },
    {
     "name": "stderr",
     "output_type": "stream",
     "text": [
      "INFO:tensorflow:Assets written to: ./GNmodels/53GN__IC_01500_FilledArea_0.9_BandNo_60_ImageHeight_30_ImageWidth_30_FILTER_snv_FeatureExtraction_none/assets\n"
     ]
    },
    {
     "name": "stdout",
     "output_type": "stream",
     "text": [
      "Model saved on epoch:  53\n",
      "added to csv\n",
      "\n",
      "Epoch:  54\n",
      "480/480 - 34s - loss: 0.0685 - dense_4_loss: 0.0196 - dense_1_loss: 0.1129 - dense_3_loss: 0.0500 - dense_4_accuracy: 0.9944 - dense_1_accuracy: 0.9647 - dense_3_accuracy: 0.9833 - val_loss: 0.2968 - val_dense_4_loss: 0.1428 - val_dense_1_loss: 0.3137 - val_dense_3_loss: 0.1996 - val_dense_4_accuracy: 0.9427 - val_dense_1_accuracy: 0.8813 - val_dense_3_accuracy: 0.9224 - 34s/epoch - 72ms/step\n",
      "INFO:tensorflow:Assets written to: ./GNmodels/54GN__IC_01500_FilledArea_0.9_BandNo_60_ImageHeight_30_ImageWidth_30_FILTER_snv_FeatureExtraction_none/assets\n"
     ]
    },
    {
     "name": "stderr",
     "output_type": "stream",
     "text": [
      "INFO:tensorflow:Assets written to: ./GNmodels/54GN__IC_01500_FilledArea_0.9_BandNo_60_ImageHeight_30_ImageWidth_30_FILTER_snv_FeatureExtraction_none/assets\n"
     ]
    },
    {
     "name": "stdout",
     "output_type": "stream",
     "text": [
      "Model saved on epoch:  54\n",
      "added to csv\n",
      "\n",
      "Epoch:  55\n",
      "480/480 - 33s - loss: 0.0648 - dense_4_loss: 0.0172 - dense_1_loss: 0.1105 - dense_3_loss: 0.0479 - dense_4_accuracy: 0.9952 - dense_1_accuracy: 0.9646 - dense_3_accuracy: 0.9854 - val_loss: 0.2981 - val_dense_4_loss: 0.1438 - val_dense_1_loss: 0.3143 - val_dense_3_loss: 0.2004 - val_dense_4_accuracy: 0.9427 - val_dense_1_accuracy: 0.8828 - val_dense_3_accuracy: 0.9219 - 33s/epoch - 68ms/step\n",
      "INFO:tensorflow:Assets written to: ./GNmodels/55GN__IC_01500_FilledArea_0.9_BandNo_60_ImageHeight_30_ImageWidth_30_FILTER_snv_FeatureExtraction_none/assets\n"
     ]
    },
    {
     "name": "stderr",
     "output_type": "stream",
     "text": [
      "INFO:tensorflow:Assets written to: ./GNmodels/55GN__IC_01500_FilledArea_0.9_BandNo_60_ImageHeight_30_ImageWidth_30_FILTER_snv_FeatureExtraction_none/assets\n"
     ]
    },
    {
     "name": "stdout",
     "output_type": "stream",
     "text": [
      "Model saved on epoch:  55\n",
      "added to csv\n",
      "\n",
      "Epoch:  56\n",
      "480/480 - 34s - loss: 0.0635 - dense_4_loss: 0.0166 - dense_1_loss: 0.1095 - dense_3_loss: 0.0469 - dense_4_accuracy: 0.9962 - dense_1_accuracy: 0.9665 - dense_3_accuracy: 0.9875 - val_loss: 0.2959 - val_dense_4_loss: 0.1428 - val_dense_1_loss: 0.3122 - val_dense_3_loss: 0.1981 - val_dense_4_accuracy: 0.9453 - val_dense_1_accuracy: 0.8839 - val_dense_3_accuracy: 0.9240 - 34s/epoch - 70ms/step\n",
      "INFO:tensorflow:Assets written to: ./GNmodels/56GN__IC_01500_FilledArea_0.9_BandNo_60_ImageHeight_30_ImageWidth_30_FILTER_snv_FeatureExtraction_none/assets\n"
     ]
    },
    {
     "name": "stderr",
     "output_type": "stream",
     "text": [
      "INFO:tensorflow:Assets written to: ./GNmodels/56GN__IC_01500_FilledArea_0.9_BandNo_60_ImageHeight_30_ImageWidth_30_FILTER_snv_FeatureExtraction_none/assets\n"
     ]
    },
    {
     "name": "stdout",
     "output_type": "stream",
     "text": [
      "Model saved on epoch:  56\n",
      "added to csv\n",
      "\n",
      "Epoch:  57\n",
      "480/480 - 33s - loss: 0.0617 - dense_4_loss: 0.0164 - dense_1_loss: 0.1049 - dense_3_loss: 0.0463 - dense_4_accuracy: 0.9954 - dense_1_accuracy: 0.9665 - dense_3_accuracy: 0.9849 - val_loss: 0.2955 - val_dense_4_loss: 0.1424 - val_dense_1_loss: 0.3123 - val_dense_3_loss: 0.1978 - val_dense_4_accuracy: 0.9443 - val_dense_1_accuracy: 0.8818 - val_dense_3_accuracy: 0.9240 - 33s/epoch - 68ms/step\n",
      "INFO:tensorflow:Assets written to: ./GNmodels/57GN__IC_01500_FilledArea_0.9_BandNo_60_ImageHeight_30_ImageWidth_30_FILTER_snv_FeatureExtraction_none/assets\n"
     ]
    },
    {
     "name": "stderr",
     "output_type": "stream",
     "text": [
      "INFO:tensorflow:Assets written to: ./GNmodels/57GN__IC_01500_FilledArea_0.9_BandNo_60_ImageHeight_30_ImageWidth_30_FILTER_snv_FeatureExtraction_none/assets\n"
     ]
    },
    {
     "name": "stdout",
     "output_type": "stream",
     "text": [
      "Model saved on epoch:  57\n",
      "added to csv\n",
      "\n",
      "Epoch:  58\n",
      "480/480 - 33s - loss: 0.0600 - dense_4_loss: 0.0154 - dense_1_loss: 0.1047 - dense_3_loss: 0.0440 - dense_4_accuracy: 0.9958 - dense_1_accuracy: 0.9668 - dense_3_accuracy: 0.9861 - val_loss: 0.2981 - val_dense_4_loss: 0.1438 - val_dense_1_loss: 0.3132 - val_dense_3_loss: 0.2008 - val_dense_4_accuracy: 0.9443 - val_dense_1_accuracy: 0.8854 - val_dense_3_accuracy: 0.9240 - 33s/epoch - 69ms/step\n",
      "INFO:tensorflow:Assets written to: ./GNmodels/58GN__IC_01500_FilledArea_0.9_BandNo_60_ImageHeight_30_ImageWidth_30_FILTER_snv_FeatureExtraction_none/assets\n"
     ]
    },
    {
     "name": "stderr",
     "output_type": "stream",
     "text": [
      "INFO:tensorflow:Assets written to: ./GNmodels/58GN__IC_01500_FilledArea_0.9_BandNo_60_ImageHeight_30_ImageWidth_30_FILTER_snv_FeatureExtraction_none/assets\n"
     ]
    },
    {
     "name": "stdout",
     "output_type": "stream",
     "text": [
      "Model saved on epoch:  58\n",
      "added to csv\n",
      "\n",
      "Epoch:  59\n",
      "480/480 - 33s - loss: 0.0579 - dense_4_loss: 0.0149 - dense_1_loss: 0.1003 - dense_3_loss: 0.0429 - dense_4_accuracy: 0.9962 - dense_1_accuracy: 0.9681 - dense_3_accuracy: 0.9859 - val_loss: 0.2974 - val_dense_4_loss: 0.1439 - val_dense_1_loss: 0.3121 - val_dense_3_loss: 0.1995 - val_dense_4_accuracy: 0.9443 - val_dense_1_accuracy: 0.8849 - val_dense_3_accuracy: 0.9255 - 33s/epoch - 69ms/step\n",
      "INFO:tensorflow:Assets written to: ./GNmodels/59GN__IC_01500_FilledArea_0.9_BandNo_60_ImageHeight_30_ImageWidth_30_FILTER_snv_FeatureExtraction_none/assets\n"
     ]
    },
    {
     "name": "stderr",
     "output_type": "stream",
     "text": [
      "INFO:tensorflow:Assets written to: ./GNmodels/59GN__IC_01500_FilledArea_0.9_BandNo_60_ImageHeight_30_ImageWidth_30_FILTER_snv_FeatureExtraction_none/assets\n"
     ]
    },
    {
     "name": "stdout",
     "output_type": "stream",
     "text": [
      "Model saved on epoch:  59\n",
      "added to csv\n",
      "\n",
      "Epoch:  60\n",
      "480/480 - 33s - loss: 0.0585 - dense_4_loss: 0.0143 - dense_1_loss: 0.1047 - dense_3_loss: 0.0424 - dense_4_accuracy: 0.9958 - dense_1_accuracy: 0.9660 - dense_3_accuracy: 0.9865 - val_loss: 0.2980 - val_dense_4_loss: 0.1447 - val_dense_1_loss: 0.3113 - val_dense_3_loss: 0.1997 - val_dense_4_accuracy: 0.9453 - val_dense_1_accuracy: 0.8865 - val_dense_3_accuracy: 0.9250 - 33s/epoch - 69ms/step\n",
      "INFO:tensorflow:Assets written to: ./GNmodels/60GN__IC_01500_FilledArea_0.9_BandNo_60_ImageHeight_30_ImageWidth_30_FILTER_snv_FeatureExtraction_none/assets\n"
     ]
    },
    {
     "name": "stderr",
     "output_type": "stream",
     "text": [
      "INFO:tensorflow:Assets written to: ./GNmodels/60GN__IC_01500_FilledArea_0.9_BandNo_60_ImageHeight_30_ImageWidth_30_FILTER_snv_FeatureExtraction_none/assets\n"
     ]
    },
    {
     "name": "stdout",
     "output_type": "stream",
     "text": [
      "Model saved on epoch:  60\n",
      "added to csv\n",
      "\n",
      "Epoch:  61\n",
      "480/480 - 33s - loss: 0.0553 - dense_4_loss: 0.0132 - dense_1_loss: 0.0989 - dense_3_loss: 0.0415 - dense_4_accuracy: 0.9970 - dense_1_accuracy: 0.9682 - dense_3_accuracy: 0.9858 - val_loss: 0.2985 - val_dense_4_loss: 0.1448 - val_dense_1_loss: 0.3122 - val_dense_3_loss: 0.2000 - val_dense_4_accuracy: 0.9458 - val_dense_1_accuracy: 0.8859 - val_dense_3_accuracy: 0.9260 - 33s/epoch - 69ms/step\n",
      "INFO:tensorflow:Assets written to: ./GNmodels/61GN__IC_01500_FilledArea_0.9_BandNo_60_ImageHeight_30_ImageWidth_30_FILTER_snv_FeatureExtraction_none/assets\n"
     ]
    },
    {
     "name": "stderr",
     "output_type": "stream",
     "text": [
      "INFO:tensorflow:Assets written to: ./GNmodels/61GN__IC_01500_FilledArea_0.9_BandNo_60_ImageHeight_30_ImageWidth_30_FILTER_snv_FeatureExtraction_none/assets\n"
     ]
    },
    {
     "name": "stdout",
     "output_type": "stream",
     "text": [
      "Model saved on epoch:  61\n",
      "added to csv\n",
      "\n",
      "Epoch:  62\n",
      "480/480 - 34s - loss: 0.0547 - dense_4_loss: 0.0134 - dense_1_loss: 0.0973 - dense_3_loss: 0.0404 - dense_4_accuracy: 0.9970 - dense_1_accuracy: 0.9701 - dense_3_accuracy: 0.9880 - val_loss: 0.2991 - val_dense_4_loss: 0.1453 - val_dense_1_loss: 0.3124 - val_dense_3_loss: 0.2002 - val_dense_4_accuracy: 0.9458 - val_dense_1_accuracy: 0.8865 - val_dense_3_accuracy: 0.9255 - 34s/epoch - 70ms/step\n",
      "INFO:tensorflow:Assets written to: ./GNmodels/62GN__IC_01500_FilledArea_0.9_BandNo_60_ImageHeight_30_ImageWidth_30_FILTER_snv_FeatureExtraction_none/assets\n"
     ]
    },
    {
     "name": "stderr",
     "output_type": "stream",
     "text": [
      "INFO:tensorflow:Assets written to: ./GNmodels/62GN__IC_01500_FilledArea_0.9_BandNo_60_ImageHeight_30_ImageWidth_30_FILTER_snv_FeatureExtraction_none/assets\n"
     ]
    },
    {
     "name": "stdout",
     "output_type": "stream",
     "text": [
      "Model saved on epoch:  62\n",
      "added to csv\n",
      "\n",
      "Epoch:  63\n",
      "480/480 - 33s - loss: 0.0530 - dense_4_loss: 0.0120 - dense_1_loss: 0.0977 - dense_3_loss: 0.0390 - dense_4_accuracy: 0.9971 - dense_1_accuracy: 0.9703 - dense_3_accuracy: 0.9878 - val_loss: 0.2988 - val_dense_4_loss: 0.1451 - val_dense_1_loss: 0.3126 - val_dense_3_loss: 0.1997 - val_dense_4_accuracy: 0.9448 - val_dense_1_accuracy: 0.8865 - val_dense_3_accuracy: 0.9271 - 33s/epoch - 70ms/step\n",
      "INFO:tensorflow:Assets written to: ./GNmodels/63GN__IC_01500_FilledArea_0.9_BandNo_60_ImageHeight_30_ImageWidth_30_FILTER_snv_FeatureExtraction_none/assets\n"
     ]
    },
    {
     "name": "stderr",
     "output_type": "stream",
     "text": [
      "INFO:tensorflow:Assets written to: ./GNmodels/63GN__IC_01500_FilledArea_0.9_BandNo_60_ImageHeight_30_ImageWidth_30_FILTER_snv_FeatureExtraction_none/assets\n"
     ]
    },
    {
     "name": "stdout",
     "output_type": "stream",
     "text": [
      "Model saved on epoch:  63\n",
      "added to csv\n",
      "\n",
      "Epoch:  64\n",
      "480/480 - 33s - loss: 0.0504 - dense_4_loss: 0.0112 - dense_1_loss: 0.0924 - dense_3_loss: 0.0383 - dense_4_accuracy: 0.9973 - dense_1_accuracy: 0.9710 - dense_3_accuracy: 0.9891 - val_loss: 0.3023 - val_dense_4_loss: 0.1476 - val_dense_1_loss: 0.3136 - val_dense_3_loss: 0.2021 - val_dense_4_accuracy: 0.9464 - val_dense_1_accuracy: 0.8849 - val_dense_3_accuracy: 0.9255 - 33s/epoch - 69ms/step\n",
      "INFO:tensorflow:Assets written to: ./GNmodels/64GN__IC_01500_FilledArea_0.9_BandNo_60_ImageHeight_30_ImageWidth_30_FILTER_snv_FeatureExtraction_none/assets\n"
     ]
    },
    {
     "name": "stderr",
     "output_type": "stream",
     "text": [
      "INFO:tensorflow:Assets written to: ./GNmodels/64GN__IC_01500_FilledArea_0.9_BandNo_60_ImageHeight_30_ImageWidth_30_FILTER_snv_FeatureExtraction_none/assets\n"
     ]
    },
    {
     "name": "stdout",
     "output_type": "stream",
     "text": [
      "Model saved on epoch:  64\n",
      "added to csv\n",
      "\n",
      "Epoch:  65\n",
      "480/480 - 33s - loss: 0.0498 - dense_4_loss: 0.0111 - dense_1_loss: 0.0923 - dense_3_loss: 0.0368 - dense_4_accuracy: 0.9982 - dense_1_accuracy: 0.9717 - dense_3_accuracy: 0.9882 - val_loss: 0.3017 - val_dense_4_loss: 0.1467 - val_dense_1_loss: 0.3140 - val_dense_3_loss: 0.2026 - val_dense_4_accuracy: 0.9453 - val_dense_1_accuracy: 0.8849 - val_dense_3_accuracy: 0.9266 - 33s/epoch - 68ms/step\n",
      "INFO:tensorflow:Assets written to: ./GNmodels/65GN__IC_01500_FilledArea_0.9_BandNo_60_ImageHeight_30_ImageWidth_30_FILTER_snv_FeatureExtraction_none/assets\n"
     ]
    },
    {
     "name": "stderr",
     "output_type": "stream",
     "text": [
      "INFO:tensorflow:Assets written to: ./GNmodels/65GN__IC_01500_FilledArea_0.9_BandNo_60_ImageHeight_30_ImageWidth_30_FILTER_snv_FeatureExtraction_none/assets\n"
     ]
    },
    {
     "name": "stdout",
     "output_type": "stream",
     "text": [
      "Model saved on epoch:  65\n",
      "added to csv\n",
      "\n",
      "Epoch:  66\n",
      "480/480 - 34s - loss: 0.0502 - dense_4_loss: 0.0108 - dense_1_loss: 0.0948 - dense_3_loss: 0.0365 - dense_4_accuracy: 0.9978 - dense_1_accuracy: 0.9710 - dense_3_accuracy: 0.9891 - val_loss: 0.3001 - val_dense_4_loss: 0.1457 - val_dense_1_loss: 0.3130 - val_dense_3_loss: 0.2017 - val_dense_4_accuracy: 0.9469 - val_dense_1_accuracy: 0.8854 - val_dense_3_accuracy: 0.9266 - 34s/epoch - 70ms/step\n",
      "INFO:tensorflow:Assets written to: ./GNmodels/66GN__IC_01500_FilledArea_0.9_BandNo_60_ImageHeight_30_ImageWidth_30_FILTER_snv_FeatureExtraction_none/assets\n"
     ]
    },
    {
     "name": "stderr",
     "output_type": "stream",
     "text": [
      "INFO:tensorflow:Assets written to: ./GNmodels/66GN__IC_01500_FilledArea_0.9_BandNo_60_ImageHeight_30_ImageWidth_30_FILTER_snv_FeatureExtraction_none/assets\n"
     ]
    },
    {
     "name": "stdout",
     "output_type": "stream",
     "text": [
      "Model saved on epoch:  66\n",
      "added to csv\n",
      "\n",
      "Epoch:  67\n",
      "480/480 - 33s - loss: 0.0493 - dense_4_loss: 0.0099 - dense_1_loss: 0.0958 - dense_3_loss: 0.0355 - dense_4_accuracy: 0.9986 - dense_1_accuracy: 0.9678 - dense_3_accuracy: 0.9893 - val_loss: 0.3040 - val_dense_4_loss: 0.1490 - val_dense_1_loss: 0.3133 - val_dense_3_loss: 0.2032 - val_dense_4_accuracy: 0.9458 - val_dense_1_accuracy: 0.8854 - val_dense_3_accuracy: 0.9255 - 33s/epoch - 68ms/step\n",
      "INFO:tensorflow:Assets written to: ./GNmodels/67GN__IC_01500_FilledArea_0.9_BandNo_60_ImageHeight_30_ImageWidth_30_FILTER_snv_FeatureExtraction_none/assets\n"
     ]
    },
    {
     "name": "stderr",
     "output_type": "stream",
     "text": [
      "INFO:tensorflow:Assets written to: ./GNmodels/67GN__IC_01500_FilledArea_0.9_BandNo_60_ImageHeight_30_ImageWidth_30_FILTER_snv_FeatureExtraction_none/assets\n"
     ]
    },
    {
     "name": "stdout",
     "output_type": "stream",
     "text": [
      "Model saved on epoch:  67\n",
      "added to csv\n",
      "\n",
      "Epoch:  68\n",
      "480/480 - 33s - loss: 0.0482 - dense_4_loss: 0.0094 - dense_1_loss: 0.0943 - dense_3_loss: 0.0350 - dense_4_accuracy: 0.9983 - dense_1_accuracy: 0.9710 - dense_3_accuracy: 0.9895 - val_loss: 0.3028 - val_dense_4_loss: 0.1478 - val_dense_1_loss: 0.3146 - val_dense_3_loss: 0.2022 - val_dense_4_accuracy: 0.9474 - val_dense_1_accuracy: 0.8854 - val_dense_3_accuracy: 0.9276 - 33s/epoch - 69ms/step\n",
      "INFO:tensorflow:Assets written to: ./GNmodels/68GN__IC_01500_FilledArea_0.9_BandNo_60_ImageHeight_30_ImageWidth_30_FILTER_snv_FeatureExtraction_none/assets\n"
     ]
    },
    {
     "name": "stderr",
     "output_type": "stream",
     "text": [
      "INFO:tensorflow:Assets written to: ./GNmodels/68GN__IC_01500_FilledArea_0.9_BandNo_60_ImageHeight_30_ImageWidth_30_FILTER_snv_FeatureExtraction_none/assets\n"
     ]
    },
    {
     "name": "stdout",
     "output_type": "stream",
     "text": [
      "Model saved on epoch:  68\n",
      "added to csv\n",
      "\n",
      "Epoch:  69\n",
      "480/480 - 33s - loss: 0.0478 - dense_4_loss: 0.0095 - dense_1_loss: 0.0924 - dense_3_loss: 0.0352 - dense_4_accuracy: 0.9982 - dense_1_accuracy: 0.9695 - dense_3_accuracy: 0.9889 - val_loss: 0.3055 - val_dense_4_loss: 0.1493 - val_dense_1_loss: 0.3141 - val_dense_3_loss: 0.2063 - val_dense_4_accuracy: 0.9464 - val_dense_1_accuracy: 0.8875 - val_dense_3_accuracy: 0.9281 - 33s/epoch - 69ms/step\n",
      "INFO:tensorflow:Assets written to: ./GNmodels/69GN__IC_01500_FilledArea_0.9_BandNo_60_ImageHeight_30_ImageWidth_30_FILTER_snv_FeatureExtraction_none/assets\n"
     ]
    },
    {
     "name": "stderr",
     "output_type": "stream",
     "text": [
      "INFO:tensorflow:Assets written to: ./GNmodels/69GN__IC_01500_FilledArea_0.9_BandNo_60_ImageHeight_30_ImageWidth_30_FILTER_snv_FeatureExtraction_none/assets\n"
     ]
    },
    {
     "name": "stdout",
     "output_type": "stream",
     "text": [
      "Model saved on epoch:  69\n",
      "added to csv\n",
      "\n",
      "Epoch:  70\n",
      "480/480 - 33s - loss: 0.0454 - dense_4_loss: 0.0086 - dense_1_loss: 0.0884 - dense_3_loss: 0.0344 - dense_4_accuracy: 0.9983 - dense_1_accuracy: 0.9716 - dense_3_accuracy: 0.9885 - val_loss: 0.3033 - val_dense_4_loss: 0.1483 - val_dense_1_loss: 0.3134 - val_dense_3_loss: 0.2033 - val_dense_4_accuracy: 0.9458 - val_dense_1_accuracy: 0.8875 - val_dense_3_accuracy: 0.9276 - 33s/epoch - 68ms/step\n",
      "INFO:tensorflow:Assets written to: ./GNmodels/70GN__IC_01500_FilledArea_0.9_BandNo_60_ImageHeight_30_ImageWidth_30_FILTER_snv_FeatureExtraction_none/assets\n"
     ]
    },
    {
     "name": "stderr",
     "output_type": "stream",
     "text": [
      "INFO:tensorflow:Assets written to: ./GNmodels/70GN__IC_01500_FilledArea_0.9_BandNo_60_ImageHeight_30_ImageWidth_30_FILTER_snv_FeatureExtraction_none/assets\n"
     ]
    },
    {
     "name": "stdout",
     "output_type": "stream",
     "text": [
      "Model saved on epoch:  70\n",
      "added to csv\n",
      "\n",
      "Epoch:  71\n",
      "480/480 - 34s - loss: 0.0454 - dense_4_loss: 0.0088 - dense_1_loss: 0.0890 - dense_3_loss: 0.0331 - dense_4_accuracy: 0.9983 - dense_1_accuracy: 0.9699 - dense_3_accuracy: 0.9908 - val_loss: 0.3041 - val_dense_4_loss: 0.1487 - val_dense_1_loss: 0.3138 - val_dense_3_loss: 0.2039 - val_dense_4_accuracy: 0.9474 - val_dense_1_accuracy: 0.8875 - val_dense_3_accuracy: 0.9260 - 34s/epoch - 70ms/step\n",
      "INFO:tensorflow:Assets written to: ./GNmodels/71GN__IC_01500_FilledArea_0.9_BandNo_60_ImageHeight_30_ImageWidth_30_FILTER_snv_FeatureExtraction_none/assets\n"
     ]
    },
    {
     "name": "stderr",
     "output_type": "stream",
     "text": [
      "INFO:tensorflow:Assets written to: ./GNmodels/71GN__IC_01500_FilledArea_0.9_BandNo_60_ImageHeight_30_ImageWidth_30_FILTER_snv_FeatureExtraction_none/assets\n"
     ]
    },
    {
     "name": "stdout",
     "output_type": "stream",
     "text": [
      "Model saved on epoch:  71\n",
      "added to csv\n",
      "\n",
      "Epoch:  72\n",
      "480/480 - 33s - loss: 0.0440 - dense_4_loss: 0.0077 - dense_1_loss: 0.0891 - dense_3_loss: 0.0320 - dense_4_accuracy: 0.9988 - dense_1_accuracy: 0.9691 - dense_3_accuracy: 0.9906 - val_loss: 0.3091 - val_dense_4_loss: 0.1527 - val_dense_1_loss: 0.3160 - val_dense_3_loss: 0.2052 - val_dense_4_accuracy: 0.9464 - val_dense_1_accuracy: 0.8870 - val_dense_3_accuracy: 0.9276 - 33s/epoch - 69ms/step\n",
      "INFO:tensorflow:Assets written to: ./GNmodels/72GN__IC_01500_FilledArea_0.9_BandNo_60_ImageHeight_30_ImageWidth_30_FILTER_snv_FeatureExtraction_none/assets\n"
     ]
    },
    {
     "name": "stderr",
     "output_type": "stream",
     "text": [
      "INFO:tensorflow:Assets written to: ./GNmodels/72GN__IC_01500_FilledArea_0.9_BandNo_60_ImageHeight_30_ImageWidth_30_FILTER_snv_FeatureExtraction_none/assets\n"
     ]
    },
    {
     "name": "stdout",
     "output_type": "stream",
     "text": [
      "Model saved on epoch:  72\n",
      "added to csv\n",
      "\n",
      "Epoch:  73\n",
      "480/480 - 33s - loss: 0.0450 - dense_4_loss: 0.0078 - dense_1_loss: 0.0904 - dense_3_loss: 0.0333 - dense_4_accuracy: 0.9991 - dense_1_accuracy: 0.9688 - dense_3_accuracy: 0.9896 - val_loss: 0.3043 - val_dense_4_loss: 0.1490 - val_dense_1_loss: 0.3127 - val_dense_3_loss: 0.2046 - val_dense_4_accuracy: 0.9464 - val_dense_1_accuracy: 0.8917 - val_dense_3_accuracy: 0.9276 - 33s/epoch - 68ms/step\n",
      "INFO:tensorflow:Assets written to: ./GNmodels/73GN__IC_01500_FilledArea_0.9_BandNo_60_ImageHeight_30_ImageWidth_30_FILTER_snv_FeatureExtraction_none/assets\n"
     ]
    },
    {
     "name": "stderr",
     "output_type": "stream",
     "text": [
      "INFO:tensorflow:Assets written to: ./GNmodels/73GN__IC_01500_FilledArea_0.9_BandNo_60_ImageHeight_30_ImageWidth_30_FILTER_snv_FeatureExtraction_none/assets\n"
     ]
    },
    {
     "name": "stdout",
     "output_type": "stream",
     "text": [
      "Model saved on epoch:  73\n",
      "added to csv\n",
      "\n",
      "Epoch:  74\n",
      "480/480 - 33s - loss: 0.0434 - dense_4_loss: 0.0073 - dense_1_loss: 0.0878 - dense_3_loss: 0.0325 - dense_4_accuracy: 0.9988 - dense_1_accuracy: 0.9695 - dense_3_accuracy: 0.9905 - val_loss: 0.3057 - val_dense_4_loss: 0.1502 - val_dense_1_loss: 0.3137 - val_dense_3_loss: 0.2046 - val_dense_4_accuracy: 0.9484 - val_dense_1_accuracy: 0.8880 - val_dense_3_accuracy: 0.9271 - 33s/epoch - 68ms/step\n",
      "INFO:tensorflow:Assets written to: ./GNmodels/74GN__IC_01500_FilledArea_0.9_BandNo_60_ImageHeight_30_ImageWidth_30_FILTER_snv_FeatureExtraction_none/assets\n"
     ]
    },
    {
     "name": "stderr",
     "output_type": "stream",
     "text": [
      "INFO:tensorflow:Assets written to: ./GNmodels/74GN__IC_01500_FilledArea_0.9_BandNo_60_ImageHeight_30_ImageWidth_30_FILTER_snv_FeatureExtraction_none/assets\n"
     ]
    },
    {
     "name": "stdout",
     "output_type": "stream",
     "text": [
      "Model saved on epoch:  74\n",
      "added to csv\n",
      "\n",
      "Epoch:  75\n",
      "480/480 - 33s - loss: 0.0420 - dense_4_loss: 0.0063 - dense_1_loss: 0.0883 - dense_3_loss: 0.0307 - dense_4_accuracy: 0.9997 - dense_1_accuracy: 0.9729 - dense_3_accuracy: 0.9906 - val_loss: 0.3086 - val_dense_4_loss: 0.1519 - val_dense_1_loss: 0.3153 - val_dense_3_loss: 0.2071 - val_dense_4_accuracy: 0.9479 - val_dense_1_accuracy: 0.8875 - val_dense_3_accuracy: 0.9245 - 33s/epoch - 68ms/step\n",
      "INFO:tensorflow:Assets written to: ./GNmodels/75GN__IC_01500_FilledArea_0.9_BandNo_60_ImageHeight_30_ImageWidth_30_FILTER_snv_FeatureExtraction_none/assets\n"
     ]
    },
    {
     "name": "stderr",
     "output_type": "stream",
     "text": [
      "INFO:tensorflow:Assets written to: ./GNmodels/75GN__IC_01500_FilledArea_0.9_BandNo_60_ImageHeight_30_ImageWidth_30_FILTER_snv_FeatureExtraction_none/assets\n"
     ]
    },
    {
     "name": "stdout",
     "output_type": "stream",
     "text": [
      "Model saved on epoch:  75\n",
      "added to csv\n",
      "\n",
      "Epoch:  76\n",
      "480/480 - 33s - loss: 0.0424 - dense_4_loss: 0.0065 - dense_1_loss: 0.0882 - dense_3_loss: 0.0314 - dense_4_accuracy: 0.9993 - dense_1_accuracy: 0.9711 - dense_3_accuracy: 0.9897 - val_loss: 0.3058 - val_dense_4_loss: 0.1493 - val_dense_1_loss: 0.3153 - val_dense_3_loss: 0.2062 - val_dense_4_accuracy: 0.9474 - val_dense_1_accuracy: 0.8891 - val_dense_3_accuracy: 0.9286 - 33s/epoch - 69ms/step\n",
      "INFO:tensorflow:Assets written to: ./GNmodels/76GN__IC_01500_FilledArea_0.9_BandNo_60_ImageHeight_30_ImageWidth_30_FILTER_snv_FeatureExtraction_none/assets\n"
     ]
    },
    {
     "name": "stderr",
     "output_type": "stream",
     "text": [
      "INFO:tensorflow:Assets written to: ./GNmodels/76GN__IC_01500_FilledArea_0.9_BandNo_60_ImageHeight_30_ImageWidth_30_FILTER_snv_FeatureExtraction_none/assets\n"
     ]
    },
    {
     "name": "stdout",
     "output_type": "stream",
     "text": [
      "Model saved on epoch:  76\n",
      "added to csv\n",
      "\n",
      "Epoch:  77\n",
      "480/480 - 33s - loss: 0.0410 - dense_4_loss: 0.0062 - dense_1_loss: 0.0862 - dense_3_loss: 0.0298 - dense_4_accuracy: 0.9993 - dense_1_accuracy: 0.9724 - dense_3_accuracy: 0.9902 - val_loss: 0.3098 - val_dense_4_loss: 0.1521 - val_dense_1_loss: 0.3176 - val_dense_3_loss: 0.2083 - val_dense_4_accuracy: 0.9464 - val_dense_1_accuracy: 0.8880 - val_dense_3_accuracy: 0.9276 - 33s/epoch - 69ms/step\n",
      "INFO:tensorflow:Assets written to: ./GNmodels/77GN__IC_01500_FilledArea_0.9_BandNo_60_ImageHeight_30_ImageWidth_30_FILTER_snv_FeatureExtraction_none/assets\n"
     ]
    },
    {
     "name": "stderr",
     "output_type": "stream",
     "text": [
      "INFO:tensorflow:Assets written to: ./GNmodels/77GN__IC_01500_FilledArea_0.9_BandNo_60_ImageHeight_30_ImageWidth_30_FILTER_snv_FeatureExtraction_none/assets\n"
     ]
    },
    {
     "name": "stdout",
     "output_type": "stream",
     "text": [
      "Model saved on epoch:  77\n",
      "added to csv\n",
      "\n",
      "Epoch:  78\n",
      "480/480 - 33s - loss: 0.0413 - dense_4_loss: 0.0062 - dense_1_loss: 0.0849 - dense_3_loss: 0.0320 - dense_4_accuracy: 0.9993 - dense_1_accuracy: 0.9707 - dense_3_accuracy: 0.9891 - val_loss: 0.3073 - val_dense_4_loss: 0.1509 - val_dense_1_loss: 0.3147 - val_dense_3_loss: 0.2066 - val_dense_4_accuracy: 0.9484 - val_dense_1_accuracy: 0.8901 - val_dense_3_accuracy: 0.9286 - 33s/epoch - 69ms/step\n",
      "INFO:tensorflow:Assets written to: ./GNmodels/78GN__IC_01500_FilledArea_0.9_BandNo_60_ImageHeight_30_ImageWidth_30_FILTER_snv_FeatureExtraction_none/assets\n"
     ]
    },
    {
     "name": "stderr",
     "output_type": "stream",
     "text": [
      "INFO:tensorflow:Assets written to: ./GNmodels/78GN__IC_01500_FilledArea_0.9_BandNo_60_ImageHeight_30_ImageWidth_30_FILTER_snv_FeatureExtraction_none/assets\n"
     ]
    },
    {
     "name": "stdout",
     "output_type": "stream",
     "text": [
      "Model saved on epoch:  78\n",
      "added to csv\n",
      "\n",
      "Epoch:  79\n",
      "480/480 - 33s - loss: 0.0404 - dense_4_loss: 0.0058 - dense_1_loss: 0.0852 - dense_3_loss: 0.0301 - dense_4_accuracy: 0.9995 - dense_1_accuracy: 0.9693 - dense_3_accuracy: 0.9909 - val_loss: 0.3096 - val_dense_4_loss: 0.1527 - val_dense_1_loss: 0.3155 - val_dense_3_loss: 0.2074 - val_dense_4_accuracy: 0.9474 - val_dense_1_accuracy: 0.8880 - val_dense_3_accuracy: 0.9266 - 33s/epoch - 69ms/step\n",
      "INFO:tensorflow:Assets written to: ./GNmodels/79GN__IC_01500_FilledArea_0.9_BandNo_60_ImageHeight_30_ImageWidth_30_FILTER_snv_FeatureExtraction_none/assets\n"
     ]
    },
    {
     "name": "stderr",
     "output_type": "stream",
     "text": [
      "INFO:tensorflow:Assets written to: ./GNmodels/79GN__IC_01500_FilledArea_0.9_BandNo_60_ImageHeight_30_ImageWidth_30_FILTER_snv_FeatureExtraction_none/assets\n"
     ]
    },
    {
     "name": "stdout",
     "output_type": "stream",
     "text": [
      "Model saved on epoch:  79\n",
      "added to csv\n",
      "\n",
      "Epoch:  80\n",
      "480/480 - 33s - loss: 0.0393 - dense_4_loss: 0.0055 - dense_1_loss: 0.0833 - dense_3_loss: 0.0296 - dense_4_accuracy: 0.9996 - dense_1_accuracy: 0.9710 - dense_3_accuracy: 0.9910 - val_loss: 0.3147 - val_dense_4_loss: 0.1563 - val_dense_1_loss: 0.3175 - val_dense_3_loss: 0.2105 - val_dense_4_accuracy: 0.9479 - val_dense_1_accuracy: 0.8880 - val_dense_3_accuracy: 0.9307 - 33s/epoch - 68ms/step\n",
      "INFO:tensorflow:Assets written to: ./GNmodels/80GN__IC_01500_FilledArea_0.9_BandNo_60_ImageHeight_30_ImageWidth_30_FILTER_snv_FeatureExtraction_none/assets\n"
     ]
    },
    {
     "name": "stderr",
     "output_type": "stream",
     "text": [
      "INFO:tensorflow:Assets written to: ./GNmodels/80GN__IC_01500_FilledArea_0.9_BandNo_60_ImageHeight_30_ImageWidth_30_FILTER_snv_FeatureExtraction_none/assets\n"
     ]
    },
    {
     "name": "stdout",
     "output_type": "stream",
     "text": [
      "Model saved on epoch:  80\n",
      "added to csv\n",
      "\n",
      "Epoch:  81\n",
      "480/480 - 32s - loss: 0.0387 - dense_4_loss: 0.0053 - dense_1_loss: 0.0829 - dense_3_loss: 0.0284 - dense_4_accuracy: 0.9997 - dense_1_accuracy: 0.9704 - dense_3_accuracy: 0.9906 - val_loss: 0.3121 - val_dense_4_loss: 0.1545 - val_dense_1_loss: 0.3175 - val_dense_3_loss: 0.2080 - val_dense_4_accuracy: 0.9490 - val_dense_1_accuracy: 0.8870 - val_dense_3_accuracy: 0.9312 - 32s/epoch - 68ms/step\n",
      "INFO:tensorflow:Assets written to: ./GNmodels/81GN__IC_01500_FilledArea_0.9_BandNo_60_ImageHeight_30_ImageWidth_30_FILTER_snv_FeatureExtraction_none/assets\n"
     ]
    },
    {
     "name": "stderr",
     "output_type": "stream",
     "text": [
      "INFO:tensorflow:Assets written to: ./GNmodels/81GN__IC_01500_FilledArea_0.9_BandNo_60_ImageHeight_30_ImageWidth_30_FILTER_snv_FeatureExtraction_none/assets\n"
     ]
    },
    {
     "name": "stdout",
     "output_type": "stream",
     "text": [
      "Model saved on epoch:  81\n",
      "added to csv\n",
      "\n",
      "Epoch:  82\n",
      "480/480 - 33s - loss: 0.0374 - dense_4_loss: 0.0052 - dense_1_loss: 0.0782 - dense_3_loss: 0.0290 - dense_4_accuracy: 0.9991 - dense_1_accuracy: 0.9743 - dense_3_accuracy: 0.9911 - val_loss: 0.3158 - val_dense_4_loss: 0.1572 - val_dense_1_loss: 0.3177 - val_dense_3_loss: 0.2108 - val_dense_4_accuracy: 0.9474 - val_dense_1_accuracy: 0.8870 - val_dense_3_accuracy: 0.9286 - 33s/epoch - 69ms/step\n",
      "INFO:tensorflow:Assets written to: ./GNmodels/82GN__IC_01500_FilledArea_0.9_BandNo_60_ImageHeight_30_ImageWidth_30_FILTER_snv_FeatureExtraction_none/assets\n"
     ]
    },
    {
     "name": "stderr",
     "output_type": "stream",
     "text": [
      "INFO:tensorflow:Assets written to: ./GNmodels/82GN__IC_01500_FilledArea_0.9_BandNo_60_ImageHeight_30_ImageWidth_30_FILTER_snv_FeatureExtraction_none/assets\n"
     ]
    },
    {
     "name": "stdout",
     "output_type": "stream",
     "text": [
      "Model saved on epoch:  82\n",
      "added to csv\n",
      "\n",
      "Epoch:  83\n",
      "480/480 - 33s - loss: 0.0373 - dense_4_loss: 0.0045 - dense_1_loss: 0.0825 - dense_3_loss: 0.0267 - dense_4_accuracy: 0.9995 - dense_1_accuracy: 0.9711 - dense_3_accuracy: 0.9921 - val_loss: 0.3130 - val_dense_4_loss: 0.1538 - val_dense_1_loss: 0.3200 - val_dense_3_loss: 0.2107 - val_dense_4_accuracy: 0.9479 - val_dense_1_accuracy: 0.8865 - val_dense_3_accuracy: 0.9266 - 33s/epoch - 68ms/step\n",
      "INFO:tensorflow:Assets written to: ./GNmodels/83GN__IC_01500_FilledArea_0.9_BandNo_60_ImageHeight_30_ImageWidth_30_FILTER_snv_FeatureExtraction_none/assets\n"
     ]
    },
    {
     "name": "stderr",
     "output_type": "stream",
     "text": [
      "INFO:tensorflow:Assets written to: ./GNmodels/83GN__IC_01500_FilledArea_0.9_BandNo_60_ImageHeight_30_ImageWidth_30_FILTER_snv_FeatureExtraction_none/assets\n"
     ]
    },
    {
     "name": "stdout",
     "output_type": "stream",
     "text": [
      "Model saved on epoch:  83\n",
      "added to csv\n",
      "\n",
      "Epoch:  84\n",
      "480/480 - 33s - loss: 0.0366 - dense_4_loss: 0.0046 - dense_1_loss: 0.0794 - dense_3_loss: 0.0271 - dense_4_accuracy: 1.0000 - dense_1_accuracy: 0.9719 - dense_3_accuracy: 0.9924 - val_loss: 0.3119 - val_dense_4_loss: 0.1531 - val_dense_1_loss: 0.3195 - val_dense_3_loss: 0.2099 - val_dense_4_accuracy: 0.9484 - val_dense_1_accuracy: 0.8865 - val_dense_3_accuracy: 0.9271 - 33s/epoch - 68ms/step\n",
      "INFO:tensorflow:Assets written to: ./GNmodels/84GN__IC_01500_FilledArea_0.9_BandNo_60_ImageHeight_30_ImageWidth_30_FILTER_snv_FeatureExtraction_none/assets\n"
     ]
    },
    {
     "name": "stderr",
     "output_type": "stream",
     "text": [
      "INFO:tensorflow:Assets written to: ./GNmodels/84GN__IC_01500_FilledArea_0.9_BandNo_60_ImageHeight_30_ImageWidth_30_FILTER_snv_FeatureExtraction_none/assets\n"
     ]
    },
    {
     "name": "stdout",
     "output_type": "stream",
     "text": [
      "Model saved on epoch:  84\n",
      "added to csv\n",
      "\n",
      "Epoch:  85\n",
      "480/480 - 33s - loss: 0.0375 - dense_4_loss: 0.0052 - dense_1_loss: 0.0804 - dense_3_loss: 0.0274 - dense_4_accuracy: 0.9990 - dense_1_accuracy: 0.9725 - dense_3_accuracy: 0.9917 - val_loss: 0.3110 - val_dense_4_loss: 0.1525 - val_dense_1_loss: 0.3192 - val_dense_3_loss: 0.2093 - val_dense_4_accuracy: 0.9484 - val_dense_1_accuracy: 0.8870 - val_dense_3_accuracy: 0.9271 - 33s/epoch - 68ms/step\n",
      "INFO:tensorflow:Assets written to: ./GNmodels/85GN__IC_01500_FilledArea_0.9_BandNo_60_ImageHeight_30_ImageWidth_30_FILTER_snv_FeatureExtraction_none/assets\n"
     ]
    },
    {
     "name": "stderr",
     "output_type": "stream",
     "text": [
      "INFO:tensorflow:Assets written to: ./GNmodels/85GN__IC_01500_FilledArea_0.9_BandNo_60_ImageHeight_30_ImageWidth_30_FILTER_snv_FeatureExtraction_none/assets\n"
     ]
    },
    {
     "name": "stdout",
     "output_type": "stream",
     "text": [
      "Model saved on epoch:  85\n",
      "added to csv\n",
      "\n",
      "Epoch:  86\n",
      "480/480 - 33s - loss: 0.0365 - dense_4_loss: 0.0044 - dense_1_loss: 0.0802 - dense_3_loss: 0.0267 - dense_4_accuracy: 0.9999 - dense_1_accuracy: 0.9738 - dense_3_accuracy: 0.9911 - val_loss: 0.3105 - val_dense_4_loss: 0.1522 - val_dense_1_loss: 0.3191 - val_dense_3_loss: 0.2089 - val_dense_4_accuracy: 0.9484 - val_dense_1_accuracy: 0.8875 - val_dense_3_accuracy: 0.9271 - 33s/epoch - 68ms/step\n",
      "INFO:tensorflow:Assets written to: ./GNmodels/86GN__IC_01500_FilledArea_0.9_BandNo_60_ImageHeight_30_ImageWidth_30_FILTER_snv_FeatureExtraction_none/assets\n"
     ]
    },
    {
     "name": "stderr",
     "output_type": "stream",
     "text": [
      "INFO:tensorflow:Assets written to: ./GNmodels/86GN__IC_01500_FilledArea_0.9_BandNo_60_ImageHeight_30_ImageWidth_30_FILTER_snv_FeatureExtraction_none/assets\n"
     ]
    },
    {
     "name": "stdout",
     "output_type": "stream",
     "text": [
      "Model saved on epoch:  86\n",
      "added to csv\n",
      "\n",
      "Epoch:  87\n",
      "480/480 - 33s - loss: 0.0368 - dense_4_loss: 0.0045 - dense_1_loss: 0.0813 - dense_3_loss: 0.0264 - dense_4_accuracy: 0.9995 - dense_1_accuracy: 0.9719 - dense_3_accuracy: 0.9914 - val_loss: 0.3100 - val_dense_4_loss: 0.1518 - val_dense_1_loss: 0.3188 - val_dense_3_loss: 0.2085 - val_dense_4_accuracy: 0.9484 - val_dense_1_accuracy: 0.8885 - val_dense_3_accuracy: 0.9271 - 33s/epoch - 69ms/step\n",
      "INFO:tensorflow:Assets written to: ./GNmodels/87GN__IC_01500_FilledArea_0.9_BandNo_60_ImageHeight_30_ImageWidth_30_FILTER_snv_FeatureExtraction_none/assets\n"
     ]
    },
    {
     "name": "stderr",
     "output_type": "stream",
     "text": [
      "INFO:tensorflow:Assets written to: ./GNmodels/87GN__IC_01500_FilledArea_0.9_BandNo_60_ImageHeight_30_ImageWidth_30_FILTER_snv_FeatureExtraction_none/assets\n"
     ]
    },
    {
     "name": "stdout",
     "output_type": "stream",
     "text": [
      "Model saved on epoch:  87\n",
      "added to csv\n",
      "\n",
      "Epoch:  88\n",
      "480/480 - 33s - loss: 0.0350 - dense_4_loss: 0.0042 - dense_1_loss: 0.0758 - dense_3_loss: 0.0269 - dense_4_accuracy: 0.9999 - dense_1_accuracy: 0.9763 - dense_3_accuracy: 0.9914 - val_loss: 0.3097 - val_dense_4_loss: 0.1517 - val_dense_1_loss: 0.3186 - val_dense_3_loss: 0.2082 - val_dense_4_accuracy: 0.9490 - val_dense_1_accuracy: 0.8891 - val_dense_3_accuracy: 0.9266 - 33s/epoch - 70ms/step\n",
      "INFO:tensorflow:Assets written to: ./GNmodels/88GN__IC_01500_FilledArea_0.9_BandNo_60_ImageHeight_30_ImageWidth_30_FILTER_snv_FeatureExtraction_none/assets\n"
     ]
    },
    {
     "name": "stderr",
     "output_type": "stream",
     "text": [
      "INFO:tensorflow:Assets written to: ./GNmodels/88GN__IC_01500_FilledArea_0.9_BandNo_60_ImageHeight_30_ImageWidth_30_FILTER_snv_FeatureExtraction_none/assets\n"
     ]
    },
    {
     "name": "stdout",
     "output_type": "stream",
     "text": [
      "Model saved on epoch:  88\n",
      "added to csv\n",
      "\n",
      "Epoch:  89\n",
      "480/480 - 33s - loss: 0.0361 - dense_4_loss: 0.0043 - dense_1_loss: 0.0803 - dense_3_loss: 0.0258 - dense_4_accuracy: 0.9997 - dense_1_accuracy: 0.9737 - dense_3_accuracy: 0.9921 - val_loss: 0.3094 - val_dense_4_loss: 0.1515 - val_dense_1_loss: 0.3185 - val_dense_3_loss: 0.2080 - val_dense_4_accuracy: 0.9495 - val_dense_1_accuracy: 0.8891 - val_dense_3_accuracy: 0.9271 - 33s/epoch - 68ms/step\n",
      "INFO:tensorflow:Assets written to: ./GNmodels/89GN__IC_01500_FilledArea_0.9_BandNo_60_ImageHeight_30_ImageWidth_30_FILTER_snv_FeatureExtraction_none/assets\n"
     ]
    },
    {
     "name": "stderr",
     "output_type": "stream",
     "text": [
      "INFO:tensorflow:Assets written to: ./GNmodels/89GN__IC_01500_FilledArea_0.9_BandNo_60_ImageHeight_30_ImageWidth_30_FILTER_snv_FeatureExtraction_none/assets\n"
     ]
    },
    {
     "name": "stdout",
     "output_type": "stream",
     "text": [
      "Model saved on epoch:  89\n",
      "added to csv\n",
      "\n",
      "Epoch:  90\n",
      "480/480 - 32s - loss: 0.0369 - dense_4_loss: 0.0047 - dense_1_loss: 0.0803 - dense_3_loss: 0.0271 - dense_4_accuracy: 0.9993 - dense_1_accuracy: 0.9743 - dense_3_accuracy: 0.9921 - val_loss: 0.3091 - val_dense_4_loss: 0.1513 - val_dense_1_loss: 0.3183 - val_dense_3_loss: 0.2077 - val_dense_4_accuracy: 0.9490 - val_dense_1_accuracy: 0.8891 - val_dense_3_accuracy: 0.9266 - 32s/epoch - 68ms/step\n",
      "INFO:tensorflow:Assets written to: ./GNmodels/90GN__IC_01500_FilledArea_0.9_BandNo_60_ImageHeight_30_ImageWidth_30_FILTER_snv_FeatureExtraction_none/assets\n"
     ]
    },
    {
     "name": "stderr",
     "output_type": "stream",
     "text": [
      "INFO:tensorflow:Assets written to: ./GNmodels/90GN__IC_01500_FilledArea_0.9_BandNo_60_ImageHeight_30_ImageWidth_30_FILTER_snv_FeatureExtraction_none/assets\n"
     ]
    },
    {
     "name": "stdout",
     "output_type": "stream",
     "text": [
      "Model saved on epoch:  90\n",
      "added to csv\n",
      "\n",
      "Epoch:  91\n",
      "480/480 - 32s - loss: 0.0364 - dense_4_loss: 0.0044 - dense_1_loss: 0.0796 - dense_3_loss: 0.0272 - dense_4_accuracy: 0.9996 - dense_1_accuracy: 0.9717 - dense_3_accuracy: 0.9911 - val_loss: 0.3089 - val_dense_4_loss: 0.1512 - val_dense_1_loss: 0.3181 - val_dense_3_loss: 0.2075 - val_dense_4_accuracy: 0.9490 - val_dense_1_accuracy: 0.8891 - val_dense_3_accuracy: 0.9271 - 32s/epoch - 68ms/step\n",
      "INFO:tensorflow:Assets written to: ./GNmodels/91GN__IC_01500_FilledArea_0.9_BandNo_60_ImageHeight_30_ImageWidth_30_FILTER_snv_FeatureExtraction_none/assets\n"
     ]
    },
    {
     "name": "stderr",
     "output_type": "stream",
     "text": [
      "INFO:tensorflow:Assets written to: ./GNmodels/91GN__IC_01500_FilledArea_0.9_BandNo_60_ImageHeight_30_ImageWidth_30_FILTER_snv_FeatureExtraction_none/assets\n"
     ]
    },
    {
     "name": "stdout",
     "output_type": "stream",
     "text": [
      "Model saved on epoch:  91\n",
      "added to csv\n",
      "\n",
      "Epoch:  92\n",
      "480/480 - 33s - loss: 0.0366 - dense_4_loss: 0.0046 - dense_1_loss: 0.0804 - dense_3_loss: 0.0265 - dense_4_accuracy: 0.9995 - dense_1_accuracy: 0.9730 - dense_3_accuracy: 0.9910 - val_loss: 0.3087 - val_dense_4_loss: 0.1511 - val_dense_1_loss: 0.3180 - val_dense_3_loss: 0.2073 - val_dense_4_accuracy: 0.9490 - val_dense_1_accuracy: 0.8896 - val_dense_3_accuracy: 0.9281 - 33s/epoch - 68ms/step\n",
      "INFO:tensorflow:Assets written to: ./GNmodels/92GN__IC_01500_FilledArea_0.9_BandNo_60_ImageHeight_30_ImageWidth_30_FILTER_snv_FeatureExtraction_none/assets\n"
     ]
    },
    {
     "name": "stderr",
     "output_type": "stream",
     "text": [
      "INFO:tensorflow:Assets written to: ./GNmodels/92GN__IC_01500_FilledArea_0.9_BandNo_60_ImageHeight_30_ImageWidth_30_FILTER_snv_FeatureExtraction_none/assets\n"
     ]
    },
    {
     "name": "stdout",
     "output_type": "stream",
     "text": [
      "Model saved on epoch:  92\n",
      "added to csv\n",
      "\n",
      "Epoch:  93\n",
      "480/480 - 33s - loss: 0.0363 - dense_4_loss: 0.0046 - dense_1_loss: 0.0789 - dense_3_loss: 0.0268 - dense_4_accuracy: 0.9996 - dense_1_accuracy: 0.9757 - dense_3_accuracy: 0.9915 - val_loss: 0.3085 - val_dense_4_loss: 0.1510 - val_dense_1_loss: 0.3179 - val_dense_3_loss: 0.2073 - val_dense_4_accuracy: 0.9490 - val_dense_1_accuracy: 0.8896 - val_dense_3_accuracy: 0.9286 - 33s/epoch - 68ms/step\n",
      "INFO:tensorflow:Assets written to: ./GNmodels/93GN__IC_01500_FilledArea_0.9_BandNo_60_ImageHeight_30_ImageWidth_30_FILTER_snv_FeatureExtraction_none/assets\n"
     ]
    },
    {
     "name": "stderr",
     "output_type": "stream",
     "text": [
      "INFO:tensorflow:Assets written to: ./GNmodels/93GN__IC_01500_FilledArea_0.9_BandNo_60_ImageHeight_30_ImageWidth_30_FILTER_snv_FeatureExtraction_none/assets\n"
     ]
    },
    {
     "name": "stdout",
     "output_type": "stream",
     "text": [
      "Model saved on epoch:  93\n",
      "added to csv\n",
      "\n",
      "Epoch:  94\n",
      "480/480 - 33s - loss: 0.0352 - dense_4_loss: 0.0046 - dense_1_loss: 0.0761 - dense_3_loss: 0.0259 - dense_4_accuracy: 0.9999 - dense_1_accuracy: 0.9760 - dense_3_accuracy: 0.9918 - val_loss: 0.3085 - val_dense_4_loss: 0.1510 - val_dense_1_loss: 0.3179 - val_dense_3_loss: 0.2072 - val_dense_4_accuracy: 0.9490 - val_dense_1_accuracy: 0.8901 - val_dense_3_accuracy: 0.9286 - 33s/epoch - 68ms/step\n",
      "INFO:tensorflow:Assets written to: ./GNmodels/94GN__IC_01500_FilledArea_0.9_BandNo_60_ImageHeight_30_ImageWidth_30_FILTER_snv_FeatureExtraction_none/assets\n"
     ]
    },
    {
     "name": "stderr",
     "output_type": "stream",
     "text": [
      "INFO:tensorflow:Assets written to: ./GNmodels/94GN__IC_01500_FilledArea_0.9_BandNo_60_ImageHeight_30_ImageWidth_30_FILTER_snv_FeatureExtraction_none/assets\n"
     ]
    },
    {
     "name": "stdout",
     "output_type": "stream",
     "text": [
      "Model saved on epoch:  94\n",
      "added to csv\n",
      "\n",
      "Epoch:  95\n",
      "480/480 - 33s - loss: 0.0366 - dense_4_loss: 0.0040 - dense_1_loss: 0.0802 - dense_3_loss: 0.0283 - dense_4_accuracy: 0.9999 - dense_1_accuracy: 0.9738 - dense_3_accuracy: 0.9914 - val_loss: 0.3084 - val_dense_4_loss: 0.1509 - val_dense_1_loss: 0.3178 - val_dense_3_loss: 0.2071 - val_dense_4_accuracy: 0.9490 - val_dense_1_accuracy: 0.8901 - val_dense_3_accuracy: 0.9292 - 33s/epoch - 68ms/step\n",
      "INFO:tensorflow:Assets written to: ./GNmodels/95GN__IC_01500_FilledArea_0.9_BandNo_60_ImageHeight_30_ImageWidth_30_FILTER_snv_FeatureExtraction_none/assets\n"
     ]
    },
    {
     "name": "stderr",
     "output_type": "stream",
     "text": [
      "INFO:tensorflow:Assets written to: ./GNmodels/95GN__IC_01500_FilledArea_0.9_BandNo_60_ImageHeight_30_ImageWidth_30_FILTER_snv_FeatureExtraction_none/assets\n"
     ]
    },
    {
     "name": "stdout",
     "output_type": "stream",
     "text": [
      "Model saved on epoch:  95\n",
      "added to csv\n",
      "\n",
      "Epoch:  96\n",
      "480/480 - 33s - loss: 0.0362 - dense_4_loss: 0.0042 - dense_1_loss: 0.0799 - dense_3_loss: 0.0267 - dense_4_accuracy: 0.9997 - dense_1_accuracy: 0.9755 - dense_3_accuracy: 0.9923 - val_loss: 0.3084 - val_dense_4_loss: 0.1510 - val_dense_1_loss: 0.3178 - val_dense_3_loss: 0.2071 - val_dense_4_accuracy: 0.9495 - val_dense_1_accuracy: 0.8901 - val_dense_3_accuracy: 0.9292 - 33s/epoch - 68ms/step\n",
      "INFO:tensorflow:Assets written to: ./GNmodels/96GN__IC_01500_FilledArea_0.9_BandNo_60_ImageHeight_30_ImageWidth_30_FILTER_snv_FeatureExtraction_none/assets\n"
     ]
    },
    {
     "name": "stderr",
     "output_type": "stream",
     "text": [
      "INFO:tensorflow:Assets written to: ./GNmodels/96GN__IC_01500_FilledArea_0.9_BandNo_60_ImageHeight_30_ImageWidth_30_FILTER_snv_FeatureExtraction_none/assets\n"
     ]
    },
    {
     "name": "stdout",
     "output_type": "stream",
     "text": [
      "Model saved on epoch:  96\n",
      "added to csv\n",
      "\n",
      "Epoch:  97\n",
      "480/480 - 33s - loss: 0.0363 - dense_4_loss: 0.0045 - dense_1_loss: 0.0780 - dense_3_loss: 0.0279 - dense_4_accuracy: 0.9997 - dense_1_accuracy: 0.9759 - dense_3_accuracy: 0.9911 - val_loss: 0.3082 - val_dense_4_loss: 0.1508 - val_dense_1_loss: 0.3177 - val_dense_3_loss: 0.2069 - val_dense_4_accuracy: 0.9495 - val_dense_1_accuracy: 0.8901 - val_dense_3_accuracy: 0.9292 - 33s/epoch - 68ms/step\n",
      "INFO:tensorflow:Assets written to: ./GNmodels/97GN__IC_01500_FilledArea_0.9_BandNo_60_ImageHeight_30_ImageWidth_30_FILTER_snv_FeatureExtraction_none/assets\n"
     ]
    },
    {
     "name": "stderr",
     "output_type": "stream",
     "text": [
      "INFO:tensorflow:Assets written to: ./GNmodels/97GN__IC_01500_FilledArea_0.9_BandNo_60_ImageHeight_30_ImageWidth_30_FILTER_snv_FeatureExtraction_none/assets\n"
     ]
    },
    {
     "name": "stdout",
     "output_type": "stream",
     "text": [
      "Model saved on epoch:  97\n",
      "added to csv\n",
      "\n",
      "Epoch:  98\n",
      "480/480 - 33s - loss: 0.0356 - dense_4_loss: 0.0046 - dense_1_loss: 0.0772 - dense_3_loss: 0.0264 - dense_4_accuracy: 0.9996 - dense_1_accuracy: 0.9755 - dense_3_accuracy: 0.9919 - val_loss: 0.3081 - val_dense_4_loss: 0.1508 - val_dense_1_loss: 0.3176 - val_dense_3_loss: 0.2068 - val_dense_4_accuracy: 0.9495 - val_dense_1_accuracy: 0.8901 - val_dense_3_accuracy: 0.9297 - 33s/epoch - 69ms/step\n",
      "INFO:tensorflow:Assets written to: ./GNmodels/98GN__IC_01500_FilledArea_0.9_BandNo_60_ImageHeight_30_ImageWidth_30_FILTER_snv_FeatureExtraction_none/assets\n"
     ]
    },
    {
     "name": "stderr",
     "output_type": "stream",
     "text": [
      "INFO:tensorflow:Assets written to: ./GNmodels/98GN__IC_01500_FilledArea_0.9_BandNo_60_ImageHeight_30_ImageWidth_30_FILTER_snv_FeatureExtraction_none/assets\n"
     ]
    },
    {
     "name": "stdout",
     "output_type": "stream",
     "text": [
      "Model saved on epoch:  98\n",
      "added to csv\n",
      "\n",
      "Epoch:  99\n",
      "480/480 - 33s - loss: 0.0355 - dense_4_loss: 0.0044 - dense_1_loss: 0.0770 - dense_3_loss: 0.0267 - dense_4_accuracy: 0.9999 - dense_1_accuracy: 0.9736 - dense_3_accuracy: 0.9915 - val_loss: 0.3081 - val_dense_4_loss: 0.1508 - val_dense_1_loss: 0.3176 - val_dense_3_loss: 0.2068 - val_dense_4_accuracy: 0.9495 - val_dense_1_accuracy: 0.8901 - val_dense_3_accuracy: 0.9297 - 33s/epoch - 68ms/step\n",
      "INFO:tensorflow:Assets written to: ./GNmodels/99GN__IC_01500_FilledArea_0.9_BandNo_60_ImageHeight_30_ImageWidth_30_FILTER_snv_FeatureExtraction_none/assets\n"
     ]
    },
    {
     "name": "stderr",
     "output_type": "stream",
     "text": [
      "INFO:tensorflow:Assets written to: ./GNmodels/99GN__IC_01500_FilledArea_0.9_BandNo_60_ImageHeight_30_ImageWidth_30_FILTER_snv_FeatureExtraction_none/assets\n"
     ]
    },
    {
     "name": "stdout",
     "output_type": "stream",
     "text": [
      "Model saved on epoch:  99\n",
      "added to csv\n",
      "\n",
      "Epoch:  100\n",
      "480/480 - 33s - loss: 0.0364 - dense_4_loss: 0.0043 - dense_1_loss: 0.0796 - dense_3_loss: 0.0273 - dense_4_accuracy: 0.9996 - dense_1_accuracy: 0.9736 - dense_3_accuracy: 0.9923 - val_loss: 0.3079 - val_dense_4_loss: 0.1507 - val_dense_1_loss: 0.3175 - val_dense_3_loss: 0.2067 - val_dense_4_accuracy: 0.9495 - val_dense_1_accuracy: 0.8901 - val_dense_3_accuracy: 0.9297 - 33s/epoch - 69ms/step\n",
      "INFO:tensorflow:Assets written to: ./GNmodels/100GN__IC_01500_FilledArea_0.9_BandNo_60_ImageHeight_30_ImageWidth_30_FILTER_snv_FeatureExtraction_none/assets\n"
     ]
    },
    {
     "name": "stderr",
     "output_type": "stream",
     "text": [
      "INFO:tensorflow:Assets written to: ./GNmodels/100GN__IC_01500_FilledArea_0.9_BandNo_60_ImageHeight_30_ImageWidth_30_FILTER_snv_FeatureExtraction_none/assets\n"
     ]
    },
    {
     "name": "stdout",
     "output_type": "stream",
     "text": [
      "Model saved on epoch:  100\n",
      "added to csv\n",
      "\n",
      "Epoch:  101\n",
      "480/480 - 32s - loss: 0.0363 - dense_4_loss: 0.0045 - dense_1_loss: 0.0788 - dense_3_loss: 0.0272 - dense_4_accuracy: 0.9997 - dense_1_accuracy: 0.9743 - dense_3_accuracy: 0.9917 - val_loss: 0.3079 - val_dense_4_loss: 0.1507 - val_dense_1_loss: 0.3175 - val_dense_3_loss: 0.2067 - val_dense_4_accuracy: 0.9495 - val_dense_1_accuracy: 0.8901 - val_dense_3_accuracy: 0.9302 - 32s/epoch - 67ms/step\n",
      "INFO:tensorflow:Assets written to: ./GNmodels/101GN__IC_01500_FilledArea_0.9_BandNo_60_ImageHeight_30_ImageWidth_30_FILTER_snv_FeatureExtraction_none/assets\n"
     ]
    },
    {
     "name": "stderr",
     "output_type": "stream",
     "text": [
      "INFO:tensorflow:Assets written to: ./GNmodels/101GN__IC_01500_FilledArea_0.9_BandNo_60_ImageHeight_30_ImageWidth_30_FILTER_snv_FeatureExtraction_none/assets\n"
     ]
    },
    {
     "name": "stdout",
     "output_type": "stream",
     "text": [
      "Model saved on epoch:  101\n",
      "added to csv\n",
      "\n",
      "Epoch:  102\n",
      "480/480 - 33s - loss: 0.0365 - dense_4_loss: 0.0044 - dense_1_loss: 0.0804 - dense_3_loss: 0.0267 - dense_4_accuracy: 0.9997 - dense_1_accuracy: 0.9721 - dense_3_accuracy: 0.9923 - val_loss: 0.3077 - val_dense_4_loss: 0.1506 - val_dense_1_loss: 0.3173 - val_dense_3_loss: 0.2065 - val_dense_4_accuracy: 0.9495 - val_dense_1_accuracy: 0.8906 - val_dense_3_accuracy: 0.9302 - 33s/epoch - 68ms/step\n",
      "INFO:tensorflow:Assets written to: ./GNmodels/102GN__IC_01500_FilledArea_0.9_BandNo_60_ImageHeight_30_ImageWidth_30_FILTER_snv_FeatureExtraction_none/assets\n"
     ]
    },
    {
     "name": "stderr",
     "output_type": "stream",
     "text": [
      "INFO:tensorflow:Assets written to: ./GNmodels/102GN__IC_01500_FilledArea_0.9_BandNo_60_ImageHeight_30_ImageWidth_30_FILTER_snv_FeatureExtraction_none/assets\n"
     ]
    },
    {
     "name": "stdout",
     "output_type": "stream",
     "text": [
      "Model saved on epoch:  102\n",
      "added to csv\n",
      "\n",
      "Epoch:  103\n",
      "480/480 - 33s - loss: 0.0359 - dense_4_loss: 0.0044 - dense_1_loss: 0.0798 - dense_3_loss: 0.0252 - dense_4_accuracy: 0.9995 - dense_1_accuracy: 0.9734 - dense_3_accuracy: 0.9928 - val_loss: 0.3077 - val_dense_4_loss: 0.1506 - val_dense_1_loss: 0.3173 - val_dense_3_loss: 0.2065 - val_dense_4_accuracy: 0.9495 - val_dense_1_accuracy: 0.8901 - val_dense_3_accuracy: 0.9307 - 33s/epoch - 69ms/step\n",
      "INFO:tensorflow:Assets written to: ./GNmodels/103GN__IC_01500_FilledArea_0.9_BandNo_60_ImageHeight_30_ImageWidth_30_FILTER_snv_FeatureExtraction_none/assets\n"
     ]
    },
    {
     "name": "stderr",
     "output_type": "stream",
     "text": [
      "INFO:tensorflow:Assets written to: ./GNmodels/103GN__IC_01500_FilledArea_0.9_BandNo_60_ImageHeight_30_ImageWidth_30_FILTER_snv_FeatureExtraction_none/assets\n"
     ]
    },
    {
     "name": "stdout",
     "output_type": "stream",
     "text": [
      "Model saved on epoch:  103\n",
      "added to csv\n",
      "\n",
      "Epoch:  104\n",
      "480/480 - 33s - loss: 0.0359 - dense_4_loss: 0.0044 - dense_1_loss: 0.0802 - dense_3_loss: 0.0249 - dense_4_accuracy: 1.0000 - dense_1_accuracy: 0.9728 - dense_3_accuracy: 0.9926 - val_loss: 0.3077 - val_dense_4_loss: 0.1506 - val_dense_1_loss: 0.3173 - val_dense_3_loss: 0.2065 - val_dense_4_accuracy: 0.9495 - val_dense_1_accuracy: 0.8901 - val_dense_3_accuracy: 0.9307 - 33s/epoch - 69ms/step\n",
      "INFO:tensorflow:Assets written to: ./GNmodels/104GN__IC_01500_FilledArea_0.9_BandNo_60_ImageHeight_30_ImageWidth_30_FILTER_snv_FeatureExtraction_none/assets\n"
     ]
    },
    {
     "name": "stderr",
     "output_type": "stream",
     "text": [
      "INFO:tensorflow:Assets written to: ./GNmodels/104GN__IC_01500_FilledArea_0.9_BandNo_60_ImageHeight_30_ImageWidth_30_FILTER_snv_FeatureExtraction_none/assets\n"
     ]
    },
    {
     "name": "stdout",
     "output_type": "stream",
     "text": [
      "Model saved on epoch:  104\n",
      "added to csv\n",
      "\n",
      "Epoch:  105\n",
      "480/480 - 33s - loss: 0.0358 - dense_4_loss: 0.0043 - dense_1_loss: 0.0796 - dense_3_loss: 0.0253 - dense_4_accuracy: 0.9996 - dense_1_accuracy: 0.9725 - dense_3_accuracy: 0.9915 - val_loss: 0.3078 - val_dense_4_loss: 0.1506 - val_dense_1_loss: 0.3173 - val_dense_3_loss: 0.2066 - val_dense_4_accuracy: 0.9495 - val_dense_1_accuracy: 0.8901 - val_dense_3_accuracy: 0.9307 - 33s/epoch - 69ms/step\n",
      "INFO:tensorflow:Assets written to: ./GNmodels/105GN__IC_01500_FilledArea_0.9_BandNo_60_ImageHeight_30_ImageWidth_30_FILTER_snv_FeatureExtraction_none/assets\n"
     ]
    },
    {
     "name": "stderr",
     "output_type": "stream",
     "text": [
      "INFO:tensorflow:Assets written to: ./GNmodels/105GN__IC_01500_FilledArea_0.9_BandNo_60_ImageHeight_30_ImageWidth_30_FILTER_snv_FeatureExtraction_none/assets\n"
     ]
    },
    {
     "name": "stdout",
     "output_type": "stream",
     "text": [
      "Model saved on epoch:  105\n",
      "added to csv\n",
      "\n",
      "Epoch:  106\n",
      "480/480 - 33s - loss: 0.0354 - dense_4_loss: 0.0042 - dense_1_loss: 0.0788 - dense_3_loss: 0.0251 - dense_4_accuracy: 0.9999 - dense_1_accuracy: 0.9732 - dense_3_accuracy: 0.9919 - val_loss: 0.3078 - val_dense_4_loss: 0.1507 - val_dense_1_loss: 0.3173 - val_dense_3_loss: 0.2066 - val_dense_4_accuracy: 0.9495 - val_dense_1_accuracy: 0.8901 - val_dense_3_accuracy: 0.9307 - 33s/epoch - 68ms/step\n",
      "INFO:tensorflow:Assets written to: ./GNmodels/106GN__IC_01500_FilledArea_0.9_BandNo_60_ImageHeight_30_ImageWidth_30_FILTER_snv_FeatureExtraction_none/assets\n"
     ]
    },
    {
     "name": "stderr",
     "output_type": "stream",
     "text": [
      "INFO:tensorflow:Assets written to: ./GNmodels/106GN__IC_01500_FilledArea_0.9_BandNo_60_ImageHeight_30_ImageWidth_30_FILTER_snv_FeatureExtraction_none/assets\n"
     ]
    },
    {
     "name": "stdout",
     "output_type": "stream",
     "text": [
      "Model saved on epoch:  106\n",
      "added to csv\n",
      "\n",
      "Epoch:  107\n",
      "480/480 - 33s - loss: 0.0365 - dense_4_loss: 0.0039 - dense_1_loss: 0.0815 - dense_3_loss: 0.0270 - dense_4_accuracy: 1.0000 - dense_1_accuracy: 0.9724 - dense_3_accuracy: 0.9913 - val_loss: 0.3078 - val_dense_4_loss: 0.1507 - val_dense_1_loss: 0.3173 - val_dense_3_loss: 0.2066 - val_dense_4_accuracy: 0.9495 - val_dense_1_accuracy: 0.8901 - val_dense_3_accuracy: 0.9307 - 33s/epoch - 69ms/step\n",
      "INFO:tensorflow:Assets written to: ./GNmodels/107GN__IC_01500_FilledArea_0.9_BandNo_60_ImageHeight_30_ImageWidth_30_FILTER_snv_FeatureExtraction_none/assets\n"
     ]
    },
    {
     "name": "stderr",
     "output_type": "stream",
     "text": [
      "INFO:tensorflow:Assets written to: ./GNmodels/107GN__IC_01500_FilledArea_0.9_BandNo_60_ImageHeight_30_ImageWidth_30_FILTER_snv_FeatureExtraction_none/assets\n"
     ]
    },
    {
     "name": "stdout",
     "output_type": "stream",
     "text": [
      "Model saved on epoch:  107\n",
      "added to csv\n",
      "\n",
      "Epoch:  108\n",
      "480/480 - 33s - loss: 0.0352 - dense_4_loss: 0.0042 - dense_1_loss: 0.0766 - dense_3_loss: 0.0267 - dense_4_accuracy: 0.9999 - dense_1_accuracy: 0.9750 - dense_3_accuracy: 0.9919 - val_loss: 0.3078 - val_dense_4_loss: 0.1507 - val_dense_1_loss: 0.3173 - val_dense_3_loss: 0.2065 - val_dense_4_accuracy: 0.9495 - val_dense_1_accuracy: 0.8896 - val_dense_3_accuracy: 0.9307 - 33s/epoch - 69ms/step\n",
      "INFO:tensorflow:Assets written to: ./GNmodels/108GN__IC_01500_FilledArea_0.9_BandNo_60_ImageHeight_30_ImageWidth_30_FILTER_snv_FeatureExtraction_none/assets\n"
     ]
    },
    {
     "name": "stderr",
     "output_type": "stream",
     "text": [
      "INFO:tensorflow:Assets written to: ./GNmodels/108GN__IC_01500_FilledArea_0.9_BandNo_60_ImageHeight_30_ImageWidth_30_FILTER_snv_FeatureExtraction_none/assets\n"
     ]
    },
    {
     "name": "stdout",
     "output_type": "stream",
     "text": [
      "Model saved on epoch:  108\n",
      "added to csv\n",
      "\n",
      "Epoch:  109\n",
      "480/480 - 33s - loss: 0.0356 - dense_4_loss: 0.0047 - dense_1_loss: 0.0774 - dense_3_loss: 0.0258 - dense_4_accuracy: 0.9996 - dense_1_accuracy: 0.9755 - dense_3_accuracy: 0.9921 - val_loss: 0.3077 - val_dense_4_loss: 0.1506 - val_dense_1_loss: 0.3172 - val_dense_3_loss: 0.2065 - val_dense_4_accuracy: 0.9495 - val_dense_1_accuracy: 0.8896 - val_dense_3_accuracy: 0.9307 - 33s/epoch - 68ms/step\n",
      "INFO:tensorflow:Assets written to: ./GNmodels/109GN__IC_01500_FilledArea_0.9_BandNo_60_ImageHeight_30_ImageWidth_30_FILTER_snv_FeatureExtraction_none/assets\n"
     ]
    },
    {
     "name": "stderr",
     "output_type": "stream",
     "text": [
      "INFO:tensorflow:Assets written to: ./GNmodels/109GN__IC_01500_FilledArea_0.9_BandNo_60_ImageHeight_30_ImageWidth_30_FILTER_snv_FeatureExtraction_none/assets\n"
     ]
    },
    {
     "name": "stdout",
     "output_type": "stream",
     "text": [
      "Model saved on epoch:  109\n",
      "added to csv\n",
      "\n",
      "Epoch:  110\n",
      "480/480 - 34s - loss: 0.0362 - dense_4_loss: 0.0043 - dense_1_loss: 0.0796 - dense_3_loss: 0.0270 - dense_4_accuracy: 0.9996 - dense_1_accuracy: 0.9711 - dense_3_accuracy: 0.9923 - val_loss: 0.3077 - val_dense_4_loss: 0.1506 - val_dense_1_loss: 0.3172 - val_dense_3_loss: 0.2065 - val_dense_4_accuracy: 0.9495 - val_dense_1_accuracy: 0.8896 - val_dense_3_accuracy: 0.9307 - 34s/epoch - 71ms/step\n",
      "INFO:tensorflow:Assets written to: ./GNmodels/110GN__IC_01500_FilledArea_0.9_BandNo_60_ImageHeight_30_ImageWidth_30_FILTER_snv_FeatureExtraction_none/assets\n"
     ]
    },
    {
     "name": "stderr",
     "output_type": "stream",
     "text": [
      "INFO:tensorflow:Assets written to: ./GNmodels/110GN__IC_01500_FilledArea_0.9_BandNo_60_ImageHeight_30_ImageWidth_30_FILTER_snv_FeatureExtraction_none/assets\n"
     ]
    },
    {
     "name": "stdout",
     "output_type": "stream",
     "text": [
      "Model saved on epoch:  110\n",
      "added to csv\n",
      "\n",
      "Epoch:  111\n",
      "480/480 - 33s - loss: 0.0367 - dense_4_loss: 0.0042 - dense_1_loss: 0.0820 - dense_3_loss: 0.0262 - dense_4_accuracy: 0.9996 - dense_1_accuracy: 0.9725 - dense_3_accuracy: 0.9909 - val_loss: 0.3077 - val_dense_4_loss: 0.1506 - val_dense_1_loss: 0.3172 - val_dense_3_loss: 0.2065 - val_dense_4_accuracy: 0.9495 - val_dense_1_accuracy: 0.8896 - val_dense_3_accuracy: 0.9307 - 33s/epoch - 68ms/step\n",
      "INFO:tensorflow:Assets written to: ./GNmodels/111GN__IC_01500_FilledArea_0.9_BandNo_60_ImageHeight_30_ImageWidth_30_FILTER_snv_FeatureExtraction_none/assets\n"
     ]
    },
    {
     "name": "stderr",
     "output_type": "stream",
     "text": [
      "INFO:tensorflow:Assets written to: ./GNmodels/111GN__IC_01500_FilledArea_0.9_BandNo_60_ImageHeight_30_ImageWidth_30_FILTER_snv_FeatureExtraction_none/assets\n"
     ]
    },
    {
     "name": "stdout",
     "output_type": "stream",
     "text": [
      "Model saved on epoch:  111\n",
      "added to csv\n",
      "\n",
      "Epoch:  112\n",
      "480/480 - 33s - loss: 0.0362 - dense_4_loss: 0.0042 - dense_1_loss: 0.0807 - dense_3_loss: 0.0259 - dense_4_accuracy: 0.9997 - dense_1_accuracy: 0.9727 - dense_3_accuracy: 0.9935 - val_loss: 0.3078 - val_dense_4_loss: 0.1507 - val_dense_1_loss: 0.3172 - val_dense_3_loss: 0.2065 - val_dense_4_accuracy: 0.9495 - val_dense_1_accuracy: 0.8901 - val_dense_3_accuracy: 0.9307 - 33s/epoch - 68ms/step\n",
      "INFO:tensorflow:Assets written to: ./GNmodels/112GN__IC_01500_FilledArea_0.9_BandNo_60_ImageHeight_30_ImageWidth_30_FILTER_snv_FeatureExtraction_none/assets\n"
     ]
    },
    {
     "name": "stderr",
     "output_type": "stream",
     "text": [
      "INFO:tensorflow:Assets written to: ./GNmodels/112GN__IC_01500_FilledArea_0.9_BandNo_60_ImageHeight_30_ImageWidth_30_FILTER_snv_FeatureExtraction_none/assets\n"
     ]
    },
    {
     "name": "stdout",
     "output_type": "stream",
     "text": [
      "Model saved on epoch:  112\n",
      "added to csv\n",
      "\n",
      "Epoch:  113\n",
      "480/480 - 32s - loss: 0.0351 - dense_4_loss: 0.0040 - dense_1_loss: 0.0780 - dense_3_loss: 0.0255 - dense_4_accuracy: 0.9997 - dense_1_accuracy: 0.9746 - dense_3_accuracy: 0.9924 - val_loss: 0.3080 - val_dense_4_loss: 0.1509 - val_dense_1_loss: 0.3172 - val_dense_3_loss: 0.2067 - val_dense_4_accuracy: 0.9495 - val_dense_1_accuracy: 0.8891 - val_dense_3_accuracy: 0.9307 - 32s/epoch - 67ms/step\n",
      "INFO:tensorflow:Assets written to: ./GNmodels/113GN__IC_01500_FilledArea_0.9_BandNo_60_ImageHeight_30_ImageWidth_30_FILTER_snv_FeatureExtraction_none/assets\n"
     ]
    },
    {
     "name": "stderr",
     "output_type": "stream",
     "text": [
      "INFO:tensorflow:Assets written to: ./GNmodels/113GN__IC_01500_FilledArea_0.9_BandNo_60_ImageHeight_30_ImageWidth_30_FILTER_snv_FeatureExtraction_none/assets\n"
     ]
    },
    {
     "name": "stdout",
     "output_type": "stream",
     "text": [
      "Model saved on epoch:  113\n",
      "added to csv\n",
      "\n",
      "Epoch:  114\n",
      "480/480 - 33s - loss: 0.0365 - dense_4_loss: 0.0043 - dense_1_loss: 0.0799 - dense_3_loss: 0.0274 - dense_4_accuracy: 0.9995 - dense_1_accuracy: 0.9730 - dense_3_accuracy: 0.9917 - val_loss: 0.3079 - val_dense_4_loss: 0.1507 - val_dense_1_loss: 0.3172 - val_dense_3_loss: 0.2066 - val_dense_4_accuracy: 0.9495 - val_dense_1_accuracy: 0.8896 - val_dense_3_accuracy: 0.9307 - 33s/epoch - 68ms/step\n",
      "INFO:tensorflow:Assets written to: ./GNmodels/114GN__IC_01500_FilledArea_0.9_BandNo_60_ImageHeight_30_ImageWidth_30_FILTER_snv_FeatureExtraction_none/assets\n"
     ]
    },
    {
     "name": "stderr",
     "output_type": "stream",
     "text": [
      "INFO:tensorflow:Assets written to: ./GNmodels/114GN__IC_01500_FilledArea_0.9_BandNo_60_ImageHeight_30_ImageWidth_30_FILTER_snv_FeatureExtraction_none/assets\n"
     ]
    },
    {
     "name": "stdout",
     "output_type": "stream",
     "text": [
      "Model saved on epoch:  114\n",
      "added to csv\n",
      "\n",
      "Epoch:  115\n",
      "480/480 - 32s - loss: 0.0360 - dense_4_loss: 0.0045 - dense_1_loss: 0.0769 - dense_3_loss: 0.0280 - dense_4_accuracy: 0.9999 - dense_1_accuracy: 0.9755 - dense_3_accuracy: 0.9923 - val_loss: 0.3078 - val_dense_4_loss: 0.1507 - val_dense_1_loss: 0.3171 - val_dense_3_loss: 0.2066 - val_dense_4_accuracy: 0.9500 - val_dense_1_accuracy: 0.8896 - val_dense_3_accuracy: 0.9307 - 32s/epoch - 68ms/step\n",
      "INFO:tensorflow:Assets written to: ./GNmodels/115GN__IC_01500_FilledArea_0.9_BandNo_60_ImageHeight_30_ImageWidth_30_FILTER_snv_FeatureExtraction_none/assets\n"
     ]
    },
    {
     "name": "stderr",
     "output_type": "stream",
     "text": [
      "INFO:tensorflow:Assets written to: ./GNmodels/115GN__IC_01500_FilledArea_0.9_BandNo_60_ImageHeight_30_ImageWidth_30_FILTER_snv_FeatureExtraction_none/assets\n"
     ]
    },
    {
     "name": "stdout",
     "output_type": "stream",
     "text": [
      "Model saved on epoch:  115\n",
      "added to csv\n",
      "\n",
      "Epoch:  116\n",
      "480/480 - 33s - loss: 0.0364 - dense_4_loss: 0.0043 - dense_1_loss: 0.0809 - dense_3_loss: 0.0258 - dense_4_accuracy: 0.9997 - dense_1_accuracy: 0.9716 - dense_3_accuracy: 0.9935 - val_loss: 0.3078 - val_dense_4_loss: 0.1507 - val_dense_1_loss: 0.3170 - val_dense_3_loss: 0.2065 - val_dense_4_accuracy: 0.9495 - val_dense_1_accuracy: 0.8896 - val_dense_3_accuracy: 0.9307 - 33s/epoch - 68ms/step\n",
      "INFO:tensorflow:Assets written to: ./GNmodels/116GN__IC_01500_FilledArea_0.9_BandNo_60_ImageHeight_30_ImageWidth_30_FILTER_snv_FeatureExtraction_none/assets\n"
     ]
    },
    {
     "name": "stderr",
     "output_type": "stream",
     "text": [
      "INFO:tensorflow:Assets written to: ./GNmodels/116GN__IC_01500_FilledArea_0.9_BandNo_60_ImageHeight_30_ImageWidth_30_FILTER_snv_FeatureExtraction_none/assets\n"
     ]
    },
    {
     "name": "stdout",
     "output_type": "stream",
     "text": [
      "Model saved on epoch:  116\n",
      "added to csv\n",
      "\n",
      "Epoch:  117\n",
      "480/480 - 33s - loss: 0.0355 - dense_4_loss: 0.0042 - dense_1_loss: 0.0773 - dense_3_loss: 0.0270 - dense_4_accuracy: 0.9997 - dense_1_accuracy: 0.9741 - dense_3_accuracy: 0.9924 - val_loss: 0.3077 - val_dense_4_loss: 0.1507 - val_dense_1_loss: 0.3170 - val_dense_3_loss: 0.2064 - val_dense_4_accuracy: 0.9495 - val_dense_1_accuracy: 0.8896 - val_dense_3_accuracy: 0.9302 - 33s/epoch - 68ms/step\n",
      "INFO:tensorflow:Assets written to: ./GNmodels/117GN__IC_01500_FilledArea_0.9_BandNo_60_ImageHeight_30_ImageWidth_30_FILTER_snv_FeatureExtraction_none/assets\n"
     ]
    },
    {
     "name": "stderr",
     "output_type": "stream",
     "text": [
      "INFO:tensorflow:Assets written to: ./GNmodels/117GN__IC_01500_FilledArea_0.9_BandNo_60_ImageHeight_30_ImageWidth_30_FILTER_snv_FeatureExtraction_none/assets\n"
     ]
    },
    {
     "name": "stdout",
     "output_type": "stream",
     "text": [
      "Model saved on epoch:  117\n",
      "added to csv\n",
      "\n",
      "Epoch:  118\n",
      "480/480 - 33s - loss: 0.0366 - dense_4_loss: 0.0047 - dense_1_loss: 0.0796 - dense_3_loss: 0.0266 - dense_4_accuracy: 0.9993 - dense_1_accuracy: 0.9749 - dense_3_accuracy: 0.9921 - val_loss: 0.3078 - val_dense_4_loss: 0.1508 - val_dense_1_loss: 0.3170 - val_dense_3_loss: 0.2064 - val_dense_4_accuracy: 0.9495 - val_dense_1_accuracy: 0.8896 - val_dense_3_accuracy: 0.9302 - 33s/epoch - 68ms/step\n",
      "INFO:tensorflow:Assets written to: ./GNmodels/118GN__IC_01500_FilledArea_0.9_BandNo_60_ImageHeight_30_ImageWidth_30_FILTER_snv_FeatureExtraction_none/assets\n"
     ]
    },
    {
     "name": "stderr",
     "output_type": "stream",
     "text": [
      "INFO:tensorflow:Assets written to: ./GNmodels/118GN__IC_01500_FilledArea_0.9_BandNo_60_ImageHeight_30_ImageWidth_30_FILTER_snv_FeatureExtraction_none/assets\n"
     ]
    },
    {
     "name": "stdout",
     "output_type": "stream",
     "text": [
      "Model saved on epoch:  118\n",
      "added to csv\n",
      "\n",
      "Epoch:  119\n",
      "480/480 - 32s - loss: 0.0363 - dense_4_loss: 0.0047 - dense_1_loss: 0.0799 - dense_3_loss: 0.0255 - dense_4_accuracy: 0.9995 - dense_1_accuracy: 0.9742 - dense_3_accuracy: 0.9926 - val_loss: 0.3078 - val_dense_4_loss: 0.1508 - val_dense_1_loss: 0.3171 - val_dense_3_loss: 0.2064 - val_dense_4_accuracy: 0.9495 - val_dense_1_accuracy: 0.8896 - val_dense_3_accuracy: 0.9312 - 32s/epoch - 67ms/step\n",
      "INFO:tensorflow:Assets written to: ./GNmodels/119GN__IC_01500_FilledArea_0.9_BandNo_60_ImageHeight_30_ImageWidth_30_FILTER_snv_FeatureExtraction_none/assets\n"
     ]
    },
    {
     "name": "stderr",
     "output_type": "stream",
     "text": [
      "INFO:tensorflow:Assets written to: ./GNmodels/119GN__IC_01500_FilledArea_0.9_BandNo_60_ImageHeight_30_ImageWidth_30_FILTER_snv_FeatureExtraction_none/assets\n"
     ]
    },
    {
     "name": "stdout",
     "output_type": "stream",
     "text": [
      "Model saved on epoch:  119\n",
      "added to csv\n",
      "\n",
      "Epoch:  120\n",
      "480/480 - 33s - loss: 0.0360 - dense_4_loss: 0.0047 - dense_1_loss: 0.0788 - dense_3_loss: 0.0255 - dense_4_accuracy: 0.9999 - dense_1_accuracy: 0.9754 - dense_3_accuracy: 0.9926 - val_loss: 0.3079 - val_dense_4_loss: 0.1508 - val_dense_1_loss: 0.3171 - val_dense_3_loss: 0.2065 - val_dense_4_accuracy: 0.9495 - val_dense_1_accuracy: 0.8896 - val_dense_3_accuracy: 0.9307 - 33s/epoch - 68ms/step\n",
      "INFO:tensorflow:Assets written to: ./GNmodels/120GN__IC_01500_FilledArea_0.9_BandNo_60_ImageHeight_30_ImageWidth_30_FILTER_snv_FeatureExtraction_none/assets\n"
     ]
    },
    {
     "name": "stderr",
     "output_type": "stream",
     "text": [
      "INFO:tensorflow:Assets written to: ./GNmodels/120GN__IC_01500_FilledArea_0.9_BandNo_60_ImageHeight_30_ImageWidth_30_FILTER_snv_FeatureExtraction_none/assets\n"
     ]
    },
    {
     "name": "stdout",
     "output_type": "stream",
     "text": [
      "Model saved on epoch:  120\n",
      "added to csv\n",
      "\n",
      "Epoch:  121\n",
      "480/480 - 34s - loss: 0.0354 - dense_4_loss: 0.0040 - dense_1_loss: 0.0800 - dense_3_loss: 0.0246 - dense_4_accuracy: 0.9997 - dense_1_accuracy: 0.9714 - dense_3_accuracy: 0.9926 - val_loss: 0.3079 - val_dense_4_loss: 0.1508 - val_dense_1_loss: 0.3171 - val_dense_3_loss: 0.2065 - val_dense_4_accuracy: 0.9495 - val_dense_1_accuracy: 0.8896 - val_dense_3_accuracy: 0.9312 - 34s/epoch - 70ms/step\n",
      "INFO:tensorflow:Assets written to: ./GNmodels/121GN__IC_01500_FilledArea_0.9_BandNo_60_ImageHeight_30_ImageWidth_30_FILTER_snv_FeatureExtraction_none/assets\n"
     ]
    },
    {
     "name": "stderr",
     "output_type": "stream",
     "text": [
      "INFO:tensorflow:Assets written to: ./GNmodels/121GN__IC_01500_FilledArea_0.9_BandNo_60_ImageHeight_30_ImageWidth_30_FILTER_snv_FeatureExtraction_none/assets\n"
     ]
    },
    {
     "name": "stdout",
     "output_type": "stream",
     "text": [
      "Model saved on epoch:  121\n",
      "added to csv\n",
      "\n",
      "Epoch:  122\n",
      "480/480 - 33s - loss: 0.0360 - dense_4_loss: 0.0046 - dense_1_loss: 0.0795 - dense_3_loss: 0.0253 - dense_4_accuracy: 0.9999 - dense_1_accuracy: 0.9747 - dense_3_accuracy: 0.9927 - val_loss: 0.3080 - val_dense_4_loss: 0.1509 - val_dense_1_loss: 0.3171 - val_dense_3_loss: 0.2066 - val_dense_4_accuracy: 0.9495 - val_dense_1_accuracy: 0.8901 - val_dense_3_accuracy: 0.9312 - 33s/epoch - 68ms/step\n",
      "INFO:tensorflow:Assets written to: ./GNmodels/122GN__IC_01500_FilledArea_0.9_BandNo_60_ImageHeight_30_ImageWidth_30_FILTER_snv_FeatureExtraction_none/assets\n"
     ]
    },
    {
     "name": "stderr",
     "output_type": "stream",
     "text": [
      "INFO:tensorflow:Assets written to: ./GNmodels/122GN__IC_01500_FilledArea_0.9_BandNo_60_ImageHeight_30_ImageWidth_30_FILTER_snv_FeatureExtraction_none/assets\n"
     ]
    },
    {
     "name": "stdout",
     "output_type": "stream",
     "text": [
      "Model saved on epoch:  122\n",
      "added to csv\n",
      "\n",
      "Epoch:  123\n",
      "480/480 - 32s - loss: 0.0351 - dense_4_loss: 0.0042 - dense_1_loss: 0.0763 - dense_3_loss: 0.0267 - dense_4_accuracy: 0.9997 - dense_1_accuracy: 0.9763 - dense_3_accuracy: 0.9921 - val_loss: 0.3079 - val_dense_4_loss: 0.1509 - val_dense_1_loss: 0.3171 - val_dense_3_loss: 0.2065 - val_dense_4_accuracy: 0.9495 - val_dense_1_accuracy: 0.8901 - val_dense_3_accuracy: 0.9312 - 32s/epoch - 67ms/step\n",
      "INFO:tensorflow:Assets written to: ./GNmodels/123GN__IC_01500_FilledArea_0.9_BandNo_60_ImageHeight_30_ImageWidth_30_FILTER_snv_FeatureExtraction_none/assets\n"
     ]
    },
    {
     "name": "stderr",
     "output_type": "stream",
     "text": [
      "INFO:tensorflow:Assets written to: ./GNmodels/123GN__IC_01500_FilledArea_0.9_BandNo_60_ImageHeight_30_ImageWidth_30_FILTER_snv_FeatureExtraction_none/assets\n"
     ]
    },
    {
     "name": "stdout",
     "output_type": "stream",
     "text": [
      "Model saved on epoch:  123\n",
      "added to csv\n",
      "\n",
      "Epoch:  124\n",
      "480/480 - 32s - loss: 0.0370 - dense_4_loss: 0.0045 - dense_1_loss: 0.0827 - dense_3_loss: 0.0256 - dense_4_accuracy: 0.9996 - dense_1_accuracy: 0.9732 - dense_3_accuracy: 0.9921 - val_loss: 0.3080 - val_dense_4_loss: 0.1509 - val_dense_1_loss: 0.3171 - val_dense_3_loss: 0.2065 - val_dense_4_accuracy: 0.9500 - val_dense_1_accuracy: 0.8901 - val_dense_3_accuracy: 0.9312 - 32s/epoch - 67ms/step\n",
      "INFO:tensorflow:Assets written to: ./GNmodels/124GN__IC_01500_FilledArea_0.9_BandNo_60_ImageHeight_30_ImageWidth_30_FILTER_snv_FeatureExtraction_none/assets\n"
     ]
    },
    {
     "name": "stderr",
     "output_type": "stream",
     "text": [
      "INFO:tensorflow:Assets written to: ./GNmodels/124GN__IC_01500_FilledArea_0.9_BandNo_60_ImageHeight_30_ImageWidth_30_FILTER_snv_FeatureExtraction_none/assets\n"
     ]
    },
    {
     "name": "stdout",
     "output_type": "stream",
     "text": [
      "Model saved on epoch:  124\n",
      "added to csv\n",
      "\n",
      "Epoch:  125\n",
      "480/480 - 33s - loss: 0.0354 - dense_4_loss: 0.0042 - dense_1_loss: 0.0788 - dense_3_loss: 0.0254 - dense_4_accuracy: 0.9997 - dense_1_accuracy: 0.9734 - dense_3_accuracy: 0.9919 - val_loss: 0.3079 - val_dense_4_loss: 0.1508 - val_dense_1_loss: 0.3171 - val_dense_3_loss: 0.2064 - val_dense_4_accuracy: 0.9495 - val_dense_1_accuracy: 0.8901 - val_dense_3_accuracy: 0.9307 - 33s/epoch - 69ms/step\n",
      "INFO:tensorflow:Assets written to: ./GNmodels/125GN__IC_01500_FilledArea_0.9_BandNo_60_ImageHeight_30_ImageWidth_30_FILTER_snv_FeatureExtraction_none/assets\n"
     ]
    },
    {
     "name": "stderr",
     "output_type": "stream",
     "text": [
      "INFO:tensorflow:Assets written to: ./GNmodels/125GN__IC_01500_FilledArea_0.9_BandNo_60_ImageHeight_30_ImageWidth_30_FILTER_snv_FeatureExtraction_none/assets\n"
     ]
    },
    {
     "name": "stdout",
     "output_type": "stream",
     "text": [
      "Model saved on epoch:  125\n",
      "added to csv\n",
      "\n",
      "Epoch:  126\n",
      "480/480 - 33s - loss: 0.0343 - dense_4_loss: 0.0040 - dense_1_loss: 0.0747 - dense_3_loss: 0.0262 - dense_4_accuracy: 0.9999 - dense_1_accuracy: 0.9776 - dense_3_accuracy: 0.9926 - val_loss: 0.3079 - val_dense_4_loss: 0.1508 - val_dense_1_loss: 0.3171 - val_dense_3_loss: 0.2064 - val_dense_4_accuracy: 0.9495 - val_dense_1_accuracy: 0.8901 - val_dense_3_accuracy: 0.9302 - 33s/epoch - 68ms/step\n",
      "INFO:tensorflow:Assets written to: ./GNmodels/126GN__IC_01500_FilledArea_0.9_BandNo_60_ImageHeight_30_ImageWidth_30_FILTER_snv_FeatureExtraction_none/assets\n"
     ]
    },
    {
     "name": "stderr",
     "output_type": "stream",
     "text": [
      "INFO:tensorflow:Assets written to: ./GNmodels/126GN__IC_01500_FilledArea_0.9_BandNo_60_ImageHeight_30_ImageWidth_30_FILTER_snv_FeatureExtraction_none/assets\n"
     ]
    },
    {
     "name": "stdout",
     "output_type": "stream",
     "text": [
      "Model saved on epoch:  126\n",
      "added to csv\n",
      "\n",
      "Epoch:  127\n",
      "480/480 - 34s - loss: 0.0365 - dense_4_loss: 0.0045 - dense_1_loss: 0.0807 - dense_3_loss: 0.0258 - dense_4_accuracy: 0.9997 - dense_1_accuracy: 0.9715 - dense_3_accuracy: 0.9922 - val_loss: 0.3079 - val_dense_4_loss: 0.1508 - val_dense_1_loss: 0.3171 - val_dense_3_loss: 0.2064 - val_dense_4_accuracy: 0.9495 - val_dense_1_accuracy: 0.8901 - val_dense_3_accuracy: 0.9302 - 34s/epoch - 70ms/step\n",
      "INFO:tensorflow:Assets written to: ./GNmodels/127GN__IC_01500_FilledArea_0.9_BandNo_60_ImageHeight_30_ImageWidth_30_FILTER_snv_FeatureExtraction_none/assets\n"
     ]
    },
    {
     "name": "stderr",
     "output_type": "stream",
     "text": [
      "INFO:tensorflow:Assets written to: ./GNmodels/127GN__IC_01500_FilledArea_0.9_BandNo_60_ImageHeight_30_ImageWidth_30_FILTER_snv_FeatureExtraction_none/assets\n"
     ]
    },
    {
     "name": "stdout",
     "output_type": "stream",
     "text": [
      "Model saved on epoch:  127\n",
      "added to csv\n",
      "\n",
      "Epoch:  128\n",
      "480/480 - 32s - loss: 0.0356 - dense_4_loss: 0.0045 - dense_1_loss: 0.0781 - dense_3_loss: 0.0256 - dense_4_accuracy: 0.9995 - dense_1_accuracy: 0.9766 - dense_3_accuracy: 0.9935 - val_loss: 0.3079 - val_dense_4_loss: 0.1508 - val_dense_1_loss: 0.3171 - val_dense_3_loss: 0.2064 - val_dense_4_accuracy: 0.9495 - val_dense_1_accuracy: 0.8896 - val_dense_3_accuracy: 0.9302 - 32s/epoch - 68ms/step\n",
      "INFO:tensorflow:Assets written to: ./GNmodels/128GN__IC_01500_FilledArea_0.9_BandNo_60_ImageHeight_30_ImageWidth_30_FILTER_snv_FeatureExtraction_none/assets\n"
     ]
    },
    {
     "name": "stderr",
     "output_type": "stream",
     "text": [
      "INFO:tensorflow:Assets written to: ./GNmodels/128GN__IC_01500_FilledArea_0.9_BandNo_60_ImageHeight_30_ImageWidth_30_FILTER_snv_FeatureExtraction_none/assets\n"
     ]
    },
    {
     "name": "stdout",
     "output_type": "stream",
     "text": [
      "Model saved on epoch:  128\n",
      "added to csv\n",
      "\n",
      "Epoch:  129\n",
      "480/480 - 34s - loss: 0.0355 - dense_4_loss: 0.0043 - dense_1_loss: 0.0782 - dense_3_loss: 0.0258 - dense_4_accuracy: 0.9997 - dense_1_accuracy: 0.9751 - dense_3_accuracy: 0.9917 - val_loss: 0.3079 - val_dense_4_loss: 0.1508 - val_dense_1_loss: 0.3171 - val_dense_3_loss: 0.2064 - val_dense_4_accuracy: 0.9495 - val_dense_1_accuracy: 0.8901 - val_dense_3_accuracy: 0.9302 - 34s/epoch - 70ms/step\n",
      "INFO:tensorflow:Assets written to: ./GNmodels/129GN__IC_01500_FilledArea_0.9_BandNo_60_ImageHeight_30_ImageWidth_30_FILTER_snv_FeatureExtraction_none/assets\n"
     ]
    },
    {
     "name": "stderr",
     "output_type": "stream",
     "text": [
      "INFO:tensorflow:Assets written to: ./GNmodels/129GN__IC_01500_FilledArea_0.9_BandNo_60_ImageHeight_30_ImageWidth_30_FILTER_snv_FeatureExtraction_none/assets\n"
     ]
    },
    {
     "name": "stdout",
     "output_type": "stream",
     "text": [
      "Model saved on epoch:  129\n",
      "added to csv\n",
      "\n",
      "Epoch:  130\n",
      "480/480 - 32s - loss: 0.0354 - dense_4_loss: 0.0041 - dense_1_loss: 0.0778 - dense_3_loss: 0.0267 - dense_4_accuracy: 0.9997 - dense_1_accuracy: 0.9745 - dense_3_accuracy: 0.9923 - val_loss: 0.3079 - val_dense_4_loss: 0.1508 - val_dense_1_loss: 0.3171 - val_dense_3_loss: 0.2064 - val_dense_4_accuracy: 0.9495 - val_dense_1_accuracy: 0.8896 - val_dense_3_accuracy: 0.9302 - 32s/epoch - 67ms/step\n",
      "INFO:tensorflow:Assets written to: ./GNmodels/130GN__IC_01500_FilledArea_0.9_BandNo_60_ImageHeight_30_ImageWidth_30_FILTER_snv_FeatureExtraction_none/assets\n"
     ]
    },
    {
     "name": "stderr",
     "output_type": "stream",
     "text": [
      "INFO:tensorflow:Assets written to: ./GNmodels/130GN__IC_01500_FilledArea_0.9_BandNo_60_ImageHeight_30_ImageWidth_30_FILTER_snv_FeatureExtraction_none/assets\n"
     ]
    },
    {
     "name": "stdout",
     "output_type": "stream",
     "text": [
      "Model saved on epoch:  130\n",
      "added to csv\n",
      "\n",
      "Epoch:  131\n",
      "480/480 - 33s - loss: 0.0359 - dense_4_loss: 0.0044 - dense_1_loss: 0.0797 - dense_3_loss: 0.0254 - dense_4_accuracy: 0.9997 - dense_1_accuracy: 0.9733 - dense_3_accuracy: 0.9922 - val_loss: 0.3079 - val_dense_4_loss: 0.1508 - val_dense_1_loss: 0.3171 - val_dense_3_loss: 0.2064 - val_dense_4_accuracy: 0.9495 - val_dense_1_accuracy: 0.8901 - val_dense_3_accuracy: 0.9307 - 33s/epoch - 69ms/step\n",
      "INFO:tensorflow:Assets written to: ./GNmodels/131GN__IC_01500_FilledArea_0.9_BandNo_60_ImageHeight_30_ImageWidth_30_FILTER_snv_FeatureExtraction_none/assets\n"
     ]
    },
    {
     "name": "stderr",
     "output_type": "stream",
     "text": [
      "INFO:tensorflow:Assets written to: ./GNmodels/131GN__IC_01500_FilledArea_0.9_BandNo_60_ImageHeight_30_ImageWidth_30_FILTER_snv_FeatureExtraction_none/assets\n"
     ]
    },
    {
     "name": "stdout",
     "output_type": "stream",
     "text": [
      "Model saved on epoch:  131\n",
      "added to csv\n",
      "\n",
      "Epoch:  132\n",
      "480/480 - 32s - loss: 0.0357 - dense_4_loss: 0.0040 - dense_1_loss: 0.0794 - dense_3_loss: 0.0263 - dense_4_accuracy: 1.0000 - dense_1_accuracy: 0.9741 - dense_3_accuracy: 0.9922 - val_loss: 0.3079 - val_dense_4_loss: 0.1508 - val_dense_1_loss: 0.3171 - val_dense_3_loss: 0.2064 - val_dense_4_accuracy: 0.9495 - val_dense_1_accuracy: 0.8901 - val_dense_3_accuracy: 0.9302 - 32s/epoch - 67ms/step\n",
      "INFO:tensorflow:Assets written to: ./GNmodels/132GN__IC_01500_FilledArea_0.9_BandNo_60_ImageHeight_30_ImageWidth_30_FILTER_snv_FeatureExtraction_none/assets\n"
     ]
    },
    {
     "name": "stderr",
     "output_type": "stream",
     "text": [
      "INFO:tensorflow:Assets written to: ./GNmodels/132GN__IC_01500_FilledArea_0.9_BandNo_60_ImageHeight_30_ImageWidth_30_FILTER_snv_FeatureExtraction_none/assets\n"
     ]
    },
    {
     "name": "stdout",
     "output_type": "stream",
     "text": [
      "Model saved on epoch:  132\n",
      "added to csv\n",
      "\n",
      "Epoch:  133\n",
      "480/480 - 33s - loss: 0.0361 - dense_4_loss: 0.0044 - dense_1_loss: 0.0781 - dense_3_loss: 0.0274 - dense_4_accuracy: 0.9997 - dense_1_accuracy: 0.9757 - dense_3_accuracy: 0.9921 - val_loss: 0.3079 - val_dense_4_loss: 0.1508 - val_dense_1_loss: 0.3171 - val_dense_3_loss: 0.2064 - val_dense_4_accuracy: 0.9495 - val_dense_1_accuracy: 0.8901 - val_dense_3_accuracy: 0.9302 - 33s/epoch - 68ms/step\n",
      "INFO:tensorflow:Assets written to: ./GNmodels/133GN__IC_01500_FilledArea_0.9_BandNo_60_ImageHeight_30_ImageWidth_30_FILTER_snv_FeatureExtraction_none/assets\n"
     ]
    },
    {
     "name": "stderr",
     "output_type": "stream",
     "text": [
      "INFO:tensorflow:Assets written to: ./GNmodels/133GN__IC_01500_FilledArea_0.9_BandNo_60_ImageHeight_30_ImageWidth_30_FILTER_snv_FeatureExtraction_none/assets\n"
     ]
    },
    {
     "name": "stdout",
     "output_type": "stream",
     "text": [
      "Model saved on epoch:  133\n",
      "added to csv\n",
      "\n",
      "Epoch:  134\n",
      "480/480 - 33s - loss: 0.0369 - dense_4_loss: 0.0044 - dense_1_loss: 0.0818 - dense_3_loss: 0.0266 - dense_4_accuracy: 0.9996 - dense_1_accuracy: 0.9720 - dense_3_accuracy: 0.9915 - val_loss: 0.3079 - val_dense_4_loss: 0.1508 - val_dense_1_loss: 0.3171 - val_dense_3_loss: 0.2064 - val_dense_4_accuracy: 0.9495 - val_dense_1_accuracy: 0.8901 - val_dense_3_accuracy: 0.9302 - 33s/epoch - 68ms/step\n",
      "INFO:tensorflow:Assets written to: ./GNmodels/134GN__IC_01500_FilledArea_0.9_BandNo_60_ImageHeight_30_ImageWidth_30_FILTER_snv_FeatureExtraction_none/assets\n"
     ]
    },
    {
     "name": "stderr",
     "output_type": "stream",
     "text": [
      "INFO:tensorflow:Assets written to: ./GNmodels/134GN__IC_01500_FilledArea_0.9_BandNo_60_ImageHeight_30_ImageWidth_30_FILTER_snv_FeatureExtraction_none/assets\n"
     ]
    },
    {
     "name": "stdout",
     "output_type": "stream",
     "text": [
      "Model saved on epoch:  134\n",
      "added to csv\n",
      "\n",
      "Epoch:  135\n",
      "480/480 - 32s - loss: 0.0352 - dense_4_loss: 0.0039 - dense_1_loss: 0.0767 - dense_3_loss: 0.0277 - dense_4_accuracy: 0.9999 - dense_1_accuracy: 0.9753 - dense_3_accuracy: 0.9911 - val_loss: 0.3079 - val_dense_4_loss: 0.1508 - val_dense_1_loss: 0.3171 - val_dense_3_loss: 0.2064 - val_dense_4_accuracy: 0.9495 - val_dense_1_accuracy: 0.8896 - val_dense_3_accuracy: 0.9302 - 32s/epoch - 67ms/step\n",
      "INFO:tensorflow:Assets written to: ./GNmodels/135GN__IC_01500_FilledArea_0.9_BandNo_60_ImageHeight_30_ImageWidth_30_FILTER_snv_FeatureExtraction_none/assets\n"
     ]
    },
    {
     "name": "stderr",
     "output_type": "stream",
     "text": [
      "INFO:tensorflow:Assets written to: ./GNmodels/135GN__IC_01500_FilledArea_0.9_BandNo_60_ImageHeight_30_ImageWidth_30_FILTER_snv_FeatureExtraction_none/assets\n"
     ]
    },
    {
     "name": "stdout",
     "output_type": "stream",
     "text": [
      "Model saved on epoch:  135\n",
      "added to csv\n",
      "\n",
      "Epoch:  136\n",
      "480/480 - 32s - loss: 0.0355 - dense_4_loss: 0.0041 - dense_1_loss: 0.0773 - dense_3_loss: 0.0275 - dense_4_accuracy: 1.0000 - dense_1_accuracy: 0.9740 - dense_3_accuracy: 0.9914 - val_loss: 0.3079 - val_dense_4_loss: 0.1508 - val_dense_1_loss: 0.3171 - val_dense_3_loss: 0.2064 - val_dense_4_accuracy: 0.9495 - val_dense_1_accuracy: 0.8901 - val_dense_3_accuracy: 0.9302 - 32s/epoch - 66ms/step\n",
      "INFO:tensorflow:Assets written to: ./GNmodels/136GN__IC_01500_FilledArea_0.9_BandNo_60_ImageHeight_30_ImageWidth_30_FILTER_snv_FeatureExtraction_none/assets\n"
     ]
    },
    {
     "name": "stderr",
     "output_type": "stream",
     "text": [
      "INFO:tensorflow:Assets written to: ./GNmodels/136GN__IC_01500_FilledArea_0.9_BandNo_60_ImageHeight_30_ImageWidth_30_FILTER_snv_FeatureExtraction_none/assets\n"
     ]
    },
    {
     "name": "stdout",
     "output_type": "stream",
     "text": [
      "Model saved on epoch:  136\n",
      "added to csv\n",
      "\n",
      "Epoch:  137\n",
      "480/480 - 32s - loss: 0.0370 - dense_4_loss: 0.0046 - dense_1_loss: 0.0813 - dense_3_loss: 0.0268 - dense_4_accuracy: 0.9996 - dense_1_accuracy: 0.9714 - dense_3_accuracy: 0.9931 - val_loss: 0.3079 - val_dense_4_loss: 0.1508 - val_dense_1_loss: 0.3171 - val_dense_3_loss: 0.2064 - val_dense_4_accuracy: 0.9495 - val_dense_1_accuracy: 0.8896 - val_dense_3_accuracy: 0.9307 - 32s/epoch - 67ms/step\n",
      "INFO:tensorflow:Assets written to: ./GNmodels/137GN__IC_01500_FilledArea_0.9_BandNo_60_ImageHeight_30_ImageWidth_30_FILTER_snv_FeatureExtraction_none/assets\n"
     ]
    },
    {
     "name": "stderr",
     "output_type": "stream",
     "text": [
      "INFO:tensorflow:Assets written to: ./GNmodels/137GN__IC_01500_FilledArea_0.9_BandNo_60_ImageHeight_30_ImageWidth_30_FILTER_snv_FeatureExtraction_none/assets\n"
     ]
    },
    {
     "name": "stdout",
     "output_type": "stream",
     "text": [
      "Model saved on epoch:  137\n",
      "added to csv\n",
      "\n",
      "Epoch:  138\n",
      "480/480 - 33s - loss: 0.0357 - dense_4_loss: 0.0042 - dense_1_loss: 0.0788 - dense_3_loss: 0.0261 - dense_4_accuracy: 1.0000 - dense_1_accuracy: 0.9727 - dense_3_accuracy: 0.9913 - val_loss: 0.3079 - val_dense_4_loss: 0.1508 - val_dense_1_loss: 0.3171 - val_dense_3_loss: 0.2064 - val_dense_4_accuracy: 0.9495 - val_dense_1_accuracy: 0.8896 - val_dense_3_accuracy: 0.9302 - 33s/epoch - 69ms/step\n",
      "INFO:tensorflow:Assets written to: ./GNmodels/138GN__IC_01500_FilledArea_0.9_BandNo_60_ImageHeight_30_ImageWidth_30_FILTER_snv_FeatureExtraction_none/assets\n"
     ]
    },
    {
     "name": "stderr",
     "output_type": "stream",
     "text": [
      "INFO:tensorflow:Assets written to: ./GNmodels/138GN__IC_01500_FilledArea_0.9_BandNo_60_ImageHeight_30_ImageWidth_30_FILTER_snv_FeatureExtraction_none/assets\n"
     ]
    },
    {
     "name": "stdout",
     "output_type": "stream",
     "text": [
      "Model saved on epoch:  138\n",
      "added to csv\n",
      "\n",
      "Epoch:  139\n",
      "480/480 - 33s - loss: 0.0361 - dense_4_loss: 0.0044 - dense_1_loss: 0.0783 - dense_3_loss: 0.0273 - dense_4_accuracy: 0.9995 - dense_1_accuracy: 0.9751 - dense_3_accuracy: 0.9910 - val_loss: 0.3079 - val_dense_4_loss: 0.1509 - val_dense_1_loss: 0.3171 - val_dense_3_loss: 0.2064 - val_dense_4_accuracy: 0.9495 - val_dense_1_accuracy: 0.8896 - val_dense_3_accuracy: 0.9302 - 33s/epoch - 69ms/step\n",
      "INFO:tensorflow:Assets written to: ./GNmodels/139GN__IC_01500_FilledArea_0.9_BandNo_60_ImageHeight_30_ImageWidth_30_FILTER_snv_FeatureExtraction_none/assets\n"
     ]
    },
    {
     "name": "stderr",
     "output_type": "stream",
     "text": [
      "INFO:tensorflow:Assets written to: ./GNmodels/139GN__IC_01500_FilledArea_0.9_BandNo_60_ImageHeight_30_ImageWidth_30_FILTER_snv_FeatureExtraction_none/assets\n"
     ]
    },
    {
     "name": "stdout",
     "output_type": "stream",
     "text": [
      "Model saved on epoch:  139\n",
      "added to csv\n",
      "\n",
      "Epoch:  140\n",
      "480/480 - 33s - loss: 0.0356 - dense_4_loss: 0.0041 - dense_1_loss: 0.0786 - dense_3_loss: 0.0264 - dense_4_accuracy: 1.0000 - dense_1_accuracy: 0.9742 - dense_3_accuracy: 0.9927 - val_loss: 0.3079 - val_dense_4_loss: 0.1509 - val_dense_1_loss: 0.3171 - val_dense_3_loss: 0.2064 - val_dense_4_accuracy: 0.9495 - val_dense_1_accuracy: 0.8896 - val_dense_3_accuracy: 0.9302 - 33s/epoch - 68ms/step\n",
      "INFO:tensorflow:Assets written to: ./GNmodels/140GN__IC_01500_FilledArea_0.9_BandNo_60_ImageHeight_30_ImageWidth_30_FILTER_snv_FeatureExtraction_none/assets\n"
     ]
    },
    {
     "name": "stderr",
     "output_type": "stream",
     "text": [
      "INFO:tensorflow:Assets written to: ./GNmodels/140GN__IC_01500_FilledArea_0.9_BandNo_60_ImageHeight_30_ImageWidth_30_FILTER_snv_FeatureExtraction_none/assets\n"
     ]
    },
    {
     "name": "stdout",
     "output_type": "stream",
     "text": [
      "Model saved on epoch:  140\n",
      "added to csv\n",
      "\n",
      "Epoch:  141\n",
      "480/480 - 33s - loss: 0.0354 - dense_4_loss: 0.0044 - dense_1_loss: 0.0775 - dense_3_loss: 0.0256 - dense_4_accuracy: 0.9999 - dense_1_accuracy: 0.9740 - dense_3_accuracy: 0.9928 - val_loss: 0.3079 - val_dense_4_loss: 0.1509 - val_dense_1_loss: 0.3171 - val_dense_3_loss: 0.2064 - val_dense_4_accuracy: 0.9495 - val_dense_1_accuracy: 0.8901 - val_dense_3_accuracy: 0.9302 - 33s/epoch - 68ms/step\n",
      "INFO:tensorflow:Assets written to: ./GNmodels/141GN__IC_01500_FilledArea_0.9_BandNo_60_ImageHeight_30_ImageWidth_30_FILTER_snv_FeatureExtraction_none/assets\n"
     ]
    },
    {
     "name": "stderr",
     "output_type": "stream",
     "text": [
      "INFO:tensorflow:Assets written to: ./GNmodels/141GN__IC_01500_FilledArea_0.9_BandNo_60_ImageHeight_30_ImageWidth_30_FILTER_snv_FeatureExtraction_none/assets\n"
     ]
    },
    {
     "name": "stdout",
     "output_type": "stream",
     "text": [
      "Model saved on epoch:  141\n",
      "added to csv\n",
      "\n",
      "Epoch:  142\n",
      "480/480 - 32s - loss: 0.0364 - dense_4_loss: 0.0048 - dense_1_loss: 0.0803 - dense_3_loss: 0.0252 - dense_4_accuracy: 0.9993 - dense_1_accuracy: 0.9729 - dense_3_accuracy: 0.9931 - val_loss: 0.3079 - val_dense_4_loss: 0.1508 - val_dense_1_loss: 0.3171 - val_dense_3_loss: 0.2064 - val_dense_4_accuracy: 0.9495 - val_dense_1_accuracy: 0.8896 - val_dense_3_accuracy: 0.9302 - 32s/epoch - 68ms/step\n",
      "INFO:tensorflow:Assets written to: ./GNmodels/142GN__IC_01500_FilledArea_0.9_BandNo_60_ImageHeight_30_ImageWidth_30_FILTER_snv_FeatureExtraction_none/assets\n"
     ]
    },
    {
     "name": "stderr",
     "output_type": "stream",
     "text": [
      "INFO:tensorflow:Assets written to: ./GNmodels/142GN__IC_01500_FilledArea_0.9_BandNo_60_ImageHeight_30_ImageWidth_30_FILTER_snv_FeatureExtraction_none/assets\n"
     ]
    },
    {
     "name": "stdout",
     "output_type": "stream",
     "text": [
      "Model saved on epoch:  142\n",
      "added to csv\n",
      "\n",
      "Epoch:  143\n",
      "480/480 - 33s - loss: 0.0353 - dense_4_loss: 0.0045 - dense_1_loss: 0.0774 - dense_3_loss: 0.0253 - dense_4_accuracy: 0.9996 - dense_1_accuracy: 0.9762 - dense_3_accuracy: 0.9934 - val_loss: 0.3079 - val_dense_4_loss: 0.1509 - val_dense_1_loss: 0.3171 - val_dense_3_loss: 0.2064 - val_dense_4_accuracy: 0.9495 - val_dense_1_accuracy: 0.8896 - val_dense_3_accuracy: 0.9302 - 33s/epoch - 68ms/step\n",
      "INFO:tensorflow:Assets written to: ./GNmodels/143GN__IC_01500_FilledArea_0.9_BandNo_60_ImageHeight_30_ImageWidth_30_FILTER_snv_FeatureExtraction_none/assets\n"
     ]
    },
    {
     "name": "stderr",
     "output_type": "stream",
     "text": [
      "INFO:tensorflow:Assets written to: ./GNmodels/143GN__IC_01500_FilledArea_0.9_BandNo_60_ImageHeight_30_ImageWidth_30_FILTER_snv_FeatureExtraction_none/assets\n"
     ]
    },
    {
     "name": "stdout",
     "output_type": "stream",
     "text": [
      "Model saved on epoch:  143\n",
      "added to csv\n",
      "\n",
      "Epoch:  144\n",
      "480/480 - 32s - loss: 0.0359 - dense_4_loss: 0.0042 - dense_1_loss: 0.0788 - dense_3_loss: 0.0266 - dense_4_accuracy: 0.9999 - dense_1_accuracy: 0.9757 - dense_3_accuracy: 0.9919 - val_loss: 0.3079 - val_dense_4_loss: 0.1509 - val_dense_1_loss: 0.3171 - val_dense_3_loss: 0.2064 - val_dense_4_accuracy: 0.9495 - val_dense_1_accuracy: 0.8896 - val_dense_3_accuracy: 0.9302 - 32s/epoch - 68ms/step\n",
      "INFO:tensorflow:Assets written to: ./GNmodels/144GN__IC_01500_FilledArea_0.9_BandNo_60_ImageHeight_30_ImageWidth_30_FILTER_snv_FeatureExtraction_none/assets\n"
     ]
    },
    {
     "name": "stderr",
     "output_type": "stream",
     "text": [
      "INFO:tensorflow:Assets written to: ./GNmodels/144GN__IC_01500_FilledArea_0.9_BandNo_60_ImageHeight_30_ImageWidth_30_FILTER_snv_FeatureExtraction_none/assets\n"
     ]
    },
    {
     "name": "stdout",
     "output_type": "stream",
     "text": [
      "Model saved on epoch:  144\n",
      "added to csv\n",
      "\n",
      "Epoch:  145\n",
      "480/480 - 32s - loss: 0.0358 - dense_4_loss: 0.0045 - dense_1_loss: 0.0779 - dense_3_loss: 0.0266 - dense_4_accuracy: 0.9999 - dense_1_accuracy: 0.9755 - dense_3_accuracy: 0.9922 - val_loss: 0.3079 - val_dense_4_loss: 0.1508 - val_dense_1_loss: 0.3171 - val_dense_3_loss: 0.2064 - val_dense_4_accuracy: 0.9495 - val_dense_1_accuracy: 0.8901 - val_dense_3_accuracy: 0.9307 - 32s/epoch - 67ms/step\n",
      "INFO:tensorflow:Assets written to: ./GNmodels/145GN__IC_01500_FilledArea_0.9_BandNo_60_ImageHeight_30_ImageWidth_30_FILTER_snv_FeatureExtraction_none/assets\n"
     ]
    },
    {
     "name": "stderr",
     "output_type": "stream",
     "text": [
      "INFO:tensorflow:Assets written to: ./GNmodels/145GN__IC_01500_FilledArea_0.9_BandNo_60_ImageHeight_30_ImageWidth_30_FILTER_snv_FeatureExtraction_none/assets\n"
     ]
    },
    {
     "name": "stdout",
     "output_type": "stream",
     "text": [
      "Model saved on epoch:  145\n",
      "added to csv\n",
      "\n",
      "Epoch:  146\n",
      "480/480 - 32s - loss: 0.0375 - dense_4_loss: 0.0042 - dense_1_loss: 0.0827 - dense_3_loss: 0.0283 - dense_4_accuracy: 0.9999 - dense_1_accuracy: 0.9724 - dense_3_accuracy: 0.9906 - val_loss: 0.3079 - val_dense_4_loss: 0.1508 - val_dense_1_loss: 0.3171 - val_dense_3_loss: 0.2064 - val_dense_4_accuracy: 0.9495 - val_dense_1_accuracy: 0.8901 - val_dense_3_accuracy: 0.9307 - 32s/epoch - 67ms/step\n",
      "INFO:tensorflow:Assets written to: ./GNmodels/146GN__IC_01500_FilledArea_0.9_BandNo_60_ImageHeight_30_ImageWidth_30_FILTER_snv_FeatureExtraction_none/assets\n"
     ]
    },
    {
     "name": "stderr",
     "output_type": "stream",
     "text": [
      "INFO:tensorflow:Assets written to: ./GNmodels/146GN__IC_01500_FilledArea_0.9_BandNo_60_ImageHeight_30_ImageWidth_30_FILTER_snv_FeatureExtraction_none/assets\n"
     ]
    },
    {
     "name": "stdout",
     "output_type": "stream",
     "text": [
      "Model saved on epoch:  146\n",
      "added to csv\n",
      "\n",
      "Epoch:  147\n",
      "480/480 - 33s - loss: 0.0361 - dense_4_loss: 0.0041 - dense_1_loss: 0.0797 - dense_3_loss: 0.0268 - dense_4_accuracy: 0.9996 - dense_1_accuracy: 0.9753 - dense_3_accuracy: 0.9917 - val_loss: 0.3079 - val_dense_4_loss: 0.1508 - val_dense_1_loss: 0.3171 - val_dense_3_loss: 0.2064 - val_dense_4_accuracy: 0.9495 - val_dense_1_accuracy: 0.8901 - val_dense_3_accuracy: 0.9307 - 33s/epoch - 69ms/step\n",
      "INFO:tensorflow:Assets written to: ./GNmodels/147GN__IC_01500_FilledArea_0.9_BandNo_60_ImageHeight_30_ImageWidth_30_FILTER_snv_FeatureExtraction_none/assets\n"
     ]
    },
    {
     "name": "stderr",
     "output_type": "stream",
     "text": [
      "INFO:tensorflow:Assets written to: ./GNmodels/147GN__IC_01500_FilledArea_0.9_BandNo_60_ImageHeight_30_ImageWidth_30_FILTER_snv_FeatureExtraction_none/assets\n"
     ]
    },
    {
     "name": "stdout",
     "output_type": "stream",
     "text": [
      "Model saved on epoch:  147\n",
      "added to csv\n",
      "\n",
      "Epoch:  148\n",
      "480/480 - 32s - loss: 0.0346 - dense_4_loss: 0.0043 - dense_1_loss: 0.0767 - dense_3_loss: 0.0241 - dense_4_accuracy: 0.9997 - dense_1_accuracy: 0.9733 - dense_3_accuracy: 0.9940 - val_loss: 0.3079 - val_dense_4_loss: 0.1508 - val_dense_1_loss: 0.3171 - val_dense_3_loss: 0.2064 - val_dense_4_accuracy: 0.9495 - val_dense_1_accuracy: 0.8896 - val_dense_3_accuracy: 0.9307 - 32s/epoch - 68ms/step\n",
      "INFO:tensorflow:Assets written to: ./GNmodels/148GN__IC_01500_FilledArea_0.9_BandNo_60_ImageHeight_30_ImageWidth_30_FILTER_snv_FeatureExtraction_none/assets\n"
     ]
    },
    {
     "name": "stderr",
     "output_type": "stream",
     "text": [
      "INFO:tensorflow:Assets written to: ./GNmodels/148GN__IC_01500_FilledArea_0.9_BandNo_60_ImageHeight_30_ImageWidth_30_FILTER_snv_FeatureExtraction_none/assets\n"
     ]
    },
    {
     "name": "stdout",
     "output_type": "stream",
     "text": [
      "Model saved on epoch:  148\n",
      "added to csv\n",
      "\n",
      "Epoch:  149\n",
      "480/480 - 33s - loss: 0.0364 - dense_4_loss: 0.0043 - dense_1_loss: 0.0809 - dense_3_loss: 0.0262 - dense_4_accuracy: 0.9999 - dense_1_accuracy: 0.9737 - dense_3_accuracy: 0.9917 - val_loss: 0.3079 - val_dense_4_loss: 0.1508 - val_dense_1_loss: 0.3171 - val_dense_3_loss: 0.2064 - val_dense_4_accuracy: 0.9495 - val_dense_1_accuracy: 0.8896 - val_dense_3_accuracy: 0.9307 - 33s/epoch - 69ms/step\n",
      "INFO:tensorflow:Assets written to: ./GNmodels/149GN__IC_01500_FilledArea_0.9_BandNo_60_ImageHeight_30_ImageWidth_30_FILTER_snv_FeatureExtraction_none/assets\n"
     ]
    },
    {
     "name": "stderr",
     "output_type": "stream",
     "text": [
      "INFO:tensorflow:Assets written to: ./GNmodels/149GN__IC_01500_FilledArea_0.9_BandNo_60_ImageHeight_30_ImageWidth_30_FILTER_snv_FeatureExtraction_none/assets\n"
     ]
    },
    {
     "name": "stdout",
     "output_type": "stream",
     "text": [
      "Model saved on epoch:  149\n",
      "added to csv\n",
      "\n",
      "Epoch:  150\n",
      "480/480 - 33s - loss: 0.0362 - dense_4_loss: 0.0044 - dense_1_loss: 0.0783 - dense_3_loss: 0.0274 - dense_4_accuracy: 0.9996 - dense_1_accuracy: 0.9747 - dense_3_accuracy: 0.9913 - val_loss: 0.3079 - val_dense_4_loss: 0.1508 - val_dense_1_loss: 0.3171 - val_dense_3_loss: 0.2064 - val_dense_4_accuracy: 0.9495 - val_dense_1_accuracy: 0.8896 - val_dense_3_accuracy: 0.9307 - 33s/epoch - 68ms/step\n",
      "INFO:tensorflow:Assets written to: ./GNmodels/150GN__IC_01500_FilledArea_0.9_BandNo_60_ImageHeight_30_ImageWidth_30_FILTER_snv_FeatureExtraction_none/assets\n"
     ]
    },
    {
     "name": "stderr",
     "output_type": "stream",
     "text": [
      "INFO:tensorflow:Assets written to: ./GNmodels/150GN__IC_01500_FilledArea_0.9_BandNo_60_ImageHeight_30_ImageWidth_30_FILTER_snv_FeatureExtraction_none/assets\n"
     ]
    },
    {
     "name": "stdout",
     "output_type": "stream",
     "text": [
      "Model saved on epoch:  150\n",
      "added to csv\n",
      "Testing time (s) = 9143.142106663\n",
      "\n"
     ]
    }
   ],
   "source": [
    "tic = start_timer()\n",
    "while start_epoch<=last_epoch:\n",
    "    print(\"\\nEpoch: \",start_epoch)\n",
    "    history = model.fit(x_train ,y_train ,batch_size=BATCH_SIZE ,epochs=1, verbose=2, validation_data=(x_val, y_val), shuffle=True)\n",
    "    model.save('./GNmodels/'+str(start_epoch)+model_name)\n",
    "    print(\"Model saved on epoch: \",start_epoch)\n",
    "    \n",
    "    history_dataframe = pd.DataFrame.from_dict(history.history)\n",
    "    save_to_csv('./csvs/'+model_name+'.csv', history_dataframe, header=True)\n",
    "    print(\"added to csv\")\n",
    "    start_epoch+=1\n",
    "    \n",
    "toc = end_timer()\n",
    "show_time(tic,toc)"
   ]
  },
  {
   "cell_type": "code",
   "execution_count": 39,
   "id": "746a8bf3",
   "metadata": {},
   "outputs": [
    {
     "name": "stdout",
     "output_type": "stream",
     "text": [
      "75/75 [==============================] - 5s 55ms/step\n"
     ]
    }
   ],
   "source": [
    "from sklearn.metrics import accuracy_score, confusion_matrix, classification_report\n",
    "\n",
    "y_pred = model.predict(test_dataset)"
   ]
  },
  {
   "cell_type": "code",
   "execution_count": 40,
   "id": "9669eed9",
   "metadata": {},
   "outputs": [],
   "source": [
    "y_pred_labels = np.argmax(y_pred, axis=2)"
   ]
  },
  {
   "cell_type": "code",
   "execution_count": 49,
   "id": "dba28a3c",
   "metadata": {},
   "outputs": [
    {
     "name": "stdout",
     "output_type": "stream",
     "text": [
      "Accuracy: 0.9533333333333334\n",
      "Confusion Matrix:\n",
      "[[297   0   3   0   0   0   0   0]\n",
      " [  0 267   0  21   6   0   2   4]\n",
      " [  8   0 292   0   0   0   0   0]\n",
      " [  0  24   1 261   6   0   2   6]\n",
      " [  0   1   0   1 291   0   1   6]\n",
      " [  0   0   0   0   0 300   0   0]\n",
      " [  0   0   0   5   0   1 292   2]\n",
      " [  0   3   0   5   4   0   0 288]]\n",
      "Classification Report:\n",
      "              precision    recall  f1-score   support\n",
      "\n",
      "           0       0.97      0.99      0.98       300\n",
      "           1       0.91      0.89      0.90       300\n",
      "           2       0.99      0.97      0.98       300\n",
      "           3       0.89      0.87      0.88       300\n",
      "           4       0.95      0.97      0.96       300\n",
      "           5       1.00      1.00      1.00       300\n",
      "           6       0.98      0.97      0.98       300\n",
      "           7       0.94      0.96      0.95       300\n",
      "\n",
      "    accuracy                           0.95      2400\n",
      "   macro avg       0.95      0.95      0.95      2400\n",
      "weighted avg       0.95      0.95      0.95      2400\n",
      "\n",
      "Accuracy: 0.8920833333333333\n",
      "Confusion Matrix:\n",
      "[[292   0   7   1   0   0   0   0]\n",
      " [  0 228   0  47  11   0   4  10]\n",
      " [ 14   0 286   0   0   0   0   0]\n",
      " [  0  43   0 228   5   0  12  12]\n",
      " [  0   7   0   6 270   1   2  14]\n",
      " [  0   0   0   0   0 299   1   0]\n",
      " [  0   2   0  15   7   0 268   8]\n",
      " [  0   6   0  11   9   0   4 270]]\n",
      "Classification Report:\n",
      "              precision    recall  f1-score   support\n",
      "\n",
      "           0       0.95      0.97      0.96       300\n",
      "           1       0.80      0.76      0.78       300\n",
      "           2       0.98      0.95      0.96       300\n",
      "           3       0.74      0.76      0.75       300\n",
      "           4       0.89      0.90      0.90       300\n",
      "           5       1.00      1.00      1.00       300\n",
      "           6       0.92      0.89      0.91       300\n",
      "           7       0.86      0.90      0.88       300\n",
      "\n",
      "    accuracy                           0.89      2400\n",
      "   macro avg       0.89      0.89      0.89      2400\n",
      "weighted avg       0.89      0.89      0.89      2400\n",
      "\n",
      "Accuracy: 0.93125\n",
      "Confusion Matrix:\n",
      "[[296   1   3   0   0   0   0   0]\n",
      " [  0 242   0  43   8   0   2   5]\n",
      " [  9   0 291   0   0   0   0   0]\n",
      " [  0  34   0 250   4   0   6   6]\n",
      " [  0   3   0   4 285   0   1   7]\n",
      " [  0   0   0   0   0 299   1   0]\n",
      " [  0   0   0   7   2   1 286   4]\n",
      " [  0   4   0   4   5   0   1 286]]\n",
      "Classification Report:\n",
      "              precision    recall  f1-score   support\n",
      "\n",
      "           0       0.97      0.99      0.98       300\n",
      "           1       0.85      0.81      0.83       300\n",
      "           2       0.99      0.97      0.98       300\n",
      "           3       0.81      0.83      0.82       300\n",
      "           4       0.94      0.95      0.94       300\n",
      "           5       1.00      1.00      1.00       300\n",
      "           6       0.96      0.95      0.96       300\n",
      "           7       0.93      0.95      0.94       300\n",
      "\n",
      "    accuracy                           0.93      2400\n",
      "   macro avg       0.93      0.93      0.93      2400\n",
      "weighted avg       0.93      0.93      0.93      2400\n",
      "\n"
     ]
    }
   ],
   "source": [
    "i=0\n",
    "\n",
    "for y_pred_label in y_pred_labels:\n",
    "    # Calculate accuracy\n",
    "    accuracy = accuracy_score(test_dataset_label, y_pred_label)\n",
    "    print(\"Accuracy:\", accuracy)\n",
    "    \n",
    "    \n",
    "    # Calculate confusion matrix\n",
    "    cm = confusion_matrix(test_dataset_label, y_pred_label)\n",
    "    print(\"Confusion Matrix:\")\n",
    "    print(cm)\n",
    "    if(i==0):\n",
    "        cm1=cm\n",
    "        i=i+1\n",
    "    \n",
    "    # Calculate precision, recall, and F1-score for each class\n",
    "    print(\"Classification Report:\")\n",
    "    print(classification_report(test_dataset_label, y_pred_label))"
   ]
  },
  {
   "cell_type": "code",
   "execution_count": 50,
   "id": "74c24af8",
   "metadata": {},
   "outputs": [
    {
     "data": {
      "image/png": "[encoded data removed]",
      "text/plain": [
       "<Figure size 432x288 with 2 Axes>"
      ]
     },
     "metadata": {
      "needs_background": "light"
     },
     "output_type": "display_data"
    }
   ],
   "source": [
    "import seaborn as sn\n",
    "import pandas as pd\n",
    "\n",
    "df_cm = pd.DataFrame(cm1,index =[i for i in VARIETIES],columns=[i for i in VARIETIES])\n",
    "sn.heatmap(df_cm, annot=True, annot_kws={\"size\": 16},fmt='.0f') # font size\n",
    "\n",
    "plt.show()"
   ]
  },
  {
   "cell_type": "code",
   "execution_count": null,
   "id": "298f76d6",
   "metadata": {},
   "outputs": [],
   "source": []
  },
  {
   "cell_type": "code",
   "execution_count": null,
   "id": "b00ac758",
   "metadata": {},
   "outputs": [],
   "source": []
  }
 ],
 "metadata": {
  "kernelspec": {
   "display_name": "Python 3 (ipykernel)",
   "language": "python",
   "name": "python3"
  },
  "language_info": {
   "codemirror_mode": {
    "name": "ipython",
    "version": 3
   },
   "file_extension": ".py",
   "mimetype": "text/x-python",
   "name": "python",
   "nbconvert_exporter": "python",
   "pygments_lexer": "ipython3",
   "version": "3.9.12"
  }
 },
 "nbformat": 4,
 "nbformat_minor": 5
}
