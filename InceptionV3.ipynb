{
 "cells": [
  {
   "cell_type": "code",
   "execution_count": null,
   "id": "6b605089",
   "metadata": {},
   "outputs": [],
   "source": [
    "import tensorflow as tf"
   ]
  },
  {
   "cell_type": "code",
   "execution_count": null,
   "id": "c6cc1a38",
   "metadata": {},
   "outputs": [],
   "source": [
    "from tensorflow import keras as keras\n",
    "from keras import layers as layers"
   ]
  },
  {
   "cell_type": "code",
   "execution_count": null,
   "id": "6c004aea",
   "metadata": {},
   "outputs": [],
   "source": [
    "import os, timeit\n",
    "from skimage.filters import threshold_otsu\n",
    "import numpy as np\n",
    "from math import inf as inf"
   ]
  },
  {
   "cell_type": "code",
   "execution_count": null,
   "id": "6c9300cb",
   "metadata": {},
   "outputs": [],
   "source": [
    "from spectral.io import envi as envi\n",
    "from spectral import imshow"
   ]
  },
  {
   "cell_type": "code",
   "execution_count": null,
   "id": "ee790ffe",
   "metadata": {},
   "outputs": [],
   "source": [
    "from sklearn.decomposition import IncrementalPCA"
   ]
  },
  {
   "cell_type": "code",
   "execution_count": null,
   "id": "bf3717a6",
   "metadata": {},
   "outputs": [],
   "source": [
    "import sys"
   ]
  },
  {
   "cell_type": "code",
   "execution_count": null,
   "id": "3dd26930",
   "metadata": {},
   "outputs": [],
   "source": [
    "print(\"Num GPUs Available: \", len(tf.config.list_physical_devices('GPU')))"
   ]
  },
  {
   "cell_type": "code",
   "execution_count": null,
   "id": "0f72da7a",
   "metadata": {},
   "outputs": [],
   "source": [
    "from sys import platform\n",
    "DATA_DIRECTORY = \"\"\n",
    "SLASH = \"\"\n",
    "if platform == \"linux\" or platform == \"linux2\":\n",
    "    DATA_DIRECTORY = \"/home/nitintyagi/wheat data/BULK/\"\n",
    "    SLASH = \"/\"\n",
    "elif platform == \"win32\":\n",
    "    DATA_DIRECTORY = \"D:\\mvl\\wheat\\data\\BULK\\\\\"\n",
    "    SLASH=\"\\\\\""
   ]
  },
  {
   "cell_type": "code",
   "execution_count": null,
   "id": "5979451f",
   "metadata": {},
   "outputs": [],
   "source": [
    "#Constants\n",
    "BAND_NUMBER = 60\n",
    "FILLED_AREA_RATIO = 0.9\n",
    "TOTAL_IMAGE_COUNT = 8\n",
    "IMAGE_COUNT = int(TOTAL_IMAGE_COUNT/4)\n",
    "NUM_VARIETIES = 2\n",
    "\n",
    "IMAGE_WIDTH = 30\n",
    "IMAGE_HEIGHT = 30"
   ]
  },
  {
   "cell_type": "code",
   "execution_count": null,
   "id": "066f0249",
   "metadata": {},
   "outputs": [],
   "source": [
    "ACTIVATION_TYPE =  \"relu\"\n",
    "BATCH_SIZE = 2*NUM_VARIETIES\n",
    "\n",
    "LEARNING_RATE_BASE = 0.0001"
   ]
  },
  {
   "cell_type": "code",
   "execution_count": null,
   "id": "6f32e132",
   "metadata": {},
   "outputs": [],
   "source": [
    "from enum import Enum\n",
    "\n",
    "class filter_method(Enum):\n",
    "    none = 0\n",
    "    snv = 1\n",
    "    msc = 2\n",
    "    savgol = 3\n",
    "    \n",
    "FILTER = filter_method(0).name\n",
    "\n",
    "# to be set if filter chosen is savgol\n",
    "WINDOW = 7\n",
    "ORDER = 2\n",
    "DERIVATIVE = \"none\""
   ]
  },
  {
   "cell_type": "code",
   "execution_count": null,
   "id": "2e3a1d3a",
   "metadata": {},
   "outputs": [],
   "source": [
    "from enum import Enum\n",
    " \n",
    "class feature_extraction_method(Enum):\n",
    "    none = 0\n",
    "    pca_loading = 1\n",
    "    lda = 2\n",
    "    ipca = 3\n",
    "\n",
    "FEATURE_EXTRACTION = feature_extraction_method(1).name\n",
    "\n",
    "NUM_OF_BANDS = 3\n",
    "if FEATURE_EXTRACTION == \"pca_loading\" or FEATURE_EXTRACTION == \"ipca\":\n",
    "    NUM_OF_BANDS = 8\n",
    "elif FEATURE_EXTRACTION == \"lda\":\n",
    "    NUM_OF_BANDS = 3\n",
    "    assert NUM_OF_BANDS <= min(NUM_VARIETIES-1,168),\"NUM_OF_BANDS is greater.\"\n",
    "\n",
    "\n",
    "REMOVE_NOISY_BANDS = True\n",
    "FIRST_BAND = 15\n",
    "LAST_BAND = 161"
   ]
  },
  {
   "cell_type": "code",
   "execution_count": null,
   "id": "e61072a5",
   "metadata": {},
   "outputs": [],
   "source": [
    "def start_timer():\n",
    "    print(\"Testing started\")\n",
    "    return timeit.default_timer()\n",
    "\n",
    "def end_timer():\n",
    "    return timeit.default_timer()\n",
    "\n",
    "def show_time(tic,toc): \n",
    "    test_time = toc - tic\n",
    "    print('Testing time (s) = ' + str(test_time) + '\\n')"
   ]
  },
  {
   "cell_type": "code",
   "execution_count": null,
   "id": "e16e403c",
   "metadata": {},
   "outputs": [],
   "source": [
    "# List for All varieties\n",
    "VARIETIES = []\n",
    "VARIETIES_CODE = {}\n",
    "\n",
    "for name in os.listdir(DATA_DIRECTORY):\n",
    "    if (name.endswith(\".hdr\") or name.endswith(\".bil\")):\n",
    "        continue\n",
    "    VARIETIES_CODE[name] = len(VARIETIES)\n",
    "    VARIETIES.append(name)\n",
    "    if len(VARIETIES)==NUM_VARIETIES:\n",
    "        break"
   ]
  },
  {
   "cell_type": "code",
   "execution_count": null,
   "id": "72409e2c",
   "metadata": {},
   "outputs": [],
   "source": [
    "def dataset_file_name(variety):\n",
    "    name = \"./dataset/V\"+str(variety).zfill(3)+\"_IC_\"+str(TOTAL_IMAGE_COUNT).zfill(5)+\"_FilledArea_\"+str(FILLED_AREA_RATIO)+\"_NumOfBands_\"+str(NUM_OF_BANDS)+\"_FB_\"+str(FIRST_BAND)+\"_LB_\"+str(LAST_BAND)+\"_BandNo_\"+str(BAND_NUMBER)+\"_ImageHeight_\"+str(IMAGE_HEIGHT)+\"_ImageWidth_\"+str(IMAGE_WIDTH)+\"_FILTER_\"+str(FILTER)+\"_FeatureExtraction_\"+str(FEATURE_EXTRACTION)\n",
    "    if REMOVE_NOISY_BANDS:\n",
    "        name+=\"_REMOVE_NOISY_BANDS_\"+str(REMOVE_NOISY_BANDS)\n",
    "    if FILTER == \"savgol\":\n",
    "        name+=\"_WINDOW_\"+str(WINDOW)+\"_ORDER_\"+str(ORDER)\n",
    "    return name"
   ]
  },
  {
   "cell_type": "code",
   "execution_count": null,
   "id": "e74afa6d",
   "metadata": {},
   "outputs": [],
   "source": [
    "train_dataset = []\n",
    "train_dataset_label = []\n",
    "test_dataset=[]\n",
    "test_dataset_label = []\n",
    "\n",
    "for idx, v in enumerate(VARIETIES):\n",
    "    print(\"idx: \",idx)\n",
    "    if idx >= NUM_VARIETIES:\n",
    "        break\n",
    "    train_dataset= train_dataset + np.load(dataset_file_name(v)+\"_train_dataset.npy\").tolist()\n",
    "    train_dataset_label = train_dataset_label + np.load(dataset_file_name(v)+\"_train_dataset_label.npy\").tolist()\n",
    "    test_dataset = test_dataset + np.load(dataset_file_name(v)+\"_test_dataset.npy\").tolist()\n",
    "    test_dataset_label = test_dataset_label + np.load(dataset_file_name(v)+\"_test_dataset_label.npy\").tolist()\n",
    "    \n",
    "train_dataset = np.array(train_dataset)\n",
    "train_dataset_label = np.array(train_dataset_label)\n",
    "test_dataset = np.array(test_dataset)\n",
    "test_dataset_label = np.array(test_dataset_label)"
   ]
  },
  {
   "cell_type": "code",
   "execution_count": null,
   "id": "8932abae",
   "metadata": {},
   "outputs": [],
   "source": [
    "from keras.models import Model\n",
    "from keras.layers import Conv2D , MaxPool2D , Input , GlobalAveragePooling2D ,AveragePooling2D, Dense , Dropout ,Activation, Flatten , BatchNormalization\n",
    "from keras.optimizers import Adam\n",
    "from tensorflow.keras import losses,layers"
   ]
  },
  {
   "cell_type": "code",
   "execution_count": null,
   "id": "d48cd5d7",
   "metadata": {},
   "outputs": [],
   "source": [
    "def normalizeDataWholeSeed(data,normalization_type='max'):\n",
    "    \n",
    "    if normalization_type == 'max':\n",
    "        for idx in range(data.shape[0]):\n",
    "            data[idx,:,:,:] = data[idx,:,:,:]/np.max(abs(data[idx,:,:,:]))\n",
    "            \n",
    "    elif normalization_type == 'l2norm':\n",
    "        from numpy import linalg as LA\n",
    "        for idx in range(data.shape[0]):\n",
    "            data[idx,:,:,:] = data[idx,:,:,:]/LA.norm(data[idx,:,:,:])       \n",
    "        \n",
    "    return data"
   ]
  },
  {
   "cell_type": "code",
   "execution_count": null,
   "id": "121b238a",
   "metadata": {},
   "outputs": [],
   "source": [
    "def ConvBatchNormalisation(prev_layer , nbr_kernels , filter_Size , strides =(1,1) , padding = 'same',activation_type='relu'):\n",
    "    x = Conv2D(filters=nbr_kernels, kernel_size = filter_Size, strides=strides , padding=padding)(prev_layer)\n",
    "    x = BatchNormalization(axis=3)(x)\n",
    "    x = Activation(activation=activation_type)(x)\n",
    "    return x"
   ]
  },
  {
   "cell_type": "code",
   "execution_count": null,
   "id": "72bd7a42",
   "metadata": {},
   "outputs": [],
   "source": [
    "def StemBlock(prev_layer):\n",
    "    x = ConvBatchNormalisation(prev_layer, nbr_kernels = 32, filter_Size=(3,3) , strides=(2,2))\n",
    "    x = ConvBatchNormalisation(x, nbr_kernels = 32, filter_Size=(3,3))\n",
    "    x = ConvBatchNormalisation(x, nbr_kernels = 64, filter_Size=(3,3))\n",
    "    x = MaxPool2D(pool_size=(3,3) , strides=(2,2)) (x)\n",
    "    x = ConvBatchNormalisation(x, nbr_kernels = 80, filter_Size=(1,1))\n",
    "    x = ConvBatchNormalisation(x, nbr_kernels = 192, filter_Size=(3,3))\n",
    "    x = MaxPool2D(pool_size=(3,3) , strides=(2,2)) (x)\n",
    "    \n",
    "    return x  "
   ]
  },
  {
   "cell_type": "code",
   "execution_count": null,
   "id": "f05cc148",
   "metadata": {},
   "outputs": [],
   "source": [
    "def InceptionBlock_A(prev_layer  , nbr_kernels):\n",
    "    \n",
    "    branch1 = ConvBatchNormalisation(prev_layer, nbr_kernels = 64, filter_Size = (1,1))\n",
    "    branch1 = ConvBatchNormalisation(branch1, nbr_kernels=96, filter_Size=(3,3))\n",
    "    branch1 = ConvBatchNormalisation(branch1, nbr_kernels=96, filter_Size=(3,3))\n",
    "    \n",
    "    branch2 = ConvBatchNormalisation(prev_layer, nbr_kernels=48, filter_Size=(1,1))\n",
    "    branch2 = ConvBatchNormalisation(branch2, nbr_kernels=64, filter_Size=(3,3)) # may be 3*3\n",
    "    \n",
    "    branch3 = AveragePooling2D(pool_size=(3,3) , strides=(1,1) , padding='same') (prev_layer)\n",
    "    branch3 = ConvBatchNormalisation(branch3, nbr_kernels = nbr_kernels, filter_Size = (1,1))\n",
    "    \n",
    "    branch4 = ConvBatchNormalisation(prev_layer, nbr_kernels=64, filter_Size=(1,1))\n",
    "    \n",
    "    output = tf.concat([branch1 , branch2 , branch3 , branch4], axis=3)\n",
    "    \n",
    "    return output"
   ]
  },
  {
   "cell_type": "code",
   "execution_count": null,
   "id": "7674e84f",
   "metadata": {},
   "outputs": [],
   "source": [
    "def InceptionBlock_B(prev_layer , nbr_kernels):\n",
    "    \n",
    "    branch1 = ConvBatchNormalisation(prev_layer, nbr_kernels = nbr_kernels, filter_Size = (1,1))\n",
    "    branch1 = ConvBatchNormalisation(branch1, nbr_kernels = nbr_kernels, filter_Size = (7,1))\n",
    "    branch1 = ConvBatchNormalisation(branch1, nbr_kernels = nbr_kernels, filter_Size = (1,7))\n",
    "    branch1 = ConvBatchNormalisation(branch1, nbr_kernels = nbr_kernels, filter_Size = (7,1))    \n",
    "    branch1 = ConvBatchNormalisation(branch1, nbr_kernels = 192, filter_Size = (1,7))\n",
    "    \n",
    "    branch2 = ConvBatchNormalisation(prev_layer, nbr_kernels = nbr_kernels, filter_Size = (1,1))\n",
    "    branch2 = ConvBatchNormalisation(branch2, nbr_kernels = nbr_kernels, filter_Size = (1,7))\n",
    "    branch2 = ConvBatchNormalisation(branch2, nbr_kernels = 192, filter_Size = (7,1))\n",
    "    \n",
    "    branch3 = AveragePooling2D(pool_size=(3,3) , strides=(1,1) , padding ='same') (prev_layer)\n",
    "    branch3 = ConvBatchNormalisation(branch3, nbr_kernels = 192, filter_Size = (1,1))\n",
    "    \n",
    "    branch4 = ConvBatchNormalisation(prev_layer, nbr_kernels = 192, filter_Size = (1,1))\n",
    "    \n",
    "    output = tf.concat([branch1 , branch2 , branch3 , branch4], axis = 3)\n",
    "    \n",
    "    return output  "
   ]
  },
  {
   "cell_type": "code",
   "execution_count": null,
   "id": "abb9a726",
   "metadata": {},
   "outputs": [],
   "source": [
    "def InceptionBlock_C(prev_layer):\n",
    "    \n",
    "    branch1 = ConvBatchNormalisation(prev_layer, nbr_kernels = 448, filter_Size = (1,1))\n",
    "    branch1 = ConvBatchNormalisation(branch1, nbr_kernels = 384, filter_Size = (3,3))\n",
    "    branch1_1 = ConvBatchNormalisation(branch1, nbr_kernels = 384, filter_Size = (1,3))    \n",
    "    branch1_2 = ConvBatchNormalisation(branch1, nbr_kernels = 384, filter_Size = (3,1))\n",
    "    branch1 = tf.concat([branch1_1 , branch1_2], axis = 3)\n",
    "    \n",
    "    branch2 = ConvBatchNormalisation(prev_layer, nbr_kernels = 384, filter_Size = (1,1))\n",
    "    branch2_1 = ConvBatchNormalisation(branch2, nbr_kernels = 384, filter_Size = (1,3))\n",
    "    branch2_2 = ConvBatchNormalisation(branch2, nbr_kernels = 384, filter_Size = (3,1))\n",
    "    branch2 = tf.concat([branch2_1 , branch2_2], axis = 3)\n",
    "    \n",
    "    branch3 = AveragePooling2D(pool_size=(3,3) , strides=(1,1) , padding='same')(prev_layer)\n",
    "    branch3 = ConvBatchNormalisation(branch3, nbr_kernels = 192, filter_Size = (1,1))\n",
    "    \n",
    "    branch4 = ConvBatchNormalisation(prev_layer, nbr_kernels = 320, filter_Size = (1,1))\n",
    "    \n",
    "    output = tf.concat([branch1 , branch2 , branch3 , branch4], axis = 3)\n",
    "    \n",
    "    return output"
   ]
  },
  {
   "cell_type": "code",
   "execution_count": null,
   "id": "c3e9fc55",
   "metadata": {},
   "outputs": [],
   "source": [
    "def ReductionBlock_A(prev_layer):\n",
    "    \n",
    "    branch1 = ConvBatchNormalisation(prev_layer, nbr_kernels = 64, filter_Size = (1,1))\n",
    "    branch1 = ConvBatchNormalisation(branch1, nbr_kernels = 96, filter_Size = (3,3))\n",
    "    branch1 = ConvBatchNormalisation(branch1, nbr_kernels = 96, filter_Size = (3,3) , strides=(2,2) ) #, padding='valid'\n",
    "    \n",
    "    branch2 = ConvBatchNormalisation(prev_layer, nbr_kernels = 384, filter_Size=(3,3) , strides=(2,2) )\n",
    "    \n",
    "    branch3 = MaxPool2D(pool_size=(3,3) , strides=(2,2) , padding='same')(prev_layer)\n",
    "    \n",
    "    output = tf.concat([branch1 , branch2 , branch3], axis = 3)\n",
    "    \n",
    "    return output"
   ]
  },
  {
   "cell_type": "code",
   "execution_count": null,
   "id": "f4372e89",
   "metadata": {},
   "outputs": [],
   "source": [
    "def ReductionBlock_B(prev_layer):\n",
    "    \n",
    "    branch1 = ConvBatchNormalisation(prev_layer, nbr_kernels = 192, filter_Size = (1,1))\n",
    "    branch1 = ConvBatchNormalisation(branch1, nbr_kernels = 192, filter_Size = (1,7))\n",
    "    branch1 = ConvBatchNormalisation(branch1, nbr_kernels = 192, filter_Size = (7,1))\n",
    "    branch1 = ConvBatchNormalisation(branch1, nbr_kernels = 192, filter_Size = (3,3) , strides=(2,2) , padding = 'valid')\n",
    "    \n",
    "    branch2 = ConvBatchNormalisation(prev_layer, nbr_kernels = 192, filter_Size = (1,1) )\n",
    "    branch2 = ConvBatchNormalisation(branch2, nbr_kernels = 320, filter_Size = (3,3) , strides=(2,2) , padding='valid' )\n",
    "\n",
    "    branch3 = MaxPool2D(pool_size=(3,3) , strides=(2,2) )(prev_layer)\n",
    "    \n",
    "    output = tf.concat([branch1 , branch2 , branch3], axis = 3)\n",
    "    \n",
    "    return output"
   ]
  },
  {
   "cell_type": "code",
   "execution_count": null,
   "id": "55a045cf",
   "metadata": {},
   "outputs": [],
   "source": [
    "def auxiliary_classifier(prev_Layer,num_classes):\n",
    "    x = AveragePooling2D(pool_size=(5,5) , strides=(3,3)) (prev_Layer)\n",
    "    x = ConvBatchNormalisation(x, nbr_kernels = 128, filter_Size = (1,1))\n",
    "    x = Flatten()(x)\n",
    "    x = Dense(units = 768, activation='relu') (x)\n",
    "    x = Dropout(rate = 0.2) (x)\n",
    "    x = Dense(units = 1000, activation='softmax') (x)\n",
    "    my_out = Dense(num_classes, activation='softmax')(x)\n",
    "    return my_out"
   ]
  },
  {
   "cell_type": "code",
   "execution_count": null,
   "id": "fc8addf8",
   "metadata": {},
   "outputs": [],
   "source": [
    "def InceptionV3(data_num_rows, data_num_cols, num_input_chans=1, num_classes=NUM_VARIETIES, activation_type='relu', dropout_rate=0.2):\n",
    "    \n",
    "    input_layer = Input(shape=(data_num_rows, data_num_cols, num_input_chans))\n",
    "    input_tensor = layers.experimental.preprocessing.Resizing(299, 299, interpolation=\"bilinear\", input_shape=train_dataset.shape[1:])(input_layer)\n",
    "\n",
    "    x = StemBlock(input_tensor)\n",
    "    \n",
    "    x = InceptionBlock_A(prev_layer = x ,nbr_kernels = 32)\n",
    "    x = InceptionBlock_A(prev_layer = x ,nbr_kernels = 64)\n",
    "    x = InceptionBlock_A(prev_layer = x ,nbr_kernels = 64)\n",
    "    \n",
    "    x = ReductionBlock_A(prev_layer = x )\n",
    "    \n",
    "    x = InceptionBlock_B(prev_layer = x  , nbr_kernels = 128)\n",
    "    x = InceptionBlock_B(prev_layer = x , nbr_kernels = 160)\n",
    "    x = InceptionBlock_B(prev_layer = x , nbr_kernels = 160)\n",
    "    x = InceptionBlock_B(prev_layer = x , nbr_kernels = 192)\n",
    "    \n",
    "    Aux = auxiliary_classifier(prev_Layer = x,num_classes=num_classes)\n",
    "    \n",
    "    x = ReductionBlock_B(prev_layer = x)\n",
    "    \n",
    "    x = InceptionBlock_C(prev_layer = x)\n",
    "    x = InceptionBlock_C(prev_layer = x)\n",
    "    \n",
    "    x = GlobalAveragePooling2D()(x)\n",
    "    x = Dense(units=2048, activation='relu') (x)\n",
    "    x = Dropout(rate = dropout_rate) (x)\n",
    "    x = Dense(units=1000, activation='softmax') (x)\n",
    "    out = Dense(num_classes, activation='softmax')(x)\n",
    "    \n",
    "    model = Model(inputs = input_layer , outputs = [out , Aux])\n",
    "    \n",
    "    return model"
   ]
  },
  {
   "cell_type": "code",
   "execution_count": null,
   "id": "e3528776",
   "metadata": {},
   "outputs": [],
   "source": [
    "def getInceptionV3():\n",
    "    learning_rate_base = LEARNING_RATE_BASE\n",
    "    activation_type = ACTIVATION_TYPE\n",
    "    wheat_types =  VARIETIES\n",
    "    num_classes = len(wheat_types)\n",
    "    dropout_rate = 0.2\n",
    "    print(\"--------------Load Data--------------\")\n",
    "\n",
    "    x_training = np.array(train_dataset)\n",
    "    labels_training = np.array(train_dataset_label)\n",
    "    \n",
    "    # Normalize the data\n",
    "    x_training = normalizeDataWholeSeed(x_training)\n",
    "    \n",
    "    # Extract some information\n",
    "    num_train = x_training.shape[0]\n",
    "    N_spatial = x_training.shape[1:3]\n",
    "    N_channel = x_training.shape[3]\n",
    "    \n",
    "    print(\"--------------Done--------------\")\n",
    "    \n",
    "    ############ Create a model ############\n",
    "    print(\"--------------Create a model--------------\")\n",
    "    \n",
    "    # Generate a model\n",
    "    model = InceptionV3(data_num_rows = N_spatial[0], \n",
    "                           data_num_cols = N_spatial[1],\n",
    "                           num_input_chans = N_channel, \n",
    "                           num_classes = num_classes,\n",
    "                           activation_type = activation_type,\n",
    "                           dropout_rate = dropout_rate)\n",
    "\n",
    "    # Compile the model\n",
    "    adam_opt = Adam(learning_rate=LEARNING_RATE_BASE, beta_1=0.9, beta_2=0.999, epsilon=1e-08, decay=0.01)\n",
    "    model.compile(optimizer=adam_opt, loss=[losses.sparse_categorical_crossentropy,losses.sparse_categorical_crossentropy],loss_weights=[1, 0.3],metrics=['accuracy'])\n",
    "    print(\"---------Completed---------\")\n",
    "    return model"
   ]
  },
  {
   "cell_type": "code",
   "execution_count": null,
   "id": "9df49795",
   "metadata": {},
   "outputs": [],
   "source": [
    "model = getInceptionV3()"
   ]
  },
  {
   "cell_type": "code",
   "execution_count": null,
   "id": "5df8cc77",
   "metadata": {},
   "outputs": [],
   "source": [
    "x_train = []\n",
    "y_train = []\n",
    "x_val = []\n",
    "y_val = []\n",
    "\n",
    "for i in range(len(train_dataset)):\n",
    "    if i%5==0:\n",
    "        x_val.append(train_dataset[i])\n",
    "        y_val.append(train_dataset_label[i])\n",
    "    else:\n",
    "        x_train.append(train_dataset[i])\n",
    "        y_train.append(train_dataset_label[i])\n",
    "        \n",
    "x_train = np.array(x_train)\n",
    "y_train = np.array(y_train)\n",
    "y_train = [y_train,y_train]\n",
    "\n",
    "x_val = np.array(x_val)\n",
    "y_val = np.array(y_val)\n",
    "y_val = [y_val,y_val]"
   ]
  },
  {
   "cell_type": "code",
   "execution_count": null,
   "id": "b89c2d88",
   "metadata": {},
   "outputs": [],
   "source": [
    "model.summary()"
   ]
  },
  {
   "cell_type": "code",
   "execution_count": null,
   "id": "8aa727e4",
   "metadata": {},
   "outputs": [],
   "source": [
    "for x in range(1):\n",
    "    print(\"From epochs: \",20*x+1,\" to \",20+20*x)\n",
    "    tic = start_timer()\n",
    "    model.fit(x_train ,y_train ,batch_size=BATCH_SIZE ,epochs=20, verbose=2, validation_data=(x_val, y_val), shuffle=True)\n",
    "    toc = end_timer()\n",
    "    show_time(tic,toc)\n",
    "    print(\"for testing\")\n",
    "    print(model.evaluate(test_dataset,test_dataset_label))\n",
    "    print(\"for training\")\n",
    "    print(model.evaluate(train_dataset,train_dataset_label))"
   ]
  },
  {
   "cell_type": "code",
   "execution_count": null,
   "id": "d24ee941",
   "metadata": {},
   "outputs": [],
   "source": []
  }
 ],
 "metadata": {
  "kernelspec": {
   "display_name": "Python 3 (ipykernel)",
   "language": "python",
   "name": "python3"
  },
  "language_info": {
   "codemirror_mode": {
    "name": "ipython",
    "version": 3
   },
   "file_extension": ".py",
   "mimetype": "text/x-python",
   "name": "python",
   "nbconvert_exporter": "python",
   "pygments_lexer": "ipython3",
   "version": "3.10.7"
  }
 },
 "nbformat": 4,
 "nbformat_minor": 5
}
